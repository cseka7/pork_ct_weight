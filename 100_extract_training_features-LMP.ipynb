{
 "cells": [
  {
   "cell_type": "markdown",
   "metadata": {},
   "source": [
    "# Segmentation by registration and feature extraction"
   ]
  },
  {
   "cell_type": "code",
   "execution_count": 1,
   "metadata": {},
   "outputs": [
    {
     "name": "stdout",
     "output_type": "stream",
     "text": [
      "Executables being used: /opt/elastix-5.1.0-linux/bin/elastix /opt/elastix-5.1.0-linux/bin/transformix\n"
     ]
    }
   ],
   "source": [
    "import glob\n",
    "import os\n",
    "import os.path\n",
    "import numpy as np\n",
    "import pandas as pd\n",
    "import maweight\n",
    "import pickle\n",
    "import logging\n",
    "import tqdm\n",
    "from tqdm.contrib import tzip\n",
    "\n",
    "from config import lmp_features_path, files_for_lmp_path\n",
    "from config import bin_width, bin_min, bin_max, threshold\n",
    "\n",
    "import warnings\n",
    "warnings.filterwarnings('ignore')\n",
    "\n",
    "\n",
    "# setting the logging format\n",
    "FORMAT = '%(asctime)-15s %(clientip)s %(user)-8s %(message)s'\n",
    "logging.basicConfig(format=FORMAT, level=logging.INFO)"
   ]
  },
  {
   "cell_type": "code",
   "execution_count": 2,
   "metadata": {},
   "outputs": [],
   "source": [
    "#delete all '_' character from filenames\n",
    "def rename_files(files):\n",
    "    new_files = [os.path.join(os.path.dirname(file), os.path.basename(file).replace(\"_\", \"\")) for file in files]\n",
    "    [os.rename(rfiles[0], rfiles[1]) for rfiles in zip(files, new_files)]\n",
    "    return new_files"
   ]
  },
  {
   "cell_type": "markdown",
   "metadata": {},
   "source": [
    "## Discovering files to process"
   ]
  },
  {
   "cell_type": "code",
   "execution_count": 3,
   "metadata": {},
   "outputs": [
    {
     "name": "stdout",
     "output_type": "stream",
     "text": [
      "Number of dissected images: 48\n",
      "Number of masks: 48\n"
     ]
    }
   ],
   "source": [
    "images = []\n",
    "images = glob.glob(os.path.join(files_for_lmp_path, '*.nii'))\n",
    "images += glob.glob(os.path.join(files_for_lmp_path, '*.nii.gz'))\n",
    "\n",
    "dissected_images= [f for f in images if '-label' not in f]\n",
    "dissected_images = sorted(dissected_images)\n",
    "\n",
    "labeled_images= [f for f in images if '-shank-label' in f]\n",
    "labeled_images = sorted(labeled_images)\n",
    "\n",
    "dissected_images = rename_files(dissected_images)\n",
    "labeled_images = rename_files(labeled_images)\n",
    "print(f\"Number of dissected images: {len(dissected_images)}\")\n",
    "print(f\"Number of masks: {len(labeled_images)}\")"
   ]
  },
  {
   "cell_type": "markdown",
   "metadata": {},
   "source": [
    "## Extracting the features"
   ]
  },
  {
   "cell_type": "code",
   "execution_count": 4,
   "metadata": {},
   "outputs": [],
   "source": [
    "def extract_features(dissected_images, manually_segmented_targets, bin_min, bin_max, bin_width):\n",
    "    dataframes= []\n",
    "    \n",
    "    #for d, m in tzip(dissected_images, manually_segmented_targets):\n",
    "        #print(f'processing:  {d}, {m}')\n",
    "    #for d in tqdm.tqdm(dissected_images):\n",
    "    for d, m in tzip(dissected_images, manually_segmented_targets):\n",
    "        #print('processing: %s' % d)\n",
    "        \n",
    "        fitted_masks= [m]\n",
    "        \n",
    "        labels= [\"\"]\n",
    "\n",
    "        dataframes.append(maweight.extract_features_3d(d, fitted_masks, labels, bins=list(range(bin_min, bin_max+1, bin_width)), thresholds=[threshold]))\n",
    "    dataframes= pd.concat(dataframes, axis=0, ignore_index=True)\n",
    "    filenames = [os.path.basename(d).split('.')[0] for d in dissected_images]\n",
    "    dataframes['id']= filenames\n",
    "    \n",
    "    \n",
    "    return dataframes"
   ]
  },
  {
   "cell_type": "code",
   "execution_count": 5,
   "metadata": {},
   "outputs": [
    {
     "data": {
      "application/vnd.jupyter.widget-view+json": {
       "model_id": "929672f081554afe99db659daf399628",
       "version_major": 2,
       "version_minor": 0
      },
      "text/plain": [
       "HBox(children=(FloatProgress(value=0.0, max=48.0), HTML(value='')))"
      ]
     },
     "metadata": {},
     "output_type": "display_data"
    },
    {
     "name": "stdout",
     "output_type": "stream",
     "text": [
      "\n"
     ]
    }
   ],
   "source": [
    "lmp_features= extract_features(dissected_images, labeled_images, bin_min, bin_max, bin_width)\n",
    "lmp_features = lmp_features.drop(lmp_features.filter(regex='mask').columns, axis=1)\n",
    "lmp_features.to_csv(lmp_features_path, index=False)"
   ]
  },
  {
   "cell_type": "code",
   "execution_count": 6,
   "metadata": {},
   "outputs": [],
   "source": [
    "lmp_features = lmp_features.drop(lmp_features.filter(regex='mask').columns, axis=1)\n",
    "lmp_features.to_csv(lmp_features_path, index=False)"
   ]
  },
  {
   "cell_type": "code",
   "execution_count": null,
   "metadata": {},
   "outputs": [],
   "source": []
  },
  {
   "cell_type": "code",
   "execution_count": null,
   "metadata": {},
   "outputs": [],
   "source": []
  },
  {
   "cell_type": "code",
   "execution_count": null,
   "metadata": {},
   "outputs": [],
   "source": []
  },
  {
   "cell_type": "code",
   "execution_count": null,
   "metadata": {},
   "outputs": [],
   "source": []
  },
  {
   "cell_type": "code",
   "execution_count": null,
   "metadata": {},
   "outputs": [],
   "source": []
  },
  {
   "cell_type": "code",
   "execution_count": null,
   "metadata": {},
   "outputs": [],
   "source": []
  },
  {
   "cell_type": "code",
   "execution_count": null,
   "metadata": {},
   "outputs": [],
   "source": []
  },
  {
   "cell_type": "code",
   "execution_count": null,
   "metadata": {},
   "outputs": [],
   "source": []
  },
  {
   "cell_type": "code",
   "execution_count": null,
   "metadata": {},
   "outputs": [],
   "source": []
  }
 ],
 "metadata": {
  "kernelspec": {
   "display_name": "Python 3 (ipykernel)",
   "language": "python",
   "name": "python3"
  },
  "language_info": {
   "codemirror_mode": {
    "name": "ipython",
    "version": 3
   },
   "file_extension": ".py",
   "mimetype": "text/x-python",
   "name": "python",
   "nbconvert_exporter": "python",
   "pygments_lexer": "ipython3",
   "version": "3.7.16"
  }
 },
 "nbformat": 4,
 "nbformat_minor": 4
}
