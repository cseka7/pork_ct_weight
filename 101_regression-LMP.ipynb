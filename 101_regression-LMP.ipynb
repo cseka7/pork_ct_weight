{
 "cells": [
  {
   "cell_type": "markdown",
   "metadata": {},
   "source": [
    "# Segmentation by registration and feature extraction"
   ]
  },
  {
   "cell_type": "code",
   "execution_count": 1,
   "metadata": {},
   "outputs": [
    {
     "name": "stdout",
     "output_type": "stream",
     "text": [
      "Executables being used: D:\\github\\elastix-5.1.0-win64\\elastix.exe D:\\github\\elastix-5.1.0-win64\\transformix.exe\n"
     ]
    }
   ],
   "source": [
    "import glob\n",
    "import os\n",
    "import os.path\n",
    "import numpy as np\n",
    "import pandas as pd\n",
    "import maweight\n",
    "from maweight import model_selection\n",
    "from maweight.mltoolkit.automl import *\n",
    "import pickle\n",
    "import logging\n",
    "import tqdm\n",
    "from tqdm.contrib import tzip\n",
    "from sklearn.linear_model import LinearRegression, Ridge, Lasso\n",
    "from sklearn.cross_decomposition import PLSRegression\n",
    "from sklearn.metrics import r2_score\n",
    "from sklearn.metrics import mean_squared_error\n",
    "from sklearn.model_selection import cross_val_predict\n",
    "from sklearn.model_selection import LeaveOneOut\n",
    "from sklearn.model_selection import cross_val_score\n",
    "import math\n",
    "import matplotlib.pyplot as plt\n",
    "\n",
    "cv = LeaveOneOut()\n",
    "\n",
    "from numpy import mean\n",
    "from numpy import absolute\n",
    "from numpy import sqrt\n",
    "\n",
    "from config import lmp_features_path, files_for_lmp_path, path_prefix_results\n",
    "\n",
    "import warnings\n",
    "warnings.filterwarnings('ignore')\n",
    "\n",
    "\n",
    "# setting the logging format\n",
    "FORMAT = '%(asctime)-15s %(clientip)s %(user)-8s %(message)s'\n",
    "logging.basicConfig(format=FORMAT, level=logging.INFO)"
   ]
  },
  {
   "cell_type": "markdown",
   "metadata": {},
   "source": [
    "## import data as dataframe"
   ]
  },
  {
   "cell_type": "code",
   "execution_count": 2,
   "metadata": {},
   "outputs": [
    {
     "name": "stdout",
     "output_type": "stream",
     "text": [
      "24\n"
     ]
    }
   ],
   "source": [
    "data = pd.read_csv(lmp_features_path).dropna()\n",
    "print(len(data))\n",
    "not_targets = [\"LMP\", \"id\"]\n",
    "target = data[\"LMP\"].astype(float)\n",
    "features = data.drop(not_targets, axis='columns').astype(float)\n"
   ]
  },
  {
   "cell_type": "markdown",
   "metadata": {},
   "source": [
    "## Regression"
   ]
  },
  {
   "cell_type": "code",
   "execution_count": 3,
   "metadata": {},
   "outputs": [],
   "source": [
    "def LOOCV(model, X, y):\n",
    "    loo = LeaveOneOut()\n",
    "    ypreds = []\n",
    "    for i, (train_index, test_index) in enumerate(loo.split(X)):\n",
    "        X_train = X.iloc[train_index]\n",
    "        X_test = X.iloc[test_index]\n",
    "        y_train = y.iloc[train_index]\n",
    "        y_test = y.iloc[test_index]\n",
    "        model.fit(X_train, y_train)\n",
    "        ypreds.append(model.predict(X_test))\n",
    "    rr = r2_score(y, ypreds)\n",
    "    mse = mean_squared_error(y, ypreds)\n",
    "    rmse = math.sqrt(mse)\n",
    "    return(rr, rmse)"
   ]
  },
  {
   "cell_type": "markdown",
   "metadata": {},
   "source": [
    "## LinearRegression"
   ]
  },
  {
   "cell_type": "code",
   "execution_count": 4,
   "metadata": {},
   "outputs": [
    {
     "name": "stdout",
     "output_type": "stream",
     "text": [
      "LR score: 1.0\n",
      "LR coef: [-7.02437917e-06  1.54002296e-08  6.15062138e-08 -2.33970268e-07\n",
      "  2.45936816e-08  2.38189286e-07  1.40727424e-05 -1.45553569e-06\n",
      "  2.66114306e-05  3.23845910e-05  3.59542687e-05  3.95728546e-05\n",
      "  2.17650101e-05 -5.26206935e-06  3.89275150e-06 -4.28719374e-05\n",
      " -1.14699164e-04 -1.35265816e-05  2.43200581e-05 -3.17841772e-06\n",
      "  9.35540284e-06 -1.34616850e-05  6.31515575e-05 -6.92909809e-05\n",
      "  4.64978562e-05 -6.86977815e-05  9.85549425e-06  4.58921253e-05\n",
      "  8.34827841e-05 -2.85125666e-07 -1.24183325e-05  9.98447425e-06\n",
      "  1.04897841e-05  8.57695894e-06  4.22353641e-06 -2.88989230e-05\n",
      "  3.11731492e-05 -8.80030196e-05  5.48858890e-05  1.98954784e-05\n",
      "  2.81372491e-05 -9.34965720e-05 -1.43332329e-04 -4.24233734e-05\n",
      "  8.13516789e-05  7.60317189e-05]\n",
      "LR inter: 49.79438742337905\n",
      "5-fold cv r2: 0.8210168680186009\n",
      "5-fold cv rmse: 1.1560008725379076\n",
      "loocv r2: 0.9039088806881591\n",
      "loocv rmse: 0.9222596910175848\n"
     ]
    },
    {
     "data": {
      "image/png": "[encoded data removed]",
      "text/plain": [
       "<Figure size 640x480 with 1 Axes>"
      ]
     },
     "metadata": {},
     "output_type": "display_data"
    }
   ],
   "source": [
    "reg = LinearRegression().fit(features, target)\n",
    "linear_score = reg.score(features, target)\n",
    "linear_coef = reg.coef_\n",
    "linear_inter = reg.intercept_\n",
    "print(f\"LR score: {linear_score}\")\n",
    "print(f\"LR coef: {linear_coef}\")\n",
    "print(f\"LR inter: {linear_inter}\")\n",
    "target_pred = reg.predict(features)\n",
    "#target_pred = cross_val_predict(reg, features, target)\n",
    "mse = mean_squared_error(target, target_pred)\n",
    "linear_rmse = math.sqrt(mse)\n",
    "\n",
    "model = LinearRegression()\n",
    "nmse = cross_val_score(model, features, target, scoring='neg_mean_squared_error')\n",
    "linear_cv_rmse = sqrt(mean(absolute(nmse)))\n",
    "scores = cross_val_score(model, features, target, scoring='r2')\n",
    "linear_cv_r2 = mean(scores)\n",
    "#print(f\"RMSE: {rmse}\")\n",
    "#r2 = r2_score(target, target_pred)\n",
    "print(f\"5-fold cv r2: {linear_cv_r2}\")\n",
    "print(f\"5-fold cv rmse: {linear_cv_rmse}\")\n",
    "\n",
    "#loocv:\n",
    "linear_loocv_r2, linear_loocv_rmse = LOOCV(model, features, target)\n",
    "print(f\"loocv r2: {linear_loocv_r2}\")\n",
    "print(f\"loocv rmse: {linear_loocv_rmse}\")\n",
    "\n",
    "# plot\n",
    "plt.clf()\n",
    "plt.title(\"Linear Regression\")\n",
    "plt.plot(target, target_pred, 'o')\n",
    "plt.xlabel('LMP')\n",
    "plt.ylabel('predicted LMP')\n",
    "m, b = np.polyfit(target, target_pred, 1)\n",
    "plt.plot(target, m*target+b, linewidth=0.2)\n",
    "plt.savefig(os.path.join(path_prefix_results, 'linear_lmp.jpg'))"
   ]
  },
  {
   "cell_type": "markdown",
   "metadata": {},
   "source": [
    "### Ridge regularization"
   ]
  },
  {
   "cell_type": "code",
   "execution_count": 5,
   "metadata": {},
   "outputs": [],
   "source": [
    "def regularization_ridge(features, target, alphas):\n",
    "\n",
    "    rmse_return = None\n",
    "    reg_return = None\n",
    "    alpha_return = None\n",
    "    r2_return = None\n",
    "    for alpha in alphas:\n",
    "        model = Ridge(alpha=alpha)\n",
    "        reg = Ridge(alpha=alpha).fit(features, target)\n",
    "        #target_pred = reg.predict(features)\n",
    "        #target_pred = cross_val_predict(reg, features, target)\n",
    "        #mse = mean_squared_error(target, target_pred)\n",
    "        #rmse = math.sqrt(mse)\n",
    "        #r2 = r2_score(target, target_pred)\n",
    "        nmse = cross_val_score(model, features, target, scoring='neg_mean_squared_error')\n",
    "        rmse = sqrt(mean(absolute(nmse)))\n",
    "        scores = cross_val_score(model, features, target, scoring='r2')\n",
    "        r2 = mean(scores)\n",
    "        print(f\"Ridge with alpha: {alpha}, r2: {r2}, rmse: {rmse}\")\n",
    "        if rmse_return:\n",
    "            if rmse<rmse_return:\n",
    "                rmse_return = rmse\n",
    "                reg_return = reg\n",
    "                alpha_return = alpha\n",
    "                r2_return = r2\n",
    "        else:\n",
    "            rmse_return = rmse\n",
    "            reg_return = reg\n",
    "            alpha_return = alpha\n",
    "            r2_return = r2\n",
    "    return reg_return, rmse_return, r2_return, alpha_return"
   ]
  },
  {
   "cell_type": "code",
   "execution_count": 6,
   "metadata": {},
   "outputs": [
    {
     "name": "stdout",
     "output_type": "stream",
     "text": [
      "Ridge with alpha: 5000000000.0, r2: 0.8538321394979966, rmse: 0.944439858380082\n",
      "Ridge with alpha: 3782316637.773145, r2: 0.8629259454262639, rmse: 0.9197151560832512\n",
      "Ridge with alpha: 2861183829.67511, r2: 0.8718454842912099, rmse: 0.8945601601094069\n",
      "Ridge with alpha: 2164380640.5415306, r2: 0.8801843656619761, rmse: 0.8705589657831495\n",
      "Ridge with alpha: 1637274581.438866, r2: 0.887581902549725, rmse: 0.8494821437893704\n",
      "Ridge with alpha: 1238538177.995857, r2: 0.8937437248699741, rmse: 0.8330611666698587\n",
      "Ridge with alpha: 936908711.4301934, r2: 0.8984284384572891, rmse: 0.8227828339668372\n",
      "Ridge with alpha: 708737081.4634038, r2: 0.9014267900876775, rmse: 0.8196976024169249\n",
      "Ridge with alpha: 536133611.00516266, r2: 0.902563795446284, rmse: 0.8242359759407224\n",
      "Ridge with alpha: 405565415.3948445, r2: 0.9017368041528762, rmse: 0.8360689277800628\n",
      "Ridge with alpha: 306795363.6706582, r2: 0.8989761770791178, rmse: 0.8540841033005739\n",
      "Ridge with alpha: 232079441.68063864, r2: 0.8944966199240836, rmse: 0.8765287701015284\n",
      "Ridge with alpha: 175559586.71075636, r2: 0.8887065066509129, rmse: 0.901299891401302\n",
      "Ridge with alpha: 132804389.1473342, r2: 0.8821591674130165, rmse: 0.926299138890066\n",
      "Ridge with alpha: 100461650.1282523, r2: 0.875455037995003, rmse: 0.949757971635405\n",
      "Ridge with alpha: 75995554.14764665, r2: 0.8691252477967298, rmse: 0.9704647525666359\n",
      "Ridge with alpha: 57487849.769886784, r2: 0.8635364826317053, rmse: 0.9878595804661132\n",
      "Ridge with alpha: 43487450.13088917, r2: 0.8588489267066446, rmse: 1.001990447025721\n",
      "Ridge with alpha: 32896661.232878413, r2: 0.8550361126873778, rmse: 1.0133536472845728\n",
      "Ridge with alpha: 24885117.82166057, r2: 0.8519488842349165, rmse: 1.0226738584815522\n",
      "Ridge with alpha: 18824679.033962358, r2: 0.8493909442210729, rmse: 1.0306964122996174\n",
      "Ridge with alpha: 14240179.342179025, r2: 0.8471772955820617, rmse: 1.0380499728869461\n",
      "Ridge with alpha: 10772173.450159412, r2: 0.8451634511455637, rmse: 1.0451968460443999\n",
      "Ridge with alpha: 8148754.173103217, r2: 0.8432496382110551, rmse: 1.0524475306981367\n",
      "Ridge with alpha: 6164233.69721033, r2: 0.8413722969027428, rmse: 1.0599976711760595\n",
      "Ridge with alpha: 4663016.734416099, r2: 0.8394943936538993, rmse: 1.0679530048999493\n",
      "Ridge with alpha: 3527401.1553593227, r2: 0.8376003396259014, rmse: 1.076330640153998\n",
      "Ridge with alpha: 2668349.615603151, r2: 0.8356950768577092, rmse: 1.085048131008843\n",
      "Ridge with alpha: 2018508.6292982749, r2: 0.8338033884974454, rmse: 1.0939220300529446\n",
      "Ridge with alpha: 1526927.7544167063, r2: 0.8319656125626953, rmse: 1.1026924540748766\n",
      "Ridge with alpha: 1155064.850041579, r2: 0.8302289949920025, rmse: 1.1110724050028666\n",
      "Ridge with alpha: 873764.2000038414, r2: 0.8286373166728671, rmse: 1.1188040836231277\n",
      "Ridge with alpha: 660970.5742330144, r2: 0.8272224304256095, rmse: 1.1257019780211261\n",
      "Ridge with alpha: 500000.0, r2: 0.8260001953224412, rmse: 1.1316709515412862\n",
      "Ridge with alpha: 378231.66377731453, r2: 0.8249709874749097, rmse: 1.1367002650959857\n",
      "Ridge with alpha: 286118.382967511, r2: 0.8241230055963022, rmse: 1.140843947514172\n",
      "Ridge with alpha: 216438.06405415307, r2: 0.8234369282688911, rmse: 1.1441954362517395\n",
      "Ridge with alpha: 163727.45814388624, r2: 0.8228899972098385, rmse: 1.1468660716682382\n",
      "Ridge with alpha: 123853.81779958545, r2: 0.8224591153769261, rmse: 1.1489691374342133\n",
      "Ridge with alpha: 93690.87114301915, r2: 0.822122789632509, rmse: 1.150610020053071\n",
      "Ridge with alpha: 70873.70814634024, r2: 0.8218622037109486, rmse: 1.1518809403338333\n",
      "Ridge with alpha: 53613.36110051616, r2: 0.8216614424987985, rmse: 1.1528598367450205\n",
      "Ridge with alpha: 40556.54153948436, r2: 0.8215074310635622, rmse: 1.1536105983326588\n",
      "Ridge with alpha: 30679.536367065877, r2: 0.821389658365236, rmse: 1.154184597918536\n",
      "Ridge with alpha: 23207.944168063863, r2: 0.821299863730729, rmse: 1.1546221750759669\n",
      "Ridge with alpha: 17555.958671075638, r2: 0.8212315315410332, rmse: 1.1549551390326074\n",
      "Ridge with alpha: 13280.43891473342, r2: 0.8211795577326602, rmse: 1.1552083645502453\n",
      "Ridge with alpha: 10046.16501282523, r2: 0.821140131009128, rmse: 1.1554004430346811\n",
      "Ridge with alpha: 7599.555414764665, r2: 0.821110219670864, rmse: 1.1555461695279436\n",
      "Ridge with alpha: 5748.784976988678, r2: 0.8210875446017483, rmse: 1.1556566193756752\n",
      "Ridge with alpha: 4348.745013088917, r2: 0.8210703778714601, rmse: 1.1557402332384814\n",
      "Ridge with alpha: 3289.6661232878414, r2: 0.8210573680248083, rmse: 1.1558036252568706\n",
      "Ridge with alpha: 2488.511782166057, r2: 0.8210475116133326, rmse: 1.1558516278496627\n",
      "Ridge with alpha: 1882.4679033962318, r2: 0.8210400501277585, rmse: 1.1558879755927216\n",
      "Ridge with alpha: 1424.0179342178994, r2: 0.8210344236151274, rmse: 1.1559153932529378\n",
      "Ridge with alpha: 1077.2173450159412, r2: 0.8210301472507269, rmse: 1.1559362154046477\n",
      "Ridge with alpha: 814.8754173103217, r2: 0.8210269160756394, rmse: 1.155951958457844\n",
      "Ridge with alpha: 616.4233697210329, r2: 0.8210244608550508, rmse: 1.1559639099867782\n",
      "Ridge with alpha: 466.30167344161, r2: 0.8210226144687663, rmse: 1.1559729080307894\n",
      "Ridge with alpha: 352.74011553593226, r2: 0.8210212225106481, rmse: 1.1559796900522985\n",
      "Ridge with alpha: 266.8349615603151, r2: 0.8210201701658868, rmse: 1.1559848161406376\n",
      "Ridge with alpha: 201.85086292982749, r2: 0.8210193619306734, rmse: 1.1559887509304259\n",
      "Ridge with alpha: 152.69277544167062, r2: 0.8210187606613493, rmse: 1.1559916729378283\n",
      "Ridge with alpha: 115.50648500415791, r2: 0.8210183076098165, rmse: 1.1559938741535538\n",
      "Ridge with alpha: 87.37642000038414, r2: 0.821017968251493, rmse: 1.1559955334959888\n",
      "Ridge with alpha: 66.09705742330144, r2: 0.8210176786478044, rmse: 1.155996949106297\n",
      "Ridge with alpha: 50.0, r2: 0.8210174772569735, rmse: 1.1559979199616461\n",
      "Ridge with alpha: 37.823166377731454, r2: 0.8210173416473827, rmse: 1.1559985962973303\n",
      "Ridge with alpha: 28.611838296751102, r2: 0.8210172182275277, rmse: 1.155999191840103\n",
      "Ridge with alpha: 21.643806405415308, r2: 0.8210171518597429, rmse: 1.1559995115001171\n",
      "Ridge with alpha: 16.372745814388658, r2: 0.821017090020753, rmse: 1.155999818239745\n",
      "Ridge with alpha: 12.38538177995857, r2: 0.8210170269512934, rmse: 1.1560001252327161\n",
      "Ridge with alpha: 9.369087114301934, r2: 0.8210169846930301, rmse: 1.1560003389955156\n",
      "Ridge with alpha: 7.087370814634009, r2: 0.8210169606552039, rmse: 1.1560004443966203\n",
      "Ridge with alpha: 5.361336110051605, r2: 0.8210169335481519, rmse: 1.1560005794934982\n",
      "Ridge with alpha: 4.055654153948428, r2: 0.8210169215771369, rmse: 1.1560006402203822\n",
      "Ridge with alpha: 3.0679536367065814, r2: 0.8210169054078073, rmse: 1.1560007257513931\n",
      "Ridge with alpha: 2.320794416806386, r2: 0.8210169044840707, rmse: 1.1560007173195557\n",
      "Ridge with alpha: 1.7555958671075638, r2: 0.8210168974036348, rmse: 1.1560007552410152\n",
      "Ridge with alpha: 1.328043891473342, r2: 0.8210168935998865, rmse: 1.1560007705386235\n",
      "Ridge with alpha: 1.004616501282523, r2: 0.8210168981392634, rmse: 1.156000755473094\n",
      "Ridge with alpha: 0.7599555414764666, r2: 0.8210168773555386, rmse: 1.156000851886402\n",
      "Ridge with alpha: 0.5748784976988678, r2: 0.8210168730774695, rmse: 1.1560008790601524\n",
      "Ridge with alpha: 0.4348745013088917, r2: 0.8210168742341596, rmse: 1.1560008625381406\n",
      "Ridge with alpha: 0.3289666123287841, r2: 0.8210168737619554, rmse: 1.15600087299011\n",
      "Ridge with alpha: 0.24885117821660568, r2: 0.8210168767372039, rmse: 1.156000860972698\n",
      "Ridge with alpha: 0.18824679033962358, r2: 0.8210168734267314, rmse: 1.156000880163025\n",
      "Ridge with alpha: 0.14240179342179024, r2: 0.8210168833157884, rmse: 1.1560008286590282\n",
      "Ridge with alpha: 0.10772173450159389, r2: 0.8210168822809308, rmse: 1.1560008431108784\n",
      "Ridge with alpha: 0.08148754173103201, r2: 0.8210168805376394, rmse: 1.1560008544454297\n",
      "Ridge with alpha: 0.06164233697210317, r2: 0.8210168749234995, rmse: 1.1560008611456014\n",
      "Ridge with alpha: 0.0466301673441609, r2: 0.8210168731234646, rmse: 1.1560008650232565\n",
      "Ridge with alpha: 0.03527401155359316, r2: 0.8210168711428099, rmse: 1.1560008746549006\n",
      "Ridge with alpha: 0.026683496156031508, r2: 0.8210168726871807, rmse: 1.1560008670251312\n",
      "Ridge with alpha: 0.020185086292982747, r2: 0.8210168744007016, rmse: 1.1560008567448614\n",
      "Ridge with alpha: 0.015269277544167062, r2: 0.8210168729259177, rmse: 1.156000865655279\n",
      "Ridge with alpha: 0.01155064850041579, r2: 0.8210168730788997, rmse: 1.1560008654696603\n",
      "Ridge with alpha: 0.008737642000038414, r2: 0.8210168731804119, rmse: 1.1560008649781597\n",
      "Ridge with alpha: 0.006609705742330144, r2: 0.8210168729093456, rmse: 1.1560008670228616\n",
      "Ridge with alpha: 0.005, r2: 0.8210168727048135, rmse: 1.156000868013162\n",
      "Ridge score: 0.9867122228507722\n",
      "Ridge coef: [-1.65880697e-06  8.32992259e-09 -2.12717589e-09 -6.56484033e-10\n",
      "  2.17745632e-10  2.18943805e-09  4.70124890e-07  2.29866959e-07\n",
      "  3.27649819e-07  4.14959185e-08  5.03146154e-07  3.17569837e-07\n",
      " -1.84015851e-07 -6.75237695e-07 -7.42138611e-07 -1.28900967e-06\n",
      " -7.59487014e-07  2.02920252e-06  1.29336493e-05 -9.33185214e-06\n",
      " -4.73191483e-07  3.57763891e-06  2.95434401e-06 -1.35253433e-05\n",
      " -1.90617765e-05 -1.40372508e-05 -2.39522982e-06  1.27982160e-05\n",
      "  3.06041738e-05  1.71113284e-05 -9.88053283e-06  1.08557928e-06\n",
      "  6.65013687e-06  2.95209327e-06 -7.99987873e-06 -1.04842797e-05\n",
      " -3.77059863e-06 -2.21896517e-06  1.02881042e-06  8.05806011e-07\n",
      " -2.48191326e-06 -7.04840113e-06 -4.76211181e-06 -9.07279650e-07\n",
      "  4.34035314e-07  8.95302931e-07]\n",
      "Ridge inter: 51.64437225230398\n",
      "alpha: 708737081.4634038\n",
      "5-fold cv r2: 0.9014267900876775\n",
      "5-fold cv rmse: 0.8196976024169249\n",
      "loocv r2: 0.9295750971051893\n",
      "loocv rmse: 0.7895410770167871\n"
     ]
    },
    {
     "data": {
      "image/png": "[encoded data removed]",
      "text/plain": [
       "<Figure size 640x480 with 1 Axes>"
      ]
     },
     "metadata": {},
     "output_type": "display_data"
    }
   ],
   "source": [
    "alphas = 10**np.linspace(10,-2,100)*0.5\n",
    "reg, ridge_cv_rmse, ridge_cv_r2, alpha = regularization_ridge(features, target, alphas)\n",
    "ridge_score = reg.score(features, target)\n",
    "ridge_coef = reg.coef_\n",
    "ridge_inter = reg.intercept_\n",
    "\n",
    "target_pred = reg.predict(features)\n",
    "#target_pred = cross_val_predict(reg, features, target)\n",
    "mse = mean_squared_error(target, target_pred)\n",
    "ridge_rmse = math.sqrt(mse)\n",
    "\n",
    "print(f\"Ridge score: {ridge_score}\")\n",
    "print(f\"Ridge coef: {ridge_coef}\")\n",
    "print(f\"Ridge inter: {ridge_inter}\")\n",
    "print(f\"alpha: {alpha}\")\n",
    "print(f\"5-fold cv r2: {ridge_cv_r2}\")\n",
    "print(f\"5-fold cv rmse: {ridge_cv_rmse}\")\n",
    "\n",
    "#loocv:\n",
    "model = Ridge(alpha=alpha)\n",
    "ridge_loocv_r2, ridge_loocv_rmse = LOOCV(model, features, target)\n",
    "print(f\"loocv r2: {ridge_loocv_r2}\")\n",
    "print(f\"loocv rmse: {ridge_loocv_rmse}\")\n",
    "\n",
    "plt.clf()\n",
    "plt.title(\"Ridge Regression\")\n",
    "plt.plot(target, target_pred, 'o')\n",
    "plt.xlabel('LMP')\n",
    "plt.ylabel('predicted LMP')\n",
    "m, b = np.polyfit(target, target_pred, 1)\n",
    "plt.plot(target, m*target+b, linewidth=0.2)\n",
    "plt.savefig(os.path.join(path_prefix_results, 'ridge_lmp.jpg'))"
   ]
  },
  {
   "cell_type": "markdown",
   "metadata": {},
   "source": [
    "### regularization of Lasso"
   ]
  },
  {
   "cell_type": "code",
   "execution_count": 7,
   "metadata": {},
   "outputs": [],
   "source": [
    "def regularization_lasso(features, target, alphas):\n",
    "    rmse_return = None\n",
    "    reg_return = None\n",
    "    alpha_return = None\n",
    "    r2_return = None\n",
    "    for alpha in alphas:\n",
    "        model = Lasso(alpha=alpha)\n",
    "        reg = Lasso(alpha=alpha).fit(features, target)\n",
    "        #target_pred = reg.predict(features)\n",
    "        #target_pred = cross_val_predict(reg, features, target)\n",
    "        #mse = mean_squared_error(target, target_pred)\n",
    "        #rmse = math.sqrt(mse)\n",
    "        #r2 = r2_score(target, target_pred)\n",
    "        nmse = cross_val_score(model, features, target, scoring='neg_mean_squared_error')\n",
    "        rmse = sqrt(mean(absolute(nmse)))\n",
    "        scores = cross_val_score(model, features, target)\n",
    "        r2 = mean(scores)\n",
    "        print(f\"Lasso with alpha: {alpha}, r2: {r2}, rmse: {rmse}\")\n",
    "        if rmse_return:\n",
    "            if rmse<rmse_return:\n",
    "                rmse_return = rmse\n",
    "                reg_return = reg\n",
    "                alpha_return = alpha\n",
    "                r2_return = r2\n",
    "        else:\n",
    "            rmse_return = rmse\n",
    "            reg_return = reg\n",
    "            alpha_return = alpha\n",
    "            r2_return = r2\n",
    "    return reg_return, rmse_return, r2_return, alpha_return"
   ]
  },
  {
   "cell_type": "code",
   "execution_count": 8,
   "metadata": {},
   "outputs": [
    {
     "name": "stdout",
     "output_type": "stream",
     "text": [
      "Lasso with alpha: 5000000000.0, r2: -0.42248018163111745, rmse: 3.1247328338094724\n",
      "Lasso with alpha: 3782316637.773145, r2: -0.42248018163111745, rmse: 3.1247328338094724\n",
      "Lasso with alpha: 2861183829.67511, r2: -0.42248018163111745, rmse: 3.1247328338094724\n",
      "Lasso with alpha: 2164380640.5415306, r2: -0.42248018163111745, rmse: 3.1247328338094724\n",
      "Lasso with alpha: 1637274581.438866, r2: -0.42248018163111745, rmse: 3.1247328338094724\n",
      "Lasso with alpha: 1238538177.995857, r2: -0.42248018163111745, rmse: 3.1247328338094724\n",
      "Lasso with alpha: 936908711.4301934, r2: -0.42248018163111745, rmse: 3.1247328338094724\n",
      "Lasso with alpha: 708737081.4634038, r2: -0.42248018163111745, rmse: 3.1247328338094724\n",
      "Lasso with alpha: 536133611.00516266, r2: -0.42248018163111745, rmse: 3.1247328338094724\n",
      "Lasso with alpha: 405565415.3948445, r2: -0.42248018163111745, rmse: 3.1247328338094724\n",
      "Lasso with alpha: 306795363.6706582, r2: -0.42248018163111745, rmse: 3.1247328338094724\n",
      "Lasso with alpha: 232079441.68063864, r2: -0.42248018163111745, rmse: 3.1247328338094724\n",
      "Lasso with alpha: 175559586.71075636, r2: -0.34315620636893185, rmse: 3.0908968681275795\n",
      "Lasso with alpha: 132804389.1473342, r2: -0.03546943161517306, rmse: 2.776206231290393\n",
      "Lasso with alpha: 100461650.1282523, r2: 0.16920631345737108, rmse: 2.503395122780151\n",
      "Lasso with alpha: 75995554.14764665, r2: 0.2787540999513425, rmse: 2.3344392884954446\n",
      "Lasso with alpha: 57487849.769886784, r2: 0.33571101006278004, rmse: 2.233168064952858\n",
      "Lasso with alpha: 43487450.13088917, r2: 0.36396904019238174, rmse: 2.173994246684251\n",
      "Lasso with alpha: 32896661.232878413, r2: 0.3768602007493699, rmse: 2.1400877109952265\n",
      "Lasso with alpha: 24885117.82166057, r2: 0.38175646031615545, rmse: 2.120968696352051\n",
      "Lasso with alpha: 18824679.033962358, r2: 0.3826818451915644, rmse: 2.1103511411380036\n",
      "Lasso with alpha: 14240179.342179025, r2: 0.3817919302785488, rmse: 2.1045554407356333\n",
      "Lasso with alpha: 10772173.450159412, r2: 0.3802089232285525, rmse: 2.101462153306629\n",
      "Lasso with alpha: 8148754.173103217, r2: 0.37849080453511685, rmse: 2.099864442558526\n",
      "Lasso with alpha: 6164233.69721033, r2: 0.37689318602909505, rmse: 2.099081625943426\n",
      "Lasso with alpha: 4663016.734416099, r2: 0.37551416273842786, rmse: 2.0987334065772534\n",
      "Lasso with alpha: 3527401.1553593227, r2: 0.3743734252762728, rmse: 2.0986096674875645\n",
      "Lasso with alpha: 2668349.615603151, r2: 0.3734546735662991, rmse: 2.0985960077004044\n",
      "Lasso with alpha: 2018508.6292982749, r2: 0.3763079436419416, rmse: 2.0925778806128026\n",
      "Lasso with alpha: 1526927.7544167063, r2: 0.49660911006285174, rmse: 1.9863343802668056\n",
      "Lasso with alpha: 1155064.850041579, r2: 0.5852330468264981, rmse: 1.8289292146888732\n",
      "Lasso with alpha: 873764.2000038414, r2: 0.6201091467051061, rmse: 1.7104486061885158\n",
      "Lasso with alpha: 660970.5742330144, r2: 0.6219325493714586, rmse: 1.6423424744779893\n",
      "Lasso with alpha: 500000.0, r2: 0.6092583530061908, rmse: 1.6048085975184863\n",
      "Lasso with alpha: 378231.66377731453, r2: 0.5916288126898731, rmse: 1.5850289508006161\n",
      "Lasso with alpha: 286118.382967511, r2: 0.5736907978728805, rmse: 1.5751958948917075\n",
      "Lasso with alpha: 216438.06405415307, r2: 0.5574879630609825, rmse: 1.5707530102734637\n",
      "Lasso with alpha: 163727.45814388624, r2: 0.5437241933315448, rmse: 1.5691224117129194\n",
      "Lasso with alpha: 123853.81779958545, r2: 0.5324500916030245, rmse: 1.5688826312059063\n",
      "Lasso with alpha: 93690.87114301915, r2: 0.5230578740165798, rmse: 1.5705575579772078\n",
      "Lasso with alpha: 70873.70814634024, r2: 0.5209015046965059, rmse: 1.5873012122385828\n",
      "Lasso with alpha: 53613.36110051616, r2: 0.5446678586676257, rmse: 1.564222751468751\n",
      "Lasso with alpha: 40556.54153948436, r2: 0.5757560711308547, rmse: 1.4934096618511645\n",
      "Lasso with alpha: 30679.536367065877, r2: 0.6412530662923375, rmse: 1.3889478004250784\n",
      "Lasso with alpha: 23207.944168063863, r2: 0.6848437602061083, rmse: 1.3114446515985263\n",
      "Lasso with alpha: 17555.958671075638, r2: 0.7133937653279467, rmse: 1.257451744593713\n",
      "Lasso with alpha: 13280.43891473342, r2: 0.7375267329172958, rmse: 1.203927338321955\n",
      "Lasso with alpha: 10046.16501282523, r2: 0.749263130850245, rmse: 1.17743875202312\n",
      "Lasso with alpha: 7599.555414764665, r2: 0.7560992486957465, rmse: 1.1542262578956928\n",
      "Lasso with alpha: 5748.784976988678, r2: 0.775011954953623, rmse: 1.1216478865920503\n",
      "Lasso with alpha: 4348.745013088917, r2: 0.7986482280517871, rmse: 1.089963796473069\n",
      "Lasso with alpha: 3289.6661232878414, r2: 0.8298773080388558, rmse: 1.04217622221712\n",
      "Lasso with alpha: 2488.511782166057, r2: 0.8578089652337819, rmse: 0.9929472544372244\n",
      "Lasso with alpha: 1882.4679033962318, r2: 0.8678871340065617, rmse: 0.9785602328341378\n",
      "Lasso with alpha: 1424.0179342178994, r2: 0.8789866412043184, rmse: 0.9358201703966919\n",
      "Lasso with alpha: 1077.2173450159412, r2: 0.8880244706443449, rmse: 0.8995736365537688\n",
      "Lasso with alpha: 814.8754173103217, r2: 0.9063051673337048, rmse: 0.8220347750038203\n",
      "Lasso with alpha: 616.4233697210329, r2: 0.9231022637326864, rmse: 0.7465714518338125\n",
      "Lasso with alpha: 466.30167344161, r2: 0.9284451708002445, rmse: 0.714093125547038\n",
      "Lasso with alpha: 352.74011553593226, r2: 0.9262559558290503, rmse: 0.7124806205015436\n",
      "Lasso with alpha: 266.8349615603151, r2: 0.9243320275709881, rmse: 0.7180652442528116\n",
      "Lasso with alpha: 201.85086292982749, r2: 0.9247547441973953, rmse: 0.7167233118403122\n",
      "Lasso with alpha: 152.69277544167062, r2: 0.9216924142543345, rmse: 0.7263283076604508\n",
      "Lasso with alpha: 115.50648500415791, r2: 0.9163535157219453, rmse: 0.7432199224064917\n",
      "Lasso with alpha: 87.37642000038414, r2: 0.9129935186374848, rmse: 0.770048569751379\n",
      "Lasso with alpha: 66.09705742330144, r2: 0.914024801462906, rmse: 0.768475964630804\n",
      "Lasso with alpha: 50.0, r2: 0.9163456077141878, rmse: 0.7438616969358046\n",
      "Lasso with alpha: 37.823166377731454, r2: 0.9208417038296337, rmse: 0.7049289753007875\n",
      "Lasso with alpha: 28.611838296751102, r2: 0.9203338066873407, rmse: 0.6986264375845745\n",
      "Lasso with alpha: 21.643806405415308, r2: 0.9220195435408474, rmse: 0.6756501630836942\n",
      "Lasso with alpha: 16.372745814388658, r2: 0.9264490335165064, rmse: 0.6310155972303191\n",
      "Lasso with alpha: 12.38538177995857, r2: 0.9404090902517861, rmse: 0.565881535857738\n",
      "Lasso with alpha: 9.369087114301934, r2: 0.951263143413404, rmse: 0.5130822007496076\n",
      "Lasso with alpha: 7.087370814634009, r2: 0.963060365605194, rmse: 0.45054047754339244\n",
      "Lasso with alpha: 5.361336110051605, r2: 0.9695453029424874, rmse: 0.4077674169048158\n",
      "Lasso with alpha: 4.055654153948428, r2: 0.9689343690676614, rmse: 0.4193466262344915\n",
      "Lasso with alpha: 3.0679536367065814, r2: 0.9642013768248286, rmse: 0.46419381480678323\n",
      "Lasso with alpha: 2.320794416806386, r2: 0.9570254427905752, rmse: 0.5185400019834275\n",
      "Lasso with alpha: 1.7555958671075638, r2: 0.9472075510191414, rmse: 0.5805209959081001\n",
      "Lasso with alpha: 1.328043891473342, r2: 0.9338262625461727, rmse: 0.6564988683928941\n",
      "Lasso with alpha: 1.004616501282523, r2: 0.9193086933406656, rmse: 0.7288522851733156\n",
      "Lasso with alpha: 0.7599555414764666, r2: 0.9054535746671931, rmse: 0.7860643363968376\n",
      "Lasso with alpha: 0.5748784976988678, r2: 0.8991882467577806, rmse: 0.8045943439914446\n",
      "Lasso with alpha: 0.4348745013088917, r2: 0.8981215099529278, rmse: 0.8109533292429537\n",
      "Lasso with alpha: 0.3289666123287841, r2: 0.8965802575334593, rmse: 0.8212171607965477\n",
      "Lasso with alpha: 0.24885117821660568, r2: 0.8948976792493623, rmse: 0.8301180104186996\n",
      "Lasso with alpha: 0.18824679033962358, r2: 0.8930114412587239, rmse: 0.837815662759637\n",
      "Lasso with alpha: 0.14240179342179024, r2: 0.8914187165453274, rmse: 0.8442440128255067\n",
      "Lasso with alpha: 0.10772173450159389, r2: 0.8900879799479758, rmse: 0.8490428779201277\n",
      "Lasso with alpha: 0.08148754173103201, r2: 0.8893271382750015, rmse: 0.8509924327635104\n",
      "Lasso with alpha: 0.06164233697210317, r2: 0.8889375690873191, rmse: 0.8514976491656464\n",
      "Lasso with alpha: 0.0466301673441609, r2: 0.8893189051259034, rmse: 0.8477694277491872\n",
      "Lasso with alpha: 0.03527401155359316, r2: 0.8909356993641108, rmse: 0.8354361295014687\n",
      "Lasso with alpha: 0.026683496156031508, r2: 0.8921525381109208, rmse: 0.8266455062310795\n",
      "Lasso with alpha: 0.020185086292982747, r2: 0.8917326784447799, rmse: 0.8269922649206023\n",
      "Lasso with alpha: 0.015269277544167062, r2: 0.8901173866142198, rmse: 0.8336123760953902\n",
      "Lasso with alpha: 0.01155064850041579, r2: 0.8861093374437644, rmse: 0.846275730423504\n",
      "Lasso with alpha: 0.008737642000038414, r2: 0.876838182789534, rmse: 0.8637374436260689\n",
      "Lasso with alpha: 0.006609705742330144, r2: 0.8669629440114159, rmse: 0.8802964534464897\n",
      "Lasso with alpha: 0.005, r2: 0.8575241650761708, rmse: 0.8948709765475674\n",
      "Lasso score: 0.9997845214580947\n",
      "Lasso coef: [-5.17501295e-07  1.15771319e-08  0.00000000e+00  0.00000000e+00\n",
      "  0.00000000e+00 -0.00000000e+00  0.00000000e+00  0.00000000e+00\n",
      "  0.00000000e+00  0.00000000e+00  0.00000000e+00  0.00000000e+00\n",
      "  9.09478366e-05  0.00000000e+00  0.00000000e+00  1.87085532e-05\n",
      "  2.47762739e-05 -7.66135830e-06 -3.75288592e-06 -1.83374567e-06\n",
      " -3.63080766e-06 -1.97743331e-06  5.34634809e-06 -1.77005518e-05\n",
      " -2.01020208e-05 -1.39843292e-05  2.22014336e-07  4.95797170e-05\n",
      "  2.14252896e-05 -3.04605091e-06 -6.20740089e-06  1.46433385e-06\n",
      "  4.70783867e-06  2.63256376e-06  5.15016437e-06 -1.05070562e-04\n",
      "  7.68296726e-05 -1.43918019e-04  0.00000000e+00  1.86458232e-04\n",
      "  1.40223422e-04 -5.06566604e-04 -0.00000000e+00  0.00000000e+00\n",
      "  1.82915466e-04  0.00000000e+00]\n",
      "Lasso inter: 46.62751233337664\n",
      "alpha: 5.361336110051605\n",
      "5-fold cv r2: 0.9695453029424874\n",
      "5-fold cv rmse: 0.4077674169048158\n",
      "loocv r2: 0.9772729565726916\n",
      "loocv rmse: 0.44852129997090984\n"
     ]
    },
    {
     "data": {
      "image/png": "[encoded data removed]",
      "text/plain": [
       "<Figure size 640x480 with 1 Axes>"
      ]
     },
     "metadata": {},
     "output_type": "display_data"
    }
   ],
   "source": [
    "alphas = 10**np.linspace(10,-2,100)*0.5\n",
    "reg, lasso_cv_rmse, lasso_cv_r2, alpha = regularization_lasso(features, target, alphas)\n",
    "lasso_score = reg.score(features, target)\n",
    "lasso_coef = reg.coef_\n",
    "lasso_inter = reg.intercept_\n",
    "\n",
    "target_pred = reg.predict(features)\n",
    "#target_pred = cross_val_predict(reg, features, target)\n",
    "mse = mean_squared_error(target, target_pred)\n",
    "lasso_rmse = math.sqrt(mse)\n",
    "\n",
    "print(f\"Lasso score: {lasso_score}\")\n",
    "print(f\"Lasso coef: {lasso_coef}\")\n",
    "print(f\"Lasso inter: {lasso_inter}\")\n",
    "print(f\"alpha: {alpha}\")\n",
    "print(f\"5-fold cv r2: {lasso_cv_r2}\")\n",
    "print(f\"5-fold cv rmse: {lasso_cv_rmse}\")\n",
    "\n",
    "#loocv:\n",
    "model = Lasso(alpha=alpha)\n",
    "lasso_loocv_r2, lasso_loocv_rmse = LOOCV(model, features, target)\n",
    "print(f\"loocv r2: {lasso_loocv_r2}\")\n",
    "print(f\"loocv rmse: {lasso_loocv_rmse}\")\n",
    "\n",
    "plt.clf()\n",
    "plt.title(\"Lasso Regression\")\n",
    "plt.plot(target, target_pred, 'o')\n",
    "plt.xlabel('LMP')\n",
    "plt.ylabel('predicted LMP')\n",
    "m, b = np.polyfit(target, target_pred, 1)\n",
    "plt.plot(target, m*target+b, linewidth=0.2)\n",
    "plt.savefig('lasso_lmp.jpg')"
   ]
  },
  {
   "cell_type": "markdown",
   "metadata": {},
   "source": [
    "### PLS regularization"
   ]
  },
  {
   "cell_type": "code",
   "execution_count": 9,
   "metadata": {},
   "outputs": [],
   "source": [
    "def regularization_pls(features, target, n_components=10):\n",
    "    rmse_return = None\n",
    "    reg_return = None\n",
    "    n_comp_return = None\n",
    "    r2_return = None\n",
    "    for n in n_components:\n",
    "        model = PLSRegression(n_components=n)\n",
    "        reg = PLSRegression(n_components=n).fit(features, target)\n",
    "        #target_pred = reg.predict(features)\n",
    "        #target_pred = cross_val_predict(reg, features, target)\n",
    "        #mse = mean_squared_error(target, target_pred)\n",
    "        #rmse = math.sqrt(mse)\n",
    "        #r2 = r2_score(target, target_pred)\n",
    "        nmse = cross_val_score(model, features, target, scoring='neg_mean_squared_error')\n",
    "        rmse = sqrt(mean(absolute(nmse)))\n",
    "        scores = cross_val_score(model, features, target)\n",
    "        r2 = mean(scores)\n",
    "        print(f\"PLS with {n} components: r2: {r2}, rmse: {rmse}\")\n",
    "        if rmse_return:\n",
    "            if rmse<rmse_return:\n",
    "                rmse_return = rmse\n",
    "                reg_return = reg\n",
    "                n_comp_return = n\n",
    "                r2_return = r2\n",
    "        else:\n",
    "            rmse_return = rmse\n",
    "            reg_return = reg\n",
    "            n_comp_return = n\n",
    "            r2_return = r2\n",
    "    return reg_return, rmse_return, r2_return, n_comp_return"
   ]
  },
  {
   "cell_type": "code",
   "execution_count": 10,
   "metadata": {},
   "outputs": [
    {
     "name": "stdout",
     "output_type": "stream",
     "text": [
      "PLS with 1 components: r2: 0.012233576919789746, rmse: 2.0983911546846543\n",
      "PLS with 2 components: r2: 0.6076070665296975, rmse: 1.6417791928218364\n",
      "PLS with 3 components: r2: 0.7222377900828602, rmse: 1.3928553414804261\n",
      "PLS with 4 components: r2: 0.6866497161462977, rmse: 1.277964878517905\n",
      "PLS with 5 components: r2: 0.7752298597295443, rmse: 1.1366005663766994\n",
      "PLS with 6 components: r2: 0.7751127682486105, rmse: 1.0428887171375902\n",
      "PLS with 7 components: r2: 0.7533510898121248, rmse: 1.043376464187888\n",
      "PLS with 8 components: r2: 0.716060736802486, rmse: 1.07778974995374\n",
      "PLS with 9 components: r2: 0.7281086095641115, rmse: 1.0520596133346563\n",
      "PLS with 10 components: r2: 0.7458412892224824, rmse: 0.9825513167237546\n",
      "PLS with 11 components: r2: 0.7701314747455672, rmse: 0.9254394808096527\n",
      "PLS with 12 components: r2: 0.7815167631238467, rmse: 0.8879047552319345\n",
      "PLS with 13 components: r2: 0.7878909524987583, rmse: 0.8677191924693861\n",
      "PLS with 14 components: r2: 0.7984451161181018, rmse: 0.8594124834831086\n",
      "PLS with 15 components: r2: 0.8102038066716759, rmse: 0.85184766592886\n",
      "PLS with 16 components: r2: 0.8079259238890849, rmse: 0.8602963808144721\n",
      "PLS with 17 components: r2: 0.8093195987719888, rmse: 0.8523233328461506\n",
      "PLS with 18 components: r2: 0.8062150602600425, rmse: 0.8549165859616953\n",
      "PLS with 19 components: r2: 0.7825214826892557, rmse: 0.9434260624689725\n",
      "PLS with 20 components: r2: 0.7825214826892564, rmse: 0.9434260624689695\n",
      "PLS with 21 components: r2: 0.7825214826892564, rmse: 0.9434260624689695\n",
      "PLS with 22 components: r2: 0.7825214826892564, rmse: 0.9434260624689695\n",
      "PLS with 23 components: r2: 0.7825214826892561, rmse: 0.9434260624689701\n",
      "PLS with 24 components: r2: 0.7825214826892561, rmse: 0.9434260624689701\n",
      "PLS with 25 components: r2: 0.7825214826892559, rmse: 0.9434260624689709\n",
      "PLS with 26 components: r2: 0.7825214826892585, rmse: 0.9434260624689674\n",
      "PLS with 27 components: r2: 0.7825214826892585, rmse: 0.9434260624689674\n",
      "PLS with 28 components: r2: 0.7825214826892585, rmse: 0.9434260624689674\n",
      "PLS with 29 components: r2: 0.7825214826892585, rmse: 0.9434260624689674\n",
      "PLS with 30 components: r2: 0.7825214826892585, rmse: 0.9434260624689674\n",
      "PLS with 31 components: r2: 0.7825214826892585, rmse: 0.9434260624689674\n",
      "PLS with 32 components: r2: 0.7825214826892585, rmse: 0.9434260624689674\n",
      "PLS with 33 components: r2: 0.7825214826892585, rmse: 0.9434260624689674\n",
      "PLS with 34 components: r2: 0.7825214826892585, rmse: 0.9434260624689674\n",
      "PLS with 35 components: r2: 0.7825214826892585, rmse: 0.9434260624689674\n",
      "PLS with 36 components: r2: 0.7825214826892585, rmse: 0.9434260624689674\n",
      "PLS with 37 components: r2: 0.7825214826892586, rmse: 0.9434260624689671\n",
      "PLS with 38 components: r2: 0.7825214826892586, rmse: 0.9434260624689673\n",
      "PLS with 39 components: r2: 0.7825214826892601, rmse: 0.9434260624689661\n",
      "PLS with 40 components: r2: 0.7825214826892595, rmse: 0.9434260624689664\n",
      "PLS with 41 components: r2: 0.7825214826892595, rmse: 0.9434260624689664\n",
      "PLS with 42 components: r2: 0.7825214826892595, rmse: 0.9434260624689664\n",
      "PLS with 43 components: r2: 0.7825214826892595, rmse: 0.9434260624689663\n",
      "PLS with 44 components: r2: 0.7825214826892595, rmse: 0.9434260624689663\n",
      "PLS with 45 components: r2: 0.7825214826892595, rmse: 0.9434260624689663\n",
      "pls score: 0.9995738691502721\n",
      "pls coef: [[ 0.1214369   1.04593478  0.16588867 -0.41133419  0.34587818 -0.3552612\n",
      "  -0.20966719 -0.08221389  0.31162679 -0.57170508  0.20317303  0.6731638\n",
      "   0.56183867 -0.26709945 -0.13251048  0.23381301  0.36812262 -0.37530681\n",
      "  -0.54116193 -0.62482334 -0.56873215 -0.36224922 -0.11699808 -0.63774669\n",
      "  -1.01237151 -0.74961133 -0.1397266   1.09382552  1.32475198  0.37768185\n",
      "  -0.6098574  -0.47691906  1.29577363  0.92632585 -0.05498286 -0.9274209\n",
      "   0.08642383 -0.26715296  0.15489487  0.82597312  0.28955044 -2.03952329\n",
      "  -0.05473904  0.3505903   0.14478172  0.37216883]]\n",
      "pls inter: [55.58291667]\n",
      "Number of component: 15\n",
      "5-fold cv r2: 0.8102038066716759\n",
      "5-fold cv rmse: 0.85184766592886\n",
      "loocv r2: 0.959162202835278\n",
      "loocv rmse: 0.6012329244109768\n"
     ]
    },
    {
     "data": {
      "image/png": "[encoded data removed]",
      "text/plain": [
       "<Figure size 640x480 with 1 Axes>"
      ]
     },
     "metadata": {},
     "output_type": "display_data"
    }
   ],
   "source": [
    "reg, pls_cv_rmse, pls_cv_r2, n_comp = regularization_pls(features, target, np.arange(1, len(features.columns)))\n",
    "pls_score = reg.score(features, target)\n",
    "pls_coef = reg.coef_\n",
    "pls_inter = reg.intercept_\n",
    "\n",
    "target_pred = reg.predict(features)\n",
    "#target_pred = cross_val_predict(reg, features, target)\n",
    "mse = mean_squared_error(target, target_pred)\n",
    "pls_rmse = math.sqrt(mse)\n",
    "\n",
    "print(f\"pls score: {pls_score}\")\n",
    "print(f\"pls coef: {pls_coef}\")\n",
    "print(f\"pls inter: {pls_inter}\")\n",
    "print(f\"Number of component: {n_comp}\")\n",
    "print(f\"5-fold cv r2: {pls_cv_r2}\")\n",
    "print(f\"5-fold cv rmse: {pls_cv_rmse}\")\n",
    "\n",
    "#loocv:\n",
    "model = PLSRegression(n_components=n_comp)\n",
    "pls_loocv_r2, pls_loocv_rmse = LOOCV(model, features, target)\n",
    "print(f\"loocv r2: {pls_loocv_r2}\")\n",
    "print(f\"loocv rmse: {pls_loocv_rmse}\")\n",
    "\n",
    "plt.clf()\n",
    "plt.title(\"PLS Regression\")\n",
    "plt.plot(target, target_pred, 'o')\n",
    "plt.xlabel('LMP')\n",
    "plt.ylabel('predicted LMP')\n",
    "m, b = np.polyfit(target, target_pred, 1)\n",
    "plt.plot(target, m*target+b)\n",
    "plt.savefig(os.path.join(path_prefix_results, 'pls_lmp.jpg'))"
   ]
  },
  {
   "cell_type": "markdown",
   "metadata": {},
   "source": [
    "## linear results"
   ]
  },
  {
   "cell_type": "code",
   "execution_count": 11,
   "metadata": {},
   "outputs": [
    {
     "name": "stdout",
     "output_type": "stream",
     "text": [
      "r2: 1.0\n",
      "rmse: 1.3167426051517262e-13\n",
      "5-fold cv r2: 0.8210168680186009\n",
      "5-fold cv rmse: 1.1560008725379076\n",
      "loocv r2: 0.9039088806881591\n",
      "loocv rmse: 0.9222596910175848\n"
     ]
    }
   ],
   "source": [
    "print(f\"r2: {linear_score}\")\n",
    "print(f\"rmse: {linear_rmse}\")\n",
    "print(f\"5-fold cv r2: {linear_cv_r2}\")\n",
    "print(f\"5-fold cv rmse: {linear_cv_rmse}\")\n",
    "print(f\"loocv r2: {linear_loocv_r2}\")\n",
    "print(f\"loocv rmse: {linear_loocv_rmse}\")"
   ]
  },
  {
   "cell_type": "markdown",
   "metadata": {},
   "source": [
    "## Ridge results"
   ]
  },
  {
   "cell_type": "code",
   "execution_count": 12,
   "metadata": {},
   "outputs": [
    {
     "name": "stdout",
     "output_type": "stream",
     "text": [
      "r2: 0.9867122228507722\n",
      "rmse: 0.34295549779434314\n",
      "5-fold cv r2: 0.9014267900876775\n",
      "5-fold cv rmse: 0.8196976024169249\n",
      "loocv r2: 0.9295750971051893\n",
      "loocv rmse: 0.7895410770167871\n"
     ]
    }
   ],
   "source": [
    "print(f\"r2: {ridge_score}\")\n",
    "print(f\"rmse: {ridge_rmse}\")\n",
    "print(f\"5-fold cv r2: {ridge_cv_r2}\")\n",
    "print(f\"5-fold cv rmse: {ridge_cv_rmse}\")\n",
    "print(f\"loocv r2: {ridge_loocv_r2}\")\n",
    "print(f\"loocv rmse: {ridge_loocv_rmse}\")"
   ]
  },
  {
   "cell_type": "markdown",
   "metadata": {},
   "source": [
    "## Lasso results"
   ]
  },
  {
   "cell_type": "code",
   "execution_count": 13,
   "metadata": {},
   "outputs": [
    {
     "name": "stdout",
     "output_type": "stream",
     "text": [
      "r2: 0.9997845214580947\n",
      "rmse: 0.04367305930330264\n",
      "5-fold cv r2: 0.9695453029424874\n",
      "5-fold cv rmse: 0.4077674169048158\n",
      "loocv r2: 0.9772729565726916\n",
      "loocv rmse: 0.44852129997090984\n"
     ]
    }
   ],
   "source": [
    "print(f\"r2: {lasso_score}\")\n",
    "print(f\"rmse: {lasso_rmse}\")\n",
    "print(f\"5-fold cv r2: {lasso_cv_r2}\")\n",
    "print(f\"5-fold cv rmse: {lasso_cv_rmse}\")\n",
    "print(f\"loocv r2: {lasso_loocv_r2}\")\n",
    "print(f\"loocv rmse: {lasso_loocv_rmse}\")  "
   ]
  },
  {
   "cell_type": "markdown",
   "metadata": {},
   "source": [
    "## PLS results"
   ]
  },
  {
   "cell_type": "code",
   "execution_count": 14,
   "metadata": {},
   "outputs": [
    {
     "name": "stdout",
     "output_type": "stream",
     "text": [
      "r2: 0.9995738691502721\n",
      "rmse: 0.0614162208564339\n",
      "5-fold cv r2: 0.8102038066716759\n",
      "5-fold cv rmse: 0.85184766592886\n",
      "loocv r2: 0.959162202835278\n",
      "loocv rmse: 0.6012329244109768\n"
     ]
    }
   ],
   "source": [
    "print(f\"r2: {pls_score}\")\n",
    "print(f\"rmse: {pls_rmse}\")\n",
    "print(f\"5-fold cv r2: {pls_cv_r2}\")\n",
    "print(f\"5-fold cv rmse: {pls_cv_rmse}\")\n",
    "print(f\"loocv r2: {pls_loocv_r2}\")\n",
    "print(f\"loocv rmse: {pls_loocv_rmse}\")"
   ]
  },
  {
   "cell_type": "code",
   "execution_count": 15,
   "metadata": {},
   "outputs": [
    {
     "name": "stdout",
     "output_type": "stream",
     "text": [
      "24\n",
      "0.2\n",
      "4\n",
      "4.800000000000001\n",
      "19.200000000000003\n",
      "train: 19 test: 5\n",
      "train: 19 test: 5\n",
      "train: 19 test: 5\n",
      "train: 19 test: 5\n",
      "train: 20 test: 4\n"
     ]
    }
   ],
   "source": [
    "print(len(features))\n",
    "print(1/5)\n",
    "print(int(24/5))\n",
    "print(24*0.2)\n",
    "print(24*0.8)\n",
    "from sklearn.model_selection import KFold\n",
    "kf = KFold()\n",
    "for i, (train_index, test_index) in enumerate(kf.split(features)):\n",
    "    print(f\"train: {len(train_index)} test: {len(test_index)}\")\n",
    "    "
   ]
  },
  {
   "cell_type": "code",
   "execution_count": null,
   "metadata": {},
   "outputs": [],
   "source": []
  },
  {
   "cell_type": "code",
   "execution_count": null,
   "metadata": {},
   "outputs": [],
   "source": []
  }
 ],
 "metadata": {
  "kernelspec": {
   "display_name": "Python 3 (ipykernel)",
   "language": "python",
   "name": "python3"
  },
  "language_info": {
   "codemirror_mode": {
    "name": "ipython",
    "version": 3
   },
   "file_extension": ".py",
   "mimetype": "text/x-python",
   "name": "python",
   "nbconvert_exporter": "python",
   "pygments_lexer": "ipython3",
   "version": "3.11.8"
  }
 },
 "nbformat": 4,
 "nbformat_minor": 4
}
