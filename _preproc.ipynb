{
 "cells": [
  {
   "cell_type": "code",
   "execution_count": 1,
   "id": "6c4b892a-7f9b-4d3d-af39-2440a9146d59",
   "metadata": {},
   "outputs": [],
   "source": [
    "import os\n",
    "import shutil\n",
    "import glob\n",
    "import gzip\n",
    "\n",
    "from config import path_prefix_data"
   ]
  },
  {
   "cell_type": "code",
   "execution_count": 2,
   "id": "270dca8d-b868-4c20-8396-d2c68e45b0d9",
   "metadata": {},
   "outputs": [],
   "source": [
    "def rename(files):\n",
    "    names = sorted([i for i in files if \".mnc-\" in i])\n",
    "    new_names = sorted([os.path.join(os.path.dirname(i),os.path.basename(i).replace(\".mnc-\" , \"\").replace(\"_\",\"\")) for i in names])\n",
    "    for name,new_name in zip(names, new_names):\n",
    "        if name != new_name:\n",
    "            print(f\"{name} -> {new_name}\")\n",
    "            shutil.move(name, new_name)\n",
    "    return new_names\n",
    "\n",
    "def zipping1(files):\n",
    "    for file in files:\n",
    "        print(f\"Zipping {file}.\")\n",
    "        gzfile = file + '.gz'\n",
    "        buffer_size = 1024 * 1024  # 1 MB\n",
    "        \n",
    "        with open(file, 'rb') as source_file, gzip.open(gzfile, 'wb') as gz_file:\n",
    "            buffer = source_file.read(buffer_size)\n",
    "            while buffer:\n",
    "                gz_file.write(buffer)\n",
    "                buffer = source_file.read(buffer_size)\n",
    "        os.remove(file)\n",
    "\n",
    "def zipping2(files):\n",
    "    for file in files:\n",
    "        print(f\"Zipping {file}.\")\n",
    "        cmd = f'gzip {file}'\n",
    "        os.system(cmd)"
   ]
  },
  {
   "cell_type": "code",
   "execution_count": 3,
   "id": "1cd4936b-66eb-42ac-a9e0-b091a0452930",
   "metadata": {},
   "outputs": [],
   "source": [
    "niis = sorted(glob.glob('**/*.nii',recursive=True))\n",
    "niigzs = sorted(glob.glob('**/*.nii.gz',recursive=True))\n",
    "rename(niis)\n",
    "rename(niigzs)\n",
    "niis = sorted(glob.glob('**/*.nii',recursive=True))\n",
    "zipping2(niis)\n",
    "\n"
   ]
  },
  {
   "cell_type": "code",
   "execution_count": null,
   "id": "09e8ce6f-0ac8-4236-af07-27020a02a40a",
   "metadata": {},
   "outputs": [],
   "source": []
  },
  {
   "cell_type": "code",
   "execution_count": null,
   "id": "34e072d9-7d04-43fb-8600-58c37e9bc4d7",
   "metadata": {},
   "outputs": [],
   "source": []
  }
 ],
 "metadata": {
  "kernelspec": {
   "display_name": "Python 3 (ipykernel)",
   "language": "python",
   "name": "python3"
  },
  "language_info": {
   "codemirror_mode": {
    "name": "ipython",
    "version": 3
   },
   "file_extension": ".py",
   "mimetype": "text/x-python",
   "name": "python",
   "nbconvert_exporter": "python",
   "pygments_lexer": "ipython3",
   "version": "3.7.16"
  }
 },
 "nbformat": 4,
 "nbformat_minor": 5
}
