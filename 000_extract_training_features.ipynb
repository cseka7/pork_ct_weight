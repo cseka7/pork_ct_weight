{
 "cells": [
  {
   "cell_type": "markdown",
   "metadata": {},
   "source": [
    "# Segmentation by registration and feature extraction"
   ]
  },
  {
   "cell_type": "code",
   "execution_count": 1,
   "metadata": {},
   "outputs": [
    {
     "name": "stdout",
     "output_type": "stream",
     "text": [
      "Executables being used: /opt/elastix-5.1.0-linux/bin/elastix /opt/elastix-5.1.0-linux/bin/transformix\n"
     ]
    }
   ],
   "source": [
    "import glob\n",
    "import os\n",
    "import os.path\n",
    "import numpy as np\n",
    "import pandas as pd\n",
    "import maweight\n",
    "import pickle\n",
    "import logging\n",
    "import tqdm\n",
    "\n",
    "from config import manually_segmented_path, dissected_path\n",
    "from config import output_path, leg_features_path, loin_features_path, belly_features_path\n",
    "from config import groin_features_path, shoulder_features_path, body_features_path\n",
    "from config import save_registered_images\n",
    "from config import bin_width, bin_min, bin_max, threshold\n",
    "from config import bin_width_body, bin_min_body, bin_max_body\n",
    "from config import tmp_path, elastix_params, threads\n",
    "\n",
    "image_format = \".\" + elastix_params['ResultImageFormat']\n",
    "\n",
    "import warnings\n",
    "warnings.filterwarnings('ignore')\n",
    "\n",
    "LIMIT=None\n",
    "\n",
    "# setting the logging format\n",
    "FORMAT = '%(asctime)-15s %(clientip)s %(user)-8s %(message)s'\n",
    "logging.basicConfig(format=FORMAT, level=logging.INFO)"
   ]
  },
  {
   "cell_type": "code",
   "execution_count": 2,
   "metadata": {},
   "outputs": [],
   "source": [
    "#delete all '_' character from filenames\n",
    "def rename_files(files):\n",
    "    new_files = [os.path.join(os.path.dirname(file), os.path.basename(file).replace(\"_\", \"\")) for file in files]\n",
    "    [os.rename(rfiles[0], rfiles[1]) for rfiles in zip(files, new_files)]\n",
    "    return new_files"
   ]
  },
  {
   "cell_type": "markdown",
   "metadata": {},
   "source": [
    "## Discovering files to process"
   ]
  },
  {
   "cell_type": "code",
   "execution_count": 3,
   "metadata": {},
   "outputs": [
    {
     "name": "stdout",
     "output_type": "stream",
     "text": [
      "Number of dissected images: 48\n",
      "Number of manually segmented images: 5\n",
      "Number of leg masks: 5\n",
      "Number of loin masks: 5\n",
      "Number of belly masks: 5\n",
      "Number of groin masks: 5\n",
      "Number of shoulder masks: 5\n",
      "Number of body masks: 5\n"
     ]
    }
   ],
   "source": [
    "manually_segmented_files = []\n",
    "manually_segmented_files += sorted(glob.glob(os.path.join(manually_segmented_path, '*.nii')))\n",
    "manually_segmented_files += sorted(glob.glob(os.path.join(manually_segmented_path, '*.nii.gz')))\n",
    "\n",
    "manually_segmented_files = rename_files(manually_segmented_files)\n",
    "\n",
    "manually_segmented_images= [f for f in manually_segmented_files if not any(f for i in [\"leg\", \"loin\", \"belly\", \"groin\", \"shoulder\", \"body\"] if i in f)]\n",
    "manually_segmented_legs= [f for f in manually_segmented_files if 'leg' in f]\n",
    "manually_segmented_loins= [f for f in manually_segmented_files if 'loin' in f]\n",
    "manually_segmented_bellies= [f for f in manually_segmented_files if 'belly' in f]\n",
    "manually_segmented_groins= [f for f in manually_segmented_files if 'groin' in f]\n",
    "manually_segmented_shoulders= [f for f in manually_segmented_files if 'shoulder' in f]\n",
    "manually_segmented_bodies= [f for f in manually_segmented_files if 'body' in f]\n",
    "\n",
    "dissected_images = []\n",
    "dissected_images = glob.glob(os.path.join(dissected_path, '*.nii'))\n",
    "dissected_images += glob.glob(os.path.join(dissected_path, '*.nii.gz'))\n",
    "dissected_images = sorted(dissected_images)\n",
    "\n",
    "if LIMIT:\n",
    "    dissected_images= dissected_images[:LIMIT]\n",
    "\n",
    "dissected_images = rename_files(dissected_images)\n",
    "print(f\"Number of dissected images: {len(dissected_images)}\")\n",
    "print(f\"Number of manually segmented images: {len(manually_segmented_images)}\")\n",
    "print(f\"Number of leg masks: {len(manually_segmented_legs)}\")\n",
    "print(f\"Number of loin masks: {len(manually_segmented_loins)}\")\n",
    "print(f\"Number of belly masks: {len(manually_segmented_bellies)}\")\n",
    "print(f\"Number of groin masks: {len(manually_segmented_groins)}\")\n",
    "print(f\"Number of shoulder masks: {len(manually_segmented_shoulders)}\")\n",
    "print(f\"Number of body masks: {len(manually_segmented_bodies)}\")"
   ]
  },
  {
   "cell_type": "markdown",
   "metadata": {},
   "source": [
    "## Set Origin to Center of Mass"
   ]
  },
  {
   "cell_type": "code",
   "execution_count": 4,
   "metadata": {},
   "outputs": [
    {
     "name": "stdout",
     "output_type": "stream",
     "text": [
      "Processing image: data/dissected/p001.nii.gz and masks: []\n",
      "Center of Mass of data/dissected/p001.nii.gz is already in origin.\n",
      "Processing image: data/dissected/p002.nii.gz and masks: []\n",
      "Center of Mass of data/dissected/p002.nii.gz is already in origin.\n",
      "Processing image: data/dissected/p003.nii.gz and masks: []\n",
      "Center of Mass of data/dissected/p003.nii.gz is already in origin.\n",
      "Processing image: data/dissected/p004.nii.gz and masks: []\n",
      "Center of Mass of data/dissected/p004.nii.gz is already in origin.\n",
      "Processing image: data/dissected/p005.nii.gz and masks: []\n",
      "Center of Mass of data/dissected/p005.nii.gz is already in origin.\n",
      "Processing image: data/dissected/p006.nii.gz and masks: []\n",
      "Center of Mass of data/dissected/p006.nii.gz is already in origin.\n",
      "Processing image: data/dissected/p007.nii.gz and masks: []\n",
      "Center of Mass of data/dissected/p007.nii.gz is already in origin.\n",
      "Processing image: data/dissected/p008.nii.gz and masks: []\n",
      "Center of Mass of data/dissected/p008.nii.gz is already in origin.\n",
      "Processing image: data/dissected/p009.nii.gz and masks: []\n",
      "Center of Mass of data/dissected/p009.nii.gz is already in origin.\n",
      "Processing image: data/dissected/p010.nii.gz and masks: []\n",
      "Center of Mass of data/dissected/p010.nii.gz is already in origin.\n",
      "Processing image: data/dissected/p011.nii.gz and masks: []\n",
      "Center of Mass of data/dissected/p011.nii.gz is already in origin.\n",
      "Processing image: data/dissected/p012.nii.gz and masks: []\n",
      "Center of Mass of data/dissected/p012.nii.gz is already in origin.\n",
      "Processing image: data/dissected/p013.nii.gz and masks: []\n",
      "Center of Mass of data/dissected/p013.nii.gz is already in origin.\n",
      "Processing image: data/dissected/p014.nii.gz and masks: []\n",
      "Center of Mass of data/dissected/p014.nii.gz is already in origin.\n",
      "Processing image: data/dissected/p015.nii.gz and masks: []\n",
      "Center of Mass of data/dissected/p015.nii.gz is already in origin.\n",
      "Processing image: data/dissected/p016.nii.gz and masks: []\n",
      "Center of Mass of data/dissected/p016.nii.gz is already in origin.\n",
      "Processing image: data/dissected/p017.nii.gz and masks: []\n",
      "Center of Mass of data/dissected/p017.nii.gz is already in origin.\n",
      "Processing image: data/dissected/p018.nii.gz and masks: []\n",
      "Center of Mass of data/dissected/p018.nii.gz is already in origin.\n",
      "Processing image: data/dissected/p019.nii.gz and masks: []\n",
      "Center of Mass of data/dissected/p019.nii.gz is already in origin.\n",
      "Processing image: data/dissected/p020.nii.gz and masks: []\n",
      "Center of Mass of data/dissected/p020.nii.gz is already in origin.\n",
      "Processing image: data/dissected/p021.nii.gz and masks: []\n",
      "Center of Mass of data/dissected/p021.nii.gz is already in origin.\n",
      "Processing image: data/dissected/p022.nii.gz and masks: []\n",
      "Center of Mass of data/dissected/p022.nii.gz is already in origin.\n",
      "Processing image: data/dissected/p023.nii.gz and masks: []\n",
      "Center of Mass of data/dissected/p023.nii.gz is already in origin.\n",
      "Processing image: data/dissected/p024.nii.gz and masks: []\n",
      "Center of Mass of data/dissected/p024.nii.gz is already in origin.\n",
      "Processing image: data/dissected/p025.nii.gz and masks: []\n",
      "Center of Mass of data/dissected/p025.nii.gz is already in origin.\n",
      "Processing image: data/dissected/p026.nii.gz and masks: []\n",
      "Center of Mass of data/dissected/p026.nii.gz is already in origin.\n",
      "Processing image: data/dissected/p027.nii.gz and masks: []\n",
      "Center of Mass of data/dissected/p027.nii.gz is already in origin.\n",
      "Processing image: data/dissected/p028.nii.gz and masks: []\n",
      "Center of Mass of data/dissected/p028.nii.gz is already in origin.\n",
      "Processing image: data/dissected/p029.nii.gz and masks: []\n",
      "Center of Mass of data/dissected/p029.nii.gz is already in origin.\n",
      "Processing image: data/dissected/p030.nii.gz and masks: []\n",
      "Center of Mass of data/dissected/p030.nii.gz is already in origin.\n",
      "Processing image: data/dissected/p031.nii.gz and masks: []\n",
      "Center of Mass of data/dissected/p031.nii.gz is already in origin.\n",
      "Processing image: data/dissected/p032.nii.gz and masks: []\n",
      "Center of Mass of data/dissected/p032.nii.gz is already in origin.\n",
      "Processing image: data/dissected/p033.nii.gz and masks: []\n",
      "Center of Mass of data/dissected/p033.nii.gz is already in origin.\n",
      "Processing image: data/dissected/p034.nii.gz and masks: []\n",
      "Center of Mass of data/dissected/p034.nii.gz is already in origin.\n",
      "Processing image: data/dissected/p035.nii.gz and masks: []\n",
      "Center of Mass of data/dissected/p035.nii.gz is already in origin.\n",
      "Processing image: data/dissected/p036.nii.gz and masks: []\n",
      "Center of Mass of data/dissected/p036.nii.gz is already in origin.\n",
      "Processing image: data/dissected/p037.nii.gz and masks: []\n",
      "Center of Mass of data/dissected/p037.nii.gz is already in origin.\n",
      "Processing image: data/dissected/p038.nii.gz and masks: []\n",
      "Center of Mass of data/dissected/p038.nii.gz is already in origin.\n",
      "Processing image: data/dissected/p039.nii.gz and masks: []\n",
      "Center of Mass of data/dissected/p039.nii.gz is already in origin.\n",
      "Processing image: data/dissected/p040.nii.gz and masks: []\n",
      "Center of Mass of data/dissected/p040.nii.gz is already in origin.\n",
      "Processing image: data/dissected/p041.nii.gz and masks: []\n",
      "Center of Mass of data/dissected/p041.nii.gz is already in origin.\n",
      "Processing image: data/dissected/p042.nii.gz and masks: []\n",
      "Center of Mass of data/dissected/p042.nii.gz is already in origin.\n",
      "Processing image: data/dissected/p043.nii.gz and masks: []\n",
      "Center of Mass of data/dissected/p043.nii.gz is already in origin.\n",
      "Processing image: data/dissected/p044.nii.gz and masks: []\n",
      "Center of Mass of data/dissected/p044.nii.gz is already in origin.\n",
      "Processing image: data/dissected/p045.nii.gz and masks: []\n",
      "Center of Mass of data/dissected/p045.nii.gz is already in origin.\n",
      "Processing image: data/dissected/p046.nii.gz and masks: []\n",
      "Center of Mass of data/dissected/p046.nii.gz is already in origin.\n",
      "Processing image: data/dissected/p047.nii.gz and masks: []\n",
      "Center of Mass of data/dissected/p047.nii.gz is already in origin.\n",
      "Processing image: data/dissected/p048.nii.gz and masks: []\n",
      "Center of Mass of data/dissected/p048.nii.gz is already in origin.\n",
      "Processing image: data/manually_labels/p004.nii.gz and masks: ['data/manually_labels/p004-leg.nii.gz', 'data/manually_labels/p004-loin.nii.gz', 'data/manually_labels/p004-belly.nii.gz', 'data/manually_labels/p004-groin.nii.gz', 'data/manually_labels/p004-shoulder.nii.gz', 'data/manually_labels/p004-body.nii.gz']\n",
      "Center of Mass of data/manually_labels/p004.nii.gz is already in origin.\n",
      "Processing image: data/manually_labels/p029.nii.gz and masks: ['data/manually_labels/p029-leg.nii.gz', 'data/manually_labels/p029-loin.nii.gz', 'data/manually_labels/p029-belly.nii.gz', 'data/manually_labels/p029-groin.nii.gz', 'data/manually_labels/p029-shoulder.nii.gz', 'data/manually_labels/p029-body.nii.gz']\n",
      "Center of Mass of data/manually_labels/p029.nii.gz is already in origin.\n",
      "Processing image: data/manually_labels/p032.nii.gz and masks: ['data/manually_labels/p032-leg.nii.gz', 'data/manually_labels/p032-loin.nii.gz', 'data/manually_labels/p032-belly.nii.gz', 'data/manually_labels/p032-groin.nii.gz', 'data/manually_labels/p032-shoulder.nii.gz', 'data/manually_labels/p032-body.nii.gz']\n",
      "Center of Mass of data/manually_labels/p032.nii.gz is already in origin.\n",
      "Processing image: data/manually_labels/p041.nii.gz and masks: ['data/manually_labels/p041-leg.nii.gz', 'data/manually_labels/p041-loin.nii.gz', 'data/manually_labels/p041-belly.nii.gz', 'data/manually_labels/p041-groin.nii.gz', 'data/manually_labels/p041-shoulder.nii.gz', 'data/manually_labels/p041-body.nii.gz']\n",
      "Center of Mass of data/manually_labels/p041.nii.gz is already in origin.\n",
      "Processing image: data/manually_labels/p048.nii.gz and masks: ['data/manually_labels/p048-leg.nii.gz', 'data/manually_labels/p048-loin.nii.gz', 'data/manually_labels/p048-belly.nii.gz', 'data/manually_labels/p048-groin.nii.gz', 'data/manually_labels/p048-shoulder.nii.gz', 'data/manually_labels/p048-body.nii.gz']\n",
      "Center of Mass of data/manually_labels/p048.nii.gz is already in origin.\n"
     ]
    }
   ],
   "source": [
    "for d in dissected_images: \n",
    "    maweight.origin_to_center_of_mass(d)\n",
    "for i, le, lo, be, g, s, bo in zip(manually_segmented_images, manually_segmented_legs, manually_segmented_loins, \n",
    "                      manually_segmented_bellies, manually_segmented_groins, manually_segmented_shoulders, \n",
    "                      manually_segmented_bodies):\n",
    "    maweight.origin_to_center_of_mass(i, [le, lo, be, g, s, bo])"
   ]
  },
  {
   "cell_type": "markdown",
   "metadata": {},
   "source": [
    "## Segmentation by Registration"
   ]
  },
  {
   "cell_type": "code",
   "execution_count": 5,
   "metadata": {},
   "outputs": [
    {
     "name": "stderr",
     "output_type": "stream",
     "text": [
      "100%|██████████████████████████████████████| 48/48 [26:55:48<00:00, 2019.76s/it]\n"
     ]
    }
   ],
   "source": [
    "for d in tqdm.tqdm(dissected_images):\n",
    "    for i, le, lo, be, g, s, bo in zip(manually_segmented_images, manually_segmented_legs, manually_segmented_loins, \n",
    "                                       manually_segmented_bellies, manually_segmented_groins, \n",
    "                                       manually_segmented_shoulders, manually_segmented_bodies):\n",
    "        output_leg= os.path.join(output_path, d.split(os.sep)[-1] + '_' + le.split(os.sep)[-1] + '_' + image_format)\n",
    "        output_loin= os.path.join(output_path, d.split(os.sep)[-1] + '_' + lo.split(os.sep)[-1] + '_' + image_format)\n",
    "        output_belly= os.path.join(output_path, d.split(os.sep)[-1] + '_' + be.split(os.sep)[-1] + '_' + image_format)\n",
    "        output_groin= os.path.join(output_path, d.split(os.sep)[-1] + '_' + g.split(os.sep)[-1] + '_' + image_format)\n",
    "        output_shoulder= os.path.join(output_path, d.split(os.sep)[-1] + '_' + s.split(os.sep)[-1] + '_' + image_format)\n",
    "        output_body= os.path.join(output_path, d.split(os.sep)[-1] + '_' + bo.split(os.sep)[-1] + '_' + image_format)\n",
    "        if save_registered_images:\n",
    "            output_registered= os.path.join(output_path, d.split(os.sep)[-1] + '_' + i.split(os.sep)[-1] + '_' + image_format)\n",
    "        else:\n",
    "            output_registered= None\n",
    "        if (any(not os.path.isfile(f) for f in [output_leg, output_loin, output_belly, output_groin, output_shoulder, output_body]) or \n",
    "                (save_registered_images and not os.path.isfile(output_registered))):\n",
    "            maweight.register_and_transform(i, d, [le, lo, be, g, s, bo], [output_leg, output_loin, output_belly, output_groin, output_shoulder, output_body], \n",
    "                                            registered_image_path= output_registered, threads= threads, params= elastix_params, work_dir= tmp_path, verbose= 0)"
   ]
  },
  {
   "cell_type": "markdown",
   "metadata": {},
   "source": [
    "## Extracting the features"
   ]
  },
  {
   "cell_type": "code",
   "execution_count": 6,
   "metadata": {},
   "outputs": [],
   "source": [
    "def extract_features(dissected_images, manually_segmented_targets, bin_min, bin_max, bin_width):\n",
    "    dataframes= []\n",
    "    \n",
    "    for d in tqdm.tqdm(dissected_images):\n",
    "        #print('processing: %s' % d)\n",
    "        \n",
    "        fitted_masks= []\n",
    "        \n",
    "        for m in manually_segmented_targets:\n",
    "            output_skull= os.path.join(output_path, d.split(os.sep)[-1] + '_' + m.split(os.sep)[-1]+ '_' + image_format)\n",
    "            fitted_masks.append(output_skull)\n",
    "        labels= [f.split(os.sep)[-1].split('_')[1] for f in fitted_masks]\n",
    "\n",
    "        dataframes.append(maweight.extract_features_3d(d, fitted_masks, labels, bins=list(range(bin_min, bin_max+1, bin_width)), thresholds=[threshold]))\n",
    "    dataframes= pd.concat(dataframes, axis=0, ignore_index=True)\n",
    "    dataframes['filename']= dissected_images\n",
    "    \n",
    "    \n",
    "    return dataframes"
   ]
  },
  {
   "cell_type": "code",
   "execution_count": 7,
   "metadata": {},
   "outputs": [
    {
     "name": "stderr",
     "output_type": "stream",
     "text": [
      "100%|███████████████████████████████████████████| 48/48 [19:06<00:00, 23.88s/it]\n"
     ]
    }
   ],
   "source": [
    "leg_features= extract_features(dissected_images, manually_segmented_legs, bin_min, bin_max, bin_width)\n",
    "leg_features.to_csv(leg_features_path, index=False)"
   ]
  },
  {
   "cell_type": "code",
   "execution_count": 8,
   "metadata": {},
   "outputs": [
    {
     "name": "stderr",
     "output_type": "stream",
     "text": [
      "100%|███████████████████████████████████████████| 48/48 [18:40<00:00, 23.35s/it]\n"
     ]
    }
   ],
   "source": [
    "loin_features= extract_features(dissected_images, manually_segmented_loins, bin_min, bin_max, bin_width)\n",
    "loin_features.to_csv(loin_features_path, index=False)"
   ]
  },
  {
   "cell_type": "code",
   "execution_count": 9,
   "metadata": {},
   "outputs": [
    {
     "name": "stderr",
     "output_type": "stream",
     "text": [
      "100%|███████████████████████████████████████████| 48/48 [17:42<00:00, 22.14s/it]\n"
     ]
    }
   ],
   "source": [
    "belly_features= extract_features(dissected_images, manually_segmented_bellies, bin_min, bin_max, bin_width)\n",
    "belly_features.to_csv(belly_features_path, index=False)"
   ]
  },
  {
   "cell_type": "code",
   "execution_count": 10,
   "metadata": {},
   "outputs": [
    {
     "name": "stderr",
     "output_type": "stream",
     "text": [
      "100%|███████████████████████████████████████████| 48/48 [16:25<00:00, 20.54s/it]\n"
     ]
    }
   ],
   "source": [
    "groin_features= extract_features(dissected_images, manually_segmented_groins, bin_min, bin_max, bin_width)\n",
    "groin_features.to_csv(groin_features_path, index=False)"
   ]
  },
  {
   "cell_type": "code",
   "execution_count": 11,
   "metadata": {},
   "outputs": [
    {
     "name": "stderr",
     "output_type": "stream",
     "text": [
      "100%|███████████████████████████████████████████| 48/48 [18:41<00:00, 23.37s/it]\n"
     ]
    }
   ],
   "source": [
    "shoulder_features= extract_features(dissected_images, manually_segmented_shoulders, bin_min, bin_max, bin_width)\n",
    "shoulder_features.to_csv(shoulder_features_path, index=False)"
   ]
  },
  {
   "cell_type": "code",
   "execution_count": 12,
   "metadata": {},
   "outputs": [
    {
     "name": "stderr",
     "output_type": "stream",
     "text": [
      "100%|███████████████████████████████████████████| 48/48 [27:12<00:00, 34.01s/it]\n"
     ]
    }
   ],
   "source": [
    "body_features= extract_features(dissected_images, manually_segmented_bodies, bin_min_body, bin_max_body, bin_width_body)\n",
    "body_features.to_csv(body_features_path, index=False)"
   ]
  },
  {
   "cell_type": "code",
   "execution_count": null,
   "metadata": {},
   "outputs": [],
   "source": []
  },
  {
   "cell_type": "code",
   "execution_count": null,
   "metadata": {},
   "outputs": [],
   "source": []
  },
  {
   "cell_type": "code",
   "execution_count": null,
   "metadata": {},
   "outputs": [],
   "source": []
  },
  {
   "cell_type": "code",
   "execution_count": null,
   "metadata": {},
   "outputs": [],
   "source": []
  },
  {
   "cell_type": "code",
   "execution_count": null,
   "metadata": {},
   "outputs": [],
   "source": []
  },
  {
   "cell_type": "code",
   "execution_count": null,
   "metadata": {},
   "outputs": [],
   "source": []
  },
  {
   "cell_type": "code",
   "execution_count": null,
   "metadata": {},
   "outputs": [],
   "source": []
  },
  {
   "cell_type": "code",
   "execution_count": null,
   "metadata": {},
   "outputs": [],
   "source": []
  },
  {
   "cell_type": "code",
   "execution_count": null,
   "metadata": {},
   "outputs": [],
   "source": []
  },
  {
   "cell_type": "code",
   "execution_count": null,
   "metadata": {},
   "outputs": [],
   "source": []
  }
 ],
 "metadata": {
  "kernelspec": {
   "display_name": "Python 3 (ipykernel)",
   "language": "python",
   "name": "python3"
  },
  "language_info": {
   "codemirror_mode": {
    "name": "ipython",
    "version": 3
   },
   "file_extension": ".py",
   "mimetype": "text/x-python",
   "name": "python",
   "nbconvert_exporter": "python",
   "pygments_lexer": "ipython3",
   "version": "3.12.3"
  }
 },
 "nbformat": 4,
 "nbformat_minor": 4
}
