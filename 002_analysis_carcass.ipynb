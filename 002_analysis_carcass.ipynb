{
 "cells": [
  {
   "cell_type": "code",
   "execution_count": 1,
   "metadata": {},
   "outputs": [],
   "source": [
    "import numpy as np\n",
    "import pandas as pd\n",
    "import pickle\n",
    "import xgboost\n",
    "import os\n",
    "from scipy.stats import ttest_1samp, ttest_ind, ttest_rel\n",
    "from config import path_prefix_results\n",
    "import warnings\n",
    "\n",
    "warnings.filterwarnings('ignore')\n"
   ]
  },
  {
   "cell_type": "markdown",
   "metadata": {},
   "source": [
    "## Create latex template for leg, loin, belly, shoulder, body results"
   ]
  },
  {
   "cell_type": "code",
   "execution_count": 2,
   "metadata": {},
   "outputs": [],
   "source": [
    "#latex output setup\n",
    "latex_template = r'''\\documentclass[a4paper]{{article}}\n",
    "\\usepackage{{booktabs}}\n",
    "\\usepackage{{pdflscape}}\n",
    "\\begin{{document}}\n",
    "\\thispagestyle{{empty}}\n",
    "\\begin{{landscape}}\n",
    "{}\n",
    "\\end{{landscape}}\n",
    "\\end{{document}}\n",
    "'''\n",
    "\n",
    "path_body_r2_latex= os.path.join(path_prefix_results, 'body_r2.tex')\n",
    "path_body_rmse_latex= os.path.join(path_prefix_results, 'body_rmse.tex')\n",
    "path_body_ttest_latex= os.path.join(path_prefix_results, 'body_ttest.tex')\n",
    "path_body_fs_ttest_diff_latex= os.path.join(path_prefix_results, 'body_fs_ttest_diff.tex')\n",
    "path_body_fs_ttest_diff_cross_latex= os.path.join(path_prefix_results, 'body_fs_ttest_diff_cross.tex')"
   ]
  },
  {
   "cell_type": "code",
   "execution_count": 3,
   "metadata": {},
   "outputs": [],
   "source": [
    "def test_diff_cross(df, row='multi-atlas'):\n",
    "    tmp= pd.DataFrame(index=df.columns, columns=df.columns)\n",
    "    for i in df.columns:\n",
    "        for j in df.columns:\n",
    "            tmp.loc[i,j]= ttest_rel(np.abs(df.loc[row, i]), np.abs(df.loc[row, j]))[1]\n",
    "    return tmp\n",
    "\n",
    "def test_diff(df, col='multi-atlas'):\n",
    "    tmp= pd.DataFrame(index=df.index, columns=df.columns)\n",
    "    for i in df.index:\n",
    "        for j in df.columns:\n",
    "            tmp.loc[i,j]= ttest_rel(np.abs(df.loc[i, j]), np.abs(df.loc[col, j]))[1]\n",
    "    tmp= tmp.drop(col, axis='rows')\n",
    "    return tmp\n",
    "\n",
    "def test_compare(df0, df1):\n",
    "    tmp= pd.DataFrame(index=df0.index, columns=df0.columns)\n",
    "    for i in df0.index:\n",
    "        for j in df0.columns:\n",
    "            tmp.loc[i,j]= ttest_rel(np.abs(df0.loc[i, j]), np.abs(df1.loc[i, j]))[1]\n",
    "    return tmp"
   ]
  },
  {
   "cell_type": "markdown",
   "metadata": {},
   "source": [
    "## Load data "
   ]
  },
  {
   "cell_type": "code",
   "execution_count": 4,
   "metadata": {},
   "outputs": [
    {
     "ename": "FileNotFoundError",
     "evalue": "[Errno 2] No such file or directory: 'results/results.pickle'",
     "output_type": "error",
     "traceback": [
      "\u001b[0;31m---------------------------------------------------------------------------\u001b[0m",
      "\u001b[0;31mFileNotFoundError\u001b[0m                         Traceback (most recent call last)",
      "Cell \u001b[0;32mIn[4], line 1\u001b[0m\n\u001b[0;32m----> 1\u001b[0m data_fs\u001b[38;5;241m=\u001b[39m pickle\u001b[38;5;241m.\u001b[39mload(\u001b[38;5;28;43mopen\u001b[39;49m\u001b[43m(\u001b[49m\u001b[43mos\u001b[49m\u001b[38;5;241;43m.\u001b[39;49m\u001b[43mpath\u001b[49m\u001b[38;5;241;43m.\u001b[39;49m\u001b[43mjoin\u001b[49m\u001b[43m(\u001b[49m\u001b[43mpath_prefix_results\u001b[49m\u001b[43m,\u001b[49m\u001b[38;5;124;43m'\u001b[39;49m\u001b[38;5;124;43mresults.pickle\u001b[39;49m\u001b[38;5;124;43m'\u001b[39;49m\u001b[43m)\u001b[49m\u001b[43m,\u001b[49m\u001b[43m \u001b[49m\u001b[38;5;124;43m'\u001b[39;49m\u001b[38;5;124;43mrb\u001b[39;49m\u001b[38;5;124;43m'\u001b[39;49m\u001b[43m)\u001b[49m)\n\u001b[1;32m      2\u001b[0m data_no_fs\u001b[38;5;241m=\u001b[39m pickle\u001b[38;5;241m.\u001b[39mload(\u001b[38;5;28mopen\u001b[39m(os\u001b[38;5;241m.\u001b[39mpath\u001b[38;5;241m.\u001b[39mjoin(path_prefix_results,\u001b[38;5;124m'\u001b[39m\u001b[38;5;124mresults_no_fs.pickle\u001b[39m\u001b[38;5;124m'\u001b[39m), \u001b[38;5;124m'\u001b[39m\u001b[38;5;124mrb\u001b[39m\u001b[38;5;124m'\u001b[39m))\n",
      "File \u001b[0;32m~/anaconda3/envs/ctweight3_12_3/lib/python3.12/site-packages/IPython/core/interactiveshell.py:324\u001b[0m, in \u001b[0;36m_modified_open\u001b[0;34m(file, *args, **kwargs)\u001b[0m\n\u001b[1;32m    317\u001b[0m \u001b[38;5;28;01mif\u001b[39;00m file \u001b[38;5;129;01min\u001b[39;00m {\u001b[38;5;241m0\u001b[39m, \u001b[38;5;241m1\u001b[39m, \u001b[38;5;241m2\u001b[39m}:\n\u001b[1;32m    318\u001b[0m     \u001b[38;5;28;01mraise\u001b[39;00m \u001b[38;5;167;01mValueError\u001b[39;00m(\n\u001b[1;32m    319\u001b[0m         \u001b[38;5;124mf\u001b[39m\u001b[38;5;124m\"\u001b[39m\u001b[38;5;124mIPython won\u001b[39m\u001b[38;5;124m'\u001b[39m\u001b[38;5;124mt let you open fd=\u001b[39m\u001b[38;5;132;01m{\u001b[39;00mfile\u001b[38;5;132;01m}\u001b[39;00m\u001b[38;5;124m by default \u001b[39m\u001b[38;5;124m\"\u001b[39m\n\u001b[1;32m    320\u001b[0m         \u001b[38;5;124m\"\u001b[39m\u001b[38;5;124mas it is likely to crash IPython. If you know what you are doing, \u001b[39m\u001b[38;5;124m\"\u001b[39m\n\u001b[1;32m    321\u001b[0m         \u001b[38;5;124m\"\u001b[39m\u001b[38;5;124myou can use builtins\u001b[39m\u001b[38;5;124m'\u001b[39m\u001b[38;5;124m open.\u001b[39m\u001b[38;5;124m\"\u001b[39m\n\u001b[1;32m    322\u001b[0m     )\n\u001b[0;32m--> 324\u001b[0m \u001b[38;5;28;01mreturn\u001b[39;00m \u001b[43mio_open\u001b[49m\u001b[43m(\u001b[49m\u001b[43mfile\u001b[49m\u001b[43m,\u001b[49m\u001b[43m \u001b[49m\u001b[38;5;241;43m*\u001b[39;49m\u001b[43margs\u001b[49m\u001b[43m,\u001b[49m\u001b[43m \u001b[49m\u001b[38;5;241;43m*\u001b[39;49m\u001b[38;5;241;43m*\u001b[39;49m\u001b[43mkwargs\u001b[49m\u001b[43m)\u001b[49m\n",
      "\u001b[0;31mFileNotFoundError\u001b[0m: [Errno 2] No such file or directory: 'results/results.pickle'"
     ]
    }
   ],
   "source": [
    "data_fs= pickle.load(open(os.path.join(path_prefix_results,'results.pickle'), 'rb'))\n",
    "data_no_fs= pickle.load(open(os.path.join(path_prefix_results,'results_no_fs.pickle'), 'rb'))"
   ]
  },
  {
   "cell_type": "code",
   "execution_count": null,
   "metadata": {},
   "outputs": [],
   "source": [
    "body_fs= data_fs[data_fs['dataset'] == 'body']\n",
    "\n",
    "body_no_fs= data_no_fs[data_no_fs['dataset'] == 'body']"
   ]
  },
  {
   "cell_type": "code",
   "execution_count": null,
   "metadata": {},
   "outputs": [],
   "source": [
    "rename_dict_regr= {'KNNR_Objective': 'kNN', 'LinearRegression_Objective': 'linear', 'PLSRegression_Objective': 'PLS', 'RidgeRegression_Objective': 'ridge', 'LassoRegression_Objective': 'lasso'}\n",
    "#rename_dict_type= {'203a': 'atlas 1', '203k': 'atlas 2', '204f': 'atlas 3', '206k': 'atlas 4', '208f': 'atlas 5', 'all': 'multi-atlas', 'mean_mask': 'mean'}\n",
    "#row_order= ['atlas 1', 'atlas 2', 'atlas 3', 'atlas 4', 'atlas 5', 'mean', 'multi-atlas']\n",
    "rename_dict_type= sorted(leg_fs['type'].unique())\n",
    "rename_dict_type= dict(map(lambda x, i: (x, f\"atlas {i+1}\"), rename_dict_type,  range(len(rename_dict_type))))\n",
    "rename_dict_type['all']= \"multi-atlas\"\n",
    "rename_dict_type['mean_mask'] = \"mean\"\n",
    "print(rename_dict_type)\n",
    "row_order= list(rename_dict_type.values())\n",
    "col_order= ['linear', 'PLS', 'lasso', 'ridge', 'kNN']"
   ]
  },
  {
   "cell_type": "markdown",
   "metadata": {},
   "source": [
    "## body $r^2$ results"
   ]
  },
  {
   "cell_type": "code",
   "execution_count": null,
   "metadata": {},
   "outputs": [],
   "source": [
    "body_fs_results= body_fs.pivot(index='type', columns='model', values='r2_1')\n",
    "body_fs_results= body_fs_results.rename(rename_dict_regr, axis='columns')\n",
    "body_fs_results= body_fs_results.rename(rename_dict_type)\n",
    "body_fs_results= body_fs_results.apply(lambda x: np.round(x, 4))\n",
    "body_fs_results= body_fs_results.loc[row_order, col_order]\n",
    "\n",
    "body_no_fs_results= body_no_fs.pivot(index='type', columns='model', values='r2_1')\n",
    "body_no_fs_results= body_no_fs_results.rename(rename_dict_regr, axis='columns')\n",
    "body_no_fs_results= body_no_fs_results.rename(rename_dict_type)\n",
    "body_no_fs_results= body_no_fs_results.apply(lambda x: np.round(x, 4))\n",
    "body_no_fs_results= body_no_fs_results.loc[row_order, col_order]\n",
    "\n",
    "body_all= pd.concat([body_fs_results, body_no_fs_results], axis='columns')\n",
    "columns= pd.MultiIndex.from_product([['feature selection', 'no feature selection'], col_order])\n",
    "body_all.columns= columns"
   ]
  },
  {
   "cell_type": "code",
   "execution_count": null,
   "metadata": {},
   "outputs": [],
   "source": [
    "body_all_r2_latex= body_all.to_latex()\n",
    "print(body_all_r2_latex)\n",
    "\n",
    "#save results to tex file\n",
    "with open(path_body_r2_latex, 'w') as f:\n",
    "    f.write(latex_template.format(body_all_r2_latex))"
   ]
  },
  {
   "cell_type": "markdown",
   "metadata": {},
   "source": [
    "## body RMSE results"
   ]
  },
  {
   "cell_type": "code",
   "execution_count": null,
   "metadata": {},
   "outputs": [],
   "source": [
    "body_fs_results_rmse= body_fs.pivot(index='type', columns='model', values='rmse_1')\n",
    "body_fs_results_rmse= body_fs_results_rmse.rename(rename_dict_regr, axis='columns')\n",
    "body_fs_results_rmse= body_fs_results_rmse.rename(rename_dict_type)\n",
    "body_fs_results_rmse= body_fs_results_rmse.apply(lambda x: np.round(x, 4))\n",
    "body_fs_results_rmse= body_fs_results_rmse.loc[row_order, col_order]\n",
    "\n",
    "body_no_fs_results_rmse= body_no_fs.pivot(index='type', columns='model', values='rmse_1')\n",
    "body_no_fs_results_rmse= body_no_fs_results_rmse.rename(rename_dict_regr, axis='columns')\n",
    "body_no_fs_results_rmse= body_no_fs_results_rmse.rename(rename_dict_type)\n",
    "body_no_fs_results_rmse= body_no_fs_results_rmse.apply(lambda x: np.round(x, 4))\n",
    "body_no_fs_results_rmse= body_no_fs_results_rmse.loc[row_order, col_order]\n",
    "\n",
    "body_all_rmse= pd.concat([body_fs_results_rmse, body_no_fs_results_rmse], axis='columns')\n",
    "columns= pd.MultiIndex.from_product([['feature selection', 'no feature selection'], col_order])\n",
    "body_all_rmse.columns= columns"
   ]
  },
  {
   "cell_type": "code",
   "execution_count": null,
   "metadata": {},
   "outputs": [],
   "source": [
    "body_all_rmse_latex= body_all_rmse.to_latex()\n",
    "print(body_all_rmse_latex)\n",
    "\n",
    "#save results to tex file\n",
    "with open(path_body_rmse_latex, 'w') as f:\n",
    "    f.write(latex_template.format(body_all_rmse_latex))"
   ]
  },
  {
   "cell_type": "markdown",
   "metadata": {},
   "source": [
    "## t-test body"
   ]
  },
  {
   "cell_type": "code",
   "execution_count": null,
   "metadata": {},
   "outputs": [],
   "source": [
    "body_fs['diff']= (body_fs['y_pred_1'] - body_fs['y_test_1'])**2\n",
    "body_fs_test= body_fs.pivot(index='type', columns='model', values='diff')\n",
    "body_fs_test= body_fs_test.rename(rename_dict_regr, axis='columns')\n",
    "body_fs_test= body_fs_test.rename(rename_dict_type)\n",
    "body_fs_test= body_fs_test.loc[row_order, col_order]\n",
    "\n",
    "body_no_fs['diff']= (body_no_fs['y_pred_1'] - body_no_fs['y_test_1'])**2\n",
    "body_no_fs_test= body_no_fs.pivot(index='type', columns='model', values='diff')\n",
    "body_no_fs_test= body_no_fs_test.rename(rename_dict_regr, axis='columns')\n",
    "body_no_fs_test= body_no_fs_test.rename(rename_dict_type)\n",
    "body_no_fs_test= body_no_fs_test.loc[row_order, col_order]"
   ]
  },
  {
   "cell_type": "code",
   "execution_count": null,
   "metadata": {},
   "outputs": [],
   "source": [
    "body_ttest_latex= test_compare(body_fs_test, body_no_fs_test).applymap(lambda x: '%.0e' % x).to_latex()\n",
    "print(body_ttest_latex)\n",
    "\n",
    "#save results to tex file\n",
    "with open(path_body_ttest_latex, 'w') as f:\n",
    "    f.write(latex_template.format(body_ttest_latex))"
   ]
  },
  {
   "cell_type": "code",
   "execution_count": null,
   "metadata": {},
   "outputs": [],
   "source": [
    "body_fs_ttest_diff_latex= test_diff(body_fs_test).applymap(lambda x: '%.0e' % x).to_latex()\n",
    "print(body_fs_ttest_diff_latex)\n",
    "\n",
    "#save results to tex file\n",
    "with open(path_body_fs_ttest_diff_latex, 'w') as f:\n",
    "    f.write(latex_template.format(body_fs_ttest_diff_latex))"
   ]
  },
  {
   "cell_type": "code",
   "execution_count": null,
   "metadata": {},
   "outputs": [],
   "source": [
    "body_fs_ttest_diff_cross_latex= test_diff_cross(body_fs_test.loc[['multi-atlas']]).applymap(lambda x: '%.0e' % x).to_latex()\n",
    "print(body_fs_ttest_diff_cross_latex)\n",
    "\n",
    "#save results to tex file\n",
    "with open(path_body_fs_ttest_diff_cross_latex, 'w') as f:\n",
    "    f.write(latex_template.format(body_fs_ttest_diff_cross_latex))"
   ]
  },
  {
   "cell_type": "markdown",
   "metadata": {},
   "source": [
    "### Convert tex files to pdfs"
   ]
  },
  {
   "cell_type": "code",
   "execution_count": null,
   "metadata": {},
   "outputs": [],
   "source": [
    "import shutil\n",
    "import glob\n",
    "\n",
    "pdflatex_path= shutil.which(\"pdflatex\")\n",
    "if path_prefix_results != os.path.basename(os.getcwd()):\n",
    "    os.chdir(path_prefix_results)\n",
    "texs= glob.glob(\"*tex\")\n",
    "temp = \"tmp\"\n",
    "os.makedirs(temp, exist_ok=True)"
   ]
  },
  {
   "cell_type": "code",
   "execution_count": null,
   "metadata": {},
   "outputs": [],
   "source": [
    "for tex in texs:\n",
    "    print(f\"Converting {tex}...\")\n",
    "    cmd= f\"{pdflatex_path} {tex} >> /dev/null\"\n",
    "    os.system(cmd)\n",
    "    for i in glob.glob(\"*.aux\") + glob.glob(\"*.log\"):\n",
    "        shutil.move(os.path.abspath(i), os.path.join(os.path.abspath(temp),i))"
   ]
  }
 ],
 "metadata": {
  "kernelspec": {
   "display_name": "Python 3 (ipykernel)",
   "language": "python",
   "name": "python3"
  },
  "language_info": {
   "codemirror_mode": {
    "name": "ipython",
    "version": 3
   },
   "file_extension": ".py",
   "mimetype": "text/x-python",
   "name": "python",
   "nbconvert_exporter": "python",
   "pygments_lexer": "ipython3",
   "version": "3.12.3"
  }
 },
 "nbformat": 4,
 "nbformat_minor": 4
}
