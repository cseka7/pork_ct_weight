{
 "cells": [
  {
   "cell_type": "code",
   "execution_count": 1,
   "metadata": {},
   "outputs": [],
   "source": [
    "import numpy as np\n",
    "import pandas as pd\n",
    "import pickle\n",
    "import xgboost\n",
    "import os\n",
    "from scipy.stats import ttest_1samp, ttest_ind, ttest_rel\n",
    "from config import path_prefix_results\n",
    "import warnings\n",
    "\n",
    "warnings.filterwarnings('ignore')\n"
   ]
  },
  {
   "cell_type": "markdown",
   "metadata": {},
   "source": [
    "## Create latex template for skull, head results"
   ]
  },
  {
   "cell_type": "code",
   "execution_count": 2,
   "metadata": {},
   "outputs": [],
   "source": [
    "#latex output setup\n",
    "latex_template = r'''\\documentclass[a4paper]{{article}}\n",
    "\\usepackage{{booktabs}}\n",
    "\\usepackage{{pdflscape}}\n",
    "\\begin{{document}}\n",
    "\\thispagestyle{{empty}}\n",
    "\\begin{{landscape}}\n",
    "{}\n",
    "\\end{{landscape}}\n",
    "\\end{{document}}\n",
    "'''\n",
    "\n",
    "path_head_r2_latex= os.path.join(path_prefix_results, 'head_r2.tex')\n",
    "path_head_rmse_latex= os.path.join(path_prefix_results, 'head_rmse.tex')\n",
    "path_head_ttest_latex= os.path.join(path_prefix_results, 'head_ttest.tex')\n",
    "path_head_fs_ttest_diff_latex= os.path.join(path_prefix_results, 'head_fs_ttest_diff.tex')\n",
    "path_head_fs_ttest_diff_cross_latex= os.path.join(path_prefix_results, 'head_fs_ttest_diff_cross.tex')\n",
    "path_skull_r2_latex= os.path.join(path_prefix_results, 'skull_r2.tex')\n",
    "path_skull_rmse_latex= os.path.join(path_prefix_results, 'skull_rmse.tex')\n",
    "path_skull_ttest_latex= os.path.join(path_prefix_results, 'skull_ttest.tex')\n",
    "path_skull_fs_ttest_diff_latex= os.path.join(path_prefix_results, 'skull_fs_ttest_diff.tex')\n",
    "path_skull_fs_ttest_diff_cross_latex= os.path.join(path_prefix_results, 'skull_fs_ttest_diff_cross.tex')"
   ]
  },
  {
   "cell_type": "code",
   "execution_count": 3,
   "metadata": {},
   "outputs": [],
   "source": [
    "def test_diff_cross(df, row='multi-atlas'):\n",
    "    tmp= pd.DataFrame(index=df.columns, columns=df.columns)\n",
    "    for i in df.columns:\n",
    "        for j in df.columns:\n",
    "            tmp.loc[i,j]= ttest_rel(np.abs(df.loc[row, i]), np.abs(df.loc[row, j]))[1]\n",
    "    return tmp\n",
    "\n",
    "def test_diff(df, col='multi-atlas'):\n",
    "    tmp= pd.DataFrame(index=df.index, columns=df.columns)\n",
    "    for i in df.index:\n",
    "        for j in df.columns:\n",
    "            tmp.loc[i,j]= ttest_rel(np.abs(df.loc[i, j]), np.abs(df.loc[col, j]))[1]\n",
    "    tmp= tmp.drop(col, axis='rows')\n",
    "    return tmp\n",
    "\n",
    "def test_compare(df0, df1):\n",
    "    tmp= pd.DataFrame(index=df0.index, columns=df0.columns)\n",
    "    for i in df0.index:\n",
    "        for j in df0.columns:\n",
    "            tmp.loc[i,j]= ttest_rel(np.abs(df0.loc[i, j]), np.abs(df1.loc[i, j]))[1]\n",
    "    return tmp"
   ]
  },
  {
   "cell_type": "markdown",
   "metadata": {},
   "source": [
    "## Load data "
   ]
  },
  {
   "cell_type": "code",
   "execution_count": 4,
   "metadata": {},
   "outputs": [],
   "source": [
    "data_fs= pickle.load(open(os.path.join(path_prefix_results,'results.pickle'), 'rb'))\n",
    "data_no_fs= pickle.load(open(os.path.join(path_prefix_results,'results_no_fs.pickle'), 'rb'))"
   ]
  },
  {
   "cell_type": "code",
   "execution_count": 5,
   "metadata": {},
   "outputs": [],
   "source": [
    "skull_fs= data_fs[data_fs['dataset'] == 'skull']\n",
    "head_fs= data_fs[data_fs['dataset'] == 'head']\n",
    "\n",
    "skull_no_fs= data_no_fs[data_no_fs['dataset'] == 'skull']\n",
    "head_no_fs= data_no_fs[data_no_fs['dataset'] == 'head']"
   ]
  },
  {
   "cell_type": "code",
   "execution_count": 6,
   "metadata": {},
   "outputs": [
    {
     "name": "stdout",
     "output_type": "stream",
     "text": [
      "['127a', '130a', '139k', '152k', '166a', '234a', '237f', '240k', '246f', '261a', '274f', '275k', '284f', '297a', '298a', '305a', '310a', '316k', '319k', '333k', 'all', 'mean_mask']\n"
     ]
    }
   ],
   "source": [
    "print(sorted(skull_fs['type'].unique()))"
   ]
  },
  {
   "cell_type": "code",
   "execution_count": 7,
   "metadata": {},
   "outputs": [
    {
     "name": "stdout",
     "output_type": "stream",
     "text": [
      "{'127a': 'atlas 1', '130a': 'atlas 2', '139k': 'atlas 3', '152k': 'atlas 4', '166a': 'atlas 5', '234a': 'atlas 6', '237f': 'atlas 7', '240k': 'atlas 8', '246f': 'atlas 9', '261a': 'atlas 10', '274f': 'atlas 11', '275k': 'atlas 12', '284f': 'atlas 13', '297a': 'atlas 14', '298a': 'atlas 15', '305a': 'atlas 16', '310a': 'atlas 17', '316k': 'atlas 18', '319k': 'atlas 19', '333k': 'atlas 20', 'all': 'multi-atlas', 'mean_mask': 'mean'}\n"
     ]
    }
   ],
   "source": [
    "rename_dict_regr= {'KNNR_Objective': 'kNN', 'LinearRegression_Objective': 'linear', 'PLSRegression_Objective': 'PLS', 'RidgeRegression_Objective': 'ridge', 'LassoRegression_Objective': 'lasso'}\n",
    "#rename_dict_type= {'203a': 'atlas 1', '203k': 'atlas 2', '204f': 'atlas 3', '206k': 'atlas 4', '208f': 'atlas 5', 'all': 'multi-atlas', 'mean_mask': 'mean'}\n",
    "#row_order= ['atlas 1', 'atlas 2', 'atlas 3', 'atlas 4', 'atlas 5', 'mean', 'multi-atlas']\n",
    "rename_dict_type= sorted(skull_fs['type'].unique())\n",
    "rename_dict_type= dict(map(lambda x, i: (x, f\"atlas {i+1}\"), rename_dict_type,  range(len(rename_dict_type))))\n",
    "rename_dict_type['all']= \"multi-atlas\"\n",
    "rename_dict_type['mean_mask'] = \"mean\"\n",
    "print(rename_dict_type)\n",
    "row_order= list(rename_dict_type.values())\n",
    "col_order= ['linear', 'PLS', 'lasso', 'ridge', 'kNN']"
   ]
  },
  {
   "cell_type": "markdown",
   "metadata": {},
   "source": [
    "## skull $r^2$ results"
   ]
  },
  {
   "cell_type": "code",
   "execution_count": 8,
   "metadata": {},
   "outputs": [],
   "source": [
    "skull_fs_results= skull_fs.pivot(index='type', columns='model', values='r2_1')\n",
    "skull_fs_results= skull_fs_results.rename(rename_dict_regr, axis='columns')\n",
    "skull_fs_results= skull_fs_results.rename(rename_dict_type)\n",
    "skull_fs_results= skull_fs_results.apply(lambda x: np.round(x, 4))\n",
    "skull_fs_results= skull_fs_results.loc[row_order, col_order]\n",
    "\n",
    "skull_no_fs_results= skull_no_fs.pivot(index='type', columns='model', values='r2_1')\n",
    "skull_no_fs_results= skull_no_fs_results.rename(rename_dict_regr, axis='columns')\n",
    "skull_no_fs_results= skull_no_fs_results.rename(rename_dict_type)\n",
    "skull_no_fs_results= skull_no_fs_results.apply(lambda x: np.round(x, 4))\n",
    "skull_no_fs_results= skull_no_fs_results.loc[row_order, col_order]\n",
    "\n",
    "skull_all= pd.concat([skull_fs_results, skull_no_fs_results], axis='columns')\n",
    "columns= pd.MultiIndex.from_product([['feature selection', 'no feature selection'], col_order])\n",
    "skull_all.columns= columns"
   ]
  },
  {
   "cell_type": "code",
   "execution_count": 9,
   "metadata": {},
   "outputs": [
    {
     "name": "stdout",
     "output_type": "stream",
     "text": [
      "\\begin{tabular}{lrrrrrrrrrr}\n",
      "\\toprule\n",
      "{} & \\multicolumn{5}{l}{feature selection} & \\multicolumn{5}{l}{no feature selection} \\\\\n",
      "{} &            linear &     PLS &   lasso &   ridge &     kNN &               linear &     PLS &   lasso &   ridge &     kNN \\\\\n",
      "type        &                   &         &         &         &         &                      &         &         &         &         \\\\\n",
      "\\midrule\n",
      "atlas 1     &            0.9796 &  0.5478 &  0.5374 &  0.9819 &  0.7320 &              -0.1286 &  0.1560 &  0.1561 &  0.0903 &  0.3326 \\\\\n",
      "atlas 2     &            0.4594 &  0.6299 &  0.5854 &  0.6434 &  0.5601 &              -0.1915 & -0.1125 &  0.1843 &  0.0043 &  0.3559 \\\\\n",
      "atlas 3     &            0.7744 &  0.7102 &  0.7602 &  0.5821 &  0.6766 &              -0.3353 & -0.0799 &  0.2181 &  0.0403 &  0.1346 \\\\\n",
      "atlas 4     &            0.7120 &  0.6920 &  0.7129 &  0.7014 &  0.7482 &              -0.2395 &  0.2179 &  0.3162 &  0.2526 &  0.2038 \\\\\n",
      "atlas 5     &            0.3199 &  0.5970 &  0.6052 &  0.8624 &  0.3555 &              -0.5430 & -0.0916 &  0.0259 & -0.2006 &  0.2034 \\\\\n",
      "atlas 6     &            0.3014 &  0.6697 &  0.5823 &  0.6834 &  0.6608 &              -1.4422 & -0.1276 &  0.1185 & -0.0958 &  0.1903 \\\\\n",
      "atlas 7     &            0.3044 &  0.5597 &  0.4856 &  0.6422 &  0.6176 &              -1.1895 &  0.0236 &  0.1211 &  0.0095 &  0.2040 \\\\\n",
      "atlas 8     &            0.4477 &  0.5069 &  0.6384 &  0.5508 &  0.7400 &              -0.7726 & -0.1855 &  0.1669 & -0.1271 &  0.2047 \\\\\n",
      "atlas 9     &            0.4733 &  0.4061 &  0.5174 &  0.5470 &  0.6548 &              -2.0966 & -0.0581 &  0.1828 & -0.0214 &  0.1496 \\\\\n",
      "atlas 10    &            0.4897 &  0.7179 &  0.5527 &  0.5666 &  0.4898 &               0.1546 & -0.1682 &  0.1179 & -0.0005 &  0.1458 \\\\\n",
      "atlas 11    &            0.3062 &  0.4054 &  0.4733 &  0.3982 &  0.6365 &              -1.8329 & -0.0037 &  0.0412 & -0.0797 &  0.1721 \\\\\n",
      "atlas 12    &            0.3634 &  0.2684 &  0.4251 &  0.4264 &  0.4532 &              -1.9650 & -0.0423 &  0.0127 & -0.2637 &  0.0684 \\\\\n",
      "atlas 13    &            0.3619 &  0.4164 &  0.2424 &  0.2585 &  0.1574 &              -3.1253 & -0.8359 & -0.0795 & -0.5707 & -0.0767 \\\\\n",
      "atlas 14    &            0.2777 &  0.2860 &  0.2331 &  0.2717 &  0.2989 &              -2.9676 & -0.1997 & -0.0397 & -0.1406 & -0.1076 \\\\\n",
      "atlas 15    &            0.4627 &  0.4460 &  0.3668 &  0.6445 &  0.5666 &              -2.2656 & -0.0075 & -0.0217 & -0.0159 &  0.0919 \\\\\n",
      "atlas 16    &            0.3747 &  0.4684 &  0.5770 &  0.6280 &  0.6533 &              -1.1975 & -0.1639 &  0.1362 & -0.0047 &  0.0379 \\\\\n",
      "atlas 17    &            0.6596 &  0.8909 &  0.7673 &  0.8455 &  0.4596 &               0.5122 &  0.1261 &  0.7391 &  0.5107 &  0.0275 \\\\\n",
      "atlas 18    &            0.4355 &  0.5441 &  0.6560 &  0.6680 &  0.6526 &              -0.5006 &  0.0353 &  0.1560 &  0.1026 &  0.0980 \\\\\n",
      "atlas 19    &            0.4662 &  0.5816 &  0.5832 &  0.5910 &  0.4596 &               0.0451 & -0.0426 & -0.0059 & -0.1047 &  0.1438 \\\\\n",
      "atlas 20    &            0.4327 &  0.4815 &  0.4453 &  0.5003 &  0.6483 &              -0.1106 &  0.0460 &  0.1329 &  0.0762 &  0.2363 \\\\\n",
      "multi-atlas &            0.7946 &  0.9889 &  0.9633 &  0.9699 &  0.7291 &              -0.2418 & -0.0405 &  0.0969 & -0.2074 &  0.1117 \\\\\n",
      "mean        &            0.2865 &  0.3693 &  0.4652 &  0.5272 &  0.6264 &              -2.5479 & -0.4148 & -0.0085 & -0.2285 &  0.1426 \\\\\n",
      "\\bottomrule\n",
      "\\end{tabular}\n",
      "\n"
     ]
    }
   ],
   "source": [
    "skull_all_r2_latex= skull_all.to_latex()\n",
    "print(skull_all_r2_latex)\n",
    "\n",
    "#save results to tex file\n",
    "with open(path_skull_r2_latex, 'w') as f:\n",
    "    f.write(latex_template.format(skull_all_r2_latex))"
   ]
  },
  {
   "cell_type": "markdown",
   "metadata": {},
   "source": [
    "## skull RMSE results"
   ]
  },
  {
   "cell_type": "code",
   "execution_count": 10,
   "metadata": {},
   "outputs": [],
   "source": [
    "skull_fs_results_rmse= skull_fs.pivot(index='type', columns='model', values='rmse_1')\n",
    "skull_fs_results_rmse= skull_fs_results_rmse.rename(rename_dict_regr, axis='columns')\n",
    "skull_fs_results_rmse= skull_fs_results_rmse.rename(rename_dict_type)\n",
    "skull_fs_results_rmse= skull_fs_results_rmse.apply(lambda x: np.round(x, 4))\n",
    "skull_fs_results_rmse= skull_fs_results_rmse.loc[row_order, col_order]\n",
    "\n",
    "skull_no_fs_results_rmse= skull_no_fs.pivot(index='type', columns='model', values='rmse_1')\n",
    "skull_no_fs_results_rmse= skull_no_fs_results_rmse.rename(rename_dict_regr, axis='columns')\n",
    "skull_no_fs_results_rmse= skull_no_fs_results_rmse.rename(rename_dict_type)\n",
    "skull_no_fs_results_rmse= skull_no_fs_results_rmse.apply(lambda x: np.round(x, 4))\n",
    "skull_no_fs_results_rmse= skull_no_fs_results_rmse.loc[row_order, col_order]\n",
    "\n",
    "skull_all_rmse= pd.concat([skull_fs_results_rmse, skull_no_fs_results_rmse], axis='columns')\n",
    "columns= pd.MultiIndex.from_product([['feature selection', 'no feature selection'], col_order])\n",
    "skull_all_rmse.columns= columns"
   ]
  },
  {
   "cell_type": "code",
   "execution_count": 11,
   "metadata": {},
   "outputs": [
    {
     "name": "stdout",
     "output_type": "stream",
     "text": [
      "\\begin{tabular}{lrrrrrrrrrr}\n",
      "\\toprule\n",
      "{} & \\multicolumn{5}{l}{feature selection} & \\multicolumn{5}{l}{no feature selection} \\\\\n",
      "{} &            linear &     PLS &   lasso &   ridge &     kNN &               linear &      PLS &    lasso &    ridge &      kNN \\\\\n",
      "type        &                   &         &         &         &         &                      &          &          &          &          \\\\\n",
      "\\midrule\n",
      "atlas 1     &            1.4128 &  6.6497 &  6.7256 &  1.3301 &  5.1189 &              10.5053 &   9.0846 &   9.0841 &   9.4316 &   8.0786 \\\\\n",
      "atlas 2     &            7.2707 &  6.0159 &  6.3672 &  5.9054 &  6.5589 &              10.7943 &  10.4304 &   8.9309 &   9.8674 &   7.9362 \\\\\n",
      "atlas 3     &            4.6974 &  5.3232 &  4.8426 &  6.3925 &  5.6234 &              11.4270 &  10.2763 &   8.7441 &   9.6877 &   9.1991 \\\\\n",
      "atlas 4     &            5.3067 &  5.4883 &  5.2990 &  5.4036 &  4.9625 &              11.0095 &   8.7450 &   8.1773 &   8.5488 &   8.8238 \\\\\n",
      "atlas 5     &            8.1550 &  6.2776 &  6.2134 &  3.6682 &  7.9390 &              12.2836 &  10.3316 &   9.7599 &  10.8353 &   8.8261 \\\\\n",
      "atlas 6     &            8.2654 &  5.6834 &  6.3911 &  5.5644 &  5.7594 &              15.4538 &  10.5008 &   9.2844 &  10.3515 &   8.8980 \\\\\n",
      "atlas 7     &            8.2473 &  6.5615 &  7.0925 &  5.9147 &  6.1151 &              14.6325 &   9.7712 &   9.2708 &   9.8418 &   8.8226 \\\\\n",
      "atlas 8     &            7.3490 &  6.9441 &  5.9469 &  6.6275 &  5.0425 &              13.1657 &  10.7670 &   9.0257 &  10.4983 &   8.8189 \\\\\n",
      "atlas 9     &            7.1768 &  7.6207 &  6.8698 &  6.6559 &  5.8098 &              17.4014 &  10.1721 &   8.9395 &   9.9942 &   9.1193 \\\\\n",
      "atlas 10    &            7.0641 &  5.2519 &  6.6138 &  6.5101 &  7.0634 &               9.0922 &  10.6882 &   9.2875 &   9.8911 &   9.1394 \\\\\n",
      "atlas 11    &            8.2366 &  7.6252 &  7.1766 &  7.6713 &  5.9620 &              16.6440 &   9.9070 &   9.6829 &  10.2754 &   8.9979 \\\\\n",
      "atlas 12    &            7.8902 &  8.4582 &  7.4977 &  7.4896 &  7.3125 &              17.0278 &  10.0960 &   9.8258 &  11.1164 &   9.5445 \\\\\n",
      "atlas 13    &            7.8996 &  7.5544 &  8.6070 &  8.5154 &  9.0770 &              20.0850 &  13.3988 &  10.2744 &  12.3932 &  10.2610 \\\\\n",
      "atlas 14    &            8.4040 &  8.3559 &  8.6598 &  8.4392 &  8.2801 &              19.6973 &  10.8311 &  10.0833 &  10.5610 &  10.4073 \\\\\n",
      "atlas 15    &            7.2483 &  7.3601 &  7.8688 &  5.8964 &  6.5105 &              17.8700 &   9.9258 &   9.9954 &   9.9670 &   9.4232 \\\\\n",
      "atlas 16    &            7.8194 &  7.2097 &  6.4312 &  6.0314 &  5.8224 &              14.6593 &  10.6685 &   9.1909 &   9.9121 &   9.6998 \\\\\n",
      "atlas 17    &            5.7694 &  3.2663 &  4.7701 &  3.8873 &  7.2698 &               6.9066 &   9.2446 &   5.0507 &   6.9169 &   9.7521 \\\\\n",
      "atlas 18    &            7.4298 &  6.6772 &  5.8001 &  5.6980 &  5.8288 &              12.1137 &   9.7125 &   9.0848 &   9.3679 &   9.3918 \\\\\n",
      "atlas 19    &            7.2252 &  6.3966 &  6.3842 &  6.3243 &  7.2693 &               9.6631 &  10.0970 &   9.9180 &  10.3934 &   9.1504 \\\\\n",
      "atlas 20    &            7.4481 &  7.1207 &  7.3650 &  6.9906 &  5.8647 &              10.4211 &   9.6586 &   9.2083 &   9.5044 &   8.6418 \\\\\n",
      "multi-atlas &            4.4818 &  1.0409 &  1.8950 &  1.7150 &  5.1472 &              11.0197 &  10.0873 &   9.3975 &  10.8658 &   9.3199 \\\\\n",
      "mean        &            8.3527 &  7.8532 &  7.2319 &  6.7995 &  6.0443 &              18.6263 &  11.7624 &   9.9308 &  10.9606 &   9.1568 \\\\\n",
      "\\bottomrule\n",
      "\\end{tabular}\n",
      "\n"
     ]
    }
   ],
   "source": [
    "skull_all_rmse_latex= skull_all_rmse.to_latex()\n",
    "print(skull_all_rmse_latex)\n",
    "\n",
    "#save results to tex file\n",
    "with open(path_skull_rmse_latex, 'w') as f:\n",
    "    f.write(latex_template.format(skull_all_rmse_latex))"
   ]
  },
  {
   "cell_type": "markdown",
   "metadata": {},
   "source": [
    "## t-test skull"
   ]
  },
  {
   "cell_type": "code",
   "execution_count": 12,
   "metadata": {},
   "outputs": [],
   "source": [
    "skull_fs['diff']= (skull_fs['y_pred_1'] - skull_fs['y_test_1'])**2\n",
    "skull_fs_test= skull_fs.pivot(index='type', columns='model', values='diff')\n",
    "skull_fs_test= skull_fs_test.rename(rename_dict_regr, axis='columns')\n",
    "skull_fs_test= skull_fs_test.rename(rename_dict_type)\n",
    "skull_fs_test= skull_fs_test.loc[row_order, col_order]\n",
    "\n",
    "skull_no_fs['diff']= (skull_no_fs['y_pred_1'] - skull_no_fs['y_test_1'])**2\n",
    "skull_no_fs_test= skull_no_fs.pivot(index='type', columns='model', values='diff')\n",
    "skull_no_fs_test= skull_no_fs_test.rename(rename_dict_regr, axis='columns')\n",
    "skull_no_fs_test= skull_no_fs_test.rename(rename_dict_type)\n",
    "skull_no_fs_test= skull_no_fs_test.loc[row_order, col_order]"
   ]
  },
  {
   "cell_type": "code",
   "execution_count": 13,
   "metadata": {},
   "outputs": [
    {
     "name": "stdout",
     "output_type": "stream",
     "text": [
      "\\begin{tabular}{llllll}\n",
      "\\toprule\n",
      "model & linear &    PLS &  lasso &  ridge &    kNN \\\\\n",
      "type        &        &        &        &        &        \\\\\n",
      "\\midrule\n",
      "atlas 1     &  7e-43 &  2e-40 &  8e-30 &  3e-62 &  1e-30 \\\\\n",
      "atlas 2     &  3e-32 &  2e-30 &  1e-30 &  2e-33 &  3e-07 \\\\\n",
      "atlas 3     &  2e-45 &  8e-61 &  8e-54 &  1e-34 &  2e-44 \\\\\n",
      "atlas 4     &  1e-44 &  6e-38 &  1e-40 &  1e-41 &  6e-36 \\\\\n",
      "atlas 5     &  5e-26 &  3e-32 &  4e-39 &  1e-43 &  6e-11 \\\\\n",
      "atlas 6     &  1e-39 &  2e-47 &  1e-37 &  4e-40 &  3e-30 \\\\\n",
      "atlas 7     &  4e-42 &  1e-21 &  5e-26 &  2e-34 &  3e-27 \\\\\n",
      "atlas 8     &  2e-41 &  4e-35 &  8e-38 &  2e-37 &  9e-41 \\\\\n",
      "atlas 9     &  7e-53 &  6e-38 &  1e-21 &  8e-28 &  9e-48 \\\\\n",
      "atlas 10    &  2e-14 &  7e-29 &  2e-38 &  3e-23 &  1e-15 \\\\\n",
      "atlas 11    &  5e-35 &  4e-25 &  2e-33 &  1e-18 &  2e-35 \\\\\n",
      "atlas 12    &  1e-42 &  4e-38 &  6e-22 &  1e-49 &  4e-24 \\\\\n",
      "atlas 13    &  7e-54 &  2e-42 &  8e-15 &  1e-32 &  1e-19 \\\\\n",
      "atlas 14    &  6e-49 &  9e-25 &  4e-15 &  5e-39 &  6e-36 \\\\\n",
      "atlas 15    &  8e-37 &  1e-31 &  3e-31 &  5e-30 &  2e-49 \\\\\n",
      "atlas 16    &  5e-48 &  4e-37 &  2e-31 &  1e-42 &  4e-40 \\\\\n",
      "atlas 17    &  5e-08 &  1e-74 &  2e-01 &  1e-28 &  7e-42 \\\\\n",
      "atlas 18    &  1e-39 &  4e-26 &  8e-46 &  2e-33 &  3e-41 \\\\\n",
      "atlas 19    &  6e-14 &  1e-40 &  5e-39 &  1e-39 &  3e-15 \\\\\n",
      "atlas 20    &  1e-09 &  5e-39 &  5e-24 &  4e-36 &  6e-31 \\\\\n",
      "multi-atlas &  3e-43 &  6e-64 &  5e-79 &  2e-57 &  2e-58 \\\\\n",
      "mean        &  1e-43 &  4e-52 &  2e-31 &  7e-39 &  6e-40 \\\\\n",
      "\\bottomrule\n",
      "\\end{tabular}\n",
      "\n"
     ]
    }
   ],
   "source": [
    "skull_ttest_latex= test_compare(skull_fs_test, skull_no_fs_test).applymap(lambda x: '%.0e' % x).to_latex()\n",
    "print(skull_ttest_latex)\n",
    "\n",
    "#save results to tex file\n",
    "with open(path_skull_ttest_latex, 'w') as f:\n",
    "    f.write(latex_template.format(skull_ttest_latex))"
   ]
  },
  {
   "cell_type": "code",
   "execution_count": 14,
   "metadata": {},
   "outputs": [
    {
     "name": "stdout",
     "output_type": "stream",
     "text": [
      "\\begin{tabular}{llllll}\n",
      "\\toprule\n",
      "model & linear &    PLS &  lasso &  ridge &    kNN \\\\\n",
      "type     &        &        &        &        &        \\\\\n",
      "\\midrule\n",
      "atlas 1  &  3e-31 &  2e-58 &  6e-65 &  9e-07 &  8e-01 \\\\\n",
      "atlas 2  &  7e-27 &  3e-65 &  2e-58 &  3e-62 &  4e-10 \\\\\n",
      "atlas 3  &  3e-01 &  1e-53 &  6e-66 &  5e-55 &  5e-04 \\\\\n",
      "atlas 4  &  9e-06 &  8e-43 &  3e-34 &  3e-42 &  3e-01 \\\\\n",
      "atlas 5  &  2e-17 &  1e-37 &  2e-42 &  1e-42 &  3e-39 \\\\\n",
      "atlas 6  &  5e-51 &  2e-61 &  2e-36 &  1e-55 &  1e-04 \\\\\n",
      "atlas 7  &  1e-42 &  2e-64 &  2e-72 &  5e-54 &  6e-08 \\\\\n",
      "atlas 8  &  2e-19 &  4e-61 &  1e-53 &  5e-48 &  4e-01 \\\\\n",
      "atlas 9  &  4e-29 &  6e-83 &  3e-64 &  1e-64 &  2e-04 \\\\\n",
      "atlas 10 &  2e-15 &  2e-56 &  5e-43 &  5e-57 &  3e-15 \\\\\n",
      "atlas 11 &  3e-56 &  7e-83 &  4e-72 &  7e-67 &  1e-05 \\\\\n",
      "atlas 12 &  1e-30 &  2e-86 &  2e-74 &  6e-47 &  5e-25 \\\\\n",
      "atlas 13 &  2e-34 &  3e-81 &  8e-70 &  1e-75 &  7e-47 \\\\\n",
      "atlas 14 &  1e-22 &  3e-69 &  5e-65 &  1e-55 &  4e-37 \\\\\n",
      "atlas 15 &  8e-10 &  1e-35 &  3e-36 &  1e-59 &  9e-11 \\\\\n",
      "atlas 16 &  3e-21 &  3e-65 &  2e-57 &  1e-30 &  1e-04 \\\\\n",
      "atlas 17 &  5e-07 &  2e-56 &  2e-46 &  2e-25 &  2e-17 \\\\\n",
      "atlas 18 &  3e-21 &  3e-94 &  6e-58 &  6e-59 &  3e-06 \\\\\n",
      "atlas 19 &  3e-27 &  6e-48 &  3e-47 &  3e-50 &  4e-24 \\\\\n",
      "atlas 20 &  8e-29 &  1e-70 &  9e-67 &  2e-59 &  3e-04 \\\\\n",
      "mean     &  6e-51 &  2e-77 &  1e-62 &  7e-60 &  1e-07 \\\\\n",
      "\\bottomrule\n",
      "\\end{tabular}\n",
      "\n"
     ]
    }
   ],
   "source": [
    "skull_fs_ttest_diff_latex= test_diff(skull_fs_test).applymap(lambda x: '%.0e' % x).to_latex()\n",
    "print(skull_fs_ttest_diff_latex)\n",
    "\n",
    "#save results to tex file\n",
    "with open(path_skull_fs_ttest_diff_latex, 'w') as f:\n",
    "    f.write(latex_template.format(skull_fs_ttest_diff_latex))"
   ]
  },
  {
   "cell_type": "code",
   "execution_count": 15,
   "metadata": {},
   "outputs": [
    {
     "name": "stdout",
     "output_type": "stream",
     "text": [
      "\\begin{tabular}{llllll}\n",
      "\\toprule\n",
      "model & linear &    PLS &  lasso &  ridge &    kNN \\\\\n",
      "model  &        &        &        &        &        \\\\\n",
      "\\midrule\n",
      "linear &    nan &  2e-34 &  6e-26 &  9e-30 &  1e-03 \\\\\n",
      "PLS    &  2e-34 &    nan &  2e-26 &  4e-17 &  2e-53 \\\\\n",
      "lasso  &  6e-26 &  2e-26 &    nan &  3e-02 &  1e-43 \\\\\n",
      "ridge  &  9e-30 &  4e-17 &  3e-02 &    nan &  1e-45 \\\\\n",
      "kNN    &  1e-03 &  2e-53 &  1e-43 &  1e-45 &    nan \\\\\n",
      "\\bottomrule\n",
      "\\end{tabular}\n",
      "\n"
     ]
    }
   ],
   "source": [
    "skull_fs_ttest_diff_cross_latex= test_diff_cross(skull_fs_test.loc[['multi-atlas']]).applymap(lambda x: '%.0e' % x).to_latex()\n",
    "print(skull_fs_ttest_diff_cross_latex)\n",
    "\n",
    "#save results to tex file\n",
    "with open(path_skull_fs_ttest_diff_cross_latex, 'w') as f:\n",
    "    f.write(latex_template.format(skull_fs_ttest_diff_cross_latex))"
   ]
  },
  {
   "cell_type": "markdown",
   "metadata": {},
   "source": [
    "## head $r^2$ results"
   ]
  },
  {
   "cell_type": "code",
   "execution_count": 16,
   "metadata": {},
   "outputs": [],
   "source": [
    "head_fs_results= head_fs.pivot(index='type', columns='model', values='r2_1')\n",
    "head_fs_results= head_fs_results.rename(rename_dict_regr, axis='columns')\n",
    "head_fs_results= head_fs_results.rename(rename_dict_type)\n",
    "head_fs_results= head_fs_results.apply(lambda x: np.round(x, 4))\n",
    "head_fs_results= head_fs_results.loc[row_order, col_order]\n",
    "\n",
    "head_no_fs_results= head_no_fs.pivot(index='type', columns='model', values='r2_1')\n",
    "head_no_fs_results= head_no_fs_results.rename(rename_dict_regr, axis='columns')\n",
    "head_no_fs_results= head_no_fs_results.rename(rename_dict_type)\n",
    "head_no_fs_results= head_no_fs_results.apply(lambda x: np.round(x, 4))\n",
    "head_no_fs_results= head_no_fs_results.loc[row_order, col_order]\n",
    "\n",
    "head_all= pd.concat([head_fs_results, head_no_fs_results], axis='columns')\n",
    "columns= pd.MultiIndex.from_product([['feature selection', 'no feature selection'], col_order])\n",
    "head_all.columns= columns"
   ]
  },
  {
   "cell_type": "code",
   "execution_count": 17,
   "metadata": {},
   "outputs": [
    {
     "name": "stdout",
     "output_type": "stream",
     "text": [
      "\\begin{tabular}{lrrrrrrrrrr}\n",
      "\\toprule\n",
      "{} & \\multicolumn{5}{l}{feature selection} & \\multicolumn{5}{l}{no feature selection} \\\\\n",
      "{} &            linear &     PLS &   lasso &   ridge &     kNN &               linear &     PLS &   lasso &   ridge &     kNN \\\\\n",
      "type        &                   &         &         &         &         &                      &         &         &         &         \\\\\n",
      "\\midrule\n",
      "atlas 1     &            0.7462 &  0.6899 &  0.6410 &  0.7488 &  0.6277 &              -0.3036 &  0.0656 &  0.1230 &  0.0266 &  0.2862 \\\\\n",
      "atlas 2     &            0.8450 &  0.5938 &  0.8066 &  0.8354 &  0.7292 &              -0.1614 &  0.0807 &  0.0744 &  0.1389 &  0.3471 \\\\\n",
      "atlas 3     &            0.6172 &  0.7147 &  0.4644 &  0.7208 &  0.6635 &              -0.7484 & -0.0095 &  0.1017 &  0.0276 &  0.3788 \\\\\n",
      "atlas 4     &            0.6538 &  0.6850 &  0.4783 &  0.8239 &  0.7193 &              -0.6151 &  0.1400 &  0.2420 &  0.0597 &  0.3641 \\\\\n",
      "atlas 5     &            0.6589 &  0.8176 &  0.8948 &  0.7772 &  0.6777 &              -0.0754 &  0.2419 &  0.1309 &  0.2868 &  0.2819 \\\\\n",
      "atlas 6     &            0.5853 &  0.5128 &  0.5148 &  0.6605 &  0.7971 &              -0.3369 & -0.1636 &  0.1399 &  0.0660 &  0.2281 \\\\\n",
      "atlas 7     &            0.4971 &  0.7007 &  0.6070 &  0.7123 &  0.8118 &              -0.6455 &  0.0493 &  0.1373 &  0.0566 &  0.2203 \\\\\n",
      "atlas 8     &            0.4956 &  0.5064 &  0.4183 &  0.6250 &  0.6034 &              -1.3020 & -0.0489 &  0.1428 & -0.1829 &  0.1247 \\\\\n",
      "atlas 9     &            0.5308 &  0.6713 &  0.6177 &  0.8074 &  0.7538 &              -0.8410 & -0.2016 &  0.1944 & -0.1356 &  0.2298 \\\\\n",
      "atlas 10    &            0.4363 &  0.4751 &  0.5239 &  0.9500 &  0.8214 &              -0.4580 & -0.2797 &  0.0306 & -0.0637 &  0.3426 \\\\\n",
      "atlas 11    &            0.4519 &  0.4570 &  0.5876 &  0.6771 &  0.5534 &              -0.7661 & -0.3496 &  0.1171 & -0.1243 &  0.1567 \\\\\n",
      "atlas 12    &            0.5039 &  0.4170 &  0.5355 &  0.5724 &  0.7188 &              -1.3943 & -0.1898 &  0.1164 & -0.2836 &  0.3035 \\\\\n",
      "atlas 13    &            0.1921 &  0.2440 &  0.2253 &  0.2319 &  0.4593 &              -0.6939 & -0.1654 &  0.0180 & -0.4893 &  0.0149 \\\\\n",
      "atlas 14    &            0.4164 &  0.2908 &  0.3004 &  0.3008 &  0.2949 &              -2.7110 &  0.0324 &  0.0090 & -0.3056 &  0.0220 \\\\\n",
      "atlas 15    &            0.2245 &  0.3658 &  0.6310 &  0.9595 &  0.5761 &              -0.5273 & -0.0302 & -0.0076 & -0.0920 &  0.1193 \\\\\n",
      "atlas 16    &            0.5219 &  0.4277 &  0.4152 &  0.5617 &  0.6000 &              -0.9158 & -0.2350 &  0.0226 & -0.2096 &  0.1736 \\\\\n",
      "atlas 17    &            0.6791 &  0.4238 &  0.9170 &  0.5485 &  0.5371 &               0.0580 & -0.2994 &  0.0782 & -0.0416 &  0.3316 \\\\\n",
      "atlas 18    &            0.6294 &  0.4788 &  0.7620 &  0.5633 &  0.5391 &              -0.4485 &  0.0796 &  0.1733 &  0.1161 &  0.1952 \\\\\n",
      "atlas 19    &            0.5874 &  0.4182 &  0.5478 &  0.4324 &  0.4873 &              -0.2422 & -0.1742 &  0.0839 & -0.1578 &  0.1460 \\\\\n",
      "atlas 20    &            0.5017 &  0.6008 &  0.5766 &  0.6638 &  0.5888 &              -0.5790 &  0.0071 &  0.1288 &  0.0967 &  0.2718 \\\\\n",
      "multi-atlas &            0.9880 &  0.9908 &  0.9682 &  0.9978 &  0.7166 &              -0.0919 & -0.1045 &  0.0654 & -0.0810 &  0.1956 \\\\\n",
      "mean        &            0.3948 &  0.6137 &  0.6434 &  0.7310 &  0.5769 &              -0.8737 & -0.1449 &  0.1013 & -0.0076 &  0.2346 \\\\\n",
      "\\bottomrule\n",
      "\\end{tabular}\n",
      "\n"
     ]
    }
   ],
   "source": [
    "head_all_r2_latex= head_all.to_latex()\n",
    "print(head_all_r2_latex)\n",
    "\n",
    "#save results to tex file\n",
    "with open(path_head_r2_latex, 'w') as f:\n",
    "    f.write(latex_template.format(head_all_r2_latex))"
   ]
  },
  {
   "cell_type": "markdown",
   "metadata": {},
   "source": [
    "## head RMSE results"
   ]
  },
  {
   "cell_type": "code",
   "execution_count": 18,
   "metadata": {},
   "outputs": [],
   "source": [
    "head_fs_results_rmse= head_fs.pivot(index='type', columns='model', values='rmse_1')\n",
    "head_fs_results_rmse= head_fs_results_rmse.rename(rename_dict_regr, axis='columns')\n",
    "head_fs_results_rmse= head_fs_results_rmse.rename(rename_dict_type)\n",
    "head_fs_results_rmse= head_fs_results_rmse.apply(lambda x: np.round(x, 4))\n",
    "head_fs_results_rmse= head_fs_results_rmse.loc[row_order, col_order]\n",
    "\n",
    "head_no_fs_results_rmse= head_no_fs.pivot(index='type', columns='model', values='rmse_1')\n",
    "head_no_fs_results_rmse= head_no_fs_results_rmse.rename(rename_dict_regr, axis='columns')\n",
    "head_no_fs_results_rmse= head_no_fs_results_rmse.rename(rename_dict_type)\n",
    "head_no_fs_results_rmse= head_no_fs_results_rmse.apply(lambda x: np.round(x, 4))\n",
    "head_no_fs_results_rmse= head_no_fs_results_rmse.loc[row_order, col_order]\n",
    "\n",
    "head_all_rmse= pd.concat([head_fs_results_rmse, head_no_fs_results_rmse], axis='columns')\n",
    "columns= pd.MultiIndex.from_product([['feature selection', 'no feature selection'], col_order])\n",
    "head_all_rmse.columns= columns"
   ]
  },
  {
   "cell_type": "code",
   "execution_count": 19,
   "metadata": {},
   "outputs": [
    {
     "name": "stdout",
     "output_type": "stream",
     "text": [
      "\\begin{tabular}{lrrrrrrrrrr}\n",
      "\\toprule\n",
      "{} & \\multicolumn{5}{l}{feature selection} & \\multicolumn{5}{l}{no feature selection} \\\\\n",
      "{} &            linear &     PLS &   lasso &   ridge &     kNN &               linear &      PLS &   lasso &    ridge &     kNN \\\\\n",
      "type        &                   &         &         &         &         &                      &          &         &          &         \\\\\n",
      "\\midrule\n",
      "atlas 1     &            4.9814 &  5.5070 &  5.9248 &  4.9567 &  6.0340 &              11.2907 &   9.5588 &  9.2606 &   9.7563 &  8.3549 \\\\\n",
      "atlas 2     &            3.8930 &  6.3029 &  4.3491 &  4.0125 &  5.1463 &              10.6571 &   9.4813 &  9.5139 &   9.1762 &  7.9903 \\\\\n",
      "atlas 3     &            6.1183 &  5.2823 &  7.2373 &  5.2252 &  5.7364 &              13.0758 &   9.9359 &  9.3726 &   9.7512 &  7.7938 \\\\\n",
      "atlas 4     &            5.8185 &  5.5500 &  7.1424 &  4.1496 &  5.2390 &              12.5672 &   9.1704 &  8.6097 &   9.5888 &  7.8855 \\\\\n",
      "atlas 5     &            5.7755 &  4.2237 &  3.2075 &  4.6682 &  5.6136 &              10.2551 &   8.6100 &  9.2188 &   8.3513 &  8.3798 \\\\\n",
      "atlas 6     &            6.3679 &  6.9023 &  6.8885 &  5.7622 &  4.4542 &              11.4337 &  10.6670 &  9.1710 &   9.5568 &  8.6879 \\\\\n",
      "atlas 7     &            7.0127 &  5.4097 &  6.1992 &  5.3043 &  4.2897 &              12.6852 &   9.6418 &  9.1851 &   9.6046 &  8.7321 \\\\\n",
      "atlas 8     &            7.0228 &  6.9473 &  7.5424 &  6.0560 &  6.2274 &              15.0035 &  10.1277 &  9.1558 &  10.7554 &  9.2516 \\\\\n",
      "atlas 9     &            6.7736 &  5.6692 &  6.1141 &  4.3397 &  4.9065 &              13.4176 &  10.8400 &  8.8758 &  10.5381 &  8.6786 \\\\\n",
      "atlas 10    &            7.4246 &  7.1644 &  6.8233 &  2.2103 &  4.1789 &              11.9404 &  11.1868 &  9.7361 &  10.1990 &  8.0181 \\\\\n",
      "atlas 11    &            7.3210 &  7.2871 &  6.3504 &  5.6191 &  6.6086 &              13.1415 &  11.4882 &  9.2919 &  10.4853 &  9.0809 \\\\\n",
      "atlas 12    &            6.9650 &  7.5505 &  6.7393 &  6.4663 &  5.2439 &              15.3015 &  10.7865 &  9.2953 &  11.2038 &  8.2529 \\\\\n",
      "atlas 13    &            8.8886 &  8.5979 &  8.7040 &  8.6669 &  7.2715 &              12.8702 &  10.6751 &  9.7995 &  12.0682 &  9.8148 \\\\\n",
      "atlas 14    &            7.5544 &  8.3277 &  8.2713 &  8.2688 &  8.3036 &              19.0496 &   9.7271 &  9.8440 &  11.2994 &  9.7792 \\\\\n",
      "atlas 15    &            8.7084 &  7.8752 &  6.0067 &  1.9911 &  6.4386 &              12.2211 &  10.0368 &  9.9263 &  10.3336 &  9.2803 \\\\\n",
      "atlas 16    &            6.8377 &  7.4812 &  7.5624 &  6.5469 &  6.2541 &              13.6873 &  10.9895 &  9.7764 &  10.8759 &  8.9895 \\\\\n",
      "atlas 17    &            5.6022 &  7.5066 &  2.8485 &  6.6446 &  6.7280 &               9.5978 &  11.2722 &  9.4945 &  10.0926 &  8.0845 \\\\\n",
      "atlas 18    &            6.0196 &  7.1388 &  4.8244 &  6.5345 &  6.7131 &              11.9017 &   9.4871 &  8.9914 &   9.2969 &  8.8713 \\\\\n",
      "atlas 19    &            6.3523 &  7.5427 &  6.6495 &  7.4499 &  7.0809 &              11.0215 &  10.7157 &  9.4651 &  10.6406 &  9.1384 \\\\\n",
      "atlas 20    &            6.9807 &  6.2477 &  6.4343 &  5.7342 &  6.3411 &              12.4260 &   9.8539 &  9.2298 &   9.3985 &  8.4383 \\\\\n",
      "multi-atlas &            1.0842 &  0.9493 &  1.7640 &  0.4602 &  5.2639 &              10.3333 &  10.3929 &  9.5600 &  10.2816 &  8.8691 \\\\\n",
      "mean        &            7.6928 &  6.1461 &  5.9055 &  5.1286 &  6.4326 &              13.5362 &  10.5809 &  9.3743 &   9.9262 &  8.6515 \\\\\n",
      "\\bottomrule\n",
      "\\end{tabular}\n",
      "\n"
     ]
    }
   ],
   "source": [
    "head_all_rmse_latex= head_all_rmse.to_latex()\n",
    "print(head_all_rmse_latex)\n",
    "\n",
    "#save results to tex file\n",
    "with open(path_head_rmse_latex, 'w') as f:\n",
    "    f.write(latex_template.format(head_all_rmse_latex))"
   ]
  },
  {
   "cell_type": "markdown",
   "metadata": {},
   "source": [
    "## t-test head"
   ]
  },
  {
   "cell_type": "code",
   "execution_count": 20,
   "metadata": {},
   "outputs": [],
   "source": [
    "head_fs['diff']= (head_fs['y_pred_1'] - head_fs['y_test_1'])**2\n",
    "head_fs_test= head_fs.pivot(index='type', columns='model', values='diff')\n",
    "head_fs_test= head_fs_test.rename(rename_dict_regr, axis='columns')\n",
    "head_fs_test= head_fs_test.rename(rename_dict_type)\n",
    "head_fs_test= head_fs_test.loc[row_order, col_order]\n",
    "\n",
    "head_no_fs['diff']= (head_no_fs['y_pred_1'] - head_no_fs['y_test_1'])**2\n",
    "head_no_fs_test= head_no_fs.pivot(index='type', columns='model', values='diff')\n",
    "head_no_fs_test= head_no_fs_test.rename(rename_dict_regr, axis='columns')\n",
    "head_no_fs_test= head_no_fs_test.rename(rename_dict_type)\n",
    "head_no_fs_test= head_no_fs_test.loc[row_order, col_order]"
   ]
  },
  {
   "cell_type": "code",
   "execution_count": 21,
   "metadata": {},
   "outputs": [
    {
     "name": "stdout",
     "output_type": "stream",
     "text": [
      "\\begin{tabular}{llllll}\n",
      "\\toprule\n",
      "model & linear &    PLS &  lasso &  ridge &    kNN \\\\\n",
      "type        &        &        &        &        &        \\\\\n",
      "\\midrule\n",
      "atlas 1     &  6e-41 &  5e-44 &  8e-51 &  8e-63 &  9e-16 \\\\\n",
      "atlas 2     &  4e-41 &  3e-48 &  6e-65 &  1e-50 &  1e-23 \\\\\n",
      "atlas 3     &  5e-49 &  5e-47 &  4e-30 &  5e-48 &  3e-18 \\\\\n",
      "atlas 4     &  1e-55 &  5e-37 &  3e-18 &  6e-59 &  3e-23 \\\\\n",
      "atlas 5     &  1e-38 &  5e-39 &  7e-81 &  3e-41 &  9e-28 \\\\\n",
      "atlas 6     &  1e-38 &  1e-52 &  1e-30 &  2e-47 &  3e-45 \\\\\n",
      "atlas 7     &  7e-44 &  6e-44 &  2e-39 &  5e-49 &  5e-48 \\\\\n",
      "atlas 8     &  1e-61 &  1e-57 &  8e-17 &  2e-54 &  6e-27 \\\\\n",
      "atlas 9     &  2e-18 &  2e-35 &  2e-34 &  7e-33 &  2e-41 \\\\\n",
      "atlas 10    &  1e-33 &  7e-61 &  8e-44 &  7e-69 &  5e-46 \\\\\n",
      "atlas 11    &  3e-40 &  1e-51 &  3e-40 &  6e-54 &  2e-37 \\\\\n",
      "atlas 12    &  6e-32 &  2e-37 &  1e-38 &  4e-39 &  2e-31 \\\\\n",
      "atlas 13    &  4e-23 &  1e-55 &  6e-15 &  2e-48 &  2e-37 \\\\\n",
      "atlas 14    &  5e-43 &  1e-32 &  9e-24 &  2e-37 &  1e-33 \\\\\n",
      "atlas 15    &  2e-16 &  3e-53 &  1e-45 &  3e-57 &  8e-32 \\\\\n",
      "atlas 16    &  8e-38 &  2e-32 &  8e-24 &  6e-32 &  9e-37 \\\\\n",
      "atlas 17    &  1e-29 &  1e-53 &  7e-88 &  8e-37 &  3e-11 \\\\\n",
      "atlas 18    &  7e-49 &  2e-55 &  1e-53 &  4e-41 &  1e-23 \\\\\n",
      "atlas 19    &  4e-38 &  8e-71 &  6e-25 &  3e-40 &  7e-49 \\\\\n",
      "atlas 20    &  2e-42 &  2e-53 &  2e-33 &  3e-61 &  1e-32 \\\\\n",
      "multi-atlas &  6e-68 &  3e-68 &  2e-80 &  7e-69 &  3e-56 \\\\\n",
      "mean        &  2e-39 &  5e-43 &  2e-48 &  7e-52 &  4e-24 \\\\\n",
      "\\bottomrule\n",
      "\\end{tabular}\n",
      "\n"
     ]
    }
   ],
   "source": [
    "head_ttest_latex= test_compare(head_fs_test, head_no_fs_test).applymap(lambda x: '%.0e' % x).to_latex()\n",
    "print(head_ttest_latex)\n",
    "\n",
    "#save results to tex file\n",
    "with open(path_head_ttest_latex, 'w') as f:\n",
    "    f.write(latex_template.format(head_ttest_latex))"
   ]
  },
  {
   "cell_type": "code",
   "execution_count": 22,
   "metadata": {},
   "outputs": [
    {
     "name": "stdout",
     "output_type": "stream",
     "text": [
      "\\begin{tabular}{llllll}\n",
      "\\toprule\n",
      "model &  linear &     PLS &  lasso &  ridge &    kNN \\\\\n",
      "type     &         &         &        &        &        \\\\\n",
      "\\midrule\n",
      "atlas 1  &   4e-60 &   3e-61 &  7e-37 &  1e-67 &  2e-05 \\\\\n",
      "atlas 2  &   1e-60 &   2e-78 &  6e-36 &  5e-80 &  6e-01 \\\\\n",
      "atlas 3  &   6e-53 &   2e-93 &  2e-76 &  3e-97 &  1e-02 \\\\\n",
      "atlas 4  &   5e-46 &   3e-46 &  3e-72 &  2e-36 &  9e-01 \\\\\n",
      "atlas 5  &   4e-81 &   3e-41 &  4e-33 &  2e-61 &  2e-02 \\\\\n",
      "atlas 6  &   4e-81 &   4e-69 &  5e-61 &  3e-77 &  7e-06 \\\\\n",
      "atlas 7  &  5e-109 &   6e-95 &  6e-39 &  2e-94 &  2e-08 \\\\\n",
      "atlas 8  &   1e-59 &   4e-84 &  1e-75 &  2e-62 &  2e-07 \\\\\n",
      "atlas 9  &   1e-71 &   8e-73 &  2e-68 &  1e-52 &  2e-02 \\\\\n",
      "atlas 10 &   3e-46 &   3e-82 &  2e-47 &  5e-47 &  4e-11 \\\\\n",
      "atlas 11 &   2e-71 &  3e-107 &  6e-53 &  2e-70 &  4e-14 \\\\\n",
      "atlas 12 &   1e-57 &   4e-81 &  6e-51 &  2e-49 &  9e-01 \\\\\n",
      "atlas 13 &   3e-84 &   1e-84 &  4e-67 &  6e-85 &  5e-18 \\\\\n",
      "atlas 14 &   9e-54 &   3e-77 &  9e-68 &  1e-67 &  8e-30 \\\\\n",
      "atlas 15 &   3e-88 &   2e-82 &  1e-46 &  2e-66 &  6e-08 \\\\\n",
      "atlas 16 &   2e-76 &  1e-100 &  1e-80 &  1e-70 &  3e-08 \\\\\n",
      "atlas 17 &   4e-49 &  7e-105 &  4e-20 &  3e-60 &  9e-17 \\\\\n",
      "atlas 18 &   1e-46 &   4e-91 &  4e-43 &  5e-72 &  5e-17 \\\\\n",
      "atlas 19 &   1e-53 &   4e-75 &  9e-52 &  1e-79 &  2e-28 \\\\\n",
      "atlas 20 &   4e-82 &   1e-86 &  2e-50 &  2e-67 &  5e-09 \\\\\n",
      "mean     &   5e-86 &   3e-72 &  2e-87 &  8e-75 &  3e-18 \\\\\n",
      "\\bottomrule\n",
      "\\end{tabular}\n",
      "\n"
     ]
    }
   ],
   "source": [
    "head_fs_ttest_diff_latex= test_diff(head_fs_test).applymap(lambda x: '%.0e' % x).to_latex()\n",
    "print(head_fs_ttest_diff_latex)\n",
    "\n",
    "#save results to tex file\n",
    "with open(path_head_fs_ttest_diff_latex, 'w') as f:\n",
    "    f.write(latex_template.format(head_fs_ttest_diff_latex))"
   ]
  },
  {
   "cell_type": "code",
   "execution_count": 23,
   "metadata": {},
   "outputs": [
    {
     "name": "stdout",
     "output_type": "stream",
     "text": [
      "\\begin{tabular}{llllll}\n",
      "\\toprule\n",
      "model & linear &    PLS &  lasso &  ridge &    kNN \\\\\n",
      "model  &        &        &        &        &        \\\\\n",
      "\\midrule\n",
      "linear &    nan &  3e-03 &  2e-19 &  2e-32 &  9e-66 \\\\\n",
      "PLS    &  3e-03 &    nan &  9e-28 &  2e-27 &  2e-66 \\\\\n",
      "lasso  &  2e-19 &  9e-28 &    nan &  1e-44 &  4e-57 \\\\\n",
      "ridge  &  2e-32 &  2e-27 &  1e-44 &    nan &  2e-68 \\\\\n",
      "kNN    &  9e-66 &  2e-66 &  4e-57 &  2e-68 &    nan \\\\\n",
      "\\bottomrule\n",
      "\\end{tabular}\n",
      "\n"
     ]
    }
   ],
   "source": [
    "head_fs_ttest_diff_cross_latex= test_diff_cross(head_fs_test.loc[['multi-atlas']]).applymap(lambda x: '%.0e' % x).to_latex()\n",
    "print(head_fs_ttest_diff_cross_latex)\n",
    "\n",
    "#save results to tex file\n",
    "with open(path_head_fs_ttest_diff_cross_latex, 'w') as f:\n",
    "    f.write(latex_template.format(head_fs_ttest_diff_cross_latex))"
   ]
  },
  {
   "cell_type": "markdown",
   "metadata": {},
   "source": [
    "### Convert tex files to pdfs"
   ]
  },
  {
   "cell_type": "code",
   "execution_count": 24,
   "metadata": {},
   "outputs": [],
   "source": [
    "import shutil\n",
    "import glob\n",
    "\n",
    "pdflatex_path= shutil.which(\"pdflatex\")\n",
    "if path_prefix_results != os.path.basename(os.getcwd()):\n",
    "    os.chdir(path_prefix_results)\n",
    "texs= glob.glob(\"*tex\")\n",
    "temp = \"tmp\"\n",
    "os.makedirs(temp, exist_ok=True)"
   ]
  },
  {
   "cell_type": "code",
   "execution_count": 25,
   "metadata": {},
   "outputs": [
    {
     "name": "stdout",
     "output_type": "stream",
     "text": [
      "Converting head_fs_ttest_diff.tex...\n",
      "Converting head_rmse.tex...\n",
      "Converting head_r2.tex...\n",
      "Converting skull_ttest.tex...\n",
      "Converting skull_fs_ttest_diff_cross.tex...\n",
      "Converting skull_r2.tex...\n",
      "Converting skull_rmse.tex...\n",
      "Converting head_fs_ttest_diff_cross.tex...\n",
      "Converting skull_fs_ttest_diff.tex...\n",
      "Converting head_ttest.tex...\n"
     ]
    }
   ],
   "source": [
    "for tex in texs:\n",
    "    print(f\"Converting {tex}...\")\n",
    "    cmd= f\"{pdflatex_path} {tex} >> /dev/null\"\n",
    "    os.system(cmd)\n",
    "    for i in glob.glob(\"*.aux\") + glob.glob(\"*.log\"):\n",
    "        shutil.move(os.path.abspath(i), os.path.join(os.path.abspath(temp),i))"
   ]
  }
 ],
 "metadata": {
  "kernelspec": {
   "display_name": "Python 3 (ipykernel)",
   "language": "python",
   "name": "python3"
  },
  "language_info": {
   "codemirror_mode": {
    "name": "ipython",
    "version": 3
   },
   "file_extension": ".py",
   "mimetype": "text/x-python",
   "name": "python",
   "nbconvert_exporter": "python",
   "pygments_lexer": "ipython3",
   "version": "3.7.16"
  }
 },
 "nbformat": 4,
 "nbformat_minor": 4
}
