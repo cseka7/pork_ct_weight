{
 "cells": [
  {
   "cell_type": "code",
   "execution_count": 1,
   "metadata": {},
   "outputs": [],
   "source": [
    "import numpy as np\n",
    "import pandas as pd\n",
    "import pickle\n",
    "import xgboost\n",
    "import os\n",
    "from scipy.stats import ttest_1samp, ttest_ind, ttest_rel\n",
    "from config import path_prefix_results\n",
    "import warnings\n",
    "\n",
    "warnings.filterwarnings('ignore')\n"
   ]
  },
  {
   "cell_type": "markdown",
   "metadata": {},
   "source": [
    "## Create latex template for leg, loin, belly, groin, shoulder, body results"
   ]
  },
  {
   "cell_type": "code",
   "execution_count": 2,
   "metadata": {},
   "outputs": [],
   "source": [
    "#latex output setup\n",
    "latex_template = r'''\\documentclass[a4paper]{{article}}\n",
    "\\usepackage{{booktabs}}\n",
    "\\usepackage{{pdflscape}}\n",
    "\\begin{{document}}\n",
    "\\thispagestyle{{empty}}\n",
    "\\begin{{landscape}}\n",
    "{}\n",
    "\\end{{landscape}}\n",
    "\\end{{document}}\n",
    "'''\n",
    "\n",
    "path_leg_r2_latex= os.path.join(path_prefix_results, 'leg_r2.tex')\n",
    "path_leg_rmse_latex= os.path.join(path_prefix_results, 'leg_rmse.tex')\n",
    "path_leg_ttest_latex= os.path.join(path_prefix_results, 'leg_ttest.tex')\n",
    "path_leg_fs_ttest_diff_latex= os.path.join(path_prefix_results, 'leg_fs_ttest_diff.tex')\n",
    "path_leg_fs_ttest_diff_cross_latex= os.path.join(path_prefix_results, 'leg_fs_ttest_diff_cross.tex')\n",
    "\n",
    "path_loin_r2_latex= os.path.join(path_prefix_results, 'loin_r2.tex')\n",
    "path_loin_rmse_latex= os.path.join(path_prefix_results, 'loin_rmse.tex')\n",
    "path_loin_ttest_latex= os.path.join(path_prefix_results, 'loin_ttest.tex')\n",
    "path_loin_fs_ttest_diff_latex= os.path.join(path_prefix_results, 'loin_fs_ttest_diff.tex')\n",
    "path_loin_fs_ttest_diff_cross_latex= os.path.join(path_prefix_results, 'loin_fs_ttest_diff_cross.tex')\n",
    "\n",
    "path_belly_r2_latex= os.path.join(path_prefix_results, 'belly_r2.tex')\n",
    "path_belly_rmse_latex= os.path.join(path_prefix_results, 'belly_rmse.tex')\n",
    "path_belly_ttest_latex= os.path.join(path_prefix_results, 'belly_ttest.tex')\n",
    "path_belly_fs_ttest_diff_latex= os.path.join(path_prefix_results, 'belly_fs_ttest_diff.tex')\n",
    "path_belly_fs_ttest_diff_cross_latex= os.path.join(path_prefix_results, 'belly_fs_ttest_diff_cross.tex')\n",
    "\n",
    "path_groin_r2_latex= os.path.join(path_prefix_results, 'groin_r2.tex')\n",
    "path_groin_rmse_latex= os.path.join(path_prefix_results, 'groin_rmse.tex')\n",
    "path_groin_ttest_latex= os.path.join(path_prefix_results, 'groin_ttest.tex')\n",
    "path_groin_fs_ttest_diff_latex= os.path.join(path_prefix_results, 'groin_fs_ttest_diff.tex')\n",
    "path_groin_fs_ttest_diff_cross_latex= os.path.join(path_prefix_results, 'groin_fs_ttest_diff_cross.tex')\n",
    "\n",
    "path_shoulder_r2_latex= os.path.join(path_prefix_results, 'shoulder_r2.tex')\n",
    "path_shoulder_rmse_latex= os.path.join(path_prefix_results, 'shoulder_rmse.tex')\n",
    "path_shoulder_ttest_latex= os.path.join(path_prefix_results, 'shoulder_ttest.tex')\n",
    "path_shoulder_fs_ttest_diff_latex= os.path.join(path_prefix_results, 'shoulder_fs_ttest_diff.tex')\n",
    "path_shoulder_fs_ttest_diff_cross_latex= os.path.join(path_prefix_results, 'shoulder_fs_ttest_diff_cross.tex')\n",
    "\n",
    "path_body_r2_latex= os.path.join(path_prefix_results, 'body_r2.tex')\n",
    "path_body_rmse_latex= os.path.join(path_prefix_results, 'body_rmse.tex')\n",
    "path_body_ttest_latex= os.path.join(path_prefix_results, 'body_ttest.tex')\n",
    "path_body_fs_ttest_diff_latex= os.path.join(path_prefix_results, 'body_fs_ttest_diff.tex')\n",
    "path_body_fs_ttest_diff_cross_latex= os.path.join(path_prefix_results, 'body_fs_ttest_diff_cross.tex')"
   ]
  },
  {
   "cell_type": "code",
   "execution_count": 3,
   "metadata": {},
   "outputs": [],
   "source": [
    "def test_diff_cross(df, row='multi-atlas'):\n",
    "    tmp= pd.DataFrame(index=df.columns, columns=df.columns)\n",
    "    for i in df.columns:\n",
    "        for j in df.columns:\n",
    "            tmp.loc[i,j]= ttest_rel(np.abs(df.loc[row, i]), np.abs(df.loc[row, j]))[1]\n",
    "    return tmp\n",
    "\n",
    "def test_diff(df, col='multi-atlas'):\n",
    "    tmp= pd.DataFrame(index=df.index, columns=df.columns)\n",
    "    for i in df.index:\n",
    "        for j in df.columns:\n",
    "            tmp.loc[i,j]= ttest_rel(np.abs(df.loc[i, j]), np.abs(df.loc[col, j]))[1]\n",
    "    tmp= tmp.drop(col, axis='rows')\n",
    "    return tmp\n",
    "\n",
    "def test_compare(df0, df1):\n",
    "    tmp= pd.DataFrame(index=df0.index, columns=df0.columns)\n",
    "    for i in df0.index:\n",
    "        for j in df0.columns:\n",
    "            tmp.loc[i,j]= ttest_rel(np.abs(df0.loc[i, j]), np.abs(df1.loc[i, j]))[1]\n",
    "    return tmp"
   ]
  },
  {
   "cell_type": "markdown",
   "metadata": {},
   "source": [
    "## Load data "
   ]
  },
  {
   "cell_type": "code",
   "execution_count": 4,
   "metadata": {},
   "outputs": [],
   "source": [
    "data_fs= pickle.load(open(os.path.join(path_prefix_results,'results.pickle'), 'rb'))\n",
    "data_no_fs= pickle.load(open(os.path.join(path_prefix_results,'results_no_fs.pickle'), 'rb'))"
   ]
  },
  {
   "cell_type": "code",
   "execution_count": 5,
   "metadata": {},
   "outputs": [],
   "source": [
    "leg_fs= data_fs[data_fs['dataset'] == 'leg']\n",
    "loin_fs= data_fs[data_fs['dataset'] == 'loin']\n",
    "belly_fs= data_fs[data_fs['dataset'] == 'belly']\n",
    "groin_fs= data_fs[data_fs['dataset'] == 'groin']\n",
    "shoulder_fs= data_fs[data_fs['dataset'] == 'shoulder']\n",
    "body_fs= data_fs[data_fs['dataset'] == 'body']\n",
    "\n",
    "leg_no_fs= data_no_fs[data_no_fs['dataset'] == 'leg']\n",
    "loin_no_fs= data_no_fs[data_no_fs['dataset'] == 'loin']\n",
    "belly_no_fs= data_no_fs[data_no_fs['dataset'] == 'belly']\n",
    "groin_no_fs= data_no_fs[data_no_fs['dataset'] == 'groin']\n",
    "shoulder_no_fs= data_no_fs[data_no_fs['dataset'] == 'shoulder']\n",
    "body_no_fs= data_no_fs[data_no_fs['dataset'] == 'body']"
   ]
  },
  {
   "cell_type": "code",
   "execution_count": 6,
   "metadata": {},
   "outputs": [
    {
     "name": "stdout",
     "output_type": "stream",
     "text": [
      "{'all': 'multi-atlas', 'mean_mask': 'mean', 'p004': 'atlas 3', 'p029': 'atlas 4', 'p032': 'atlas 5', 'p041': 'atlas 6', 'p048': 'atlas 7'}\n"
     ]
    }
   ],
   "source": [
    "rename_dict_regr= {'KNNR_Objective': 'kNN', 'LinearRegression_Objective': 'linear', 'PLSRegression_Objective': 'PLS', 'RidgeRegression_Objective': 'ridge', 'LassoRegression_Objective': 'lasso'}\n",
    "#rename_dict_type= {'203a': 'atlas 1', '203k': 'atlas 2', '204f': 'atlas 3', '206k': 'atlas 4', '208f': 'atlas 5', 'all': 'multi-atlas', 'mean_mask': 'mean'}\n",
    "#row_order= ['atlas 1', 'atlas 2', 'atlas 3', 'atlas 4', 'atlas 5', 'mean', 'multi-atlas']\n",
    "rename_dict_type= sorted(leg_fs['type'].unique())\n",
    "rename_dict_type= dict(map(lambda x, i: (x, f\"atlas {i+1}\"), rename_dict_type,  range(len(rename_dict_type))))\n",
    "rename_dict_type['all']= \"multi-atlas\"\n",
    "rename_dict_type['mean_mask'] = \"mean\"\n",
    "print(rename_dict_type)\n",
    "row_order= list(rename_dict_type.values())\n",
    "col_order= ['linear', 'PLS', 'lasso', 'ridge', 'kNN']"
   ]
  },
  {
   "cell_type": "markdown",
   "metadata": {},
   "source": [
    "## leg $r^2$ results"
   ]
  },
  {
   "cell_type": "code",
   "execution_count": 7,
   "metadata": {},
   "outputs": [],
   "source": [
    "leg_fs_results= leg_fs.pivot(index='type', columns='model', values='r2_1')\n",
    "leg_fs_results= leg_fs_results.rename(rename_dict_regr, axis='columns')\n",
    "leg_fs_results= leg_fs_results.rename(rename_dict_type)\n",
    "leg_fs_results= leg_fs_results.apply(lambda x: np.round(x, 4))\n",
    "leg_fs_results= leg_fs_results.loc[row_order, col_order]\n",
    "\n",
    "leg_no_fs_results= leg_no_fs.pivot(index='type', columns='model', values='r2_1')\n",
    "leg_no_fs_results= leg_no_fs_results.rename(rename_dict_regr, axis='columns')\n",
    "leg_no_fs_results= leg_no_fs_results.rename(rename_dict_type)\n",
    "leg_no_fs_results= leg_no_fs_results.apply(lambda x: np.round(x, 4))\n",
    "leg_no_fs_results= leg_no_fs_results.loc[row_order, col_order]\n",
    "\n",
    "leg_all= pd.concat([leg_fs_results, leg_no_fs_results], axis='columns')\n",
    "columns= pd.MultiIndex.from_product([['feature selection', 'no feature selection'], col_order])\n",
    "leg_all.columns= columns"
   ]
  },
  {
   "cell_type": "code",
   "execution_count": 8,
   "metadata": {},
   "outputs": [
    {
     "name": "stdout",
     "output_type": "stream",
     "text": [
      "\\begin{tabular}{lrrrrrrrrrr}\n",
      "\\toprule\n",
      "{} & \\multicolumn{5}{l}{feature selection} & \\multicolumn{5}{l}{no feature selection} \\\\\n",
      "{} &            linear &     PLS &   lasso &   ridge &     kNN &               linear &     PLS &   lasso &   ridge &     kNN \\\\\n",
      "type        &                   &         &         &         &         &                      &         &         &         &         \\\\\n",
      "\\midrule\n",
      "multi-atlas &            0.9844 &  0.9842 &  0.9792 &  0.9896 &  0.9044 &               0.9244 &  0.9480 &  0.9542 &  0.9447 &  0.7617 \\\\\n",
      "mean        &            0.9681 &  0.9657 &  0.9679 &  0.9715 &  0.8983 &               0.9346 &  0.9458 &  0.9557 &  0.9524 &  0.7521 \\\\\n",
      "atlas 3     &            0.9719 &  0.9707 &  0.9740 &  0.9744 &  0.9084 &               0.9098 &  0.9490 &  0.9615 &  0.9606 &  0.7852 \\\\\n",
      "atlas 4     &            0.9578 &  0.9627 &  0.9610 &  0.9623 &  0.8625 &               0.8221 &  0.9409 &  0.9420 &  0.9388 &  0.6730 \\\\\n",
      "atlas 5     &            0.9647 &  0.9643 &  0.9636 &  0.9651 &  0.8991 &               0.8740 &  0.9417 &  0.9511 &  0.9482 &  0.6764 \\\\\n",
      "atlas 6     &            0.9664 &  0.9690 &  0.9576 &  0.9724 &  0.8791 &               0.8954 &  0.9456 &  0.9538 &  0.9526 &  0.7032 \\\\\n",
      "atlas 7     &            0.9686 &  0.9626 &  0.9636 &  0.9636 &  0.9084 &               0.8654 &  0.9216 &  0.9522 &  0.9387 &  0.6641 \\\\\n",
      "\\bottomrule\n",
      "\\end{tabular}\n",
      "\n"
     ]
    }
   ],
   "source": [
    "leg_all_r2_latex= leg_all.to_latex()\n",
    "print(leg_all_r2_latex)\n",
    "\n",
    "#save results to tex file\n",
    "with open(path_leg_r2_latex, 'w') as f:\n",
    "    f.write(latex_template.format(leg_all_r2_latex))"
   ]
  },
  {
   "cell_type": "markdown",
   "metadata": {},
   "source": [
    "## leg RMSE results"
   ]
  },
  {
   "cell_type": "code",
   "execution_count": 9,
   "metadata": {},
   "outputs": [],
   "source": [
    "leg_fs_results_rmse= leg_fs.pivot(index='type', columns='model', values='rmse_1')\n",
    "leg_fs_results_rmse= leg_fs_results_rmse.rename(rename_dict_regr, axis='columns')\n",
    "leg_fs_results_rmse= leg_fs_results_rmse.rename(rename_dict_type)\n",
    "leg_fs_results_rmse= leg_fs_results_rmse.apply(lambda x: np.round(x, 4))\n",
    "leg_fs_results_rmse= leg_fs_results_rmse.loc[row_order, col_order]\n",
    "\n",
    "leg_no_fs_results_rmse= leg_no_fs.pivot(index='type', columns='model', values='rmse_1')\n",
    "leg_no_fs_results_rmse= leg_no_fs_results_rmse.rename(rename_dict_regr, axis='columns')\n",
    "leg_no_fs_results_rmse= leg_no_fs_results_rmse.rename(rename_dict_type)\n",
    "leg_no_fs_results_rmse= leg_no_fs_results_rmse.apply(lambda x: np.round(x, 4))\n",
    "leg_no_fs_results_rmse= leg_no_fs_results_rmse.loc[row_order, col_order]\n",
    "\n",
    "leg_all_rmse= pd.concat([leg_fs_results_rmse, leg_no_fs_results_rmse], axis='columns')\n",
    "columns= pd.MultiIndex.from_product([['feature selection', 'no feature selection'], col_order])\n",
    "leg_all_rmse.columns= columns"
   ]
  },
  {
   "cell_type": "code",
   "execution_count": 10,
   "metadata": {},
   "outputs": [
    {
     "name": "stdout",
     "output_type": "stream",
     "text": [
      "\\begin{tabular}{lrrrrrrrrrr}\n",
      "\\toprule\n",
      "{} & \\multicolumn{5}{l}{feature selection} & \\multicolumn{5}{l}{no feature selection} \\\\\n",
      "{} &            linear &       PLS &     lasso &     ridge &       kNN &               linear &       PLS &     lasso &     ridge &       kNN \\\\\n",
      "type        &                   &           &           &           &           &                      &           &           &           &           \\\\\n",
      "\\midrule\n",
      "multi-atlas &          139.6655 &  140.7403 &  161.6738 &  114.2854 &  346.1628 &             307.8653 &  255.2184 &  239.6201 &  263.2878 &  546.6112 \\\\\n",
      "mean        &          199.8389 &  207.2478 &  200.5416 &  188.9756 &  357.1571 &             286.4517 &  260.7895 &  235.6104 &  244.3274 &  557.5321 \\\\\n",
      "atlas 3     &          187.6540 &  191.7631 &  180.7159 &  179.3265 &  338.8735 &             336.2831 &  252.8250 &  219.6559 &  222.1540 &  518.9570 \\\\\n",
      "atlas 4     &          229.9407 &  216.3742 &  221.1468 &  217.4927 &  415.1697 &             472.2728 &  272.1395 &  269.6366 &  276.9193 &  640.2607 \\\\\n",
      "atlas 5     &          210.4726 &  211.4470 &  213.6465 &  209.0808 &  355.7216 &             397.3795 &  270.3349 &  247.5389 &  254.8666 &  636.9966 \\\\\n",
      "atlas 6     &          205.3613 &  197.2343 &  230.5013 &  185.9855 &  389.2773 &             362.0740 &  261.2533 &  240.7474 &  243.7885 &  610.0319 \\\\\n",
      "atlas 7     &          198.4478 &  216.6150 &  213.6216 &  213.6000 &  338.8001 &             410.7285 &  313.4531 &  244.7153 &  277.1368 &  648.9193 \\\\\n",
      "\\bottomrule\n",
      "\\end{tabular}\n",
      "\n"
     ]
    }
   ],
   "source": [
    "leg_all_rmse_latex= leg_all_rmse.to_latex()\n",
    "print(leg_all_rmse_latex)\n",
    "\n",
    "#save results to tex file\n",
    "with open(path_leg_rmse_latex, 'w') as f:\n",
    "    f.write(latex_template.format(leg_all_rmse_latex))"
   ]
  },
  {
   "cell_type": "markdown",
   "metadata": {},
   "source": [
    "## t-test leg"
   ]
  },
  {
   "cell_type": "code",
   "execution_count": 11,
   "metadata": {},
   "outputs": [],
   "source": [
    "leg_fs['diff']= (leg_fs['y_pred_1'] - leg_fs['y_test_1'])**2\n",
    "leg_fs_test= leg_fs.pivot(index='type', columns='model', values='diff')\n",
    "leg_fs_test= leg_fs_test.rename(rename_dict_regr, axis='columns')\n",
    "leg_fs_test= leg_fs_test.rename(rename_dict_type)\n",
    "leg_fs_test= leg_fs_test.loc[row_order, col_order]\n",
    "\n",
    "leg_no_fs['diff']= (leg_no_fs['y_pred_1'] - leg_no_fs['y_test_1'])**2\n",
    "leg_no_fs_test= leg_no_fs.pivot(index='type', columns='model', values='diff')\n",
    "leg_no_fs_test= leg_no_fs_test.rename(rename_dict_regr, axis='columns')\n",
    "leg_no_fs_test= leg_no_fs_test.rename(rename_dict_type)\n",
    "leg_no_fs_test= leg_no_fs_test.loc[row_order, col_order]"
   ]
  },
  {
   "cell_type": "code",
   "execution_count": 12,
   "metadata": {},
   "outputs": [
    {
     "name": "stdout",
     "output_type": "stream",
     "text": [
      "\\begin{tabular}{llllll}\n",
      "\\toprule\n",
      "model & linear &    PLS &  lasso &  ridge &    kNN \\\\\n",
      "type        &        &        &        &        &        \\\\\n",
      "\\midrule\n",
      "multi-atlas &  2e-49 &  3e-68 &  5e-57 &  3e-70 &  2e-54 \\\\\n",
      "mean        &  3e-30 &  1e-23 &  1e-12 &  1e-37 &  4e-54 \\\\\n",
      "atlas 3     &  1e-48 &  6e-30 &  2e-26 &  4e-34 &  9e-45 \\\\\n",
      "atlas 4     &  5e-49 &  3e-26 &  3e-21 &  2e-16 &  4e-29 \\\\\n",
      "atlas 5     &  6e-57 &  2e-20 &  1e-22 &  1e-18 &  7e-41 \\\\\n",
      "atlas 6     &  3e-36 &  1e-20 &  3e-02 &  1e-48 &  2e-46 \\\\\n",
      "atlas 7     &  3e-61 &  5e-24 &  2e-10 &  6e-22 &  5e-79 \\\\\n",
      "\\bottomrule\n",
      "\\end{tabular}\n",
      "\n"
     ]
    }
   ],
   "source": [
    "leg_ttest_latex= test_compare(leg_fs_test, leg_no_fs_test).applymap(lambda x: '%.0e' % x).to_latex()\n",
    "print(leg_ttest_latex)\n",
    "\n",
    "#save results to tex file\n",
    "with open(path_leg_ttest_latex, 'w') as f:\n",
    "    f.write(latex_template.format(leg_ttest_latex))"
   ]
  },
  {
   "cell_type": "code",
   "execution_count": 13,
   "metadata": {},
   "outputs": [
    {
     "name": "stdout",
     "output_type": "stream",
     "text": [
      "\\begin{tabular}{llllll}\n",
      "\\toprule\n",
      "model & linear &    PLS &  lasso &  ridge &    kNN \\\\\n",
      "type    &        &        &        &        &        \\\\\n",
      "\\midrule\n",
      "mean    &  7e-23 &  2e-33 &  3e-18 &  2e-51 &  2e-01 \\\\\n",
      "atlas 3 &  1e-16 &  5e-18 &  6e-05 &  6e-29 &  4e-01 \\\\\n",
      "atlas 4 &  3e-36 &  2e-26 &  2e-22 &  8e-32 &  2e-10 \\\\\n",
      "atlas 5 &  7e-36 &  2e-37 &  3e-21 &  8e-40 &  3e-01 \\\\\n",
      "atlas 6 &  3e-42 &  1e-28 &  1e-27 &  8e-32 &  2e-11 \\\\\n",
      "atlas 7 &  1e-20 &  5e-31 &  4e-24 &  7e-50 &  4e-01 \\\\\n",
      "\\bottomrule\n",
      "\\end{tabular}\n",
      "\n"
     ]
    }
   ],
   "source": [
    "leg_fs_ttest_diff_latex= test_diff(leg_fs_test).applymap(lambda x: '%.0e' % x).to_latex()\n",
    "print(leg_fs_ttest_diff_latex)\n",
    "\n",
    "#save results to tex file\n",
    "with open(path_leg_fs_ttest_diff_latex, 'w') as f:\n",
    "    f.write(latex_template.format(leg_fs_ttest_diff_latex))"
   ]
  },
  {
   "cell_type": "code",
   "execution_count": 14,
   "metadata": {},
   "outputs": [
    {
     "name": "stdout",
     "output_type": "stream",
     "text": [
      "\\begin{tabular}{llllll}\n",
      "\\toprule\n",
      "model & linear &    PLS &  lasso &  ridge &    kNN \\\\\n",
      "model  &        &        &        &        &        \\\\\n",
      "\\midrule\n",
      "linear &    nan &  8e-01 &  5e-08 &  2e-13 &  1e-27 \\\\\n",
      "PLS    &  8e-01 &    nan &  4e-16 &  3e-18 &  7e-27 \\\\\n",
      "lasso  &  5e-08 &  4e-16 &    nan &  1e-36 &  7e-24 \\\\\n",
      "ridge  &  2e-13 &  3e-18 &  1e-36 &    nan &  3e-31 \\\\\n",
      "kNN    &  1e-27 &  7e-27 &  7e-24 &  3e-31 &    nan \\\\\n",
      "\\bottomrule\n",
      "\\end{tabular}\n",
      "\n"
     ]
    }
   ],
   "source": [
    "leg_fs_ttest_diff_cross_latex= test_diff_cross(leg_fs_test.loc[['multi-atlas']]).applymap(lambda x: '%.0e' % x).to_latex()\n",
    "print(leg_fs_ttest_diff_cross_latex)\n",
    "\n",
    "#save results to tex file\n",
    "with open(path_leg_fs_ttest_diff_cross_latex, 'w') as f:\n",
    "    f.write(latex_template.format(leg_fs_ttest_diff_cross_latex))"
   ]
  },
  {
   "cell_type": "markdown",
   "metadata": {},
   "source": [
    "## loin $r^2$ results"
   ]
  },
  {
   "cell_type": "code",
   "execution_count": 15,
   "metadata": {},
   "outputs": [],
   "source": [
    "loin_fs_results= loin_fs.pivot(index='type', columns='model', values='r2_1')\n",
    "loin_fs_results= loin_fs_results.rename(rename_dict_regr, axis='columns')\n",
    "loin_fs_results= loin_fs_results.rename(rename_dict_type)\n",
    "loin_fs_results= loin_fs_results.apply(lambda x: np.round(x, 4))\n",
    "loin_fs_results= loin_fs_results.loc[row_order, col_order]\n",
    "\n",
    "loin_no_fs_results= loin_no_fs.pivot(index='type', columns='model', values='r2_1')\n",
    "loin_no_fs_results= loin_no_fs_results.rename(rename_dict_regr, axis='columns')\n",
    "loin_no_fs_results= loin_no_fs_results.rename(rename_dict_type)\n",
    "loin_no_fs_results= loin_no_fs_results.apply(lambda x: np.round(x, 4))\n",
    "loin_no_fs_results= loin_no_fs_results.loc[row_order, col_order]\n",
    "\n",
    "loin_all= pd.concat([loin_fs_results, loin_no_fs_results], axis='columns')\n",
    "columns= pd.MultiIndex.from_product([['feature selection', 'no feature selection'], col_order])\n",
    "loin_all.columns= columns"
   ]
  },
  {
   "cell_type": "code",
   "execution_count": 16,
   "metadata": {},
   "outputs": [
    {
     "name": "stdout",
     "output_type": "stream",
     "text": [
      "\\begin{tabular}{lrrrrrrrrrr}\n",
      "\\toprule\n",
      "{} & \\multicolumn{5}{l}{feature selection} & \\multicolumn{5}{l}{no feature selection} \\\\\n",
      "{} &            linear &     PLS &   lasso &   ridge &     kNN &               linear &     PLS &   lasso &   ridge &     kNN \\\\\n",
      "type        &                   &         &         &         &         &                      &         &         &         &         \\\\\n",
      "\\midrule\n",
      "multi-atlas &            0.9402 &  0.9617 &  0.9591 &  0.9668 &  0.8999 &               0.5925 &  0.8912 &  0.8686 &  0.8761 &  0.7460 \\\\\n",
      "mean        &            0.9344 &  0.9323 &  0.9344 &  0.9344 &  0.8586 &               0.6938 &  0.8934 &  0.9067 &  0.8951 &  0.7263 \\\\\n",
      "atlas 3     &            0.9261 &  0.9261 &  0.9260 &  0.9301 &  0.8345 &               0.6651 &  0.8896 &  0.8992 &  0.8931 &  0.6940 \\\\\n",
      "atlas 4     &            0.9392 &  0.9382 &  0.9385 &  0.9363 &  0.8462 &               0.7472 &  0.9124 &  0.9186 &  0.9082 &  0.7015 \\\\\n",
      "atlas 5     &            0.9246 &  0.9268 &  0.9207 &  0.9207 &  0.8573 &               0.8313 &  0.8993 &  0.8934 &  0.8888 &  0.6862 \\\\\n",
      "atlas 6     &            0.9307 &  0.9260 &  0.9301 &  0.9300 &  0.8118 &               0.7102 &  0.8872 &  0.8962 &  0.8845 &  0.6454 \\\\\n",
      "atlas 7     &            0.9337 &  0.9301 &  0.9279 &  0.9279 &  0.8544 &               0.7139 &  0.9047 &  0.9108 &  0.8964 &  0.7501 \\\\\n",
      "\\bottomrule\n",
      "\\end{tabular}\n",
      "\n"
     ]
    }
   ],
   "source": [
    "loin_all_r2_latex= loin_all.to_latex()\n",
    "print(loin_all_r2_latex)\n",
    "\n",
    "#save results to tex file\n",
    "with open(path_loin_r2_latex, 'w') as f:\n",
    "    f.write(latex_template.format(loin_all_r2_latex))"
   ]
  },
  {
   "cell_type": "markdown",
   "metadata": {},
   "source": [
    "## loin RMSE results"
   ]
  },
  {
   "cell_type": "code",
   "execution_count": 17,
   "metadata": {},
   "outputs": [],
   "source": [
    "loin_fs_results_rmse= loin_fs.pivot(index='type', columns='model', values='rmse_1')\n",
    "loin_fs_results_rmse= loin_fs_results_rmse.rename(rename_dict_regr, axis='columns')\n",
    "loin_fs_results_rmse= loin_fs_results_rmse.rename(rename_dict_type)\n",
    "loin_fs_results_rmse= loin_fs_results_rmse.apply(lambda x: np.round(x, 4))\n",
    "loin_fs_results_rmse= loin_fs_results_rmse.loc[row_order, col_order]\n",
    "\n",
    "loin_no_fs_results_rmse= loin_no_fs.pivot(index='type', columns='model', values='rmse_1')\n",
    "loin_no_fs_results_rmse= loin_no_fs_results_rmse.rename(rename_dict_regr, axis='columns')\n",
    "loin_no_fs_results_rmse= loin_no_fs_results_rmse.rename(rename_dict_type)\n",
    "loin_no_fs_results_rmse= loin_no_fs_results_rmse.apply(lambda x: np.round(x, 4))\n",
    "loin_no_fs_results_rmse= loin_no_fs_results_rmse.loc[row_order, col_order]\n",
    "\n",
    "loin_all_rmse= pd.concat([loin_fs_results_rmse, loin_no_fs_results_rmse], axis='columns')\n",
    "columns= pd.MultiIndex.from_product([['feature selection', 'no feature selection'], col_order])\n",
    "loin_all_rmse.columns= columns"
   ]
  },
  {
   "cell_type": "code",
   "execution_count": 18,
   "metadata": {},
   "outputs": [
    {
     "name": "stdout",
     "output_type": "stream",
     "text": [
      "\\begin{tabular}{lrrrrrrrrrr}\n",
      "\\toprule\n",
      "{} & \\multicolumn{5}{l}{feature selection} & \\multicolumn{5}{l}{no feature selection} \\\\\n",
      "{} &            linear &       PLS &     lasso &     ridge &       kNN &               linear &       PLS &     lasso &     ridge &       kNN \\\\\n",
      "type        &                   &           &           &           &           &                      &           &           &           &           \\\\\n",
      "\\midrule\n",
      "multi-atlas &          243.6113 &  195.0351 &  201.4013 &  181.4516 &  315.2186 &             636.0598 &  328.5790 &  361.2460 &  350.7629 &  502.2013 \\\\\n",
      "mean        &          255.1292 &  259.2060 &  255.1447 &  255.1288 &  374.6675 &             551.3306 &  325.3102 &  304.3034 &  322.6615 &  521.2670 \\\\\n",
      "atlas 3     &          270.8934 &  270.8934 &  270.9708 &  263.5031 &  405.3406 &             576.5713 &  331.1058 &  316.3502 &  325.7495 &  551.1847 \\\\\n",
      "atlas 4     &          245.7000 &  247.7660 &  247.1038 &  251.5631 &  390.8042 &             500.9483 &  294.9641 &  284.2109 &  301.9194 &  544.3810 \\\\\n",
      "atlas 5     &          273.5111 &  269.4893 &  280.5469 &  280.5454 &  376.4415 &             409.1960 &  316.1625 &  325.3093 &  332.2662 &  558.1397 \\\\\n",
      "atlas 6     &          262.2036 &  271.0483 &  263.5124 &  263.5318 &  432.2160 &             536.3520 &  334.6853 &  321.0686 &  338.6365 &  593.3671 \\\\\n",
      "atlas 7     &          256.6089 &  263.4192 &  267.4948 &  267.5037 &  380.2507 &             532.9581 &  307.6651 &  297.5314 &  320.6748 &  498.1383 \\\\\n",
      "\\bottomrule\n",
      "\\end{tabular}\n",
      "\n"
     ]
    }
   ],
   "source": [
    "loin_all_rmse_latex= loin_all_rmse.to_latex()\n",
    "print(loin_all_rmse_latex)\n",
    "\n",
    "#save results to tex file\n",
    "with open(path_loin_rmse_latex, 'w') as f:\n",
    "    f.write(latex_template.format(loin_all_rmse_latex))"
   ]
  },
  {
   "cell_type": "markdown",
   "metadata": {},
   "source": [
    "## t-test loin"
   ]
  },
  {
   "cell_type": "code",
   "execution_count": 19,
   "metadata": {},
   "outputs": [],
   "source": [
    "loin_fs['diff']= (loin_fs['y_pred_1'] - loin_fs['y_test_1'])**2\n",
    "loin_fs_test= loin_fs.pivot(index='type', columns='model', values='diff')\n",
    "loin_fs_test= loin_fs_test.rename(rename_dict_regr, axis='columns')\n",
    "loin_fs_test= loin_fs_test.rename(rename_dict_type)\n",
    "loin_fs_test= loin_fs_test.loc[row_order, col_order]\n",
    "\n",
    "loin_no_fs['diff']= (loin_no_fs['y_pred_1'] - loin_no_fs['y_test_1'])**2\n",
    "loin_no_fs_test= loin_no_fs.pivot(index='type', columns='model', values='diff')\n",
    "loin_no_fs_test= loin_no_fs_test.rename(rename_dict_regr, axis='columns')\n",
    "loin_no_fs_test= loin_no_fs_test.rename(rename_dict_type)\n",
    "loin_no_fs_test= loin_no_fs_test.loc[row_order, col_order]"
   ]
  },
  {
   "cell_type": "code",
   "execution_count": 20,
   "metadata": {},
   "outputs": [
    {
     "name": "stdout",
     "output_type": "stream",
     "text": [
      "\\begin{tabular}{llllll}\n",
      "\\toprule\n",
      "model & linear &    PLS &  lasso &  ridge &    kNN \\\\\n",
      "type        &        &        &        &        &        \\\\\n",
      "\\midrule\n",
      "multi-atlas &  3e-75 &  9e-52 &  4e-51 &  3e-63 &  1e-53 \\\\\n",
      "mean        &  4e-45 &  7e-21 &  3e-21 &  5e-18 &  6e-35 \\\\\n",
      "atlas 3     &  3e-35 &  1e-21 &  4e-25 &  2e-14 &  2e-39 \\\\\n",
      "atlas 4     &  4e-52 &  1e-15 &  6e-24 &  8e-19 &  3e-28 \\\\\n",
      "atlas 5     &  2e-32 &  2e-14 &  6e-14 &  1e-09 &  3e-17 \\\\\n",
      "atlas 6     &  9e-67 &  6e-45 &  6e-35 &  1e-25 &  8e-31 \\\\\n",
      "atlas 7     &  1e-60 &  2e-21 &  3e-12 &  3e-13 &  1e-41 \\\\\n",
      "\\bottomrule\n",
      "\\end{tabular}\n",
      "\n"
     ]
    }
   ],
   "source": [
    "loin_ttest_latex= test_compare(loin_fs_test, loin_no_fs_test).applymap(lambda x: '%.0e' % x).to_latex()\n",
    "print(loin_ttest_latex)\n",
    "\n",
    "#save results to tex file\n",
    "with open(path_loin_ttest_latex, 'w') as f:\n",
    "    f.write(latex_template.format(loin_ttest_latex))"
   ]
  },
  {
   "cell_type": "code",
   "execution_count": 21,
   "metadata": {},
   "outputs": [
    {
     "name": "stdout",
     "output_type": "stream",
     "text": [
      "\\begin{tabular}{llllll}\n",
      "\\toprule\n",
      "model & linear &    PLS &  lasso &  ridge &    kNN \\\\\n",
      "type    &        &        &        &        &        \\\\\n",
      "\\midrule\n",
      "mean    &  2e-03 &  3e-26 &  1e-16 &  1e-26 &  1e-11 \\\\\n",
      "atlas 3 &  2e-07 &  3e-23 &  1e-18 &  1e-21 &  6e-14 \\\\\n",
      "atlas 4 &  7e-01 &  1e-24 &  4e-11 &  3e-22 &  1e-16 \\\\\n",
      "atlas 5 &  2e-10 &  3e-32 &  7e-32 &  5e-43 &  7e-10 \\\\\n",
      "atlas 6 &  3e-05 &  3e-26 &  1e-23 &  3e-30 &  1e-25 \\\\\n",
      "atlas 7 &  5e-03 &  1e-18 &  1e-16 &  1e-25 &  8e-16 \\\\\n",
      "\\bottomrule\n",
      "\\end{tabular}\n",
      "\n"
     ]
    }
   ],
   "source": [
    "loin_fs_ttest_diff_latex= test_diff(loin_fs_test).applymap(lambda x: '%.0e' % x).to_latex()\n",
    "print(loin_fs_ttest_diff_latex)\n",
    "\n",
    "#save results to tex file\n",
    "with open(path_loin_fs_ttest_diff_latex, 'w') as f:\n",
    "    f.write(latex_template.format(loin_fs_ttest_diff_latex))"
   ]
  },
  {
   "cell_type": "code",
   "execution_count": 22,
   "metadata": {},
   "outputs": [
    {
     "name": "stdout",
     "output_type": "stream",
     "text": [
      "\\begin{tabular}{llllll}\n",
      "\\toprule\n",
      "model & linear &    PLS &  lasso &  ridge &    kNN \\\\\n",
      "model  &        &        &        &        &        \\\\\n",
      "\\midrule\n",
      "linear &    nan &  2e-15 &  4e-10 &  2e-17 &  3e-14 \\\\\n",
      "PLS    &  2e-15 &    nan &  2e-01 &  9e-03 &  5e-34 \\\\\n",
      "lasso  &  4e-10 &  2e-01 &    nan &  1e-09 &  2e-27 \\\\\n",
      "ridge  &  2e-17 &  9e-03 &  1e-09 &    nan &  3e-36 \\\\\n",
      "kNN    &  3e-14 &  5e-34 &  2e-27 &  3e-36 &    nan \\\\\n",
      "\\bottomrule\n",
      "\\end{tabular}\n",
      "\n"
     ]
    }
   ],
   "source": [
    "loin_fs_ttest_diff_cross_latex= test_diff_cross(loin_fs_test.loc[['multi-atlas']]).applymap(lambda x: '%.0e' % x).to_latex()\n",
    "print(loin_fs_ttest_diff_cross_latex)\n",
    "\n",
    "#save results to tex file\n",
    "with open(path_loin_fs_ttest_diff_cross_latex, 'w') as f:\n",
    "    f.write(latex_template.format(loin_fs_ttest_diff_cross_latex))"
   ]
  },
  {
   "cell_type": "markdown",
   "metadata": {},
   "source": [
    "## belly $r^2$ results"
   ]
  },
  {
   "cell_type": "code",
   "execution_count": 23,
   "metadata": {},
   "outputs": [],
   "source": [
    "belly_fs_results= belly_fs.pivot(index='type', columns='model', values='r2_1')\n",
    "belly_fs_results= belly_fs_results.rename(rename_dict_regr, axis='columns')\n",
    "belly_fs_results= belly_fs_results.rename(rename_dict_type)\n",
    "belly_fs_results= belly_fs_results.apply(lambda x: np.round(x, 4))\n",
    "belly_fs_results= belly_fs_results.loc[row_order, col_order]\n",
    "\n",
    "belly_no_fs_results= belly_no_fs.pivot(index='type', columns='model', values='r2_1')\n",
    "belly_no_fs_results= belly_no_fs_results.rename(rename_dict_regr, axis='columns')\n",
    "belly_no_fs_results= belly_no_fs_results.rename(rename_dict_type)\n",
    "belly_no_fs_results= belly_no_fs_results.apply(lambda x: np.round(x, 4))\n",
    "belly_no_fs_results= belly_no_fs_results.loc[row_order, col_order]\n",
    "\n",
    "belly_all= pd.concat([belly_fs_results, belly_no_fs_results], axis='columns')\n",
    "columns= pd.MultiIndex.from_product([['feature selection', 'no feature selection'], col_order])\n",
    "belly_all.columns= columns"
   ]
  },
  {
   "cell_type": "code",
   "execution_count": 24,
   "metadata": {},
   "outputs": [
    {
     "name": "stdout",
     "output_type": "stream",
     "text": [
      "\\begin{tabular}{lrrrrrrrrrr}\n",
      "\\toprule\n",
      "{} & \\multicolumn{5}{l}{feature selection} & \\multicolumn{5}{l}{no feature selection} \\\\\n",
      "{} &            linear &     PLS &   lasso &   ridge &     kNN &               linear &     PLS &   lasso &   ridge &     kNN \\\\\n",
      "type        &                   &         &         &         &         &                      &         &         &         &         \\\\\n",
      "\\midrule\n",
      "multi-atlas &            0.9736 &  0.9786 &  0.9587 &  0.9964 &  0.9078 &               0.6653 &  0.8713 &  0.8687 &  0.8446 &  0.7679 \\\\\n",
      "mean        &            0.9050 &  0.9056 &  0.9056 &  0.9058 &  0.8578 &               0.6368 &  0.8544 &  0.8824 &  0.8646 &  0.7264 \\\\\n",
      "atlas 3     &            0.8613 &  0.8646 &  0.8728 &  0.8638 &  0.8361 &               0.6409 &  0.8103 &  0.8300 &  0.8096 &  0.6390 \\\\\n",
      "atlas 4     &            0.8968 &  0.9016 &  0.9014 &  0.9036 &  0.8820 &               0.6059 &  0.8846 &  0.8847 &  0.8774 &  0.6774 \\\\\n",
      "atlas 5     &            0.9286 &  0.9269 &  0.9190 &  0.9291 &  0.8860 &               0.8105 &  0.8865 &  0.9031 &  0.8922 &  0.7059 \\\\\n",
      "atlas 6     &            0.8904 &  0.9038 &  0.8969 &  0.8984 &  0.8503 &               0.7607 &  0.8709 &  0.8737 &  0.8701 &  0.7392 \\\\\n",
      "atlas 7     &            0.8592 &  0.8736 &  0.8604 &  0.8852 &  0.8711 &               0.5006 &  0.8260 &  0.8193 &  0.8167 &  0.8012 \\\\\n",
      "\\bottomrule\n",
      "\\end{tabular}\n",
      "\n"
     ]
    }
   ],
   "source": [
    "belly_all_r2_latex= belly_all.to_latex()\n",
    "print(belly_all_r2_latex)\n",
    "\n",
    "#save results to tex file\n",
    "with open(path_belly_r2_latex, 'w') as f:\n",
    "    f.write(latex_template.format(belly_all_r2_latex))"
   ]
  },
  {
   "cell_type": "markdown",
   "metadata": {},
   "source": [
    "## belly RMSE results"
   ]
  },
  {
   "cell_type": "code",
   "execution_count": 25,
   "metadata": {},
   "outputs": [],
   "source": [
    "belly_fs_results_rmse= belly_fs.pivot(index='type', columns='model', values='rmse_1')\n",
    "belly_fs_results_rmse= belly_fs_results_rmse.rename(rename_dict_regr, axis='columns')\n",
    "belly_fs_results_rmse= belly_fs_results_rmse.rename(rename_dict_type)\n",
    "belly_fs_results_rmse= belly_fs_results_rmse.apply(lambda x: np.round(x, 4))\n",
    "belly_fs_results_rmse= belly_fs_results_rmse.loc[row_order, col_order]\n",
    "\n",
    "belly_no_fs_results_rmse= belly_no_fs.pivot(index='type', columns='model', values='rmse_1')\n",
    "belly_no_fs_results_rmse= belly_no_fs_results_rmse.rename(rename_dict_regr, axis='columns')\n",
    "belly_no_fs_results_rmse= belly_no_fs_results_rmse.rename(rename_dict_type)\n",
    "belly_no_fs_results_rmse= belly_no_fs_results_rmse.apply(lambda x: np.round(x, 4))\n",
    "belly_no_fs_results_rmse= belly_no_fs_results_rmse.loc[row_order, col_order]\n",
    "\n",
    "belly_all_rmse= pd.concat([belly_fs_results_rmse, belly_no_fs_results_rmse], axis='columns')\n",
    "columns= pd.MultiIndex.from_product([['feature selection', 'no feature selection'], col_order])\n",
    "belly_all_rmse.columns= columns"
   ]
  },
  {
   "cell_type": "code",
   "execution_count": 26,
   "metadata": {},
   "outputs": [
    {
     "name": "stdout",
     "output_type": "stream",
     "text": [
      "\\begin{tabular}{lrrrrrrrrrr}\n",
      "\\toprule\n",
      "{} & \\multicolumn{5}{l}{feature selection} & \\multicolumn{5}{l}{no feature selection} \\\\\n",
      "{} &            linear &       PLS &     lasso &     ridge &       kNN &               linear &       PLS &     lasso &     ridge &       kNN \\\\\n",
      "type        &                   &           &           &           &           &                      &           &           &           &           \\\\\n",
      "\\midrule\n",
      "multi-atlas &           87.7848 &   79.0851 &  109.8623 &   32.6244 &  164.1710 &             312.7792 &  193.9450 &  195.8674 &  213.1023 &  260.4372 \\\\\n",
      "mean        &          166.6425 &  166.1032 &  166.1156 &  165.9333 &  203.8315 &             325.8013 &  206.2560 &  185.4082 &  198.9191 &  282.7861 \\\\\n",
      "atlas 3     &          201.3335 &  198.9635 &  192.8346 &  199.5297 &  218.8997 &             323.9648 &  235.4361 &  222.9344 &  235.9226 &  324.8045 \\\\\n",
      "atlas 4     &          173.6765 &  169.5659 &  169.7415 &  167.8342 &  185.6749 &             339.3978 &  183.6628 &  183.5815 &  189.2809 &  307.0778 \\\\\n",
      "atlas 5     &          144.4428 &  146.2085 &  153.8772 &  143.9373 &  182.5438 &             235.3302 &  182.1440 &  168.3077 &  177.4989 &  293.1645 \\\\\n",
      "atlas 6     &          178.9874 &  167.6781 &  173.6016 &  172.2834 &  209.1645 &             264.4831 &  194.2559 &  192.1323 &  194.8579 &  276.0843 \\\\\n",
      "atlas 7     &          202.8788 &  192.2420 &  201.9701 &  183.2112 &  194.0635 &             382.0465 &  225.5260 &  229.7929 &  231.4333 &  241.0280 \\\\\n",
      "\\bottomrule\n",
      "\\end{tabular}\n",
      "\n"
     ]
    }
   ],
   "source": [
    "belly_all_rmse_latex= belly_all_rmse.to_latex()\n",
    "print(belly_all_rmse_latex)\n",
    "\n",
    "#save results to tex file\n",
    "with open(path_belly_rmse_latex, 'w') as f:\n",
    "    f.write(latex_template.format(belly_all_rmse_latex))"
   ]
  },
  {
   "cell_type": "markdown",
   "metadata": {},
   "source": [
    "## t-test belly"
   ]
  },
  {
   "cell_type": "code",
   "execution_count": 27,
   "metadata": {},
   "outputs": [],
   "source": [
    "belly_fs['diff']= (belly_fs['y_pred_1'] - belly_fs['y_test_1'])**2\n",
    "belly_fs_test= belly_fs.pivot(index='type', columns='model', values='diff')\n",
    "belly_fs_test= belly_fs_test.rename(rename_dict_regr, axis='columns')\n",
    "belly_fs_test= belly_fs_test.rename(rename_dict_type)\n",
    "belly_fs_test= belly_fs_test.loc[row_order, col_order]\n",
    "\n",
    "belly_no_fs['diff']= (belly_no_fs['y_pred_1'] - belly_no_fs['y_test_1'])**2\n",
    "belly_no_fs_test= belly_no_fs.pivot(index='type', columns='model', values='diff')\n",
    "belly_no_fs_test= belly_no_fs_test.rename(rename_dict_regr, axis='columns')\n",
    "belly_no_fs_test= belly_no_fs_test.rename(rename_dict_type)\n",
    "belly_no_fs_test= belly_no_fs_test.loc[row_order, col_order]"
   ]
  },
  {
   "cell_type": "code",
   "execution_count": 28,
   "metadata": {},
   "outputs": [
    {
     "name": "stdout",
     "output_type": "stream",
     "text": [
      "\\begin{tabular}{llllll}\n",
      "\\toprule\n",
      "model & linear &    PLS &  lasso &  ridge &    kNN \\\\\n",
      "type        &        &        &        &        &        \\\\\n",
      "\\midrule\n",
      "multi-atlas &  1e-87 &  3e-42 &  8e-43 &  1e-78 &  2e-54 \\\\\n",
      "mean        &  6e-53 &  1e-18 &  3e-18 &  2e-21 &  6e-38 \\\\\n",
      "atlas 3     &  7e-17 &  4e-17 &  1e-23 &  7e-29 &  7e-53 \\\\\n",
      "atlas 4     &  5e-37 &  2e-06 &  2e-18 &  7e-26 &  1e-52 \\\\\n",
      "atlas 5     &  3e-32 &  9e-35 &  8e-09 &  3e-28 &  2e-38 \\\\\n",
      "atlas 6     &  2e-32 &  3e-26 &  2e-15 &  1e-32 &  2e-28 \\\\\n",
      "atlas 7     &  2e-46 &  2e-16 &  6e-27 &  2e-23 &  3e-19 \\\\\n",
      "\\bottomrule\n",
      "\\end{tabular}\n",
      "\n"
     ]
    }
   ],
   "source": [
    "belly_ttest_latex= test_compare(belly_fs_test, belly_no_fs_test).applymap(lambda x: '%.0e' % x).to_latex()\n",
    "print(belly_ttest_latex)\n",
    "\n",
    "#save results to tex file\n",
    "with open(path_belly_ttest_latex, 'w') as f:\n",
    "    f.write(latex_template.format(belly_ttest_latex))"
   ]
  },
  {
   "cell_type": "code",
   "execution_count": 29,
   "metadata": {},
   "outputs": [
    {
     "name": "stdout",
     "output_type": "stream",
     "text": [
      "\\begin{tabular}{llllll}\n",
      "\\toprule\n",
      "model & linear &    PLS &  lasso &  ridge &    kNN \\\\\n",
      "type    &        &        &        &        &        \\\\\n",
      "\\midrule\n",
      "mean    &  4e-39 &  3e-42 &  8e-28 &  9e-63 &  6e-14 \\\\\n",
      "atlas 3 &  2e-50 &  5e-50 &  4e-39 &  3e-70 &  1e-16 \\\\\n",
      "atlas 4 &  3e-35 &  9e-42 &  1e-23 &  6e-60 &  2e-05 \\\\\n",
      "atlas 5 &  5e-32 &  2e-35 &  2e-32 &  4e-62 &  1e-03 \\\\\n",
      "atlas 6 &  3e-32 &  1e-32 &  8e-23 &  2e-54 &  5e-19 \\\\\n",
      "atlas 7 &  2e-57 &  3e-36 &  2e-36 &  3e-63 &  4e-11 \\\\\n",
      "\\bottomrule\n",
      "\\end{tabular}\n",
      "\n"
     ]
    }
   ],
   "source": [
    "belly_fs_ttest_diff_latex= test_diff(belly_fs_test).applymap(lambda x: '%.0e' % x).to_latex()\n",
    "print(belly_fs_ttest_diff_latex)\n",
    "\n",
    "#save results to tex file\n",
    "with open(path_belly_fs_ttest_diff_latex, 'w') as f:\n",
    "    f.write(latex_template.format(belly_fs_ttest_diff_latex))"
   ]
  },
  {
   "cell_type": "code",
   "execution_count": 30,
   "metadata": {},
   "outputs": [
    {
     "name": "stdout",
     "output_type": "stream",
     "text": [
      "\\begin{tabular}{llllll}\n",
      "\\toprule\n",
      "model & linear &    PLS &  lasso &  ridge &    kNN \\\\\n",
      "model  &        &        &        &        &        \\\\\n",
      "\\midrule\n",
      "linear &    nan &  3e-04 &  2e-16 &  2e-69 &  6e-44 \\\\\n",
      "PLS    &  3e-04 &    nan &  7e-33 &  1e-65 &  6e-48 \\\\\n",
      "lasso  &  2e-16 &  7e-33 &    nan &  5e-88 &  9e-26 \\\\\n",
      "ridge  &  2e-69 &  1e-65 &  5e-88 &    nan &  2e-73 \\\\\n",
      "kNN    &  6e-44 &  6e-48 &  9e-26 &  2e-73 &    nan \\\\\n",
      "\\bottomrule\n",
      "\\end{tabular}\n",
      "\n"
     ]
    }
   ],
   "source": [
    "belly_fs_ttest_diff_cross_latex= test_diff_cross(belly_fs_test.loc[['multi-atlas']]).applymap(lambda x: '%.0e' % x).to_latex()\n",
    "print(belly_fs_ttest_diff_cross_latex)\n",
    "\n",
    "#save results to tex file\n",
    "with open(path_belly_fs_ttest_diff_cross_latex, 'w') as f:\n",
    "    f.write(latex_template.format(belly_fs_ttest_diff_cross_latex))"
   ]
  },
  {
   "cell_type": "markdown",
   "metadata": {},
   "source": [
    "## groin $r^2$ results"
   ]
  },
  {
   "cell_type": "code",
   "execution_count": 31,
   "metadata": {},
   "outputs": [],
   "source": [
    "groin_fs_results= groin_fs.pivot(index='type', columns='model', values='r2_1')\n",
    "groin_fs_results= groin_fs_results.rename(rename_dict_regr, axis='columns')\n",
    "groin_fs_results= groin_fs_results.rename(rename_dict_type)\n",
    "groin_fs_results= groin_fs_results.apply(lambda x: np.round(x, 4))\n",
    "groin_fs_results= groin_fs_results.loc[row_order, col_order]\n",
    "\n",
    "groin_no_fs_results= groin_no_fs.pivot(index='type', columns='model', values='r2_1')\n",
    "groin_no_fs_results= groin_no_fs_results.rename(rename_dict_regr, axis='columns')\n",
    "groin_no_fs_results= groin_no_fs_results.rename(rename_dict_type)\n",
    "groin_no_fs_results= groin_no_fs_results.apply(lambda x: np.round(x, 4))\n",
    "groin_no_fs_results= groin_no_fs_results.loc[row_order, col_order]\n",
    "\n",
    "groin_all= pd.concat([groin_fs_results, groin_no_fs_results], axis='columns')\n",
    "columns= pd.MultiIndex.from_product([['feature selection', 'no feature selection'], col_order])\n",
    "groin_all.columns= columns"
   ]
  },
  {
   "cell_type": "code",
   "execution_count": 32,
   "metadata": {},
   "outputs": [
    {
     "name": "stdout",
     "output_type": "stream",
     "text": [
      "\\begin{tabular}{lrrrrrrrrrr}\n",
      "\\toprule\n",
      "{} & \\multicolumn{5}{l}{feature selection} & \\multicolumn{5}{l}{no feature selection} \\\\\n",
      "{} &            linear &     PLS &   lasso &   ridge &     kNN &               linear &     PLS &   lasso &   ridge &     kNN \\\\\n",
      "type        &                   &         &         &         &         &                      &         &         &         &         \\\\\n",
      "\\midrule\n",
      "multi-atlas &            0.8616 &  0.7404 &  0.9059 &  0.9543 &  0.6981 &               0.3275 &  0.4847 &  0.5240 &  0.4554 &  0.4991 \\\\\n",
      "mean        &            0.7156 &  0.7097 &  0.7026 &  0.7042 &  0.6491 &              -0.1917 &  0.5097 &  0.5576 &  0.5402 &  0.3786 \\\\\n",
      "atlas 3     &            0.6024 &  0.5750 &  0.6559 &  0.6002 &  0.5197 &              -0.2565 &  0.4390 &  0.4704 &  0.5020 &  0.3882 \\\\\n",
      "atlas 4     &            0.6266 &  0.7428 &  0.7437 &  0.7754 &  0.5706 &               0.0498 &  0.5592 &  0.6699 &  0.5972 &  0.4934 \\\\\n",
      "atlas 5     &            0.6827 &  0.6083 &  0.6827 &  0.7376 &  0.5395 &              -0.1665 &  0.3712 &  0.5000 &  0.4588 &  0.3600 \\\\\n",
      "atlas 6     &            0.6430 &  0.6170 &  0.6430 &  0.6746 &  0.6468 &               0.2308 &  0.4346 &  0.6031 &  0.5885 &  0.3572 \\\\\n",
      "atlas 7     &            0.7183 &  0.6999 &  0.7139 &  0.7159 &  0.6054 &              -0.4470 &  0.5295 &  0.5882 &  0.5363 &  0.4559 \\\\\n",
      "\\bottomrule\n",
      "\\end{tabular}\n",
      "\n"
     ]
    }
   ],
   "source": [
    "groin_all_r2_latex= groin_all.to_latex()\n",
    "print(groin_all_r2_latex)\n",
    "\n",
    "#save results to tex file\n",
    "with open(path_groin_r2_latex, 'w') as f:\n",
    "    f.write(latex_template.format(groin_all_r2_latex))"
   ]
  },
  {
   "cell_type": "markdown",
   "metadata": {},
   "source": [
    "## groin RMSE results"
   ]
  },
  {
   "cell_type": "code",
   "execution_count": 33,
   "metadata": {},
   "outputs": [],
   "source": [
    "groin_fs_results_rmse= groin_fs.pivot(index='type', columns='model', values='rmse_1')\n",
    "groin_fs_results_rmse= groin_fs_results_rmse.rename(rename_dict_regr, axis='columns')\n",
    "groin_fs_results_rmse= groin_fs_results_rmse.rename(rename_dict_type)\n",
    "groin_fs_results_rmse= groin_fs_results_rmse.apply(lambda x: np.round(x, 4))\n",
    "groin_fs_results_rmse= groin_fs_results_rmse.loc[row_order, col_order]\n",
    "\n",
    "groin_no_fs_results_rmse= groin_no_fs.pivot(index='type', columns='model', values='rmse_1')\n",
    "groin_no_fs_results_rmse= groin_no_fs_results_rmse.rename(rename_dict_regr, axis='columns')\n",
    "groin_no_fs_results_rmse= groin_no_fs_results_rmse.rename(rename_dict_type)\n",
    "groin_no_fs_results_rmse= groin_no_fs_results_rmse.apply(lambda x: np.round(x, 4))\n",
    "groin_no_fs_results_rmse= groin_no_fs_results_rmse.loc[row_order, col_order]\n",
    "\n",
    "groin_all_rmse= pd.concat([groin_fs_results_rmse, groin_no_fs_results_rmse], axis='columns')\n",
    "columns= pd.MultiIndex.from_product([['feature selection', 'no feature selection'], col_order])\n",
    "groin_all_rmse.columns= columns"
   ]
  },
  {
   "cell_type": "code",
   "execution_count": 34,
   "metadata": {},
   "outputs": [
    {
     "name": "stdout",
     "output_type": "stream",
     "text": [
      "\\begin{tabular}{lrrrrrrrrrr}\n",
      "\\toprule\n",
      "{} & \\multicolumn{5}{l}{feature selection} & \\multicolumn{5}{l}{no feature selection} \\\\\n",
      "{} &            linear &       PLS &     lasso &     ridge &       kNN &               linear &       PLS &     lasso &     ridge &       kNN \\\\\n",
      "type        &                   &           &           &           &           &                      &           &           &           &           \\\\\n",
      "\\midrule\n",
      "multi-atlas &           81.0252 &  110.9624 &   66.8018 &   46.5339 &  119.6655 &             178.5928 &  156.3376 &  150.2591 &  160.7118 &  154.1377 \\\\\n",
      "mean        &          116.1414 &  117.3363 &  118.7637 &  118.4438 &  129.0095 &             237.7417 &  152.4944 &  144.8595 &  147.6803 &  171.6745 \\\\\n",
      "atlas 3     &          137.3250 &  141.9778 &  127.7560 &  137.6931 &  150.9351 &             244.1151 &  163.1191 &  158.4790 &  153.6901 &  170.3478 \\\\\n",
      "atlas 4     &          133.0712 &  110.4467 &  110.2605 &  103.2062 &  142.7123 &             212.2869 &  144.5883 &  125.1167 &  138.2225 &  155.0077 \\\\\n",
      "atlas 5     &          122.6704 &  136.3031 &  122.6738 &  111.5507 &  147.7825 &             235.2151 &  172.6921 &  153.9975 &  160.2183 &  174.2215 \\\\\n",
      "atlas 6     &          130.1166 &  134.7801 &  130.1186 &  124.2308 &  129.4346 &             190.9951 &  163.7599 &  137.1960 &  139.7046 &  174.5998 \\\\\n",
      "atlas 7     &          115.5954 &  119.3104 &  116.4799 &  116.0853 &  136.7971 &             261.9653 &  149.3737 &  139.7519 &  148.3015 &  160.6391 \\\\\n",
      "\\bottomrule\n",
      "\\end{tabular}\n",
      "\n"
     ]
    }
   ],
   "source": [
    "groin_all_rmse_latex= groin_all_rmse.to_latex()\n",
    "print(groin_all_rmse_latex)\n",
    "\n",
    "#save results to tex file\n",
    "with open(path_groin_rmse_latex, 'w') as f:\n",
    "    f.write(latex_template.format(groin_all_rmse_latex))"
   ]
  },
  {
   "cell_type": "markdown",
   "metadata": {},
   "source": [
    "## t-test groin"
   ]
  },
  {
   "cell_type": "code",
   "execution_count": 35,
   "metadata": {},
   "outputs": [],
   "source": [
    "groin_fs['diff']= (groin_fs['y_pred_1'] - groin_fs['y_test_1'])**2\n",
    "groin_fs_test= groin_fs.pivot(index='type', columns='model', values='diff')\n",
    "groin_fs_test= groin_fs_test.rename(rename_dict_regr, axis='columns')\n",
    "groin_fs_test= groin_fs_test.rename(rename_dict_type)\n",
    "groin_fs_test= groin_fs_test.loc[row_order, col_order]\n",
    "\n",
    "groin_no_fs['diff']= (groin_no_fs['y_pred_1'] - groin_no_fs['y_test_1'])**2\n",
    "groin_no_fs_test= groin_no_fs.pivot(index='type', columns='model', values='diff')\n",
    "groin_no_fs_test= groin_no_fs_test.rename(rename_dict_regr, axis='columns')\n",
    "groin_no_fs_test= groin_no_fs_test.rename(rename_dict_type)\n",
    "groin_no_fs_test= groin_no_fs_test.loc[row_order, col_order]"
   ]
  },
  {
   "cell_type": "code",
   "execution_count": 36,
   "metadata": {},
   "outputs": [
    {
     "name": "stdout",
     "output_type": "stream",
     "text": [
      "\\begin{tabular}{llllll}\n",
      "\\toprule\n",
      "model & linear &    PLS &  lasso &  ridge &    kNN \\\\\n",
      "type        &        &        &        &        &        \\\\\n",
      "\\midrule\n",
      "multi-atlas &  2e-21 &  2e-43 &  4e-58 &  3e-43 &  3e-22 \\\\\n",
      "mean        &  3e-30 &  2e-21 &  3e-17 &  2e-21 &  6e-20 \\\\\n",
      "atlas 3     &  2e-39 &  1e-31 &  1e-15 &  6e-08 &  2e-10 \\\\\n",
      "atlas 4     &  1e-04 &  3e-22 &  1e-11 &  2e-39 &  1e-06 \\\\\n",
      "atlas 5     &  5e-31 &  3e-22 &  2e-23 &  4e-26 &  7e-11 \\\\\n",
      "atlas 6     &  6e-18 &  5e-14 &  6e-03 &  8e-08 &  4e-14 \\\\\n",
      "atlas 7     &  7e-08 &  2e-18 &  6e-23 &  6e-16 &  4e-20 \\\\\n",
      "\\bottomrule\n",
      "\\end{tabular}\n",
      "\n"
     ]
    }
   ],
   "source": [
    "groin_ttest_latex= test_compare(groin_fs_test, groin_no_fs_test).applymap(lambda x: '%.0e' % x).to_latex()\n",
    "print(groin_ttest_latex)\n",
    "\n",
    "#save results to tex file\n",
    "with open(path_groin_ttest_latex, 'w') as f:\n",
    "    f.write(latex_template.format(groin_ttest_latex))"
   ]
  },
  {
   "cell_type": "code",
   "execution_count": 37,
   "metadata": {},
   "outputs": [
    {
     "name": "stdout",
     "output_type": "stream",
     "text": [
      "\\begin{tabular}{llllll}\n",
      "\\toprule\n",
      "model & linear &    PLS &  lasso &   ridge &    kNN \\\\\n",
      "type    &        &        &        &         &        \\\\\n",
      "\\midrule\n",
      "mean    &  3e-36 &  1e-02 &  4e-39 &   6e-70 &  2e-06 \\\\\n",
      "atlas 3 &  9e-50 &  4e-18 &  1e-38 &   2e-72 &  3e-13 \\\\\n",
      "atlas 4 &  5e-34 &  8e-01 &  8e-54 &   2e-59 &  1e-17 \\\\\n",
      "atlas 5 &  2e-31 &  2e-20 &  6e-46 &   1e-61 &  7e-31 \\\\\n",
      "atlas 6 &  2e-25 &  9e-16 &  6e-37 &   1e-81 &  4e-03 \\\\\n",
      "atlas 7 &  6e-32 &  3e-03 &  2e-46 &  5e-110 &  5e-15 \\\\\n",
      "\\bottomrule\n",
      "\\end{tabular}\n",
      "\n"
     ]
    }
   ],
   "source": [
    "groin_fs_ttest_diff_latex= test_diff(groin_fs_test).applymap(lambda x: '%.0e' % x).to_latex()\n",
    "print(groin_fs_ttest_diff_latex)\n",
    "\n",
    "#save results to tex file\n",
    "with open(path_groin_fs_ttest_diff_latex, 'w') as f:\n",
    "    f.write(latex_template.format(groin_fs_ttest_diff_latex))"
   ]
  },
  {
   "cell_type": "code",
   "execution_count": 38,
   "metadata": {},
   "outputs": [
    {
     "name": "stdout",
     "output_type": "stream",
     "text": [
      "\\begin{tabular}{llllll}\n",
      "\\toprule\n",
      "model & linear &    PLS &  lasso &  ridge &    kNN \\\\\n",
      "model  &        &        &        &        &        \\\\\n",
      "\\midrule\n",
      "linear &    nan &  1e-24 &  1e-10 &  3e-27 &  4e-23 \\\\\n",
      "PLS    &  1e-24 &    nan &  5e-45 &  7e-59 &  5e-03 \\\\\n",
      "lasso  &  1e-10 &  5e-45 &    nan &  5e-20 &  8e-35 \\\\\n",
      "ridge  &  3e-27 &  7e-59 &  5e-20 &    nan &  8e-43 \\\\\n",
      "kNN    &  4e-23 &  5e-03 &  8e-35 &  8e-43 &    nan \\\\\n",
      "\\bottomrule\n",
      "\\end{tabular}\n",
      "\n"
     ]
    }
   ],
   "source": [
    "groin_fs_ttest_diff_cross_latex= test_diff_cross(groin_fs_test.loc[['multi-atlas']]).applymap(lambda x: '%.0e' % x).to_latex()\n",
    "print(groin_fs_ttest_diff_cross_latex)\n",
    "\n",
    "#save results to tex file\n",
    "with open(path_groin_fs_ttest_diff_cross_latex, 'w') as f:\n",
    "    f.write(latex_template.format(groin_fs_ttest_diff_cross_latex))"
   ]
  },
  {
   "cell_type": "markdown",
   "metadata": {},
   "source": [
    "## shoulder $r^2$ results"
   ]
  },
  {
   "cell_type": "code",
   "execution_count": 39,
   "metadata": {},
   "outputs": [],
   "source": [
    "shoulder_fs_results= shoulder_fs.pivot(index='type', columns='model', values='r2_1')\n",
    "shoulder_fs_results= shoulder_fs_results.rename(rename_dict_regr, axis='columns')\n",
    "shoulder_fs_results= shoulder_fs_results.rename(rename_dict_type)\n",
    "shoulder_fs_results= shoulder_fs_results.apply(lambda x: np.round(x, 4))\n",
    "shoulder_fs_results= shoulder_fs_results.loc[row_order, col_order]\n",
    "\n",
    "shoulder_no_fs_results= shoulder_no_fs.pivot(index='type', columns='model', values='r2_1')\n",
    "shoulder_no_fs_results= shoulder_no_fs_results.rename(rename_dict_regr, axis='columns')\n",
    "shoulder_no_fs_results= shoulder_no_fs_results.rename(rename_dict_type)\n",
    "shoulder_no_fs_results= shoulder_no_fs_results.apply(lambda x: np.round(x, 4))\n",
    "shoulder_no_fs_results= shoulder_no_fs_results.loc[row_order, col_order]\n",
    "\n",
    "shoulder_all= pd.concat([shoulder_fs_results, shoulder_no_fs_results], axis='columns')\n",
    "columns= pd.MultiIndex.from_product([['feature selection', 'no feature selection'], col_order])\n",
    "shoulder_all.columns= columns"
   ]
  },
  {
   "cell_type": "code",
   "execution_count": 40,
   "metadata": {},
   "outputs": [
    {
     "name": "stdout",
     "output_type": "stream",
     "text": [
      "\\begin{tabular}{lrrrrrrrrrr}\n",
      "\\toprule\n",
      "{} & \\multicolumn{5}{l}{feature selection} & \\multicolumn{5}{l}{no feature selection} \\\\\n",
      "{} &            linear &     PLS &   lasso &   ridge &     kNN &               linear &     PLS &   lasso &   ridge &     kNN \\\\\n",
      "type        &                   &         &         &         &         &                      &         &         &         &         \\\\\n",
      "\\midrule\n",
      "multi-atlas &            0.9962 &  0.9531 &  0.9909 &  0.9893 &  0.8598 &               0.7753 &  0.8896 &  0.8962 &  0.8896 &  0.6688 \\\\\n",
      "mean        &            0.8972 &  0.9177 &  0.8971 &  0.9012 &  0.8272 &               0.6895 &  0.8795 &  0.8825 &  0.8843 &  0.6894 \\\\\n",
      "atlas 3     &            0.9181 &  0.9176 &  0.9182 &  0.9193 &  0.8289 &               0.7890 &  0.8857 &  0.8997 &  0.8948 &  0.6985 \\\\\n",
      "atlas 4     &            0.9358 &  0.9083 &  0.9272 &  0.9274 &  0.8074 &               0.7351 &  0.8813 &  0.8820 &  0.8955 &  0.6246 \\\\\n",
      "atlas 5     &            0.9194 &  0.9133 &  0.9193 &  0.9195 &  0.7844 &               0.7419 &  0.8239 &  0.8879 &  0.8490 &  0.5288 \\\\\n",
      "atlas 6     &            0.9212 &  0.9255 &  0.9288 &  0.9289 &  0.7532 &               0.7000 &  0.8894 &  0.9088 &  0.9152 &  0.6210 \\\\\n",
      "atlas 7     &            0.9237 &  0.9059 &  0.9243 &  0.9242 &  0.7203 &               0.7465 &  0.8402 &  0.8730 &  0.8662 &  0.5614 \\\\\n",
      "\\bottomrule\n",
      "\\end{tabular}\n",
      "\n"
     ]
    }
   ],
   "source": [
    "shoulder_all_r2_latex= shoulder_all.to_latex()\n",
    "print(shoulder_all_r2_latex)\n",
    "\n",
    "#save results to tex file\n",
    "with open(path_shoulder_r2_latex, 'w') as f:\n",
    "    f.write(latex_template.format(shoulder_all_r2_latex))"
   ]
  },
  {
   "cell_type": "markdown",
   "metadata": {},
   "source": [
    "## shoulder RMSE results"
   ]
  },
  {
   "cell_type": "code",
   "execution_count": 41,
   "metadata": {},
   "outputs": [],
   "source": [
    "shoulder_fs_results_rmse= shoulder_fs.pivot(index='type', columns='model', values='rmse_1')\n",
    "shoulder_fs_results_rmse= shoulder_fs_results_rmse.rename(rename_dict_regr, axis='columns')\n",
    "shoulder_fs_results_rmse= shoulder_fs_results_rmse.rename(rename_dict_type)\n",
    "shoulder_fs_results_rmse= shoulder_fs_results_rmse.apply(lambda x: np.round(x, 4))\n",
    "shoulder_fs_results_rmse= shoulder_fs_results_rmse.loc[row_order, col_order]\n",
    "\n",
    "shoulder_no_fs_results_rmse= shoulder_no_fs.pivot(index='type', columns='model', values='rmse_1')\n",
    "shoulder_no_fs_results_rmse= shoulder_no_fs_results_rmse.rename(rename_dict_regr, axis='columns')\n",
    "shoulder_no_fs_results_rmse= shoulder_no_fs_results_rmse.rename(rename_dict_type)\n",
    "shoulder_no_fs_results_rmse= shoulder_no_fs_results_rmse.apply(lambda x: np.round(x, 4))\n",
    "shoulder_no_fs_results_rmse= shoulder_no_fs_results_rmse.loc[row_order, col_order]\n",
    "\n",
    "shoulder_all_rmse= pd.concat([shoulder_fs_results_rmse, shoulder_no_fs_results_rmse], axis='columns')\n",
    "columns= pd.MultiIndex.from_product([['feature selection', 'no feature selection'], col_order])\n",
    "shoulder_all_rmse.columns= columns"
   ]
  },
  {
   "cell_type": "code",
   "execution_count": 42,
   "metadata": {},
   "outputs": [
    {
     "name": "stdout",
     "output_type": "stream",
     "text": [
      "\\begin{tabular}{lrrrrrrrrrr}\n",
      "\\toprule\n",
      "{} & \\multicolumn{5}{l}{feature selection} & \\multicolumn{5}{l}{no feature selection} \\\\\n",
      "{} &            linear &       PLS &     lasso &     ridge &       kNN &               linear &       PLS &     lasso &     ridge &       kNN \\\\\n",
      "type        &                   &           &           &           &           &                      &           &           &           &           \\\\\n",
      "\\midrule\n",
      "multi-atlas &           40.8138 &  143.2308 &   63.0590 &   68.3362 &  247.7341 &             313.6371 &  219.9051 &  213.2199 &  219.8397 &  380.8014 \\\\\n",
      "mean        &          212.1423 &  189.7871 &  212.2223 &  207.9466 &  275.0877 &             368.7072 &  229.7213 &  226.8033 &  225.0904 &  368.8012 \\\\\n",
      "atlas 3     &          189.3588 &  189.9674 &  189.1992 &  187.9753 &  273.7420 &             303.9221 &  223.6897 &  209.5963 &  214.5776 &  363.3477 \\\\\n",
      "atlas 4     &          167.6654 &  200.3755 &  178.5645 &  178.2766 &  290.4043 &             340.5695 &  227.9478 &  227.2688 &  213.8863 &  405.4477 \\\\\n",
      "atlas 5     &          187.9187 &  194.8904 &  187.9249 &  187.7224 &  307.2317 &             336.1560 &  277.6772 &  221.5113 &  257.1714 &  454.2389 \\\\\n",
      "atlas 6     &          185.7021 &  180.6286 &  176.6223 &  176.4533 &  328.7459 &             362.4153 &  220.0319 &  199.8240 &  192.6856 &  407.3779 \\\\\n",
      "atlas 7     &          182.8102 &  202.9610 &  182.1171 &  182.1660 &  349.9292 &             333.1846 &  264.4862 &  235.8605 &  242.0693 &  438.2227 \\\\\n",
      "\\bottomrule\n",
      "\\end{tabular}\n",
      "\n"
     ]
    }
   ],
   "source": [
    "shoulder_all_rmse_latex= shoulder_all_rmse.to_latex()\n",
    "print(shoulder_all_rmse_latex)\n",
    "\n",
    "#save results to tex file\n",
    "with open(path_shoulder_rmse_latex, 'w') as f:\n",
    "    f.write(latex_template.format(shoulder_all_rmse_latex))"
   ]
  },
  {
   "cell_type": "markdown",
   "metadata": {},
   "source": [
    "## t-test shoulder"
   ]
  },
  {
   "cell_type": "code",
   "execution_count": 43,
   "metadata": {},
   "outputs": [],
   "source": [
    "shoulder_fs['diff']= (shoulder_fs['y_pred_1'] - shoulder_fs['y_test_1'])**2\n",
    "shoulder_fs_test= shoulder_fs.pivot(index='type', columns='model', values='diff')\n",
    "shoulder_fs_test= shoulder_fs_test.rename(rename_dict_regr, axis='columns')\n",
    "shoulder_fs_test= shoulder_fs_test.rename(rename_dict_type)\n",
    "shoulder_fs_test= shoulder_fs_test.loc[row_order, col_order]\n",
    "\n",
    "shoulder_no_fs['diff']= (shoulder_no_fs['y_pred_1'] - shoulder_no_fs['y_test_1'])**2\n",
    "shoulder_no_fs_test= shoulder_no_fs.pivot(index='type', columns='model', values='diff')\n",
    "shoulder_no_fs_test= shoulder_no_fs_test.rename(rename_dict_regr, axis='columns')\n",
    "shoulder_no_fs_test= shoulder_no_fs_test.rename(rename_dict_type)\n",
    "shoulder_no_fs_test= shoulder_no_fs_test.loc[row_order, col_order]"
   ]
  },
  {
   "cell_type": "code",
   "execution_count": 44,
   "metadata": {},
   "outputs": [
    {
     "name": "stdout",
     "output_type": "stream",
     "text": [
      "\\begin{tabular}{llllll}\n",
      "\\toprule\n",
      "model & linear &    PLS &  lasso &  ridge &    kNN \\\\\n",
      "type        &        &        &        &        &        \\\\\n",
      "\\midrule\n",
      "multi-atlas &  4e-94 &  2e-78 &  1e-72 &  9e-80 &  8e-33 \\\\\n",
      "mean        &  4e-24 &  4e-39 &  3e-08 &  1e-08 &  7e-21 \\\\\n",
      "atlas 3     &  3e-32 &  1e-17 &  2e-18 &  6e-19 &  2e-37 \\\\\n",
      "atlas 4     &  8e-47 &  2e-12 &  2e-23 &  8e-25 &  3e-34 \\\\\n",
      "atlas 5     &  2e-39 &  2e-39 &  1e-24 &  4e-36 &  2e-61 \\\\\n",
      "atlas 6     &  7e-18 &  1e-37 &  2e-19 &  2e-18 &  1e-25 \\\\\n",
      "atlas 7     &  3e-55 &  2e-43 &  6e-42 &  4e-38 &  3e-23 \\\\\n",
      "\\bottomrule\n",
      "\\end{tabular}\n",
      "\n"
     ]
    }
   ],
   "source": [
    "shoulder_ttest_latex= test_compare(shoulder_fs_test, shoulder_no_fs_test).applymap(lambda x: '%.0e' % x).to_latex()\n",
    "print(shoulder_ttest_latex)\n",
    "\n",
    "#save results to tex file\n",
    "with open(path_shoulder_ttest_latex, 'w') as f:\n",
    "    f.write(latex_template.format(shoulder_ttest_latex))"
   ]
  },
  {
   "cell_type": "code",
   "execution_count": 45,
   "metadata": {},
   "outputs": [
    {
     "name": "stdout",
     "output_type": "stream",
     "text": [
      "\\begin{tabular}{llllll}\n",
      "\\toprule\n",
      "model & linear &    PLS &  lasso &  ridge &    kNN \\\\\n",
      "type    &        &        &        &        &        \\\\\n",
      "\\midrule\n",
      "mean    &  3e-71 &  1e-25 &  3e-65 &  5e-68 &  1e-05 \\\\\n",
      "atlas 3 &  1e-86 &  1e-26 &  8e-69 &  5e-65 &  4e-04 \\\\\n",
      "atlas 4 &  3e-88 &  5e-36 &  7e-99 &  2e-95 &  1e-09 \\\\\n",
      "atlas 5 &  7e-81 &  4e-37 &  3e-71 &  2e-70 &  3e-14 \\\\\n",
      "atlas 6 &  1e-76 &  3e-22 &  6e-70 &  1e-76 &  3e-21 \\\\\n",
      "atlas 7 &  4e-95 &  3e-39 &  3e-85 &  5e-85 &  2e-28 \\\\\n",
      "\\bottomrule\n",
      "\\end{tabular}\n",
      "\n"
     ]
    }
   ],
   "source": [
    "shoulder_fs_ttest_diff_latex= test_diff(shoulder_fs_test).applymap(lambda x: '%.0e' % x).to_latex()\n",
    "print(shoulder_fs_ttest_diff_latex)\n",
    "\n",
    "#save results to tex file\n",
    "with open(path_shoulder_fs_ttest_diff_latex, 'w') as f:\n",
    "    f.write(latex_template.format(shoulder_fs_ttest_diff_latex))"
   ]
  },
  {
   "cell_type": "code",
   "execution_count": 46,
   "metadata": {},
   "outputs": [
    {
     "name": "stdout",
     "output_type": "stream",
     "text": [
      "\\begin{tabular}{llllll}\n",
      "\\toprule\n",
      "model & linear &    PLS &  lasso &  ridge &    kNN \\\\\n",
      "model  &        &        &        &        &        \\\\\n",
      "\\midrule\n",
      "linear &    nan &  1e-88 &  8e-34 &  1e-41 &  2e-38 \\\\\n",
      "PLS    &  1e-88 &    nan &  2e-72 &  2e-68 &  7e-20 \\\\\n",
      "lasso  &  8e-34 &  2e-72 &    nan &  2e-03 &  4e-36 \\\\\n",
      "ridge  &  1e-41 &  2e-68 &  2e-03 &    nan &  1e-35 \\\\\n",
      "kNN    &  2e-38 &  7e-20 &  4e-36 &  1e-35 &    nan \\\\\n",
      "\\bottomrule\n",
      "\\end{tabular}\n",
      "\n"
     ]
    }
   ],
   "source": [
    "shoulder_fs_ttest_diff_cross_latex= test_diff_cross(shoulder_fs_test.loc[['multi-atlas']]).applymap(lambda x: '%.0e' % x).to_latex()\n",
    "print(shoulder_fs_ttest_diff_cross_latex)\n",
    "\n",
    "#save results to tex file\n",
    "with open(path_shoulder_fs_ttest_diff_cross_latex, 'w') as f:\n",
    "    f.write(latex_template.format(shoulder_fs_ttest_diff_cross_latex))"
   ]
  },
  {
   "cell_type": "markdown",
   "metadata": {},
   "source": [
    "## body $r^2$ results"
   ]
  },
  {
   "cell_type": "code",
   "execution_count": 47,
   "metadata": {},
   "outputs": [],
   "source": [
    "body_fs_results= body_fs.pivot(index='type', columns='model', values='r2_1')\n",
    "body_fs_results= body_fs_results.rename(rename_dict_regr, axis='columns')\n",
    "body_fs_results= body_fs_results.rename(rename_dict_type)\n",
    "body_fs_results= body_fs_results.apply(lambda x: np.round(x, 4))\n",
    "body_fs_results= body_fs_results.loc[row_order, col_order]\n",
    "\n",
    "body_no_fs_results= body_no_fs.pivot(index='type', columns='model', values='r2_1')\n",
    "body_no_fs_results= body_no_fs_results.rename(rename_dict_regr, axis='columns')\n",
    "body_no_fs_results= body_no_fs_results.rename(rename_dict_type)\n",
    "body_no_fs_results= body_no_fs_results.apply(lambda x: np.round(x, 4))\n",
    "body_no_fs_results= body_no_fs_results.loc[row_order, col_order]\n",
    "\n",
    "body_all= pd.concat([body_fs_results, body_no_fs_results], axis='columns')\n",
    "columns= pd.MultiIndex.from_product([['feature selection', 'no feature selection'], col_order])\n",
    "body_all.columns= columns"
   ]
  },
  {
   "cell_type": "code",
   "execution_count": 48,
   "metadata": {},
   "outputs": [
    {
     "name": "stdout",
     "output_type": "stream",
     "text": [
      "\\begin{tabular}{lrrrrrrrrrr}\n",
      "\\toprule\n",
      "{} & \\multicolumn{5}{l}{feature selection} & \\multicolumn{5}{l}{no feature selection} \\\\\n",
      "{} &            linear &     PLS &   lasso &   ridge &     kNN &               linear &     PLS &   lasso &   ridge &     kNN \\\\\n",
      "type        &                   &         &         &         &         &                      &         &         &         &         \\\\\n",
      "\\midrule\n",
      "multi-atlas &            0.9885 &  0.9894 &  0.9891 &  0.9895 &  0.9129 &               0.8898 &  0.9739 &  0.9704 &  0.9724 &  0.5715 \\\\\n",
      "mean        &            0.9842 &  0.9849 &  0.9843 &  0.9853 &  0.9031 &               0.4056 &  0.9727 &  0.9753 &  0.9734 &  0.6263 \\\\\n",
      "atlas 3     &            0.9848 &  0.9818 &  0.9847 &  0.9853 &  0.8765 &              -0.4333 &  0.9674 &  0.9664 &  0.9647 &  0.6348 \\\\\n",
      "atlas 4     &            0.9824 &  0.9868 &  0.9826 &  0.9868 &  0.8712 &              -2.5919 &  0.9702 &  0.9691 &  0.9656 &  0.5600 \\\\\n",
      "atlas 5     &            0.9845 &  0.9843 &  0.9855 &  0.9869 &  0.8999 &              -0.0513 &  0.9738 &  0.9729 &  0.9691 &  0.4888 \\\\\n",
      "atlas 6     &            0.9871 &  0.9867 &  0.9863 &  0.9870 &  0.8353 &              -1.3282 &  0.9805 &  0.9759 &  0.9767 &  0.5760 \\\\\n",
      "atlas 7     &            0.9800 &  0.9804 &  0.9803 &  0.9777 &  0.8393 &              -0.0855 &  0.9660 &  0.9611 &  0.9635 &  0.5512 \\\\\n",
      "\\bottomrule\n",
      "\\end{tabular}\n",
      "\n"
     ]
    }
   ],
   "source": [
    "body_all_r2_latex= body_all.to_latex()\n",
    "print(body_all_r2_latex)\n",
    "\n",
    "#save results to tex file\n",
    "with open(path_body_r2_latex, 'w') as f:\n",
    "    f.write(latex_template.format(body_all_r2_latex))"
   ]
  },
  {
   "cell_type": "markdown",
   "metadata": {},
   "source": [
    "## body RMSE results"
   ]
  },
  {
   "cell_type": "code",
   "execution_count": 49,
   "metadata": {},
   "outputs": [],
   "source": [
    "body_fs_results_rmse= body_fs.pivot(index='type', columns='model', values='rmse_1')\n",
    "body_fs_results_rmse= body_fs_results_rmse.rename(rename_dict_regr, axis='columns')\n",
    "body_fs_results_rmse= body_fs_results_rmse.rename(rename_dict_type)\n",
    "body_fs_results_rmse= body_fs_results_rmse.apply(lambda x: np.round(x, 4))\n",
    "body_fs_results_rmse= body_fs_results_rmse.loc[row_order, col_order]\n",
    "\n",
    "body_no_fs_results_rmse= body_no_fs.pivot(index='type', columns='model', values='rmse_1')\n",
    "body_no_fs_results_rmse= body_no_fs_results_rmse.rename(rename_dict_regr, axis='columns')\n",
    "body_no_fs_results_rmse= body_no_fs_results_rmse.rename(rename_dict_type)\n",
    "body_no_fs_results_rmse= body_no_fs_results_rmse.apply(lambda x: np.round(x, 4))\n",
    "body_no_fs_results_rmse= body_no_fs_results_rmse.loc[row_order, col_order]\n",
    "\n",
    "body_all_rmse= pd.concat([body_fs_results_rmse, body_no_fs_results_rmse], axis='columns')\n",
    "columns= pd.MultiIndex.from_product([['feature selection', 'no feature selection'], col_order])\n",
    "body_all_rmse.columns= columns"
   ]
  },
  {
   "cell_type": "code",
   "execution_count": 50,
   "metadata": {},
   "outputs": [
    {
     "name": "stdout",
     "output_type": "stream",
     "text": [
      "\\begin{tabular}{lrrrrrrrrrr}\n",
      "\\toprule\n",
      "{} & \\multicolumn{5}{l}{feature selection} & \\multicolumn{5}{l}{no feature selection} \\\\\n",
      "{} &            linear &       PLS &     lasso &     ridge &        kNN &               linear &       PLS &     lasso &     ridge &        kNN \\\\\n",
      "type        &                   &           &           &           &            &                      &           &           &           &            \\\\\n",
      "\\midrule\n",
      "multi-atlas &          524.1614 &  503.2498 &  511.6127 &  501.8615 &  1444.9752 &            1624.9085 &  790.5371 &  842.8359 &  812.6658 &  3204.5864 \\\\\n",
      "mean        &          615.4048 &  602.1268 &  612.7417 &  593.8281 &  1523.5512 &            3773.9431 &  808.5480 &  768.6579 &  798.7240 &  2992.3469 \\\\\n",
      "atlas 3     &          603.9188 &  659.6006 &  604.7777 &  593.9343 &  1720.6046 &            5860.6153 &  883.7403 &  897.8557 &  920.3191 &  2958.3145 \\\\\n",
      "atlas 4     &          649.9304 &  562.3052 &  645.4266 &  563.1414 &  1757.1360 &            9277.5869 &  844.7824 &  860.8123 &  907.5436 &  3247.1388 \\\\\n",
      "atlas 5     &          609.3966 &  613.2421 &  590.3679 &  560.4949 &  1549.0989 &            5019.1219 &  793.0827 &  805.4687 &  860.1959 &  3500.1625 \\\\\n",
      "atlas 6     &          555.5812 &  564.6932 &  573.0309 &  557.2354 &  1986.8209 &            7469.3196 &  683.2328 &  760.7073 &  747.1901 &  3187.5587 \\\\\n",
      "atlas 7     &          692.7231 &  685.2384 &  687.2243 &  730.8838 &  1962.0697 &            5100.0995 &  902.0592 &  965.0614 &  934.9573 &  3279.4663 \\\\\n",
      "\\bottomrule\n",
      "\\end{tabular}\n",
      "\n"
     ]
    }
   ],
   "source": [
    "body_all_rmse_latex= body_all_rmse.to_latex()\n",
    "print(body_all_rmse_latex)\n",
    "\n",
    "#save results to tex file\n",
    "with open(path_body_rmse_latex, 'w') as f:\n",
    "    f.write(latex_template.format(body_all_rmse_latex))"
   ]
  },
  {
   "cell_type": "markdown",
   "metadata": {},
   "source": [
    "## t-test body"
   ]
  },
  {
   "cell_type": "code",
   "execution_count": 51,
   "metadata": {},
   "outputs": [],
   "source": [
    "body_fs['diff']= (body_fs['y_pred_1'] - body_fs['y_test_1'])**2\n",
    "body_fs_test= body_fs.pivot(index='type', columns='model', values='diff')\n",
    "body_fs_test= body_fs_test.rename(rename_dict_regr, axis='columns')\n",
    "body_fs_test= body_fs_test.rename(rename_dict_type)\n",
    "body_fs_test= body_fs_test.loc[row_order, col_order]\n",
    "\n",
    "body_no_fs['diff']= (body_no_fs['y_pred_1'] - body_no_fs['y_test_1'])**2\n",
    "body_no_fs_test= body_no_fs.pivot(index='type', columns='model', values='diff')\n",
    "body_no_fs_test= body_no_fs_test.rename(rename_dict_regr, axis='columns')\n",
    "body_no_fs_test= body_no_fs_test.rename(rename_dict_type)\n",
    "body_no_fs_test= body_no_fs_test.loc[row_order, col_order]"
   ]
  },
  {
   "cell_type": "code",
   "execution_count": 52,
   "metadata": {},
   "outputs": [
    {
     "name": "stdout",
     "output_type": "stream",
     "text": [
      "\\begin{tabular}{llllll}\n",
      "\\toprule\n",
      "model & linear &    PLS &  lasso &  ridge &    kNN \\\\\n",
      "type        &        &        &        &        &        \\\\\n",
      "\\midrule\n",
      "multi-atlas &  6e-76 &  1e-62 &  1e-55 &  2e-45 &  1e-32 \\\\\n",
      "mean        &  3e-30 &  5e-28 &  5e-38 &  6e-31 &  1e-29 \\\\\n",
      "atlas 3     &  2e-21 &  2e-53 &  2e-37 &  3e-66 &  2e-28 \\\\\n",
      "atlas 4     &  4e-09 &  1e-45 &  9e-48 &  3e-55 &  6e-34 \\\\\n",
      "atlas 5     &  1e-03 &  1e-30 &  2e-70 &  7e-62 &  1e-35 \\\\\n",
      "atlas 6     &  6e-08 &  6e-15 &  4e-44 &  1e-23 &  5e-32 \\\\\n",
      "atlas 7     &  3e-15 &  2e-30 &  1e-46 &  6e-31 &  1e-34 \\\\\n",
      "\\bottomrule\n",
      "\\end{tabular}\n",
      "\n"
     ]
    }
   ],
   "source": [
    "body_ttest_latex= test_compare(body_fs_test, body_no_fs_test).applymap(lambda x: '%.0e' % x).to_latex()\n",
    "print(body_ttest_latex)\n",
    "\n",
    "#save results to tex file\n",
    "with open(path_body_ttest_latex, 'w') as f:\n",
    "    f.write(latex_template.format(body_ttest_latex))"
   ]
  },
  {
   "cell_type": "code",
   "execution_count": 53,
   "metadata": {},
   "outputs": [
    {
     "name": "stdout",
     "output_type": "stream",
     "text": [
      "\\begin{tabular}{llllll}\n",
      "\\toprule\n",
      "model & linear &    PLS &  lasso &  ridge &    kNN \\\\\n",
      "type    &        &        &        &        &        \\\\\n",
      "\\midrule\n",
      "mean    &  3e-09 &  6e-26 &  2e-21 &  1e-11 &  7e-03 \\\\\n",
      "atlas 3 &  4e-14 &  5e-36 &  3e-15 &  4e-15 &  3e-11 \\\\\n",
      "atlas 4 &  5e-17 &  5e-07 &  2e-23 &  2e-08 &  1e-16 \\\\\n",
      "atlas 5 &  5e-13 &  3e-34 &  3e-17 &  2e-06 &  1e-04 \\\\\n",
      "atlas 6 &  1e-03 &  3e-13 &  9e-12 &  2e-07 &  1e-29 \\\\\n",
      "atlas 7 &  9e-26 &  1e-39 &  4e-47 &  6e-39 &  3e-17 \\\\\n",
      "\\bottomrule\n",
      "\\end{tabular}\n",
      "\n"
     ]
    }
   ],
   "source": [
    "body_fs_ttest_diff_latex= test_diff(body_fs_test).applymap(lambda x: '%.0e' % x).to_latex()\n",
    "print(body_fs_ttest_diff_latex)\n",
    "\n",
    "#save results to tex file\n",
    "with open(path_body_fs_ttest_diff_latex, 'w') as f:\n",
    "    f.write(latex_template.format(body_fs_ttest_diff_latex))"
   ]
  },
  {
   "cell_type": "code",
   "execution_count": 54,
   "metadata": {},
   "outputs": [
    {
     "name": "stdout",
     "output_type": "stream",
     "text": [
      "\\begin{tabular}{llllll}\n",
      "\\toprule\n",
      "model & linear &    PLS &  lasso &  ridge &    kNN \\\\\n",
      "model  &        &        &        &        &        \\\\\n",
      "\\midrule\n",
      "linear &    nan &  2e-02 &  2e-01 &  2e-02 &  6e-42 \\\\\n",
      "PLS    &  2e-02 &    nan &  3e-01 &  9e-01 &  6e-42 \\\\\n",
      "lasso  &  2e-01 &  3e-01 &    nan &  3e-01 &  5e-42 \\\\\n",
      "ridge  &  2e-02 &  9e-01 &  3e-01 &    nan &  3e-42 \\\\\n",
      "kNN    &  6e-42 &  6e-42 &  5e-42 &  3e-42 &    nan \\\\\n",
      "\\bottomrule\n",
      "\\end{tabular}\n",
      "\n"
     ]
    }
   ],
   "source": [
    "body_fs_ttest_diff_cross_latex= test_diff_cross(body_fs_test.loc[['multi-atlas']]).applymap(lambda x: '%.0e' % x).to_latex()\n",
    "print(body_fs_ttest_diff_cross_latex)\n",
    "\n",
    "#save results to tex file\n",
    "with open(path_body_fs_ttest_diff_cross_latex, 'w') as f:\n",
    "    f.write(latex_template.format(body_fs_ttest_diff_cross_latex))"
   ]
  },
  {
   "cell_type": "markdown",
   "metadata": {},
   "source": [
    "### Convert tex files to pdfs"
   ]
  },
  {
   "cell_type": "code",
   "execution_count": 55,
   "metadata": {},
   "outputs": [],
   "source": [
    "import shutil\n",
    "import glob\n",
    "\n",
    "pdflatex_path= shutil.which(\"pdflatex\")\n",
    "if path_prefix_results != os.path.basename(os.getcwd()):\n",
    "    os.chdir(path_prefix_results)\n",
    "texs= glob.glob(\"*tex\")\n",
    "temp = \"tmp\"\n",
    "os.makedirs(temp, exist_ok=True)"
   ]
  },
  {
   "cell_type": "code",
   "execution_count": 56,
   "metadata": {},
   "outputs": [
    {
     "name": "stdout",
     "output_type": "stream",
     "text": [
      "Converting belly_fs_ttest_diff_cross.tex...\n",
      "Converting loin_r2.tex...\n",
      "Converting leg_fs_ttest_diff_cross.tex...\n",
      "Converting belly_fs_ttest_diff.tex...\n",
      "Converting groin_fs_ttest_diff_cross.tex...\n",
      "Converting leg_fs_ttest_diff.tex...\n",
      "Converting groin_r2.tex...\n",
      "Converting shoulder_fs_ttest_diff.tex...\n",
      "Converting shoulder_fs_ttest_diff_cross.tex...\n",
      "Converting body_ttest.tex...\n",
      "Converting groin_fs_ttest_diff.tex...\n",
      "Converting body_fs_ttest_diff.tex...\n",
      "Converting groin_rmse.tex...\n",
      "Converting body_rmse.tex...\n",
      "Converting belly_ttest.tex...\n",
      "Converting loin_rmse.tex...\n",
      "Converting loin_fs_ttest_diff_cross.tex...\n",
      "Converting shoulder_r2.tex...\n",
      "Converting shoulder_ttest.tex...\n",
      "Converting leg_rmse.tex...\n",
      "Converting leg_ttest.tex...\n",
      "Converting shoulder_rmse.tex...\n",
      "Converting leg_r2.tex...\n",
      "Converting body_fs_ttest_diff_cross.tex...\n",
      "Converting loin_fs_ttest_diff.tex...\n",
      "Converting belly_rmse.tex...\n",
      "Converting loin_ttest.tex...\n",
      "Converting groin_ttest.tex...\n",
      "Converting body_r2.tex...\n",
      "Converting belly_r2.tex...\n"
     ]
    }
   ],
   "source": [
    "for tex in texs:\n",
    "    print(f\"Converting {tex}...\")\n",
    "    cmd= f\"{pdflatex_path} {tex} >> /dev/null\"\n",
    "    os.system(cmd)\n",
    "    for i in glob.glob(\"*.aux\") + glob.glob(\"*.log\"):\n",
    "        shutil.move(os.path.abspath(i), os.path.join(os.path.abspath(temp),i))"
   ]
  }
 ],
 "metadata": {
  "kernelspec": {
   "display_name": "Python 3 (ipykernel)",
   "language": "python",
   "name": "python3"
  },
  "language_info": {
   "codemirror_mode": {
    "name": "ipython",
    "version": 3
   },
   "file_extension": ".py",
   "mimetype": "text/x-python",
   "name": "python",
   "nbconvert_exporter": "python",
   "pygments_lexer": "ipython3",
   "version": "3.7.16"
  }
 },
 "nbformat": 4,
 "nbformat_minor": 4
}
