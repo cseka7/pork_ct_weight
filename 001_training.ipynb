{
 "cells": [
  {
   "cell_type": "markdown",
   "metadata": {},
   "source": [
    "# Regression analysis and training"
   ]
  },
  {
   "cell_type": "code",
   "execution_count": 1,
   "metadata": {},
   "outputs": [
    {
     "name": "stdout",
     "output_type": "stream",
     "text": [
      "Executables being used: /opt/elastix-5.1.0-linux/bin/elastix /opt/elastix-5.1.0-linux/bin/transformix\n"
     ]
    },
    {
     "data": {
      "text/html": [
       "<div class=\"bk-root\">\n",
       "        <a href=\"https://bokeh.org\" target=\"_blank\" class=\"bk-logo bk-logo-small bk-logo-notebook\"></a>\n",
       "        <span id=\"1002\">Loading BokehJS ...</span>\n",
       "    </div>\n"
      ]
     },
     "metadata": {},
     "output_type": "display_data"
    },
    {
     "data": {
      "application/javascript": [
       "(function(root) {\n",
       "  function now() {\n",
       "    return new Date();\n",
       "  }\n",
       "\n",
       "  const force = true;\n",
       "\n",
       "  if (typeof root._bokeh_onload_callbacks === \"undefined\" || force === true) {\n",
       "    root._bokeh_onload_callbacks = [];\n",
       "    root._bokeh_is_loading = undefined;\n",
       "  }\n",
       "\n",
       "const JS_MIME_TYPE = 'application/javascript';\n",
       "  const HTML_MIME_TYPE = 'text/html';\n",
       "  const EXEC_MIME_TYPE = 'application/vnd.bokehjs_exec.v0+json';\n",
       "  const CLASS_NAME = 'output_bokeh rendered_html';\n",
       "\n",
       "  /**\n",
       "   * Render data to the DOM node\n",
       "   */\n",
       "  function render(props, node) {\n",
       "    const script = document.createElement(\"script\");\n",
       "    node.appendChild(script);\n",
       "  }\n",
       "\n",
       "  /**\n",
       "   * Handle when an output is cleared or removed\n",
       "   */\n",
       "  function handleClearOutput(event, handle) {\n",
       "    const cell = handle.cell;\n",
       "\n",
       "    const id = cell.output_area._bokeh_element_id;\n",
       "    const server_id = cell.output_area._bokeh_server_id;\n",
       "    // Clean up Bokeh references\n",
       "    if (id != null && id in Bokeh.index) {\n",
       "      Bokeh.index[id].model.document.clear();\n",
       "      delete Bokeh.index[id];\n",
       "    }\n",
       "\n",
       "    if (server_id !== undefined) {\n",
       "      // Clean up Bokeh references\n",
       "      const cmd_clean = \"from bokeh.io.state import curstate; print(curstate().uuid_to_server['\" + server_id + \"'].get_sessions()[0].document.roots[0]._id)\";\n",
       "      cell.notebook.kernel.execute(cmd_clean, {\n",
       "        iopub: {\n",
       "          output: function(msg) {\n",
       "            const id = msg.content.text.trim();\n",
       "            if (id in Bokeh.index) {\n",
       "              Bokeh.index[id].model.document.clear();\n",
       "              delete Bokeh.index[id];\n",
       "            }\n",
       "          }\n",
       "        }\n",
       "      });\n",
       "      // Destroy server and session\n",
       "      const cmd_destroy = \"import bokeh.io.notebook as ion; ion.destroy_server('\" + server_id + \"')\";\n",
       "      cell.notebook.kernel.execute(cmd_destroy);\n",
       "    }\n",
       "  }\n",
       "\n",
       "  /**\n",
       "   * Handle when a new output is added\n",
       "   */\n",
       "  function handleAddOutput(event, handle) {\n",
       "    const output_area = handle.output_area;\n",
       "    const output = handle.output;\n",
       "\n",
       "    // limit handleAddOutput to display_data with EXEC_MIME_TYPE content only\n",
       "    if ((output.output_type != \"display_data\") || (!Object.prototype.hasOwnProperty.call(output.data, EXEC_MIME_TYPE))) {\n",
       "      return\n",
       "    }\n",
       "\n",
       "    const toinsert = output_area.element.find(\".\" + CLASS_NAME.split(' ')[0]);\n",
       "\n",
       "    if (output.metadata[EXEC_MIME_TYPE][\"id\"] !== undefined) {\n",
       "      toinsert[toinsert.length - 1].firstChild.textContent = output.data[JS_MIME_TYPE];\n",
       "      // store reference to embed id on output_area\n",
       "      output_area._bokeh_element_id = output.metadata[EXEC_MIME_TYPE][\"id\"];\n",
       "    }\n",
       "    if (output.metadata[EXEC_MIME_TYPE][\"server_id\"] !== undefined) {\n",
       "      const bk_div = document.createElement(\"div\");\n",
       "      bk_div.innerHTML = output.data[HTML_MIME_TYPE];\n",
       "      const script_attrs = bk_div.children[0].attributes;\n",
       "      for (let i = 0; i < script_attrs.length; i++) {\n",
       "        toinsert[toinsert.length - 1].firstChild.setAttribute(script_attrs[i].name, script_attrs[i].value);\n",
       "        toinsert[toinsert.length - 1].firstChild.textContent = bk_div.children[0].textContent\n",
       "      }\n",
       "      // store reference to server id on output_area\n",
       "      output_area._bokeh_server_id = output.metadata[EXEC_MIME_TYPE][\"server_id\"];\n",
       "    }\n",
       "  }\n",
       "\n",
       "  function register_renderer(events, OutputArea) {\n",
       "\n",
       "    function append_mime(data, metadata, element) {\n",
       "      // create a DOM node to render to\n",
       "      const toinsert = this.create_output_subarea(\n",
       "        metadata,\n",
       "        CLASS_NAME,\n",
       "        EXEC_MIME_TYPE\n",
       "      );\n",
       "      this.keyboard_manager.register_events(toinsert);\n",
       "      // Render to node\n",
       "      const props = {data: data, metadata: metadata[EXEC_MIME_TYPE]};\n",
       "      render(props, toinsert[toinsert.length - 1]);\n",
       "      element.append(toinsert);\n",
       "      return toinsert\n",
       "    }\n",
       "\n",
       "    /* Handle when an output is cleared or removed */\n",
       "    events.on('clear_output.CodeCell', handleClearOutput);\n",
       "    events.on('delete.Cell', handleClearOutput);\n",
       "\n",
       "    /* Handle when a new output is added */\n",
       "    events.on('output_added.OutputArea', handleAddOutput);\n",
       "\n",
       "    /**\n",
       "     * Register the mime type and append_mime function with output_area\n",
       "     */\n",
       "    OutputArea.prototype.register_mime_type(EXEC_MIME_TYPE, append_mime, {\n",
       "      /* Is output safe? */\n",
       "      safe: true,\n",
       "      /* Index of renderer in `output_area.display_order` */\n",
       "      index: 0\n",
       "    });\n",
       "  }\n",
       "\n",
       "  // register the mime type if in Jupyter Notebook environment and previously unregistered\n",
       "  if (root.Jupyter !== undefined) {\n",
       "    const events = require('base/js/events');\n",
       "    const OutputArea = require('notebook/js/outputarea').OutputArea;\n",
       "\n",
       "    if (OutputArea.prototype.mime_types().indexOf(EXEC_MIME_TYPE) == -1) {\n",
       "      register_renderer(events, OutputArea);\n",
       "    }\n",
       "  }\n",
       "  if (typeof (root._bokeh_timeout) === \"undefined\" || force === true) {\n",
       "    root._bokeh_timeout = Date.now() + 5000;\n",
       "    root._bokeh_failed_load = false;\n",
       "  }\n",
       "\n",
       "  const NB_LOAD_WARNING = {'data': {'text/html':\n",
       "     \"<div style='background-color: #fdd'>\\n\"+\n",
       "     \"<p>\\n\"+\n",
       "     \"BokehJS does not appear to have successfully loaded. If loading BokehJS from CDN, this \\n\"+\n",
       "     \"may be due to a slow or bad network connection. Possible fixes:\\n\"+\n",
       "     \"</p>\\n\"+\n",
       "     \"<ul>\\n\"+\n",
       "     \"<li>re-rerun `output_notebook()` to attempt to load from CDN again, or</li>\\n\"+\n",
       "     \"<li>use INLINE resources instead, as so:</li>\\n\"+\n",
       "     \"</ul>\\n\"+\n",
       "     \"<code>\\n\"+\n",
       "     \"from bokeh.resources import INLINE\\n\"+\n",
       "     \"output_notebook(resources=INLINE)\\n\"+\n",
       "     \"</code>\\n\"+\n",
       "     \"</div>\"}};\n",
       "\n",
       "  function display_loaded() {\n",
       "    const el = document.getElementById(\"1002\");\n",
       "    if (el != null) {\n",
       "      el.textContent = \"BokehJS is loading...\";\n",
       "    }\n",
       "    if (root.Bokeh !== undefined) {\n",
       "      if (el != null) {\n",
       "        el.textContent = \"BokehJS \" + root.Bokeh.version + \" successfully loaded.\";\n",
       "      }\n",
       "    } else if (Date.now() < root._bokeh_timeout) {\n",
       "      setTimeout(display_loaded, 100)\n",
       "    }\n",
       "  }\n",
       "\n",
       "  function run_callbacks() {\n",
       "    try {\n",
       "      root._bokeh_onload_callbacks.forEach(function(callback) {\n",
       "        if (callback != null)\n",
       "          callback();\n",
       "      });\n",
       "    } finally {\n",
       "      delete root._bokeh_onload_callbacks\n",
       "    }\n",
       "    console.debug(\"Bokeh: all callbacks have finished\");\n",
       "  }\n",
       "\n",
       "  function load_libs(css_urls, js_urls, callback) {\n",
       "    if (css_urls == null) css_urls = [];\n",
       "    if (js_urls == null) js_urls = [];\n",
       "\n",
       "    root._bokeh_onload_callbacks.push(callback);\n",
       "    if (root._bokeh_is_loading > 0) {\n",
       "      console.debug(\"Bokeh: BokehJS is being loaded, scheduling callback at\", now());\n",
       "      return null;\n",
       "    }\n",
       "    if (js_urls == null || js_urls.length === 0) {\n",
       "      run_callbacks();\n",
       "      return null;\n",
       "    }\n",
       "    console.debug(\"Bokeh: BokehJS not loaded, scheduling load and callback at\", now());\n",
       "    root._bokeh_is_loading = css_urls.length + js_urls.length;\n",
       "\n",
       "    function on_load() {\n",
       "      root._bokeh_is_loading--;\n",
       "      if (root._bokeh_is_loading === 0) {\n",
       "        console.debug(\"Bokeh: all BokehJS libraries/stylesheets loaded\");\n",
       "        run_callbacks()\n",
       "      }\n",
       "    }\n",
       "\n",
       "    function on_error(url) {\n",
       "      console.error(\"failed to load \" + url);\n",
       "    }\n",
       "\n",
       "    for (let i = 0; i < css_urls.length; i++) {\n",
       "      const url = css_urls[i];\n",
       "      const element = document.createElement(\"link\");\n",
       "      element.onload = on_load;\n",
       "      element.onerror = on_error.bind(null, url);\n",
       "      element.rel = \"stylesheet\";\n",
       "      element.type = \"text/css\";\n",
       "      element.href = url;\n",
       "      console.debug(\"Bokeh: injecting link tag for BokehJS stylesheet: \", url);\n",
       "      document.body.appendChild(element);\n",
       "    }\n",
       "\n",
       "    for (let i = 0; i < js_urls.length; i++) {\n",
       "      const url = js_urls[i];\n",
       "      const element = document.createElement('script');\n",
       "      element.onload = on_load;\n",
       "      element.onerror = on_error.bind(null, url);\n",
       "      element.async = false;\n",
       "      element.src = url;\n",
       "      console.debug(\"Bokeh: injecting script tag for BokehJS library: \", url);\n",
       "      document.head.appendChild(element);\n",
       "    }\n",
       "  };\n",
       "\n",
       "  function inject_raw_css(css) {\n",
       "    const element = document.createElement(\"style\");\n",
       "    element.appendChild(document.createTextNode(css));\n",
       "    document.body.appendChild(element);\n",
       "  }\n",
       "\n",
       "  const js_urls = [\"https://cdn.bokeh.org/bokeh/release/bokeh-2.4.3.min.js\", \"https://cdn.bokeh.org/bokeh/release/bokeh-gl-2.4.3.min.js\", \"https://cdn.bokeh.org/bokeh/release/bokeh-widgets-2.4.3.min.js\", \"https://cdn.bokeh.org/bokeh/release/bokeh-tables-2.4.3.min.js\", \"https://cdn.bokeh.org/bokeh/release/bokeh-mathjax-2.4.3.min.js\"];\n",
       "  const css_urls = [];\n",
       "\n",
       "  const inline_js = [    function(Bokeh) {\n",
       "      Bokeh.set_log_level(\"info\");\n",
       "    },\n",
       "function(Bokeh) {\n",
       "    }\n",
       "  ];\n",
       "\n",
       "  function run_inline_js() {\n",
       "    if (root.Bokeh !== undefined || force === true) {\n",
       "          for (let i = 0; i < inline_js.length; i++) {\n",
       "      inline_js[i].call(root, root.Bokeh);\n",
       "    }\n",
       "if (force === true) {\n",
       "        display_loaded();\n",
       "      }} else if (Date.now() < root._bokeh_timeout) {\n",
       "      setTimeout(run_inline_js, 100);\n",
       "    } else if (!root._bokeh_failed_load) {\n",
       "      console.log(\"Bokeh: BokehJS failed to load within specified timeout.\");\n",
       "      root._bokeh_failed_load = true;\n",
       "    } else if (force !== true) {\n",
       "      const cell = $(document.getElementById(\"1002\")).parents('.cell').data().cell;\n",
       "      cell.output_area.append_execute_result(NB_LOAD_WARNING)\n",
       "    }\n",
       "  }\n",
       "\n",
       "  if (root._bokeh_is_loading === 0) {\n",
       "    console.debug(\"Bokeh: BokehJS loaded, going straight to plotting\");\n",
       "    run_inline_js();\n",
       "  } else {\n",
       "    load_libs(css_urls, js_urls, function() {\n",
       "      console.debug(\"Bokeh: BokehJS plotting callback run at\", now());\n",
       "      run_inline_js();\n",
       "    });\n",
       "  }\n",
       "}(window));"
      ],
      "application/vnd.bokehjs_load.v0+json": "(function(root) {\n  function now() {\n    return new Date();\n  }\n\n  const force = true;\n\n  if (typeof root._bokeh_onload_callbacks === \"undefined\" || force === true) {\n    root._bokeh_onload_callbacks = [];\n    root._bokeh_is_loading = undefined;\n  }\n\n\n  if (typeof (root._bokeh_timeout) === \"undefined\" || force === true) {\n    root._bokeh_timeout = Date.now() + 5000;\n    root._bokeh_failed_load = false;\n  }\n\n  const NB_LOAD_WARNING = {'data': {'text/html':\n     \"<div style='background-color: #fdd'>\\n\"+\n     \"<p>\\n\"+\n     \"BokehJS does not appear to have successfully loaded. If loading BokehJS from CDN, this \\n\"+\n     \"may be due to a slow or bad network connection. Possible fixes:\\n\"+\n     \"</p>\\n\"+\n     \"<ul>\\n\"+\n     \"<li>re-rerun `output_notebook()` to attempt to load from CDN again, or</li>\\n\"+\n     \"<li>use INLINE resources instead, as so:</li>\\n\"+\n     \"</ul>\\n\"+\n     \"<code>\\n\"+\n     \"from bokeh.resources import INLINE\\n\"+\n     \"output_notebook(resources=INLINE)\\n\"+\n     \"</code>\\n\"+\n     \"</div>\"}};\n\n  function display_loaded() {\n    const el = document.getElementById(\"1002\");\n    if (el != null) {\n      el.textContent = \"BokehJS is loading...\";\n    }\n    if (root.Bokeh !== undefined) {\n      if (el != null) {\n        el.textContent = \"BokehJS \" + root.Bokeh.version + \" successfully loaded.\";\n      }\n    } else if (Date.now() < root._bokeh_timeout) {\n      setTimeout(display_loaded, 100)\n    }\n  }\n\n  function run_callbacks() {\n    try {\n      root._bokeh_onload_callbacks.forEach(function(callback) {\n        if (callback != null)\n          callback();\n      });\n    } finally {\n      delete root._bokeh_onload_callbacks\n    }\n    console.debug(\"Bokeh: all callbacks have finished\");\n  }\n\n  function load_libs(css_urls, js_urls, callback) {\n    if (css_urls == null) css_urls = [];\n    if (js_urls == null) js_urls = [];\n\n    root._bokeh_onload_callbacks.push(callback);\n    if (root._bokeh_is_loading > 0) {\n      console.debug(\"Bokeh: BokehJS is being loaded, scheduling callback at\", now());\n      return null;\n    }\n    if (js_urls == null || js_urls.length === 0) {\n      run_callbacks();\n      return null;\n    }\n    console.debug(\"Bokeh: BokehJS not loaded, scheduling load and callback at\", now());\n    root._bokeh_is_loading = css_urls.length + js_urls.length;\n\n    function on_load() {\n      root._bokeh_is_loading--;\n      if (root._bokeh_is_loading === 0) {\n        console.debug(\"Bokeh: all BokehJS libraries/stylesheets loaded\");\n        run_callbacks()\n      }\n    }\n\n    function on_error(url) {\n      console.error(\"failed to load \" + url);\n    }\n\n    for (let i = 0; i < css_urls.length; i++) {\n      const url = css_urls[i];\n      const element = document.createElement(\"link\");\n      element.onload = on_load;\n      element.onerror = on_error.bind(null, url);\n      element.rel = \"stylesheet\";\n      element.type = \"text/css\";\n      element.href = url;\n      console.debug(\"Bokeh: injecting link tag for BokehJS stylesheet: \", url);\n      document.body.appendChild(element);\n    }\n\n    for (let i = 0; i < js_urls.length; i++) {\n      const url = js_urls[i];\n      const element = document.createElement('script');\n      element.onload = on_load;\n      element.onerror = on_error.bind(null, url);\n      element.async = false;\n      element.src = url;\n      console.debug(\"Bokeh: injecting script tag for BokehJS library: \", url);\n      document.head.appendChild(element);\n    }\n  };\n\n  function inject_raw_css(css) {\n    const element = document.createElement(\"style\");\n    element.appendChild(document.createTextNode(css));\n    document.body.appendChild(element);\n  }\n\n  const js_urls = [\"https://cdn.bokeh.org/bokeh/release/bokeh-2.4.3.min.js\", \"https://cdn.bokeh.org/bokeh/release/bokeh-gl-2.4.3.min.js\", \"https://cdn.bokeh.org/bokeh/release/bokeh-widgets-2.4.3.min.js\", \"https://cdn.bokeh.org/bokeh/release/bokeh-tables-2.4.3.min.js\", \"https://cdn.bokeh.org/bokeh/release/bokeh-mathjax-2.4.3.min.js\"];\n  const css_urls = [];\n\n  const inline_js = [    function(Bokeh) {\n      Bokeh.set_log_level(\"info\");\n    },\nfunction(Bokeh) {\n    }\n  ];\n\n  function run_inline_js() {\n    if (root.Bokeh !== undefined || force === true) {\n          for (let i = 0; i < inline_js.length; i++) {\n      inline_js[i].call(root, root.Bokeh);\n    }\nif (force === true) {\n        display_loaded();\n      }} else if (Date.now() < root._bokeh_timeout) {\n      setTimeout(run_inline_js, 100);\n    } else if (!root._bokeh_failed_load) {\n      console.log(\"Bokeh: BokehJS failed to load within specified timeout.\");\n      root._bokeh_failed_load = true;\n    } else if (force !== true) {\n      const cell = $(document.getElementById(\"1002\")).parents('.cell').data().cell;\n      cell.output_area.append_execute_result(NB_LOAD_WARNING)\n    }\n  }\n\n  if (root._bokeh_is_loading === 0) {\n    console.debug(\"Bokeh: BokehJS loaded, going straight to plotting\");\n    run_inline_js();\n  } else {\n    load_libs(css_urls, js_urls, function() {\n      console.debug(\"Bokeh: BokehJS plotting callback run at\", now());\n      run_inline_js();\n    });\n  }\n}(window));"
     },
     "metadata": {},
     "output_type": "display_data"
    }
   ],
   "source": [
    "import glob\n",
    "import os\n",
    "import os.path\n",
    "import numpy as np\n",
    "import pandas as pd\n",
    "import pickle\n",
    "import matplotlib.pyplot as plt\n",
    "import logging\n",
    "from sklearn.preprocessing import StandardScaler\n",
    "from bokeh.io import output_notebook, show\n",
    "from bokeh.plotting import figure\n",
    "from bokeh.models.annotations import Title\n",
    "from maweight import model_selection\n",
    "from config import elastix_params\n",
    "import pickle\n",
    "output_notebook()\n",
    "\n",
    "from config import leg_features_path, loin_features_path, belly_features_path, groin_features_path\n",
    "from config import shoulder_features_path, body_features_path\n",
    "from config import xls_path, path_prefix_results\n",
    "\n",
    "import warnings\n",
    "warnings.filterwarnings('ignore')\n",
    "\n",
    "# setting the logging format\n",
    "FORMAT = '%(asctime)-15s %(clientip)s %(user)-8s %(message)s'\n",
    "logging.basicConfig(format=FORMAT, level=logging.INFO)"
   ]
  },
  {
   "cell_type": "markdown",
   "metadata": {},
   "source": [
    "## Constructing the training dataframe"
   ]
  },
  {
   "cell_type": "code",
   "execution_count": 2,
   "metadata": {},
   "outputs": [],
   "source": [
    "# Reading the extracted features\n",
    "[\"leg\", \"loin\", \"belly\", \"groin\", \"shoulder\", \"body\"]\n",
    "leg_features= pd.read_csv(leg_features_path)\n",
    "loin_features= pd.read_csv(loin_features_path)\n",
    "belly_features= pd.read_csv(belly_features_path)\n",
    "groin_features= pd.read_csv(groin_features_path)\n",
    "shoulder_features= pd.read_csv(shoulder_features_path)\n",
    "body_features= pd.read_csv(body_features_path)\n",
    "\n",
    "# Determining the ids and positions\n",
    "leg_features['id']= leg_features['filename'].apply(lambda x: x.split(os.sep)[-1]).apply(lambda x: x[:-7] if x.endswith(\".nii.gz\") else x[:-4]) \n",
    "loin_features['id']= loin_features['filename'].apply(lambda x: x.split(os.sep)[-1]).apply(lambda x: x[:-7] if x.endswith(\".nii.gz\") else x[:-4])\n",
    "belly_features['id']= belly_features['filename'].apply(lambda x: x.split(os.sep)[-1]).apply(lambda x: x[:-7] if x.endswith(\".nii.gz\") else x[:-4]) \n",
    "groin_features['id']= groin_features['filename'].apply(lambda x: x.split(os.sep)[-1]).apply(lambda x: x[:-7] if x.endswith(\".nii.gz\") else x[:-4])\n",
    "shoulder_features['id']= shoulder_features['filename'].apply(lambda x: x.split(os.sep)[-1]).apply(lambda x: x[:-7] if x.endswith(\".nii.gz\") else x[:-4]) \n",
    "body_features['id']= body_features['filename'].apply(lambda x: x.split(os.sep)[-1]).apply(lambda x: x[:-7] if x.endswith(\".nii.gz\") else x[:-4])\n",
    "\n",
    "# Reading the XLS data\n",
    "xls_data= pd.read_excel(xls_path, engine='openpyxl')\n",
    "\n",
    "# Extracting the ground truth data\n",
    "target= pd.DataFrame(data= {'ct_num': xls_data[u'id'].astype(str).str.zfill(3), \n",
    "                            'leg': xls_data[u'HAM'].astype(float),\n",
    "                            'loin': xls_data[u'LOIN'].astype(float),\n",
    "                            'belly': xls_data[u'BELLY'].astype(float),\n",
    "                            'groin': xls_data[u'VENTRA_ PART_BELLY'].astype(float), \n",
    "                            'shoulder': xls_data[u'SHOULDER'].astype(float),\n",
    "                            'body': xls_data[u'L_CW'].astype(float)})\n",
    "\n",
    "target['id']= target['ct_num']\n",
    "target= target.sort_values('id')\n",
    "target= target.reset_index()\n",
    "\n",
    "# Merging the skull features with the ground truth data\n",
    "leg_target= target[['id', 'leg']]\n",
    "loin_target= target[['id', 'loin']]\n",
    "belly_target= target[['id', 'belly']]\n",
    "groin_target= target[['id', 'groin']]\n",
    "shoulder_target= target[['id', 'shoulder']]\n",
    "body_target= target[['id', 'body']]\n",
    "\n",
    "leg_data= pd.merge(leg_features, leg_target, how='inner', on='id').dropna()\n",
    "loin_data= pd.merge(loin_features, loin_target, how='inner', on='id').dropna()\n",
    "belly_data= pd.merge(belly_features, belly_target, how='inner', on='id').dropna()\n",
    "groin_data= pd.merge(groin_features, groin_target, how='inner', on='id').dropna()\n",
    "shoulder_data= pd.merge(shoulder_features, shoulder_target, how='inner', on='id').dropna()\n",
    "body_data= pd.merge(body_features, body_target, how='inner', on='id').dropna()"
   ]
  },
  {
   "cell_type": "code",
   "execution_count": 3,
   "metadata": {
    "pycharm": {
     "name": "#%%\n"
    }
   },
   "outputs": [],
   "source": [
    "leg_target= leg_data['leg']\n",
    "leg_features= leg_data.drop(['filename', 'id', 'leg'], axis='columns')\n",
    "loin_target= loin_data['loin']\n",
    "loin_features= loin_data.drop(['filename', 'id', 'loin'], axis='columns')\n",
    "belly_target= belly_data['belly']\n",
    "belly_features= belly_data.drop(['filename', 'id', 'belly'], axis='columns')\n",
    "groin_target= groin_data['groin']\n",
    "groin_features= groin_data.drop(['filename', 'id', 'groin'], axis='columns')\n",
    "shoulder_target= shoulder_data['shoulder']\n",
    "shoulder_features= shoulder_data.drop(['filename', 'id', 'shoulder'], axis='columns')\n",
    "body_target= body_data['body']\n",
    "body_features= body_data.drop(['filename', 'id', 'body'], axis='columns')\n",
    "\n",
    "# encoding the positions\n",
    "#skull_features['pos']= skull_features['pos'].apply(lambda x: {'a': 0, 'k': 1, 'f': 2}[x])\n",
    "#head_features['pos']= head_features['pos'].apply(lambda x: {'a': 0, 'k': 1, 'f': 2}[x])"
   ]
  },
  {
   "cell_type": "markdown",
   "metadata": {},
   "source": [
    "## Model selection with feature selection"
   ]
  },
  {
   "cell_type": "code",
   "execution_count": 4,
   "metadata": {},
   "outputs": [],
   "source": [
    "masks= np.unique([c.split('-')[1] for c in leg_features.columns if ('mean_mask' not in c and len(c) > 10) and len(c.split('-')[1]) == 4])"
   ]
  },
  {
   "cell_type": "code",
   "execution_count": 5,
   "metadata": {},
   "outputs": [
    {
     "data": {
      "text/plain": [
       "array(['p004', 'p029', 'p032', 'p041', 'p048'], dtype='<U4')"
      ]
     },
     "execution_count": 5,
     "metadata": {},
     "output_type": "execute_result"
    }
   ],
   "source": [
    "masks"
   ]
  },
  {
   "cell_type": "code",
   "execution_count": 6,
   "metadata": {},
   "outputs": [],
   "source": [
    "results= []\n",
    "results_no_fs= []"
   ]
  },
  {
   "cell_type": "markdown",
   "metadata": {},
   "source": [
    "### leg using all features"
   ]
  },
  {
   "cell_type": "code",
   "execution_count": 7,
   "metadata": {},
   "outputs": [
    {
     "name": "stdout",
     "output_type": "stream",
     "text": [
      "Objective KNNR_Objective:\n"
     ]
    },
    {
     "name": "stderr",
     "output_type": "stream",
     "text": [
      " 18%|███████▏                               | 1472/8000 [03:07<13:50,  7.86it/s]\n",
      "78it [00:00, 778.55it/s]"
     ]
    },
    {
     "name": "stdout",
     "output_type": "stream",
     "text": [
      "iterations: 1472\n",
      "Number of used features: 24\n",
      "Used features: ['Unnamed: 0', 'num-p004-leg.nii.gz-0.500000', 'std-p004-leg.nii.gz-0.500000', 'hist-2-p004-leg.nii.gz-0.500000', 'num-p029-leg.nii.gz-0.500000', 'skew-p029-leg.nii.gz-0.500000', 'hist-1-p029-leg.nii.gz-0.500000', 'hist-5-p029-leg.nii.gz-0.500000', 'hist-10-p029-leg.nii.gz-0.500000', 'hist-17-p029-leg.nii.gz-0.500000', 'hist-9-p032-leg.nii.gz-0.500000', 'hist-13-p032-leg.nii.gz-0.500000', 'hist-14-p032-leg.nii.gz-0.500000', 'hist-17-p032-leg.nii.gz-0.500000', 'num-p041-leg.nii.gz-0.500000', 'hist-12-p041-leg.nii.gz-0.500000', 'hist-13-p041-leg.nii.gz-0.500000', 'std-p048-leg.nii.gz-0.500000', 'hist-8-p048-leg.nii.gz-0.500000', 'hist-14-p048-leg.nii.gz-0.500000', 'hist-16-p048-leg.nii.gz-0.500000', 'num-0.500000-mean_mask', 'hist-1-0.500000-mean_mask', 'hist-7-0.500000-mean_mask'] \n",
      "Score: -0.897328883702748\n"
     ]
    },
    {
     "name": "stderr",
     "output_type": "stream",
     "text": [
      "200it [00:00, 777.88it/s]\n",
      "  0%|                                                  | 0/8000 [00:00<?, ?it/s]"
     ]
    },
    {
     "name": "stdout",
     "output_type": "stream",
     "text": [
      "1\n",
      "1 0.90442231799878\n",
      "Objective LinearRegression_Objective:\n"
     ]
    },
    {
     "name": "stderr",
     "output_type": "stream",
     "text": [
      " 24%|█████████▏                             | 1880/8000 [02:13<07:13, 14.10it/s]\n",
      "90it [00:00, 891.75it/s]"
     ]
    },
    {
     "name": "stdout",
     "output_type": "stream",
     "text": [
      "iterations: 1880\n",
      "Number of used features: 15\n",
      "Used features: ['hist-19-p004-leg.nii.gz-0.500000', 'hist-3-p029-leg.nii.gz-0.500000', 'hist-14-p029-leg.nii.gz-0.500000', 'hist-17-p029-leg.nii.gz-0.500000', 'num-p041-leg.nii.gz-0.500000', 'sum-p041-leg.nii.gz-0.500000', 'hist-12-p041-leg.nii.gz-0.500000', 'hist-14-p041-leg.nii.gz-0.500000', 'hist-16-p041-leg.nii.gz-0.500000', 'hist-8-p048-leg.nii.gz-0.500000', 'hist-14-p048-leg.nii.gz-0.500000', 'hist-15-p048-leg.nii.gz-0.500000', 'hist-16-p048-leg.nii.gz-0.500000', 'hist-19-p048-leg.nii.gz-0.500000', 'num-0.500000-mean_mask'] \n",
      "Score: -0.9828852898880335\n"
     ]
    },
    {
     "name": "stderr",
     "output_type": "stream",
     "text": [
      "200it [00:00, 896.43it/s]\n",
      "  0%|                                                  | 0/8000 [00:00<?, ?it/s]"
     ]
    },
    {
     "name": "stdout",
     "output_type": "stream",
     "text": [
      "1\n",
      "1 0.9844412860280563\n",
      "Objective LassoRegression_Objective:\n"
     ]
    },
    {
     "name": "stderr",
     "output_type": "stream",
     "text": [
      " 22%|████████▌                              | 1753/8000 [04:05<14:34,  7.14it/s]\n",
      "62it [00:00, 617.48it/s]"
     ]
    },
    {
     "name": "stdout",
     "output_type": "stream",
     "text": [
      "iterations: 1753\n",
      "Number of used features: 11\n",
      "Used features: ['Unnamed: 0', 'hist-1-p004-leg.nii.gz-0.500000', 'mean-p029-leg.nii.gz-0.500000', 'hist-17-p029-leg.nii.gz-0.500000', 'hist-3-p032-leg.nii.gz-0.500000', 'hist-14-p032-leg.nii.gz-0.500000', 'num-p041-leg.nii.gz-0.500000', 'hist-11-p048-leg.nii.gz-0.500000', 'hist-15-p048-leg.nii.gz-0.500000', 'hist-16-p048-leg.nii.gz-0.500000', 'hist-19-0.500000-mean_mask'] \n",
      "Score: -0.9785081149989248\n"
     ]
    },
    {
     "name": "stderr",
     "output_type": "stream",
     "text": [
      "200it [00:00, 613.58it/s]\n",
      "  0%|                                                  | 0/8000 [00:00<?, ?it/s]"
     ]
    },
    {
     "name": "stdout",
     "output_type": "stream",
     "text": [
      "1\n",
      "1 0.9791514842462554\n",
      "Objective RidgeRegression_Objective:\n"
     ]
    },
    {
     "name": "stderr",
     "output_type": "stream",
     "text": [
      " 20%|███████▋                               | 1569/8000 [03:13<13:11,  8.12it/s]\n",
      "67it [00:00, 665.11it/s]"
     ]
    },
    {
     "name": "stdout",
     "output_type": "stream",
     "text": [
      "iterations: 1569\n",
      "Number of used features: 19\n",
      "Used features: ['Unnamed: 0', 'num-p004-leg.nii.gz-0.500000', 'skew-p004-leg.nii.gz-0.500000', 'hist-12-p029-leg.nii.gz-0.500000', 'hist-14-p029-leg.nii.gz-0.500000', 'hist-17-p029-leg.nii.gz-0.500000', 'hist-19-p029-leg.nii.gz-0.500000', 'hist-12-p032-leg.nii.gz-0.500000', 'hist-14-p032-leg.nii.gz-0.500000', 'hist-0-p041-leg.nii.gz-0.500000', 'hist-5-p041-leg.nii.gz-0.500000', 'hist-14-p041-leg.nii.gz-0.500000', 'sum-p048-leg.nii.gz-0.500000', 'kurt-p048-leg.nii.gz-0.500000', 'hist-3-p048-leg.nii.gz-0.500000', 'hist-15-p048-leg.nii.gz-0.500000', 'hist-16-p048-leg.nii.gz-0.500000', 'hist-12-0.500000-mean_mask', 'hist-14-0.500000-mean_mask'] \n",
      "Score: -0.98715153906333\n"
     ]
    },
    {
     "name": "stderr",
     "output_type": "stream",
     "text": [
      "200it [00:00, 670.54it/s]\n",
      "  0%|                                                  | 0/8000 [00:00<?, ?it/s]"
     ]
    },
    {
     "name": "stdout",
     "output_type": "stream",
     "text": [
      "1\n",
      "1 0.9895821822928035\n",
      "Objective PLSRegression_Objective:\n"
     ]
    },
    {
     "name": "stderr",
     "output_type": "stream",
     "text": [
      " 23%|█████████                              | 1857/8000 [04:40<15:26,  6.63it/s]\n",
      "54it [00:00, 534.99it/s]"
     ]
    },
    {
     "name": "stdout",
     "output_type": "stream",
     "text": [
      "iterations: 1857\n",
      "Number of used features: 17\n",
      "Used features: ['Unnamed: 0', 'num-p004-leg.nii.gz-0.500000', 'skew-p004-leg.nii.gz-0.500000', 'hist-10-p004-leg.nii.gz-0.500000', 'hist-13-p004-leg.nii.gz-0.500000', 'hist-14-p004-leg.nii.gz-0.500000', 'hist-19-p004-leg.nii.gz-0.500000', 'hist-13-p029-leg.nii.gz-0.500000', 'hist-17-p029-leg.nii.gz-0.500000', 'hist-19-p029-leg.nii.gz-0.500000', 'num-p041-leg.nii.gz-0.500000', 'hist-15-p041-leg.nii.gz-0.500000', 'hist-16-p041-leg.nii.gz-0.500000', 'hist-12-p048-leg.nii.gz-0.500000', 'hist-16-p048-leg.nii.gz-0.500000', 'hist-17-p048-leg.nii.gz-0.500000', 'hist-16-0.500000-mean_mask'] \n",
      "Score: -0.9823000280063845\n"
     ]
    },
    {
     "name": "stderr",
     "output_type": "stream",
     "text": [
      "200it [00:00, 534.68it/s]"
     ]
    },
    {
     "name": "stdout",
     "output_type": "stream",
     "text": [
      "1\n",
      "1 0.9842008847890619\n"
     ]
    },
    {
     "name": "stderr",
     "output_type": "stream",
     "text": [
      "\n"
     ]
    }
   ],
   "source": [
    "results.append(model_selection(leg_features, leg_target, dataset='leg', type='all'))"
   ]
  },
  {
   "cell_type": "markdown",
   "metadata": {},
   "source": [
    "### leg using the mean mask features"
   ]
  },
  {
   "cell_type": "code",
   "execution_count": 8,
   "metadata": {},
   "outputs": [
    {
     "name": "stderr",
     "output_type": "stream",
     "text": [
      "\r",
      "  0%|                                                  | 0/8000 [00:00<?, ?it/s]"
     ]
    },
    {
     "name": "stdout",
     "output_type": "stream",
     "text": [
      "Objective KNNR_Objective:\n"
     ]
    },
    {
     "name": "stderr",
     "output_type": "stream",
     "text": [
      "  7%|██▋                                     | 542/8000 [00:47<10:55, 11.37it/s]\n",
      "82it [00:00, 817.24it/s]"
     ]
    },
    {
     "name": "stdout",
     "output_type": "stream",
     "text": [
      "iterations: 542\n",
      "Number of used features: 1\n",
      "Used features: ['num-0.500000-mean_mask'] \n",
      "Score: -0.8927632314382461\n"
     ]
    },
    {
     "name": "stderr",
     "output_type": "stream",
     "text": [
      "200it [00:00, 814.24it/s]\n",
      "  0%|                                                  | 0/8000 [00:00<?, ?it/s]"
     ]
    },
    {
     "name": "stdout",
     "output_type": "stream",
     "text": [
      "1\n",
      "1 0.8982547573314013\n",
      "Objective LinearRegression_Objective:\n"
     ]
    },
    {
     "name": "stderr",
     "output_type": "stream",
     "text": [
      "  8%|███▏                                    | 643/8000 [00:14<02:43, 44.94it/s]\n",
      "99it [00:00, 984.11it/s]"
     ]
    },
    {
     "name": "stdout",
     "output_type": "stream",
     "text": [
      "iterations: 643\n",
      "Number of used features: 6\n",
      "Used features: ['num-0.500000-mean_mask', 'sum-0.500000-mean_mask', 'std-0.500000-mean_mask', 'kurt-0.500000-mean_mask', 'hist-0-0.500000-mean_mask', 'hist-19-0.500000-mean_mask'] \n",
      "Score: -0.9665368866532371\n"
     ]
    },
    {
     "name": "stderr",
     "output_type": "stream",
     "text": [
      "200it [00:00, 987.16it/s]\n",
      "  0%|                                                  | 0/8000 [00:00<?, ?it/s]"
     ]
    },
    {
     "name": "stdout",
     "output_type": "stream",
     "text": [
      "1\n",
      "1 0.9681466194065668\n",
      "Objective LassoRegression_Objective:\n"
     ]
    },
    {
     "name": "stderr",
     "output_type": "stream",
     "text": [
      "  7%|██▋                                     | 527/8000 [00:30<07:17, 17.06it/s]\n",
      "63it [00:00, 625.63it/s]"
     ]
    },
    {
     "name": "stdout",
     "output_type": "stream",
     "text": [
      "iterations: 527\n",
      "Number of used features: 7\n",
      "Used features: ['num-0.500000-mean_mask', 'hist-0-0.500000-mean_mask', 'hist-2-0.500000-mean_mask', 'hist-6-0.500000-mean_mask', 'hist-9-0.500000-mean_mask', 'hist-18-0.500000-mean_mask', 'hist-19-0.500000-mean_mask'] \n",
      "Score: -0.9657771249288798\n"
     ]
    },
    {
     "name": "stderr",
     "output_type": "stream",
     "text": [
      "200it [00:00, 624.68it/s]\n",
      "  0%|                                                  | 0/8000 [00:00<?, ?it/s]"
     ]
    },
    {
     "name": "stdout",
     "output_type": "stream",
     "text": [
      "1\n",
      "1 0.9679221983660596\n",
      "Objective RidgeRegression_Objective:\n"
     ]
    },
    {
     "name": "stderr",
     "output_type": "stream",
     "text": [
      " 12%|████▉                                   | 992/8000 [00:56<06:38, 17.61it/s]\n",
      "72it [00:00, 716.47it/s]"
     ]
    },
    {
     "name": "stdout",
     "output_type": "stream",
     "text": [
      "iterations: 992\n",
      "Number of used features: 6\n",
      "Used features: ['num-0.500000-mean_mask', 'hist-0-0.500000-mean_mask', 'hist-2-0.500000-mean_mask', 'hist-14-0.500000-mean_mask', 'hist-18-0.500000-mean_mask', 'hist-19-0.500000-mean_mask'] \n",
      "Score: -0.9690097380172137\n"
     ]
    },
    {
     "name": "stderr",
     "output_type": "stream",
     "text": [
      "200it [00:00, 713.08it/s]\n",
      "  0%|                                                  | 0/8000 [00:00<?, ?it/s]"
     ]
    },
    {
     "name": "stdout",
     "output_type": "stream",
     "text": [
      "1\n",
      "1 0.9715156099321257\n",
      "Objective PLSRegression_Objective:\n"
     ]
    },
    {
     "name": "stderr",
     "output_type": "stream",
     "text": [
      " 12%|████▋                                   | 946/8000 [00:36<04:30, 26.05it/s]\n",
      "63it [00:00, 628.84it/s]"
     ]
    },
    {
     "name": "stdout",
     "output_type": "stream",
     "text": [
      "iterations: 946\n",
      "Number of used features: 8\n",
      "Used features: ['num-0.500000-mean_mask', 'hist-0-0.500000-mean_mask', 'hist-2-0.500000-mean_mask', 'hist-3-0.500000-mean_mask', 'hist-5-0.500000-mean_mask', 'hist-6-0.500000-mean_mask', 'hist-9-0.500000-mean_mask', 'hist-19-0.500000-mean_mask'] \n",
      "Score: -0.9651899828586591\n"
     ]
    },
    {
     "name": "stderr",
     "output_type": "stream",
     "text": [
      "200it [00:00, 623.46it/s]"
     ]
    },
    {
     "name": "stdout",
     "output_type": "stream",
     "text": [
      "1\n",
      "1 0.9657409357227466\n"
     ]
    },
    {
     "name": "stderr",
     "output_type": "stream",
     "text": [
      "\n"
     ]
    }
   ],
   "source": [
    "results.append(model_selection(leg_features[[c for c in leg_features.columns if 'mean_mask' in c or c == 'type']], leg_target, dataset='leg', type='mean_mask'))"
   ]
  },
  {
   "cell_type": "markdown",
   "metadata": {},
   "source": [
    "### leg using the features of the individual masks"
   ]
  },
  {
   "cell_type": "code",
   "execution_count": 10,
   "metadata": {},
   "outputs": [
    {
     "name": "stderr",
     "output_type": "stream",
     "text": [
      "\r",
      "  0%|                                                  | 0/8000 [00:00<?, ?it/s]"
     ]
    },
    {
     "name": "stdout",
     "output_type": "stream",
     "text": [
      "Objective KNNR_Objective:\n"
     ]
    },
    {
     "name": "stderr",
     "output_type": "stream",
     "text": [
      " 14%|█████▌                                 | 1147/8000 [01:48<10:48, 10.57it/s]\n",
      "78it [00:00, 774.03it/s]"
     ]
    },
    {
     "name": "stdout",
     "output_type": "stream",
     "text": [
      "iterations: 1147\n",
      "Number of used features: 2\n",
      "Used features: ['num-p004-leg.nii.gz-0.500000', 'mean-p004-leg.nii.gz-0.500000'] \n",
      "Score: -0.8980510907322848\n"
     ]
    },
    {
     "name": "stderr",
     "output_type": "stream",
     "text": [
      "200it [00:00, 774.39it/s]\n",
      "  0%|                                                  | 0/8000 [00:00<?, ?it/s]"
     ]
    },
    {
     "name": "stdout",
     "output_type": "stream",
     "text": [
      "1\n",
      "1 0.9084051715238455\n",
      "Objective LinearRegression_Objective:\n"
     ]
    },
    {
     "name": "stderr",
     "output_type": "stream",
     "text": [
      "  7%|██▉                                     | 585/8000 [00:12<02:40, 46.09it/s]\n",
      "96it [00:00, 956.11it/s]"
     ]
    },
    {
     "name": "stdout",
     "output_type": "stream",
     "text": [
      "iterations: 585\n",
      "Number of used features: 8\n",
      "Used features: ['num-p004-leg.nii.gz-0.500000', 'std-p004-leg.nii.gz-0.500000', 'kurt-p004-leg.nii.gz-0.500000', 'hist-0-p004-leg.nii.gz-0.500000', 'hist-6-p004-leg.nii.gz-0.500000', 'hist-14-p004-leg.nii.gz-0.500000', 'hist-17-p004-leg.nii.gz-0.500000', 'hist-19-p004-leg.nii.gz-0.500000'] \n",
      "Score: -0.9711600591201184\n"
     ]
    },
    {
     "name": "stderr",
     "output_type": "stream",
     "text": [
      "200it [00:00, 948.69it/s]\n",
      "  0%|                                                  | 0/8000 [00:00<?, ?it/s]"
     ]
    },
    {
     "name": "stdout",
     "output_type": "stream",
     "text": [
      "1\n",
      "1 0.9719126277694646\n",
      "Objective LassoRegression_Objective:\n"
     ]
    },
    {
     "name": "stderr",
     "output_type": "stream",
     "text": [
      "  7%|██▉                                     | 585/8000 [00:41<08:50, 13.99it/s]\n",
      "57it [00:00, 561.93it/s]"
     ]
    },
    {
     "name": "stdout",
     "output_type": "stream",
     "text": [
      "iterations: 585\n",
      "Number of used features: 8\n",
      "Used features: ['num-p004-leg.nii.gz-0.500000', 'std-p004-leg.nii.gz-0.500000', 'kurt-p004-leg.nii.gz-0.500000', 'hist-0-p004-leg.nii.gz-0.500000', 'hist-6-p004-leg.nii.gz-0.500000', 'hist-14-p004-leg.nii.gz-0.500000', 'hist-18-p004-leg.nii.gz-0.500000', 'hist-19-p004-leg.nii.gz-0.500000'] \n",
      "Score: -0.9717190081087265\n"
     ]
    },
    {
     "name": "stderr",
     "output_type": "stream",
     "text": [
      "200it [00:00, 561.11it/s]\n",
      "  0%|                                                  | 0/8000 [00:00<?, ?it/s]"
     ]
    },
    {
     "name": "stdout",
     "output_type": "stream",
     "text": [
      "1\n",
      "1 0.9739511602129987\n",
      "Objective RidgeRegression_Objective:\n"
     ]
    },
    {
     "name": "stderr",
     "output_type": "stream",
     "text": [
      " 10%|███▉                                    | 787/8000 [00:59<09:09, 13.13it/s]\n",
      "70it [00:00, 692.90it/s]"
     ]
    },
    {
     "name": "stdout",
     "output_type": "stream",
     "text": [
      "iterations: 787\n",
      "Number of used features: 7\n",
      "Used features: ['num-p004-leg.nii.gz-0.500000', 'skew-p004-leg.nii.gz-0.500000', 'kurt-p004-leg.nii.gz-0.500000', 'hist-12-p004-leg.nii.gz-0.500000', 'hist-14-p004-leg.nii.gz-0.500000', 'hist-18-p004-leg.nii.gz-0.500000', 'hist-19-p004-leg.nii.gz-0.500000'] \n",
      "Score: -0.9731086276353353\n"
     ]
    },
    {
     "name": "stderr",
     "output_type": "stream",
     "text": [
      "200it [00:00, 691.61it/s]\n",
      "  0%|                                                  | 0/8000 [00:00<?, ?it/s]"
     ]
    },
    {
     "name": "stdout",
     "output_type": "stream",
     "text": [
      "1\n",
      "1 0.9743501574983002\n",
      "Objective PLSRegression_Objective:\n"
     ]
    },
    {
     "name": "stderr",
     "output_type": "stream",
     "text": [
      "  8%|███▏                                    | 643/8000 [00:31<05:56, 20.65it/s]\n",
      "64it [00:00, 638.83it/s]"
     ]
    },
    {
     "name": "stdout",
     "output_type": "stream",
     "text": [
      "iterations: 643\n",
      "Number of used features: 5\n",
      "Used features: ['num-p004-leg.nii.gz-0.500000', 'skew-p004-leg.nii.gz-0.500000', 'hist-12-p004-leg.nii.gz-0.500000', 'hist-14-p004-leg.nii.gz-0.500000', 'hist-19-p004-leg.nii.gz-0.500000'] \n",
      "Score: -0.9696736989067865\n"
     ]
    },
    {
     "name": "stderr",
     "output_type": "stream",
     "text": [
      "200it [00:00, 636.66it/s]\n",
      "  0%|                                                  | 0/8000 [00:00<?, ?it/s]"
     ]
    },
    {
     "name": "stdout",
     "output_type": "stream",
     "text": [
      "1\n",
      "1 0.9706690890960719\n",
      "Objective KNNR_Objective:\n"
     ]
    },
    {
     "name": "stderr",
     "output_type": "stream",
     "text": [
      " 12%|████▌                                   | 922/8000 [01:35<12:12,  9.66it/s]\n",
      "80it [00:00, 791.66it/s]"
     ]
    },
    {
     "name": "stdout",
     "output_type": "stream",
     "text": [
      "iterations: 922\n",
      "Number of used features: 11\n",
      "Used features: ['num-p029-leg.nii.gz-0.500000', 'hist-0-p029-leg.nii.gz-0.500000', 'hist-1-p029-leg.nii.gz-0.500000', 'hist-5-p029-leg.nii.gz-0.500000', 'hist-8-p029-leg.nii.gz-0.500000', 'hist-9-p029-leg.nii.gz-0.500000', 'hist-11-p029-leg.nii.gz-0.500000', 'hist-13-p029-leg.nii.gz-0.500000', 'hist-14-p029-leg.nii.gz-0.500000', 'hist-16-p029-leg.nii.gz-0.500000', 'hist-19-p029-leg.nii.gz-0.500000'] \n",
      "Score: -0.8418382146111576\n"
     ]
    },
    {
     "name": "stderr",
     "output_type": "stream",
     "text": [
      "200it [00:00, 790.68it/s]\n",
      "  0%|                                                  | 0/8000 [00:00<?, ?it/s]"
     ]
    },
    {
     "name": "stdout",
     "output_type": "stream",
     "text": [
      "1\n",
      "1 0.8625176505499557\n",
      "Objective LinearRegression_Objective:\n"
     ]
    },
    {
     "name": "stderr",
     "output_type": "stream",
     "text": [
      "  7%|██▉                                     | 585/8000 [00:12<02:40, 46.27it/s]\n",
      "101it [00:00, 999.17it/s]"
     ]
    },
    {
     "name": "stdout",
     "output_type": "stream",
     "text": [
      "iterations: 585\n",
      "Number of used features: 4\n",
      "Used features: ['num-p029-leg.nii.gz-0.500000', 'hist-7-p029-leg.nii.gz-0.500000', 'hist-9-p029-leg.nii.gz-0.500000', 'hist-19-p029-leg.nii.gz-0.500000'] \n",
      "Score: -0.957721306413992\n"
     ]
    },
    {
     "name": "stderr",
     "output_type": "stream",
     "text": [
      "200it [00:00, 996.23it/s]\n",
      "  0%|                                                  | 0/8000 [00:00<?, ?it/s]"
     ]
    },
    {
     "name": "stdout",
     "output_type": "stream",
     "text": [
      "1\n",
      "1 0.9578277129301845\n",
      "Objective LassoRegression_Objective:\n"
     ]
    },
    {
     "name": "stderr",
     "output_type": "stream",
     "text": [
      "  8%|███                                     | 617/8000 [00:41<08:20, 14.75it/s]\n",
      "64it [00:00, 635.17it/s]"
     ]
    },
    {
     "name": "stdout",
     "output_type": "stream",
     "text": [
      "iterations: 617\n",
      "Number of used features: 4\n",
      "Used features: ['num-p029-leg.nii.gz-0.500000', 'sum-p029-leg.nii.gz-0.500000', 'kurt-p029-leg.nii.gz-0.500000', 'hist-19-p029-leg.nii.gz-0.500000'] \n",
      "Score: -0.95990373642741\n"
     ]
    },
    {
     "name": "stderr",
     "output_type": "stream",
     "text": [
      "200it [00:00, 634.90it/s]\n",
      "  0%|                                                  | 0/8000 [00:00<?, ?it/s]"
     ]
    },
    {
     "name": "stdout",
     "output_type": "stream",
     "text": [
      "1\n",
      "1 0.960991691320949\n",
      "Objective RidgeRegression_Objective:\n"
     ]
    },
    {
     "name": "stderr",
     "output_type": "stream",
     "text": [
      "  8%|███                                     | 615/8000 [00:37<07:33, 16.28it/s]\n",
      "70it [00:00, 698.02it/s]"
     ]
    },
    {
     "name": "stdout",
     "output_type": "stream",
     "text": [
      "iterations: 615\n",
      "Number of used features: 7\n",
      "Used features: ['num-p029-leg.nii.gz-0.500000', 'std-p029-leg.nii.gz-0.500000', 'kurt-p029-leg.nii.gz-0.500000', 'hist-5-p029-leg.nii.gz-0.500000', 'hist-6-p029-leg.nii.gz-0.500000', 'hist-8-p029-leg.nii.gz-0.500000', 'hist-19-p029-leg.nii.gz-0.500000'] \n",
      "Score: -0.9603199112186771\n"
     ]
    },
    {
     "name": "stderr",
     "output_type": "stream",
     "text": [
      "200it [00:00, 691.26it/s]\n",
      "  0%|                                                  | 0/8000 [00:00<?, ?it/s]"
     ]
    },
    {
     "name": "stdout",
     "output_type": "stream",
     "text": [
      "1\n",
      "1 0.9622701661326738\n",
      "Objective PLSRegression_Objective:\n"
     ]
    },
    {
     "name": "stderr",
     "output_type": "stream",
     "text": [
      "  9%|███▌                                    | 710/8000 [00:35<06:09, 19.73it/s]\n",
      "70it [00:00, 695.80it/s]"
     ]
    },
    {
     "name": "stdout",
     "output_type": "stream",
     "text": [
      "iterations: 710\n",
      "Number of used features: 7\n",
      "Used features: ['num-p029-leg.nii.gz-0.500000', 'sum-p029-leg.nii.gz-0.500000', 'mean-p029-leg.nii.gz-0.500000', 'std-p029-leg.nii.gz-0.500000', 'kurt-p029-leg.nii.gz-0.500000', 'hist-10-p029-leg.nii.gz-0.500000', 'hist-19-p029-leg.nii.gz-0.500000'] \n",
      "Score: -0.9611981294429367\n"
     ]
    },
    {
     "name": "stderr",
     "output_type": "stream",
     "text": [
      "200it [00:00, 694.20it/s]\n",
      "  0%|                                                  | 0/8000 [00:00<?, ?it/s]"
     ]
    },
    {
     "name": "stdout",
     "output_type": "stream",
     "text": [
      "1\n",
      "1 0.9626572217523462\n",
      "Objective KNNR_Objective:\n"
     ]
    },
    {
     "name": "stderr",
     "output_type": "stream",
     "text": [
      "  7%|██▋                                     | 541/8000 [00:47<10:52, 11.43it/s]\n",
      "79it [00:00, 786.54it/s]"
     ]
    },
    {
     "name": "stdout",
     "output_type": "stream",
     "text": [
      "iterations: 541\n",
      "Number of used features: 1\n",
      "Used features: ['num-p032-leg.nii.gz-0.500000'] \n",
      "Score: -0.8917063079145805\n"
     ]
    },
    {
     "name": "stderr",
     "output_type": "stream",
     "text": [
      "200it [00:00, 782.71it/s]\n",
      "  0%|                                                  | 0/8000 [00:00<?, ?it/s]"
     ]
    },
    {
     "name": "stdout",
     "output_type": "stream",
     "text": [
      "1\n",
      "1 0.8990709517011714\n",
      "Objective LinearRegression_Objective:\n"
     ]
    },
    {
     "name": "stderr",
     "output_type": "stream",
     "text": [
      "  7%|██▊                                     | 552/8000 [00:10<02:19, 53.36it/s]\n",
      "95it [00:00, 942.79it/s]"
     ]
    },
    {
     "name": "stdout",
     "output_type": "stream",
     "text": [
      "iterations: 552\n",
      "Number of used features: 8\n",
      "Used features: ['num-p032-leg.nii.gz-0.500000', 'hist-2-p032-leg.nii.gz-0.500000', 'hist-4-p032-leg.nii.gz-0.500000', 'hist-5-p032-leg.nii.gz-0.500000', 'hist-6-p032-leg.nii.gz-0.500000', 'hist-15-p032-leg.nii.gz-0.500000', 'hist-18-p032-leg.nii.gz-0.500000', 'hist-19-p032-leg.nii.gz-0.500000'] \n",
      "Score: -0.9627180221454992\n"
     ]
    },
    {
     "name": "stderr",
     "output_type": "stream",
     "text": [
      "200it [00:00, 934.06it/s]\n",
      "  0%|                                                  | 0/8000 [00:00<?, ?it/s]"
     ]
    },
    {
     "name": "stdout",
     "output_type": "stream",
     "text": [
      "1\n",
      "1 0.9646665062131641\n",
      "Objective LassoRegression_Objective:\n"
     ]
    },
    {
     "name": "stderr",
     "output_type": "stream",
     "text": [
      "  7%|██▋                                     | 542/8000 [00:33<07:46, 15.99it/s]\n",
      "64it [00:00, 630.72it/s]"
     ]
    },
    {
     "name": "stdout",
     "output_type": "stream",
     "text": [
      "iterations: 542\n",
      "Number of used features: 6\n",
      "Used features: ['num-p032-leg.nii.gz-0.500000', 'hist-4-p032-leg.nii.gz-0.500000', 'hist-5-p032-leg.nii.gz-0.500000', 'hist-6-p032-leg.nii.gz-0.500000', 'hist-15-p032-leg.nii.gz-0.500000', 'hist-19-p032-leg.nii.gz-0.500000'] \n",
      "Score: -0.9624438026370206\n"
     ]
    },
    {
     "name": "stderr",
     "output_type": "stream",
     "text": [
      "200it [00:00, 633.02it/s]\n",
      "  0%|                                                  | 0/8000 [00:00<?, ?it/s]"
     ]
    },
    {
     "name": "stdout",
     "output_type": "stream",
     "text": [
      "1\n",
      "1 0.9635928189495173\n",
      "Objective RidgeRegression_Objective:\n"
     ]
    },
    {
     "name": "stderr",
     "output_type": "stream",
     "text": [
      "  7%|██▋                                     | 547/8000 [00:30<06:51, 18.09it/s]\n",
      "72it [00:00, 715.04it/s]"
     ]
    },
    {
     "name": "stdout",
     "output_type": "stream",
     "text": [
      "iterations: 547\n",
      "Number of used features: 6\n",
      "Used features: ['num-p032-leg.nii.gz-0.500000', 'hist-5-p032-leg.nii.gz-0.500000', 'hist-6-p032-leg.nii.gz-0.500000', 'hist-8-p032-leg.nii.gz-0.500000', 'hist-15-p032-leg.nii.gz-0.500000', 'hist-19-p032-leg.nii.gz-0.500000'] \n",
      "Score: -0.9633204030158046\n"
     ]
    },
    {
     "name": "stderr",
     "output_type": "stream",
     "text": [
      "200it [00:00, 706.59it/s]\n",
      "  0%|                                                  | 0/8000 [00:00<?, ?it/s]"
     ]
    },
    {
     "name": "stdout",
     "output_type": "stream",
     "text": [
      "1\n",
      "1 0.9651322391042655\n",
      "Objective PLSRegression_Objective:\n"
     ]
    },
    {
     "name": "stderr",
     "output_type": "stream",
     "text": [
      "  7%|██▉                                     | 582/8000 [00:23<05:04, 24.37it/s]\n",
      "67it [00:00, 661.76it/s]"
     ]
    },
    {
     "name": "stdout",
     "output_type": "stream",
     "text": [
      "iterations: 582\n",
      "Number of used features: 5\n",
      "Used features: ['num-p032-leg.nii.gz-0.500000', 'hist-11-p032-leg.nii.gz-0.500000', 'hist-13-p032-leg.nii.gz-0.500000', 'hist-14-p032-leg.nii.gz-0.500000', 'hist-19-p032-leg.nii.gz-0.500000'] \n",
      "Score: -0.9634679319973303\n"
     ]
    },
    {
     "name": "stderr",
     "output_type": "stream",
     "text": [
      "200it [00:00, 670.87it/s]\n",
      "  0%|                                                  | 0/8000 [00:00<?, ?it/s]"
     ]
    },
    {
     "name": "stdout",
     "output_type": "stream",
     "text": [
      "1\n",
      "1 0.9643385732651503\n",
      "Objective KNNR_Objective:\n"
     ]
    },
    {
     "name": "stderr",
     "output_type": "stream",
     "text": [
      "  9%|███▌                                    | 714/8000 [01:08<11:38, 10.44it/s]\n",
      "77it [00:00, 767.59it/s]"
     ]
    },
    {
     "name": "stdout",
     "output_type": "stream",
     "text": [
      "iterations: 714\n",
      "Number of used features: 3\n",
      "Used features: ['num-p041-leg.nii.gz-0.500000', 'hist-11-p041-leg.nii.gz-0.500000', 'hist-13-p041-leg.nii.gz-0.500000'] \n",
      "Score: -0.8745626203635704\n"
     ]
    },
    {
     "name": "stderr",
     "output_type": "stream",
     "text": [
      "200it [00:00, 772.77it/s]\n",
      "  0%|                                                  | 0/8000 [00:00<?, ?it/s]"
     ]
    },
    {
     "name": "stdout",
     "output_type": "stream",
     "text": [
      "1\n",
      "1 0.8791313483626989\n",
      "Objective LinearRegression_Objective:\n"
     ]
    },
    {
     "name": "stderr",
     "output_type": "stream",
     "text": [
      "  9%|███▌                                    | 703/8000 [00:20<03:27, 35.14it/s]\n",
      "94it [00:00, 932.12it/s]"
     ]
    },
    {
     "name": "stdout",
     "output_type": "stream",
     "text": [
      "iterations: 703\n",
      "Number of used features: 8\n",
      "Used features: ['num-p041-leg.nii.gz-0.500000', 'sum-p041-leg.nii.gz-0.500000', 'hist-0-p041-leg.nii.gz-0.500000', 'hist-2-p041-leg.nii.gz-0.500000', 'hist-8-p041-leg.nii.gz-0.500000', 'hist-16-p041-leg.nii.gz-0.500000', 'hist-18-p041-leg.nii.gz-0.500000', 'hist-19-p041-leg.nii.gz-0.500000'] \n",
      "Score: -0.9643684379249304\n"
     ]
    },
    {
     "name": "stderr",
     "output_type": "stream",
     "text": [
      "200it [00:00, 919.49it/s]\n",
      "  0%|                                                  | 0/8000 [00:00<?, ?it/s]"
     ]
    },
    {
     "name": "stdout",
     "output_type": "stream",
     "text": [
      "1\n",
      "1 0.9663617839438996\n",
      "Objective LassoRegression_Objective:\n"
     ]
    },
    {
     "name": "stderr",
     "output_type": "stream",
     "text": [
      "  9%|███▍                                    | 691/8000 [00:40<07:05, 17.16it/s]\n",
      "61it [00:00, 606.54it/s]"
     ]
    },
    {
     "name": "stdout",
     "output_type": "stream",
     "text": [
      "iterations: 691\n",
      "Number of used features: 6\n",
      "Used features: ['num-p041-leg.nii.gz-0.500000', 'hist-0-p041-leg.nii.gz-0.500000', 'hist-4-p041-leg.nii.gz-0.500000', 'hist-5-p041-leg.nii.gz-0.500000', 'hist-6-p041-leg.nii.gz-0.500000', 'hist-15-p041-leg.nii.gz-0.500000'] \n",
      "Score: -0.9560960687372914\n"
     ]
    },
    {
     "name": "stderr",
     "output_type": "stream",
     "text": [
      "200it [00:00, 601.47it/s]\n",
      "  0%|                                                  | 0/8000 [00:00<?, ?it/s]"
     ]
    },
    {
     "name": "stdout",
     "output_type": "stream",
     "text": [
      "1\n",
      "1 0.9576218195600098\n",
      "Objective RidgeRegression_Objective:\n"
     ]
    },
    {
     "name": "stderr",
     "output_type": "stream",
     "text": [
      " 10%|███▉                                    | 781/8000 [00:54<08:20, 14.43it/s]\n",
      "70it [00:00, 695.09it/s]"
     ]
    },
    {
     "name": "stdout",
     "output_type": "stream",
     "text": [
      "iterations: 781\n",
      "Number of used features: 10\n",
      "Used features: ['num-p041-leg.nii.gz-0.500000', 'hist-1-p041-leg.nii.gz-0.500000', 'hist-2-p041-leg.nii.gz-0.500000', 'hist-8-p041-leg.nii.gz-0.500000', 'hist-11-p041-leg.nii.gz-0.500000', 'hist-14-p041-leg.nii.gz-0.500000', 'hist-16-p041-leg.nii.gz-0.500000', 'hist-17-p041-leg.nii.gz-0.500000', 'hist-18-p041-leg.nii.gz-0.500000', 'hist-19-p041-leg.nii.gz-0.500000'] \n",
      "Score: -0.9697938116472236\n"
     ]
    },
    {
     "name": "stderr",
     "output_type": "stream",
     "text": [
      "200it [00:00, 693.78it/s]\n",
      "  0%|                                                  | 0/8000 [00:00<?, ?it/s]"
     ]
    },
    {
     "name": "stdout",
     "output_type": "stream",
     "text": [
      "1\n",
      "1 0.9724098767139804\n",
      "Objective PLSRegression_Objective:\n"
     ]
    },
    {
     "name": "stderr",
     "output_type": "stream",
     "text": [
      "  8%|███▎                                    | 673/8000 [00:36<06:41, 18.24it/s]\n",
      "62it [00:00, 614.45it/s]"
     ]
    },
    {
     "name": "stdout",
     "output_type": "stream",
     "text": [
      "iterations: 673\n",
      "Number of used features: 10\n",
      "Used features: ['num-p041-leg.nii.gz-0.500000', 'sum-p041-leg.nii.gz-0.500000', 'mean-p041-leg.nii.gz-0.500000', 'hist-11-p041-leg.nii.gz-0.500000', 'hist-12-p041-leg.nii.gz-0.500000', 'hist-13-p041-leg.nii.gz-0.500000', 'hist-14-p041-leg.nii.gz-0.500000', 'hist-15-p041-leg.nii.gz-0.500000', 'hist-18-p041-leg.nii.gz-0.500000', 'hist-19-p041-leg.nii.gz-0.500000'] \n",
      "Score: -0.9683159392294175\n"
     ]
    },
    {
     "name": "stderr",
     "output_type": "stream",
     "text": [
      "200it [00:00, 626.10it/s]\n",
      "  0%|                                                  | 0/8000 [00:00<?, ?it/s]"
     ]
    },
    {
     "name": "stdout",
     "output_type": "stream",
     "text": [
      "1\n",
      "1 0.9689715108768258\n",
      "Objective KNNR_Objective:\n"
     ]
    },
    {
     "name": "stderr",
     "output_type": "stream",
     "text": [
      "  7%|██▊                                     | 572/8000 [00:51<11:10, 11.09it/s]\n",
      "77it [00:00, 765.83it/s]"
     ]
    },
    {
     "name": "stdout",
     "output_type": "stream",
     "text": [
      "iterations: 572\n",
      "Number of used features: 2\n",
      "Used features: ['num-p048-leg.nii.gz-0.500000', 'hist-15-p048-leg.nii.gz-0.500000'] \n",
      "Score: -0.8934431502429815\n"
     ]
    },
    {
     "name": "stderr",
     "output_type": "stream",
     "text": [
      "200it [00:00, 766.66it/s]\n",
      "  0%|                                          | 1/8000 [00:00<13:23,  9.96it/s]"
     ]
    },
    {
     "name": "stdout",
     "output_type": "stream",
     "text": [
      "1\n",
      "1 0.9084448986801861\n",
      "Objective LinearRegression_Objective:\n"
     ]
    },
    {
     "name": "stderr",
     "output_type": "stream",
     "text": [
      "  7%|██▉                                     | 595/8000 [00:13<02:49, 43.68it/s]\n",
      "100it [00:00, 990.35it/s]"
     ]
    },
    {
     "name": "stdout",
     "output_type": "stream",
     "text": [
      "iterations: 595\n",
      "Number of used features: 5\n",
      "Used features: ['num-p048-leg.nii.gz-0.500000', 'hist-11-p048-leg.nii.gz-0.500000', 'hist-14-p048-leg.nii.gz-0.500000', 'hist-18-p048-leg.nii.gz-0.500000', 'hist-19-p048-leg.nii.gz-0.500000'] \n",
      "Score: -0.9679040469854454\n"
     ]
    },
    {
     "name": "stderr",
     "output_type": "stream",
     "text": [
      "200it [00:00, 985.46it/s]\n",
      "  0%|                                                  | 0/8000 [00:00<?, ?it/s]"
     ]
    },
    {
     "name": "stdout",
     "output_type": "stream",
     "text": [
      "1\n",
      "1 0.9685885234850112\n",
      "Objective LassoRegression_Objective:\n"
     ]
    },
    {
     "name": "stderr",
     "output_type": "stream",
     "text": [
      "  7%|██▋                                     | 528/8000 [00:31<07:28, 16.66it/s]\n",
      "64it [00:00, 637.76it/s]"
     ]
    },
    {
     "name": "stdout",
     "output_type": "stream",
     "text": [
      "iterations: 528\n",
      "Number of used features: 5\n",
      "Used features: ['num-p048-leg.nii.gz-0.500000', 'sum-p048-leg.nii.gz-0.500000', 'hist-9-p048-leg.nii.gz-0.500000', 'hist-18-p048-leg.nii.gz-0.500000', 'hist-19-p048-leg.nii.gz-0.500000'] \n",
      "Score: -0.9618309975545858\n"
     ]
    },
    {
     "name": "stderr",
     "output_type": "stream",
     "text": [
      "200it [00:00, 630.44it/s]\n",
      "  0%|                                                  | 0/8000 [00:00<?, ?it/s]"
     ]
    },
    {
     "name": "stdout",
     "output_type": "stream",
     "text": [
      "1\n",
      "1 0.9636012801922532\n",
      "Objective RidgeRegression_Objective:\n"
     ]
    },
    {
     "name": "stderr",
     "output_type": "stream",
     "text": [
      "  7%|██▋                                     | 528/8000 [00:28<06:41, 18.62it/s]\n",
      "72it [00:00, 711.69it/s]"
     ]
    },
    {
     "name": "stdout",
     "output_type": "stream",
     "text": [
      "iterations: 528\n",
      "Number of used features: 5\n",
      "Used features: ['num-p048-leg.nii.gz-0.500000', 'sum-p048-leg.nii.gz-0.500000', 'hist-9-p048-leg.nii.gz-0.500000', 'hist-18-p048-leg.nii.gz-0.500000', 'hist-19-p048-leg.nii.gz-0.500000'] \n",
      "Score: -0.9618420569998118\n"
     ]
    },
    {
     "name": "stderr",
     "output_type": "stream",
     "text": [
      "200it [00:00, 701.30it/s]\n",
      "  0%|                                                  | 0/8000 [00:00<?, ?it/s]"
     ]
    },
    {
     "name": "stdout",
     "output_type": "stream",
     "text": [
      "1\n",
      "1 0.9636086527655654\n",
      "Objective PLSRegression_Objective:\n"
     ]
    },
    {
     "name": "stderr",
     "output_type": "stream",
     "text": [
      " 13%|█████▏                                 | 1060/8000 [00:51<05:34, 20.74it/s]\n",
      "66it [00:00, 655.51it/s]"
     ]
    },
    {
     "name": "stdout",
     "output_type": "stream",
     "text": [
      "iterations: 1060\n",
      "Number of used features: 5\n",
      "Used features: ['num-p048-leg.nii.gz-0.500000', 'hist-9-p048-leg.nii.gz-0.500000', 'hist-15-p048-leg.nii.gz-0.500000', 'hist-18-p048-leg.nii.gz-0.500000', 'hist-19-p048-leg.nii.gz-0.500000'] \n",
      "Score: -0.9613693042986711\n"
     ]
    },
    {
     "name": "stderr",
     "output_type": "stream",
     "text": [
      "200it [00:00, 652.49it/s]"
     ]
    },
    {
     "name": "stdout",
     "output_type": "stream",
     "text": [
      "1\n",
      "1 0.9625740776633679\n"
     ]
    },
    {
     "name": "stderr",
     "output_type": "stream",
     "text": [
      "\n"
     ]
    }
   ],
   "source": [
    "for m in masks:\n",
    "    results.append(model_selection(leg_features[[c for c in leg_features.columns if m in c or c == 'type']], leg_target, dataset='leg', type=m))"
   ]
  },
  {
   "cell_type": "markdown",
   "metadata": {},
   "source": [
    "### loin using all features"
   ]
  },
  {
   "cell_type": "code",
   "execution_count": 11,
   "metadata": {},
   "outputs": [
    {
     "name": "stderr",
     "output_type": "stream",
     "text": [
      "\r",
      "  0%|                                                  | 0/8000 [00:00<?, ?it/s]"
     ]
    },
    {
     "name": "stdout",
     "output_type": "stream",
     "text": [
      "Objective KNNR_Objective:\n"
     ]
    },
    {
     "name": "stderr",
     "output_type": "stream",
     "text": [
      " 33%|████████████▊                          | 2623/8000 [05:36<11:29,  7.80it/s]\n",
      "74it [00:00, 733.87it/s]"
     ]
    },
    {
     "name": "stdout",
     "output_type": "stream",
     "text": [
      "iterations: 2623\n",
      "Number of used features: 35\n",
      "Used features: ['Unnamed: 0', 'num-p004-loin.nii.gz-0.500000', 'hist-0-p004-loin.nii.gz-0.500000', 'hist-1-p004-loin.nii.gz-0.500000', 'hist-3-p004-loin.nii.gz-0.500000', 'num-p029-loin.nii.gz-0.500000', 'std-p029-loin.nii.gz-0.500000', 'hist-2-p029-loin.nii.gz-0.500000', 'hist-3-p029-loin.nii.gz-0.500000', 'hist-14-p029-loin.nii.gz-0.500000', 'hist-17-p029-loin.nii.gz-0.500000', 'hist-19-p029-loin.nii.gz-0.500000', 'num-p032-loin.nii.gz-0.500000', 'sum-p032-loin.nii.gz-0.500000', 'std-p032-loin.nii.gz-0.500000', 'hist-2-p032-loin.nii.gz-0.500000', 'hist-4-p032-loin.nii.gz-0.500000', 'hist-16-p032-loin.nii.gz-0.500000', 'num-p041-loin.nii.gz-0.500000', 'hist-0-p041-loin.nii.gz-0.500000', 'hist-4-p041-loin.nii.gz-0.500000', 'hist-5-p041-loin.nii.gz-0.500000', 'hist-12-p041-loin.nii.gz-0.500000', 'hist-18-p041-loin.nii.gz-0.500000', 'num-p048-loin.nii.gz-0.500000', 'mean-p048-loin.nii.gz-0.500000', 'hist-0-p048-loin.nii.gz-0.500000', 'hist-5-p048-loin.nii.gz-0.500000', 'hist-10-p048-loin.nii.gz-0.500000', 'num-0.500000-mean_mask', 'hist-7-0.500000-mean_mask', 'hist-12-0.500000-mean_mask', 'hist-14-0.500000-mean_mask', 'hist-18-0.500000-mean_mask', 'hist-19-0.500000-mean_mask'] \n",
      "Score: -0.879209147437971\n"
     ]
    },
    {
     "name": "stderr",
     "output_type": "stream",
     "text": [
      "200it [00:00, 737.92it/s]\n",
      "  0%|                                                  | 0/8000 [00:00<?, ?it/s]"
     ]
    },
    {
     "name": "stdout",
     "output_type": "stream",
     "text": [
      "1\n",
      "1 0.8999136176193249\n",
      "Objective LinearRegression_Objective:\n"
     ]
    },
    {
     "name": "stderr",
     "output_type": "stream",
     "text": [
      " 13%|█████▏                                 | 1071/8000 [01:11<07:43, 14.95it/s]\n",
      "96it [00:00, 959.94it/s]"
     ]
    },
    {
     "name": "stdout",
     "output_type": "stream",
     "text": [
      "iterations: 1071\n",
      "Number of used features: 7\n",
      "Used features: ['hist-18-p004-loin.nii.gz-0.500000', 'num-p029-loin.nii.gz-0.500000', 'mean-p029-loin.nii.gz-0.500000', 'sum-p048-loin.nii.gz-0.500000', 'kurt-p048-loin.nii.gz-0.500000', 'hist-5-p048-loin.nii.gz-0.500000', 'hist-19-0.500000-mean_mask'] \n",
      "Score: -0.9398973634324499\n"
     ]
    },
    {
     "name": "stderr",
     "output_type": "stream",
     "text": [
      "200it [00:00, 959.92it/s]\n",
      "  0%|                                                  | 0/8000 [00:00<?, ?it/s]"
     ]
    },
    {
     "name": "stdout",
     "output_type": "stream",
     "text": [
      "1\n",
      "1 0.9402213562843291\n",
      "Objective LassoRegression_Objective:\n"
     ]
    },
    {
     "name": "stderr",
     "output_type": "stream",
     "text": [
      " 17%|██████▍                                | 1322/8000 [03:29<17:38,  6.31it/s]\n",
      "56it [00:00, 555.87it/s]"
     ]
    },
    {
     "name": "stdout",
     "output_type": "stream",
     "text": [
      "iterations: 1322\n",
      "Number of used features: 13\n",
      "Used features: ['hist-17-p004-loin.nii.gz-0.500000', 'num-p029-loin.nii.gz-0.500000', 'hist-2-p029-loin.nii.gz-0.500000', 'hist-6-p032-loin.nii.gz-0.500000', 'hist-13-p032-loin.nii.gz-0.500000', 'mean-p041-loin.nii.gz-0.500000', 'std-p041-loin.nii.gz-0.500000', 'hist-17-p041-loin.nii.gz-0.500000', 'sum-p048-loin.nii.gz-0.500000', 'hist-10-p048-loin.nii.gz-0.500000', 'hist-11-p048-loin.nii.gz-0.500000', 'hist-14-p048-loin.nii.gz-0.500000', 'hist-19-0.500000-mean_mask'] \n",
      "Score: -0.9585526026350988\n"
     ]
    },
    {
     "name": "stderr",
     "output_type": "stream",
     "text": [
      "200it [00:00, 558.08it/s]\n",
      "  0%|                                                  | 0/8000 [00:00<?, ?it/s]"
     ]
    },
    {
     "name": "stdout",
     "output_type": "stream",
     "text": [
      "1\n",
      "1 0.9591421225484025\n",
      "Objective RidgeRegression_Objective:\n"
     ]
    },
    {
     "name": "stderr",
     "output_type": "stream",
     "text": [
      " 26%|█████████▉                             | 2051/8000 [04:21<12:37,  7.86it/s]\n",
      "71it [00:00, 706.45it/s]"
     ]
    },
    {
     "name": "stdout",
     "output_type": "stream",
     "text": [
      "iterations: 2051\n",
      "Number of used features: 15\n",
      "Used features: ['hist-17-p004-loin.nii.gz-0.500000', 'num-p029-loin.nii.gz-0.500000', 'hist-2-p029-loin.nii.gz-0.500000', 'hist-13-p032-loin.nii.gz-0.500000', 'hist-14-p032-loin.nii.gz-0.500000', 'sum-p041-loin.nii.gz-0.500000', 'kurt-p041-loin.nii.gz-0.500000', 'hist-4-p041-loin.nii.gz-0.500000', 'hist-14-p041-loin.nii.gz-0.500000', 'hist-17-p041-loin.nii.gz-0.500000', 'kurt-p048-loin.nii.gz-0.500000', 'hist-6-p048-loin.nii.gz-0.500000', 'hist-11-p048-loin.nii.gz-0.500000', 'hist-13-p048-loin.nii.gz-0.500000', 'hist-19-0.500000-mean_mask'] \n",
      "Score: -0.9639085738913322\n"
     ]
    },
    {
     "name": "stderr",
     "output_type": "stream",
     "text": [
      "200it [00:00, 701.18it/s]\n",
      "  0%|                                                  | 0/8000 [00:00<?, ?it/s]"
     ]
    },
    {
     "name": "stdout",
     "output_type": "stream",
     "text": [
      "1\n",
      "1 0.9668355485249978\n",
      "Objective PLSRegression_Objective:\n"
     ]
    },
    {
     "name": "stderr",
     "output_type": "stream",
     "text": [
      " 22%|████████▋                              | 1770/8000 [04:33<16:01,  6.48it/s]\n",
      "46it [00:00, 459.91it/s]"
     ]
    },
    {
     "name": "stdout",
     "output_type": "stream",
     "text": [
      "iterations: 1770\n",
      "Number of used features: 14\n",
      "Used features: ['hist-0-p004-loin.nii.gz-0.500000', 'hist-6-p004-loin.nii.gz-0.500000', 'hist-8-p004-loin.nii.gz-0.500000', 'num-p029-loin.nii.gz-0.500000', 'hist-8-p029-loin.nii.gz-0.500000', 'hist-13-p029-loin.nii.gz-0.500000', 'hist-10-p032-loin.nii.gz-0.500000', 'hist-12-p032-loin.nii.gz-0.500000', 'hist-14-p032-loin.nii.gz-0.500000', 'hist-10-p041-loin.nii.gz-0.500000', 'hist-14-p041-loin.nii.gz-0.500000', 'hist-11-p048-loin.nii.gz-0.500000', 'hist-12-p048-loin.nii.gz-0.500000', 'hist-19-0.500000-mean_mask'] \n",
      "Score: -0.9540621625444551\n"
     ]
    },
    {
     "name": "stderr",
     "output_type": "stream",
     "text": [
      "200it [00:00, 457.09it/s]"
     ]
    },
    {
     "name": "stdout",
     "output_type": "stream",
     "text": [
      "1\n",
      "1 0.9616842973721387\n"
     ]
    },
    {
     "name": "stderr",
     "output_type": "stream",
     "text": [
      "\n"
     ]
    }
   ],
   "source": [
    "results.append(model_selection(loin_features, loin_target, dataset='loin', type='all'))"
   ]
  },
  {
   "cell_type": "markdown",
   "metadata": {},
   "source": [
    "### loin using the mean mask features"
   ]
  },
  {
   "cell_type": "code",
   "execution_count": 12,
   "metadata": {},
   "outputs": [
    {
     "name": "stderr",
     "output_type": "stream",
     "text": [
      "\r",
      "  0%|                                                  | 0/8000 [00:00<?, ?it/s]"
     ]
    },
    {
     "name": "stdout",
     "output_type": "stream",
     "text": [
      "Objective KNNR_Objective:\n"
     ]
    },
    {
     "name": "stderr",
     "output_type": "stream",
     "text": [
      "  7%|██▋                                     | 527/8000 [00:46<10:58, 11.34it/s]\n",
      "80it [00:00, 796.09it/s]"
     ]
    },
    {
     "name": "stdout",
     "output_type": "stream",
     "text": [
      "iterations: 527\n",
      "Number of used features: 2\n",
      "Used features: ['num-0.500000-mean_mask', 'hist-19-0.500000-mean_mask'] \n",
      "Score: -0.8543841302973586\n"
     ]
    },
    {
     "name": "stderr",
     "output_type": "stream",
     "text": [
      "200it [00:00, 795.09it/s]\n",
      "  0%|                                                  | 0/8000 [00:00<?, ?it/s]"
     ]
    },
    {
     "name": "stdout",
     "output_type": "stream",
     "text": [
      "1\n",
      "1 0.858601986839225\n",
      "Objective LinearRegression_Objective:\n"
     ]
    },
    {
     "name": "stderr",
     "output_type": "stream",
     "text": [
      "  8%|███▎                                    | 653/8000 [00:14<02:40, 45.64it/s]\n",
      "96it [00:00, 952.06it/s]"
     ]
    },
    {
     "name": "stdout",
     "output_type": "stream",
     "text": [
      "iterations: 653\n",
      "Number of used features: 5\n",
      "Used features: ['num-0.500000-mean_mask', 'hist-4-0.500000-mean_mask', 'hist-7-0.500000-mean_mask', 'hist-12-0.500000-mean_mask', 'hist-19-0.500000-mean_mask'] \n",
      "Score: -0.9326569361201612\n"
     ]
    },
    {
     "name": "stderr",
     "output_type": "stream",
     "text": [
      "200it [00:00, 948.42it/s]\n",
      "  0%|                                                  | 0/8000 [00:00<?, ?it/s]"
     ]
    },
    {
     "name": "stdout",
     "output_type": "stream",
     "text": [
      "1\n",
      "1 0.9344350492151982\n",
      "Objective LassoRegression_Objective:\n"
     ]
    },
    {
     "name": "stderr",
     "output_type": "stream",
     "text": [
      "  7%|██▊                                     | 566/8000 [00:36<07:55, 15.63it/s]\n",
      "64it [00:00, 631.95it/s]"
     ]
    },
    {
     "name": "stdout",
     "output_type": "stream",
     "text": [
      "iterations: 566\n",
      "Number of used features: 5\n",
      "Used features: ['num-0.500000-mean_mask', 'hist-4-0.500000-mean_mask', 'hist-7-0.500000-mean_mask', 'hist-12-0.500000-mean_mask', 'hist-19-0.500000-mean_mask'] \n",
      "Score: -0.9326516365531548\n"
     ]
    },
    {
     "name": "stderr",
     "output_type": "stream",
     "text": [
      "200it [00:00, 637.25it/s]\n",
      "  0%|                                                  | 0/8000 [00:00<?, ?it/s]"
     ]
    },
    {
     "name": "stdout",
     "output_type": "stream",
     "text": [
      "1\n",
      "1 0.934427066369934\n",
      "Objective RidgeRegression_Objective:\n"
     ]
    },
    {
     "name": "stderr",
     "output_type": "stream",
     "text": [
      "  7%|██▊                                     | 566/8000 [00:32<07:06, 17.44it/s]\n",
      "72it [00:00, 713.95it/s]"
     ]
    },
    {
     "name": "stdout",
     "output_type": "stream",
     "text": [
      "iterations: 566\n",
      "Number of used features: 5\n",
      "Used features: ['num-0.500000-mean_mask', 'hist-4-0.500000-mean_mask', 'hist-7-0.500000-mean_mask', 'hist-12-0.500000-mean_mask', 'hist-19-0.500000-mean_mask'] \n",
      "Score: -0.9325525265700483\n"
     ]
    },
    {
     "name": "stderr",
     "output_type": "stream",
     "text": [
      "200it [00:00, 708.92it/s]\n",
      "  0%|                                                  | 0/8000 [00:00<?, ?it/s]"
     ]
    },
    {
     "name": "stdout",
     "output_type": "stream",
     "text": [
      "1\n",
      "1 0.9344352716032137\n",
      "Objective PLSRegression_Objective:\n"
     ]
    },
    {
     "name": "stderr",
     "output_type": "stream",
     "text": [
      "  8%|███▍                                    | 679/8000 [00:31<05:44, 21.23it/s]\n",
      "69it [00:00, 686.56it/s]"
     ]
    },
    {
     "name": "stdout",
     "output_type": "stream",
     "text": [
      "iterations: 679\n",
      "Number of used features: 5\n",
      "Used features: ['num-0.500000-mean_mask', 'hist-5-0.500000-mean_mask', 'hist-6-0.500000-mean_mask', 'hist-12-0.500000-mean_mask', 'hist-19-0.500000-mean_mask'] \n",
      "Score: -0.930582813536284\n"
     ]
    },
    {
     "name": "stderr",
     "output_type": "stream",
     "text": [
      "200it [00:00, 690.10it/s]"
     ]
    },
    {
     "name": "stdout",
     "output_type": "stream",
     "text": [
      "1\n",
      "1 0.9323229324118252\n"
     ]
    },
    {
     "name": "stderr",
     "output_type": "stream",
     "text": [
      "\n"
     ]
    }
   ],
   "source": [
    "results.append(model_selection(loin_features[[c for c in loin_features.columns if 'mean_mask' in c or c == 'type']], loin_target, dataset='loin', type='mean_mask'))"
   ]
  },
  {
   "cell_type": "markdown",
   "metadata": {},
   "source": [
    "### loin using the features of the individual masks"
   ]
  },
  {
   "cell_type": "code",
   "execution_count": 13,
   "metadata": {},
   "outputs": [
    {
     "name": "stderr",
     "output_type": "stream",
     "text": [
      "\r",
      "  0%|                                                  | 0/8000 [00:00<?, ?it/s]"
     ]
    },
    {
     "name": "stdout",
     "output_type": "stream",
     "text": [
      "Objective KNNR_Objective:\n"
     ]
    },
    {
     "name": "stderr",
     "output_type": "stream",
     "text": [
      "  7%|██▉                                     | 588/8000 [00:53<11:08, 11.08it/s]\n",
      "81it [00:00, 801.14it/s]"
     ]
    },
    {
     "name": "stdout",
     "output_type": "stream",
     "text": [
      "iterations: 588\n",
      "Number of used features: 2\n",
      "Used features: ['num-p004-loin.nii.gz-0.500000', 'hist-19-p004-loin.nii.gz-0.500000'] \n",
      "Score: -0.8279084475373826\n"
     ]
    },
    {
     "name": "stderr",
     "output_type": "stream",
     "text": [
      "200it [00:00, 799.86it/s]\n",
      "  0%|                                                  | 0/8000 [00:00<?, ?it/s]"
     ]
    },
    {
     "name": "stdout",
     "output_type": "stream",
     "text": [
      "1\n",
      "1 0.8345024475655416\n",
      "Objective LinearRegression_Objective:\n"
     ]
    },
    {
     "name": "stderr",
     "output_type": "stream",
     "text": [
      "  7%|██▋                                     | 527/8000 [00:07<01:46, 69.87it/s]\n",
      "200it [00:00, 1008.86it/s]"
     ]
    },
    {
     "name": "stdout",
     "output_type": "stream",
     "text": [
      "iterations: 527\n",
      "Number of used features: 3\n",
      "Used features: ['num-p004-loin.nii.gz-0.500000', 'hist-12-p004-loin.nii.gz-0.500000', 'hist-19-p004-loin.nii.gz-0.500000'] \n",
      "Score: -0.9253500451021365\n",
      "1\n",
      "1 0.9260823547070457\n",
      "Objective LassoRegression_Objective:\n"
     ]
    },
    {
     "name": "stderr",
     "output_type": "stream",
     "text": [
      "\n",
      "  7%|██▋                                     | 527/8000 [00:30<07:11, 17.33it/s]\n",
      "65it [00:00, 642.66it/s]"
     ]
    },
    {
     "name": "stdout",
     "output_type": "stream",
     "text": [
      "iterations: 527\n",
      "Number of used features: 3\n",
      "Used features: ['num-p004-loin.nii.gz-0.500000', 'hist-12-p004-loin.nii.gz-0.500000', 'hist-19-p004-loin.nii.gz-0.500000'] \n",
      "Score: -0.925297394094406\n"
     ]
    },
    {
     "name": "stderr",
     "output_type": "stream",
     "text": [
      "200it [00:00, 635.97it/s]\n",
      "  0%|                                                  | 0/8000 [00:00<?, ?it/s]"
     ]
    },
    {
     "name": "stdout",
     "output_type": "stream",
     "text": [
      "1\n",
      "1 0.9260401175315962\n",
      "Objective RidgeRegression_Objective:\n"
     ]
    },
    {
     "name": "stderr",
     "output_type": "stream",
     "text": [
      " 10%|████                                    | 814/8000 [00:47<06:55, 17.28it/s]\n",
      "70it [00:00, 695.32it/s]"
     ]
    },
    {
     "name": "stdout",
     "output_type": "stream",
     "text": [
      "iterations: 814\n",
      "Number of used features: 5\n",
      "Used features: ['num-p004-loin.nii.gz-0.500000', 'hist-3-p004-loin.nii.gz-0.500000', 'hist-4-p004-loin.nii.gz-0.500000', 'hist-12-p004-loin.nii.gz-0.500000', 'hist-19-p004-loin.nii.gz-0.500000'] \n",
      "Score: -0.9275311730868936\n"
     ]
    },
    {
     "name": "stderr",
     "output_type": "stream",
     "text": [
      "200it [00:00, 696.57it/s]\n",
      "  0%|                                                  | 0/8000 [00:00<?, ?it/s]"
     ]
    },
    {
     "name": "stdout",
     "output_type": "stream",
     "text": [
      "1\n",
      "1 0.9300604565619208\n",
      "Objective PLSRegression_Objective:\n"
     ]
    },
    {
     "name": "stderr",
     "output_type": "stream",
     "text": [
      "  7%|██▋                                     | 545/8000 [00:19<04:28, 27.77it/s]\n",
      "74it [00:00, 732.82it/s]"
     ]
    },
    {
     "name": "stdout",
     "output_type": "stream",
     "text": [
      "iterations: 545\n",
      "Number of used features: 3\n",
      "Used features: ['num-p004-loin.nii.gz-0.500000', 'hist-12-p004-loin.nii.gz-0.500000', 'hist-19-p004-loin.nii.gz-0.500000'] \n",
      "Score: -0.9253500451021364\n"
     ]
    },
    {
     "name": "stderr",
     "output_type": "stream",
     "text": [
      "200it [00:00, 731.06it/s]\n",
      "  0%|                                                  | 0/8000 [00:00<?, ?it/s]"
     ]
    },
    {
     "name": "stdout",
     "output_type": "stream",
     "text": [
      "1\n",
      "1 0.9260823547070457\n",
      "Objective KNNR_Objective:\n"
     ]
    },
    {
     "name": "stderr",
     "output_type": "stream",
     "text": [
      "  8%|███▎                                    | 663/8000 [01:02<11:30, 10.63it/s]\n",
      "78it [00:00, 778.72it/s]"
     ]
    },
    {
     "name": "stdout",
     "output_type": "stream",
     "text": [
      "iterations: 663\n",
      "Number of used features: 3\n",
      "Used features: ['num-p029-loin.nii.gz-0.500000', 'hist-4-p029-loin.nii.gz-0.500000', 'hist-8-p029-loin.nii.gz-0.500000'] \n",
      "Score: -0.843726077908298\n"
     ]
    },
    {
     "name": "stderr",
     "output_type": "stream",
     "text": [
      "200it [00:00, 770.76it/s]\n",
      "  0%|                                                  | 0/8000 [00:00<?, ?it/s]"
     ]
    },
    {
     "name": "stdout",
     "output_type": "stream",
     "text": [
      "1\n",
      "1 0.8461597863492436\n",
      "Objective LinearRegression_Objective:\n"
     ]
    },
    {
     "name": "stderr",
     "output_type": "stream",
     "text": [
      "  7%|██▊                                     | 566/8000 [00:10<02:15, 54.91it/s]\n",
      "95it [00:00, 946.17it/s]"
     ]
    },
    {
     "name": "stdout",
     "output_type": "stream",
     "text": [
      "iterations: 566\n",
      "Number of used features: 6\n",
      "Used features: ['num-p029-loin.nii.gz-0.500000', 'std-p029-loin.nii.gz-0.500000', 'hist-4-p029-loin.nii.gz-0.500000', 'hist-7-p029-loin.nii.gz-0.500000', 'hist-12-p029-loin.nii.gz-0.500000', 'hist-19-p029-loin.nii.gz-0.500000'] \n",
      "Score: -0.9375944867505407\n"
     ]
    },
    {
     "name": "stderr",
     "output_type": "stream",
     "text": [
      "200it [00:00, 944.44it/s]\n",
      "  0%|                                                  | 0/8000 [00:00<?, ?it/s]"
     ]
    },
    {
     "name": "stdout",
     "output_type": "stream",
     "text": [
      "1\n",
      "1 0.9391918892957257\n",
      "Objective LassoRegression_Objective:\n"
     ]
    },
    {
     "name": "stderr",
     "output_type": "stream",
     "text": [
      "  7%|██▋                                     | 547/8000 [00:34<07:47, 15.95it/s]\n",
      "63it [00:00, 624.35it/s]"
     ]
    },
    {
     "name": "stdout",
     "output_type": "stream",
     "text": [
      "iterations: 547\n",
      "Number of used features: 5\n",
      "Used features: ['num-p029-loin.nii.gz-0.500000', 'sum-p029-loin.nii.gz-0.500000', 'hist-5-p029-loin.nii.gz-0.500000', 'hist-12-p029-loin.nii.gz-0.500000', 'hist-19-p029-loin.nii.gz-0.500000'] \n",
      "Score: -0.9378016265198867\n"
     ]
    },
    {
     "name": "stderr",
     "output_type": "stream",
     "text": [
      "200it [00:00, 621.39it/s]\n",
      "  0%|                                                  | 0/8000 [00:00<?, ?it/s]"
     ]
    },
    {
     "name": "stdout",
     "output_type": "stream",
     "text": [
      "1\n",
      "1 0.9384950182558212\n",
      "Objective RidgeRegression_Objective:\n"
     ]
    },
    {
     "name": "stderr",
     "output_type": "stream",
     "text": [
      "  7%|██▊                                     | 559/8000 [00:32<07:14, 17.13it/s]\n",
      "69it [00:00, 680.41it/s]"
     ]
    },
    {
     "name": "stdout",
     "output_type": "stream",
     "text": [
      "iterations: 559\n",
      "Number of used features: 6\n",
      "Used features: ['num-p029-loin.nii.gz-0.500000', 'mean-p029-loin.nii.gz-0.500000', 'std-p029-loin.nii.gz-0.500000', 'hist-4-p029-loin.nii.gz-0.500000', 'hist-12-p029-loin.nii.gz-0.500000', 'hist-19-p029-loin.nii.gz-0.500000'] \n",
      "Score: -0.9351667871527447\n"
     ]
    },
    {
     "name": "stderr",
     "output_type": "stream",
     "text": [
      "200it [00:00, 679.12it/s]\n",
      "  0%|                                                  | 0/8000 [00:00<?, ?it/s]"
     ]
    },
    {
     "name": "stdout",
     "output_type": "stream",
     "text": [
      "1\n",
      "1 0.9362551131090227\n",
      "Objective PLSRegression_Objective:\n"
     ]
    },
    {
     "name": "stderr",
     "output_type": "stream",
     "text": [
      " 10%|███▊                                    | 769/8000 [00:45<07:12, 16.73it/s]\n",
      "61it [00:00, 601.48it/s]"
     ]
    },
    {
     "name": "stdout",
     "output_type": "stream",
     "text": [
      "iterations: 769\n",
      "Number of used features: 5\n",
      "Used features: ['num-p029-loin.nii.gz-0.500000', 'mean-p029-loin.nii.gz-0.500000', 'hist-5-p029-loin.nii.gz-0.500000', 'hist-12-p029-loin.nii.gz-0.500000', 'hist-19-p029-loin.nii.gz-0.500000'] \n",
      "Score: -0.9377608429690792\n"
     ]
    },
    {
     "name": "stderr",
     "output_type": "stream",
     "text": [
      "200it [00:00, 620.54it/s]\n",
      "  0%|                                                  | 0/8000 [00:00<?, ?it/s]"
     ]
    },
    {
     "name": "stdout",
     "output_type": "stream",
     "text": [
      "1\n",
      "1 0.9381649325820866\n",
      "Objective KNNR_Objective:\n"
     ]
    },
    {
     "name": "stderr",
     "output_type": "stream",
     "text": [
      "  8%|███▏                                    | 633/8000 [00:59<11:29, 10.68it/s]\n",
      "80it [00:00, 791.91it/s]"
     ]
    },
    {
     "name": "stdout",
     "output_type": "stream",
     "text": [
      "iterations: 633\n",
      "Number of used features: 5\n",
      "Used features: ['num-p032-loin.nii.gz-0.500000', 'sum-p032-loin.nii.gz-0.500000', 'hist-5-p032-loin.nii.gz-0.500000', 'hist-12-p032-loin.nii.gz-0.500000', 'hist-13-p032-loin.nii.gz-0.500000'] \n",
      "Score: -0.8333270300010683\n"
     ]
    },
    {
     "name": "stderr",
     "output_type": "stream",
     "text": [
      "200it [00:00, 789.91it/s]\n",
      "  0%|                                                  | 0/8000 [00:00<?, ?it/s]"
     ]
    },
    {
     "name": "stdout",
     "output_type": "stream",
     "text": [
      "1\n",
      "1 0.8572598011873821\n",
      "Objective LinearRegression_Objective:\n"
     ]
    },
    {
     "name": "stderr",
     "output_type": "stream",
     "text": [
      "  7%|██▊                                     | 554/8000 [00:09<02:12, 56.14it/s]\n",
      "200it [00:00, 1010.15it/s]"
     ]
    },
    {
     "name": "stdout",
     "output_type": "stream",
     "text": [
      "iterations: 554\n",
      "Number of used features: 5\n",
      "Used features: ['num-p032-loin.nii.gz-0.500000', 'skew-p032-loin.nii.gz-0.500000', 'kurt-p032-loin.nii.gz-0.500000', 'hist-12-p032-loin.nii.gz-0.500000', 'hist-19-p032-loin.nii.gz-0.500000'] \n",
      "Score: -0.9247206643515936\n",
      "1\n",
      "1 0.9246468566355253\n",
      "Objective LassoRegression_Objective:\n"
     ]
    },
    {
     "name": "stderr",
     "output_type": "stream",
     "text": [
      "\n",
      "  7%|██▋                                     | 527/8000 [00:31<07:21, 16.92it/s]\n",
      "65it [00:00, 646.44it/s]"
     ]
    },
    {
     "name": "stdout",
     "output_type": "stream",
     "text": [
      "iterations: 527\n",
      "Number of used features: 3\n",
      "Used features: ['num-p032-loin.nii.gz-0.500000', 'hist-12-p032-loin.nii.gz-0.500000', 'hist-19-p032-loin.nii.gz-0.500000'] \n",
      "Score: -0.9210206681951401\n"
     ]
    },
    {
     "name": "stderr",
     "output_type": "stream",
     "text": [
      "200it [00:00, 644.46it/s]\n",
      "  0%|                                                  | 0/8000 [00:00<?, ?it/s]"
     ]
    },
    {
     "name": "stdout",
     "output_type": "stream",
     "text": [
      "1\n",
      "1 0.9207202234303862\n",
      "Objective RidgeRegression_Objective:\n"
     ]
    },
    {
     "name": "stderr",
     "output_type": "stream",
     "text": [
      "  7%|██▋                                     | 527/8000 [00:27<06:35, 18.91it/s]\n",
      "72it [00:00, 713.66it/s]"
     ]
    },
    {
     "name": "stdout",
     "output_type": "stream",
     "text": [
      "iterations: 527\n",
      "Number of used features: 3\n",
      "Used features: ['num-p032-loin.nii.gz-0.500000', 'hist-12-p032-loin.nii.gz-0.500000', 'hist-19-p032-loin.nii.gz-0.500000'] \n",
      "Score: -0.9210077336144802\n"
     ]
    },
    {
     "name": "stderr",
     "output_type": "stream",
     "text": [
      "200it [00:00, 715.26it/s]\n",
      "  0%|                                                  | 0/8000 [00:00<?, ?it/s]"
     ]
    },
    {
     "name": "stdout",
     "output_type": "stream",
     "text": [
      "1\n",
      "1 0.9207210913617881\n",
      "Objective PLSRegression_Objective:\n"
     ]
    },
    {
     "name": "stderr",
     "output_type": "stream",
     "text": [
      "  9%|███▌                                    | 712/8000 [00:34<05:50, 20.81it/s]\n",
      "71it [00:00, 703.99it/s]"
     ]
    },
    {
     "name": "stdout",
     "output_type": "stream",
     "text": [
      "iterations: 712\n",
      "Number of used features: 3\n",
      "Used features: ['num-p032-loin.nii.gz-0.500000', 'skew-p032-loin.nii.gz-0.500000', 'kurt-p032-loin.nii.gz-0.500000'] \n",
      "Score: -0.9268309876254683\n"
     ]
    },
    {
     "name": "stderr",
     "output_type": "stream",
     "text": [
      "200it [00:00, 709.90it/s]\n",
      "  0%|                                                  | 0/8000 [00:00<?, ?it/s]"
     ]
    },
    {
     "name": "stdout",
     "output_type": "stream",
     "text": [
      "1\n",
      "1 0.9268466184062558\n",
      "Objective KNNR_Objective:\n"
     ]
    },
    {
     "name": "stderr",
     "output_type": "stream",
     "text": [
      "  9%|███▋                                    | 747/8000 [01:10<11:28, 10.53it/s]\n",
      "78it [00:00, 771.88it/s]"
     ]
    },
    {
     "name": "stdout",
     "output_type": "stream",
     "text": [
      "iterations: 747\n",
      "Number of used features: 4\n",
      "Used features: ['num-p041-loin.nii.gz-0.500000', 'hist-4-p041-loin.nii.gz-0.500000', 'hist-13-p041-loin.nii.gz-0.500000', 'hist-19-p041-loin.nii.gz-0.500000'] \n",
      "Score: -0.8005688680551513\n"
     ]
    },
    {
     "name": "stderr",
     "output_type": "stream",
     "text": [
      "200it [00:00, 767.14it/s]\n",
      "  0%|                                                  | 0/8000 [00:00<?, ?it/s]"
     ]
    },
    {
     "name": "stdout",
     "output_type": "stream",
     "text": [
      "1\n",
      "1 0.8118288694379155\n",
      "Objective LinearRegression_Objective:\n"
     ]
    },
    {
     "name": "stderr",
     "output_type": "stream",
     "text": [
      "  7%|██▉                                     | 591/8000 [00:12<02:33, 48.20it/s]\n",
      "99it [00:00, 985.69it/s]"
     ]
    },
    {
     "name": "stdout",
     "output_type": "stream",
     "text": [
      "iterations: 591\n",
      "Number of used features: 5\n",
      "Used features: ['num-p041-loin.nii.gz-0.500000', 'mean-p041-loin.nii.gz-0.500000', 'hist-12-p041-loin.nii.gz-0.500000', 'hist-17-p041-loin.nii.gz-0.500000', 'hist-19-p041-loin.nii.gz-0.500000'] \n",
      "Score: -0.9281127707384289\n"
     ]
    },
    {
     "name": "stderr",
     "output_type": "stream",
     "text": [
      "200it [00:00, 980.25it/s]\n",
      "  0%|                                                  | 0/8000 [00:00<?, ?it/s]"
     ]
    },
    {
     "name": "stdout",
     "output_type": "stream",
     "text": [
      "1\n",
      "1 0.9307485871912409\n",
      "Objective LassoRegression_Objective:\n"
     ]
    },
    {
     "name": "stderr",
     "output_type": "stream",
     "text": [
      "  7%|██▋                                     | 527/8000 [00:31<07:22, 16.88it/s]\n",
      "64it [00:00, 637.46it/s]"
     ]
    },
    {
     "name": "stdout",
     "output_type": "stream",
     "text": [
      "iterations: 527\n",
      "Number of used features: 5\n",
      "Used features: ['num-p041-loin.nii.gz-0.500000', 'kurt-p041-loin.nii.gz-0.500000', 'hist-12-p041-loin.nii.gz-0.500000', 'hist-17-p041-loin.nii.gz-0.500000', 'hist-19-p041-loin.nii.gz-0.500000'] \n",
      "Score: -0.9281813199485619\n"
     ]
    },
    {
     "name": "stderr",
     "output_type": "stream",
     "text": [
      "200it [00:00, 634.97it/s]\n",
      "  0%|                                                  | 0/8000 [00:00<?, ?it/s]"
     ]
    },
    {
     "name": "stdout",
     "output_type": "stream",
     "text": [
      "1\n",
      "1 0.9300554974890214\n",
      "Objective RidgeRegression_Objective:\n"
     ]
    },
    {
     "name": "stderr",
     "output_type": "stream",
     "text": [
      "  7%|██▋                                     | 542/8000 [00:29<06:52, 18.09it/s]\n",
      "73it [00:00, 724.67it/s]"
     ]
    },
    {
     "name": "stdout",
     "output_type": "stream",
     "text": [
      "iterations: 542\n",
      "Number of used features: 5\n",
      "Used features: ['num-p041-loin.nii.gz-0.500000', 'kurt-p041-loin.nii.gz-0.500000', 'hist-12-p041-loin.nii.gz-0.500000', 'hist-17-p041-loin.nii.gz-0.500000', 'hist-19-p041-loin.nii.gz-0.500000'] \n",
      "Score: -0.9281628681059768\n"
     ]
    },
    {
     "name": "stderr",
     "output_type": "stream",
     "text": [
      "200it [00:00, 721.65it/s]\n",
      "  0%|                                                  | 0/8000 [00:00<?, ?it/s]"
     ]
    },
    {
     "name": "stdout",
     "output_type": "stream",
     "text": [
      "1\n",
      "1 0.9300452118437299\n",
      "Objective PLSRegression_Objective:\n"
     ]
    },
    {
     "name": "stderr",
     "output_type": "stream",
     "text": [
      "  7%|██▉                                     | 591/8000 [00:25<05:20, 23.13it/s]\n",
      "65it [00:00, 645.37it/s]"
     ]
    },
    {
     "name": "stdout",
     "output_type": "stream",
     "text": [
      "iterations: 591\n",
      "Number of used features: 6\n",
      "Used features: ['num-p041-loin.nii.gz-0.500000', 'sum-p041-loin.nii.gz-0.500000', 'mean-p041-loin.nii.gz-0.500000', 'hist-4-p041-loin.nii.gz-0.500000', 'hist-12-p041-loin.nii.gz-0.500000', 'hist-18-p041-loin.nii.gz-0.500000'] \n",
      "Score: -0.9260988876450827\n"
     ]
    },
    {
     "name": "stderr",
     "output_type": "stream",
     "text": [
      "200it [00:00, 641.60it/s]\n",
      "  0%|                                                  | 0/8000 [00:00<?, ?it/s]"
     ]
    },
    {
     "name": "stdout",
     "output_type": "stream",
     "text": [
      "1\n",
      "1 0.9259977634274962\n",
      "Objective KNNR_Objective:\n"
     ]
    },
    {
     "name": "stderr",
     "output_type": "stream",
     "text": [
      " 10%|███▉                                    | 792/8000 [01:14<11:21, 10.58it/s]\n",
      "80it [00:00, 793.02it/s]"
     ]
    },
    {
     "name": "stdout",
     "output_type": "stream",
     "text": [
      "iterations: 792\n",
      "Number of used features: 3\n",
      "Used features: ['num-p048-loin.nii.gz-0.500000', 'hist-5-p048-loin.nii.gz-0.500000', 'hist-8-p048-loin.nii.gz-0.500000'] \n",
      "Score: -0.8361529591853661\n"
     ]
    },
    {
     "name": "stderr",
     "output_type": "stream",
     "text": [
      "200it [00:00, 792.06it/s]\n",
      "  0%|                                                  | 0/8000 [00:00<?, ?it/s]"
     ]
    },
    {
     "name": "stdout",
     "output_type": "stream",
     "text": [
      "1\n",
      "1 0.8543563851259085\n",
      "Objective LinearRegression_Objective:\n"
     ]
    },
    {
     "name": "stderr",
     "output_type": "stream",
     "text": [
      "  7%|██▊                                     | 569/8000 [00:11<02:25, 50.98it/s]\n",
      "99it [00:00, 985.59it/s]"
     ]
    },
    {
     "name": "stdout",
     "output_type": "stream",
     "text": [
      "iterations: 569\n",
      "Number of used features: 5\n",
      "Used features: ['num-p048-loin.nii.gz-0.500000', 'hist-4-p048-loin.nii.gz-0.500000', 'hist-7-p048-loin.nii.gz-0.500000', 'hist-12-p048-loin.nii.gz-0.500000', 'hist-19-p048-loin.nii.gz-0.500000'] \n",
      "Score: -0.9317264919482546\n"
     ]
    },
    {
     "name": "stderr",
     "output_type": "stream",
     "text": [
      "200it [00:00, 982.30it/s]\n",
      "  0%|                                                  | 0/8000 [00:00<?, ?it/s]"
     ]
    },
    {
     "name": "stdout",
     "output_type": "stream",
     "text": [
      "1\n",
      "1 0.933672309460515\n",
      "Objective LassoRegression_Objective:\n"
     ]
    },
    {
     "name": "stderr",
     "output_type": "stream",
     "text": [
      "  7%|██▉                                     | 575/8000 [00:35<07:37, 16.23it/s]\n",
      "65it [00:00, 644.50it/s]"
     ]
    },
    {
     "name": "stdout",
     "output_type": "stream",
     "text": [
      "iterations: 575\n",
      "Number of used features: 5\n",
      "Used features: ['num-p048-loin.nii.gz-0.500000', 'skew-p048-loin.nii.gz-0.500000', 'hist-1-p048-loin.nii.gz-0.500000', 'hist-4-p048-loin.nii.gz-0.500000', 'hist-12-p048-loin.nii.gz-0.500000'] \n",
      "Score: -0.9268291877836903\n"
     ]
    },
    {
     "name": "stderr",
     "output_type": "stream",
     "text": [
      "200it [00:00, 638.02it/s]\n",
      "  0%|                                                  | 0/8000 [00:00<?, ?it/s]"
     ]
    },
    {
     "name": "stdout",
     "output_type": "stream",
     "text": [
      "1\n",
      "1 0.9279254199832051\n",
      "Objective RidgeRegression_Objective:\n"
     ]
    },
    {
     "name": "stderr",
     "output_type": "stream",
     "text": [
      "  7%|██▉                                     | 575/8000 [00:32<07:05, 17.44it/s]\n",
      "73it [00:00, 725.57it/s]"
     ]
    },
    {
     "name": "stdout",
     "output_type": "stream",
     "text": [
      "iterations: 575\n",
      "Number of used features: 5\n",
      "Used features: ['num-p048-loin.nii.gz-0.500000', 'skew-p048-loin.nii.gz-0.500000', 'hist-1-p048-loin.nii.gz-0.500000', 'hist-4-p048-loin.nii.gz-0.500000', 'hist-12-p048-loin.nii.gz-0.500000'] \n",
      "Score: -0.9268132265835138\n"
     ]
    },
    {
     "name": "stderr",
     "output_type": "stream",
     "text": [
      "200it [00:00, 722.72it/s]\n",
      "  0%|                                                  | 0/8000 [00:00<?, ?it/s]"
     ]
    },
    {
     "name": "stdout",
     "output_type": "stream",
     "text": [
      "1\n",
      "1 0.9279206134430613\n",
      "Objective PLSRegression_Objective:\n"
     ]
    },
    {
     "name": "stderr",
     "output_type": "stream",
     "text": [
      "  7%|██▉                                     | 591/8000 [00:26<05:29, 22.50it/s]\n",
      "70it [00:00, 695.77it/s]"
     ]
    },
    {
     "name": "stdout",
     "output_type": "stream",
     "text": [
      "iterations: 591\n",
      "Number of used features: 5\n",
      "Used features: ['num-p048-loin.nii.gz-0.500000', 'sum-p048-loin.nii.gz-0.500000', 'mean-p048-loin.nii.gz-0.500000', 'skew-p048-loin.nii.gz-0.500000', 'hist-4-p048-loin.nii.gz-0.500000'] \n",
      "Score: -0.9296573318681052\n"
     ]
    },
    {
     "name": "stderr",
     "output_type": "stream",
     "text": [
      "200it [00:00, 695.16it/s]"
     ]
    },
    {
     "name": "stdout",
     "output_type": "stream",
     "text": [
      "1\n",
      "1 0.9301049953934944\n"
     ]
    },
    {
     "name": "stderr",
     "output_type": "stream",
     "text": [
      "\n"
     ]
    }
   ],
   "source": [
    "for m in masks:\n",
    "    results.append(model_selection(loin_features[[c for c in loin_features.columns if m in c or c == 'type']], loin_target, dataset='loin', type=m))"
   ]
  },
  {
   "cell_type": "markdown",
   "metadata": {},
   "source": [
    "### belly using all features"
   ]
  },
  {
   "cell_type": "code",
   "execution_count": 14,
   "metadata": {},
   "outputs": [
    {
     "name": "stderr",
     "output_type": "stream",
     "text": [
      "\r",
      "  0%|                                                  | 0/8000 [00:00<?, ?it/s]"
     ]
    },
    {
     "name": "stdout",
     "output_type": "stream",
     "text": [
      "Objective KNNR_Objective:\n"
     ]
    },
    {
     "name": "stderr",
     "output_type": "stream",
     "text": [
      " 28%|██████████▉                            | 2254/8000 [04:56<12:34,  7.61it/s]\n",
      "78it [00:00, 771.10it/s]"
     ]
    },
    {
     "name": "stdout",
     "output_type": "stream",
     "text": [
      "iterations: 2254\n",
      "Number of used features: 32\n",
      "Used features: ['num-p004-belly.nii.gz-0.500000', 'hist-4-p004-belly.nii.gz-0.500000', 'hist-8-p004-belly.nii.gz-0.500000', 'num-p029-belly.nii.gz-0.500000', 'hist-2-p029-belly.nii.gz-0.500000', 'hist-9-p029-belly.nii.gz-0.500000', 'hist-12-p029-belly.nii.gz-0.500000', 'hist-13-p029-belly.nii.gz-0.500000', 'num-p032-belly.nii.gz-0.500000', 'kurt-p032-belly.nii.gz-0.500000', 'hist-0-p032-belly.nii.gz-0.500000', 'hist-4-p032-belly.nii.gz-0.500000', 'hist-9-p032-belly.nii.gz-0.500000', 'num-p041-belly.nii.gz-0.500000', 'kurt-p041-belly.nii.gz-0.500000', 'hist-2-p041-belly.nii.gz-0.500000', 'hist-4-p041-belly.nii.gz-0.500000', 'hist-9-p041-belly.nii.gz-0.500000', 'hist-13-p041-belly.nii.gz-0.500000', 'sum-p048-belly.nii.gz-0.500000', 'std-p048-belly.nii.gz-0.500000', 'hist-0-p048-belly.nii.gz-0.500000', 'hist-2-p048-belly.nii.gz-0.500000', 'hist-6-p048-belly.nii.gz-0.500000', 'hist-8-p048-belly.nii.gz-0.500000', 'hist-16-p048-belly.nii.gz-0.500000', 'num-0.500000-mean_mask', 'hist-0-0.500000-mean_mask', 'hist-7-0.500000-mean_mask', 'hist-8-0.500000-mean_mask', 'hist-9-0.500000-mean_mask', 'hist-17-0.500000-mean_mask'] \n",
      "Score: -0.8961975294748454\n"
     ]
    },
    {
     "name": "stderr",
     "output_type": "stream",
     "text": [
      "200it [00:00, 769.02it/s]\n",
      "  0%|                                                  | 0/8000 [00:00<?, ?it/s]"
     ]
    },
    {
     "name": "stdout",
     "output_type": "stream",
     "text": [
      "1\n",
      "1 0.9077835189653883\n",
      "Objective LinearRegression_Objective:\n"
     ]
    },
    {
     "name": "stderr",
     "output_type": "stream",
     "text": [
      " 19%|███████▌                               | 1544/8000 [02:03<08:34, 12.54it/s]\n",
      "90it [00:00, 892.85it/s]"
     ]
    },
    {
     "name": "stdout",
     "output_type": "stream",
     "text": [
      "iterations: 1544\n",
      "Number of used features: 22\n",
      "Used features: ['hist-14-p004-belly.nii.gz-0.500000', 'hist-19-p004-belly.nii.gz-0.500000', 'skew-p029-belly.nii.gz-0.500000', 'hist-17-p029-belly.nii.gz-0.500000', 'hist-18-p029-belly.nii.gz-0.500000', 'std-p032-belly.nii.gz-0.500000', 'kurt-p032-belly.nii.gz-0.500000', 'hist-8-p032-belly.nii.gz-0.500000', 'hist-19-p032-belly.nii.gz-0.500000', 'sum-p041-belly.nii.gz-0.500000', 'mean-p041-belly.nii.gz-0.500000', 'hist-0-p041-belly.nii.gz-0.500000', 'hist-4-p041-belly.nii.gz-0.500000', 'hist-12-p041-belly.nii.gz-0.500000', 'hist-14-p041-belly.nii.gz-0.500000', 'hist-18-p041-belly.nii.gz-0.500000', 'hist-8-p048-belly.nii.gz-0.500000', 'hist-14-p048-belly.nii.gz-0.500000', 'num-0.500000-mean_mask', 'hist-0-0.500000-mean_mask', 'hist-11-0.500000-mean_mask', 'hist-19-0.500000-mean_mask'] \n",
      "Score: -0.967785433146496\n"
     ]
    },
    {
     "name": "stderr",
     "output_type": "stream",
     "text": [
      "200it [00:00, 888.17it/s]\n",
      "  0%|                                                  | 0/8000 [00:00<?, ?it/s]"
     ]
    },
    {
     "name": "stdout",
     "output_type": "stream",
     "text": [
      "1\n",
      "1 0.9736333657128412\n",
      "Objective LassoRegression_Objective:\n"
     ]
    },
    {
     "name": "stderr",
     "output_type": "stream",
     "text": [
      " 21%|████████▎                              | 1697/8000 [04:21<16:12,  6.48it/s]\n",
      "45it [00:00, 448.30it/s]"
     ]
    },
    {
     "name": "stdout",
     "output_type": "stream",
     "text": [
      "iterations: 1697\n",
      "Number of used features: 13\n",
      "Used features: ['hist-10-p029-belly.nii.gz-0.500000', 'hist-11-p029-belly.nii.gz-0.500000', 'hist-17-p029-belly.nii.gz-0.500000', 'skew-p032-belly.nii.gz-0.500000', 'kurt-p032-belly.nii.gz-0.500000', 'hist-12-p032-belly.nii.gz-0.500000', 'hist-14-p032-belly.nii.gz-0.500000', 'sum-p041-belly.nii.gz-0.500000', 'std-p041-belly.nii.gz-0.500000', 'hist-3-p048-belly.nii.gz-0.500000', 'hist-0-0.500000-mean_mask', 'hist-2-0.500000-mean_mask', 'hist-19-0.500000-mean_mask'] \n",
      "Score: -0.9565765666846319\n"
     ]
    },
    {
     "name": "stderr",
     "output_type": "stream",
     "text": [
      "200it [00:00, 445.69it/s]\n",
      "  0%|                                                  | 0/8000 [00:00<?, ?it/s]"
     ]
    },
    {
     "name": "stdout",
     "output_type": "stream",
     "text": [
      "1\n",
      "1 0.9587034839642457\n",
      "Objective RidgeRegression_Objective:\n"
     ]
    },
    {
     "name": "stderr",
     "output_type": "stream",
     "text": [
      " 42%|████████████████▌                      | 3397/8000 [08:25<11:24,  6.72it/s]\n",
      "50it [00:00, 499.94it/s]"
     ]
    },
    {
     "name": "stdout",
     "output_type": "stream",
     "text": [
      "iterations: 3397\n",
      "Number of used features: 23\n",
      "Used features: ['hist-3-p004-belly.nii.gz-0.500000', 'hist-14-p004-belly.nii.gz-0.500000', 'hist-18-p004-belly.nii.gz-0.500000', 'hist-18-p029-belly.nii.gz-0.500000', 'hist-19-p029-belly.nii.gz-0.500000', 'std-p032-belly.nii.gz-0.500000', 'skew-p032-belly.nii.gz-0.500000', 'hist-0-p032-belly.nii.gz-0.500000', 'hist-7-p032-belly.nii.gz-0.500000', 'hist-8-p032-belly.nii.gz-0.500000', 'sum-p041-belly.nii.gz-0.500000', 'hist-2-p041-belly.nii.gz-0.500000', 'hist-12-p041-belly.nii.gz-0.500000', 'hist-14-p041-belly.nii.gz-0.500000', 'hist-17-p041-belly.nii.gz-0.500000', 'hist-0-p048-belly.nii.gz-0.500000', 'hist-13-p048-belly.nii.gz-0.500000', 'hist-18-p048-belly.nii.gz-0.500000', 'hist-19-p048-belly.nii.gz-0.500000', 'sum-0.500000-mean_mask', 'skew-0.500000-mean_mask', 'kurt-0.500000-mean_mask', 'hist-19-0.500000-mean_mask'] \n",
      "Score: -0.9948677120803066\n"
     ]
    },
    {
     "name": "stderr",
     "output_type": "stream",
     "text": [
      "200it [00:00, 492.31it/s]\n",
      "  0%|                                                  | 0/8000 [00:00<?, ?it/s]"
     ]
    },
    {
     "name": "stdout",
     "output_type": "stream",
     "text": [
      "1\n",
      "1 0.9963583212998265\n",
      "Objective PLSRegression_Objective:\n"
     ]
    },
    {
     "name": "stderr",
     "output_type": "stream",
     "text": [
      " 33%|████████████▉                          | 2647/8000 [07:26<15:02,  5.93it/s]\n",
      "45it [00:00, 442.85it/s]"
     ]
    },
    {
     "name": "stdout",
     "output_type": "stream",
     "text": [
      "iterations: 2647\n",
      "Number of used features: 21\n",
      "Used features: ['hist-3-p004-belly.nii.gz-0.500000', 'hist-14-p004-belly.nii.gz-0.500000', 'hist-1-p029-belly.nii.gz-0.500000', 'hist-2-p029-belly.nii.gz-0.500000', 'hist-17-p029-belly.nii.gz-0.500000', 'hist-19-p029-belly.nii.gz-0.500000', 'std-p032-belly.nii.gz-0.500000', 'hist-12-p032-belly.nii.gz-0.500000', 'hist-13-p032-belly.nii.gz-0.500000', 'skew-p041-belly.nii.gz-0.500000', 'hist-0-p041-belly.nii.gz-0.500000', 'hist-14-p041-belly.nii.gz-0.500000', 'hist-18-p041-belly.nii.gz-0.500000', 'hist-3-p048-belly.nii.gz-0.500000', 'hist-12-p048-belly.nii.gz-0.500000', 'hist-13-p048-belly.nii.gz-0.500000', 'sum-0.500000-mean_mask', 'std-0.500000-mean_mask', 'hist-8-0.500000-mean_mask', 'hist-10-0.500000-mean_mask', 'hist-19-0.500000-mean_mask'] \n",
      "Score: -0.9779134877973925\n"
     ]
    },
    {
     "name": "stderr",
     "output_type": "stream",
     "text": [
      "200it [00:00, 445.26it/s]"
     ]
    },
    {
     "name": "stdout",
     "output_type": "stream",
     "text": [
      "1\n",
      "1 0.978600437436421\n"
     ]
    },
    {
     "name": "stderr",
     "output_type": "stream",
     "text": [
      "\n"
     ]
    }
   ],
   "source": [
    "results.append(model_selection(belly_features, belly_target, dataset='belly', type='all'))"
   ]
  },
  {
   "cell_type": "markdown",
   "metadata": {},
   "source": [
    "### belly using the mean mask features"
   ]
  },
  {
   "cell_type": "code",
   "execution_count": 15,
   "metadata": {},
   "outputs": [
    {
     "name": "stderr",
     "output_type": "stream",
     "text": [
      "\r",
      "  0%|                                                  | 0/8000 [00:00<?, ?it/s]"
     ]
    },
    {
     "name": "stdout",
     "output_type": "stream",
     "text": [
      "Objective KNNR_Objective:\n"
     ]
    },
    {
     "name": "stderr",
     "output_type": "stream",
     "text": [
      "  7%|██▊                                     | 552/8000 [00:50<11:19, 10.97it/s]\n",
      "79it [00:00, 784.55it/s]"
     ]
    },
    {
     "name": "stdout",
     "output_type": "stream",
     "text": [
      "iterations: 552\n",
      "Number of used features: 5\n",
      "Used features: ['num-0.500000-mean_mask', 'std-0.500000-mean_mask', 'hist-2-0.500000-mean_mask', 'hist-10-0.500000-mean_mask', 'hist-19-0.500000-mean_mask'] \n",
      "Score: -0.844001745041048\n"
     ]
    },
    {
     "name": "stderr",
     "output_type": "stream",
     "text": [
      "200it [00:00, 777.18it/s]\n",
      "  0%|                                                  | 0/8000 [00:00<?, ?it/s]"
     ]
    },
    {
     "name": "stdout",
     "output_type": "stream",
     "text": [
      "1\n",
      "1 0.8578462287257576\n",
      "Objective LinearRegression_Objective:\n"
     ]
    },
    {
     "name": "stderr",
     "output_type": "stream",
     "text": [
      "  9%|███▌                                    | 709/8000 [00:16<02:46, 43.67it/s]\n",
      "97it [00:00, 965.84it/s]"
     ]
    },
    {
     "name": "stdout",
     "output_type": "stream",
     "text": [
      "iterations: 709\n",
      "Number of used features: 4\n",
      "Used features: ['num-0.500000-mean_mask', 'kurt-0.500000-mean_mask', 'hist-4-0.500000-mean_mask', 'hist-10-0.500000-mean_mask'] \n",
      "Score: -0.902834104522853\n"
     ]
    },
    {
     "name": "stderr",
     "output_type": "stream",
     "text": [
      "200it [00:00, 965.63it/s]\n",
      "  0%|                                                  | 0/8000 [00:00<?, ?it/s]"
     ]
    },
    {
     "name": "stdout",
     "output_type": "stream",
     "text": [
      "1\n",
      "1 0.9049861277258606\n",
      "Objective LassoRegression_Objective:\n"
     ]
    },
    {
     "name": "stderr",
     "output_type": "stream",
     "text": [
      "  9%|███▍                                    | 682/8000 [00:45<08:05, 15.07it/s]\n",
      "65it [00:00, 645.68it/s]"
     ]
    },
    {
     "name": "stdout",
     "output_type": "stream",
     "text": [
      "iterations: 682\n",
      "Number of used features: 3\n",
      "Used features: ['num-0.500000-mean_mask', 'hist-3-0.500000-mean_mask', 'hist-10-0.500000-mean_mask'] \n",
      "Score: -0.9042412000315848\n"
     ]
    },
    {
     "name": "stderr",
     "output_type": "stream",
     "text": [
      "200it [00:00, 644.27it/s]\n",
      "  0%|                                                  | 0/8000 [00:00<?, ?it/s]"
     ]
    },
    {
     "name": "stdout",
     "output_type": "stream",
     "text": [
      "1\n",
      "1 0.905586034517446\n",
      "Objective RidgeRegression_Objective:\n"
     ]
    },
    {
     "name": "stderr",
     "output_type": "stream",
     "text": [
      "  9%|███▍                                    | 682/8000 [00:42<07:35, 16.05it/s]\n",
      "73it [00:00, 725.33it/s]"
     ]
    },
    {
     "name": "stdout",
     "output_type": "stream",
     "text": [
      "iterations: 682\n",
      "Number of used features: 3\n",
      "Used features: ['num-0.500000-mean_mask', 'hist-3-0.500000-mean_mask', 'hist-10-0.500000-mean_mask'] \n",
      "Score: -0.9044590385291267\n"
     ]
    },
    {
     "name": "stderr",
     "output_type": "stream",
     "text": [
      "200it [00:00, 717.05it/s]\n",
      "  0%|                                                  | 0/8000 [00:00<?, ?it/s]"
     ]
    },
    {
     "name": "stdout",
     "output_type": "stream",
     "text": [
      "1\n",
      "1 0.9057930375876103\n",
      "Objective PLSRegression_Objective:\n"
     ]
    },
    {
     "name": "stderr",
     "output_type": "stream",
     "text": [
      " 10%|███▉                                    | 786/8000 [00:38<05:54, 20.37it/s]\n",
      "74it [00:00, 734.14it/s]"
     ]
    },
    {
     "name": "stdout",
     "output_type": "stream",
     "text": [
      "iterations: 786\n",
      "Number of used features: 3\n",
      "Used features: ['num-0.500000-mean_mask', 'hist-3-0.500000-mean_mask', 'hist-10-0.500000-mean_mask'] \n",
      "Score: -0.9042673652689205\n"
     ]
    },
    {
     "name": "stderr",
     "output_type": "stream",
     "text": [
      "200it [00:00, 730.49it/s]"
     ]
    },
    {
     "name": "stdout",
     "output_type": "stream",
     "text": [
      "1\n",
      "1 0.9056000222671949\n"
     ]
    },
    {
     "name": "stderr",
     "output_type": "stream",
     "text": [
      "\n"
     ]
    }
   ],
   "source": [
    "results.append(model_selection(belly_features[[c for c in belly_features.columns if 'mean_mask' in c or c == 'type']], belly_target, dataset='belly', type='mean_mask'))"
   ]
  },
  {
   "cell_type": "markdown",
   "metadata": {},
   "source": [
    "### belly using the features of the individual masks"
   ]
  },
  {
   "cell_type": "code",
   "execution_count": 17,
   "metadata": {},
   "outputs": [
    {
     "name": "stderr",
     "output_type": "stream",
     "text": [
      "\r",
      "  0%|                                                  | 0/8000 [00:00<?, ?it/s]"
     ]
    },
    {
     "name": "stdout",
     "output_type": "stream",
     "text": [
      "Objective KNNR_Objective:\n"
     ]
    },
    {
     "name": "stderr",
     "output_type": "stream",
     "text": [
      " 10%|███▊                                    | 761/8000 [01:12<11:29, 10.50it/s]\n",
      "81it [00:00, 802.19it/s]"
     ]
    },
    {
     "name": "stdout",
     "output_type": "stream",
     "text": [
      "iterations: 761\n",
      "Number of used features: 5\n",
      "Used features: ['num-p004-belly.nii.gz-0.500000', 'sum-p004-belly.nii.gz-0.500000', 'hist-2-p004-belly.nii.gz-0.500000', 'hist-8-p004-belly.nii.gz-0.500000', 'hist-12-p004-belly.nii.gz-0.500000'] \n",
      "Score: -0.8214747805718592\n"
     ]
    },
    {
     "name": "stderr",
     "output_type": "stream",
     "text": [
      "200it [00:00, 796.53it/s]\n",
      "  0%|                                                  | 0/8000 [00:00<?, ?it/s]"
     ]
    },
    {
     "name": "stdout",
     "output_type": "stream",
     "text": [
      "1\n",
      "1 0.8360520191035502\n",
      "Objective LinearRegression_Objective:\n"
     ]
    },
    {
     "name": "stderr",
     "output_type": "stream",
     "text": [
      "  7%|██▉                                     | 583/8000 [00:12<02:37, 47.19it/s]\n",
      "97it [00:00, 969.90it/s]"
     ]
    },
    {
     "name": "stdout",
     "output_type": "stream",
     "text": [
      "iterations: 583\n",
      "Number of used features: 4\n",
      "Used features: ['num-p004-belly.nii.gz-0.500000', 'hist-3-p004-belly.nii.gz-0.500000', 'hist-10-p004-belly.nii.gz-0.500000', 'hist-12-p004-belly.nii.gz-0.500000'] \n",
      "Score: -0.8587360803019655\n"
     ]
    },
    {
     "name": "stderr",
     "output_type": "stream",
     "text": [
      "200it [00:00, 971.59it/s]\n",
      "  0%|                                                  | 0/8000 [00:00<?, ?it/s]"
     ]
    },
    {
     "name": "stdout",
     "output_type": "stream",
     "text": [
      "1\n",
      "1 0.8613091276949615\n",
      "Objective LassoRegression_Objective:\n"
     ]
    },
    {
     "name": "stderr",
     "output_type": "stream",
     "text": [
      "  7%|██▋                                     | 531/8000 [00:33<07:53, 15.78it/s]\n",
      "60it [00:00, 592.45it/s]"
     ]
    },
    {
     "name": "stdout",
     "output_type": "stream",
     "text": [
      "iterations: 531\n",
      "Number of used features: 6\n",
      "Used features: ['num-p004-belly.nii.gz-0.500000', 'std-p004-belly.nii.gz-0.500000', 'kurt-p004-belly.nii.gz-0.500000', 'hist-1-p004-belly.nii.gz-0.500000', 'hist-2-p004-belly.nii.gz-0.500000', 'hist-12-p004-belly.nii.gz-0.500000'] \n",
      "Score: -0.8697705574800138\n"
     ]
    },
    {
     "name": "stderr",
     "output_type": "stream",
     "text": [
      "200it [00:00, 593.41it/s]\n",
      "  0%|                                                  | 0/8000 [00:00<?, ?it/s]"
     ]
    },
    {
     "name": "stdout",
     "output_type": "stream",
     "text": [
      "1\n",
      "1 0.8727711288932819\n",
      "Objective RidgeRegression_Objective:\n"
     ]
    },
    {
     "name": "stderr",
     "output_type": "stream",
     "text": [
      "  8%|███▎                                    | 669/8000 [00:38<06:59, 17.47it/s]\n",
      "72it [00:00, 717.16it/s]"
     ]
    },
    {
     "name": "stdout",
     "output_type": "stream",
     "text": [
      "iterations: 669\n",
      "Number of used features: 4\n",
      "Used features: ['num-p004-belly.nii.gz-0.500000', 'hist-3-p004-belly.nii.gz-0.500000', 'hist-10-p004-belly.nii.gz-0.500000', 'hist-12-p004-belly.nii.gz-0.500000'] \n",
      "Score: -0.8619110358301525\n"
     ]
    },
    {
     "name": "stderr",
     "output_type": "stream",
     "text": [
      "200it [00:00, 717.36it/s]\n",
      "  0%|                                                  | 0/8000 [00:00<?, ?it/s]"
     ]
    },
    {
     "name": "stdout",
     "output_type": "stream",
     "text": [
      "1\n",
      "1 0.8637831569941172\n",
      "Objective PLSRegression_Objective:\n"
     ]
    },
    {
     "name": "stderr",
     "output_type": "stream",
     "text": [
      "  7%|██▊                                     | 570/8000 [00:21<04:42, 26.31it/s]\n",
      "81it [00:00, 801.78it/s]"
     ]
    },
    {
     "name": "stdout",
     "output_type": "stream",
     "text": [
      "iterations: 570\n",
      "Number of used features: 6\n",
      "Used features: ['num-p004-belly.nii.gz-0.500000', 'sum-p004-belly.nii.gz-0.500000', 'mean-p004-belly.nii.gz-0.500000', 'std-p004-belly.nii.gz-0.500000', 'skew-p004-belly.nii.gz-0.500000', 'hist-12-p004-belly.nii.gz-0.500000'] \n",
      "Score: -0.8597831724361954\n"
     ]
    },
    {
     "name": "stderr",
     "output_type": "stream",
     "text": [
      "200it [00:00, 802.10it/s]\n",
      "  0%|                                                  | 0/8000 [00:00<?, ?it/s]"
     ]
    },
    {
     "name": "stdout",
     "output_type": "stream",
     "text": [
      "1\n",
      "1 0.8645550928144056\n",
      "Objective KNNR_Objective:\n"
     ]
    },
    {
     "name": "stderr",
     "output_type": "stream",
     "text": [
      "  8%|███▎                                    | 659/8000 [00:59<11:07, 10.99it/s]\n",
      "81it [00:00, 804.30it/s]"
     ]
    },
    {
     "name": "stdout",
     "output_type": "stream",
     "text": [
      "iterations: 659\n",
      "Number of used features: 4\n",
      "Used features: ['num-p029-belly.nii.gz-0.500000', 'hist-2-p029-belly.nii.gz-0.500000', 'hist-9-p029-belly.nii.gz-0.500000', 'hist-12-p029-belly.nii.gz-0.500000'] \n",
      "Score: -0.8621320229259538\n"
     ]
    },
    {
     "name": "stderr",
     "output_type": "stream",
     "text": [
      "200it [00:00, 802.16it/s]\n",
      "  0%|                                                  | 0/8000 [00:00<?, ?it/s]"
     ]
    },
    {
     "name": "stdout",
     "output_type": "stream",
     "text": [
      "1\n",
      "1 0.8820434158591154\n",
      "Objective LinearRegression_Objective:\n"
     ]
    },
    {
     "name": "stderr",
     "output_type": "stream",
     "text": [
      "  6%|██▌                                     | 515/8000 [00:06<01:36, 77.69it/s]\n",
      "101it [00:00, 1001.17it/s]"
     ]
    },
    {
     "name": "stdout",
     "output_type": "stream",
     "text": [
      "iterations: 515\n",
      "Number of used features: 6\n",
      "Used features: ['num-p029-belly.nii.gz-0.500000', 'std-p029-belly.nii.gz-0.500000', 'hist-0-p029-belly.nii.gz-0.500000', 'hist-6-p029-belly.nii.gz-0.500000', 'hist-8-p029-belly.nii.gz-0.500000', 'hist-9-p029-belly.nii.gz-0.500000'] \n",
      "Score: -0.8932880552601491\n"
     ]
    },
    {
     "name": "stderr",
     "output_type": "stream",
     "text": [
      "200it [00:00, 999.05it/s] \n",
      "  0%|                                                  | 0/8000 [00:00<?, ?it/s]"
     ]
    },
    {
     "name": "stdout",
     "output_type": "stream",
     "text": [
      "1\n",
      "1 0.8967957018893087\n",
      "Objective LassoRegression_Objective:\n"
     ]
    },
    {
     "name": "stderr",
     "output_type": "stream",
     "text": [
      " 12%|████▉                                   | 986/8000 [00:56<06:38, 17.59it/s]\n",
      "65it [00:00, 645.05it/s]"
     ]
    },
    {
     "name": "stdout",
     "output_type": "stream",
     "text": [
      "iterations: 986\n",
      "Number of used features: 5\n",
      "Used features: ['num-p029-belly.nii.gz-0.500000', 'skew-p029-belly.nii.gz-0.500000', 'hist-0-p029-belly.nii.gz-0.500000', 'hist-9-p029-belly.nii.gz-0.500000', 'hist-12-p029-belly.nii.gz-0.500000'] \n",
      "Score: -0.8985576728648056\n"
     ]
    },
    {
     "name": "stderr",
     "output_type": "stream",
     "text": [
      "200it [00:00, 641.00it/s]\n",
      "  0%|                                                  | 0/8000 [00:00<?, ?it/s]"
     ]
    },
    {
     "name": "stdout",
     "output_type": "stream",
     "text": [
      "1\n",
      "1 0.9014193329899495\n",
      "Objective RidgeRegression_Objective:\n"
     ]
    },
    {
     "name": "stderr",
     "output_type": "stream",
     "text": [
      "  7%|██▋                                     | 542/8000 [00:28<06:35, 18.86it/s]\n",
      "72it [00:00, 718.19it/s]"
     ]
    },
    {
     "name": "stdout",
     "output_type": "stream",
     "text": [
      "iterations: 542\n",
      "Number of used features: 5\n",
      "Used features: ['num-p029-belly.nii.gz-0.500000', 'std-p029-belly.nii.gz-0.500000', 'hist-1-p029-belly.nii.gz-0.500000', 'hist-9-p029-belly.nii.gz-0.500000', 'hist-12-p029-belly.nii.gz-0.500000'] \n",
      "Score: -0.9011974592237266\n"
     ]
    },
    {
     "name": "stderr",
     "output_type": "stream",
     "text": [
      "200it [00:00, 716.21it/s]\n",
      "  0%|                                                  | 0/8000 [00:00<?, ?it/s]"
     ]
    },
    {
     "name": "stdout",
     "output_type": "stream",
     "text": [
      "1\n",
      "1 0.9036222420806035\n",
      "Objective PLSRegression_Objective:\n"
     ]
    },
    {
     "name": "stderr",
     "output_type": "stream",
     "text": [
      "  7%|██▋                                     | 544/8000 [00:19<04:23, 28.30it/s]\n",
      "69it [00:00, 688.53it/s]"
     ]
    },
    {
     "name": "stdout",
     "output_type": "stream",
     "text": [
      "iterations: 544\n",
      "Number of used features: 5\n",
      "Used features: ['num-p029-belly.nii.gz-0.500000', 'std-p029-belly.nii.gz-0.500000', 'hist-0-p029-belly.nii.gz-0.500000', 'hist-5-p029-belly.nii.gz-0.500000', 'hist-12-p029-belly.nii.gz-0.500000'] \n",
      "Score: -0.8990678389387754\n"
     ]
    },
    {
     "name": "stderr",
     "output_type": "stream",
     "text": [
      "200it [00:00, 688.93it/s]\n",
      "  0%|                                                  | 0/8000 [00:00<?, ?it/s]"
     ]
    },
    {
     "name": "stdout",
     "output_type": "stream",
     "text": [
      "1\n",
      "1 0.9016232235978447\n",
      "Objective KNNR_Objective:\n"
     ]
    },
    {
     "name": "stderr",
     "output_type": "stream",
     "text": [
      " 12%|████▌                                   | 922/8000 [01:26<11:00, 10.71it/s]\n",
      "83it [00:00, 826.90it/s]"
     ]
    },
    {
     "name": "stdout",
     "output_type": "stream",
     "text": [
      "iterations: 922\n",
      "Number of used features: 1\n",
      "Used features: ['num-p032-belly.nii.gz-0.500000'] \n",
      "Score: -0.8714711454041982\n"
     ]
    },
    {
     "name": "stderr",
     "output_type": "stream",
     "text": [
      "200it [00:00, 816.29it/s]\n",
      "  0%|                                                  | 0/8000 [00:00<?, ?it/s]"
     ]
    },
    {
     "name": "stdout",
     "output_type": "stream",
     "text": [
      "1\n",
      "1 0.8859881555564564\n",
      "Objective LinearRegression_Objective:\n"
     ]
    },
    {
     "name": "stderr",
     "output_type": "stream",
     "text": [
      "  7%|██▊                                     | 567/8000 [00:10<02:13, 55.64it/s]\n",
      "100it [00:00, 994.29it/s]"
     ]
    },
    {
     "name": "stdout",
     "output_type": "stream",
     "text": [
      "iterations: 567\n",
      "Number of used features: 7\n",
      "Used features: ['num-p032-belly.nii.gz-0.500000', 'std-p032-belly.nii.gz-0.500000', 'hist-0-p032-belly.nii.gz-0.500000', 'hist-2-p032-belly.nii.gz-0.500000', 'hist-5-p032-belly.nii.gz-0.500000', 'hist-10-p032-belly.nii.gz-0.500000', 'hist-19-p032-belly.nii.gz-0.500000'] \n",
      "Score: -0.9292988118857426\n"
     ]
    },
    {
     "name": "stderr",
     "output_type": "stream",
     "text": [
      "200it [00:00, 984.82it/s]\n",
      "  0%|                                                  | 0/8000 [00:00<?, ?it/s]"
     ]
    },
    {
     "name": "stdout",
     "output_type": "stream",
     "text": [
      "1\n",
      "1 0.9286149332468968\n",
      "Objective LassoRegression_Objective:\n"
     ]
    },
    {
     "name": "stderr",
     "output_type": "stream",
     "text": [
      "  6%|██▌                                     | 520/8000 [00:29<07:10, 17.38it/s]\n",
      "65it [00:00, 641.09it/s]"
     ]
    },
    {
     "name": "stdout",
     "output_type": "stream",
     "text": [
      "iterations: 520\n",
      "Number of used features: 6\n",
      "Used features: ['num-p032-belly.nii.gz-0.500000', 'std-p032-belly.nii.gz-0.500000', 'hist-0-p032-belly.nii.gz-0.500000', 'hist-2-p032-belly.nii.gz-0.500000', 'hist-12-p032-belly.nii.gz-0.500000', 'hist-19-p032-belly.nii.gz-0.500000'] \n",
      "Score: -0.9218927081622019\n"
     ]
    },
    {
     "name": "stderr",
     "output_type": "stream",
     "text": [
      "200it [00:00, 637.02it/s]\n",
      "  0%|                                                  | 0/8000 [00:00<?, ?it/s]"
     ]
    },
    {
     "name": "stdout",
     "output_type": "stream",
     "text": [
      "1\n",
      "1 0.9189851881977008\n",
      "Objective RidgeRegression_Objective:\n"
     ]
    },
    {
     "name": "stderr",
     "output_type": "stream",
     "text": [
      " 10%|███▉                                    | 790/8000 [00:50<07:44, 15.53it/s]\n",
      "71it [00:00, 702.61it/s]"
     ]
    },
    {
     "name": "stdout",
     "output_type": "stream",
     "text": [
      "iterations: 790\n",
      "Number of used features: 7\n",
      "Used features: ['num-p032-belly.nii.gz-0.500000', 'std-p032-belly.nii.gz-0.500000', 'hist-0-p032-belly.nii.gz-0.500000', 'hist-2-p032-belly.nii.gz-0.500000', 'hist-5-p032-belly.nii.gz-0.500000', 'hist-10-p032-belly.nii.gz-0.500000', 'hist-19-p032-belly.nii.gz-0.500000'] \n",
      "Score: -0.9296527156254302\n"
     ]
    },
    {
     "name": "stderr",
     "output_type": "stream",
     "text": [
      "200it [00:00, 705.61it/s]\n",
      "  0%|                                                  | 0/8000 [00:00<?, ?it/s]"
     ]
    },
    {
     "name": "stdout",
     "output_type": "stream",
     "text": [
      "1\n",
      "1 0.9291137375888463\n",
      "Objective PLSRegression_Objective:\n"
     ]
    },
    {
     "name": "stderr",
     "output_type": "stream",
     "text": [
      "  8%|███                                     | 606/8000 [00:27<05:32, 22.23it/s]\n",
      "66it [00:00, 651.24it/s]"
     ]
    },
    {
     "name": "stdout",
     "output_type": "stream",
     "text": [
      "iterations: 606\n",
      "Number of used features: 7\n",
      "Used features: ['num-p032-belly.nii.gz-0.500000', 'std-p032-belly.nii.gz-0.500000', 'hist-0-p032-belly.nii.gz-0.500000', 'hist-2-p032-belly.nii.gz-0.500000', 'hist-5-p032-belly.nii.gz-0.500000', 'hist-10-p032-belly.nii.gz-0.500000', 'hist-18-p032-belly.nii.gz-0.500000'] \n",
      "Score: -0.9262268875797809\n"
     ]
    },
    {
     "name": "stderr",
     "output_type": "stream",
     "text": [
      "200it [00:00, 644.96it/s]\n",
      "  0%|                                                  | 0/8000 [00:00<?, ?it/s]"
     ]
    },
    {
     "name": "stdout",
     "output_type": "stream",
     "text": [
      "1\n",
      "1 0.9268589912581378\n",
      "Objective KNNR_Objective:\n"
     ]
    },
    {
     "name": "stderr",
     "output_type": "stream",
     "text": [
      " 14%|█████▌                                 | 1150/8000 [01:48<10:47, 10.57it/s]\n",
      "78it [00:00, 774.25it/s]"
     ]
    },
    {
     "name": "stdout",
     "output_type": "stream",
     "text": [
      "iterations: 1150\n",
      "Number of used features: 8\n",
      "Used features: ['num-p041-belly.nii.gz-0.500000', 'hist-4-p041-belly.nii.gz-0.500000', 'hist-7-p041-belly.nii.gz-0.500000', 'hist-8-p041-belly.nii.gz-0.500000', 'hist-9-p041-belly.nii.gz-0.500000', 'hist-10-p041-belly.nii.gz-0.500000', 'hist-12-p041-belly.nii.gz-0.500000', 'hist-13-p041-belly.nii.gz-0.500000'] \n",
      "Score: -0.8400489078452553\n"
     ]
    },
    {
     "name": "stderr",
     "output_type": "stream",
     "text": [
      "200it [00:00, 769.61it/s]\n",
      "  0%|                                                  | 0/8000 [00:00<?, ?it/s]"
     ]
    },
    {
     "name": "stdout",
     "output_type": "stream",
     "text": [
      "1\n",
      "1 0.8503104029604304\n",
      "Objective LinearRegression_Objective:\n"
     ]
    },
    {
     "name": "stderr",
     "output_type": "stream",
     "text": [
      "  6%|██▌                                     | 508/8000 [00:06<01:30, 82.77it/s]\n",
      "96it [00:00, 959.77it/s]"
     ]
    },
    {
     "name": "stdout",
     "output_type": "stream",
     "text": [
      "iterations: 508\n",
      "Number of used features: 4\n",
      "Used features: ['num-p041-belly.nii.gz-0.500000', 'std-p041-belly.nii.gz-0.500000', 'hist-4-p041-belly.nii.gz-0.500000', 'hist-9-p041-belly.nii.gz-0.500000'] \n",
      "Score: -0.8871255741240188\n"
     ]
    },
    {
     "name": "stderr",
     "output_type": "stream",
     "text": [
      "200it [00:00, 953.22it/s]\n",
      "  0%|                                                  | 0/8000 [00:00<?, ?it/s]"
     ]
    },
    {
     "name": "stdout",
     "output_type": "stream",
     "text": [
      "1\n",
      "1 0.8903874356590504\n",
      "Objective LassoRegression_Objective:\n"
     ]
    },
    {
     "name": "stderr",
     "output_type": "stream",
     "text": [
      "  7%|██▉                                     | 593/8000 [00:41<08:39, 14.27it/s]\n",
      "64it [00:00, 639.22it/s]"
     ]
    },
    {
     "name": "stdout",
     "output_type": "stream",
     "text": [
      "iterations: 593\n",
      "Number of used features: 4\n",
      "Used features: ['num-p041-belly.nii.gz-0.500000', 'skew-p041-belly.nii.gz-0.500000', 'hist-3-p041-belly.nii.gz-0.500000', 'hist-9-p041-belly.nii.gz-0.500000'] \n",
      "Score: -0.8936856004743576\n"
     ]
    },
    {
     "name": "stderr",
     "output_type": "stream",
     "text": [
      "200it [00:00, 642.73it/s]\n",
      "  0%|                                                  | 0/8000 [00:00<?, ?it/s]"
     ]
    },
    {
     "name": "stdout",
     "output_type": "stream",
     "text": [
      "1\n",
      "1 0.8968847340465623\n",
      "Objective RidgeRegression_Objective:\n"
     ]
    },
    {
     "name": "stderr",
     "output_type": "stream",
     "text": [
      " 12%|████▉                                   | 977/8000 [00:43<05:13, 22.43it/s]\n",
      "71it [00:00, 705.47it/s]"
     ]
    },
    {
     "name": "stdout",
     "output_type": "stream",
     "text": [
      "iterations: 977\n",
      "Number of used features: 5\n",
      "Used features: ['num-p041-belly.nii.gz-0.500000', 'std-p041-belly.nii.gz-0.500000', 'hist-4-p041-belly.nii.gz-0.500000', 'hist-10-p041-belly.nii.gz-0.500000', 'hist-14-p041-belly.nii.gz-0.500000'] \n",
      "Score: -0.8943074526827974\n"
     ]
    },
    {
     "name": "stderr",
     "output_type": "stream",
     "text": [
      "200it [00:00, 696.68it/s]\n",
      "  0%|                                                  | 0/8000 [00:00<?, ?it/s]"
     ]
    },
    {
     "name": "stdout",
     "output_type": "stream",
     "text": [
      "1\n",
      "1 0.8984446705891368\n",
      "Objective PLSRegression_Objective:\n"
     ]
    },
    {
     "name": "stderr",
     "output_type": "stream",
     "text": [
      " 10%|███▉                                    | 779/8000 [00:39<06:10, 19.49it/s]\n",
      "69it [00:00, 688.14it/s]"
     ]
    },
    {
     "name": "stdout",
     "output_type": "stream",
     "text": [
      "iterations: 779\n",
      "Number of used features: 7\n",
      "Used features: ['num-p041-belly.nii.gz-0.500000', 'sum-p041-belly.nii.gz-0.500000', 'std-p041-belly.nii.gz-0.500000', 'skew-p041-belly.nii.gz-0.500000', 'kurt-p041-belly.nii.gz-0.500000', 'hist-3-p041-belly.nii.gz-0.500000', 'hist-6-p041-belly.nii.gz-0.500000'] \n",
      "Score: -0.901487721216709\n"
     ]
    },
    {
     "name": "stderr",
     "output_type": "stream",
     "text": [
      "200it [00:00, 686.66it/s]\n",
      "  0%|                                                  | 0/8000 [00:00<?, ?it/s]"
     ]
    },
    {
     "name": "stdout",
     "output_type": "stream",
     "text": [
      "1\n",
      "1 0.9038014691914067\n",
      "Objective KNNR_Objective:\n"
     ]
    },
    {
     "name": "stderr",
     "output_type": "stream",
     "text": [
      " 10%|████                                    | 820/8000 [01:21<11:53, 10.06it/s]\n",
      "80it [00:00, 798.46it/s]"
     ]
    },
    {
     "name": "stdout",
     "output_type": "stream",
     "text": [
      "iterations: 820\n",
      "Number of used features: 8\n",
      "Used features: ['num-p048-belly.nii.gz-0.500000', 'hist-0-p048-belly.nii.gz-0.500000', 'hist-6-p048-belly.nii.gz-0.500000', 'hist-8-p048-belly.nii.gz-0.500000', 'hist-11-p048-belly.nii.gz-0.500000', 'hist-12-p048-belly.nii.gz-0.500000', 'hist-17-p048-belly.nii.gz-0.500000', 'hist-19-p048-belly.nii.gz-0.500000'] \n",
      "Score: -0.8542263902912773\n"
     ]
    },
    {
     "name": "stderr",
     "output_type": "stream",
     "text": [
      "200it [00:00, 796.17it/s]\n",
      "  0%|                                                  | 0/8000 [00:00<?, ?it/s]"
     ]
    },
    {
     "name": "stdout",
     "output_type": "stream",
     "text": [
      "1\n",
      "1 0.8711444268829858\n",
      "Objective LinearRegression_Objective:\n"
     ]
    },
    {
     "name": "stderr",
     "output_type": "stream",
     "text": [
      "  7%|██▋                                     | 548/8000 [00:09<02:11, 56.74it/s]\n",
      "97it [00:00, 963.34it/s]"
     ]
    },
    {
     "name": "stdout",
     "output_type": "stream",
     "text": [
      "iterations: 548\n",
      "Number of used features: 5\n",
      "Used features: ['num-p048-belly.nii.gz-0.500000', 'kurt-p048-belly.nii.gz-0.500000', 'hist-4-p048-belly.nii.gz-0.500000', 'hist-10-p048-belly.nii.gz-0.500000', 'hist-17-p048-belly.nii.gz-0.500000'] \n",
      "Score: -0.8560050953991364\n"
     ]
    },
    {
     "name": "stderr",
     "output_type": "stream",
     "text": [
      "200it [00:00, 959.41it/s]\n",
      "  0%|                                                  | 0/8000 [00:00<?, ?it/s]"
     ]
    },
    {
     "name": "stdout",
     "output_type": "stream",
     "text": [
      "1\n",
      "1 0.8591720449900299\n",
      "Objective LassoRegression_Objective:\n"
     ]
    },
    {
     "name": "stderr",
     "output_type": "stream",
     "text": [
      "  7%|██▋                                     | 548/8000 [00:34<07:47, 15.94it/s]\n",
      "62it [00:00, 619.23it/s]"
     ]
    },
    {
     "name": "stdout",
     "output_type": "stream",
     "text": [
      "iterations: 548\n",
      "Number of used features: 4\n",
      "Used features: ['num-p048-belly.nii.gz-0.500000', 'hist-1-p048-belly.nii.gz-0.500000', 'hist-10-p048-belly.nii.gz-0.500000', 'hist-12-p048-belly.nii.gz-0.500000'] \n",
      "Score: -0.863314943616986\n"
     ]
    },
    {
     "name": "stderr",
     "output_type": "stream",
     "text": [
      "200it [00:00, 617.74it/s]\n",
      "  0%|                                                  | 0/8000 [00:00<?, ?it/s]"
     ]
    },
    {
     "name": "stdout",
     "output_type": "stream",
     "text": [
      "1\n",
      "1 0.8604307265690697\n",
      "Objective RidgeRegression_Objective:\n"
     ]
    },
    {
     "name": "stderr",
     "output_type": "stream",
     "text": [
      " 10%|███▉                                    | 779/8000 [00:56<08:42, 13.82it/s]\n",
      "71it [00:00, 706.15it/s]"
     ]
    },
    {
     "name": "stdout",
     "output_type": "stream",
     "text": [
      "iterations: 779\n",
      "Number of used features: 8\n",
      "Used features: ['mean-p048-belly.nii.gz-0.500000', 'std-p048-belly.nii.gz-0.500000', 'hist-1-p048-belly.nii.gz-0.500000', 'hist-2-p048-belly.nii.gz-0.500000', 'hist-3-p048-belly.nii.gz-0.500000', 'hist-10-p048-belly.nii.gz-0.500000', 'hist-12-p048-belly.nii.gz-0.500000', 'hist-13-p048-belly.nii.gz-0.500000'] \n",
      "Score: -0.8872357123425308\n"
     ]
    },
    {
     "name": "stderr",
     "output_type": "stream",
     "text": [
      "200it [00:00, 708.03it/s]\n",
      "  0%|                                                  | 0/8000 [00:00<?, ?it/s]"
     ]
    },
    {
     "name": "stdout",
     "output_type": "stream",
     "text": [
      "1\n",
      "1 0.8851529534912131\n",
      "Objective PLSRegression_Objective:\n"
     ]
    },
    {
     "name": "stderr",
     "output_type": "stream",
     "text": [
      " 16%|██████▏                                | 1271/8000 [00:55<04:53, 22.93it/s]\n",
      "65it [00:00, 648.27it/s]"
     ]
    },
    {
     "name": "stdout",
     "output_type": "stream",
     "text": [
      "iterations: 1271\n",
      "Number of used features: 8\n",
      "Used features: ['sum-p048-belly.nii.gz-0.500000', 'skew-p048-belly.nii.gz-0.500000', 'kurt-p048-belly.nii.gz-0.500000', 'hist-1-p048-belly.nii.gz-0.500000', 'hist-2-p048-belly.nii.gz-0.500000', 'hist-10-p048-belly.nii.gz-0.500000', 'hist-12-p048-belly.nii.gz-0.500000', 'hist-14-p048-belly.nii.gz-0.500000'] \n",
      "Score: -0.8731897933228021\n"
     ]
    },
    {
     "name": "stderr",
     "output_type": "stream",
     "text": [
      "200it [00:00, 647.60it/s]"
     ]
    },
    {
     "name": "stdout",
     "output_type": "stream",
     "text": [
      "1\n",
      "1 0.8735519683030296\n"
     ]
    },
    {
     "name": "stderr",
     "output_type": "stream",
     "text": [
      "\n"
     ]
    }
   ],
   "source": [
    "for m in masks:\n",
    "    results.append(model_selection(belly_features[[c for c in belly_features.columns if m in c or c == 'type']], belly_target, dataset='belly', type=m))"
   ]
  },
  {
   "cell_type": "markdown",
   "metadata": {},
   "source": [
    "### groin using all features"
   ]
  },
  {
   "cell_type": "code",
   "execution_count": 18,
   "metadata": {},
   "outputs": [
    {
     "name": "stderr",
     "output_type": "stream",
     "text": [
      "\r",
      "  0%|                                                  | 0/8000 [00:00<?, ?it/s]"
     ]
    },
    {
     "name": "stdout",
     "output_type": "stream",
     "text": [
      "Objective KNNR_Objective:\n"
     ]
    },
    {
     "name": "stderr",
     "output_type": "stream",
     "text": [
      " 21%|███████▉                               | 1641/8000 [03:33<13:47,  7.68it/s]\n",
      "75it [00:00, 742.54it/s]"
     ]
    },
    {
     "name": "stdout",
     "output_type": "stream",
     "text": [
      "iterations: 1641\n",
      "Number of used features: 25\n",
      "Used features: ['std-p004-groin.nii.gz-0.500000', 'hist-12-p004-groin.nii.gz-0.500000', 'hist-16-p004-groin.nii.gz-0.500000', 'num-p029-groin.nii.gz-0.500000', 'sum-p029-groin.nii.gz-0.500000', 'hist-9-p029-groin.nii.gz-0.500000', 'hist-10-p029-groin.nii.gz-0.500000', 'hist-15-p029-groin.nii.gz-0.500000', 'hist-16-p029-groin.nii.gz-0.500000', 'num-p032-groin.nii.gz-0.500000', 'sum-p032-groin.nii.gz-0.500000', 'hist-6-p032-groin.nii.gz-0.500000', 'hist-9-p032-groin.nii.gz-0.500000', 'hist-16-p032-groin.nii.gz-0.500000', 'sum-p041-groin.nii.gz-0.500000', 'hist-19-p041-groin.nii.gz-0.500000', 'skew-p048-groin.nii.gz-0.500000', 'kurt-p048-groin.nii.gz-0.500000', 'hist-1-p048-groin.nii.gz-0.500000', 'hist-3-p048-groin.nii.gz-0.500000', 'hist-8-p048-groin.nii.gz-0.500000', 'hist-15-p048-groin.nii.gz-0.500000', 'hist-17-p048-groin.nii.gz-0.500000', 'hist-19-p048-groin.nii.gz-0.500000', 'hist-19-0.500000-mean_mask'] \n",
      "Score: -0.676971772867668\n"
     ]
    },
    {
     "name": "stderr",
     "output_type": "stream",
     "text": [
      "200it [00:00, 747.36it/s]\n",
      "  0%|                                                  | 0/8000 [00:00<?, ?it/s]"
     ]
    },
    {
     "name": "stdout",
     "output_type": "stream",
     "text": [
      "1\n",
      "1 0.6980701417654878\n",
      "Objective LinearRegression_Objective:\n"
     ]
    },
    {
     "name": "stderr",
     "output_type": "stream",
     "text": [
      " 14%|█████▍                                 | 1108/8000 [01:30<09:22, 12.26it/s]\n",
      "88it [00:00, 879.39it/s]"
     ]
    },
    {
     "name": "stdout",
     "output_type": "stream",
     "text": [
      "iterations: 1108\n",
      "Number of used features: 20\n",
      "Used features: ['kurt-p004-groin.nii.gz-0.500000', 'hist-12-p004-groin.nii.gz-0.500000', 'num-p029-groin.nii.gz-0.500000', 'hist-0-p029-groin.nii.gz-0.500000', 'hist-2-p029-groin.nii.gz-0.500000', 'hist-10-p029-groin.nii.gz-0.500000', 'hist-17-p029-groin.nii.gz-0.500000', 'sum-p032-groin.nii.gz-0.500000', 'hist-4-p032-groin.nii.gz-0.500000', 'hist-19-p032-groin.nii.gz-0.500000', 'kurt-p041-groin.nii.gz-0.500000', 'hist-3-p041-groin.nii.gz-0.500000', 'hist-19-p041-groin.nii.gz-0.500000', 'hist-8-p048-groin.nii.gz-0.500000', 'hist-10-p048-groin.nii.gz-0.500000', 'hist-11-p048-groin.nii.gz-0.500000', 'hist-19-p048-groin.nii.gz-0.500000', 'hist-4-0.500000-mean_mask', 'hist-14-0.500000-mean_mask', 'hist-19-0.500000-mean_mask'] \n",
      "Score: -0.8420245191967808\n"
     ]
    },
    {
     "name": "stderr",
     "output_type": "stream",
     "text": [
      "200it [00:00, 883.02it/s]\n",
      "  0%|                                                  | 0/8000 [00:00<?, ?it/s]"
     ]
    },
    {
     "name": "stdout",
     "output_type": "stream",
     "text": [
      "1\n",
      "1 0.86157707877711\n",
      "Objective LassoRegression_Objective:\n"
     ]
    },
    {
     "name": "stderr",
     "output_type": "stream",
     "text": [
      " 13%|█████▎                                 | 1078/8000 [02:56<18:51,  6.12it/s]\n",
      "59it [00:00, 586.39it/s]"
     ]
    },
    {
     "name": "stdout",
     "output_type": "stream",
     "text": [
      "iterations: 1078\n",
      "Number of used features: 16\n",
      "Used features: ['hist-17-p004-groin.nii.gz-0.500000', 'hist-2-p029-groin.nii.gz-0.500000', 'hist-4-p029-groin.nii.gz-0.500000', 'num-p032-groin.nii.gz-0.500000', 'hist-12-p032-groin.nii.gz-0.500000', 'hist-14-p032-groin.nii.gz-0.500000', 'skew-p041-groin.nii.gz-0.500000', 'hist-17-p041-groin.nii.gz-0.500000', 'hist-8-p048-groin.nii.gz-0.500000', 'hist-10-p048-groin.nii.gz-0.500000', 'hist-11-p048-groin.nii.gz-0.500000', 'hist-13-p048-groin.nii.gz-0.500000', 'hist-18-p048-groin.nii.gz-0.500000', 'hist-19-p048-groin.nii.gz-0.500000', 'hist-0-0.500000-mean_mask', 'hist-12-0.500000-mean_mask'] \n",
      "Score: -0.8885054482051342\n"
     ]
    },
    {
     "name": "stderr",
     "output_type": "stream",
     "text": [
      "200it [00:00, 579.97it/s]\n",
      "  0%|                                                  | 0/8000 [00:00<?, ?it/s]"
     ]
    },
    {
     "name": "stdout",
     "output_type": "stream",
     "text": [
      "1\n",
      "1 0.9059098324713576\n",
      "Objective RidgeRegression_Objective:\n"
     ]
    },
    {
     "name": "stderr",
     "output_type": "stream",
     "text": [
      " 36%|█████████████▉                         | 2855/8000 [07:58<14:22,  5.97it/s]\n",
      "49it [00:00, 484.23it/s]"
     ]
    },
    {
     "name": "stdout",
     "output_type": "stream",
     "text": [
      "iterations: 2855\n",
      "Number of used features: 24\n",
      "Used features: ['hist-12-p004-groin.nii.gz-0.500000', 'hist-15-p004-groin.nii.gz-0.500000', 'hist-16-p004-groin.nii.gz-0.500000', 'hist-2-p029-groin.nii.gz-0.500000', 'hist-3-p029-groin.nii.gz-0.500000', 'hist-11-p029-groin.nii.gz-0.500000', 'hist-15-p029-groin.nii.gz-0.500000', 'hist-16-p029-groin.nii.gz-0.500000', 'hist-6-p032-groin.nii.gz-0.500000', 'hist-11-p032-groin.nii.gz-0.500000', 'hist-12-p032-groin.nii.gz-0.500000', 'hist-19-p032-groin.nii.gz-0.500000', 'hist-8-p041-groin.nii.gz-0.500000', 'hist-16-p041-groin.nii.gz-0.500000', 'hist-17-p041-groin.nii.gz-0.500000', 'sum-p048-groin.nii.gz-0.500000', 'hist-1-p048-groin.nii.gz-0.500000', 'hist-8-p048-groin.nii.gz-0.500000', 'hist-10-p048-groin.nii.gz-0.500000', 'hist-11-p048-groin.nii.gz-0.500000', 'hist-12-p048-groin.nii.gz-0.500000', 'hist-2-0.500000-mean_mask', 'hist-9-0.500000-mean_mask', 'hist-14-0.500000-mean_mask'] \n",
      "Score: -0.9444392435967687\n"
     ]
    },
    {
     "name": "stderr",
     "output_type": "stream",
     "text": [
      "200it [00:00, 481.00it/s]\n",
      "  0%|                                                  | 0/8000 [00:00<?, ?it/s]"
     ]
    },
    {
     "name": "stdout",
     "output_type": "stream",
     "text": [
      "1\n",
      "1 0.9543430650277877\n",
      "Objective PLSRegression_Objective:\n"
     ]
    },
    {
     "name": "stderr",
     "output_type": "stream",
     "text": [
      " 20%|███████▉                               | 1629/8000 [03:44<14:37,  7.26it/s]\n",
      "78it [00:00, 779.26it/s]"
     ]
    },
    {
     "name": "stdout",
     "output_type": "stream",
     "text": [
      "iterations: 1629\n",
      "Number of used features: 25\n",
      "Used features: ['hist-2-p004-groin.nii.gz-0.500000', 'hist-5-p004-groin.nii.gz-0.500000', 'hist-8-p004-groin.nii.gz-0.500000', 'hist-12-p004-groin.nii.gz-0.500000', 'hist-18-p004-groin.nii.gz-0.500000', 'hist-1-p029-groin.nii.gz-0.500000', 'hist-2-p029-groin.nii.gz-0.500000', 'hist-5-p029-groin.nii.gz-0.500000', 'hist-8-p029-groin.nii.gz-0.500000', 'hist-12-p029-groin.nii.gz-0.500000', 'hist-5-p032-groin.nii.gz-0.500000', 'hist-19-p032-groin.nii.gz-0.500000', 'hist-5-p041-groin.nii.gz-0.500000', 'hist-19-p041-groin.nii.gz-0.500000', 'std-p048-groin.nii.gz-0.500000', 'kurt-p048-groin.nii.gz-0.500000', 'hist-5-p048-groin.nii.gz-0.500000', 'hist-11-p048-groin.nii.gz-0.500000', 'hist-14-p048-groin.nii.gz-0.500000', 'hist-16-p048-groin.nii.gz-0.500000', 'hist-17-p048-groin.nii.gz-0.500000', 'hist-19-p048-groin.nii.gz-0.500000', 'sum-0.500000-mean_mask', 'hist-5-0.500000-mean_mask', 'hist-19-0.500000-mean_mask'] \n",
      "Score: -0.7400742515353941\n"
     ]
    },
    {
     "name": "stderr",
     "output_type": "stream",
     "text": [
      "200it [00:00, 777.43it/s]"
     ]
    },
    {
     "name": "stdout",
     "output_type": "stream",
     "text": [
      "1\n",
      "1 0.7403908792829689\n"
     ]
    },
    {
     "name": "stderr",
     "output_type": "stream",
     "text": [
      "\n"
     ]
    }
   ],
   "source": [
    "results.append(model_selection(groin_features, groin_target, dataset='groin', type='all'))"
   ]
  },
  {
   "cell_type": "markdown",
   "metadata": {},
   "source": [
    "### groin using the mean mask features"
   ]
  },
  {
   "cell_type": "code",
   "execution_count": 19,
   "metadata": {},
   "outputs": [
    {
     "name": "stderr",
     "output_type": "stream",
     "text": [
      "\r",
      "  0%|                                                  | 0/8000 [00:00<?, ?it/s]"
     ]
    },
    {
     "name": "stdout",
     "output_type": "stream",
     "text": [
      "Objective KNNR_Objective:\n"
     ]
    },
    {
     "name": "stderr",
     "output_type": "stream",
     "text": [
      " 11%|████▌                                   | 911/8000 [01:34<12:12,  9.68it/s]\n",
      "79it [00:00, 784.69it/s]"
     ]
    },
    {
     "name": "stdout",
     "output_type": "stream",
     "text": [
      "iterations: 911\n",
      "Number of used features: 8\n",
      "Used features: ['hist-1-0.500000-mean_mask', 'hist-7-0.500000-mean_mask', 'hist-8-0.500000-mean_mask', 'hist-9-0.500000-mean_mask', 'hist-10-0.500000-mean_mask', 'hist-12-0.500000-mean_mask', 'hist-17-0.500000-mean_mask', 'hist-19-0.500000-mean_mask'] \n",
      "Score: -0.5967325717137868\n"
     ]
    },
    {
     "name": "stderr",
     "output_type": "stream",
     "text": [
      "200it [00:00, 785.89it/s]\n",
      "  0%|                                                  | 0/8000 [00:00<?, ?it/s]"
     ]
    },
    {
     "name": "stdout",
     "output_type": "stream",
     "text": [
      "1\n",
      "1 0.6490773363249672\n",
      "Objective LinearRegression_Objective:\n"
     ]
    },
    {
     "name": "stderr",
     "output_type": "stream",
     "text": [
      "  8%|███▏                                    | 629/8000 [00:20<03:54, 31.37it/s]\n",
      "100it [00:00, 998.70it/s]"
     ]
    },
    {
     "name": "stdout",
     "output_type": "stream",
     "text": [
      "iterations: 629\n",
      "Number of used features: 7\n",
      "Used features: ['num-0.500000-mean_mask', 'sum-0.500000-mean_mask', 'hist-6-0.500000-mean_mask', 'hist-10-0.500000-mean_mask', 'hist-11-0.500000-mean_mask', 'hist-17-0.500000-mean_mask', 'hist-19-0.500000-mean_mask'] \n",
      "Score: -0.7149120551680042\n"
     ]
    },
    {
     "name": "stderr",
     "output_type": "stream",
     "text": [
      "200it [00:00, 991.65it/s]\n",
      "  0%|                                                  | 0/8000 [00:00<?, ?it/s]"
     ]
    },
    {
     "name": "stdout",
     "output_type": "stream",
     "text": [
      "1\n",
      "1 0.7155919490581133\n",
      "Objective LassoRegression_Objective:\n"
     ]
    },
    {
     "name": "stderr",
     "output_type": "stream",
     "text": [
      "  7%|██▊                                     | 569/8000 [00:45<09:52, 12.54it/s]\n",
      "63it [00:00, 628.35it/s]"
     ]
    },
    {
     "name": "stdout",
     "output_type": "stream",
     "text": [
      "iterations: 569\n",
      "Number of used features: 7\n",
      "Used features: ['hist-2-0.500000-mean_mask', 'hist-8-0.500000-mean_mask', 'hist-10-0.500000-mean_mask', 'hist-11-0.500000-mean_mask', 'hist-12-0.500000-mean_mask', 'hist-14-0.500000-mean_mask', 'hist-17-0.500000-mean_mask'] \n",
      "Score: -0.685438387093851\n"
     ]
    },
    {
     "name": "stderr",
     "output_type": "stream",
     "text": [
      "200it [00:00, 630.96it/s]\n",
      "  0%|                                                  | 0/8000 [00:00<?, ?it/s]"
     ]
    },
    {
     "name": "stdout",
     "output_type": "stream",
     "text": [
      "1\n",
      "1 0.702604000839953\n",
      "Objective RidgeRegression_Objective:\n"
     ]
    },
    {
     "name": "stderr",
     "output_type": "stream",
     "text": [
      "  9%|███▍                                    | 693/8000 [00:45<08:04, 15.08it/s]\n",
      "72it [00:00, 712.92it/s]"
     ]
    },
    {
     "name": "stdout",
     "output_type": "stream",
     "text": [
      "iterations: 693\n",
      "Number of used features: 6\n",
      "Used features: ['num-0.500000-mean_mask', 'hist-8-0.500000-mean_mask', 'hist-10-0.500000-mean_mask', 'hist-11-0.500000-mean_mask', 'hist-12-0.500000-mean_mask', 'hist-17-0.500000-mean_mask'] \n",
      "Score: -0.6934857263223448\n"
     ]
    },
    {
     "name": "stderr",
     "output_type": "stream",
     "text": [
      "200it [00:00, 702.55it/s]\n",
      "  0%|                                                  | 0/8000 [00:00<?, ?it/s]"
     ]
    },
    {
     "name": "stdout",
     "output_type": "stream",
     "text": [
      "1\n",
      "1 0.7042038823578866\n",
      "Objective PLSRegression_Objective:\n"
     ]
    },
    {
     "name": "stderr",
     "output_type": "stream",
     "text": [
      " 10%|███▊                                    | 773/8000 [00:44<07:00, 17.18it/s]\n",
      "66it [00:00, 653.99it/s]"
     ]
    },
    {
     "name": "stdout",
     "output_type": "stream",
     "text": [
      "iterations: 773\n",
      "Number of used features: 7\n",
      "Used features: ['num-0.500000-mean_mask', 'mean-0.500000-mean_mask', 'hist-6-0.500000-mean_mask', 'hist-10-0.500000-mean_mask', 'hist-11-0.500000-mean_mask', 'hist-17-0.500000-mean_mask', 'hist-19-0.500000-mean_mask'] \n",
      "Score: -0.7085013357182505\n"
     ]
    },
    {
     "name": "stderr",
     "output_type": "stream",
     "text": [
      "200it [00:00, 649.85it/s]"
     ]
    },
    {
     "name": "stdout",
     "output_type": "stream",
     "text": [
      "1\n",
      "1 0.7097093204055982\n"
     ]
    },
    {
     "name": "stderr",
     "output_type": "stream",
     "text": [
      "\n"
     ]
    }
   ],
   "source": [
    "results.append(model_selection(groin_features[[c for c in groin_features.columns if 'mean_mask' in c or c == 'type']], groin_target, dataset='groin', type='mean_mask'))"
   ]
  },
  {
   "cell_type": "markdown",
   "metadata": {},
   "source": [
    "### groin using the features of the individual masks"
   ]
  },
  {
   "cell_type": "code",
   "execution_count": 20,
   "metadata": {},
   "outputs": [
    {
     "name": "stderr",
     "output_type": "stream",
     "text": [
      "\r",
      "  0%|                                                  | 0/8000 [00:00<?, ?it/s]"
     ]
    },
    {
     "name": "stdout",
     "output_type": "stream",
     "text": [
      "Objective KNNR_Objective:\n"
     ]
    },
    {
     "name": "stderr",
     "output_type": "stream",
     "text": [
      " 17%|██████▌                                | 1346/8000 [02:20<11:35,  9.57it/s]\n",
      "77it [00:00, 767.70it/s]"
     ]
    },
    {
     "name": "stdout",
     "output_type": "stream",
     "text": [
      "iterations: 1346\n",
      "Number of used features: 11\n",
      "Used features: ['num-p004-groin.nii.gz-0.500000', 'std-p004-groin.nii.gz-0.500000', 'skew-p004-groin.nii.gz-0.500000', 'kurt-p004-groin.nii.gz-0.500000', 'hist-4-p004-groin.nii.gz-0.500000', 'hist-10-p004-groin.nii.gz-0.500000', 'hist-11-p004-groin.nii.gz-0.500000', 'hist-12-p004-groin.nii.gz-0.500000', 'hist-13-p004-groin.nii.gz-0.500000', 'hist-14-p004-groin.nii.gz-0.500000', 'hist-18-p004-groin.nii.gz-0.500000'] \n",
      "Score: -0.4933352596621958\n"
     ]
    },
    {
     "name": "stderr",
     "output_type": "stream",
     "text": [
      "200it [00:00, 765.01it/s]\n",
      "  0%|                                                  | 0/8000 [00:00<?, ?it/s]"
     ]
    },
    {
     "name": "stdout",
     "output_type": "stream",
     "text": [
      "1\n",
      "1 0.5196602576938099\n",
      "Objective LinearRegression_Objective:\n"
     ]
    },
    {
     "name": "stderr",
     "output_type": "stream",
     "text": [
      "  7%|██▋                                     | 546/8000 [00:09<02:12, 56.27it/s]\n",
      "97it [00:00, 962.77it/s]"
     ]
    },
    {
     "name": "stdout",
     "output_type": "stream",
     "text": [
      "iterations: 546\n",
      "Number of used features: 6\n",
      "Used features: ['std-p004-groin.nii.gz-0.500000', 'kurt-p004-groin.nii.gz-0.500000', 'hist-5-p004-groin.nii.gz-0.500000', 'hist-8-p004-groin.nii.gz-0.500000', 'hist-10-p004-groin.nii.gz-0.500000', 'hist-12-p004-groin.nii.gz-0.500000'] \n",
      "Score: -0.5890953160809019\n"
     ]
    },
    {
     "name": "stderr",
     "output_type": "stream",
     "text": [
      "200it [00:00, 957.88it/s]\n",
      "  0%|                                                  | 0/8000 [00:00<?, ?it/s]"
     ]
    },
    {
     "name": "stdout",
     "output_type": "stream",
     "text": [
      "1\n",
      "1 0.6023809246598122\n",
      "Objective LassoRegression_Objective:\n"
     ]
    },
    {
     "name": "stderr",
     "output_type": "stream",
     "text": [
      "  9%|███▍                                    | 682/8000 [00:50<09:03, 13.47it/s]\n",
      "61it [00:00, 604.72it/s]"
     ]
    },
    {
     "name": "stdout",
     "output_type": "stream",
     "text": [
      "iterations: 682\n",
      "Number of used features: 10\n",
      "Used features: ['mean-p004-groin.nii.gz-0.500000', 'kurt-p004-groin.nii.gz-0.500000', 'hist-5-p004-groin.nii.gz-0.500000', 'hist-8-p004-groin.nii.gz-0.500000', 'hist-9-p004-groin.nii.gz-0.500000', 'hist-12-p004-groin.nii.gz-0.500000', 'hist-13-p004-groin.nii.gz-0.500000', 'hist-14-p004-groin.nii.gz-0.500000', 'hist-15-p004-groin.nii.gz-0.500000', 'hist-17-p004-groin.nii.gz-0.500000'] \n",
      "Score: -0.628746105112373\n"
     ]
    },
    {
     "name": "stderr",
     "output_type": "stream",
     "text": [
      "200it [00:00, 602.05it/s]\n",
      "  0%|                                                  | 0/8000 [00:00<?, ?it/s]"
     ]
    },
    {
     "name": "stdout",
     "output_type": "stream",
     "text": [
      "1\n",
      "1 0.6558638112104471\n",
      "Objective RidgeRegression_Objective:\n"
     ]
    },
    {
     "name": "stderr",
     "output_type": "stream",
     "text": [
      "  7%|██▋                                     | 547/8000 [00:30<07:02, 17.65it/s]\n",
      "70it [00:00, 695.56it/s]"
     ]
    },
    {
     "name": "stdout",
     "output_type": "stream",
     "text": [
      "iterations: 547\n",
      "Number of used features: 7\n",
      "Used features: ['std-p004-groin.nii.gz-0.500000', 'kurt-p004-groin.nii.gz-0.500000', 'hist-0-p004-groin.nii.gz-0.500000', 'hist-1-p004-groin.nii.gz-0.500000', 'hist-8-p004-groin.nii.gz-0.500000', 'hist-9-p004-groin.nii.gz-0.500000', 'hist-12-p004-groin.nii.gz-0.500000'] \n",
      "Score: -0.5924199421453717\n"
     ]
    },
    {
     "name": "stderr",
     "output_type": "stream",
     "text": [
      "200it [00:00, 692.03it/s]\n",
      "  0%|                                                  | 0/8000 [00:00<?, ?it/s]"
     ]
    },
    {
     "name": "stdout",
     "output_type": "stream",
     "text": [
      "1\n",
      "1 0.6002465618459876\n",
      "Objective PLSRegression_Objective:\n"
     ]
    },
    {
     "name": "stderr",
     "output_type": "stream",
     "text": [
      "  8%|███                                     | 616/8000 [00:27<05:30, 22.33it/s]\n",
      "79it [00:00, 781.53it/s]"
     ]
    },
    {
     "name": "stdout",
     "output_type": "stream",
     "text": [
      "iterations: 616\n",
      "Number of used features: 6\n",
      "Used features: ['hist-2-p004-groin.nii.gz-0.500000', 'hist-4-p004-groin.nii.gz-0.500000', 'hist-5-p004-groin.nii.gz-0.500000', 'hist-8-p004-groin.nii.gz-0.500000', 'hist-12-p004-groin.nii.gz-0.500000', 'hist-17-p004-groin.nii.gz-0.500000'] \n",
      "Score: -0.5781848694470123\n"
     ]
    },
    {
     "name": "stderr",
     "output_type": "stream",
     "text": [
      "200it [00:00, 778.45it/s]\n",
      "  0%|                                                  | 0/8000 [00:00<?, ?it/s]"
     ]
    },
    {
     "name": "stdout",
     "output_type": "stream",
     "text": [
      "1\n",
      "1 0.5749804901100808\n",
      "Objective KNNR_Objective:\n"
     ]
    },
    {
     "name": "stderr",
     "output_type": "stream",
     "text": [
      "  7%|██▋                                     | 547/8000 [00:56<12:52,  9.65it/s]\n",
      "80it [00:00, 793.74it/s]"
     ]
    },
    {
     "name": "stdout",
     "output_type": "stream",
     "text": [
      "iterations: 547\n",
      "Number of used features: 4\n",
      "Used features: ['num-p029-groin.nii.gz-0.500000', 'hist-1-p029-groin.nii.gz-0.500000', 'hist-9-p029-groin.nii.gz-0.500000', 'hist-17-p029-groin.nii.gz-0.500000'] \n",
      "Score: -0.5650451287974305\n"
     ]
    },
    {
     "name": "stderr",
     "output_type": "stream",
     "text": [
      "200it [00:00, 789.23it/s]\n",
      "  0%|                                                  | 0/8000 [00:00<?, ?it/s]"
     ]
    },
    {
     "name": "stdout",
     "output_type": "stream",
     "text": [
      "1\n",
      "1 0.5705717225297092\n",
      "Objective LinearRegression_Objective:\n"
     ]
    },
    {
     "name": "stderr",
     "output_type": "stream",
     "text": [
      "  7%|██▊                                     | 572/8000 [00:15<03:25, 36.07it/s]\n",
      "98it [00:00, 978.12it/s]"
     ]
    },
    {
     "name": "stdout",
     "output_type": "stream",
     "text": [
      "iterations: 572\n",
      "Number of used features: 4\n",
      "Used features: ['num-p029-groin.nii.gz-0.500000', 'hist-1-p029-groin.nii.gz-0.500000', 'hist-12-p029-groin.nii.gz-0.500000', 'hist-17-p029-groin.nii.gz-0.500000'] \n",
      "Score: -0.620764763078913\n"
     ]
    },
    {
     "name": "stderr",
     "output_type": "stream",
     "text": [
      "200it [00:00, 966.58it/s]\n",
      "  0%|                                                  | 0/8000 [00:00<?, ?it/s]"
     ]
    },
    {
     "name": "stdout",
     "output_type": "stream",
     "text": [
      "1\n",
      "1 0.6266325465519516\n",
      "Objective LassoRegression_Objective:\n"
     ]
    },
    {
     "name": "stderr",
     "output_type": "stream",
     "text": [
      " 11%|████▌                                   | 911/8000 [01:07<08:42, 13.56it/s]\n",
      "64it [00:00, 632.58it/s]"
     ]
    },
    {
     "name": "stdout",
     "output_type": "stream",
     "text": [
      "iterations: 911\n",
      "Number of used features: 6\n",
      "Used features: ['num-p029-groin.nii.gz-0.500000', 'hist-8-p029-groin.nii.gz-0.500000', 'hist-10-p029-groin.nii.gz-0.500000', 'hist-11-p029-groin.nii.gz-0.500000', 'hist-12-p029-groin.nii.gz-0.500000', 'hist-17-p029-groin.nii.gz-0.500000'] \n",
      "Score: -0.732837243532614\n"
     ]
    },
    {
     "name": "stderr",
     "output_type": "stream",
     "text": [
      "200it [00:00, 629.70it/s]\n",
      "  0%|                                                  | 0/8000 [00:00<?, ?it/s]"
     ]
    },
    {
     "name": "stdout",
     "output_type": "stream",
     "text": [
      "1\n",
      "1 0.7436647759678108\n",
      "Objective RidgeRegression_Objective:\n"
     ]
    },
    {
     "name": "stderr",
     "output_type": "stream",
     "text": [
      "  9%|███▍                                    | 693/8000 [00:45<08:02, 15.16it/s]\n",
      "71it [00:00, 700.92it/s]"
     ]
    },
    {
     "name": "stdout",
     "output_type": "stream",
     "text": [
      "iterations: 693\n",
      "Number of used features: 10\n",
      "Used features: ['sum-p029-groin.nii.gz-0.500000', 'hist-2-p029-groin.nii.gz-0.500000', 'hist-8-p029-groin.nii.gz-0.500000', 'hist-10-p029-groin.nii.gz-0.500000', 'hist-11-p029-groin.nii.gz-0.500000', 'hist-12-p029-groin.nii.gz-0.500000', 'hist-14-p029-groin.nii.gz-0.500000', 'hist-16-p029-groin.nii.gz-0.500000', 'hist-17-p029-groin.nii.gz-0.500000', 'hist-19-p029-groin.nii.gz-0.500000'] \n",
      "Score: -0.7574797150669172\n"
     ]
    },
    {
     "name": "stderr",
     "output_type": "stream",
     "text": [
      "200it [00:00, 703.43it/s]\n",
      "  0%|                                                  | 0/8000 [00:00<?, ?it/s]"
     ]
    },
    {
     "name": "stdout",
     "output_type": "stream",
     "text": [
      "1\n",
      "1 0.7754156332207189\n",
      "Objective PLSRegression_Objective:\n"
     ]
    },
    {
     "name": "stderr",
     "output_type": "stream",
     "text": [
      "  7%|██▊                                     | 569/8000 [00:31<06:52, 18.04it/s]\n",
      "63it [00:00, 625.25it/s]"
     ]
    },
    {
     "name": "stdout",
     "output_type": "stream",
     "text": [
      "iterations: 569\n",
      "Number of used features: 7\n",
      "Used features: ['num-p029-groin.nii.gz-0.500000', 'hist-8-p029-groin.nii.gz-0.500000', 'hist-10-p029-groin.nii.gz-0.500000', 'hist-11-p029-groin.nii.gz-0.500000', 'hist-12-p029-groin.nii.gz-0.500000', 'hist-17-p029-groin.nii.gz-0.500000', 'hist-19-p029-groin.nii.gz-0.500000'] \n",
      "Score: -0.7314279900249343\n"
     ]
    },
    {
     "name": "stderr",
     "output_type": "stream",
     "text": [
      "200it [00:00, 618.97it/s]\n",
      "  0%|                                                  | 0/8000 [00:00<?, ?it/s]"
     ]
    },
    {
     "name": "stdout",
     "output_type": "stream",
     "text": [
      "1\n",
      "1 0.7427984224511783\n",
      "Objective KNNR_Objective:\n"
     ]
    },
    {
     "name": "stderr",
     "output_type": "stream",
     "text": [
      "  7%|██▌                                     | 521/8000 [00:53<12:43,  9.79it/s]\n",
      "80it [00:00, 796.58it/s]"
     ]
    },
    {
     "name": "stdout",
     "output_type": "stream",
     "text": [
      "iterations: 521\n",
      "Number of used features: 5\n",
      "Used features: ['num-p032-groin.nii.gz-0.500000', 'hist-4-p032-groin.nii.gz-0.500000', 'hist-9-p032-groin.nii.gz-0.500000', 'hist-10-p032-groin.nii.gz-0.500000', 'hist-19-p032-groin.nii.gz-0.500000'] \n",
      "Score: -0.5108593510851104\n"
     ]
    },
    {
     "name": "stderr",
     "output_type": "stream",
     "text": [
      "200it [00:00, 798.09it/s]\n",
      "  0%|                                                  | 0/8000 [00:00<?, ?it/s]"
     ]
    },
    {
     "name": "stdout",
     "output_type": "stream",
     "text": [
      "1\n",
      "1 0.5395164165176525\n",
      "Objective LinearRegression_Objective:\n"
     ]
    },
    {
     "name": "stderr",
     "output_type": "stream",
     "text": [
      "  8%|███▏                                    | 629/8000 [00:20<03:58, 30.95it/s]\n",
      "99it [00:00, 987.04it/s]"
     ]
    },
    {
     "name": "stdout",
     "output_type": "stream",
     "text": [
      "iterations: 629\n",
      "Number of used features: 5\n",
      "Used features: ['num-p032-groin.nii.gz-0.500000', 'hist-8-p032-groin.nii.gz-0.500000', 'hist-10-p032-groin.nii.gz-0.500000', 'hist-11-p032-groin.nii.gz-0.500000', 'hist-12-p032-groin.nii.gz-0.500000'] \n",
      "Score: -0.6627775225154984\n"
     ]
    },
    {
     "name": "stderr",
     "output_type": "stream",
     "text": [
      "200it [00:00, 982.57it/s]\n",
      "  0%|                                                  | 0/8000 [00:00<?, ?it/s]"
     ]
    },
    {
     "name": "stdout",
     "output_type": "stream",
     "text": [
      "1\n",
      "1 0.6827164726290601\n",
      "Objective LassoRegression_Objective:\n"
     ]
    },
    {
     "name": "stderr",
     "output_type": "stream",
     "text": [
      " 11%|████▌                                   | 911/8000 [01:01<07:56, 14.89it/s]\n",
      "64it [00:00, 632.39it/s]"
     ]
    },
    {
     "name": "stdout",
     "output_type": "stream",
     "text": [
      "iterations: 911\n",
      "Number of used features: 6\n",
      "Used features: ['num-p032-groin.nii.gz-0.500000', 'hist-8-p032-groin.nii.gz-0.500000', 'hist-10-p032-groin.nii.gz-0.500000', 'hist-11-p032-groin.nii.gz-0.500000', 'hist-12-p032-groin.nii.gz-0.500000', 'hist-19-p032-groin.nii.gz-0.500000'] \n",
      "Score: -0.6627630145997463\n"
     ]
    },
    {
     "name": "stderr",
     "output_type": "stream",
     "text": [
      "200it [00:00, 622.06it/s]\n",
      "  0%|                                                  | 0/8000 [00:00<?, ?it/s]"
     ]
    },
    {
     "name": "stdout",
     "output_type": "stream",
     "text": [
      "1\n",
      "1 0.6826988403692519\n",
      "Objective RidgeRegression_Objective:\n"
     ]
    },
    {
     "name": "stderr",
     "output_type": "stream",
     "text": [
      " 12%|████▋                                   | 929/8000 [01:20<10:15, 11.49it/s]\n",
      "70it [00:00, 695.09it/s]"
     ]
    },
    {
     "name": "stdout",
     "output_type": "stream",
     "text": [
      "iterations: 929\n",
      "Number of used features: 10\n",
      "Used features: ['num-p032-groin.nii.gz-0.500000', 'sum-p032-groin.nii.gz-0.500000', 'skew-p032-groin.nii.gz-0.500000', 'hist-0-p032-groin.nii.gz-0.500000', 'hist-2-p032-groin.nii.gz-0.500000', 'hist-4-p032-groin.nii.gz-0.500000', 'hist-8-p032-groin.nii.gz-0.500000', 'hist-10-p032-groin.nii.gz-0.500000', 'hist-11-p032-groin.nii.gz-0.500000', 'hist-17-p032-groin.nii.gz-0.500000'] \n",
      "Score: -0.7207731168943912\n"
     ]
    },
    {
     "name": "stderr",
     "output_type": "stream",
     "text": [
      "200it [00:00, 691.53it/s]\n",
      "  0%|                                                  | 0/8000 [00:00<?, ?it/s]"
     ]
    },
    {
     "name": "stdout",
     "output_type": "stream",
     "text": [
      "1\n",
      "1 0.7376309909895774\n",
      "Objective PLSRegression_Objective:\n"
     ]
    },
    {
     "name": "stderr",
     "output_type": "stream",
     "text": [
      "  8%|███▎                                    | 671/8000 [00:41<07:33, 16.17it/s]\n",
      "78it [00:00, 778.38it/s]"
     ]
    },
    {
     "name": "stdout",
     "output_type": "stream",
     "text": [
      "iterations: 671\n",
      "Number of used features: 8\n",
      "Used features: ['num-p032-groin.nii.gz-0.500000', 'hist-3-p032-groin.nii.gz-0.500000', 'hist-4-p032-groin.nii.gz-0.500000', 'hist-5-p032-groin.nii.gz-0.500000', 'hist-8-p032-groin.nii.gz-0.500000', 'hist-11-p032-groin.nii.gz-0.500000', 'hist-17-p032-groin.nii.gz-0.500000', 'hist-19-p032-groin.nii.gz-0.500000'] \n",
      "Score: -0.5975884840195835\n"
     ]
    },
    {
     "name": "stderr",
     "output_type": "stream",
     "text": [
      "200it [00:00, 777.32it/s]\n",
      "  0%|                                                  | 0/8000 [00:00<?, ?it/s]"
     ]
    },
    {
     "name": "stdout",
     "output_type": "stream",
     "text": [
      "1\n",
      "1 0.6082765568853234\n",
      "Objective KNNR_Objective:\n"
     ]
    },
    {
     "name": "stderr",
     "output_type": "stream",
     "text": [
      " 14%|█████▎                                 | 1089/8000 [02:01<12:51,  8.96it/s]\n",
      "77it [00:00, 760.66it/s]"
     ]
    },
    {
     "name": "stdout",
     "output_type": "stream",
     "text": [
      "iterations: 1089\n",
      "Number of used features: 10\n",
      "Used features: ['num-p041-groin.nii.gz-0.500000', 'skew-p041-groin.nii.gz-0.500000', 'hist-4-p041-groin.nii.gz-0.500000', 'hist-6-p041-groin.nii.gz-0.500000', 'hist-8-p041-groin.nii.gz-0.500000', 'hist-9-p041-groin.nii.gz-0.500000', 'hist-10-p041-groin.nii.gz-0.500000', 'hist-11-p041-groin.nii.gz-0.500000', 'hist-12-p041-groin.nii.gz-0.500000', 'hist-17-p041-groin.nii.gz-0.500000'] \n",
      "Score: -0.6008067075805459\n"
     ]
    },
    {
     "name": "stderr",
     "output_type": "stream",
     "text": [
      "200it [00:00, 758.14it/s]\n",
      "  0%|                                          | 1/8000 [00:00<13:20,  9.99it/s]"
     ]
    },
    {
     "name": "stdout",
     "output_type": "stream",
     "text": [
      "1\n",
      "1 0.6467609253680846\n",
      "Objective LinearRegression_Objective:\n"
     ]
    },
    {
     "name": "stderr",
     "output_type": "stream",
     "text": [
      "  7%|██▊                                     | 551/8000 [00:14<03:13, 38.40it/s]\n",
      "98it [00:00, 971.82it/s]"
     ]
    },
    {
     "name": "stdout",
     "output_type": "stream",
     "text": [
      "iterations: 551\n",
      "Number of used features: 5\n",
      "Used features: ['hist-5-p041-groin.nii.gz-0.500000', 'hist-8-p041-groin.nii.gz-0.500000', 'hist-10-p041-groin.nii.gz-0.500000', 'hist-12-p041-groin.nii.gz-0.500000', 'hist-17-p041-groin.nii.gz-0.500000'] \n",
      "Score: -0.6383927386357333\n"
     ]
    },
    {
     "name": "stderr",
     "output_type": "stream",
     "text": [
      "200it [00:00, 966.67it/s]\n",
      "  0%|                                                  | 0/8000 [00:00<?, ?it/s]"
     ]
    },
    {
     "name": "stdout",
     "output_type": "stream",
     "text": [
      "1\n",
      "1 0.6430285286295165\n",
      "Objective LassoRegression_Objective:\n"
     ]
    },
    {
     "name": "stderr",
     "output_type": "stream",
     "text": [
      " 11%|████▌                                   | 911/8000 [01:12<09:25, 12.53it/s]\n",
      "63it [00:00, 627.34it/s]"
     ]
    },
    {
     "name": "stdout",
     "output_type": "stream",
     "text": [
      "iterations: 911\n",
      "Number of used features: 6\n",
      "Used features: ['hist-5-p041-groin.nii.gz-0.500000', 'hist-8-p041-groin.nii.gz-0.500000', 'hist-10-p041-groin.nii.gz-0.500000', 'hist-12-p041-groin.nii.gz-0.500000', 'hist-17-p041-groin.nii.gz-0.500000', 'hist-19-p041-groin.nii.gz-0.500000'] \n",
      "Score: -0.6383617481110457\n"
     ]
    },
    {
     "name": "stderr",
     "output_type": "stream",
     "text": [
      "200it [00:00, 631.84it/s]\n",
      "  0%|                                                  | 0/8000 [00:00<?, ?it/s]"
     ]
    },
    {
     "name": "stdout",
     "output_type": "stream",
     "text": [
      "1\n",
      "1 0.643017557768583\n",
      "Objective RidgeRegression_Objective:\n"
     ]
    },
    {
     "name": "stderr",
     "output_type": "stream",
     "text": [
      " 10%|███▊                                    | 761/8000 [00:55<08:47, 13.72it/s]\n",
      "72it [00:00, 710.42it/s]"
     ]
    },
    {
     "name": "stdout",
     "output_type": "stream",
     "text": [
      "iterations: 761\n",
      "Number of used features: 6\n",
      "Used features: ['sum-p041-groin.nii.gz-0.500000', 'hist-8-p041-groin.nii.gz-0.500000', 'hist-10-p041-groin.nii.gz-0.500000', 'hist-11-p041-groin.nii.gz-0.500000', 'hist-12-p041-groin.nii.gz-0.500000', 'hist-17-p041-groin.nii.gz-0.500000'] \n",
      "Score: -0.6572931919268798\n"
     ]
    },
    {
     "name": "stderr",
     "output_type": "stream",
     "text": [
      "200it [00:00, 709.61it/s]\n",
      "  0%|                                                  | 0/8000 [00:00<?, ?it/s]"
     ]
    },
    {
     "name": "stdout",
     "output_type": "stream",
     "text": [
      "1\n",
      "1 0.674593435454643\n",
      "Objective PLSRegression_Objective:\n"
     ]
    },
    {
     "name": "stderr",
     "output_type": "stream",
     "text": [
      " 11%|████▍                                   | 896/8000 [00:51<06:46, 17.47it/s]\n",
      "66it [00:00, 658.97it/s]"
     ]
    },
    {
     "name": "stdout",
     "output_type": "stream",
     "text": [
      "iterations: 896\n",
      "Number of used features: 7\n",
      "Used features: ['hist-0-p041-groin.nii.gz-0.500000', 'hist-2-p041-groin.nii.gz-0.500000', 'hist-4-p041-groin.nii.gz-0.500000', 'hist-5-p041-groin.nii.gz-0.500000', 'hist-6-p041-groin.nii.gz-0.500000', 'hist-7-p041-groin.nii.gz-0.500000', 'hist-17-p041-groin.nii.gz-0.500000'] \n",
      "Score: -0.5988815167565638\n"
     ]
    },
    {
     "name": "stderr",
     "output_type": "stream",
     "text": [
      "200it [00:00, 653.04it/s]\n",
      "  0%|                                                  | 0/8000 [00:00<?, ?it/s]"
     ]
    },
    {
     "name": "stdout",
     "output_type": "stream",
     "text": [
      "1\n",
      "1 0.6169817210657405\n",
      "Objective KNNR_Objective:\n"
     ]
    },
    {
     "name": "stderr",
     "output_type": "stream",
     "text": [
      " 19%|███████▌                               | 1551/8000 [02:39<11:05,  9.69it/s]\n",
      "79it [00:00, 789.27it/s]"
     ]
    },
    {
     "name": "stdout",
     "output_type": "stream",
     "text": [
      "iterations: 1551\n",
      "Number of used features: 8\n",
      "Used features: ['num-p048-groin.nii.gz-0.500000', 'sum-p048-groin.nii.gz-0.500000', 'mean-p048-groin.nii.gz-0.500000', 'hist-5-p048-groin.nii.gz-0.500000', 'hist-8-p048-groin.nii.gz-0.500000', 'hist-9-p048-groin.nii.gz-0.500000', 'hist-17-p048-groin.nii.gz-0.500000', 'hist-19-p048-groin.nii.gz-0.500000'] \n",
      "Score: -0.5784843050844948\n"
     ]
    },
    {
     "name": "stderr",
     "output_type": "stream",
     "text": [
      "200it [00:00, 788.13it/s]\n",
      "  0%|                                                  | 0/8000 [00:00<?, ?it/s]"
     ]
    },
    {
     "name": "stdout",
     "output_type": "stream",
     "text": [
      "1\n",
      "1 0.605432135867044\n",
      "Objective LinearRegression_Objective:\n"
     ]
    },
    {
     "name": "stderr",
     "output_type": "stream",
     "text": [
      "  9%|███▋                                    | 725/8000 [00:26<04:29, 27.04it/s]\n",
      "99it [00:00, 988.25it/s]"
     ]
    },
    {
     "name": "stdout",
     "output_type": "stream",
     "text": [
      "iterations: 725\n",
      "Number of used features: 8\n",
      "Used features: ['mean-p048-groin.nii.gz-0.500000', 'hist-0-p048-groin.nii.gz-0.500000', 'hist-8-p048-groin.nii.gz-0.500000', 'hist-10-p048-groin.nii.gz-0.500000', 'hist-11-p048-groin.nii.gz-0.500000', 'hist-14-p048-groin.nii.gz-0.500000', 'hist-17-p048-groin.nii.gz-0.500000', 'hist-19-p048-groin.nii.gz-0.500000'] \n",
      "Score: -0.7125198826718415\n"
     ]
    },
    {
     "name": "stderr",
     "output_type": "stream",
     "text": [
      "200it [00:00, 977.70it/s]\n",
      "  0%|                                                  | 0/8000 [00:00<?, ?it/s]"
     ]
    },
    {
     "name": "stdout",
     "output_type": "stream",
     "text": [
      "1\n",
      "1 0.7182597357612553\n",
      "Objective LassoRegression_Objective:\n"
     ]
    },
    {
     "name": "stderr",
     "output_type": "stream",
     "text": [
      "  9%|███▍                                    | 693/8000 [00:58<10:13, 11.92it/s]\n",
      "61it [00:00, 609.17it/s]"
     ]
    },
    {
     "name": "stdout",
     "output_type": "stream",
     "text": [
      "iterations: 693\n",
      "Number of used features: 7\n",
      "Used features: ['num-p048-groin.nii.gz-0.500000', 'sum-p048-groin.nii.gz-0.500000', 'std-p048-groin.nii.gz-0.500000', 'hist-6-p048-groin.nii.gz-0.500000', 'hist-10-p048-groin.nii.gz-0.500000', 'hist-11-p048-groin.nii.gz-0.500000', 'hist-17-p048-groin.nii.gz-0.500000'] \n",
      "Score: -0.7163483299090854\n"
     ]
    },
    {
     "name": "stderr",
     "output_type": "stream",
     "text": [
      "200it [00:00, 607.74it/s]\n",
      "  0%|                                                  | 0/8000 [00:00<?, ?it/s]"
     ]
    },
    {
     "name": "stdout",
     "output_type": "stream",
     "text": [
      "1\n",
      "1 0.7139315148364083\n",
      "Objective RidgeRegression_Objective:\n"
     ]
    },
    {
     "name": "stderr",
     "output_type": "stream",
     "text": [
      "  9%|███▍                                    | 693/8000 [00:51<09:03, 13.44it/s]\n",
      "69it [00:00, 682.42it/s]"
     ]
    },
    {
     "name": "stdout",
     "output_type": "stream",
     "text": [
      "iterations: 693\n",
      "Number of used features: 7\n",
      "Used features: ['mean-p048-groin.nii.gz-0.500000', 'std-p048-groin.nii.gz-0.500000', 'hist-1-p048-groin.nii.gz-0.500000', 'hist-8-p048-groin.nii.gz-0.500000', 'hist-10-p048-groin.nii.gz-0.500000', 'hist-11-p048-groin.nii.gz-0.500000', 'hist-17-p048-groin.nii.gz-0.500000'] \n",
      "Score: -0.7109095416140456\n"
     ]
    },
    {
     "name": "stderr",
     "output_type": "stream",
     "text": [
      "200it [00:00, 676.20it/s]\n",
      "  0%|                                                  | 0/8000 [00:00<?, ?it/s]"
     ]
    },
    {
     "name": "stdout",
     "output_type": "stream",
     "text": [
      "1\n",
      "1 0.7158666297731167\n",
      "Objective PLSRegression_Objective:\n"
     ]
    },
    {
     "name": "stderr",
     "output_type": "stream",
     "text": [
      " 10%|████                                    | 803/8000 [00:53<08:00, 14.97it/s]\n",
      "63it [00:00, 625.14it/s]"
     ]
    },
    {
     "name": "stdout",
     "output_type": "stream",
     "text": [
      "iterations: 803\n",
      "Number of used features: 8\n",
      "Used features: ['num-p048-groin.nii.gz-0.500000', 'sum-p048-groin.nii.gz-0.500000', 'hist-0-p048-groin.nii.gz-0.500000', 'hist-8-p048-groin.nii.gz-0.500000', 'hist-10-p048-groin.nii.gz-0.500000', 'hist-11-p048-groin.nii.gz-0.500000', 'hist-17-p048-groin.nii.gz-0.500000', 'hist-19-p048-groin.nii.gz-0.500000'] \n",
      "Score: -0.6902972731359991\n"
     ]
    },
    {
     "name": "stderr",
     "output_type": "stream",
     "text": [
      "200it [00:00, 618.66it/s]"
     ]
    },
    {
     "name": "stdout",
     "output_type": "stream",
     "text": [
      "1\n",
      "1 0.6998592789673966\n"
     ]
    },
    {
     "name": "stderr",
     "output_type": "stream",
     "text": [
      "\n"
     ]
    }
   ],
   "source": [
    "for m in masks:\n",
    "    results.append(model_selection(groin_features[[c for c in groin_features.columns if m in c or c == 'type']], groin_target, dataset='groin', type=m))"
   ]
  },
  {
   "cell_type": "markdown",
   "metadata": {},
   "source": [
    "### shoulder using all features"
   ]
  },
  {
   "cell_type": "code",
   "execution_count": 21,
   "metadata": {},
   "outputs": [
    {
     "name": "stderr",
     "output_type": "stream",
     "text": [
      "\r",
      "  0%|                                                  | 0/8000 [00:00<?, ?it/s]"
     ]
    },
    {
     "name": "stdout",
     "output_type": "stream",
     "text": [
      "Objective KNNR_Objective:\n"
     ]
    },
    {
     "name": "stderr",
     "output_type": "stream",
     "text": [
      " 11%|████▎                                   | 874/8000 [01:46<14:30,  8.19it/s]\n",
      "78it [00:00, 769.78it/s]"
     ]
    },
    {
     "name": "stdout",
     "output_type": "stream",
     "text": [
      "iterations: 874\n",
      "Number of used features: 12\n",
      "Used features: ['mean-p004-shoulder.nii.gz-0.500000', 'std-p004-shoulder.nii.gz-0.500000', 'hist-0-p004-shoulder.nii.gz-0.500000', 'num-p029-shoulder.nii.gz-0.500000', 'hist-2-p029-shoulder.nii.gz-0.500000', 'hist-8-p029-shoulder.nii.gz-0.500000', 'hist-11-p029-shoulder.nii.gz-0.500000', 'hist-14-p029-shoulder.nii.gz-0.500000', 'hist-14-p032-shoulder.nii.gz-0.500000', 'hist-3-p048-shoulder.nii.gz-0.500000', 'hist-8-p048-shoulder.nii.gz-0.500000', 'kurt-0.500000-mean_mask'] \n",
      "Score: -0.8314954513114325\n"
     ]
    },
    {
     "name": "stderr",
     "output_type": "stream",
     "text": [
      "200it [00:00, 768.71it/s]\n",
      "  0%|                                                  | 0/8000 [00:00<?, ?it/s]"
     ]
    },
    {
     "name": "stdout",
     "output_type": "stream",
     "text": [
      "1\n",
      "1 0.859836731739252\n",
      "Objective LinearRegression_Objective:\n"
     ]
    },
    {
     "name": "stderr",
     "output_type": "stream",
     "text": [
      " 28%|██████████▉                            | 2233/8000 [02:58<07:42, 12.48it/s]\n",
      "89it [00:00, 881.01it/s]"
     ]
    },
    {
     "name": "stdout",
     "output_type": "stream",
     "text": [
      "iterations: 2233\n",
      "Number of used features: 27\n",
      "Used features: ['Unnamed: 0', 'sum-p004-shoulder.nii.gz-0.500000', 'hist-0-p004-shoulder.nii.gz-0.500000', 'hist-1-p004-shoulder.nii.gz-0.500000', 'hist-10-p004-shoulder.nii.gz-0.500000', 'hist-17-p004-shoulder.nii.gz-0.500000', 'hist-18-p004-shoulder.nii.gz-0.500000', 'hist-19-p004-shoulder.nii.gz-0.500000', 'num-p029-shoulder.nii.gz-0.500000', 'hist-10-p029-shoulder.nii.gz-0.500000', 'hist-14-p029-shoulder.nii.gz-0.500000', 'hist-17-p029-shoulder.nii.gz-0.500000', 'hist-18-p029-shoulder.nii.gz-0.500000', 'mean-p032-shoulder.nii.gz-0.500000', 'hist-0-p032-shoulder.nii.gz-0.500000', 'hist-8-p032-shoulder.nii.gz-0.500000', 'hist-4-p041-shoulder.nii.gz-0.500000', 'hist-10-p041-shoulder.nii.gz-0.500000', 'hist-14-p041-shoulder.nii.gz-0.500000', 'hist-3-p048-shoulder.nii.gz-0.500000', 'hist-8-p048-shoulder.nii.gz-0.500000', 'hist-9-p048-shoulder.nii.gz-0.500000', 'hist-18-p048-shoulder.nii.gz-0.500000', 'hist-3-0.500000-mean_mask', 'hist-4-0.500000-mean_mask', 'hist-8-0.500000-mean_mask', 'hist-14-0.500000-mean_mask'] \n",
      "Score: -0.9940213947460415\n"
     ]
    },
    {
     "name": "stderr",
     "output_type": "stream",
     "text": [
      "200it [00:00, 859.02it/s]\n",
      "  0%|                                                  | 0/8000 [00:00<?, ?it/s]"
     ]
    },
    {
     "name": "stdout",
     "output_type": "stream",
     "text": [
      "1\n",
      "1 0.9961956905147935\n",
      "Objective LassoRegression_Objective:\n"
     ]
    },
    {
     "name": "stderr",
     "output_type": "stream",
     "text": [
      " 30%|███████████▊                           | 2430/8000 [07:54<18:07,  5.12it/s]\n",
      "37it [00:00, 363.84it/s]"
     ]
    },
    {
     "name": "stdout",
     "output_type": "stream",
     "text": [
      "iterations: 2430\n",
      "Number of used features: 26\n",
      "Used features: ['Unnamed: 0', 'mean-p004-shoulder.nii.gz-0.500000', 'hist-0-p004-shoulder.nii.gz-0.500000', 'hist-1-p004-shoulder.nii.gz-0.500000', 'hist-4-p004-shoulder.nii.gz-0.500000', 'hist-9-p004-shoulder.nii.gz-0.500000', 'hist-10-p004-shoulder.nii.gz-0.500000', 'hist-11-p004-shoulder.nii.gz-0.500000', 'hist-15-p004-shoulder.nii.gz-0.500000', 'hist-16-p004-shoulder.nii.gz-0.500000', 'num-p029-shoulder.nii.gz-0.500000', 'hist-14-p029-shoulder.nii.gz-0.500000', 'hist-15-p029-shoulder.nii.gz-0.500000', 'hist-19-p029-shoulder.nii.gz-0.500000', 'hist-1-p032-shoulder.nii.gz-0.500000', 'hist-15-p032-shoulder.nii.gz-0.500000', 'hist-18-p032-shoulder.nii.gz-0.500000', 'sum-p041-shoulder.nii.gz-0.500000', 'mean-p041-shoulder.nii.gz-0.500000', 'hist-11-p041-shoulder.nii.gz-0.500000', 'hist-16-p041-shoulder.nii.gz-0.500000', 'hist-0-p048-shoulder.nii.gz-0.500000', 'hist-10-p048-shoulder.nii.gz-0.500000', 'hist-17-p048-shoulder.nii.gz-0.500000', 'hist-18-p048-shoulder.nii.gz-0.500000', 'hist-11-0.500000-mean_mask'] \n",
      "Score: -0.9870546053827866\n"
     ]
    },
    {
     "name": "stderr",
     "output_type": "stream",
     "text": [
      "200it [00:00, 362.02it/s]\n",
      "  0%|                                                  | 0/8000 [00:00<?, ?it/s]"
     ]
    },
    {
     "name": "stdout",
     "output_type": "stream",
     "text": [
      "1\n",
      "1 0.9909185028540831\n",
      "Objective RidgeRegression_Objective:\n"
     ]
    },
    {
     "name": "stderr",
     "output_type": "stream",
     "text": [
      " 19%|███████▍                               | 1522/8000 [03:49<16:16,  6.63it/s]\n",
      "50it [00:00, 497.97it/s]"
     ]
    },
    {
     "name": "stdout",
     "output_type": "stream",
     "text": [
      "iterations: 1522\n",
      "Number of used features: 22\n",
      "Used features: ['hist-1-p004-shoulder.nii.gz-0.500000', 'hist-2-p004-shoulder.nii.gz-0.500000', 'hist-5-p004-shoulder.nii.gz-0.500000', 'hist-14-p004-shoulder.nii.gz-0.500000', 'hist-17-p029-shoulder.nii.gz-0.500000', 'hist-12-p032-shoulder.nii.gz-0.500000', 'hist-13-p032-shoulder.nii.gz-0.500000', 'hist-16-p032-shoulder.nii.gz-0.500000', 'hist-19-p032-shoulder.nii.gz-0.500000', 'sum-p041-shoulder.nii.gz-0.500000', 'mean-p041-shoulder.nii.gz-0.500000', 'std-p041-shoulder.nii.gz-0.500000', 'hist-3-p041-shoulder.nii.gz-0.500000', 'hist-10-p041-shoulder.nii.gz-0.500000', 'hist-12-p041-shoulder.nii.gz-0.500000', 'hist-0-p048-shoulder.nii.gz-0.500000', 'hist-1-p048-shoulder.nii.gz-0.500000', 'hist-11-p048-shoulder.nii.gz-0.500000', 'hist-13-p048-shoulder.nii.gz-0.500000', 'hist-1-0.500000-mean_mask', 'hist-4-0.500000-mean_mask', 'hist-13-0.500000-mean_mask'] \n",
      "Score: -0.987062392111681\n"
     ]
    },
    {
     "name": "stderr",
     "output_type": "stream",
     "text": [
      "200it [00:00, 497.24it/s]\n",
      "  0%|                                                  | 0/8000 [00:00<?, ?it/s]"
     ]
    },
    {
     "name": "stdout",
     "output_type": "stream",
     "text": [
      "1\n",
      "1 0.9893349210678095\n",
      "Objective PLSRegression_Objective:\n"
     ]
    },
    {
     "name": "stderr",
     "output_type": "stream",
     "text": [
      " 25%|█████████▋                             | 1982/8000 [04:41<14:13,  7.05it/s]\n",
      "70it [00:00, 693.35it/s]"
     ]
    },
    {
     "name": "stdout",
     "output_type": "stream",
     "text": [
      "iterations: 1982\n",
      "Number of used features: 32\n",
      "Used features: ['sum-p004-shoulder.nii.gz-0.500000', 'mean-p004-shoulder.nii.gz-0.500000', 'hist-1-p004-shoulder.nii.gz-0.500000', 'num-p029-shoulder.nii.gz-0.500000', 'std-p029-shoulder.nii.gz-0.500000', 'hist-12-p029-shoulder.nii.gz-0.500000', 'hist-14-p029-shoulder.nii.gz-0.500000', 'hist-13-p032-shoulder.nii.gz-0.500000', 'hist-14-p032-shoulder.nii.gz-0.500000', 'hist-16-p032-shoulder.nii.gz-0.500000', 'num-p041-shoulder.nii.gz-0.500000', 'hist-11-p041-shoulder.nii.gz-0.500000', 'hist-13-p041-shoulder.nii.gz-0.500000', 'hist-14-p041-shoulder.nii.gz-0.500000', 'hist-15-p041-shoulder.nii.gz-0.500000', 'sum-p048-shoulder.nii.gz-0.500000', 'mean-p048-shoulder.nii.gz-0.500000', 'std-p048-shoulder.nii.gz-0.500000', 'kurt-p048-shoulder.nii.gz-0.500000', 'hist-0-p048-shoulder.nii.gz-0.500000', 'hist-8-p048-shoulder.nii.gz-0.500000', 'hist-11-p048-shoulder.nii.gz-0.500000', 'hist-12-p048-shoulder.nii.gz-0.500000', 'hist-13-p048-shoulder.nii.gz-0.500000', 'hist-18-p048-shoulder.nii.gz-0.500000', 'mean-0.500000-mean_mask', 'skew-0.500000-mean_mask', 'hist-1-0.500000-mean_mask', 'hist-4-0.500000-mean_mask', 'hist-11-0.500000-mean_mask', 'hist-13-0.500000-mean_mask', 'hist-14-0.500000-mean_mask'] \n",
      "Score: -0.951648074832729\n"
     ]
    },
    {
     "name": "stderr",
     "output_type": "stream",
     "text": [
      "200it [00:00, 690.02it/s]"
     ]
    },
    {
     "name": "stdout",
     "output_type": "stream",
     "text": [
      "1\n",
      "1 0.9531471935681589\n"
     ]
    },
    {
     "name": "stderr",
     "output_type": "stream",
     "text": [
      "\n"
     ]
    }
   ],
   "source": [
    "results.append(model_selection(shoulder_features, shoulder_target, dataset='shoulder', type='all'))"
   ]
  },
  {
   "cell_type": "markdown",
   "metadata": {},
   "source": [
    "### shoulder using the mean mask features"
   ]
  },
  {
   "cell_type": "code",
   "execution_count": 22,
   "metadata": {},
   "outputs": [
    {
     "name": "stderr",
     "output_type": "stream",
     "text": [
      "\r",
      "  0%|                                                  | 0/8000 [00:00<?, ?it/s]"
     ]
    },
    {
     "name": "stdout",
     "output_type": "stream",
     "text": [
      "Objective KNNR_Objective:\n"
     ]
    },
    {
     "name": "stderr",
     "output_type": "stream",
     "text": [
      " 11%|████▍                                   | 891/8000 [01:30<12:02,  9.83it/s]\n",
      "77it [00:00, 767.71it/s]"
     ]
    },
    {
     "name": "stdout",
     "output_type": "stream",
     "text": [
      "iterations: 891\n",
      "Number of used features: 5\n",
      "Used features: ['num-0.500000-mean_mask', 'mean-0.500000-mean_mask', 'std-0.500000-mean_mask', 'hist-10-0.500000-mean_mask', 'hist-11-0.500000-mean_mask'] \n",
      "Score: -0.784241590513167\n"
     ]
    },
    {
     "name": "stderr",
     "output_type": "stream",
     "text": [
      "200it [00:00, 763.52it/s]\n",
      "  0%|                                          | 1/8000 [00:00<13:20,  9.99it/s]"
     ]
    },
    {
     "name": "stdout",
     "output_type": "stream",
     "text": [
      "1\n",
      "1 0.8271756167156248\n",
      "Objective LinearRegression_Objective:\n"
     ]
    },
    {
     "name": "stderr",
     "output_type": "stream",
     "text": [
      "  7%|██▋                                     | 543/8000 [00:08<01:58, 63.08it/s]\n",
      "98it [00:00, 974.70it/s]"
     ]
    },
    {
     "name": "stdout",
     "output_type": "stream",
     "text": [
      "iterations: 543\n",
      "Number of used features: 4\n",
      "Used features: ['num-0.500000-mean_mask', 'std-0.500000-mean_mask', 'hist-11-0.500000-mean_mask', 'hist-15-0.500000-mean_mask'] \n",
      "Score: -0.894849909814645\n"
     ]
    },
    {
     "name": "stderr",
     "output_type": "stream",
     "text": [
      "200it [00:00, 966.44it/s]\n",
      "  0%|                                                  | 0/8000 [00:00<?, ?it/s]"
     ]
    },
    {
     "name": "stdout",
     "output_type": "stream",
     "text": [
      "1\n",
      "1 0.8972179452400797\n",
      "Objective LassoRegression_Objective:\n"
     ]
    },
    {
     "name": "stderr",
     "output_type": "stream",
     "text": [
      "  7%|██▋                                     | 546/8000 [00:34<07:45, 16.02it/s]\n",
      "62it [00:00, 618.51it/s]"
     ]
    },
    {
     "name": "stdout",
     "output_type": "stream",
     "text": [
      "iterations: 546\n",
      "Number of used features: 4\n",
      "Used features: ['num-0.500000-mean_mask', 'std-0.500000-mean_mask', 'hist-11-0.500000-mean_mask', 'hist-15-0.500000-mean_mask'] \n",
      "Score: -0.8947513152998805\n"
     ]
    },
    {
     "name": "stderr",
     "output_type": "stream",
     "text": [
      "200it [00:00, 616.61it/s]\n",
      "  0%|                                                  | 0/8000 [00:00<?, ?it/s]"
     ]
    },
    {
     "name": "stdout",
     "output_type": "stream",
     "text": [
      "1\n",
      "1 0.8971404513764154\n",
      "Objective RidgeRegression_Objective:\n"
     ]
    },
    {
     "name": "stderr",
     "output_type": "stream",
     "text": [
      "  8%|███▏                                    | 638/8000 [00:38<07:19, 16.77it/s]\n",
      "72it [00:00, 716.50it/s]"
     ]
    },
    {
     "name": "stdout",
     "output_type": "stream",
     "text": [
      "iterations: 638\n",
      "Number of used features: 5\n",
      "Used features: ['num-0.500000-mean_mask', 'std-0.500000-mean_mask', 'hist-11-0.500000-mean_mask', 'hist-13-0.500000-mean_mask', 'hist-15-0.500000-mean_mask'] \n",
      "Score: -0.9005551795592919\n"
     ]
    },
    {
     "name": "stderr",
     "output_type": "stream",
     "text": [
      "200it [00:00, 719.40it/s]\n",
      "  0%|                                                  | 0/8000 [00:00<?, ?it/s]"
     ]
    },
    {
     "name": "stdout",
     "output_type": "stream",
     "text": [
      "1\n",
      "1 0.9012433932071573\n",
      "Objective PLSRegression_Objective:\n"
     ]
    },
    {
     "name": "stderr",
     "output_type": "stream",
     "text": [
      " 12%|████▉                                   | 987/8000 [01:01<07:14, 16.16it/s]\n",
      "81it [00:00, 809.15it/s]"
     ]
    },
    {
     "name": "stdout",
     "output_type": "stream",
     "text": [
      "iterations: 987\n",
      "Number of used features: 8\n",
      "Used features: ['num-0.500000-mean_mask', 'skew-0.500000-mean_mask', 'hist-1-0.500000-mean_mask', 'hist-4-0.500000-mean_mask', 'hist-11-0.500000-mean_mask', 'hist-13-0.500000-mean_mask', 'hist-15-0.500000-mean_mask', 'hist-16-0.500000-mean_mask'] \n",
      "Score: -0.9164024723597688\n"
     ]
    },
    {
     "name": "stderr",
     "output_type": "stream",
     "text": [
      "200it [00:00, 807.32it/s]"
     ]
    },
    {
     "name": "stdout",
     "output_type": "stream",
     "text": [
      "1\n",
      "1 0.9177386010934734\n"
     ]
    },
    {
     "name": "stderr",
     "output_type": "stream",
     "text": [
      "\n"
     ]
    }
   ],
   "source": [
    "results.append(model_selection(shoulder_features[[c for c in shoulder_features.columns if 'mean_mask' in c or c == 'type']], shoulder_target, dataset='shoulder', type='mean_mask'))"
   ]
  },
  {
   "cell_type": "markdown",
   "metadata": {},
   "source": [
    "### shoulder using the features of the individual masks"
   ]
  },
  {
   "cell_type": "code",
   "execution_count": 23,
   "metadata": {},
   "outputs": [
    {
     "name": "stderr",
     "output_type": "stream",
     "text": [
      "\r",
      "  0%|                                                  | 0/8000 [00:00<?, ?it/s]"
     ]
    },
    {
     "name": "stdout",
     "output_type": "stream",
     "text": [
      "Objective KNNR_Objective:\n"
     ]
    },
    {
     "name": "stderr",
     "output_type": "stream",
     "text": [
      "  9%|███▊                                    | 757/8000 [01:13<11:44, 10.28it/s]\n",
      "79it [00:00, 780.72it/s]"
     ]
    },
    {
     "name": "stdout",
     "output_type": "stream",
     "text": [
      "iterations: 757\n",
      "Number of used features: 7\n",
      "Used features: ['num-p004-shoulder.nii.gz-0.500000', 'mean-p004-shoulder.nii.gz-0.500000', 'std-p004-shoulder.nii.gz-0.500000', 'hist-9-p004-shoulder.nii.gz-0.500000', 'hist-10-p004-shoulder.nii.gz-0.500000', 'hist-12-p004-shoulder.nii.gz-0.500000', 'hist-15-p004-shoulder.nii.gz-0.500000'] \n",
      "Score: -0.7917122458692971\n"
     ]
    },
    {
     "name": "stderr",
     "output_type": "stream",
     "text": [
      "200it [00:00, 781.37it/s]\n",
      "  0%|                                                  | 0/8000 [00:00<?, ?it/s]"
     ]
    },
    {
     "name": "stdout",
     "output_type": "stream",
     "text": [
      "1\n",
      "1 0.8288623951623193\n",
      "Objective LinearRegression_Objective:\n"
     ]
    },
    {
     "name": "stderr",
     "output_type": "stream",
     "text": [
      " 10%|███▉                                    | 796/8000 [00:23<03:32, 33.95it/s]\n",
      "102it [00:00, 1013.26it/s]"
     ]
    },
    {
     "name": "stdout",
     "output_type": "stream",
     "text": [
      "iterations: 796\n",
      "Number of used features: 6\n",
      "Used features: ['num-p004-shoulder.nii.gz-0.500000', 'sum-p004-shoulder.nii.gz-0.500000', 'hist-1-p004-shoulder.nii.gz-0.500000', 'hist-2-p004-shoulder.nii.gz-0.500000', 'hist-12-p004-shoulder.nii.gz-0.500000', 'hist-16-p004-shoulder.nii.gz-0.500000'] \n",
      "Score: -0.9150393125017747\n"
     ]
    },
    {
     "name": "stderr",
     "output_type": "stream",
     "text": [
      "200it [00:00, 998.55it/s] \n",
      "  0%|                                                  | 0/8000 [00:00<?, ?it/s]"
     ]
    },
    {
     "name": "stdout",
     "output_type": "stream",
     "text": [
      "1\n",
      "1 0.9181095065102363\n",
      "Objective LassoRegression_Objective:\n"
     ]
    },
    {
     "name": "stderr",
     "output_type": "stream",
     "text": [
      "  9%|███▊                                    | 759/8000 [00:51<08:11, 14.72it/s]\n",
      "66it [00:00, 655.91it/s]"
     ]
    },
    {
     "name": "stdout",
     "output_type": "stream",
     "text": [
      "iterations: 759\n",
      "Number of used features: 4\n",
      "Used features: ['num-p004-shoulder.nii.gz-0.500000', 'mean-p004-shoulder.nii.gz-0.500000', 'hist-1-p004-shoulder.nii.gz-0.500000', 'hist-11-p004-shoulder.nii.gz-0.500000'] \n",
      "Score: -0.917868769373083\n"
     ]
    },
    {
     "name": "stderr",
     "output_type": "stream",
     "text": [
      "200it [00:00, 650.71it/s]\n",
      "  0%|                                                  | 0/8000 [00:00<?, ?it/s]"
     ]
    },
    {
     "name": "stdout",
     "output_type": "stream",
     "text": [
      "1\n",
      "1 0.9182474951909236\n",
      "Objective RidgeRegression_Objective:\n"
     ]
    },
    {
     "name": "stderr",
     "output_type": "stream",
     "text": [
      "  7%|██▉                                     | 594/8000 [00:34<07:14, 17.06it/s]\n",
      "72it [00:00, 714.75it/s]"
     ]
    },
    {
     "name": "stdout",
     "output_type": "stream",
     "text": [
      "iterations: 594\n",
      "Number of used features: 9\n",
      "Used features: ['num-p004-shoulder.nii.gz-0.500000', 'sum-p004-shoulder.nii.gz-0.500000', 'mean-p004-shoulder.nii.gz-0.500000', 'kurt-p004-shoulder.nii.gz-0.500000', 'hist-1-p004-shoulder.nii.gz-0.500000', 'hist-2-p004-shoulder.nii.gz-0.500000', 'hist-10-p004-shoulder.nii.gz-0.500000', 'hist-12-p004-shoulder.nii.gz-0.500000', 'hist-16-p004-shoulder.nii.gz-0.500000'] \n",
      "Score: -0.9176747276358289\n"
     ]
    },
    {
     "name": "stderr",
     "output_type": "stream",
     "text": [
      "200it [00:00, 709.77it/s]\n",
      "  0%|                                                  | 0/8000 [00:00<?, ?it/s]"
     ]
    },
    {
     "name": "stdout",
     "output_type": "stream",
     "text": [
      "1\n",
      "1 0.919301699407377\n",
      "Objective PLSRegression_Objective:\n"
     ]
    },
    {
     "name": "stderr",
     "output_type": "stream",
     "text": [
      "  8%|███▎                                    | 664/8000 [00:29<05:29, 22.26it/s]\n",
      "80it [00:00, 791.04it/s]"
     ]
    },
    {
     "name": "stdout",
     "output_type": "stream",
     "text": [
      "iterations: 664\n",
      "Number of used features: 6\n",
      "Used features: ['num-p004-shoulder.nii.gz-0.500000', 'sum-p004-shoulder.nii.gz-0.500000', 'hist-1-p004-shoulder.nii.gz-0.500000', 'hist-4-p004-shoulder.nii.gz-0.500000', 'hist-12-p004-shoulder.nii.gz-0.500000', 'hist-14-p004-shoulder.nii.gz-0.500000'] \n",
      "Score: -0.9177925105649569\n"
     ]
    },
    {
     "name": "stderr",
     "output_type": "stream",
     "text": [
      "200it [00:00, 795.19it/s]\n",
      "  0%|                                                  | 0/8000 [00:00<?, ?it/s]"
     ]
    },
    {
     "name": "stdout",
     "output_type": "stream",
     "text": [
      "1\n",
      "1 0.9175822597454717\n",
      "Objective KNNR_Objective:\n"
     ]
    },
    {
     "name": "stderr",
     "output_type": "stream",
     "text": [
      "  9%|███▍                                    | 696/8000 [01:07<11:47, 10.32it/s]\n",
      "78it [00:00, 776.00it/s]"
     ]
    },
    {
     "name": "stdout",
     "output_type": "stream",
     "text": [
      "iterations: 696\n",
      "Number of used features: 3\n",
      "Used features: ['num-p029-shoulder.nii.gz-0.500000', 'hist-9-p029-shoulder.nii.gz-0.500000', 'hist-14-p029-shoulder.nii.gz-0.500000'] \n",
      "Score: -0.781117839450188\n"
     ]
    },
    {
     "name": "stderr",
     "output_type": "stream",
     "text": [
      "200it [00:00, 780.34it/s]\n",
      "  0%|                                                  | 0/8000 [00:00<?, ?it/s]"
     ]
    },
    {
     "name": "stdout",
     "output_type": "stream",
     "text": [
      "1\n",
      "1 0.807394520150453\n",
      "Objective LinearRegression_Objective:\n"
     ]
    },
    {
     "name": "stderr",
     "output_type": "stream",
     "text": [
      "  7%|██▉                                     | 591/8000 [00:13<02:49, 43.73it/s]\n",
      "98it [00:00, 972.37it/s]"
     ]
    },
    {
     "name": "stdout",
     "output_type": "stream",
     "text": [
      "iterations: 591\n",
      "Number of used features: 9\n",
      "Used features: ['num-p029-shoulder.nii.gz-0.500000', 'skew-p029-shoulder.nii.gz-0.500000', 'kurt-p029-shoulder.nii.gz-0.500000', 'hist-1-p029-shoulder.nii.gz-0.500000', 'hist-4-p029-shoulder.nii.gz-0.500000', 'hist-12-p029-shoulder.nii.gz-0.500000', 'hist-14-p029-shoulder.nii.gz-0.500000', 'hist-17-p029-shoulder.nii.gz-0.500000', 'hist-19-p029-shoulder.nii.gz-0.500000'] \n",
      "Score: -0.9273748380860254\n"
     ]
    },
    {
     "name": "stderr",
     "output_type": "stream",
     "text": [
      "200it [00:00, 969.35it/s]\n",
      "  0%|                                                  | 0/8000 [00:00<?, ?it/s]"
     ]
    },
    {
     "name": "stdout",
     "output_type": "stream",
     "text": [
      "1\n",
      "1 0.9357978282089543\n",
      "Objective LassoRegression_Objective:\n"
     ]
    },
    {
     "name": "stderr",
     "output_type": "stream",
     "text": [
      "  8%|███▎                                    | 659/8000 [00:50<09:23, 13.02it/s]\n",
      "58it [00:00, 572.38it/s]"
     ]
    },
    {
     "name": "stdout",
     "output_type": "stream",
     "text": [
      "iterations: 659\n",
      "Number of used features: 10\n",
      "Used features: ['num-p029-shoulder.nii.gz-0.500000', 'std-p029-shoulder.nii.gz-0.500000', 'kurt-p029-shoulder.nii.gz-0.500000', 'hist-1-p029-shoulder.nii.gz-0.500000', 'hist-5-p029-shoulder.nii.gz-0.500000', 'hist-6-p029-shoulder.nii.gz-0.500000', 'hist-12-p029-shoulder.nii.gz-0.500000', 'hist-14-p029-shoulder.nii.gz-0.500000', 'hist-17-p029-shoulder.nii.gz-0.500000', 'hist-19-p029-shoulder.nii.gz-0.500000'] \n",
      "Score: -0.9217836180175791\n"
     ]
    },
    {
     "name": "stderr",
     "output_type": "stream",
     "text": [
      "200it [00:00, 569.41it/s]\n",
      "  0%|                                                  | 0/8000 [00:00<?, ?it/s]"
     ]
    },
    {
     "name": "stdout",
     "output_type": "stream",
     "text": [
      "1\n",
      "1 0.9271796641509367\n",
      "Objective RidgeRegression_Objective:\n"
     ]
    },
    {
     "name": "stderr",
     "output_type": "stream",
     "text": [
      "  8%|███▎                                    | 659/8000 [00:43<08:07, 15.06it/s]\n",
      "67it [00:00, 666.12it/s]"
     ]
    },
    {
     "name": "stdout",
     "output_type": "stream",
     "text": [
      "iterations: 659\n",
      "Number of used features: 10\n",
      "Used features: ['num-p029-shoulder.nii.gz-0.500000', 'std-p029-shoulder.nii.gz-0.500000', 'kurt-p029-shoulder.nii.gz-0.500000', 'hist-1-p029-shoulder.nii.gz-0.500000', 'hist-5-p029-shoulder.nii.gz-0.500000', 'hist-6-p029-shoulder.nii.gz-0.500000', 'hist-12-p029-shoulder.nii.gz-0.500000', 'hist-14-p029-shoulder.nii.gz-0.500000', 'hist-17-p029-shoulder.nii.gz-0.500000', 'hist-19-p029-shoulder.nii.gz-0.500000'] \n",
      "Score: -0.9219990650344374\n"
     ]
    },
    {
     "name": "stderr",
     "output_type": "stream",
     "text": [
      "200it [00:00, 678.85it/s]\n",
      "  0%|                                                  | 0/8000 [00:00<?, ?it/s]"
     ]
    },
    {
     "name": "stdout",
     "output_type": "stream",
     "text": [
      "1\n",
      "1 0.9274142509988131\n",
      "Objective PLSRegression_Objective:\n"
     ]
    },
    {
     "name": "stderr",
     "output_type": "stream",
     "text": [
      "  8%|███                                     | 603/8000 [00:27<05:33, 22.21it/s]\n",
      "64it [00:00, 637.60it/s]"
     ]
    },
    {
     "name": "stdout",
     "output_type": "stream",
     "text": [
      "iterations: 603\n",
      "Number of used features: 6\n",
      "Used features: ['num-p029-shoulder.nii.gz-0.500000', 'skew-p029-shoulder.nii.gz-0.500000', 'kurt-p029-shoulder.nii.gz-0.500000', 'hist-1-p029-shoulder.nii.gz-0.500000', 'hist-2-p029-shoulder.nii.gz-0.500000', 'hist-15-p029-shoulder.nii.gz-0.500000'] \n",
      "Score: -0.9035835656718086\n"
     ]
    },
    {
     "name": "stderr",
     "output_type": "stream",
     "text": [
      "200it [00:00, 642.36it/s]\n",
      "  0%|                                                  | 0/8000 [00:00<?, ?it/s]"
     ]
    },
    {
     "name": "stdout",
     "output_type": "stream",
     "text": [
      "1\n",
      "1 0.9083036686412085\n",
      "Objective KNNR_Objective:\n"
     ]
    },
    {
     "name": "stderr",
     "output_type": "stream",
     "text": [
      "  9%|███▋                                    | 733/8000 [01:10<11:38, 10.40it/s]\n",
      "80it [00:00, 792.18it/s]"
     ]
    },
    {
     "name": "stdout",
     "output_type": "stream",
     "text": [
      "iterations: 733\n",
      "Number of used features: 2\n",
      "Used features: ['num-p032-shoulder.nii.gz-0.500000', 'hist-0-p032-shoulder.nii.gz-0.500000'] \n",
      "Score: -0.7544907616709643\n"
     ]
    },
    {
     "name": "stderr",
     "output_type": "stream",
     "text": [
      "200it [00:00, 790.80it/s]\n",
      "  0%|                                                  | 0/8000 [00:00<?, ?it/s]"
     ]
    },
    {
     "name": "stdout",
     "output_type": "stream",
     "text": [
      "1\n",
      "1 0.7844268173011752\n",
      "Objective LinearRegression_Objective:\n"
     ]
    },
    {
     "name": "stderr",
     "output_type": "stream",
     "text": [
      "  7%|██▋                                     | 542/8000 [00:09<02:05, 59.29it/s]\n",
      "99it [00:00, 983.95it/s]"
     ]
    },
    {
     "name": "stdout",
     "output_type": "stream",
     "text": [
      "iterations: 542\n",
      "Number of used features: 5\n",
      "Used features: ['num-p032-shoulder.nii.gz-0.500000', 'sum-p032-shoulder.nii.gz-0.500000', 'std-p032-shoulder.nii.gz-0.500000', 'hist-1-p032-shoulder.nii.gz-0.500000', 'hist-2-p032-shoulder.nii.gz-0.500000'] \n",
      "Score: -0.9138552352552041\n"
     ]
    },
    {
     "name": "stderr",
     "output_type": "stream",
     "text": [
      "200it [00:00, 978.74it/s]\n",
      "  0%|                                                  | 0/8000 [00:00<?, ?it/s]"
     ]
    },
    {
     "name": "stdout",
     "output_type": "stream",
     "text": [
      "1\n",
      "1 0.9193502883875159\n",
      "Objective LassoRegression_Objective:\n"
     ]
    },
    {
     "name": "stderr",
     "output_type": "stream",
     "text": [
      "  7%|██▋                                     | 542/8000 [00:33<07:46, 15.98it/s]\n",
      "62it [00:00, 612.72it/s]"
     ]
    },
    {
     "name": "stdout",
     "output_type": "stream",
     "text": [
      "iterations: 542\n",
      "Number of used features: 5\n",
      "Used features: ['num-p032-shoulder.nii.gz-0.500000', 'sum-p032-shoulder.nii.gz-0.500000', 'std-p032-shoulder.nii.gz-0.500000', 'hist-1-p032-shoulder.nii.gz-0.500000', 'hist-2-p032-shoulder.nii.gz-0.500000'] \n",
      "Score: -0.9138573622050855\n"
     ]
    },
    {
     "name": "stderr",
     "output_type": "stream",
     "text": [
      "200it [00:00, 615.58it/s]\n",
      "  0%|                                                  | 0/8000 [00:00<?, ?it/s]"
     ]
    },
    {
     "name": "stdout",
     "output_type": "stream",
     "text": [
      "1\n",
      "1 0.9193449631213144\n",
      "Objective RidgeRegression_Objective:\n"
     ]
    },
    {
     "name": "stderr",
     "output_type": "stream",
     "text": [
      "  7%|██▋                                     | 547/8000 [00:30<06:52, 18.09it/s]\n",
      "72it [00:00, 710.88it/s]"
     ]
    },
    {
     "name": "stdout",
     "output_type": "stream",
     "text": [
      "iterations: 547\n",
      "Number of used features: 5\n",
      "Used features: ['num-p032-shoulder.nii.gz-0.500000', 'sum-p032-shoulder.nii.gz-0.500000', 'std-p032-shoulder.nii.gz-0.500000', 'hist-1-p032-shoulder.nii.gz-0.500000', 'hist-2-p032-shoulder.nii.gz-0.500000'] \n",
      "Score: -0.914373414427341\n"
     ]
    },
    {
     "name": "stderr",
     "output_type": "stream",
     "text": [
      "200it [00:00, 707.60it/s]\n",
      "  0%|                                                  | 0/8000 [00:00<?, ?it/s]"
     ]
    },
    {
     "name": "stdout",
     "output_type": "stream",
     "text": [
      "1\n",
      "1 0.9195187691349481\n",
      "Objective PLSRegression_Objective:\n"
     ]
    },
    {
     "name": "stderr",
     "output_type": "stream",
     "text": [
      "  9%|███▍                                    | 689/8000 [00:34<06:07, 19.91it/s]\n",
      "73it [00:00, 726.22it/s]"
     ]
    },
    {
     "name": "stdout",
     "output_type": "stream",
     "text": [
      "iterations: 689\n",
      "Number of used features: 4\n",
      "Used features: ['num-p032-shoulder.nii.gz-0.500000', 'skew-p032-shoulder.nii.gz-0.500000', 'kurt-p032-shoulder.nii.gz-0.500000', 'hist-3-p032-shoulder.nii.gz-0.500000'] \n",
      "Score: -0.9082653264174236\n"
     ]
    },
    {
     "name": "stderr",
     "output_type": "stream",
     "text": [
      "200it [00:00, 723.21it/s]\n",
      "  0%|                                                  | 0/8000 [00:00<?, ?it/s]"
     ]
    },
    {
     "name": "stdout",
     "output_type": "stream",
     "text": [
      "1\n",
      "1 0.9132552018453552\n",
      "Objective KNNR_Objective:\n"
     ]
    },
    {
     "name": "stderr",
     "output_type": "stream",
     "text": [
      " 12%|████▉                                   | 996/8000 [01:47<12:34,  9.28it/s]\n",
      "80it [00:00, 795.14it/s]"
     ]
    },
    {
     "name": "stdout",
     "output_type": "stream",
     "text": [
      "iterations: 996\n",
      "Number of used features: 7\n",
      "Used features: ['num-p041-shoulder.nii.gz-0.500000', 'hist-7-p041-shoulder.nii.gz-0.500000', 'hist-10-p041-shoulder.nii.gz-0.500000', 'hist-11-p041-shoulder.nii.gz-0.500000', 'hist-13-p041-shoulder.nii.gz-0.500000', 'hist-14-p041-shoulder.nii.gz-0.500000', 'hist-15-p041-shoulder.nii.gz-0.500000'] \n",
      "Score: -0.734733563431558\n"
     ]
    },
    {
     "name": "stderr",
     "output_type": "stream",
     "text": [
      "200it [00:00, 789.59it/s]\n",
      "  0%|                                                  | 0/8000 [00:00<?, ?it/s]"
     ]
    },
    {
     "name": "stdout",
     "output_type": "stream",
     "text": [
      "1\n",
      "1 0.7531782990522472\n",
      "Objective LinearRegression_Objective:\n"
     ]
    },
    {
     "name": "stderr",
     "output_type": "stream",
     "text": [
      "  7%|██▉                                     | 585/8000 [00:12<02:36, 47.34it/s]\n",
      "96it [00:00, 958.23it/s]"
     ]
    },
    {
     "name": "stdout",
     "output_type": "stream",
     "text": [
      "iterations: 585\n",
      "Number of used features: 11\n",
      "Used features: ['num-p041-shoulder.nii.gz-0.500000', 'sum-p041-shoulder.nii.gz-0.500000', 'skew-p041-shoulder.nii.gz-0.500000', 'hist-0-p041-shoulder.nii.gz-0.500000', 'hist-3-p041-shoulder.nii.gz-0.500000', 'hist-4-p041-shoulder.nii.gz-0.500000', 'hist-5-p041-shoulder.nii.gz-0.500000', 'hist-9-p041-shoulder.nii.gz-0.500000', 'hist-12-p041-shoulder.nii.gz-0.500000', 'hist-15-p041-shoulder.nii.gz-0.500000', 'hist-16-p041-shoulder.nii.gz-0.500000'] \n",
      "Score: -0.9122826226729269\n"
     ]
    },
    {
     "name": "stderr",
     "output_type": "stream",
     "text": [
      "200it [00:00, 940.75it/s]\n",
      "  0%|                                                  | 0/8000 [00:00<?, ?it/s]"
     ]
    },
    {
     "name": "stdout",
     "output_type": "stream",
     "text": [
      "1\n",
      "1 0.9212417346865137\n",
      "Objective LassoRegression_Objective:\n"
     ]
    },
    {
     "name": "stderr",
     "output_type": "stream",
     "text": [
      " 12%|████▋                                   | 929/8000 [01:17<09:51, 11.96it/s]\n",
      "61it [00:00, 601.17it/s]"
     ]
    },
    {
     "name": "stdout",
     "output_type": "stream",
     "text": [
      "iterations: 929\n",
      "Number of used features: 11\n",
      "Used features: ['sum-p041-shoulder.nii.gz-0.500000', 'skew-p041-shoulder.nii.gz-0.500000', 'hist-0-p041-shoulder.nii.gz-0.500000', 'hist-3-p041-shoulder.nii.gz-0.500000', 'hist-4-p041-shoulder.nii.gz-0.500000', 'hist-7-p041-shoulder.nii.gz-0.500000', 'hist-11-p041-shoulder.nii.gz-0.500000', 'hist-12-p041-shoulder.nii.gz-0.500000', 'hist-13-p041-shoulder.nii.gz-0.500000', 'hist-15-p041-shoulder.nii.gz-0.500000', 'hist-18-p041-shoulder.nii.gz-0.500000'] \n",
      "Score: -0.9246829716381384\n"
     ]
    },
    {
     "name": "stderr",
     "output_type": "stream",
     "text": [
      "200it [00:00, 600.20it/s]\n",
      "  0%|                                                  | 0/8000 [00:00<?, ?it/s]"
     ]
    },
    {
     "name": "stdout",
     "output_type": "stream",
     "text": [
      "1\n",
      "1 0.9287550814420058\n",
      "Objective RidgeRegression_Objective:\n"
     ]
    },
    {
     "name": "stderr",
     "output_type": "stream",
     "text": [
      " 12%|████▊                                   | 967/8000 [01:08<08:19, 14.07it/s]\n",
      "70it [00:00, 690.83it/s]"
     ]
    },
    {
     "name": "stdout",
     "output_type": "stream",
     "text": [
      "iterations: 967\n",
      "Number of used features: 12\n",
      "Used features: ['num-p041-shoulder.nii.gz-0.500000', 'sum-p041-shoulder.nii.gz-0.500000', 'skew-p041-shoulder.nii.gz-0.500000', 'hist-0-p041-shoulder.nii.gz-0.500000', 'hist-3-p041-shoulder.nii.gz-0.500000', 'hist-4-p041-shoulder.nii.gz-0.500000', 'hist-11-p041-shoulder.nii.gz-0.500000', 'hist-12-p041-shoulder.nii.gz-0.500000', 'hist-13-p041-shoulder.nii.gz-0.500000', 'hist-15-p041-shoulder.nii.gz-0.500000', 'hist-18-p041-shoulder.nii.gz-0.500000', 'hist-19-p041-shoulder.nii.gz-0.500000'] \n",
      "Score: -0.9257885506550161\n"
     ]
    },
    {
     "name": "stderr",
     "output_type": "stream",
     "text": [
      "200it [00:00, 688.72it/s]\n",
      "  0%|                                                  | 0/8000 [00:00<?, ?it/s]"
     ]
    },
    {
     "name": "stdout",
     "output_type": "stream",
     "text": [
      "1\n",
      "1 0.9288913622876083\n",
      "Objective PLSRegression_Objective:\n"
     ]
    },
    {
     "name": "stderr",
     "output_type": "stream",
     "text": [
      "  9%|███▋                                    | 728/8000 [00:43<07:12, 16.82it/s]\n",
      "63it [00:00, 624.32it/s]"
     ]
    },
    {
     "name": "stdout",
     "output_type": "stream",
     "text": [
      "iterations: 728\n",
      "Number of used features: 11\n",
      "Used features: ['num-p041-shoulder.nii.gz-0.500000', 'sum-p041-shoulder.nii.gz-0.500000', 'skew-p041-shoulder.nii.gz-0.500000', 'hist-1-p041-shoulder.nii.gz-0.500000', 'hist-3-p041-shoulder.nii.gz-0.500000', 'hist-4-p041-shoulder.nii.gz-0.500000', 'hist-11-p041-shoulder.nii.gz-0.500000', 'hist-12-p041-shoulder.nii.gz-0.500000', 'hist-13-p041-shoulder.nii.gz-0.500000', 'hist-15-p041-shoulder.nii.gz-0.500000', 'hist-18-p041-shoulder.nii.gz-0.500000'] \n",
      "Score: -0.9231195262863554\n"
     ]
    },
    {
     "name": "stderr",
     "output_type": "stream",
     "text": [
      "200it [00:00, 621.84it/s]\n",
      "  0%|                                                  | 0/8000 [00:00<?, ?it/s]"
     ]
    },
    {
     "name": "stdout",
     "output_type": "stream",
     "text": [
      "1\n",
      "1 0.9254863960961877\n",
      "Objective KNNR_Objective:\n"
     ]
    },
    {
     "name": "stderr",
     "output_type": "stream",
     "text": [
      " 12%|████▋                                   | 939/8000 [01:38<12:20,  9.54it/s]\n",
      "77it [00:00, 767.07it/s]"
     ]
    },
    {
     "name": "stdout",
     "output_type": "stream",
     "text": [
      "iterations: 939\n",
      "Number of used features: 8\n",
      "Used features: ['num-p048-shoulder.nii.gz-0.500000', 'hist-1-p048-shoulder.nii.gz-0.500000', 'hist-8-p048-shoulder.nii.gz-0.500000', 'hist-9-p048-shoulder.nii.gz-0.500000', 'hist-11-p048-shoulder.nii.gz-0.500000', 'hist-14-p048-shoulder.nii.gz-0.500000', 'hist-15-p048-shoulder.nii.gz-0.500000', 'hist-19-p048-shoulder.nii.gz-0.500000'] \n",
      "Score: -0.7018187102808815\n"
     ]
    },
    {
     "name": "stderr",
     "output_type": "stream",
     "text": [
      "200it [00:00, 756.17it/s]\n",
      "  0%|                                                  | 0/8000 [00:00<?, ?it/s]"
     ]
    },
    {
     "name": "stdout",
     "output_type": "stream",
     "text": [
      "1\n",
      "1 0.7203447313033393\n",
      "Objective LinearRegression_Objective:\n"
     ]
    },
    {
     "name": "stderr",
     "output_type": "stream",
     "text": [
      "  7%|██▊                                     | 557/8000 [00:10<02:24, 51.54it/s]\n",
      "95it [00:00, 947.80it/s]"
     ]
    },
    {
     "name": "stdout",
     "output_type": "stream",
     "text": [
      "iterations: 557\n",
      "Number of used features: 9\n",
      "Used features: ['num-p048-shoulder.nii.gz-0.500000', 'std-p048-shoulder.nii.gz-0.500000', 'kurt-p048-shoulder.nii.gz-0.500000', 'hist-0-p048-shoulder.nii.gz-0.500000', 'hist-3-p048-shoulder.nii.gz-0.500000', 'hist-4-p048-shoulder.nii.gz-0.500000', 'hist-5-p048-shoulder.nii.gz-0.500000', 'hist-10-p048-shoulder.nii.gz-0.500000', 'hist-11-p048-shoulder.nii.gz-0.500000'] \n",
      "Score: -0.9179143033659245\n"
     ]
    },
    {
     "name": "stderr",
     "output_type": "stream",
     "text": [
      "200it [00:00, 936.13it/s]\n",
      "  0%|                                                  | 0/8000 [00:00<?, ?it/s]"
     ]
    },
    {
     "name": "stdout",
     "output_type": "stream",
     "text": [
      "1\n",
      "1 0.9236755874685451\n",
      "Objective LassoRegression_Objective:\n"
     ]
    },
    {
     "name": "stderr",
     "output_type": "stream",
     "text": [
      "  7%|██▊                                     | 557/8000 [00:38<08:35, 14.43it/s]\n",
      "58it [00:00, 575.03it/s]"
     ]
    },
    {
     "name": "stdout",
     "output_type": "stream",
     "text": [
      "iterations: 557\n",
      "Number of used features: 9\n",
      "Used features: ['num-p048-shoulder.nii.gz-0.500000', 'std-p048-shoulder.nii.gz-0.500000', 'kurt-p048-shoulder.nii.gz-0.500000', 'hist-0-p048-shoulder.nii.gz-0.500000', 'hist-3-p048-shoulder.nii.gz-0.500000', 'hist-4-p048-shoulder.nii.gz-0.500000', 'hist-5-p048-shoulder.nii.gz-0.500000', 'hist-10-p048-shoulder.nii.gz-0.500000', 'hist-11-p048-shoulder.nii.gz-0.500000'] \n",
      "Score: -0.9172325310049024\n"
     ]
    },
    {
     "name": "stderr",
     "output_type": "stream",
     "text": [
      "200it [00:00, 573.20it/s]\n",
      "  0%|                                                  | 0/8000 [00:00<?, ?it/s]"
     ]
    },
    {
     "name": "stdout",
     "output_type": "stream",
     "text": [
      "1\n",
      "1 0.9242532682948085\n",
      "Objective RidgeRegression_Objective:\n"
     ]
    },
    {
     "name": "stderr",
     "output_type": "stream",
     "text": [
      "  8%|███▏                                    | 648/8000 [00:40<07:43, 15.85it/s]\n",
      "69it [00:00, 681.66it/s]"
     ]
    },
    {
     "name": "stdout",
     "output_type": "stream",
     "text": [
      "iterations: 648\n",
      "Number of used features: 9\n",
      "Used features: ['num-p048-shoulder.nii.gz-0.500000', 'std-p048-shoulder.nii.gz-0.500000', 'kurt-p048-shoulder.nii.gz-0.500000', 'hist-0-p048-shoulder.nii.gz-0.500000', 'hist-3-p048-shoulder.nii.gz-0.500000', 'hist-4-p048-shoulder.nii.gz-0.500000', 'hist-5-p048-shoulder.nii.gz-0.500000', 'hist-10-p048-shoulder.nii.gz-0.500000', 'hist-11-p048-shoulder.nii.gz-0.500000'] \n",
      "Score: -0.918543949606686\n"
     ]
    },
    {
     "name": "stderr",
     "output_type": "stream",
     "text": [
      "200it [00:00, 681.66it/s]\n",
      "  0%|                                                  | 0/8000 [00:00<?, ?it/s]"
     ]
    },
    {
     "name": "stdout",
     "output_type": "stream",
     "text": [
      "1\n",
      "1 0.9242125471115369\n",
      "Objective PLSRegression_Objective:\n"
     ]
    },
    {
     "name": "stderr",
     "output_type": "stream",
     "text": [
      "  9%|███▋                                    | 733/8000 [00:40<06:43, 18.01it/s]\n",
      "65it [00:00, 647.81it/s]"
     ]
    },
    {
     "name": "stdout",
     "output_type": "stream",
     "text": [
      "iterations: 733\n",
      "Number of used features: 9\n",
      "Used features: ['num-p048-shoulder.nii.gz-0.500000', 'skew-p048-shoulder.nii.gz-0.500000', 'kurt-p048-shoulder.nii.gz-0.500000', 'hist-0-p048-shoulder.nii.gz-0.500000', 'hist-4-p048-shoulder.nii.gz-0.500000', 'hist-5-p048-shoulder.nii.gz-0.500000', 'hist-11-p048-shoulder.nii.gz-0.500000', 'hist-13-p048-shoulder.nii.gz-0.500000', 'hist-18-p048-shoulder.nii.gz-0.500000'] \n",
      "Score: -0.8997375865318269\n"
     ]
    },
    {
     "name": "stderr",
     "output_type": "stream",
     "text": [
      "200it [00:00, 641.54it/s]"
     ]
    },
    {
     "name": "stdout",
     "output_type": "stream",
     "text": [
      "1\n",
      "1 0.9059220405083036\n"
     ]
    },
    {
     "name": "stderr",
     "output_type": "stream",
     "text": [
      "\n"
     ]
    }
   ],
   "source": [
    "for m in masks:\n",
    "    results.append(model_selection(shoulder_features[[c for c in shoulder_features.columns if m in c or c == 'type']], shoulder_target, dataset='shoulder', type=m))"
   ]
  },
  {
   "cell_type": "markdown",
   "metadata": {},
   "source": [
    "### body using all features"
   ]
  },
  {
   "cell_type": "code",
   "execution_count": 24,
   "metadata": {},
   "outputs": [
    {
     "name": "stderr",
     "output_type": "stream",
     "text": [
      "\r",
      "  0%|                                                  | 0/8000 [00:00<?, ?it/s]"
     ]
    },
    {
     "name": "stdout",
     "output_type": "stream",
     "text": [
      "Objective KNNR_Objective:\n"
     ]
    },
    {
     "name": "stderr",
     "output_type": "stream",
     "text": [
      " 24%|█████████▏                             | 1896/8000 [04:23<14:08,  7.19it/s]\n",
      "74it [00:00, 739.29it/s]"
     ]
    },
    {
     "name": "stdout",
     "output_type": "stream",
     "text": [
      "iterations: 1896\n",
      "Number of used features: 46\n",
      "Used features: ['num-p004-body.nii.gz-0.500000', 'hist-1-p004-body.nii.gz-0.500000', 'hist-2-p004-body.nii.gz-0.500000', 'hist-3-p004-body.nii.gz-0.500000', 'hist-5-p004-body.nii.gz-0.500000', 'hist-6-p004-body.nii.gz-0.500000', 'hist-7-p004-body.nii.gz-0.500000', 'hist-10-p004-body.nii.gz-0.500000', 'hist-11-p004-body.nii.gz-0.500000', 'hist-31-p004-body.nii.gz-0.500000', 'hist-39-p004-body.nii.gz-0.500000', 'hist-41-p004-body.nii.gz-0.500000', 'hist-42-p004-body.nii.gz-0.500000', 'num-p029-body.nii.gz-0.500000', 'hist-3-p029-body.nii.gz-0.500000', 'hist-39-p029-body.nii.gz-0.500000', 'hist-40-p029-body.nii.gz-0.500000', 'hist-41-p029-body.nii.gz-0.500000', 'hist-43-p029-body.nii.gz-0.500000', 'num-p032-body.nii.gz-0.500000', 'hist-4-p032-body.nii.gz-0.500000', 'hist-5-p032-body.nii.gz-0.500000', 'hist-30-p032-body.nii.gz-0.500000', 'hist-39-p032-body.nii.gz-0.500000', 'hist-40-p032-body.nii.gz-0.500000', 'hist-43-p032-body.nii.gz-0.500000', 'num-p041-body.nii.gz-0.500000', 'hist-3-p041-body.nii.gz-0.500000', 'hist-11-p041-body.nii.gz-0.500000', 'hist-34-p041-body.nii.gz-0.500000', 'hist-41-p041-body.nii.gz-0.500000', 'hist-42-p041-body.nii.gz-0.500000', 'hist-43-p041-body.nii.gz-0.500000', 'hist-2-p048-body.nii.gz-0.500000', 'hist-3-p048-body.nii.gz-0.500000', 'hist-5-p048-body.nii.gz-0.500000', 'hist-10-p048-body.nii.gz-0.500000', 'hist-41-p048-body.nii.gz-0.500000', 'hist-42-p048-body.nii.gz-0.500000', 'hist-43-p048-body.nii.gz-0.500000', 'num-0.500000-mean_mask', 'std-0.500000-mean_mask', 'hist-2-0.500000-mean_mask', 'hist-5-0.500000-mean_mask', 'hist-41-0.500000-mean_mask', 'hist-43-0.500000-mean_mask'] \n",
      "Score: -0.906190631865199\n"
     ]
    },
    {
     "name": "stderr",
     "output_type": "stream",
     "text": [
      "200it [00:00, 741.11it/s]\n",
      "  0%|                                          | 1/8000 [00:00<13:29,  9.88it/s]"
     ]
    },
    {
     "name": "stdout",
     "output_type": "stream",
     "text": [
      "1\n",
      "1 0.9128684676284982\n",
      "Objective LinearRegression_Objective:\n"
     ]
    },
    {
     "name": "stderr",
     "output_type": "stream",
     "text": [
      " 18%|███████▏                               | 1476/8000 [02:41<11:55,  9.11it/s]\n",
      "88it [00:00, 875.59it/s]"
     ]
    },
    {
     "name": "stdout",
     "output_type": "stream",
     "text": [
      "iterations: 1476\n",
      "Number of used features: 29\n",
      "Used features: ['sum-p004-body.nii.gz-0.500000', 'hist-8-p004-body.nii.gz-0.500000', 'hist-40-p004-body.nii.gz-0.500000', 'hist-42-p004-body.nii.gz-0.500000', 'hist-43-p004-body.nii.gz-0.500000', 'hist-6-p029-body.nii.gz-0.500000', 'hist-26-p029-body.nii.gz-0.500000', 'hist-39-p029-body.nii.gz-0.500000', 'hist-40-p029-body.nii.gz-0.500000', 'hist-41-p029-body.nii.gz-0.500000', 'hist-43-p029-body.nii.gz-0.500000', 'num-p032-body.nii.gz-0.500000', 'std-p032-body.nii.gz-0.500000', 'hist-18-p032-body.nii.gz-0.500000', 'hist-32-p032-body.nii.gz-0.500000', 'hist-40-p032-body.nii.gz-0.500000', 'hist-42-p032-body.nii.gz-0.500000', 'sum-p041-body.nii.gz-0.500000', 'hist-0-p041-body.nii.gz-0.500000', 'hist-3-p041-body.nii.gz-0.500000', 'hist-25-p041-body.nii.gz-0.500000', 'hist-40-p041-body.nii.gz-0.500000', 'num-p048-body.nii.gz-0.500000', 'hist-1-p048-body.nii.gz-0.500000', 'hist-21-p048-body.nii.gz-0.500000', 'hist-41-p048-body.nii.gz-0.500000', 'hist-42-p048-body.nii.gz-0.500000', 'hist-26-0.500000-mean_mask', 'hist-39-0.500000-mean_mask'] \n",
      "Score: -0.9872061433298692\n"
     ]
    },
    {
     "name": "stderr",
     "output_type": "stream",
     "text": [
      "200it [00:00, 869.89it/s]\n",
      "  0%|                                                  | 0/8000 [00:00<?, ?it/s]"
     ]
    },
    {
     "name": "stdout",
     "output_type": "stream",
     "text": [
      "1\n",
      "1 0.9885347190524971\n",
      "Objective LassoRegression_Objective:\n"
     ]
    },
    {
     "name": "stderr",
     "output_type": "stream",
     "text": [
      " 40%|███████████████▋                       | 3213/8000 [10:27<15:34,  5.12it/s]\n",
      "51it [00:00, 499.97it/s]"
     ]
    },
    {
     "name": "stdout",
     "output_type": "stream",
     "text": [
      "iterations: 3213\n",
      "Number of used features: 20\n",
      "Used features: ['hist-6-p004-body.nii.gz-0.500000', 'hist-7-p004-body.nii.gz-0.500000', 'hist-31-p004-body.nii.gz-0.500000', 'hist-39-p004-body.nii.gz-0.500000', 'hist-43-p004-body.nii.gz-0.500000', 'hist-40-p029-body.nii.gz-0.500000', 'num-p032-body.nii.gz-0.500000', 'hist-40-p032-body.nii.gz-0.500000', 'hist-41-p032-body.nii.gz-0.500000', 'skew-p041-body.nii.gz-0.500000', 'hist-40-p041-body.nii.gz-0.500000', 'hist-41-p041-body.nii.gz-0.500000', 'hist-42-p041-body.nii.gz-0.500000', 'hist-24-p048-body.nii.gz-0.500000', 'hist-34-p048-body.nii.gz-0.500000', 'hist-38-p048-body.nii.gz-0.500000', 'hist-41-p048-body.nii.gz-0.500000', 'hist-6-0.500000-mean_mask', 'hist-39-0.500000-mean_mask', 'hist-41-0.500000-mean_mask'] \n",
      "Score: -0.9886066741523729\n"
     ]
    },
    {
     "name": "stderr",
     "output_type": "stream",
     "text": [
      "200it [00:00, 498.04it/s]\n",
      "  0%|                                                  | 0/8000 [00:00<?, ?it/s]"
     ]
    },
    {
     "name": "stdout",
     "output_type": "stream",
     "text": [
      "1\n",
      "1 0.9890771176285236\n",
      "Objective RidgeRegression_Objective:\n"
     ]
    },
    {
     "name": "stderr",
     "output_type": "stream",
     "text": [
      " 30%|███████████▌                           | 2374/8000 [08:26<19:59,  4.69it/s]\n",
      "40it [00:00, 399.15it/s]"
     ]
    },
    {
     "name": "stdout",
     "output_type": "stream",
     "text": [
      "iterations: 2374\n",
      "Number of used features: 32\n",
      "Used features: ['hist-39-p004-body.nii.gz-0.500000', 'hist-40-p004-body.nii.gz-0.500000', 'hist-43-p004-body.nii.gz-0.500000', 'hist-2-p029-body.nii.gz-0.500000', 'hist-40-p029-body.nii.gz-0.500000', 'hist-42-p029-body.nii.gz-0.500000', 'hist-43-p029-body.nii.gz-0.500000', 'num-p032-body.nii.gz-0.500000', 'hist-40-p032-body.nii.gz-0.500000', 'hist-42-p032-body.nii.gz-0.500000', 'hist-43-p032-body.nii.gz-0.500000', 'num-p041-body.nii.gz-0.500000', 'skew-p041-body.nii.gz-0.500000', 'hist-14-p041-body.nii.gz-0.500000', 'hist-17-p041-body.nii.gz-0.500000', 'hist-18-p041-body.nii.gz-0.500000', 'hist-25-p041-body.nii.gz-0.500000', 'hist-34-p041-body.nii.gz-0.500000', 'hist-39-p041-body.nii.gz-0.500000', 'hist-42-p041-body.nii.gz-0.500000', 'hist-43-p041-body.nii.gz-0.500000', 'num-p048-body.nii.gz-0.500000', 'hist-2-p048-body.nii.gz-0.500000', 'hist-12-p048-body.nii.gz-0.500000', 'hist-25-p048-body.nii.gz-0.500000', 'hist-29-p048-body.nii.gz-0.500000', 'hist-42-p048-body.nii.gz-0.500000', 'hist-43-p048-body.nii.gz-0.500000', 'num-0.500000-mean_mask', 'hist-31-0.500000-mean_mask', 'hist-34-0.500000-mean_mask', 'hist-42-0.500000-mean_mask'] \n",
      "Score: -0.9889966406207243\n"
     ]
    },
    {
     "name": "stderr",
     "output_type": "stream",
     "text": [
      "200it [00:00, 458.32it/s]\n",
      "  0%|                                                  | 0/8000 [00:00<?, ?it/s]"
     ]
    },
    {
     "name": "stdout",
     "output_type": "stream",
     "text": [
      "1\n",
      "1 0.9894895267396497\n",
      "Objective PLSRegression_Objective:\n"
     ]
    },
    {
     "name": "stderr",
     "output_type": "stream",
     "text": [
      " 48%|██████████████████▋                    | 3823/8000 [11:50<12:55,  5.38it/s]\n",
      "59it [00:00, 582.62it/s]"
     ]
    },
    {
     "name": "stdout",
     "output_type": "stream",
     "text": [
      "iterations: 3823\n",
      "Number of used features: 56\n",
      "Used features: ['num-p004-body.nii.gz-0.500000', 'hist-4-p004-body.nii.gz-0.500000', 'hist-8-p004-body.nii.gz-0.500000', 'hist-14-p004-body.nii.gz-0.500000', 'hist-17-p004-body.nii.gz-0.500000', 'hist-25-p004-body.nii.gz-0.500000', 'hist-27-p004-body.nii.gz-0.500000', 'hist-34-p004-body.nii.gz-0.500000', 'hist-43-p004-body.nii.gz-0.500000', 'num-p029-body.nii.gz-0.500000', 'mean-p029-body.nii.gz-0.500000', 'std-p029-body.nii.gz-0.500000', 'hist-3-p029-body.nii.gz-0.500000', 'hist-4-p029-body.nii.gz-0.500000', 'hist-8-p029-body.nii.gz-0.500000', 'hist-17-p029-body.nii.gz-0.500000', 'hist-31-p029-body.nii.gz-0.500000', 'hist-32-p029-body.nii.gz-0.500000', 'hist-33-p029-body.nii.gz-0.500000', 'hist-39-p029-body.nii.gz-0.500000', 'num-p032-body.nii.gz-0.500000', 'hist-5-p032-body.nii.gz-0.500000', 'hist-8-p032-body.nii.gz-0.500000', 'hist-17-p032-body.nii.gz-0.500000', 'hist-18-p032-body.nii.gz-0.500000', 'hist-19-p032-body.nii.gz-0.500000', 'hist-40-p032-body.nii.gz-0.500000', 'num-p041-body.nii.gz-0.500000', 'skew-p041-body.nii.gz-0.500000', 'hist-6-p041-body.nii.gz-0.500000', 'hist-17-p041-body.nii.gz-0.500000', 'hist-25-p041-body.nii.gz-0.500000', 'hist-31-p041-body.nii.gz-0.500000', 'hist-39-p041-body.nii.gz-0.500000', 'hist-40-p041-body.nii.gz-0.500000', 'hist-41-p041-body.nii.gz-0.500000', 'hist-42-p041-body.nii.gz-0.500000', 'kurt-p048-body.nii.gz-0.500000', 'hist-7-p048-body.nii.gz-0.500000', 'hist-8-p048-body.nii.gz-0.500000', 'hist-16-p048-body.nii.gz-0.500000', 'hist-17-p048-body.nii.gz-0.500000', 'hist-18-p048-body.nii.gz-0.500000', 'hist-20-p048-body.nii.gz-0.500000', 'hist-21-p048-body.nii.gz-0.500000', 'hist-23-p048-body.nii.gz-0.500000', 'hist-24-p048-body.nii.gz-0.500000', 'hist-25-p048-body.nii.gz-0.500000', 'hist-27-p048-body.nii.gz-0.500000', 'hist-34-p048-body.nii.gz-0.500000', 'hist-39-p048-body.nii.gz-0.500000', 'hist-43-p048-body.nii.gz-0.500000', 'num-0.500000-mean_mask', 'hist-17-0.500000-mean_mask', 'hist-31-0.500000-mean_mask', 'hist-40-0.500000-mean_mask'] \n",
      "Score: -0.9886157802723954\n"
     ]
    },
    {
     "name": "stderr",
     "output_type": "stream",
     "text": [
      "200it [00:00, 581.73it/s]"
     ]
    },
    {
     "name": "stdout",
     "output_type": "stream",
     "text": [
      "1\n",
      "1 0.9894312944519109\n"
     ]
    },
    {
     "name": "stderr",
     "output_type": "stream",
     "text": [
      "\n"
     ]
    }
   ],
   "source": [
    "results.append(model_selection(body_features, body_target, dataset='body', type='all'))"
   ]
  },
  {
   "cell_type": "markdown",
   "metadata": {},
   "source": [
    "### body using the mean mask features"
   ]
  },
  {
   "cell_type": "code",
   "execution_count": 25,
   "metadata": {},
   "outputs": [
    {
     "name": "stderr",
     "output_type": "stream",
     "text": [
      "\r",
      "  0%|                                                  | 0/8000 [00:00<?, ?it/s]"
     ]
    },
    {
     "name": "stdout",
     "output_type": "stream",
     "text": [
      "Objective KNNR_Objective:\n"
     ]
    },
    {
     "name": "stderr",
     "output_type": "stream",
     "text": [
      " 13%|████▉                                  | 1025/8000 [02:10<14:48,  7.85it/s]\n",
      "68it [00:00, 672.65it/s]"
     ]
    },
    {
     "name": "stdout",
     "output_type": "stream",
     "text": [
      "iterations: 1025\n",
      "Number of used features: 9\n",
      "Used features: ['num-0.500000-mean_mask', 'std-0.500000-mean_mask', 'kurt-0.500000-mean_mask', 'hist-0-0.500000-mean_mask', 'hist-3-0.500000-mean_mask', 'hist-8-0.500000-mean_mask', 'hist-25-0.500000-mean_mask', 'hist-42-0.500000-mean_mask', 'hist-43-0.500000-mean_mask'] \n",
      "Score: -0.8988918609413632\n"
     ]
    },
    {
     "name": "stderr",
     "output_type": "stream",
     "text": [
      "200it [00:00, 728.90it/s]\n",
      "  0%|                                          | 1/8000 [00:00<13:20,  9.99it/s]"
     ]
    },
    {
     "name": "stdout",
     "output_type": "stream",
     "text": [
      "1\n",
      "1 0.9031346010758567\n",
      "Objective LinearRegression_Objective:\n"
     ]
    },
    {
     "name": "stderr",
     "output_type": "stream",
     "text": [
      "  9%|███▋                                    | 739/8000 [01:04<10:30, 11.52it/s]\n",
      "93it [00:00, 922.01it/s]"
     ]
    },
    {
     "name": "stdout",
     "output_type": "stream",
     "text": [
      "iterations: 739\n",
      "Number of used features: 12\n",
      "Used features: ['sum-0.500000-mean_mask', 'kurt-0.500000-mean_mask', 'hist-0-0.500000-mean_mask', 'hist-4-0.500000-mean_mask', 'hist-5-0.500000-mean_mask', 'hist-6-0.500000-mean_mask', 'hist-14-0.500000-mean_mask', 'hist-15-0.500000-mean_mask', 'hist-25-0.500000-mean_mask', 'hist-30-0.500000-mean_mask', 'hist-41-0.500000-mean_mask', 'hist-43-0.500000-mean_mask'] \n",
      "Score: -0.984577187209486\n"
     ]
    },
    {
     "name": "stderr",
     "output_type": "stream",
     "text": [
      "200it [00:00, 922.71it/s]\n",
      "  0%|                                                  | 0/8000 [00:00<?, ?it/s]"
     ]
    },
    {
     "name": "stdout",
     "output_type": "stream",
     "text": [
      "1\n",
      "1 0.9841956638049663\n",
      "Objective LassoRegression_Objective:\n"
     ]
    },
    {
     "name": "stderr",
     "output_type": "stream",
     "text": [
      " 10%|████                                    | 810/8000 [02:06<18:43,  6.40it/s]\n",
      "61it [00:00, 608.34it/s]"
     ]
    },
    {
     "name": "stdout",
     "output_type": "stream",
     "text": [
      "iterations: 810\n",
      "Number of used features: 12\n",
      "Used features: ['sum-0.500000-mean_mask', 'kurt-0.500000-mean_mask', 'hist-0-0.500000-mean_mask', 'hist-4-0.500000-mean_mask', 'hist-5-0.500000-mean_mask', 'hist-6-0.500000-mean_mask', 'hist-8-0.500000-mean_mask', 'hist-10-0.500000-mean_mask', 'hist-23-0.500000-mean_mask', 'hist-39-0.500000-mean_mask', 'hist-40-0.500000-mean_mask', 'hist-41-0.500000-mean_mask'] \n",
      "Score: -0.9839006796030015\n"
     ]
    },
    {
     "name": "stderr",
     "output_type": "stream",
     "text": [
      "200it [00:00, 604.30it/s]\n",
      "  0%|                                                  | 0/8000 [00:00<?, ?it/s]"
     ]
    },
    {
     "name": "stdout",
     "output_type": "stream",
     "text": [
      "1\n",
      "1 0.9843321497696763\n",
      "Objective RidgeRegression_Objective:\n"
     ]
    },
    {
     "name": "stderr",
     "output_type": "stream",
     "text": [
      " 18%|██████▉                                | 1435/8000 [03:09<14:27,  7.57it/s]\n",
      "68it [00:00, 679.23it/s]"
     ]
    },
    {
     "name": "stdout",
     "output_type": "stream",
     "text": [
      "iterations: 1435\n",
      "Number of used features: 12\n",
      "Used features: ['num-0.500000-mean_mask', 'std-0.500000-mean_mask', 'hist-4-0.500000-mean_mask', 'hist-5-0.500000-mean_mask', 'hist-6-0.500000-mean_mask', 'hist-8-0.500000-mean_mask', 'hist-17-0.500000-mean_mask', 'hist-25-0.500000-mean_mask', 'hist-33-0.500000-mean_mask', 'hist-34-0.500000-mean_mask', 'hist-40-0.500000-mean_mask', 'hist-41-0.500000-mean_mask'] \n",
      "Score: -0.9848836604741\n"
     ]
    },
    {
     "name": "stderr",
     "output_type": "stream",
     "text": [
      "200it [00:00, 679.78it/s]\n",
      "  0%|                                                  | 0/8000 [00:00<?, ?it/s]"
     ]
    },
    {
     "name": "stdout",
     "output_type": "stream",
     "text": [
      "1\n",
      "1 0.9852844636156\n",
      "Objective PLSRegression_Objective:\n"
     ]
    },
    {
     "name": "stderr",
     "output_type": "stream",
     "text": [
      " 13%|█████                                  | 1036/8000 [02:28<16:39,  6.97it/s]\n",
      "59it [00:00, 588.60it/s]"
     ]
    },
    {
     "name": "stdout",
     "output_type": "stream",
     "text": [
      "iterations: 1036\n",
      "Number of used features: 15\n",
      "Used features: ['num-0.500000-mean_mask', 'mean-0.500000-mean_mask', 'std-0.500000-mean_mask', 'kurt-0.500000-mean_mask', 'hist-0-0.500000-mean_mask', 'hist-4-0.500000-mean_mask', 'hist-5-0.500000-mean_mask', 'hist-6-0.500000-mean_mask', 'hist-7-0.500000-mean_mask', 'hist-8-0.500000-mean_mask', 'hist-9-0.500000-mean_mask', 'hist-17-0.500000-mean_mask', 'hist-23-0.500000-mean_mask', 'hist-25-0.500000-mean_mask', 'hist-40-0.500000-mean_mask'] \n",
      "Score: -0.9846058535458381\n"
     ]
    },
    {
     "name": "stderr",
     "output_type": "stream",
     "text": [
      "200it [00:00, 595.68it/s]"
     ]
    },
    {
     "name": "stdout",
     "output_type": "stream",
     "text": [
      "1\n",
      "1 0.9848702965212244\n"
     ]
    },
    {
     "name": "stderr",
     "output_type": "stream",
     "text": [
      "\n"
     ]
    }
   ],
   "source": [
    "results.append(model_selection(body_features[[c for c in body_features.columns if 'mean_mask' in c or c == 'type']], body_target, dataset='body', type='mean_mask'))"
   ]
  },
  {
   "cell_type": "markdown",
   "metadata": {},
   "source": [
    "### body using the features of the individual masks"
   ]
  },
  {
   "cell_type": "code",
   "execution_count": 26,
   "metadata": {},
   "outputs": [
    {
     "name": "stderr",
     "output_type": "stream",
     "text": [
      "\r",
      "  0%|                                                  | 0/8000 [00:00<?, ?it/s]"
     ]
    },
    {
     "name": "stdout",
     "output_type": "stream",
     "text": [
      "Objective KNNR_Objective:\n"
     ]
    },
    {
     "name": "stderr",
     "output_type": "stream",
     "text": [
      " 14%|█████▎                                 | 1089/8000 [02:15<14:18,  8.05it/s]\n",
      "79it [00:00, 788.95it/s]"
     ]
    },
    {
     "name": "stdout",
     "output_type": "stream",
     "text": [
      "iterations: 1089\n",
      "Number of used features: 10\n",
      "Used features: ['num-p004-body.nii.gz-0.500000', 'skew-p004-body.nii.gz-0.500000', 'kurt-p004-body.nii.gz-0.500000', 'hist-1-p004-body.nii.gz-0.500000', 'hist-3-p004-body.nii.gz-0.500000', 'hist-4-p004-body.nii.gz-0.500000', 'hist-5-p004-body.nii.gz-0.500000', 'hist-25-p004-body.nii.gz-0.500000', 'hist-42-p004-body.nii.gz-0.500000', 'hist-43-p004-body.nii.gz-0.500000'] \n",
      "Score: -0.880703677596003\n"
     ]
    },
    {
     "name": "stderr",
     "output_type": "stream",
     "text": [
      "200it [00:00, 793.38it/s]\n",
      "  0%|                                                  | 0/8000 [00:00<?, ?it/s]"
     ]
    },
    {
     "name": "stdout",
     "output_type": "stream",
     "text": [
      "1\n",
      "1 0.8764574064388015\n",
      "Objective LinearRegression_Objective:\n"
     ]
    },
    {
     "name": "stderr",
     "output_type": "stream",
     "text": [
      " 11%|████▍                                   | 884/8000 [01:14<09:59, 11.87it/s]\n",
      "95it [00:00, 946.80it/s]"
     ]
    },
    {
     "name": "stdout",
     "output_type": "stream",
     "text": [
      "iterations: 884\n",
      "Number of used features: 12\n",
      "Used features: ['num-p004-body.nii.gz-0.500000', 'std-p004-body.nii.gz-0.500000', 'hist-5-p004-body.nii.gz-0.500000', 'hist-13-p004-body.nii.gz-0.500000', 'hist-14-p004-body.nii.gz-0.500000', 'hist-16-p004-body.nii.gz-0.500000', 'hist-17-p004-body.nii.gz-0.500000', 'hist-20-p004-body.nii.gz-0.500000', 'hist-22-p004-body.nii.gz-0.500000', 'hist-39-p004-body.nii.gz-0.500000', 'hist-40-p004-body.nii.gz-0.500000', 'hist-42-p004-body.nii.gz-0.500000'] \n",
      "Score: -0.9847442292054427\n"
     ]
    },
    {
     "name": "stderr",
     "output_type": "stream",
     "text": [
      "200it [00:00, 958.25it/s]\n",
      "  0%|                                                  | 0/8000 [00:00<?, ?it/s]"
     ]
    },
    {
     "name": "stdout",
     "output_type": "stream",
     "text": [
      "1\n",
      "1 0.984780103444909\n",
      "Objective LassoRegression_Objective:\n"
     ]
    },
    {
     "name": "stderr",
     "output_type": "stream",
     "text": [
      "  9%|███▋                                    | 745/8000 [02:13<21:42,  5.57it/s]\n",
      "49it [00:00, 482.40it/s]"
     ]
    },
    {
     "name": "stdout",
     "output_type": "stream",
     "text": [
      "iterations: 745\n",
      "Number of used features: 13\n",
      "Used features: ['num-p004-body.nii.gz-0.500000', 'std-p004-body.nii.gz-0.500000', 'hist-5-p004-body.nii.gz-0.500000', 'hist-13-p004-body.nii.gz-0.500000', 'hist-14-p004-body.nii.gz-0.500000', 'hist-17-p004-body.nii.gz-0.500000', 'hist-20-p004-body.nii.gz-0.500000', 'hist-29-p004-body.nii.gz-0.500000', 'hist-30-p004-body.nii.gz-0.500000', 'hist-36-p004-body.nii.gz-0.500000', 'hist-39-p004-body.nii.gz-0.500000', 'hist-40-p004-body.nii.gz-0.500000', 'hist-43-p004-body.nii.gz-0.500000'] \n",
      "Score: -0.9841125810907858\n"
     ]
    },
    {
     "name": "stderr",
     "output_type": "stream",
     "text": [
      "200it [00:00, 477.32it/s]\n",
      "  0%|                                                  | 0/8000 [00:00<?, ?it/s]"
     ]
    },
    {
     "name": "stdout",
     "output_type": "stream",
     "text": [
      "1\n",
      "1 0.9847367812954944\n",
      "Objective RidgeRegression_Objective:\n"
     ]
    },
    {
     "name": "stderr",
     "output_type": "stream",
     "text": [
      " 11%|████▌                                   | 911/8000 [01:54<14:48,  7.98it/s]\n",
      "71it [00:00, 707.56it/s]"
     ]
    },
    {
     "name": "stdout",
     "output_type": "stream",
     "text": [
      "iterations: 911\n",
      "Number of used features: 10\n",
      "Used features: ['num-p004-body.nii.gz-0.500000', 'skew-p004-body.nii.gz-0.500000', 'hist-5-p004-body.nii.gz-0.500000', 'hist-8-p004-body.nii.gz-0.500000', 'hist-16-p004-body.nii.gz-0.500000', 'hist-17-p004-body.nii.gz-0.500000', 'hist-20-p004-body.nii.gz-0.500000', 'hist-40-p004-body.nii.gz-0.500000', 'hist-42-p004-body.nii.gz-0.500000', 'hist-43-p004-body.nii.gz-0.500000'] \n",
      "Score: -0.9849437681109797\n"
     ]
    },
    {
     "name": "stderr",
     "output_type": "stream",
     "text": [
      "200it [00:00, 706.32it/s]\n",
      "  0%|                                                  | 0/8000 [00:00<?, ?it/s]"
     ]
    },
    {
     "name": "stdout",
     "output_type": "stream",
     "text": [
      "1\n",
      "1 0.9852792034534084\n",
      "Objective PLSRegression_Objective:\n"
     ]
    },
    {
     "name": "stderr",
     "output_type": "stream",
     "text": [
      " 11%|████▎                                   | 852/8000 [01:51<15:32,  7.66it/s]\n",
      "59it [00:00, 580.83it/s]"
     ]
    },
    {
     "name": "stdout",
     "output_type": "stream",
     "text": [
      "iterations: 852\n",
      "Number of used features: 7\n",
      "Used features: ['num-p004-body.nii.gz-0.500000', 'skew-p004-body.nii.gz-0.500000', 'kurt-p004-body.nii.gz-0.500000', 'hist-8-p004-body.nii.gz-0.500000', 'hist-25-p004-body.nii.gz-0.500000', 'hist-30-p004-body.nii.gz-0.500000', 'hist-41-p004-body.nii.gz-0.500000'] \n",
      "Score: -0.9819712773277408\n"
     ]
    },
    {
     "name": "stderr",
     "output_type": "stream",
     "text": [
      "200it [00:00, 578.84it/s]\n",
      "  0%|                                                  | 0/8000 [00:00<?, ?it/s]"
     ]
    },
    {
     "name": "stdout",
     "output_type": "stream",
     "text": [
      "1\n",
      "1 0.9818441457505233\n",
      "Objective KNNR_Objective:\n"
     ]
    },
    {
     "name": "stderr",
     "output_type": "stream",
     "text": [
      " 19%|███████▎                               | 1498/8000 [03:09<13:44,  7.89it/s]\n",
      "77it [00:00, 767.49it/s]"
     ]
    },
    {
     "name": "stdout",
     "output_type": "stream",
     "text": [
      "iterations: 1498\n",
      "Number of used features: 10\n",
      "Used features: ['num-p029-body.nii.gz-0.500000', 'hist-2-p029-body.nii.gz-0.500000', 'hist-3-p029-body.nii.gz-0.500000', 'hist-4-p029-body.nii.gz-0.500000', 'hist-5-p029-body.nii.gz-0.500000', 'hist-26-p029-body.nii.gz-0.500000', 'hist-34-p029-body.nii.gz-0.500000', 'hist-40-p029-body.nii.gz-0.500000', 'hist-42-p029-body.nii.gz-0.500000', 'hist-43-p029-body.nii.gz-0.500000'] \n",
      "Score: -0.8632677231480752\n"
     ]
    },
    {
     "name": "stderr",
     "output_type": "stream",
     "text": [
      "200it [00:00, 758.58it/s]\n",
      "  0%|                                                  | 0/8000 [00:00<?, ?it/s]"
     ]
    },
    {
     "name": "stdout",
     "output_type": "stream",
     "text": [
      "1\n",
      "1 0.8711556694177605\n",
      "Objective LinearRegression_Objective:\n"
     ]
    },
    {
     "name": "stderr",
     "output_type": "stream",
     "text": [
      " 13%|████▉                                  | 1010/8000 [01:28<10:10, 11.45it/s]\n",
      "97it [00:00, 961.63it/s]"
     ]
    },
    {
     "name": "stdout",
     "output_type": "stream",
     "text": [
      "iterations: 1010\n",
      "Number of used features: 9\n",
      "Used features: ['num-p029-body.nii.gz-0.500000', 'kurt-p029-body.nii.gz-0.500000', 'hist-6-p029-body.nii.gz-0.500000', 'hist-8-p029-body.nii.gz-0.500000', 'hist-27-p029-body.nii.gz-0.500000', 'hist-29-p029-body.nii.gz-0.500000', 'hist-39-p029-body.nii.gz-0.500000', 'hist-40-p029-body.nii.gz-0.500000', 'hist-41-p029-body.nii.gz-0.500000'] \n",
      "Score: -0.9817475626949629\n"
     ]
    },
    {
     "name": "stderr",
     "output_type": "stream",
     "text": [
      "200it [00:00, 944.87it/s]\n",
      "  0%|                                                  | 0/8000 [00:00<?, ?it/s]"
     ]
    },
    {
     "name": "stdout",
     "output_type": "stream",
     "text": [
      "1\n",
      "1 0.9823726004758246\n",
      "Objective LassoRegression_Objective:\n"
     ]
    },
    {
     "name": "stderr",
     "output_type": "stream",
     "text": [
      " 17%|██████▊                                | 1393/8000 [03:17<15:34,  7.07it/s]\n",
      "62it [00:00, 612.33it/s]"
     ]
    },
    {
     "name": "stdout",
     "output_type": "stream",
     "text": [
      "iterations: 1393\n",
      "Number of used features: 6\n",
      "Used features: ['num-p029-body.nii.gz-0.500000', 'std-p029-body.nii.gz-0.500000', 'hist-5-p029-body.nii.gz-0.500000', 'hist-8-p029-body.nii.gz-0.500000', 'hist-31-p029-body.nii.gz-0.500000', 'hist-39-p029-body.nii.gz-0.500000'] \n",
      "Score: -0.9824104740317039\n"
     ]
    },
    {
     "name": "stderr",
     "output_type": "stream",
     "text": [
      "200it [00:00, 613.93it/s]\n",
      "  0%|                                                  | 0/8000 [00:00<?, ?it/s]"
     ]
    },
    {
     "name": "stdout",
     "output_type": "stream",
     "text": [
      "1\n",
      "1 0.9826160585881198\n",
      "Objective RidgeRegression_Objective:\n"
     ]
    },
    {
     "name": "stderr",
     "output_type": "stream",
     "text": [
      " 11%|████▌                                   | 912/8000 [01:57<15:12,  7.76it/s]\n",
      "71it [00:00, 702.96it/s]"
     ]
    },
    {
     "name": "stdout",
     "output_type": "stream",
     "text": [
      "iterations: 912\n",
      "Number of used features: 12\n",
      "Used features: ['num-p029-body.nii.gz-0.500000', 'hist-2-p029-body.nii.gz-0.500000', 'hist-3-p029-body.nii.gz-0.500000', 'hist-5-p029-body.nii.gz-0.500000', 'hist-16-p029-body.nii.gz-0.500000', 'hist-17-p029-body.nii.gz-0.500000', 'hist-20-p029-body.nii.gz-0.500000', 'hist-30-p029-body.nii.gz-0.500000', 'hist-39-p029-body.nii.gz-0.500000', 'hist-41-p029-body.nii.gz-0.500000', 'hist-42-p029-body.nii.gz-0.500000', 'hist-43-p029-body.nii.gz-0.500000'] \n",
      "Score: -0.9857188796460701\n"
     ]
    },
    {
     "name": "stderr",
     "output_type": "stream",
     "text": [
      "200it [00:00, 701.01it/s]\n",
      "  0%|                                                  | 0/8000 [00:00<?, ?it/s]"
     ]
    },
    {
     "name": "stdout",
     "output_type": "stream",
     "text": [
      "1\n",
      "1 0.9867660523478547\n",
      "Objective PLSRegression_Objective:\n"
     ]
    },
    {
     "name": "stderr",
     "output_type": "stream",
     "text": [
      " 10%|████▏                                   | 838/8000 [02:01<17:16,  6.91it/s]\n",
      "56it [00:00, 551.68it/s]"
     ]
    },
    {
     "name": "stdout",
     "output_type": "stream",
     "text": [
      "iterations: 838\n",
      "Number of used features: 9\n",
      "Used features: ['num-p029-body.nii.gz-0.500000', 'std-p029-body.nii.gz-0.500000', 'hist-4-p029-body.nii.gz-0.500000', 'hist-16-p029-body.nii.gz-0.500000', 'hist-17-p029-body.nii.gz-0.500000', 'hist-20-p029-body.nii.gz-0.500000', 'hist-30-p029-body.nii.gz-0.500000', 'hist-42-p029-body.nii.gz-0.500000', 'hist-43-p029-body.nii.gz-0.500000'] \n",
      "Score: -0.9860852684010607\n"
     ]
    },
    {
     "name": "stderr",
     "output_type": "stream",
     "text": [
      "200it [00:00, 556.58it/s]\n",
      "  0%|                                                  | 0/8000 [00:00<?, ?it/s]"
     ]
    },
    {
     "name": "stdout",
     "output_type": "stream",
     "text": [
      "1\n",
      "1 0.9868053216093442\n",
      "Objective KNNR_Objective:\n"
     ]
    },
    {
     "name": "stderr",
     "output_type": "stream",
     "text": [
      " 12%|████▊                                   | 971/8000 [02:05<15:08,  7.74it/s]\n",
      "80it [00:00, 792.17it/s]"
     ]
    },
    {
     "name": "stdout",
     "output_type": "stream",
     "text": [
      "iterations: 971\n",
      "Number of used features: 8\n",
      "Used features: ['num-p032-body.nii.gz-0.500000', 'hist-2-p032-body.nii.gz-0.500000', 'hist-3-p032-body.nii.gz-0.500000', 'hist-4-p032-body.nii.gz-0.500000', 'hist-5-p032-body.nii.gz-0.500000', 'hist-10-p032-body.nii.gz-0.500000', 'hist-41-p032-body.nii.gz-0.500000', 'hist-42-p032-body.nii.gz-0.500000'] \n",
      "Score: -0.8905401882203348\n"
     ]
    },
    {
     "name": "stderr",
     "output_type": "stream",
     "text": [
      "200it [00:00, 788.76it/s]\n",
      "  0%|                                                  | 0/8000 [00:00<?, ?it/s]"
     ]
    },
    {
     "name": "stdout",
     "output_type": "stream",
     "text": [
      "1\n",
      "1 0.8998587834271418\n",
      "Objective LinearRegression_Objective:\n"
     ]
    },
    {
     "name": "stderr",
     "output_type": "stream",
     "text": [
      " 10%|███▉                                    | 783/8000 [01:06<10:15, 11.73it/s]\n",
      "99it [00:00, 980.59it/s]"
     ]
    },
    {
     "name": "stdout",
     "output_type": "stream",
     "text": [
      "iterations: 783\n",
      "Number of used features: 8\n",
      "Used features: ['num-p032-body.nii.gz-0.500000', 'hist-6-p032-body.nii.gz-0.500000', 'hist-8-p032-body.nii.gz-0.500000', 'hist-25-p032-body.nii.gz-0.500000', 'hist-30-p032-body.nii.gz-0.500000', 'hist-39-p032-body.nii.gz-0.500000', 'hist-40-p032-body.nii.gz-0.500000', 'hist-43-p032-body.nii.gz-0.500000'] \n",
      "Score: -0.9845883158580039\n"
     ]
    },
    {
     "name": "stderr",
     "output_type": "stream",
     "text": [
      "200it [00:00, 978.47it/s]\n",
      "  0%|                                                  | 0/8000 [00:00<?, ?it/s]"
     ]
    },
    {
     "name": "stdout",
     "output_type": "stream",
     "text": [
      "1\n",
      "1 0.9845027513335325\n",
      "Objective LassoRegression_Objective:\n"
     ]
    },
    {
     "name": "stderr",
     "output_type": "stream",
     "text": [
      " 11%|████▎                                   | 862/8000 [02:10<17:59,  6.61it/s]\n",
      "63it [00:00, 624.09it/s]"
     ]
    },
    {
     "name": "stdout",
     "output_type": "stream",
     "text": [
      "iterations: 862\n",
      "Number of used features: 6\n",
      "Used features: ['num-p032-body.nii.gz-0.500000', 'hist-6-p032-body.nii.gz-0.500000', 'hist-8-p032-body.nii.gz-0.500000', 'hist-25-p032-body.nii.gz-0.500000', 'hist-31-p032-body.nii.gz-0.500000', 'hist-43-p032-body.nii.gz-0.500000'] \n",
      "Score: -0.9853671906549213\n"
     ]
    },
    {
     "name": "stderr",
     "output_type": "stream",
     "text": [
      "200it [00:00, 624.26it/s]\n",
      "  0%|                                                  | 0/8000 [00:00<?, ?it/s]"
     ]
    },
    {
     "name": "stdout",
     "output_type": "stream",
     "text": [
      "1\n",
      "1 0.9854554606416991\n",
      "Objective RidgeRegression_Objective:\n"
     ]
    },
    {
     "name": "stderr",
     "output_type": "stream",
     "text": [
      " 12%|████▊                                   | 951/8000 [02:05<15:26,  7.61it/s]\n",
      "71it [00:00, 708.36it/s]"
     ]
    },
    {
     "name": "stdout",
     "output_type": "stream",
     "text": [
      "iterations: 951\n",
      "Number of used features: 11\n",
      "Used features: ['num-p032-body.nii.gz-0.500000', 'hist-6-p032-body.nii.gz-0.500000', 'hist-8-p032-body.nii.gz-0.500000', 'hist-14-p032-body.nii.gz-0.500000', 'hist-17-p032-body.nii.gz-0.500000', 'hist-20-p032-body.nii.gz-0.500000', 'hist-30-p032-body.nii.gz-0.500000', 'hist-39-p032-body.nii.gz-0.500000', 'hist-40-p032-body.nii.gz-0.500000', 'hist-41-p032-body.nii.gz-0.500000', 'hist-43-p032-body.nii.gz-0.500000'] \n",
      "Score: -0.9868266487911419\n"
     ]
    },
    {
     "name": "stderr",
     "output_type": "stream",
     "text": [
      "200it [00:00, 707.54it/s]\n",
      "  0%|                                                  | 0/8000 [00:00<?, ?it/s]"
     ]
    },
    {
     "name": "stdout",
     "output_type": "stream",
     "text": [
      "1\n",
      "1 0.9868901429198503\n",
      "Objective PLSRegression_Objective:\n"
     ]
    },
    {
     "name": "stderr",
     "output_type": "stream",
     "text": [
      " 13%|████▉                                  | 1011/8000 [02:21<16:15,  7.17it/s]\n",
      "62it [00:00, 611.41it/s]"
     ]
    },
    {
     "name": "stdout",
     "output_type": "stream",
     "text": [
      "iterations: 1011\n",
      "Number of used features: 12\n",
      "Used features: ['num-p032-body.nii.gz-0.500000', 'mean-p032-body.nii.gz-0.500000', 'skew-p032-body.nii.gz-0.500000', 'hist-2-p032-body.nii.gz-0.500000', 'hist-4-p032-body.nii.gz-0.500000', 'hist-8-p032-body.nii.gz-0.500000', 'hist-14-p032-body.nii.gz-0.500000', 'hist-25-p032-body.nii.gz-0.500000', 'hist-31-p032-body.nii.gz-0.500000', 'hist-39-p032-body.nii.gz-0.500000', 'hist-40-p032-body.nii.gz-0.500000', 'hist-43-p032-body.nii.gz-0.500000'] \n",
      "Score: -0.9842232204024144\n"
     ]
    },
    {
     "name": "stderr",
     "output_type": "stream",
     "text": [
      "200it [00:00, 607.94it/s]\n",
      "  0%|                                                  | 0/8000 [00:00<?, ?it/s]"
     ]
    },
    {
     "name": "stdout",
     "output_type": "stream",
     "text": [
      "1\n",
      "1 0.9843065490460206\n",
      "Objective KNNR_Objective:\n"
     ]
    },
    {
     "name": "stderr",
     "output_type": "stream",
     "text": [
      "  9%|███▋                                    | 739/8000 [01:30<14:52,  8.14it/s]\n",
      "80it [00:00, 795.27it/s]"
     ]
    },
    {
     "name": "stdout",
     "output_type": "stream",
     "text": [
      "iterations: 739\n",
      "Number of used features: 14\n",
      "Used features: ['num-p041-body.nii.gz-0.500000', 'std-p041-body.nii.gz-0.500000', 'skew-p041-body.nii.gz-0.500000', 'hist-0-p041-body.nii.gz-0.500000', 'hist-1-p041-body.nii.gz-0.500000', 'hist-2-p041-body.nii.gz-0.500000', 'hist-4-p041-body.nii.gz-0.500000', 'hist-5-p041-body.nii.gz-0.500000', 'hist-14-p041-body.nii.gz-0.500000', 'hist-25-p041-body.nii.gz-0.500000', 'hist-30-p041-body.nii.gz-0.500000', 'hist-31-p041-body.nii.gz-0.500000', 'hist-39-p041-body.nii.gz-0.500000', 'hist-40-p041-body.nii.gz-0.500000'] \n",
      "Score: -0.8262496479428452\n"
     ]
    },
    {
     "name": "stderr",
     "output_type": "stream",
     "text": [
      "200it [00:00, 794.04it/s]\n",
      "  0%|                                                  | 0/8000 [00:00<?, ?it/s]"
     ]
    },
    {
     "name": "stdout",
     "output_type": "stream",
     "text": [
      "1\n",
      "1 0.8352702714816519\n",
      "Objective LinearRegression_Objective:\n"
     ]
    },
    {
     "name": "stderr",
     "output_type": "stream",
     "text": [
      " 10%|████▏                                   | 836/8000 [01:10<10:01, 11.91it/s]\n",
      "99it [00:00, 986.34it/s]"
     ]
    },
    {
     "name": "stdout",
     "output_type": "stream",
     "text": [
      "iterations: 836\n",
      "Number of used features: 11\n",
      "Used features: ['num-p041-body.nii.gz-0.500000', 'sum-p041-body.nii.gz-0.500000', 'hist-4-p041-body.nii.gz-0.500000', 'hist-6-p041-body.nii.gz-0.500000', 'hist-8-p041-body.nii.gz-0.500000', 'hist-17-p041-body.nii.gz-0.500000', 'hist-25-p041-body.nii.gz-0.500000', 'hist-31-p041-body.nii.gz-0.500000', 'hist-39-p041-body.nii.gz-0.500000', 'hist-41-p041-body.nii.gz-0.500000', 'hist-43-p041-body.nii.gz-0.500000'] \n",
      "Score: -0.9866822065023276\n"
     ]
    },
    {
     "name": "stderr",
     "output_type": "stream",
     "text": [
      "200it [00:00, 977.86it/s]\n",
      "  0%|                                                  | 0/8000 [00:00<?, ?it/s]"
     ]
    },
    {
     "name": "stdout",
     "output_type": "stream",
     "text": [
      "1\n",
      "1 0.9871189981389149\n",
      "Objective LassoRegression_Objective:\n"
     ]
    },
    {
     "name": "stderr",
     "output_type": "stream",
     "text": [
      "  9%|███▊                                    | 757/8000 [01:54<18:17,  6.60it/s]\n",
      "62it [00:00, 610.23it/s]"
     ]
    },
    {
     "name": "stdout",
     "output_type": "stream",
     "text": [
      "iterations: 757\n",
      "Number of used features: 10\n",
      "Used features: ['num-p041-body.nii.gz-0.500000', 'sum-p041-body.nii.gz-0.500000', 'hist-2-p041-body.nii.gz-0.500000', 'hist-8-p041-body.nii.gz-0.500000', 'hist-14-p041-body.nii.gz-0.500000', 'hist-17-p041-body.nii.gz-0.500000', 'hist-25-p041-body.nii.gz-0.500000', 'hist-32-p041-body.nii.gz-0.500000', 'hist-40-p041-body.nii.gz-0.500000', 'hist-41-p041-body.nii.gz-0.500000'] \n",
      "Score: -0.9858366949631884\n"
     ]
    },
    {
     "name": "stderr",
     "output_type": "stream",
     "text": [
      "200it [00:00, 609.17it/s]\n",
      "  0%|                                                  | 0/8000 [00:00<?, ?it/s]"
     ]
    },
    {
     "name": "stdout",
     "output_type": "stream",
     "text": [
      "1\n",
      "1 0.9862971582872978\n",
      "Objective RidgeRegression_Objective:\n"
     ]
    },
    {
     "name": "stderr",
     "output_type": "stream",
     "text": [
      " 13%|████▉                                  | 1002/8000 [02:08<14:59,  7.78it/s]\n",
      "71it [00:00, 704.40it/s]"
     ]
    },
    {
     "name": "stdout",
     "output_type": "stream",
     "text": [
      "iterations: 1002\n",
      "Number of used features: 13\n",
      "Used features: ['num-p041-body.nii.gz-0.500000', 'mean-p041-body.nii.gz-0.500000', 'std-p041-body.nii.gz-0.500000', 'hist-0-p041-body.nii.gz-0.500000', 'hist-1-p041-body.nii.gz-0.500000', 'hist-2-p041-body.nii.gz-0.500000', 'hist-6-p041-body.nii.gz-0.500000', 'hist-8-p041-body.nii.gz-0.500000', 'hist-24-p041-body.nii.gz-0.500000', 'hist-32-p041-body.nii.gz-0.500000', 'hist-41-p041-body.nii.gz-0.500000', 'hist-42-p041-body.nii.gz-0.500000', 'hist-43-p041-body.nii.gz-0.500000'] \n",
      "Score: -0.9860016476243657\n"
     ]
    },
    {
     "name": "stderr",
     "output_type": "stream",
     "text": [
      "200it [00:00, 708.30it/s]\n",
      "  0%|                                                  | 0/8000 [00:00<?, ?it/s]"
     ]
    },
    {
     "name": "stdout",
     "output_type": "stream",
     "text": [
      "1\n",
      "1 0.9870421810145801\n",
      "Objective PLSRegression_Objective:\n"
     ]
    },
    {
     "name": "stderr",
     "output_type": "stream",
     "text": [
      "  9%|███▌                                    | 720/8000 [01:40<16:54,  7.17it/s]\n",
      "62it [00:00, 612.03it/s]"
     ]
    },
    {
     "name": "stdout",
     "output_type": "stream",
     "text": [
      "iterations: 720\n",
      "Number of used features: 12\n",
      "Used features: ['num-p041-body.nii.gz-0.500000', 'sum-p041-body.nii.gz-0.500000', 'hist-2-p041-body.nii.gz-0.500000', 'hist-8-p041-body.nii.gz-0.500000', 'hist-14-p041-body.nii.gz-0.500000', 'hist-17-p041-body.nii.gz-0.500000', 'hist-18-p041-body.nii.gz-0.500000', 'hist-24-p041-body.nii.gz-0.500000', 'hist-32-p041-body.nii.gz-0.500000', 'hist-39-p041-body.nii.gz-0.500000', 'hist-40-p041-body.nii.gz-0.500000', 'hist-42-p041-body.nii.gz-0.500000'] \n",
      "Score: -0.9862181072210461\n"
     ]
    },
    {
     "name": "stderr",
     "output_type": "stream",
     "text": [
      "200it [00:00, 609.72it/s]\n",
      "  0%|                                                  | 0/8000 [00:00<?, ?it/s]"
     ]
    },
    {
     "name": "stdout",
     "output_type": "stream",
     "text": [
      "1\n",
      "1 0.9866930144328285\n",
      "Objective KNNR_Objective:\n"
     ]
    },
    {
     "name": "stderr",
     "output_type": "stream",
     "text": [
      " 11%|████▌                                   | 919/8000 [01:55<14:49,  7.96it/s]\n",
      "81it [00:00, 799.53it/s]"
     ]
    },
    {
     "name": "stdout",
     "output_type": "stream",
     "text": [
      "iterations: 919\n",
      "Number of used features: 16\n",
      "Used features: ['num-p048-body.nii.gz-0.500000', 'sum-p048-body.nii.gz-0.500000', 'std-p048-body.nii.gz-0.500000', 'skew-p048-body.nii.gz-0.500000', 'hist-0-p048-body.nii.gz-0.500000', 'hist-1-p048-body.nii.gz-0.500000', 'hist-2-p048-body.nii.gz-0.500000', 'hist-3-p048-body.nii.gz-0.500000', 'hist-4-p048-body.nii.gz-0.500000', 'hist-5-p048-body.nii.gz-0.500000', 'hist-8-p048-body.nii.gz-0.500000', 'hist-25-p048-body.nii.gz-0.500000', 'hist-28-p048-body.nii.gz-0.500000', 'hist-29-p048-body.nii.gz-0.500000', 'hist-31-p048-body.nii.gz-0.500000', 'hist-39-p048-body.nii.gz-0.500000'] \n",
      "Score: -0.8181597767567761\n"
     ]
    },
    {
     "name": "stderr",
     "output_type": "stream",
     "text": [
      "200it [00:00, 791.59it/s]\n",
      "  0%|                                                  | 0/8000 [00:00<?, ?it/s]"
     ]
    },
    {
     "name": "stdout",
     "output_type": "stream",
     "text": [
      "1\n",
      "1 0.8393490096627271\n",
      "Objective LinearRegression_Objective:\n"
     ]
    },
    {
     "name": "stderr",
     "output_type": "stream",
     "text": [
      " 10%|████                                    | 804/8000 [01:08<10:13, 11.72it/s]\n",
      "99it [00:00, 986.35it/s]"
     ]
    },
    {
     "name": "stdout",
     "output_type": "stream",
     "text": [
      "iterations: 804\n",
      "Number of used features: 12\n",
      "Used features: ['num-p048-body.nii.gz-0.500000', 'std-p048-body.nii.gz-0.500000', 'hist-6-p048-body.nii.gz-0.500000', 'hist-10-p048-body.nii.gz-0.500000', 'hist-14-p048-body.nii.gz-0.500000', 'hist-17-p048-body.nii.gz-0.500000', 'hist-20-p048-body.nii.gz-0.500000', 'hist-31-p048-body.nii.gz-0.500000', 'hist-34-p048-body.nii.gz-0.500000', 'hist-39-p048-body.nii.gz-0.500000', 'hist-40-p048-body.nii.gz-0.500000', 'hist-43-p048-body.nii.gz-0.500000'] \n",
      "Score: -0.9800387712679687\n"
     ]
    },
    {
     "name": "stderr",
     "output_type": "stream",
     "text": [
      "200it [00:00, 978.78it/s]\n",
      "  0%|                                                  | 0/8000 [00:00<?, ?it/s]"
     ]
    },
    {
     "name": "stdout",
     "output_type": "stream",
     "text": [
      "1\n",
      "1 0.9799749391498961\n",
      "Objective LassoRegression_Objective:\n"
     ]
    },
    {
     "name": "stderr",
     "output_type": "stream",
     "text": [
      " 10%|███▊                                    | 773/8000 [02:21<21:58,  5.48it/s]\n",
      "49it [00:00, 481.13it/s]"
     ]
    },
    {
     "name": "stdout",
     "output_type": "stream",
     "text": [
      "iterations: 773\n",
      "Number of used features: 12\n",
      "Used features: ['num-p048-body.nii.gz-0.500000', 'std-p048-body.nii.gz-0.500000', 'hist-6-p048-body.nii.gz-0.500000', 'hist-8-p048-body.nii.gz-0.500000', 'hist-15-p048-body.nii.gz-0.500000', 'hist-17-p048-body.nii.gz-0.500000', 'hist-19-p048-body.nii.gz-0.500000', 'hist-31-p048-body.nii.gz-0.500000', 'hist-32-p048-body.nii.gz-0.500000', 'hist-39-p048-body.nii.gz-0.500000', 'hist-41-p048-body.nii.gz-0.500000', 'hist-42-p048-body.nii.gz-0.500000'] \n",
      "Score: -0.9800859148301913\n"
     ]
    },
    {
     "name": "stderr",
     "output_type": "stream",
     "text": [
      "200it [00:00, 480.52it/s]\n",
      "  0%|                                                  | 0/8000 [00:00<?, ?it/s]"
     ]
    },
    {
     "name": "stdout",
     "output_type": "stream",
     "text": [
      "1\n",
      "1 0.9802915938778777\n",
      "Objective RidgeRegression_Objective:\n"
     ]
    },
    {
     "name": "stderr",
     "output_type": "stream",
     "text": [
      " 11%|████▎                                   | 865/8000 [01:55<15:56,  7.46it/s]\n",
      "68it [00:00, 677.97it/s]"
     ]
    },
    {
     "name": "stdout",
     "output_type": "stream",
     "text": [
      "iterations: 865\n",
      "Number of used features: 9\n",
      "Used features: ['num-p048-body.nii.gz-0.500000', 'mean-p048-body.nii.gz-0.500000', 'std-p048-body.nii.gz-0.500000', 'hist-4-p048-body.nii.gz-0.500000', 'hist-5-p048-body.nii.gz-0.500000', 'hist-6-p048-body.nii.gz-0.500000', 'hist-8-p048-body.nii.gz-0.500000', 'hist-24-p048-body.nii.gz-0.500000', 'hist-30-p048-body.nii.gz-0.500000'] \n",
      "Score: -0.9770457684404539\n"
     ]
    },
    {
     "name": "stderr",
     "output_type": "stream",
     "text": [
      "200it [00:00, 676.46it/s]\n",
      "  0%|                                                  | 0/8000 [00:00<?, ?it/s]"
     ]
    },
    {
     "name": "stdout",
     "output_type": "stream",
     "text": [
      "1\n",
      "1 0.977707885213198\n",
      "Objective PLSRegression_Objective:\n"
     ]
    },
    {
     "name": "stderr",
     "output_type": "stream",
     "text": [
      " 14%|█████▌                                 | 1129/8000 [02:39<16:13,  7.06it/s]\n",
      "62it [00:00, 615.43it/s]"
     ]
    },
    {
     "name": "stdout",
     "output_type": "stream",
     "text": [
      "iterations: 1129\n",
      "Number of used features: 10\n",
      "Used features: ['num-p048-body.nii.gz-0.500000', 'sum-p048-body.nii.gz-0.500000', 'hist-6-p048-body.nii.gz-0.500000', 'hist-8-p048-body.nii.gz-0.500000', 'hist-17-p048-body.nii.gz-0.500000', 'hist-18-p048-body.nii.gz-0.500000', 'hist-21-p048-body.nii.gz-0.500000', 'hist-24-p048-body.nii.gz-0.500000', 'hist-30-p048-body.nii.gz-0.500000', 'hist-43-p048-body.nii.gz-0.500000'] \n",
      "Score: -0.9806057894926818\n"
     ]
    },
    {
     "name": "stderr",
     "output_type": "stream",
     "text": [
      "200it [00:00, 613.90it/s]"
     ]
    },
    {
     "name": "stdout",
     "output_type": "stream",
     "text": [
      "1\n",
      "1 0.9804053332533392\n"
     ]
    },
    {
     "name": "stderr",
     "output_type": "stream",
     "text": [
      "\n"
     ]
    }
   ],
   "source": [
    "for m in masks:\n",
    "    results.append(model_selection(body_features[[c for c in body_features.columns if m in c or c == 'type']], body_target, dataset='body', type=m))"
   ]
  },
  {
   "cell_type": "markdown",
   "metadata": {},
   "source": [
    "### Saving the results"
   ]
  },
  {
   "cell_type": "code",
   "execution_count": 27,
   "metadata": {},
   "outputs": [],
   "source": [
    "results= pd.concat(results)\n",
    "results.to_csv(os.path.join(path_prefix_results,'results.csv'), index=False)\n",
    "pickle.dump(results, open(os.path.join(path_prefix_results,'results.pickle'), 'wb'))"
   ]
  },
  {
   "cell_type": "markdown",
   "metadata": {},
   "source": [
    "## Without feature selection"
   ]
  },
  {
   "cell_type": "markdown",
   "metadata": {},
   "source": [
    "### leg with all features"
   ]
  },
  {
   "cell_type": "code",
   "execution_count": 28,
   "metadata": {},
   "outputs": [
    {
     "name": "stderr",
     "output_type": "stream",
     "text": [
      "\r",
      "  0%|                                                  | 0/8000 [00:00<?, ?it/s]"
     ]
    },
    {
     "name": "stdout",
     "output_type": "stream",
     "text": [
      "Objective KNNR_Objective:\n"
     ]
    },
    {
     "name": "stderr",
     "output_type": "stream",
     "text": [
      "  7%|██▋                                     | 529/8000 [00:20<04:56, 25.21it/s]\n",
      "67it [00:00, 661.01it/s]"
     ]
    },
    {
     "name": "stdout",
     "output_type": "stream",
     "text": [
      "iterations: 529\n",
      "Number of used features: 157\n",
      "Used features: ['Unnamed: 0', 'num-p004-leg.nii.gz-0.500000', 'sum-p004-leg.nii.gz-0.500000', 'mean-p004-leg.nii.gz-0.500000', 'std-p004-leg.nii.gz-0.500000', 'skew-p004-leg.nii.gz-0.500000', 'kurt-p004-leg.nii.gz-0.500000', 'hist-0-p004-leg.nii.gz-0.500000', 'hist-1-p004-leg.nii.gz-0.500000', 'hist-2-p004-leg.nii.gz-0.500000', 'hist-3-p004-leg.nii.gz-0.500000', 'hist-4-p004-leg.nii.gz-0.500000', 'hist-5-p004-leg.nii.gz-0.500000', 'hist-6-p004-leg.nii.gz-0.500000', 'hist-7-p004-leg.nii.gz-0.500000', 'hist-8-p004-leg.nii.gz-0.500000', 'hist-9-p004-leg.nii.gz-0.500000', 'hist-10-p004-leg.nii.gz-0.500000', 'hist-11-p004-leg.nii.gz-0.500000', 'hist-12-p004-leg.nii.gz-0.500000', 'hist-13-p004-leg.nii.gz-0.500000', 'hist-14-p004-leg.nii.gz-0.500000', 'hist-15-p004-leg.nii.gz-0.500000', 'hist-16-p004-leg.nii.gz-0.500000', 'hist-17-p004-leg.nii.gz-0.500000', 'hist-18-p004-leg.nii.gz-0.500000', 'hist-19-p004-leg.nii.gz-0.500000', 'num-p029-leg.nii.gz-0.500000', 'sum-p029-leg.nii.gz-0.500000', 'mean-p029-leg.nii.gz-0.500000', 'std-p029-leg.nii.gz-0.500000', 'skew-p029-leg.nii.gz-0.500000', 'kurt-p029-leg.nii.gz-0.500000', 'hist-0-p029-leg.nii.gz-0.500000', 'hist-1-p029-leg.nii.gz-0.500000', 'hist-2-p029-leg.nii.gz-0.500000', 'hist-3-p029-leg.nii.gz-0.500000', 'hist-4-p029-leg.nii.gz-0.500000', 'hist-5-p029-leg.nii.gz-0.500000', 'hist-6-p029-leg.nii.gz-0.500000', 'hist-7-p029-leg.nii.gz-0.500000', 'hist-8-p029-leg.nii.gz-0.500000', 'hist-9-p029-leg.nii.gz-0.500000', 'hist-10-p029-leg.nii.gz-0.500000', 'hist-11-p029-leg.nii.gz-0.500000', 'hist-12-p029-leg.nii.gz-0.500000', 'hist-13-p029-leg.nii.gz-0.500000', 'hist-14-p029-leg.nii.gz-0.500000', 'hist-15-p029-leg.nii.gz-0.500000', 'hist-16-p029-leg.nii.gz-0.500000', 'hist-17-p029-leg.nii.gz-0.500000', 'hist-18-p029-leg.nii.gz-0.500000', 'hist-19-p029-leg.nii.gz-0.500000', 'num-p032-leg.nii.gz-0.500000', 'sum-p032-leg.nii.gz-0.500000', 'mean-p032-leg.nii.gz-0.500000', 'std-p032-leg.nii.gz-0.500000', 'skew-p032-leg.nii.gz-0.500000', 'kurt-p032-leg.nii.gz-0.500000', 'hist-0-p032-leg.nii.gz-0.500000', 'hist-1-p032-leg.nii.gz-0.500000', 'hist-2-p032-leg.nii.gz-0.500000', 'hist-3-p032-leg.nii.gz-0.500000', 'hist-4-p032-leg.nii.gz-0.500000', 'hist-5-p032-leg.nii.gz-0.500000', 'hist-6-p032-leg.nii.gz-0.500000', 'hist-7-p032-leg.nii.gz-0.500000', 'hist-8-p032-leg.nii.gz-0.500000', 'hist-9-p032-leg.nii.gz-0.500000', 'hist-10-p032-leg.nii.gz-0.500000', 'hist-11-p032-leg.nii.gz-0.500000', 'hist-12-p032-leg.nii.gz-0.500000', 'hist-13-p032-leg.nii.gz-0.500000', 'hist-14-p032-leg.nii.gz-0.500000', 'hist-15-p032-leg.nii.gz-0.500000', 'hist-16-p032-leg.nii.gz-0.500000', 'hist-17-p032-leg.nii.gz-0.500000', 'hist-18-p032-leg.nii.gz-0.500000', 'hist-19-p032-leg.nii.gz-0.500000', 'num-p041-leg.nii.gz-0.500000', 'sum-p041-leg.nii.gz-0.500000', 'mean-p041-leg.nii.gz-0.500000', 'std-p041-leg.nii.gz-0.500000', 'skew-p041-leg.nii.gz-0.500000', 'kurt-p041-leg.nii.gz-0.500000', 'hist-0-p041-leg.nii.gz-0.500000', 'hist-1-p041-leg.nii.gz-0.500000', 'hist-2-p041-leg.nii.gz-0.500000', 'hist-3-p041-leg.nii.gz-0.500000', 'hist-4-p041-leg.nii.gz-0.500000', 'hist-5-p041-leg.nii.gz-0.500000', 'hist-6-p041-leg.nii.gz-0.500000', 'hist-7-p041-leg.nii.gz-0.500000', 'hist-8-p041-leg.nii.gz-0.500000', 'hist-9-p041-leg.nii.gz-0.500000', 'hist-10-p041-leg.nii.gz-0.500000', 'hist-11-p041-leg.nii.gz-0.500000', 'hist-12-p041-leg.nii.gz-0.500000', 'hist-13-p041-leg.nii.gz-0.500000', 'hist-14-p041-leg.nii.gz-0.500000', 'hist-15-p041-leg.nii.gz-0.500000', 'hist-16-p041-leg.nii.gz-0.500000', 'hist-17-p041-leg.nii.gz-0.500000', 'hist-18-p041-leg.nii.gz-0.500000', 'hist-19-p041-leg.nii.gz-0.500000', 'num-p048-leg.nii.gz-0.500000', 'sum-p048-leg.nii.gz-0.500000', 'mean-p048-leg.nii.gz-0.500000', 'std-p048-leg.nii.gz-0.500000', 'skew-p048-leg.nii.gz-0.500000', 'kurt-p048-leg.nii.gz-0.500000', 'hist-0-p048-leg.nii.gz-0.500000', 'hist-1-p048-leg.nii.gz-0.500000', 'hist-2-p048-leg.nii.gz-0.500000', 'hist-3-p048-leg.nii.gz-0.500000', 'hist-4-p048-leg.nii.gz-0.500000', 'hist-5-p048-leg.nii.gz-0.500000', 'hist-6-p048-leg.nii.gz-0.500000', 'hist-7-p048-leg.nii.gz-0.500000', 'hist-8-p048-leg.nii.gz-0.500000', 'hist-9-p048-leg.nii.gz-0.500000', 'hist-10-p048-leg.nii.gz-0.500000', 'hist-11-p048-leg.nii.gz-0.500000', 'hist-12-p048-leg.nii.gz-0.500000', 'hist-13-p048-leg.nii.gz-0.500000', 'hist-14-p048-leg.nii.gz-0.500000', 'hist-15-p048-leg.nii.gz-0.500000', 'hist-16-p048-leg.nii.gz-0.500000', 'hist-17-p048-leg.nii.gz-0.500000', 'hist-18-p048-leg.nii.gz-0.500000', 'hist-19-p048-leg.nii.gz-0.500000', 'num-0.500000-mean_mask', 'sum-0.500000-mean_mask', 'mean-0.500000-mean_mask', 'std-0.500000-mean_mask', 'skew-0.500000-mean_mask', 'kurt-0.500000-mean_mask', 'hist-0-0.500000-mean_mask', 'hist-1-0.500000-mean_mask', 'hist-2-0.500000-mean_mask', 'hist-3-0.500000-mean_mask', 'hist-4-0.500000-mean_mask', 'hist-5-0.500000-mean_mask', 'hist-6-0.500000-mean_mask', 'hist-7-0.500000-mean_mask', 'hist-8-0.500000-mean_mask', 'hist-9-0.500000-mean_mask', 'hist-10-0.500000-mean_mask', 'hist-11-0.500000-mean_mask', 'hist-12-0.500000-mean_mask', 'hist-13-0.500000-mean_mask', 'hist-14-0.500000-mean_mask', 'hist-15-0.500000-mean_mask', 'hist-16-0.500000-mean_mask', 'hist-17-0.500000-mean_mask', 'hist-18-0.500000-mean_mask', 'hist-19-0.500000-mean_mask'] \n",
      "Score: -0.7467383874257679\n"
     ]
    },
    {
     "name": "stderr",
     "output_type": "stream",
     "text": [
      "200it [00:00, 657.51it/s]\n",
      "  0%|                                                  | 0/8000 [00:00<?, ?it/s]"
     ]
    },
    {
     "name": "stdout",
     "output_type": "stream",
     "text": [
      "1\n",
      "1 0.7616842981257903\n",
      "Objective LinearRegression_Objective:\n"
     ]
    },
    {
     "name": "stderr",
     "output_type": "stream",
     "text": [
      "  6%|██▎                                   | 499/8000 [00:00<00:03, 2237.67it/s]\n",
      "66it [00:00, 652.77it/s]"
     ]
    },
    {
     "name": "stdout",
     "output_type": "stream",
     "text": [
      "iterations: 499\n",
      "Number of used features: 157\n",
      "Used features: ['Unnamed: 0', 'num-p004-leg.nii.gz-0.500000', 'sum-p004-leg.nii.gz-0.500000', 'mean-p004-leg.nii.gz-0.500000', 'std-p004-leg.nii.gz-0.500000', 'skew-p004-leg.nii.gz-0.500000', 'kurt-p004-leg.nii.gz-0.500000', 'hist-0-p004-leg.nii.gz-0.500000', 'hist-1-p004-leg.nii.gz-0.500000', 'hist-2-p004-leg.nii.gz-0.500000', 'hist-3-p004-leg.nii.gz-0.500000', 'hist-4-p004-leg.nii.gz-0.500000', 'hist-5-p004-leg.nii.gz-0.500000', 'hist-6-p004-leg.nii.gz-0.500000', 'hist-7-p004-leg.nii.gz-0.500000', 'hist-8-p004-leg.nii.gz-0.500000', 'hist-9-p004-leg.nii.gz-0.500000', 'hist-10-p004-leg.nii.gz-0.500000', 'hist-11-p004-leg.nii.gz-0.500000', 'hist-12-p004-leg.nii.gz-0.500000', 'hist-13-p004-leg.nii.gz-0.500000', 'hist-14-p004-leg.nii.gz-0.500000', 'hist-15-p004-leg.nii.gz-0.500000', 'hist-16-p004-leg.nii.gz-0.500000', 'hist-17-p004-leg.nii.gz-0.500000', 'hist-18-p004-leg.nii.gz-0.500000', 'hist-19-p004-leg.nii.gz-0.500000', 'num-p029-leg.nii.gz-0.500000', 'sum-p029-leg.nii.gz-0.500000', 'mean-p029-leg.nii.gz-0.500000', 'std-p029-leg.nii.gz-0.500000', 'skew-p029-leg.nii.gz-0.500000', 'kurt-p029-leg.nii.gz-0.500000', 'hist-0-p029-leg.nii.gz-0.500000', 'hist-1-p029-leg.nii.gz-0.500000', 'hist-2-p029-leg.nii.gz-0.500000', 'hist-3-p029-leg.nii.gz-0.500000', 'hist-4-p029-leg.nii.gz-0.500000', 'hist-5-p029-leg.nii.gz-0.500000', 'hist-6-p029-leg.nii.gz-0.500000', 'hist-7-p029-leg.nii.gz-0.500000', 'hist-8-p029-leg.nii.gz-0.500000', 'hist-9-p029-leg.nii.gz-0.500000', 'hist-10-p029-leg.nii.gz-0.500000', 'hist-11-p029-leg.nii.gz-0.500000', 'hist-12-p029-leg.nii.gz-0.500000', 'hist-13-p029-leg.nii.gz-0.500000', 'hist-14-p029-leg.nii.gz-0.500000', 'hist-15-p029-leg.nii.gz-0.500000', 'hist-16-p029-leg.nii.gz-0.500000', 'hist-17-p029-leg.nii.gz-0.500000', 'hist-18-p029-leg.nii.gz-0.500000', 'hist-19-p029-leg.nii.gz-0.500000', 'num-p032-leg.nii.gz-0.500000', 'sum-p032-leg.nii.gz-0.500000', 'mean-p032-leg.nii.gz-0.500000', 'std-p032-leg.nii.gz-0.500000', 'skew-p032-leg.nii.gz-0.500000', 'kurt-p032-leg.nii.gz-0.500000', 'hist-0-p032-leg.nii.gz-0.500000', 'hist-1-p032-leg.nii.gz-0.500000', 'hist-2-p032-leg.nii.gz-0.500000', 'hist-3-p032-leg.nii.gz-0.500000', 'hist-4-p032-leg.nii.gz-0.500000', 'hist-5-p032-leg.nii.gz-0.500000', 'hist-6-p032-leg.nii.gz-0.500000', 'hist-7-p032-leg.nii.gz-0.500000', 'hist-8-p032-leg.nii.gz-0.500000', 'hist-9-p032-leg.nii.gz-0.500000', 'hist-10-p032-leg.nii.gz-0.500000', 'hist-11-p032-leg.nii.gz-0.500000', 'hist-12-p032-leg.nii.gz-0.500000', 'hist-13-p032-leg.nii.gz-0.500000', 'hist-14-p032-leg.nii.gz-0.500000', 'hist-15-p032-leg.nii.gz-0.500000', 'hist-16-p032-leg.nii.gz-0.500000', 'hist-17-p032-leg.nii.gz-0.500000', 'hist-18-p032-leg.nii.gz-0.500000', 'hist-19-p032-leg.nii.gz-0.500000', 'num-p041-leg.nii.gz-0.500000', 'sum-p041-leg.nii.gz-0.500000', 'mean-p041-leg.nii.gz-0.500000', 'std-p041-leg.nii.gz-0.500000', 'skew-p041-leg.nii.gz-0.500000', 'kurt-p041-leg.nii.gz-0.500000', 'hist-0-p041-leg.nii.gz-0.500000', 'hist-1-p041-leg.nii.gz-0.500000', 'hist-2-p041-leg.nii.gz-0.500000', 'hist-3-p041-leg.nii.gz-0.500000', 'hist-4-p041-leg.nii.gz-0.500000', 'hist-5-p041-leg.nii.gz-0.500000', 'hist-6-p041-leg.nii.gz-0.500000', 'hist-7-p041-leg.nii.gz-0.500000', 'hist-8-p041-leg.nii.gz-0.500000', 'hist-9-p041-leg.nii.gz-0.500000', 'hist-10-p041-leg.nii.gz-0.500000', 'hist-11-p041-leg.nii.gz-0.500000', 'hist-12-p041-leg.nii.gz-0.500000', 'hist-13-p041-leg.nii.gz-0.500000', 'hist-14-p041-leg.nii.gz-0.500000', 'hist-15-p041-leg.nii.gz-0.500000', 'hist-16-p041-leg.nii.gz-0.500000', 'hist-17-p041-leg.nii.gz-0.500000', 'hist-18-p041-leg.nii.gz-0.500000', 'hist-19-p041-leg.nii.gz-0.500000', 'num-p048-leg.nii.gz-0.500000', 'sum-p048-leg.nii.gz-0.500000', 'mean-p048-leg.nii.gz-0.500000', 'std-p048-leg.nii.gz-0.500000', 'skew-p048-leg.nii.gz-0.500000', 'kurt-p048-leg.nii.gz-0.500000', 'hist-0-p048-leg.nii.gz-0.500000', 'hist-1-p048-leg.nii.gz-0.500000', 'hist-2-p048-leg.nii.gz-0.500000', 'hist-3-p048-leg.nii.gz-0.500000', 'hist-4-p048-leg.nii.gz-0.500000', 'hist-5-p048-leg.nii.gz-0.500000', 'hist-6-p048-leg.nii.gz-0.500000', 'hist-7-p048-leg.nii.gz-0.500000', 'hist-8-p048-leg.nii.gz-0.500000', 'hist-9-p048-leg.nii.gz-0.500000', 'hist-10-p048-leg.nii.gz-0.500000', 'hist-11-p048-leg.nii.gz-0.500000', 'hist-12-p048-leg.nii.gz-0.500000', 'hist-13-p048-leg.nii.gz-0.500000', 'hist-14-p048-leg.nii.gz-0.500000', 'hist-15-p048-leg.nii.gz-0.500000', 'hist-16-p048-leg.nii.gz-0.500000', 'hist-17-p048-leg.nii.gz-0.500000', 'hist-18-p048-leg.nii.gz-0.500000', 'hist-19-p048-leg.nii.gz-0.500000', 'num-0.500000-mean_mask', 'sum-0.500000-mean_mask', 'mean-0.500000-mean_mask', 'std-0.500000-mean_mask', 'skew-0.500000-mean_mask', 'kurt-0.500000-mean_mask', 'hist-0-0.500000-mean_mask', 'hist-1-0.500000-mean_mask', 'hist-2-0.500000-mean_mask', 'hist-3-0.500000-mean_mask', 'hist-4-0.500000-mean_mask', 'hist-5-0.500000-mean_mask', 'hist-6-0.500000-mean_mask', 'hist-7-0.500000-mean_mask', 'hist-8-0.500000-mean_mask', 'hist-9-0.500000-mean_mask', 'hist-10-0.500000-mean_mask', 'hist-11-0.500000-mean_mask', 'hist-12-0.500000-mean_mask', 'hist-13-0.500000-mean_mask', 'hist-14-0.500000-mean_mask', 'hist-15-0.500000-mean_mask', 'hist-16-0.500000-mean_mask', 'hist-17-0.500000-mean_mask', 'hist-18-0.500000-mean_mask', 'hist-19-0.500000-mean_mask'] \n",
      "Score: -0.9074219914626453\n"
     ]
    },
    {
     "name": "stderr",
     "output_type": "stream",
     "text": [
      "200it [00:00, 650.89it/s]\n"
     ]
    },
    {
     "name": "stdout",
     "output_type": "stream",
     "text": [
      "1\n",
      "1 0.9244008297398182\n",
      "Objective LassoRegression_Objective:\n"
     ]
    },
    {
     "name": "stderr",
     "output_type": "stream",
     "text": [
      "  6%|██▍                                     | 499/8000 [00:05<01:16, 98.24it/s]\n",
      "26it [00:00, 255.37it/s]"
     ]
    },
    {
     "name": "stdout",
     "output_type": "stream",
     "text": [
      "iterations: 499\n",
      "Number of used features: 157\n",
      "Used features: ['Unnamed: 0', 'num-p004-leg.nii.gz-0.500000', 'sum-p004-leg.nii.gz-0.500000', 'mean-p004-leg.nii.gz-0.500000', 'std-p004-leg.nii.gz-0.500000', 'skew-p004-leg.nii.gz-0.500000', 'kurt-p004-leg.nii.gz-0.500000', 'hist-0-p004-leg.nii.gz-0.500000', 'hist-1-p004-leg.nii.gz-0.500000', 'hist-2-p004-leg.nii.gz-0.500000', 'hist-3-p004-leg.nii.gz-0.500000', 'hist-4-p004-leg.nii.gz-0.500000', 'hist-5-p004-leg.nii.gz-0.500000', 'hist-6-p004-leg.nii.gz-0.500000', 'hist-7-p004-leg.nii.gz-0.500000', 'hist-8-p004-leg.nii.gz-0.500000', 'hist-9-p004-leg.nii.gz-0.500000', 'hist-10-p004-leg.nii.gz-0.500000', 'hist-11-p004-leg.nii.gz-0.500000', 'hist-12-p004-leg.nii.gz-0.500000', 'hist-13-p004-leg.nii.gz-0.500000', 'hist-14-p004-leg.nii.gz-0.500000', 'hist-15-p004-leg.nii.gz-0.500000', 'hist-16-p004-leg.nii.gz-0.500000', 'hist-17-p004-leg.nii.gz-0.500000', 'hist-18-p004-leg.nii.gz-0.500000', 'hist-19-p004-leg.nii.gz-0.500000', 'num-p029-leg.nii.gz-0.500000', 'sum-p029-leg.nii.gz-0.500000', 'mean-p029-leg.nii.gz-0.500000', 'std-p029-leg.nii.gz-0.500000', 'skew-p029-leg.nii.gz-0.500000', 'kurt-p029-leg.nii.gz-0.500000', 'hist-0-p029-leg.nii.gz-0.500000', 'hist-1-p029-leg.nii.gz-0.500000', 'hist-2-p029-leg.nii.gz-0.500000', 'hist-3-p029-leg.nii.gz-0.500000', 'hist-4-p029-leg.nii.gz-0.500000', 'hist-5-p029-leg.nii.gz-0.500000', 'hist-6-p029-leg.nii.gz-0.500000', 'hist-7-p029-leg.nii.gz-0.500000', 'hist-8-p029-leg.nii.gz-0.500000', 'hist-9-p029-leg.nii.gz-0.500000', 'hist-10-p029-leg.nii.gz-0.500000', 'hist-11-p029-leg.nii.gz-0.500000', 'hist-12-p029-leg.nii.gz-0.500000', 'hist-13-p029-leg.nii.gz-0.500000', 'hist-14-p029-leg.nii.gz-0.500000', 'hist-15-p029-leg.nii.gz-0.500000', 'hist-16-p029-leg.nii.gz-0.500000', 'hist-17-p029-leg.nii.gz-0.500000', 'hist-18-p029-leg.nii.gz-0.500000', 'hist-19-p029-leg.nii.gz-0.500000', 'num-p032-leg.nii.gz-0.500000', 'sum-p032-leg.nii.gz-0.500000', 'mean-p032-leg.nii.gz-0.500000', 'std-p032-leg.nii.gz-0.500000', 'skew-p032-leg.nii.gz-0.500000', 'kurt-p032-leg.nii.gz-0.500000', 'hist-0-p032-leg.nii.gz-0.500000', 'hist-1-p032-leg.nii.gz-0.500000', 'hist-2-p032-leg.nii.gz-0.500000', 'hist-3-p032-leg.nii.gz-0.500000', 'hist-4-p032-leg.nii.gz-0.500000', 'hist-5-p032-leg.nii.gz-0.500000', 'hist-6-p032-leg.nii.gz-0.500000', 'hist-7-p032-leg.nii.gz-0.500000', 'hist-8-p032-leg.nii.gz-0.500000', 'hist-9-p032-leg.nii.gz-0.500000', 'hist-10-p032-leg.nii.gz-0.500000', 'hist-11-p032-leg.nii.gz-0.500000', 'hist-12-p032-leg.nii.gz-0.500000', 'hist-13-p032-leg.nii.gz-0.500000', 'hist-14-p032-leg.nii.gz-0.500000', 'hist-15-p032-leg.nii.gz-0.500000', 'hist-16-p032-leg.nii.gz-0.500000', 'hist-17-p032-leg.nii.gz-0.500000', 'hist-18-p032-leg.nii.gz-0.500000', 'hist-19-p032-leg.nii.gz-0.500000', 'num-p041-leg.nii.gz-0.500000', 'sum-p041-leg.nii.gz-0.500000', 'mean-p041-leg.nii.gz-0.500000', 'std-p041-leg.nii.gz-0.500000', 'skew-p041-leg.nii.gz-0.500000', 'kurt-p041-leg.nii.gz-0.500000', 'hist-0-p041-leg.nii.gz-0.500000', 'hist-1-p041-leg.nii.gz-0.500000', 'hist-2-p041-leg.nii.gz-0.500000', 'hist-3-p041-leg.nii.gz-0.500000', 'hist-4-p041-leg.nii.gz-0.500000', 'hist-5-p041-leg.nii.gz-0.500000', 'hist-6-p041-leg.nii.gz-0.500000', 'hist-7-p041-leg.nii.gz-0.500000', 'hist-8-p041-leg.nii.gz-0.500000', 'hist-9-p041-leg.nii.gz-0.500000', 'hist-10-p041-leg.nii.gz-0.500000', 'hist-11-p041-leg.nii.gz-0.500000', 'hist-12-p041-leg.nii.gz-0.500000', 'hist-13-p041-leg.nii.gz-0.500000', 'hist-14-p041-leg.nii.gz-0.500000', 'hist-15-p041-leg.nii.gz-0.500000', 'hist-16-p041-leg.nii.gz-0.500000', 'hist-17-p041-leg.nii.gz-0.500000', 'hist-18-p041-leg.nii.gz-0.500000', 'hist-19-p041-leg.nii.gz-0.500000', 'num-p048-leg.nii.gz-0.500000', 'sum-p048-leg.nii.gz-0.500000', 'mean-p048-leg.nii.gz-0.500000', 'std-p048-leg.nii.gz-0.500000', 'skew-p048-leg.nii.gz-0.500000', 'kurt-p048-leg.nii.gz-0.500000', 'hist-0-p048-leg.nii.gz-0.500000', 'hist-1-p048-leg.nii.gz-0.500000', 'hist-2-p048-leg.nii.gz-0.500000', 'hist-3-p048-leg.nii.gz-0.500000', 'hist-4-p048-leg.nii.gz-0.500000', 'hist-5-p048-leg.nii.gz-0.500000', 'hist-6-p048-leg.nii.gz-0.500000', 'hist-7-p048-leg.nii.gz-0.500000', 'hist-8-p048-leg.nii.gz-0.500000', 'hist-9-p048-leg.nii.gz-0.500000', 'hist-10-p048-leg.nii.gz-0.500000', 'hist-11-p048-leg.nii.gz-0.500000', 'hist-12-p048-leg.nii.gz-0.500000', 'hist-13-p048-leg.nii.gz-0.500000', 'hist-14-p048-leg.nii.gz-0.500000', 'hist-15-p048-leg.nii.gz-0.500000', 'hist-16-p048-leg.nii.gz-0.500000', 'hist-17-p048-leg.nii.gz-0.500000', 'hist-18-p048-leg.nii.gz-0.500000', 'hist-19-p048-leg.nii.gz-0.500000', 'num-0.500000-mean_mask', 'sum-0.500000-mean_mask', 'mean-0.500000-mean_mask', 'std-0.500000-mean_mask', 'skew-0.500000-mean_mask', 'kurt-0.500000-mean_mask', 'hist-0-0.500000-mean_mask', 'hist-1-0.500000-mean_mask', 'hist-2-0.500000-mean_mask', 'hist-3-0.500000-mean_mask', 'hist-4-0.500000-mean_mask', 'hist-5-0.500000-mean_mask', 'hist-6-0.500000-mean_mask', 'hist-7-0.500000-mean_mask', 'hist-8-0.500000-mean_mask', 'hist-9-0.500000-mean_mask', 'hist-10-0.500000-mean_mask', 'hist-11-0.500000-mean_mask', 'hist-12-0.500000-mean_mask', 'hist-13-0.500000-mean_mask', 'hist-14-0.500000-mean_mask', 'hist-15-0.500000-mean_mask', 'hist-16-0.500000-mean_mask', 'hist-17-0.500000-mean_mask', 'hist-18-0.500000-mean_mask', 'hist-19-0.500000-mean_mask'] \n",
      "Score: -0.9504376333595527\n"
     ]
    },
    {
     "name": "stderr",
     "output_type": "stream",
     "text": [
      "200it [00:00, 249.16it/s]\n",
      "  0%|                                                  | 0/8000 [00:00<?, ?it/s]"
     ]
    },
    {
     "name": "stdout",
     "output_type": "stream",
     "text": [
      "1\n",
      "1 0.9542024579622861\n",
      "Objective RidgeRegression_Objective:\n"
     ]
    },
    {
     "name": "stderr",
     "output_type": "stream",
     "text": [
      "  6%|██▍                                    | 499/8000 [00:01<00:29, 251.36it/s]\n",
      "41it [00:00, 409.34it/s]"
     ]
    },
    {
     "name": "stdout",
     "output_type": "stream",
     "text": [
      "iterations: 499\n",
      "Number of used features: 157\n",
      "Used features: ['Unnamed: 0', 'num-p004-leg.nii.gz-0.500000', 'sum-p004-leg.nii.gz-0.500000', 'mean-p004-leg.nii.gz-0.500000', 'std-p004-leg.nii.gz-0.500000', 'skew-p004-leg.nii.gz-0.500000', 'kurt-p004-leg.nii.gz-0.500000', 'hist-0-p004-leg.nii.gz-0.500000', 'hist-1-p004-leg.nii.gz-0.500000', 'hist-2-p004-leg.nii.gz-0.500000', 'hist-3-p004-leg.nii.gz-0.500000', 'hist-4-p004-leg.nii.gz-0.500000', 'hist-5-p004-leg.nii.gz-0.500000', 'hist-6-p004-leg.nii.gz-0.500000', 'hist-7-p004-leg.nii.gz-0.500000', 'hist-8-p004-leg.nii.gz-0.500000', 'hist-9-p004-leg.nii.gz-0.500000', 'hist-10-p004-leg.nii.gz-0.500000', 'hist-11-p004-leg.nii.gz-0.500000', 'hist-12-p004-leg.nii.gz-0.500000', 'hist-13-p004-leg.nii.gz-0.500000', 'hist-14-p004-leg.nii.gz-0.500000', 'hist-15-p004-leg.nii.gz-0.500000', 'hist-16-p004-leg.nii.gz-0.500000', 'hist-17-p004-leg.nii.gz-0.500000', 'hist-18-p004-leg.nii.gz-0.500000', 'hist-19-p004-leg.nii.gz-0.500000', 'num-p029-leg.nii.gz-0.500000', 'sum-p029-leg.nii.gz-0.500000', 'mean-p029-leg.nii.gz-0.500000', 'std-p029-leg.nii.gz-0.500000', 'skew-p029-leg.nii.gz-0.500000', 'kurt-p029-leg.nii.gz-0.500000', 'hist-0-p029-leg.nii.gz-0.500000', 'hist-1-p029-leg.nii.gz-0.500000', 'hist-2-p029-leg.nii.gz-0.500000', 'hist-3-p029-leg.nii.gz-0.500000', 'hist-4-p029-leg.nii.gz-0.500000', 'hist-5-p029-leg.nii.gz-0.500000', 'hist-6-p029-leg.nii.gz-0.500000', 'hist-7-p029-leg.nii.gz-0.500000', 'hist-8-p029-leg.nii.gz-0.500000', 'hist-9-p029-leg.nii.gz-0.500000', 'hist-10-p029-leg.nii.gz-0.500000', 'hist-11-p029-leg.nii.gz-0.500000', 'hist-12-p029-leg.nii.gz-0.500000', 'hist-13-p029-leg.nii.gz-0.500000', 'hist-14-p029-leg.nii.gz-0.500000', 'hist-15-p029-leg.nii.gz-0.500000', 'hist-16-p029-leg.nii.gz-0.500000', 'hist-17-p029-leg.nii.gz-0.500000', 'hist-18-p029-leg.nii.gz-0.500000', 'hist-19-p029-leg.nii.gz-0.500000', 'num-p032-leg.nii.gz-0.500000', 'sum-p032-leg.nii.gz-0.500000', 'mean-p032-leg.nii.gz-0.500000', 'std-p032-leg.nii.gz-0.500000', 'skew-p032-leg.nii.gz-0.500000', 'kurt-p032-leg.nii.gz-0.500000', 'hist-0-p032-leg.nii.gz-0.500000', 'hist-1-p032-leg.nii.gz-0.500000', 'hist-2-p032-leg.nii.gz-0.500000', 'hist-3-p032-leg.nii.gz-0.500000', 'hist-4-p032-leg.nii.gz-0.500000', 'hist-5-p032-leg.nii.gz-0.500000', 'hist-6-p032-leg.nii.gz-0.500000', 'hist-7-p032-leg.nii.gz-0.500000', 'hist-8-p032-leg.nii.gz-0.500000', 'hist-9-p032-leg.nii.gz-0.500000', 'hist-10-p032-leg.nii.gz-0.500000', 'hist-11-p032-leg.nii.gz-0.500000', 'hist-12-p032-leg.nii.gz-0.500000', 'hist-13-p032-leg.nii.gz-0.500000', 'hist-14-p032-leg.nii.gz-0.500000', 'hist-15-p032-leg.nii.gz-0.500000', 'hist-16-p032-leg.nii.gz-0.500000', 'hist-17-p032-leg.nii.gz-0.500000', 'hist-18-p032-leg.nii.gz-0.500000', 'hist-19-p032-leg.nii.gz-0.500000', 'num-p041-leg.nii.gz-0.500000', 'sum-p041-leg.nii.gz-0.500000', 'mean-p041-leg.nii.gz-0.500000', 'std-p041-leg.nii.gz-0.500000', 'skew-p041-leg.nii.gz-0.500000', 'kurt-p041-leg.nii.gz-0.500000', 'hist-0-p041-leg.nii.gz-0.500000', 'hist-1-p041-leg.nii.gz-0.500000', 'hist-2-p041-leg.nii.gz-0.500000', 'hist-3-p041-leg.nii.gz-0.500000', 'hist-4-p041-leg.nii.gz-0.500000', 'hist-5-p041-leg.nii.gz-0.500000', 'hist-6-p041-leg.nii.gz-0.500000', 'hist-7-p041-leg.nii.gz-0.500000', 'hist-8-p041-leg.nii.gz-0.500000', 'hist-9-p041-leg.nii.gz-0.500000', 'hist-10-p041-leg.nii.gz-0.500000', 'hist-11-p041-leg.nii.gz-0.500000', 'hist-12-p041-leg.nii.gz-0.500000', 'hist-13-p041-leg.nii.gz-0.500000', 'hist-14-p041-leg.nii.gz-0.500000', 'hist-15-p041-leg.nii.gz-0.500000', 'hist-16-p041-leg.nii.gz-0.500000', 'hist-17-p041-leg.nii.gz-0.500000', 'hist-18-p041-leg.nii.gz-0.500000', 'hist-19-p041-leg.nii.gz-0.500000', 'num-p048-leg.nii.gz-0.500000', 'sum-p048-leg.nii.gz-0.500000', 'mean-p048-leg.nii.gz-0.500000', 'std-p048-leg.nii.gz-0.500000', 'skew-p048-leg.nii.gz-0.500000', 'kurt-p048-leg.nii.gz-0.500000', 'hist-0-p048-leg.nii.gz-0.500000', 'hist-1-p048-leg.nii.gz-0.500000', 'hist-2-p048-leg.nii.gz-0.500000', 'hist-3-p048-leg.nii.gz-0.500000', 'hist-4-p048-leg.nii.gz-0.500000', 'hist-5-p048-leg.nii.gz-0.500000', 'hist-6-p048-leg.nii.gz-0.500000', 'hist-7-p048-leg.nii.gz-0.500000', 'hist-8-p048-leg.nii.gz-0.500000', 'hist-9-p048-leg.nii.gz-0.500000', 'hist-10-p048-leg.nii.gz-0.500000', 'hist-11-p048-leg.nii.gz-0.500000', 'hist-12-p048-leg.nii.gz-0.500000', 'hist-13-p048-leg.nii.gz-0.500000', 'hist-14-p048-leg.nii.gz-0.500000', 'hist-15-p048-leg.nii.gz-0.500000', 'hist-16-p048-leg.nii.gz-0.500000', 'hist-17-p048-leg.nii.gz-0.500000', 'hist-18-p048-leg.nii.gz-0.500000', 'hist-19-p048-leg.nii.gz-0.500000', 'num-0.500000-mean_mask', 'sum-0.500000-mean_mask', 'mean-0.500000-mean_mask', 'std-0.500000-mean_mask', 'skew-0.500000-mean_mask', 'kurt-0.500000-mean_mask', 'hist-0-0.500000-mean_mask', 'hist-1-0.500000-mean_mask', 'hist-2-0.500000-mean_mask', 'hist-3-0.500000-mean_mask', 'hist-4-0.500000-mean_mask', 'hist-5-0.500000-mean_mask', 'hist-6-0.500000-mean_mask', 'hist-7-0.500000-mean_mask', 'hist-8-0.500000-mean_mask', 'hist-9-0.500000-mean_mask', 'hist-10-0.500000-mean_mask', 'hist-11-0.500000-mean_mask', 'hist-12-0.500000-mean_mask', 'hist-13-0.500000-mean_mask', 'hist-14-0.500000-mean_mask', 'hist-15-0.500000-mean_mask', 'hist-16-0.500000-mean_mask', 'hist-17-0.500000-mean_mask', 'hist-18-0.500000-mean_mask', 'hist-19-0.500000-mean_mask'] \n",
      "Score: -0.9399431113377723\n"
     ]
    },
    {
     "name": "stderr",
     "output_type": "stream",
     "text": [
      "200it [00:00, 351.63it/s]\n"
     ]
    },
    {
     "name": "stdout",
     "output_type": "stream",
     "text": [
      "1\n",
      "1 0.9447086724046208\n",
      "Objective PLSRegression_Objective:\n"
     ]
    },
    {
     "name": "stderr",
     "output_type": "stream",
     "text": [
      "  6%|██▍                                    | 504/8000 [00:02<00:31, 236.79it/s]\n",
      "49it [00:00, 483.24it/s]"
     ]
    },
    {
     "name": "stdout",
     "output_type": "stream",
     "text": [
      "iterations: 504\n",
      "Number of used features: 157\n",
      "Used features: ['Unnamed: 0', 'num-p004-leg.nii.gz-0.500000', 'sum-p004-leg.nii.gz-0.500000', 'mean-p004-leg.nii.gz-0.500000', 'std-p004-leg.nii.gz-0.500000', 'skew-p004-leg.nii.gz-0.500000', 'kurt-p004-leg.nii.gz-0.500000', 'hist-0-p004-leg.nii.gz-0.500000', 'hist-1-p004-leg.nii.gz-0.500000', 'hist-2-p004-leg.nii.gz-0.500000', 'hist-3-p004-leg.nii.gz-0.500000', 'hist-4-p004-leg.nii.gz-0.500000', 'hist-5-p004-leg.nii.gz-0.500000', 'hist-6-p004-leg.nii.gz-0.500000', 'hist-7-p004-leg.nii.gz-0.500000', 'hist-8-p004-leg.nii.gz-0.500000', 'hist-9-p004-leg.nii.gz-0.500000', 'hist-10-p004-leg.nii.gz-0.500000', 'hist-11-p004-leg.nii.gz-0.500000', 'hist-12-p004-leg.nii.gz-0.500000', 'hist-13-p004-leg.nii.gz-0.500000', 'hist-14-p004-leg.nii.gz-0.500000', 'hist-15-p004-leg.nii.gz-0.500000', 'hist-16-p004-leg.nii.gz-0.500000', 'hist-17-p004-leg.nii.gz-0.500000', 'hist-18-p004-leg.nii.gz-0.500000', 'hist-19-p004-leg.nii.gz-0.500000', 'num-p029-leg.nii.gz-0.500000', 'sum-p029-leg.nii.gz-0.500000', 'mean-p029-leg.nii.gz-0.500000', 'std-p029-leg.nii.gz-0.500000', 'skew-p029-leg.nii.gz-0.500000', 'kurt-p029-leg.nii.gz-0.500000', 'hist-0-p029-leg.nii.gz-0.500000', 'hist-1-p029-leg.nii.gz-0.500000', 'hist-2-p029-leg.nii.gz-0.500000', 'hist-3-p029-leg.nii.gz-0.500000', 'hist-4-p029-leg.nii.gz-0.500000', 'hist-5-p029-leg.nii.gz-0.500000', 'hist-6-p029-leg.nii.gz-0.500000', 'hist-7-p029-leg.nii.gz-0.500000', 'hist-8-p029-leg.nii.gz-0.500000', 'hist-9-p029-leg.nii.gz-0.500000', 'hist-10-p029-leg.nii.gz-0.500000', 'hist-11-p029-leg.nii.gz-0.500000', 'hist-12-p029-leg.nii.gz-0.500000', 'hist-13-p029-leg.nii.gz-0.500000', 'hist-14-p029-leg.nii.gz-0.500000', 'hist-15-p029-leg.nii.gz-0.500000', 'hist-16-p029-leg.nii.gz-0.500000', 'hist-17-p029-leg.nii.gz-0.500000', 'hist-18-p029-leg.nii.gz-0.500000', 'hist-19-p029-leg.nii.gz-0.500000', 'num-p032-leg.nii.gz-0.500000', 'sum-p032-leg.nii.gz-0.500000', 'mean-p032-leg.nii.gz-0.500000', 'std-p032-leg.nii.gz-0.500000', 'skew-p032-leg.nii.gz-0.500000', 'kurt-p032-leg.nii.gz-0.500000', 'hist-0-p032-leg.nii.gz-0.500000', 'hist-1-p032-leg.nii.gz-0.500000', 'hist-2-p032-leg.nii.gz-0.500000', 'hist-3-p032-leg.nii.gz-0.500000', 'hist-4-p032-leg.nii.gz-0.500000', 'hist-5-p032-leg.nii.gz-0.500000', 'hist-6-p032-leg.nii.gz-0.500000', 'hist-7-p032-leg.nii.gz-0.500000', 'hist-8-p032-leg.nii.gz-0.500000', 'hist-9-p032-leg.nii.gz-0.500000', 'hist-10-p032-leg.nii.gz-0.500000', 'hist-11-p032-leg.nii.gz-0.500000', 'hist-12-p032-leg.nii.gz-0.500000', 'hist-13-p032-leg.nii.gz-0.500000', 'hist-14-p032-leg.nii.gz-0.500000', 'hist-15-p032-leg.nii.gz-0.500000', 'hist-16-p032-leg.nii.gz-0.500000', 'hist-17-p032-leg.nii.gz-0.500000', 'hist-18-p032-leg.nii.gz-0.500000', 'hist-19-p032-leg.nii.gz-0.500000', 'num-p041-leg.nii.gz-0.500000', 'sum-p041-leg.nii.gz-0.500000', 'mean-p041-leg.nii.gz-0.500000', 'std-p041-leg.nii.gz-0.500000', 'skew-p041-leg.nii.gz-0.500000', 'kurt-p041-leg.nii.gz-0.500000', 'hist-0-p041-leg.nii.gz-0.500000', 'hist-1-p041-leg.nii.gz-0.500000', 'hist-2-p041-leg.nii.gz-0.500000', 'hist-3-p041-leg.nii.gz-0.500000', 'hist-4-p041-leg.nii.gz-0.500000', 'hist-5-p041-leg.nii.gz-0.500000', 'hist-6-p041-leg.nii.gz-0.500000', 'hist-7-p041-leg.nii.gz-0.500000', 'hist-8-p041-leg.nii.gz-0.500000', 'hist-9-p041-leg.nii.gz-0.500000', 'hist-10-p041-leg.nii.gz-0.500000', 'hist-11-p041-leg.nii.gz-0.500000', 'hist-12-p041-leg.nii.gz-0.500000', 'hist-13-p041-leg.nii.gz-0.500000', 'hist-14-p041-leg.nii.gz-0.500000', 'hist-15-p041-leg.nii.gz-0.500000', 'hist-16-p041-leg.nii.gz-0.500000', 'hist-17-p041-leg.nii.gz-0.500000', 'hist-18-p041-leg.nii.gz-0.500000', 'hist-19-p041-leg.nii.gz-0.500000', 'num-p048-leg.nii.gz-0.500000', 'sum-p048-leg.nii.gz-0.500000', 'mean-p048-leg.nii.gz-0.500000', 'std-p048-leg.nii.gz-0.500000', 'skew-p048-leg.nii.gz-0.500000', 'kurt-p048-leg.nii.gz-0.500000', 'hist-0-p048-leg.nii.gz-0.500000', 'hist-1-p048-leg.nii.gz-0.500000', 'hist-2-p048-leg.nii.gz-0.500000', 'hist-3-p048-leg.nii.gz-0.500000', 'hist-4-p048-leg.nii.gz-0.500000', 'hist-5-p048-leg.nii.gz-0.500000', 'hist-6-p048-leg.nii.gz-0.500000', 'hist-7-p048-leg.nii.gz-0.500000', 'hist-8-p048-leg.nii.gz-0.500000', 'hist-9-p048-leg.nii.gz-0.500000', 'hist-10-p048-leg.nii.gz-0.500000', 'hist-11-p048-leg.nii.gz-0.500000', 'hist-12-p048-leg.nii.gz-0.500000', 'hist-13-p048-leg.nii.gz-0.500000', 'hist-14-p048-leg.nii.gz-0.500000', 'hist-15-p048-leg.nii.gz-0.500000', 'hist-16-p048-leg.nii.gz-0.500000', 'hist-17-p048-leg.nii.gz-0.500000', 'hist-18-p048-leg.nii.gz-0.500000', 'hist-19-p048-leg.nii.gz-0.500000', 'num-0.500000-mean_mask', 'sum-0.500000-mean_mask', 'mean-0.500000-mean_mask', 'std-0.500000-mean_mask', 'skew-0.500000-mean_mask', 'kurt-0.500000-mean_mask', 'hist-0-0.500000-mean_mask', 'hist-1-0.500000-mean_mask', 'hist-2-0.500000-mean_mask', 'hist-3-0.500000-mean_mask', 'hist-4-0.500000-mean_mask', 'hist-5-0.500000-mean_mask', 'hist-6-0.500000-mean_mask', 'hist-7-0.500000-mean_mask', 'hist-8-0.500000-mean_mask', 'hist-9-0.500000-mean_mask', 'hist-10-0.500000-mean_mask', 'hist-11-0.500000-mean_mask', 'hist-12-0.500000-mean_mask', 'hist-13-0.500000-mean_mask', 'hist-14-0.500000-mean_mask', 'hist-15-0.500000-mean_mask', 'hist-16-0.500000-mean_mask', 'hist-17-0.500000-mean_mask', 'hist-18-0.500000-mean_mask', 'hist-19-0.500000-mean_mask'] \n",
      "Score: -0.942536249453245\n"
     ]
    },
    {
     "name": "stderr",
     "output_type": "stream",
     "text": [
      "200it [00:00, 494.17it/s]"
     ]
    },
    {
     "name": "stdout",
     "output_type": "stream",
     "text": [
      "1\n",
      "1 0.9480459174574987\n"
     ]
    },
    {
     "name": "stderr",
     "output_type": "stream",
     "text": [
      "\n"
     ]
    }
   ],
   "source": [
    "results_no_fs.append(model_selection(leg_features, leg_target, dataset='leg', type='all', disable_feature_selection=True))"
   ]
  },
  {
   "cell_type": "markdown",
   "metadata": {},
   "source": [
    "### leg mean mask"
   ]
  },
  {
   "cell_type": "code",
   "execution_count": 29,
   "metadata": {},
   "outputs": [
    {
     "name": "stderr",
     "output_type": "stream",
     "text": [
      "\r",
      "  0%|                                                  | 0/8000 [00:00<?, ?it/s]"
     ]
    },
    {
     "name": "stdout",
     "output_type": "stream",
     "text": [
      "Objective KNNR_Objective:\n"
     ]
    },
    {
     "name": "stderr",
     "output_type": "stream",
     "text": [
      "  7%|██▋                                     | 529/8000 [00:15<03:37, 34.37it/s]\n",
      "75it [00:00, 745.00it/s]"
     ]
    },
    {
     "name": "stdout",
     "output_type": "stream",
     "text": [
      "iterations: 529\n",
      "Number of used features: 26\n",
      "Used features: ['num-0.500000-mean_mask', 'sum-0.500000-mean_mask', 'mean-0.500000-mean_mask', 'std-0.500000-mean_mask', 'skew-0.500000-mean_mask', 'kurt-0.500000-mean_mask', 'hist-0-0.500000-mean_mask', 'hist-1-0.500000-mean_mask', 'hist-2-0.500000-mean_mask', 'hist-3-0.500000-mean_mask', 'hist-4-0.500000-mean_mask', 'hist-5-0.500000-mean_mask', 'hist-6-0.500000-mean_mask', 'hist-7-0.500000-mean_mask', 'hist-8-0.500000-mean_mask', 'hist-9-0.500000-mean_mask', 'hist-10-0.500000-mean_mask', 'hist-11-0.500000-mean_mask', 'hist-12-0.500000-mean_mask', 'hist-13-0.500000-mean_mask', 'hist-14-0.500000-mean_mask', 'hist-15-0.500000-mean_mask', 'hist-16-0.500000-mean_mask', 'hist-17-0.500000-mean_mask', 'hist-18-0.500000-mean_mask', 'hist-19-0.500000-mean_mask'] \n",
      "Score: -0.745595010259229\n"
     ]
    },
    {
     "name": "stderr",
     "output_type": "stream",
     "text": [
      "200it [00:00, 746.72it/s]\n",
      "  0%|                                                  | 0/8000 [00:00<?, ?it/s]"
     ]
    },
    {
     "name": "stdout",
     "output_type": "stream",
     "text": [
      "1\n",
      "1 0.7520663845514268\n",
      "Objective LinearRegression_Objective:\n"
     ]
    },
    {
     "name": "stderr",
     "output_type": "stream",
     "text": [
      "  6%|██▎                                   | 499/8000 [00:00<00:02, 3427.87it/s]\n",
      "85it [00:00, 849.72it/s]"
     ]
    },
    {
     "name": "stdout",
     "output_type": "stream",
     "text": [
      "iterations: 499\n",
      "Number of used features: 26\n",
      "Used features: ['num-0.500000-mean_mask', 'sum-0.500000-mean_mask', 'mean-0.500000-mean_mask', 'std-0.500000-mean_mask', 'skew-0.500000-mean_mask', 'kurt-0.500000-mean_mask', 'hist-0-0.500000-mean_mask', 'hist-1-0.500000-mean_mask', 'hist-2-0.500000-mean_mask', 'hist-3-0.500000-mean_mask', 'hist-4-0.500000-mean_mask', 'hist-5-0.500000-mean_mask', 'hist-6-0.500000-mean_mask', 'hist-7-0.500000-mean_mask', 'hist-8-0.500000-mean_mask', 'hist-9-0.500000-mean_mask', 'hist-10-0.500000-mean_mask', 'hist-11-0.500000-mean_mask', 'hist-12-0.500000-mean_mask', 'hist-13-0.500000-mean_mask', 'hist-14-0.500000-mean_mask', 'hist-15-0.500000-mean_mask', 'hist-16-0.500000-mean_mask', 'hist-17-0.500000-mean_mask', 'hist-18-0.500000-mean_mask', 'hist-19-0.500000-mean_mask'] \n",
      "Score: -0.9019940385045395\n"
     ]
    },
    {
     "name": "stderr",
     "output_type": "stream",
     "text": [
      "200it [00:00, 843.72it/s]\n",
      "  0%|                                                  | 0/8000 [00:00<?, ?it/s]"
     ]
    },
    {
     "name": "stdout",
     "output_type": "stream",
     "text": [
      "1\n",
      "1 0.9345517127379139\n",
      "Objective LassoRegression_Objective:\n"
     ]
    },
    {
     "name": "stderr",
     "output_type": "stream",
     "text": [
      "  6%|██▍                                    | 499/8000 [00:02<00:34, 219.02it/s]\n",
      "56it [00:00, 557.72it/s]"
     ]
    },
    {
     "name": "stdout",
     "output_type": "stream",
     "text": [
      "iterations: 499\n",
      "Number of used features: 26\n",
      "Used features: ['num-0.500000-mean_mask', 'sum-0.500000-mean_mask', 'mean-0.500000-mean_mask', 'std-0.500000-mean_mask', 'skew-0.500000-mean_mask', 'kurt-0.500000-mean_mask', 'hist-0-0.500000-mean_mask', 'hist-1-0.500000-mean_mask', 'hist-2-0.500000-mean_mask', 'hist-3-0.500000-mean_mask', 'hist-4-0.500000-mean_mask', 'hist-5-0.500000-mean_mask', 'hist-6-0.500000-mean_mask', 'hist-7-0.500000-mean_mask', 'hist-8-0.500000-mean_mask', 'hist-9-0.500000-mean_mask', 'hist-10-0.500000-mean_mask', 'hist-11-0.500000-mean_mask', 'hist-12-0.500000-mean_mask', 'hist-13-0.500000-mean_mask', 'hist-14-0.500000-mean_mask', 'hist-15-0.500000-mean_mask', 'hist-16-0.500000-mean_mask', 'hist-17-0.500000-mean_mask', 'hist-18-0.500000-mean_mask', 'hist-19-0.500000-mean_mask'] \n",
      "Score: -0.9536052111612303\n"
     ]
    },
    {
     "name": "stderr",
     "output_type": "stream",
     "text": [
      "200it [00:00, 556.29it/s]\n",
      "  0%|                                                  | 0/8000 [00:00<?, ?it/s]"
     ]
    },
    {
     "name": "stdout",
     "output_type": "stream",
     "text": [
      "1\n",
      "1 0.9557223596872799\n",
      "Objective RidgeRegression_Objective:\n"
     ]
    },
    {
     "name": "stderr",
     "output_type": "stream",
     "text": [
      "  6%|██▍                                    | 505/8000 [00:01<00:24, 312.25it/s]\n",
      "50it [00:00, 494.22it/s]"
     ]
    },
    {
     "name": "stdout",
     "output_type": "stream",
     "text": [
      "iterations: 505\n",
      "Number of used features: 26\n",
      "Used features: ['num-0.500000-mean_mask', 'sum-0.500000-mean_mask', 'mean-0.500000-mean_mask', 'std-0.500000-mean_mask', 'skew-0.500000-mean_mask', 'kurt-0.500000-mean_mask', 'hist-0-0.500000-mean_mask', 'hist-1-0.500000-mean_mask', 'hist-2-0.500000-mean_mask', 'hist-3-0.500000-mean_mask', 'hist-4-0.500000-mean_mask', 'hist-5-0.500000-mean_mask', 'hist-6-0.500000-mean_mask', 'hist-7-0.500000-mean_mask', 'hist-8-0.500000-mean_mask', 'hist-9-0.500000-mean_mask', 'hist-10-0.500000-mean_mask', 'hist-11-0.500000-mean_mask', 'hist-12-0.500000-mean_mask', 'hist-13-0.500000-mean_mask', 'hist-14-0.500000-mean_mask', 'hist-15-0.500000-mean_mask', 'hist-16-0.500000-mean_mask', 'hist-17-0.500000-mean_mask', 'hist-18-0.500000-mean_mask', 'hist-19-0.500000-mean_mask'] \n",
      "Score: -0.9471171532790928\n"
     ]
    },
    {
     "name": "stderr",
     "output_type": "stream",
     "text": [
      "200it [00:00, 493.11it/s]\n",
      "  0%|                                                  | 0/8000 [00:00<?, ?it/s]"
     ]
    },
    {
     "name": "stdout",
     "output_type": "stream",
     "text": [
      "1\n",
      "1 0.9523854074266522\n",
      "Objective PLSRegression_Objective:\n"
     ]
    },
    {
     "name": "stderr",
     "output_type": "stream",
     "text": [
      "  6%|██▎                                   | 499/8000 [00:00<00:06, 1072.55it/s]\n",
      "63it [00:00, 627.93it/s]"
     ]
    },
    {
     "name": "stdout",
     "output_type": "stream",
     "text": [
      "iterations: 499\n",
      "Number of used features: 26\n",
      "Used features: ['num-0.500000-mean_mask', 'sum-0.500000-mean_mask', 'mean-0.500000-mean_mask', 'std-0.500000-mean_mask', 'skew-0.500000-mean_mask', 'kurt-0.500000-mean_mask', 'hist-0-0.500000-mean_mask', 'hist-1-0.500000-mean_mask', 'hist-2-0.500000-mean_mask', 'hist-3-0.500000-mean_mask', 'hist-4-0.500000-mean_mask', 'hist-5-0.500000-mean_mask', 'hist-6-0.500000-mean_mask', 'hist-7-0.500000-mean_mask', 'hist-8-0.500000-mean_mask', 'hist-9-0.500000-mean_mask', 'hist-10-0.500000-mean_mask', 'hist-11-0.500000-mean_mask', 'hist-12-0.500000-mean_mask', 'hist-13-0.500000-mean_mask', 'hist-14-0.500000-mean_mask', 'hist-15-0.500000-mean_mask', 'hist-16-0.500000-mean_mask', 'hist-17-0.500000-mean_mask', 'hist-18-0.500000-mean_mask', 'hist-19-0.500000-mean_mask'] \n",
      "Score: -0.9394563548498512\n"
     ]
    },
    {
     "name": "stderr",
     "output_type": "stream",
     "text": [
      "200it [00:00, 622.90it/s]"
     ]
    },
    {
     "name": "stdout",
     "output_type": "stream",
     "text": [
      "1\n",
      "1 0.9457529756602804\n"
     ]
    },
    {
     "name": "stderr",
     "output_type": "stream",
     "text": [
      "\n"
     ]
    }
   ],
   "source": [
    "results_no_fs.append(model_selection(leg_features[[c for c in leg_features.columns if 'mean_mask' in c or c == 'type']], leg_target, dataset='leg', type='mean_mask', disable_feature_selection=True))"
   ]
  },
  {
   "cell_type": "markdown",
   "metadata": {},
   "source": [
    "### leg individual masks"
   ]
  },
  {
   "cell_type": "code",
   "execution_count": 30,
   "metadata": {},
   "outputs": [
    {
     "name": "stderr",
     "output_type": "stream",
     "text": [
      "\r",
      "  0%|                                                  | 0/8000 [00:00<?, ?it/s]"
     ]
    },
    {
     "name": "stdout",
     "output_type": "stream",
     "text": [
      "Objective KNNR_Objective:\n"
     ]
    },
    {
     "name": "stderr",
     "output_type": "stream",
     "text": [
      "  7%|██▋                                     | 529/8000 [00:15<03:32, 35.20it/s]\n",
      "78it [00:00, 775.01it/s]"
     ]
    },
    {
     "name": "stdout",
     "output_type": "stream",
     "text": [
      "iterations: 529\n",
      "Number of used features: 26\n",
      "Used features: ['num-p004-leg.nii.gz-0.500000', 'sum-p004-leg.nii.gz-0.500000', 'mean-p004-leg.nii.gz-0.500000', 'std-p004-leg.nii.gz-0.500000', 'skew-p004-leg.nii.gz-0.500000', 'kurt-p004-leg.nii.gz-0.500000', 'hist-0-p004-leg.nii.gz-0.500000', 'hist-1-p004-leg.nii.gz-0.500000', 'hist-2-p004-leg.nii.gz-0.500000', 'hist-3-p004-leg.nii.gz-0.500000', 'hist-4-p004-leg.nii.gz-0.500000', 'hist-5-p004-leg.nii.gz-0.500000', 'hist-6-p004-leg.nii.gz-0.500000', 'hist-7-p004-leg.nii.gz-0.500000', 'hist-8-p004-leg.nii.gz-0.500000', 'hist-9-p004-leg.nii.gz-0.500000', 'hist-10-p004-leg.nii.gz-0.500000', 'hist-11-p004-leg.nii.gz-0.500000', 'hist-12-p004-leg.nii.gz-0.500000', 'hist-13-p004-leg.nii.gz-0.500000', 'hist-14-p004-leg.nii.gz-0.500000', 'hist-15-p004-leg.nii.gz-0.500000', 'hist-16-p004-leg.nii.gz-0.500000', 'hist-17-p004-leg.nii.gz-0.500000', 'hist-18-p004-leg.nii.gz-0.500000', 'hist-19-p004-leg.nii.gz-0.500000'] \n",
      "Score: -0.7716649048948594\n"
     ]
    },
    {
     "name": "stderr",
     "output_type": "stream",
     "text": [
      "200it [00:00, 774.35it/s]\n",
      "  0%|                                                  | 0/8000 [00:00<?, ?it/s]"
     ]
    },
    {
     "name": "stdout",
     "output_type": "stream",
     "text": [
      "1\n",
      "1 0.7851880835002112\n",
      "Objective LinearRegression_Objective:\n"
     ]
    },
    {
     "name": "stderr",
     "output_type": "stream",
     "text": [
      "  6%|██▎                                   | 499/8000 [00:00<00:02, 3538.41it/s]\n",
      "89it [00:00, 888.64it/s]"
     ]
    },
    {
     "name": "stdout",
     "output_type": "stream",
     "text": [
      "iterations: 499\n",
      "Number of used features: 26\n",
      "Used features: ['num-p004-leg.nii.gz-0.500000', 'sum-p004-leg.nii.gz-0.500000', 'mean-p004-leg.nii.gz-0.500000', 'std-p004-leg.nii.gz-0.500000', 'skew-p004-leg.nii.gz-0.500000', 'kurt-p004-leg.nii.gz-0.500000', 'hist-0-p004-leg.nii.gz-0.500000', 'hist-1-p004-leg.nii.gz-0.500000', 'hist-2-p004-leg.nii.gz-0.500000', 'hist-3-p004-leg.nii.gz-0.500000', 'hist-4-p004-leg.nii.gz-0.500000', 'hist-5-p004-leg.nii.gz-0.500000', 'hist-6-p004-leg.nii.gz-0.500000', 'hist-7-p004-leg.nii.gz-0.500000', 'hist-8-p004-leg.nii.gz-0.500000', 'hist-9-p004-leg.nii.gz-0.500000', 'hist-10-p004-leg.nii.gz-0.500000', 'hist-11-p004-leg.nii.gz-0.500000', 'hist-12-p004-leg.nii.gz-0.500000', 'hist-13-p004-leg.nii.gz-0.500000', 'hist-14-p004-leg.nii.gz-0.500000', 'hist-15-p004-leg.nii.gz-0.500000', 'hist-16-p004-leg.nii.gz-0.500000', 'hist-17-p004-leg.nii.gz-0.500000', 'hist-18-p004-leg.nii.gz-0.500000', 'hist-19-p004-leg.nii.gz-0.500000'] \n",
      "Score: -0.8658015028616464\n"
     ]
    },
    {
     "name": "stderr",
     "output_type": "stream",
     "text": [
      "200it [00:00, 876.29it/s]\n",
      "  0%|                                                  | 0/8000 [00:00<?, ?it/s]"
     ]
    },
    {
     "name": "stdout",
     "output_type": "stream",
     "text": [
      "1\n",
      "1 0.9098001480604891\n",
      "Objective LassoRegression_Objective:\n"
     ]
    },
    {
     "name": "stderr",
     "output_type": "stream",
     "text": [
      "  6%|██▍                                    | 499/8000 [00:02<00:32, 228.32it/s]\n",
      "60it [00:00, 596.63it/s]"
     ]
    },
    {
     "name": "stdout",
     "output_type": "stream",
     "text": [
      "iterations: 499\n",
      "Number of used features: 26\n",
      "Used features: ['num-p004-leg.nii.gz-0.500000', 'sum-p004-leg.nii.gz-0.500000', 'mean-p004-leg.nii.gz-0.500000', 'std-p004-leg.nii.gz-0.500000', 'skew-p004-leg.nii.gz-0.500000', 'kurt-p004-leg.nii.gz-0.500000', 'hist-0-p004-leg.nii.gz-0.500000', 'hist-1-p004-leg.nii.gz-0.500000', 'hist-2-p004-leg.nii.gz-0.500000', 'hist-3-p004-leg.nii.gz-0.500000', 'hist-4-p004-leg.nii.gz-0.500000', 'hist-5-p004-leg.nii.gz-0.500000', 'hist-6-p004-leg.nii.gz-0.500000', 'hist-7-p004-leg.nii.gz-0.500000', 'hist-8-p004-leg.nii.gz-0.500000', 'hist-9-p004-leg.nii.gz-0.500000', 'hist-10-p004-leg.nii.gz-0.500000', 'hist-11-p004-leg.nii.gz-0.500000', 'hist-12-p004-leg.nii.gz-0.500000', 'hist-13-p004-leg.nii.gz-0.500000', 'hist-14-p004-leg.nii.gz-0.500000', 'hist-15-p004-leg.nii.gz-0.500000', 'hist-16-p004-leg.nii.gz-0.500000', 'hist-17-p004-leg.nii.gz-0.500000', 'hist-18-p004-leg.nii.gz-0.500000', 'hist-19-p004-leg.nii.gz-0.500000'] \n",
      "Score: -0.9595850221863436\n"
     ]
    },
    {
     "name": "stderr",
     "output_type": "stream",
     "text": [
      "200it [00:00, 594.52it/s]\n",
      "  0%|                                                  | 0/8000 [00:00<?, ?it/s]"
     ]
    },
    {
     "name": "stdout",
     "output_type": "stream",
     "text": [
      "1\n",
      "1 0.961515897765352\n",
      "Objective RidgeRegression_Objective:\n"
     ]
    },
    {
     "name": "stderr",
     "output_type": "stream",
     "text": [
      "  6%|██▍                                    | 502/8000 [00:01<00:20, 366.13it/s]\n",
      "68it [00:00, 676.65it/s]"
     ]
    },
    {
     "name": "stdout",
     "output_type": "stream",
     "text": [
      "iterations: 502\n",
      "Number of used features: 26\n",
      "Used features: ['num-p004-leg.nii.gz-0.500000', 'sum-p004-leg.nii.gz-0.500000', 'mean-p004-leg.nii.gz-0.500000', 'std-p004-leg.nii.gz-0.500000', 'skew-p004-leg.nii.gz-0.500000', 'kurt-p004-leg.nii.gz-0.500000', 'hist-0-p004-leg.nii.gz-0.500000', 'hist-1-p004-leg.nii.gz-0.500000', 'hist-2-p004-leg.nii.gz-0.500000', 'hist-3-p004-leg.nii.gz-0.500000', 'hist-4-p004-leg.nii.gz-0.500000', 'hist-5-p004-leg.nii.gz-0.500000', 'hist-6-p004-leg.nii.gz-0.500000', 'hist-7-p004-leg.nii.gz-0.500000', 'hist-8-p004-leg.nii.gz-0.500000', 'hist-9-p004-leg.nii.gz-0.500000', 'hist-10-p004-leg.nii.gz-0.500000', 'hist-11-p004-leg.nii.gz-0.500000', 'hist-12-p004-leg.nii.gz-0.500000', 'hist-13-p004-leg.nii.gz-0.500000', 'hist-14-p004-leg.nii.gz-0.500000', 'hist-15-p004-leg.nii.gz-0.500000', 'hist-16-p004-leg.nii.gz-0.500000', 'hist-17-p004-leg.nii.gz-0.500000', 'hist-18-p004-leg.nii.gz-0.500000', 'hist-19-p004-leg.nii.gz-0.500000'] \n",
      "Score: -0.957863781352988\n"
     ]
    },
    {
     "name": "stderr",
     "output_type": "stream",
     "text": [
      "200it [00:00, 673.65it/s]\n",
      "  0%|                                                  | 0/8000 [00:00<?, ?it/s]"
     ]
    },
    {
     "name": "stdout",
     "output_type": "stream",
     "text": [
      "1\n",
      "1 0.9606355815913139\n",
      "Objective PLSRegression_Objective:\n"
     ]
    },
    {
     "name": "stderr",
     "output_type": "stream",
     "text": [
      "  6%|██▎                                   | 499/8000 [00:00<00:07, 1068.74it/s]\n",
      "63it [00:00, 626.43it/s]"
     ]
    },
    {
     "name": "stdout",
     "output_type": "stream",
     "text": [
      "iterations: 499\n",
      "Number of used features: 26\n",
      "Used features: ['num-p004-leg.nii.gz-0.500000', 'sum-p004-leg.nii.gz-0.500000', 'mean-p004-leg.nii.gz-0.500000', 'std-p004-leg.nii.gz-0.500000', 'skew-p004-leg.nii.gz-0.500000', 'kurt-p004-leg.nii.gz-0.500000', 'hist-0-p004-leg.nii.gz-0.500000', 'hist-1-p004-leg.nii.gz-0.500000', 'hist-2-p004-leg.nii.gz-0.500000', 'hist-3-p004-leg.nii.gz-0.500000', 'hist-4-p004-leg.nii.gz-0.500000', 'hist-5-p004-leg.nii.gz-0.500000', 'hist-6-p004-leg.nii.gz-0.500000', 'hist-7-p004-leg.nii.gz-0.500000', 'hist-8-p004-leg.nii.gz-0.500000', 'hist-9-p004-leg.nii.gz-0.500000', 'hist-10-p004-leg.nii.gz-0.500000', 'hist-11-p004-leg.nii.gz-0.500000', 'hist-12-p004-leg.nii.gz-0.500000', 'hist-13-p004-leg.nii.gz-0.500000', 'hist-14-p004-leg.nii.gz-0.500000', 'hist-15-p004-leg.nii.gz-0.500000', 'hist-16-p004-leg.nii.gz-0.500000', 'hist-17-p004-leg.nii.gz-0.500000', 'hist-18-p004-leg.nii.gz-0.500000', 'hist-19-p004-leg.nii.gz-0.500000'] \n",
      "Score: -0.9442853287703277\n"
     ]
    },
    {
     "name": "stderr",
     "output_type": "stream",
     "text": [
      "200it [00:00, 622.87it/s]\n",
      "  0%|                                                  | 0/8000 [00:00<?, ?it/s]"
     ]
    },
    {
     "name": "stdout",
     "output_type": "stream",
     "text": [
      "1\n",
      "1 0.9490158046407613\n",
      "Objective KNNR_Objective:\n"
     ]
    },
    {
     "name": "stderr",
     "output_type": "stream",
     "text": [
      "  7%|██▋                                     | 529/8000 [00:15<03:35, 34.62it/s]\n",
      "75it [00:00, 746.39it/s]"
     ]
    },
    {
     "name": "stdout",
     "output_type": "stream",
     "text": [
      "iterations: 529\n",
      "Number of used features: 26\n",
      "Used features: ['num-p029-leg.nii.gz-0.500000', 'sum-p029-leg.nii.gz-0.500000', 'mean-p029-leg.nii.gz-0.500000', 'std-p029-leg.nii.gz-0.500000', 'skew-p029-leg.nii.gz-0.500000', 'kurt-p029-leg.nii.gz-0.500000', 'hist-0-p029-leg.nii.gz-0.500000', 'hist-1-p029-leg.nii.gz-0.500000', 'hist-2-p029-leg.nii.gz-0.500000', 'hist-3-p029-leg.nii.gz-0.500000', 'hist-4-p029-leg.nii.gz-0.500000', 'hist-5-p029-leg.nii.gz-0.500000', 'hist-6-p029-leg.nii.gz-0.500000', 'hist-7-p029-leg.nii.gz-0.500000', 'hist-8-p029-leg.nii.gz-0.500000', 'hist-9-p029-leg.nii.gz-0.500000', 'hist-10-p029-leg.nii.gz-0.500000', 'hist-11-p029-leg.nii.gz-0.500000', 'hist-12-p029-leg.nii.gz-0.500000', 'hist-13-p029-leg.nii.gz-0.500000', 'hist-14-p029-leg.nii.gz-0.500000', 'hist-15-p029-leg.nii.gz-0.500000', 'hist-16-p029-leg.nii.gz-0.500000', 'hist-17-p029-leg.nii.gz-0.500000', 'hist-18-p029-leg.nii.gz-0.500000', 'hist-19-p029-leg.nii.gz-0.500000'] \n",
      "Score: -0.6483005902453017\n"
     ]
    },
    {
     "name": "stderr",
     "output_type": "stream",
     "text": [
      "200it [00:00, 744.99it/s]\n",
      "  0%|                                                  | 0/8000 [00:00<?, ?it/s]"
     ]
    },
    {
     "name": "stdout",
     "output_type": "stream",
     "text": [
      "1\n",
      "1 0.6730289861740049\n",
      "Objective LinearRegression_Objective:\n"
     ]
    },
    {
     "name": "stderr",
     "output_type": "stream",
     "text": [
      "  6%|██▎                                   | 499/8000 [00:00<00:02, 3441.76it/s]\n",
      "86it [00:00, 850.26it/s]"
     ]
    },
    {
     "name": "stdout",
     "output_type": "stream",
     "text": [
      "iterations: 499\n",
      "Number of used features: 26\n",
      "Used features: ['num-p029-leg.nii.gz-0.500000', 'sum-p029-leg.nii.gz-0.500000', 'mean-p029-leg.nii.gz-0.500000', 'std-p029-leg.nii.gz-0.500000', 'skew-p029-leg.nii.gz-0.500000', 'kurt-p029-leg.nii.gz-0.500000', 'hist-0-p029-leg.nii.gz-0.500000', 'hist-1-p029-leg.nii.gz-0.500000', 'hist-2-p029-leg.nii.gz-0.500000', 'hist-3-p029-leg.nii.gz-0.500000', 'hist-4-p029-leg.nii.gz-0.500000', 'hist-5-p029-leg.nii.gz-0.500000', 'hist-6-p029-leg.nii.gz-0.500000', 'hist-7-p029-leg.nii.gz-0.500000', 'hist-8-p029-leg.nii.gz-0.500000', 'hist-9-p029-leg.nii.gz-0.500000', 'hist-10-p029-leg.nii.gz-0.500000', 'hist-11-p029-leg.nii.gz-0.500000', 'hist-12-p029-leg.nii.gz-0.500000', 'hist-13-p029-leg.nii.gz-0.500000', 'hist-14-p029-leg.nii.gz-0.500000', 'hist-15-p029-leg.nii.gz-0.500000', 'hist-16-p029-leg.nii.gz-0.500000', 'hist-17-p029-leg.nii.gz-0.500000', 'hist-18-p029-leg.nii.gz-0.500000', 'hist-19-p029-leg.nii.gz-0.500000'] \n",
      "Score: -0.7354345267311527\n"
     ]
    },
    {
     "name": "stderr",
     "output_type": "stream",
     "text": [
      "200it [00:00, 847.58it/s]\n",
      "  0%|                                                  | 0/8000 [00:00<?, ?it/s]"
     ]
    },
    {
     "name": "stdout",
     "output_type": "stream",
     "text": [
      "1\n",
      "1 0.8220977194744389\n",
      "Objective LassoRegression_Objective:\n"
     ]
    },
    {
     "name": "stderr",
     "output_type": "stream",
     "text": [
      "  6%|██▍                                    | 499/8000 [00:02<00:33, 221.09it/s]\n",
      "57it [00:00, 562.27it/s]"
     ]
    },
    {
     "name": "stdout",
     "output_type": "stream",
     "text": [
      "iterations: 499\n",
      "Number of used features: 26\n",
      "Used features: ['num-p029-leg.nii.gz-0.500000', 'sum-p029-leg.nii.gz-0.500000', 'mean-p029-leg.nii.gz-0.500000', 'std-p029-leg.nii.gz-0.500000', 'skew-p029-leg.nii.gz-0.500000', 'kurt-p029-leg.nii.gz-0.500000', 'hist-0-p029-leg.nii.gz-0.500000', 'hist-1-p029-leg.nii.gz-0.500000', 'hist-2-p029-leg.nii.gz-0.500000', 'hist-3-p029-leg.nii.gz-0.500000', 'hist-4-p029-leg.nii.gz-0.500000', 'hist-5-p029-leg.nii.gz-0.500000', 'hist-6-p029-leg.nii.gz-0.500000', 'hist-7-p029-leg.nii.gz-0.500000', 'hist-8-p029-leg.nii.gz-0.500000', 'hist-9-p029-leg.nii.gz-0.500000', 'hist-10-p029-leg.nii.gz-0.500000', 'hist-11-p029-leg.nii.gz-0.500000', 'hist-12-p029-leg.nii.gz-0.500000', 'hist-13-p029-leg.nii.gz-0.500000', 'hist-14-p029-leg.nii.gz-0.500000', 'hist-15-p029-leg.nii.gz-0.500000', 'hist-16-p029-leg.nii.gz-0.500000', 'hist-17-p029-leg.nii.gz-0.500000', 'hist-18-p029-leg.nii.gz-0.500000', 'hist-19-p029-leg.nii.gz-0.500000'] \n",
      "Score: -0.9395949263122483\n"
     ]
    },
    {
     "name": "stderr",
     "output_type": "stream",
     "text": [
      "200it [00:00, 552.63it/s]\n"
     ]
    },
    {
     "name": "stdout",
     "output_type": "stream",
     "text": [
      "1\n",
      "1 0.942009983237943\n",
      "Objective RidgeRegression_Objective:\n"
     ]
    },
    {
     "name": "stderr",
     "output_type": "stream",
     "text": [
      "  6%|██▍                                    | 508/8000 [00:01<00:28, 266.65it/s]\n",
      "49it [00:00, 484.95it/s]"
     ]
    },
    {
     "name": "stdout",
     "output_type": "stream",
     "text": [
      "iterations: 508\n",
      "Number of used features: 26\n",
      "Used features: ['num-p029-leg.nii.gz-0.500000', 'sum-p029-leg.nii.gz-0.500000', 'mean-p029-leg.nii.gz-0.500000', 'std-p029-leg.nii.gz-0.500000', 'skew-p029-leg.nii.gz-0.500000', 'kurt-p029-leg.nii.gz-0.500000', 'hist-0-p029-leg.nii.gz-0.500000', 'hist-1-p029-leg.nii.gz-0.500000', 'hist-2-p029-leg.nii.gz-0.500000', 'hist-3-p029-leg.nii.gz-0.500000', 'hist-4-p029-leg.nii.gz-0.500000', 'hist-5-p029-leg.nii.gz-0.500000', 'hist-6-p029-leg.nii.gz-0.500000', 'hist-7-p029-leg.nii.gz-0.500000', 'hist-8-p029-leg.nii.gz-0.500000', 'hist-9-p029-leg.nii.gz-0.500000', 'hist-10-p029-leg.nii.gz-0.500000', 'hist-11-p029-leg.nii.gz-0.500000', 'hist-12-p029-leg.nii.gz-0.500000', 'hist-13-p029-leg.nii.gz-0.500000', 'hist-14-p029-leg.nii.gz-0.500000', 'hist-15-p029-leg.nii.gz-0.500000', 'hist-16-p029-leg.nii.gz-0.500000', 'hist-17-p029-leg.nii.gz-0.500000', 'hist-18-p029-leg.nii.gz-0.500000', 'hist-19-p029-leg.nii.gz-0.500000'] \n",
      "Score: -0.9336888305491238\n"
     ]
    },
    {
     "name": "stderr",
     "output_type": "stream",
     "text": [
      "200it [00:00, 482.94it/s]\n",
      "  0%|                                                  | 0/8000 [00:00<?, ?it/s]"
     ]
    },
    {
     "name": "stdout",
     "output_type": "stream",
     "text": [
      "1\n",
      "1 0.9388351334102226\n",
      "Objective PLSRegression_Objective:\n"
     ]
    },
    {
     "name": "stderr",
     "output_type": "stream",
     "text": [
      "  6%|██▎                                   | 499/8000 [00:00<00:07, 1040.80it/s]\n",
      "62it [00:00, 615.59it/s]"
     ]
    },
    {
     "name": "stdout",
     "output_type": "stream",
     "text": [
      "iterations: 499\n",
      "Number of used features: 26\n",
      "Used features: ['num-p029-leg.nii.gz-0.500000', 'sum-p029-leg.nii.gz-0.500000', 'mean-p029-leg.nii.gz-0.500000', 'std-p029-leg.nii.gz-0.500000', 'skew-p029-leg.nii.gz-0.500000', 'kurt-p029-leg.nii.gz-0.500000', 'hist-0-p029-leg.nii.gz-0.500000', 'hist-1-p029-leg.nii.gz-0.500000', 'hist-2-p029-leg.nii.gz-0.500000', 'hist-3-p029-leg.nii.gz-0.500000', 'hist-4-p029-leg.nii.gz-0.500000', 'hist-5-p029-leg.nii.gz-0.500000', 'hist-6-p029-leg.nii.gz-0.500000', 'hist-7-p029-leg.nii.gz-0.500000', 'hist-8-p029-leg.nii.gz-0.500000', 'hist-9-p029-leg.nii.gz-0.500000', 'hist-10-p029-leg.nii.gz-0.500000', 'hist-11-p029-leg.nii.gz-0.500000', 'hist-12-p029-leg.nii.gz-0.500000', 'hist-13-p029-leg.nii.gz-0.500000', 'hist-14-p029-leg.nii.gz-0.500000', 'hist-15-p029-leg.nii.gz-0.500000', 'hist-16-p029-leg.nii.gz-0.500000', 'hist-17-p029-leg.nii.gz-0.500000', 'hist-18-p029-leg.nii.gz-0.500000', 'hist-19-p029-leg.nii.gz-0.500000'] \n",
      "Score: -0.9349180325295992\n"
     ]
    },
    {
     "name": "stderr",
     "output_type": "stream",
     "text": [
      "200it [00:00, 609.29it/s]\n",
      "  0%|                                                  | 0/8000 [00:00<?, ?it/s]"
     ]
    },
    {
     "name": "stdout",
     "output_type": "stream",
     "text": [
      "1\n",
      "1 0.940928387956927\n",
      "Objective KNNR_Objective:\n"
     ]
    },
    {
     "name": "stderr",
     "output_type": "stream",
     "text": [
      "  7%|██▉                                     | 578/8000 [00:15<03:23, 36.44it/s]\n",
      "72it [00:00, 712.10it/s]"
     ]
    },
    {
     "name": "stdout",
     "output_type": "stream",
     "text": [
      "iterations: 578\n",
      "Number of used features: 26\n",
      "Used features: ['num-p032-leg.nii.gz-0.500000', 'sum-p032-leg.nii.gz-0.500000', 'mean-p032-leg.nii.gz-0.500000', 'std-p032-leg.nii.gz-0.500000', 'skew-p032-leg.nii.gz-0.500000', 'kurt-p032-leg.nii.gz-0.500000', 'hist-0-p032-leg.nii.gz-0.500000', 'hist-1-p032-leg.nii.gz-0.500000', 'hist-2-p032-leg.nii.gz-0.500000', 'hist-3-p032-leg.nii.gz-0.500000', 'hist-4-p032-leg.nii.gz-0.500000', 'hist-5-p032-leg.nii.gz-0.500000', 'hist-6-p032-leg.nii.gz-0.500000', 'hist-7-p032-leg.nii.gz-0.500000', 'hist-8-p032-leg.nii.gz-0.500000', 'hist-9-p032-leg.nii.gz-0.500000', 'hist-10-p032-leg.nii.gz-0.500000', 'hist-11-p032-leg.nii.gz-0.500000', 'hist-12-p032-leg.nii.gz-0.500000', 'hist-13-p032-leg.nii.gz-0.500000', 'hist-14-p032-leg.nii.gz-0.500000', 'hist-15-p032-leg.nii.gz-0.500000', 'hist-16-p032-leg.nii.gz-0.500000', 'hist-17-p032-leg.nii.gz-0.500000', 'hist-18-p032-leg.nii.gz-0.500000', 'hist-19-p032-leg.nii.gz-0.500000'] \n",
      "Score: -0.6190449147346484\n"
     ]
    },
    {
     "name": "stderr",
     "output_type": "stream",
     "text": [
      "200it [00:00, 711.85it/s]\n",
      "  0%|                                                  | 0/8000 [00:00<?, ?it/s]"
     ]
    },
    {
     "name": "stdout",
     "output_type": "stream",
     "text": [
      "1\n",
      "1 0.6763542845313764\n",
      "Objective LinearRegression_Objective:\n"
     ]
    },
    {
     "name": "stderr",
     "output_type": "stream",
     "text": [
      "  6%|██▎                                   | 499/8000 [00:00<00:02, 3390.28it/s]\n",
      "85it [00:00, 848.44it/s]"
     ]
    },
    {
     "name": "stdout",
     "output_type": "stream",
     "text": [
      "iterations: 499\n",
      "Number of used features: 26\n",
      "Used features: ['num-p032-leg.nii.gz-0.500000', 'sum-p032-leg.nii.gz-0.500000', 'mean-p032-leg.nii.gz-0.500000', 'std-p032-leg.nii.gz-0.500000', 'skew-p032-leg.nii.gz-0.500000', 'kurt-p032-leg.nii.gz-0.500000', 'hist-0-p032-leg.nii.gz-0.500000', 'hist-1-p032-leg.nii.gz-0.500000', 'hist-2-p032-leg.nii.gz-0.500000', 'hist-3-p032-leg.nii.gz-0.500000', 'hist-4-p032-leg.nii.gz-0.500000', 'hist-5-p032-leg.nii.gz-0.500000', 'hist-6-p032-leg.nii.gz-0.500000', 'hist-7-p032-leg.nii.gz-0.500000', 'hist-8-p032-leg.nii.gz-0.500000', 'hist-9-p032-leg.nii.gz-0.500000', 'hist-10-p032-leg.nii.gz-0.500000', 'hist-11-p032-leg.nii.gz-0.500000', 'hist-12-p032-leg.nii.gz-0.500000', 'hist-13-p032-leg.nii.gz-0.500000', 'hist-14-p032-leg.nii.gz-0.500000', 'hist-15-p032-leg.nii.gz-0.500000', 'hist-16-p032-leg.nii.gz-0.500000', 'hist-17-p032-leg.nii.gz-0.500000', 'hist-18-p032-leg.nii.gz-0.500000', 'hist-19-p032-leg.nii.gz-0.500000'] \n",
      "Score: -0.788510687334069\n"
     ]
    },
    {
     "name": "stderr",
     "output_type": "stream",
     "text": [
      "200it [00:00, 841.52it/s]\n",
      "  0%|                                                  | 0/8000 [00:00<?, ?it/s]"
     ]
    },
    {
     "name": "stdout",
     "output_type": "stream",
     "text": [
      "1\n",
      "1 0.8740475876808156\n",
      "Objective LassoRegression_Objective:\n"
     ]
    },
    {
     "name": "stderr",
     "output_type": "stream",
     "text": [
      "  6%|██▍                                    | 499/8000 [00:02<00:33, 223.02it/s]\n",
      "58it [00:00, 574.91it/s]"
     ]
    },
    {
     "name": "stdout",
     "output_type": "stream",
     "text": [
      "iterations: 499\n",
      "Number of used features: 26\n",
      "Used features: ['num-p032-leg.nii.gz-0.500000', 'sum-p032-leg.nii.gz-0.500000', 'mean-p032-leg.nii.gz-0.500000', 'std-p032-leg.nii.gz-0.500000', 'skew-p032-leg.nii.gz-0.500000', 'kurt-p032-leg.nii.gz-0.500000', 'hist-0-p032-leg.nii.gz-0.500000', 'hist-1-p032-leg.nii.gz-0.500000', 'hist-2-p032-leg.nii.gz-0.500000', 'hist-3-p032-leg.nii.gz-0.500000', 'hist-4-p032-leg.nii.gz-0.500000', 'hist-5-p032-leg.nii.gz-0.500000', 'hist-6-p032-leg.nii.gz-0.500000', 'hist-7-p032-leg.nii.gz-0.500000', 'hist-8-p032-leg.nii.gz-0.500000', 'hist-9-p032-leg.nii.gz-0.500000', 'hist-10-p032-leg.nii.gz-0.500000', 'hist-11-p032-leg.nii.gz-0.500000', 'hist-12-p032-leg.nii.gz-0.500000', 'hist-13-p032-leg.nii.gz-0.500000', 'hist-14-p032-leg.nii.gz-0.500000', 'hist-15-p032-leg.nii.gz-0.500000', 'hist-16-p032-leg.nii.gz-0.500000', 'hist-17-p032-leg.nii.gz-0.500000', 'hist-18-p032-leg.nii.gz-0.500000', 'hist-19-p032-leg.nii.gz-0.500000'] \n",
      "Score: -0.9478947278556162\n"
     ]
    },
    {
     "name": "stderr",
     "output_type": "stream",
     "text": [
      "200it [00:00, 572.49it/s]\n",
      "  0%|                                                  | 0/8000 [00:00<?, ?it/s]"
     ]
    },
    {
     "name": "stdout",
     "output_type": "stream",
     "text": [
      "1\n",
      "1 0.951125495017074\n",
      "Objective RidgeRegression_Objective:\n"
     ]
    },
    {
     "name": "stderr",
     "output_type": "stream",
     "text": [
      "  6%|██▍                                    | 505/8000 [00:01<00:27, 271.77it/s]\n",
      "50it [00:00, 498.25it/s]"
     ]
    },
    {
     "name": "stdout",
     "output_type": "stream",
     "text": [
      "iterations: 505\n",
      "Number of used features: 26\n",
      "Used features: ['num-p032-leg.nii.gz-0.500000', 'sum-p032-leg.nii.gz-0.500000', 'mean-p032-leg.nii.gz-0.500000', 'std-p032-leg.nii.gz-0.500000', 'skew-p032-leg.nii.gz-0.500000', 'kurt-p032-leg.nii.gz-0.500000', 'hist-0-p032-leg.nii.gz-0.500000', 'hist-1-p032-leg.nii.gz-0.500000', 'hist-2-p032-leg.nii.gz-0.500000', 'hist-3-p032-leg.nii.gz-0.500000', 'hist-4-p032-leg.nii.gz-0.500000', 'hist-5-p032-leg.nii.gz-0.500000', 'hist-6-p032-leg.nii.gz-0.500000', 'hist-7-p032-leg.nii.gz-0.500000', 'hist-8-p032-leg.nii.gz-0.500000', 'hist-9-p032-leg.nii.gz-0.500000', 'hist-10-p032-leg.nii.gz-0.500000', 'hist-11-p032-leg.nii.gz-0.500000', 'hist-12-p032-leg.nii.gz-0.500000', 'hist-13-p032-leg.nii.gz-0.500000', 'hist-14-p032-leg.nii.gz-0.500000', 'hist-15-p032-leg.nii.gz-0.500000', 'hist-16-p032-leg.nii.gz-0.500000', 'hist-17-p032-leg.nii.gz-0.500000', 'hist-18-p032-leg.nii.gz-0.500000', 'hist-19-p032-leg.nii.gz-0.500000'] \n",
      "Score: -0.9404738584445599\n"
     ]
    },
    {
     "name": "stderr",
     "output_type": "stream",
     "text": [
      "200it [00:00, 494.40it/s]\n",
      "  0%|                                                  | 0/8000 [00:00<?, ?it/s]"
     ]
    },
    {
     "name": "stdout",
     "output_type": "stream",
     "text": [
      "1\n",
      "1 0.948189052660876\n",
      "Objective PLSRegression_Objective:\n"
     ]
    },
    {
     "name": "stderr",
     "output_type": "stream",
     "text": [
      "  6%|██▎                                   | 499/8000 [00:00<00:07, 1071.28it/s]\n",
      "64it [00:00, 632.82it/s]"
     ]
    },
    {
     "name": "stdout",
     "output_type": "stream",
     "text": [
      "iterations: 499\n",
      "Number of used features: 26\n",
      "Used features: ['num-p032-leg.nii.gz-0.500000', 'sum-p032-leg.nii.gz-0.500000', 'mean-p032-leg.nii.gz-0.500000', 'std-p032-leg.nii.gz-0.500000', 'skew-p032-leg.nii.gz-0.500000', 'kurt-p032-leg.nii.gz-0.500000', 'hist-0-p032-leg.nii.gz-0.500000', 'hist-1-p032-leg.nii.gz-0.500000', 'hist-2-p032-leg.nii.gz-0.500000', 'hist-3-p032-leg.nii.gz-0.500000', 'hist-4-p032-leg.nii.gz-0.500000', 'hist-5-p032-leg.nii.gz-0.500000', 'hist-6-p032-leg.nii.gz-0.500000', 'hist-7-p032-leg.nii.gz-0.500000', 'hist-8-p032-leg.nii.gz-0.500000', 'hist-9-p032-leg.nii.gz-0.500000', 'hist-10-p032-leg.nii.gz-0.500000', 'hist-11-p032-leg.nii.gz-0.500000', 'hist-12-p032-leg.nii.gz-0.500000', 'hist-13-p032-leg.nii.gz-0.500000', 'hist-14-p032-leg.nii.gz-0.500000', 'hist-15-p032-leg.nii.gz-0.500000', 'hist-16-p032-leg.nii.gz-0.500000', 'hist-17-p032-leg.nii.gz-0.500000', 'hist-18-p032-leg.nii.gz-0.500000', 'hist-19-p032-leg.nii.gz-0.500000'] \n",
      "Score: -0.9350335397010654\n"
     ]
    },
    {
     "name": "stderr",
     "output_type": "stream",
     "text": [
      "200it [00:00, 615.37it/s]\n",
      "  0%|                                                  | 0/8000 [00:00<?, ?it/s]"
     ]
    },
    {
     "name": "stdout",
     "output_type": "stream",
     "text": [
      "1\n",
      "1 0.9417092146343271\n",
      "Objective KNNR_Objective:\n"
     ]
    },
    {
     "name": "stderr",
     "output_type": "stream",
     "text": [
      "  7%|██▋                                     | 545/8000 [00:15<03:32, 35.11it/s]\n",
      "77it [00:00, 766.93it/s]"
     ]
    },
    {
     "name": "stdout",
     "output_type": "stream",
     "text": [
      "iterations: 545\n",
      "Number of used features: 26\n",
      "Used features: ['num-p041-leg.nii.gz-0.500000', 'sum-p041-leg.nii.gz-0.500000', 'mean-p041-leg.nii.gz-0.500000', 'std-p041-leg.nii.gz-0.500000', 'skew-p041-leg.nii.gz-0.500000', 'kurt-p041-leg.nii.gz-0.500000', 'hist-0-p041-leg.nii.gz-0.500000', 'hist-1-p041-leg.nii.gz-0.500000', 'hist-2-p041-leg.nii.gz-0.500000', 'hist-3-p041-leg.nii.gz-0.500000', 'hist-4-p041-leg.nii.gz-0.500000', 'hist-5-p041-leg.nii.gz-0.500000', 'hist-6-p041-leg.nii.gz-0.500000', 'hist-7-p041-leg.nii.gz-0.500000', 'hist-8-p041-leg.nii.gz-0.500000', 'hist-9-p041-leg.nii.gz-0.500000', 'hist-10-p041-leg.nii.gz-0.500000', 'hist-11-p041-leg.nii.gz-0.500000', 'hist-12-p041-leg.nii.gz-0.500000', 'hist-13-p041-leg.nii.gz-0.500000', 'hist-14-p041-leg.nii.gz-0.500000', 'hist-15-p041-leg.nii.gz-0.500000', 'hist-16-p041-leg.nii.gz-0.500000', 'hist-17-p041-leg.nii.gz-0.500000', 'hist-18-p041-leg.nii.gz-0.500000', 'hist-19-p041-leg.nii.gz-0.500000'] \n",
      "Score: -0.666438690236903\n"
     ]
    },
    {
     "name": "stderr",
     "output_type": "stream",
     "text": [
      "200it [00:00, 767.49it/s]\n",
      "  0%|                                                  | 0/8000 [00:00<?, ?it/s]"
     ]
    },
    {
     "name": "stdout",
     "output_type": "stream",
     "text": [
      "1\n",
      "1 0.7031748174194752\n",
      "Objective LinearRegression_Objective:\n"
     ]
    },
    {
     "name": "stderr",
     "output_type": "stream",
     "text": [
      "  6%|██▎                                   | 499/8000 [00:00<00:02, 3566.66it/s]\n",
      "88it [00:00, 879.42it/s]"
     ]
    },
    {
     "name": "stdout",
     "output_type": "stream",
     "text": [
      "iterations: 499\n",
      "Number of used features: 26\n",
      "Used features: ['num-p041-leg.nii.gz-0.500000', 'sum-p041-leg.nii.gz-0.500000', 'mean-p041-leg.nii.gz-0.500000', 'std-p041-leg.nii.gz-0.500000', 'skew-p041-leg.nii.gz-0.500000', 'kurt-p041-leg.nii.gz-0.500000', 'hist-0-p041-leg.nii.gz-0.500000', 'hist-1-p041-leg.nii.gz-0.500000', 'hist-2-p041-leg.nii.gz-0.500000', 'hist-3-p041-leg.nii.gz-0.500000', 'hist-4-p041-leg.nii.gz-0.500000', 'hist-5-p041-leg.nii.gz-0.500000', 'hist-6-p041-leg.nii.gz-0.500000', 'hist-7-p041-leg.nii.gz-0.500000', 'hist-8-p041-leg.nii.gz-0.500000', 'hist-9-p041-leg.nii.gz-0.500000', 'hist-10-p041-leg.nii.gz-0.500000', 'hist-11-p041-leg.nii.gz-0.500000', 'hist-12-p041-leg.nii.gz-0.500000', 'hist-13-p041-leg.nii.gz-0.500000', 'hist-14-p041-leg.nii.gz-0.500000', 'hist-15-p041-leg.nii.gz-0.500000', 'hist-16-p041-leg.nii.gz-0.500000', 'hist-17-p041-leg.nii.gz-0.500000', 'hist-18-p041-leg.nii.gz-0.500000', 'hist-19-p041-leg.nii.gz-0.500000'] \n",
      "Score: -0.8354479820538291\n"
     ]
    },
    {
     "name": "stderr",
     "output_type": "stream",
     "text": [
      "200it [00:00, 873.48it/s]\n",
      "  0%|                                                  | 0/8000 [00:00<?, ?it/s]"
     ]
    },
    {
     "name": "stdout",
     "output_type": "stream",
     "text": [
      "1\n",
      "1 0.8954340234614455\n",
      "Objective LassoRegression_Objective:\n"
     ]
    },
    {
     "name": "stderr",
     "output_type": "stream",
     "text": [
      "  6%|██▍                                    | 500/8000 [00:02<00:31, 235.60it/s]\n",
      "57it [00:00, 565.24it/s]"
     ]
    },
    {
     "name": "stdout",
     "output_type": "stream",
     "text": [
      "iterations: 500\n",
      "Number of used features: 26\n",
      "Used features: ['num-p041-leg.nii.gz-0.500000', 'sum-p041-leg.nii.gz-0.500000', 'mean-p041-leg.nii.gz-0.500000', 'std-p041-leg.nii.gz-0.500000', 'skew-p041-leg.nii.gz-0.500000', 'kurt-p041-leg.nii.gz-0.500000', 'hist-0-p041-leg.nii.gz-0.500000', 'hist-1-p041-leg.nii.gz-0.500000', 'hist-2-p041-leg.nii.gz-0.500000', 'hist-3-p041-leg.nii.gz-0.500000', 'hist-4-p041-leg.nii.gz-0.500000', 'hist-5-p041-leg.nii.gz-0.500000', 'hist-6-p041-leg.nii.gz-0.500000', 'hist-7-p041-leg.nii.gz-0.500000', 'hist-8-p041-leg.nii.gz-0.500000', 'hist-9-p041-leg.nii.gz-0.500000', 'hist-10-p041-leg.nii.gz-0.500000', 'hist-11-p041-leg.nii.gz-0.500000', 'hist-12-p041-leg.nii.gz-0.500000', 'hist-13-p041-leg.nii.gz-0.500000', 'hist-14-p041-leg.nii.gz-0.500000', 'hist-15-p041-leg.nii.gz-0.500000', 'hist-16-p041-leg.nii.gz-0.500000', 'hist-17-p041-leg.nii.gz-0.500000', 'hist-18-p041-leg.nii.gz-0.500000', 'hist-19-p041-leg.nii.gz-0.500000'] \n",
      "Score: -0.9490686829752385\n"
     ]
    },
    {
     "name": "stderr",
     "output_type": "stream",
     "text": [
      "200it [00:00, 556.77it/s]\n",
      "  0%|                                                  | 0/8000 [00:00<?, ?it/s]"
     ]
    },
    {
     "name": "stdout",
     "output_type": "stream",
     "text": [
      "1\n",
      "1 0.9537705546059657\n",
      "Objective RidgeRegression_Objective:\n"
     ]
    },
    {
     "name": "stderr",
     "output_type": "stream",
     "text": [
      "  6%|██▍                                    | 505/8000 [00:01<00:20, 367.85it/s]\n",
      "69it [00:00, 681.14it/s]"
     ]
    },
    {
     "name": "stdout",
     "output_type": "stream",
     "text": [
      "iterations: 505\n",
      "Number of used features: 26\n",
      "Used features: ['num-p041-leg.nii.gz-0.500000', 'sum-p041-leg.nii.gz-0.500000', 'mean-p041-leg.nii.gz-0.500000', 'std-p041-leg.nii.gz-0.500000', 'skew-p041-leg.nii.gz-0.500000', 'kurt-p041-leg.nii.gz-0.500000', 'hist-0-p041-leg.nii.gz-0.500000', 'hist-1-p041-leg.nii.gz-0.500000', 'hist-2-p041-leg.nii.gz-0.500000', 'hist-3-p041-leg.nii.gz-0.500000', 'hist-4-p041-leg.nii.gz-0.500000', 'hist-5-p041-leg.nii.gz-0.500000', 'hist-6-p041-leg.nii.gz-0.500000', 'hist-7-p041-leg.nii.gz-0.500000', 'hist-8-p041-leg.nii.gz-0.500000', 'hist-9-p041-leg.nii.gz-0.500000', 'hist-10-p041-leg.nii.gz-0.500000', 'hist-11-p041-leg.nii.gz-0.500000', 'hist-12-p041-leg.nii.gz-0.500000', 'hist-13-p041-leg.nii.gz-0.500000', 'hist-14-p041-leg.nii.gz-0.500000', 'hist-15-p041-leg.nii.gz-0.500000', 'hist-16-p041-leg.nii.gz-0.500000', 'hist-17-p041-leg.nii.gz-0.500000', 'hist-18-p041-leg.nii.gz-0.500000', 'hist-19-p041-leg.nii.gz-0.500000'] \n",
      "Score: -0.9472801670896125\n"
     ]
    },
    {
     "name": "stderr",
     "output_type": "stream",
     "text": [
      "200it [00:00, 608.93it/s]\n",
      "  0%|                                                  | 0/8000 [00:00<?, ?it/s]"
     ]
    },
    {
     "name": "stdout",
     "output_type": "stream",
     "text": [
      "1\n",
      "1 0.9525952159073076\n",
      "Objective PLSRegression_Objective:\n"
     ]
    },
    {
     "name": "stderr",
     "output_type": "stream",
     "text": [
      "  6%|██▎                                   | 499/8000 [00:00<00:06, 1090.39it/s]\n",
      "65it [00:00, 642.38it/s]"
     ]
    },
    {
     "name": "stdout",
     "output_type": "stream",
     "text": [
      "iterations: 499\n",
      "Number of used features: 26\n",
      "Used features: ['num-p041-leg.nii.gz-0.500000', 'sum-p041-leg.nii.gz-0.500000', 'mean-p041-leg.nii.gz-0.500000', 'std-p041-leg.nii.gz-0.500000', 'skew-p041-leg.nii.gz-0.500000', 'kurt-p041-leg.nii.gz-0.500000', 'hist-0-p041-leg.nii.gz-0.500000', 'hist-1-p041-leg.nii.gz-0.500000', 'hist-2-p041-leg.nii.gz-0.500000', 'hist-3-p041-leg.nii.gz-0.500000', 'hist-4-p041-leg.nii.gz-0.500000', 'hist-5-p041-leg.nii.gz-0.500000', 'hist-6-p041-leg.nii.gz-0.500000', 'hist-7-p041-leg.nii.gz-0.500000', 'hist-8-p041-leg.nii.gz-0.500000', 'hist-9-p041-leg.nii.gz-0.500000', 'hist-10-p041-leg.nii.gz-0.500000', 'hist-11-p041-leg.nii.gz-0.500000', 'hist-12-p041-leg.nii.gz-0.500000', 'hist-13-p041-leg.nii.gz-0.500000', 'hist-14-p041-leg.nii.gz-0.500000', 'hist-15-p041-leg.nii.gz-0.500000', 'hist-16-p041-leg.nii.gz-0.500000', 'hist-17-p041-leg.nii.gz-0.500000', 'hist-18-p041-leg.nii.gz-0.500000', 'hist-19-p041-leg.nii.gz-0.500000'] \n",
      "Score: -0.9396318980822064\n"
     ]
    },
    {
     "name": "stderr",
     "output_type": "stream",
     "text": [
      "200it [00:00, 631.97it/s]\n",
      "  0%|                                                  | 0/8000 [00:00<?, ?it/s]"
     ]
    },
    {
     "name": "stdout",
     "output_type": "stream",
     "text": [
      "1\n",
      "1 0.9455598746377815\n",
      "Objective KNNR_Objective:\n"
     ]
    },
    {
     "name": "stderr",
     "output_type": "stream",
     "text": [
      "  7%|██▋                                     | 529/8000 [00:14<03:22, 36.90it/s]\n",
      "78it [00:00, 777.80it/s]"
     ]
    },
    {
     "name": "stdout",
     "output_type": "stream",
     "text": [
      "iterations: 529\n",
      "Number of used features: 26\n",
      "Used features: ['num-p048-leg.nii.gz-0.500000', 'sum-p048-leg.nii.gz-0.500000', 'mean-p048-leg.nii.gz-0.500000', 'std-p048-leg.nii.gz-0.500000', 'skew-p048-leg.nii.gz-0.500000', 'kurt-p048-leg.nii.gz-0.500000', 'hist-0-p048-leg.nii.gz-0.500000', 'hist-1-p048-leg.nii.gz-0.500000', 'hist-2-p048-leg.nii.gz-0.500000', 'hist-3-p048-leg.nii.gz-0.500000', 'hist-4-p048-leg.nii.gz-0.500000', 'hist-5-p048-leg.nii.gz-0.500000', 'hist-6-p048-leg.nii.gz-0.500000', 'hist-7-p048-leg.nii.gz-0.500000', 'hist-8-p048-leg.nii.gz-0.500000', 'hist-9-p048-leg.nii.gz-0.500000', 'hist-10-p048-leg.nii.gz-0.500000', 'hist-11-p048-leg.nii.gz-0.500000', 'hist-12-p048-leg.nii.gz-0.500000', 'hist-13-p048-leg.nii.gz-0.500000', 'hist-14-p048-leg.nii.gz-0.500000', 'hist-15-p048-leg.nii.gz-0.500000', 'hist-16-p048-leg.nii.gz-0.500000', 'hist-17-p048-leg.nii.gz-0.500000', 'hist-18-p048-leg.nii.gz-0.500000', 'hist-19-p048-leg.nii.gz-0.500000'] \n",
      "Score: -0.6370721288071863\n"
     ]
    },
    {
     "name": "stderr",
     "output_type": "stream",
     "text": [
      "200it [00:00, 773.78it/s]\n",
      "  0%|                                                  | 0/8000 [00:00<?, ?it/s]"
     ]
    },
    {
     "name": "stdout",
     "output_type": "stream",
     "text": [
      "1\n",
      "1 0.6641255069756384\n",
      "Objective LinearRegression_Objective:\n"
     ]
    },
    {
     "name": "stderr",
     "output_type": "stream",
     "text": [
      "  6%|██▎                                   | 499/8000 [00:00<00:02, 3519.59it/s]\n",
      "89it [00:00, 882.98it/s]"
     ]
    },
    {
     "name": "stdout",
     "output_type": "stream",
     "text": [
      "iterations: 499\n",
      "Number of used features: 26\n",
      "Used features: ['num-p048-leg.nii.gz-0.500000', 'sum-p048-leg.nii.gz-0.500000', 'mean-p048-leg.nii.gz-0.500000', 'std-p048-leg.nii.gz-0.500000', 'skew-p048-leg.nii.gz-0.500000', 'kurt-p048-leg.nii.gz-0.500000', 'hist-0-p048-leg.nii.gz-0.500000', 'hist-1-p048-leg.nii.gz-0.500000', 'hist-2-p048-leg.nii.gz-0.500000', 'hist-3-p048-leg.nii.gz-0.500000', 'hist-4-p048-leg.nii.gz-0.500000', 'hist-5-p048-leg.nii.gz-0.500000', 'hist-6-p048-leg.nii.gz-0.500000', 'hist-7-p048-leg.nii.gz-0.500000', 'hist-8-p048-leg.nii.gz-0.500000', 'hist-9-p048-leg.nii.gz-0.500000', 'hist-10-p048-leg.nii.gz-0.500000', 'hist-11-p048-leg.nii.gz-0.500000', 'hist-12-p048-leg.nii.gz-0.500000', 'hist-13-p048-leg.nii.gz-0.500000', 'hist-14-p048-leg.nii.gz-0.500000', 'hist-15-p048-leg.nii.gz-0.500000', 'hist-16-p048-leg.nii.gz-0.500000', 'hist-17-p048-leg.nii.gz-0.500000', 'hist-18-p048-leg.nii.gz-0.500000', 'hist-19-p048-leg.nii.gz-0.500000'] \n",
      "Score: -0.8252902904761892\n"
     ]
    },
    {
     "name": "stderr",
     "output_type": "stream",
     "text": [
      "200it [00:00, 877.68it/s]\n",
      "  0%|                                                  | 0/8000 [00:00<?, ?it/s]"
     ]
    },
    {
     "name": "stdout",
     "output_type": "stream",
     "text": [
      "1\n",
      "1 0.865443319077811\n",
      "Objective LassoRegression_Objective:\n"
     ]
    },
    {
     "name": "stderr",
     "output_type": "stream",
     "text": [
      "  6%|██▍                                    | 499/8000 [00:02<00:32, 232.80it/s]\n",
      "61it [00:00, 604.20it/s]"
     ]
    },
    {
     "name": "stdout",
     "output_type": "stream",
     "text": [
      "iterations: 499\n",
      "Number of used features: 26\n",
      "Used features: ['num-p048-leg.nii.gz-0.500000', 'sum-p048-leg.nii.gz-0.500000', 'mean-p048-leg.nii.gz-0.500000', 'std-p048-leg.nii.gz-0.500000', 'skew-p048-leg.nii.gz-0.500000', 'kurt-p048-leg.nii.gz-0.500000', 'hist-0-p048-leg.nii.gz-0.500000', 'hist-1-p048-leg.nii.gz-0.500000', 'hist-2-p048-leg.nii.gz-0.500000', 'hist-3-p048-leg.nii.gz-0.500000', 'hist-4-p048-leg.nii.gz-0.500000', 'hist-5-p048-leg.nii.gz-0.500000', 'hist-6-p048-leg.nii.gz-0.500000', 'hist-7-p048-leg.nii.gz-0.500000', 'hist-8-p048-leg.nii.gz-0.500000', 'hist-9-p048-leg.nii.gz-0.500000', 'hist-10-p048-leg.nii.gz-0.500000', 'hist-11-p048-leg.nii.gz-0.500000', 'hist-12-p048-leg.nii.gz-0.500000', 'hist-13-p048-leg.nii.gz-0.500000', 'hist-14-p048-leg.nii.gz-0.500000', 'hist-15-p048-leg.nii.gz-0.500000', 'hist-16-p048-leg.nii.gz-0.500000', 'hist-17-p048-leg.nii.gz-0.500000', 'hist-18-p048-leg.nii.gz-0.500000', 'hist-19-p048-leg.nii.gz-0.500000'] \n",
      "Score: -0.9505779246383173\n"
     ]
    },
    {
     "name": "stderr",
     "output_type": "stream",
     "text": [
      "200it [00:00, 605.66it/s]\n",
      "  0%|                                                  | 0/8000 [00:00<?, ?it/s]"
     ]
    },
    {
     "name": "stdout",
     "output_type": "stream",
     "text": [
      "1\n",
      "1 0.9522341018219153\n",
      "Objective RidgeRegression_Objective:\n"
     ]
    },
    {
     "name": "stderr",
     "output_type": "stream",
     "text": [
      "  6%|██▍                                    | 505/8000 [00:01<00:20, 369.52it/s]\n",
      "68it [00:00, 675.83it/s]"
     ]
    },
    {
     "name": "stdout",
     "output_type": "stream",
     "text": [
      "iterations: 505\n",
      "Number of used features: 26\n",
      "Used features: ['num-p048-leg.nii.gz-0.500000', 'sum-p048-leg.nii.gz-0.500000', 'mean-p048-leg.nii.gz-0.500000', 'std-p048-leg.nii.gz-0.500000', 'skew-p048-leg.nii.gz-0.500000', 'kurt-p048-leg.nii.gz-0.500000', 'hist-0-p048-leg.nii.gz-0.500000', 'hist-1-p048-leg.nii.gz-0.500000', 'hist-2-p048-leg.nii.gz-0.500000', 'hist-3-p048-leg.nii.gz-0.500000', 'hist-4-p048-leg.nii.gz-0.500000', 'hist-5-p048-leg.nii.gz-0.500000', 'hist-6-p048-leg.nii.gz-0.500000', 'hist-7-p048-leg.nii.gz-0.500000', 'hist-8-p048-leg.nii.gz-0.500000', 'hist-9-p048-leg.nii.gz-0.500000', 'hist-10-p048-leg.nii.gz-0.500000', 'hist-11-p048-leg.nii.gz-0.500000', 'hist-12-p048-leg.nii.gz-0.500000', 'hist-13-p048-leg.nii.gz-0.500000', 'hist-14-p048-leg.nii.gz-0.500000', 'hist-15-p048-leg.nii.gz-0.500000', 'hist-16-p048-leg.nii.gz-0.500000', 'hist-17-p048-leg.nii.gz-0.500000', 'hist-18-p048-leg.nii.gz-0.500000', 'hist-19-p048-leg.nii.gz-0.500000'] \n",
      "Score: -0.9338588551249909\n"
     ]
    },
    {
     "name": "stderr",
     "output_type": "stream",
     "text": [
      "200it [00:00, 674.43it/s]\n",
      "  0%|                                                  | 0/8000 [00:00<?, ?it/s]"
     ]
    },
    {
     "name": "stdout",
     "output_type": "stream",
     "text": [
      "1\n",
      "1 0.9387389939293618\n",
      "Objective PLSRegression_Objective:\n"
     ]
    },
    {
     "name": "stderr",
     "output_type": "stream",
     "text": [
      "  6%|██▎                                   | 499/8000 [00:00<00:06, 1074.49it/s]\n",
      "63it [00:00, 629.72it/s]"
     ]
    },
    {
     "name": "stdout",
     "output_type": "stream",
     "text": [
      "iterations: 499\n",
      "Number of used features: 26\n",
      "Used features: ['num-p048-leg.nii.gz-0.500000', 'sum-p048-leg.nii.gz-0.500000', 'mean-p048-leg.nii.gz-0.500000', 'std-p048-leg.nii.gz-0.500000', 'skew-p048-leg.nii.gz-0.500000', 'kurt-p048-leg.nii.gz-0.500000', 'hist-0-p048-leg.nii.gz-0.500000', 'hist-1-p048-leg.nii.gz-0.500000', 'hist-2-p048-leg.nii.gz-0.500000', 'hist-3-p048-leg.nii.gz-0.500000', 'hist-4-p048-leg.nii.gz-0.500000', 'hist-5-p048-leg.nii.gz-0.500000', 'hist-6-p048-leg.nii.gz-0.500000', 'hist-7-p048-leg.nii.gz-0.500000', 'hist-8-p048-leg.nii.gz-0.500000', 'hist-9-p048-leg.nii.gz-0.500000', 'hist-10-p048-leg.nii.gz-0.500000', 'hist-11-p048-leg.nii.gz-0.500000', 'hist-12-p048-leg.nii.gz-0.500000', 'hist-13-p048-leg.nii.gz-0.500000', 'hist-14-p048-leg.nii.gz-0.500000', 'hist-15-p048-leg.nii.gz-0.500000', 'hist-16-p048-leg.nii.gz-0.500000', 'hist-17-p048-leg.nii.gz-0.500000', 'hist-18-p048-leg.nii.gz-0.500000', 'hist-19-p048-leg.nii.gz-0.500000'] \n",
      "Score: -0.9142706552629516\n"
     ]
    },
    {
     "name": "stderr",
     "output_type": "stream",
     "text": [
      "200it [00:00, 631.28it/s]"
     ]
    },
    {
     "name": "stdout",
     "output_type": "stream",
     "text": [
      "1\n",
      "1 0.9216316347317524\n"
     ]
    },
    {
     "name": "stderr",
     "output_type": "stream",
     "text": [
      "\n"
     ]
    }
   ],
   "source": [
    "for m in masks:\n",
    "    results_no_fs.append(model_selection(leg_features[[c for c in leg_features.columns if m in c or c == 'type']], leg_target, dataset='leg', type=m, disable_feature_selection=True))"
   ]
  },
  {
   "cell_type": "markdown",
   "metadata": {},
   "source": [
    "### loin all features"
   ]
  },
  {
   "cell_type": "code",
   "execution_count": 31,
   "metadata": {},
   "outputs": [
    {
     "name": "stderr",
     "output_type": "stream",
     "text": [
      "\r",
      "  0%|                                                  | 0/8000 [00:00<?, ?it/s]"
     ]
    },
    {
     "name": "stdout",
     "output_type": "stream",
     "text": [
      "Objective KNNR_Objective:\n"
     ]
    },
    {
     "name": "stderr",
     "output_type": "stream",
     "text": [
      "  7%|██▋                                     | 529/8000 [00:20<04:47, 25.98it/s]\n",
      "69it [00:00, 688.00it/s]"
     ]
    },
    {
     "name": "stdout",
     "output_type": "stream",
     "text": [
      "iterations: 529\n",
      "Number of used features: 157\n",
      "Used features: ['Unnamed: 0', 'num-p004-loin.nii.gz-0.500000', 'sum-p004-loin.nii.gz-0.500000', 'mean-p004-loin.nii.gz-0.500000', 'std-p004-loin.nii.gz-0.500000', 'skew-p004-loin.nii.gz-0.500000', 'kurt-p004-loin.nii.gz-0.500000', 'hist-0-p004-loin.nii.gz-0.500000', 'hist-1-p004-loin.nii.gz-0.500000', 'hist-2-p004-loin.nii.gz-0.500000', 'hist-3-p004-loin.nii.gz-0.500000', 'hist-4-p004-loin.nii.gz-0.500000', 'hist-5-p004-loin.nii.gz-0.500000', 'hist-6-p004-loin.nii.gz-0.500000', 'hist-7-p004-loin.nii.gz-0.500000', 'hist-8-p004-loin.nii.gz-0.500000', 'hist-9-p004-loin.nii.gz-0.500000', 'hist-10-p004-loin.nii.gz-0.500000', 'hist-11-p004-loin.nii.gz-0.500000', 'hist-12-p004-loin.nii.gz-0.500000', 'hist-13-p004-loin.nii.gz-0.500000', 'hist-14-p004-loin.nii.gz-0.500000', 'hist-15-p004-loin.nii.gz-0.500000', 'hist-16-p004-loin.nii.gz-0.500000', 'hist-17-p004-loin.nii.gz-0.500000', 'hist-18-p004-loin.nii.gz-0.500000', 'hist-19-p004-loin.nii.gz-0.500000', 'num-p029-loin.nii.gz-0.500000', 'sum-p029-loin.nii.gz-0.500000', 'mean-p029-loin.nii.gz-0.500000', 'std-p029-loin.nii.gz-0.500000', 'skew-p029-loin.nii.gz-0.500000', 'kurt-p029-loin.nii.gz-0.500000', 'hist-0-p029-loin.nii.gz-0.500000', 'hist-1-p029-loin.nii.gz-0.500000', 'hist-2-p029-loin.nii.gz-0.500000', 'hist-3-p029-loin.nii.gz-0.500000', 'hist-4-p029-loin.nii.gz-0.500000', 'hist-5-p029-loin.nii.gz-0.500000', 'hist-6-p029-loin.nii.gz-0.500000', 'hist-7-p029-loin.nii.gz-0.500000', 'hist-8-p029-loin.nii.gz-0.500000', 'hist-9-p029-loin.nii.gz-0.500000', 'hist-10-p029-loin.nii.gz-0.500000', 'hist-11-p029-loin.nii.gz-0.500000', 'hist-12-p029-loin.nii.gz-0.500000', 'hist-13-p029-loin.nii.gz-0.500000', 'hist-14-p029-loin.nii.gz-0.500000', 'hist-15-p029-loin.nii.gz-0.500000', 'hist-16-p029-loin.nii.gz-0.500000', 'hist-17-p029-loin.nii.gz-0.500000', 'hist-18-p029-loin.nii.gz-0.500000', 'hist-19-p029-loin.nii.gz-0.500000', 'num-p032-loin.nii.gz-0.500000', 'sum-p032-loin.nii.gz-0.500000', 'mean-p032-loin.nii.gz-0.500000', 'std-p032-loin.nii.gz-0.500000', 'skew-p032-loin.nii.gz-0.500000', 'kurt-p032-loin.nii.gz-0.500000', 'hist-0-p032-loin.nii.gz-0.500000', 'hist-1-p032-loin.nii.gz-0.500000', 'hist-2-p032-loin.nii.gz-0.500000', 'hist-3-p032-loin.nii.gz-0.500000', 'hist-4-p032-loin.nii.gz-0.500000', 'hist-5-p032-loin.nii.gz-0.500000', 'hist-6-p032-loin.nii.gz-0.500000', 'hist-7-p032-loin.nii.gz-0.500000', 'hist-8-p032-loin.nii.gz-0.500000', 'hist-9-p032-loin.nii.gz-0.500000', 'hist-10-p032-loin.nii.gz-0.500000', 'hist-11-p032-loin.nii.gz-0.500000', 'hist-12-p032-loin.nii.gz-0.500000', 'hist-13-p032-loin.nii.gz-0.500000', 'hist-14-p032-loin.nii.gz-0.500000', 'hist-15-p032-loin.nii.gz-0.500000', 'hist-16-p032-loin.nii.gz-0.500000', 'hist-17-p032-loin.nii.gz-0.500000', 'hist-18-p032-loin.nii.gz-0.500000', 'hist-19-p032-loin.nii.gz-0.500000', 'num-p041-loin.nii.gz-0.500000', 'sum-p041-loin.nii.gz-0.500000', 'mean-p041-loin.nii.gz-0.500000', 'std-p041-loin.nii.gz-0.500000', 'skew-p041-loin.nii.gz-0.500000', 'kurt-p041-loin.nii.gz-0.500000', 'hist-0-p041-loin.nii.gz-0.500000', 'hist-1-p041-loin.nii.gz-0.500000', 'hist-2-p041-loin.nii.gz-0.500000', 'hist-3-p041-loin.nii.gz-0.500000', 'hist-4-p041-loin.nii.gz-0.500000', 'hist-5-p041-loin.nii.gz-0.500000', 'hist-6-p041-loin.nii.gz-0.500000', 'hist-7-p041-loin.nii.gz-0.500000', 'hist-8-p041-loin.nii.gz-0.500000', 'hist-9-p041-loin.nii.gz-0.500000', 'hist-10-p041-loin.nii.gz-0.500000', 'hist-11-p041-loin.nii.gz-0.500000', 'hist-12-p041-loin.nii.gz-0.500000', 'hist-13-p041-loin.nii.gz-0.500000', 'hist-14-p041-loin.nii.gz-0.500000', 'hist-15-p041-loin.nii.gz-0.500000', 'hist-16-p041-loin.nii.gz-0.500000', 'hist-17-p041-loin.nii.gz-0.500000', 'hist-18-p041-loin.nii.gz-0.500000', 'hist-19-p041-loin.nii.gz-0.500000', 'num-p048-loin.nii.gz-0.500000', 'sum-p048-loin.nii.gz-0.500000', 'mean-p048-loin.nii.gz-0.500000', 'std-p048-loin.nii.gz-0.500000', 'skew-p048-loin.nii.gz-0.500000', 'kurt-p048-loin.nii.gz-0.500000', 'hist-0-p048-loin.nii.gz-0.500000', 'hist-1-p048-loin.nii.gz-0.500000', 'hist-2-p048-loin.nii.gz-0.500000', 'hist-3-p048-loin.nii.gz-0.500000', 'hist-4-p048-loin.nii.gz-0.500000', 'hist-5-p048-loin.nii.gz-0.500000', 'hist-6-p048-loin.nii.gz-0.500000', 'hist-7-p048-loin.nii.gz-0.500000', 'hist-8-p048-loin.nii.gz-0.500000', 'hist-9-p048-loin.nii.gz-0.500000', 'hist-10-p048-loin.nii.gz-0.500000', 'hist-11-p048-loin.nii.gz-0.500000', 'hist-12-p048-loin.nii.gz-0.500000', 'hist-13-p048-loin.nii.gz-0.500000', 'hist-14-p048-loin.nii.gz-0.500000', 'hist-15-p048-loin.nii.gz-0.500000', 'hist-16-p048-loin.nii.gz-0.500000', 'hist-17-p048-loin.nii.gz-0.500000', 'hist-18-p048-loin.nii.gz-0.500000', 'hist-19-p048-loin.nii.gz-0.500000', 'num-0.500000-mean_mask', 'sum-0.500000-mean_mask', 'mean-0.500000-mean_mask', 'std-0.500000-mean_mask', 'skew-0.500000-mean_mask', 'kurt-0.500000-mean_mask', 'hist-0-0.500000-mean_mask', 'hist-1-0.500000-mean_mask', 'hist-2-0.500000-mean_mask', 'hist-3-0.500000-mean_mask', 'hist-4-0.500000-mean_mask', 'hist-5-0.500000-mean_mask', 'hist-6-0.500000-mean_mask', 'hist-7-0.500000-mean_mask', 'hist-8-0.500000-mean_mask', 'hist-9-0.500000-mean_mask', 'hist-10-0.500000-mean_mask', 'hist-11-0.500000-mean_mask', 'hist-12-0.500000-mean_mask', 'hist-13-0.500000-mean_mask', 'hist-14-0.500000-mean_mask', 'hist-15-0.500000-mean_mask', 'hist-16-0.500000-mean_mask', 'hist-17-0.500000-mean_mask', 'hist-18-0.500000-mean_mask', 'hist-19-0.500000-mean_mask'] \n",
      "Score: -0.7246099219978769\n"
     ]
    },
    {
     "name": "stderr",
     "output_type": "stream",
     "text": [
      "200it [00:00, 687.19it/s]\n",
      "  0%|                                                  | 0/8000 [00:00<?, ?it/s]"
     ]
    },
    {
     "name": "stdout",
     "output_type": "stream",
     "text": [
      "1\n",
      "1 0.745957140876067\n",
      "Objective LinearRegression_Objective:\n"
     ]
    },
    {
     "name": "stderr",
     "output_type": "stream",
     "text": [
      "  6%|██▎                                   | 499/8000 [00:00<00:03, 2296.56it/s]\n",
      "50it [00:00, 496.85it/s]"
     ]
    },
    {
     "name": "stdout",
     "output_type": "stream",
     "text": [
      "iterations: 499\n",
      "Number of used features: 157\n",
      "Used features: ['Unnamed: 0', 'num-p004-loin.nii.gz-0.500000', 'sum-p004-loin.nii.gz-0.500000', 'mean-p004-loin.nii.gz-0.500000', 'std-p004-loin.nii.gz-0.500000', 'skew-p004-loin.nii.gz-0.500000', 'kurt-p004-loin.nii.gz-0.500000', 'hist-0-p004-loin.nii.gz-0.500000', 'hist-1-p004-loin.nii.gz-0.500000', 'hist-2-p004-loin.nii.gz-0.500000', 'hist-3-p004-loin.nii.gz-0.500000', 'hist-4-p004-loin.nii.gz-0.500000', 'hist-5-p004-loin.nii.gz-0.500000', 'hist-6-p004-loin.nii.gz-0.500000', 'hist-7-p004-loin.nii.gz-0.500000', 'hist-8-p004-loin.nii.gz-0.500000', 'hist-9-p004-loin.nii.gz-0.500000', 'hist-10-p004-loin.nii.gz-0.500000', 'hist-11-p004-loin.nii.gz-0.500000', 'hist-12-p004-loin.nii.gz-0.500000', 'hist-13-p004-loin.nii.gz-0.500000', 'hist-14-p004-loin.nii.gz-0.500000', 'hist-15-p004-loin.nii.gz-0.500000', 'hist-16-p004-loin.nii.gz-0.500000', 'hist-17-p004-loin.nii.gz-0.500000', 'hist-18-p004-loin.nii.gz-0.500000', 'hist-19-p004-loin.nii.gz-0.500000', 'num-p029-loin.nii.gz-0.500000', 'sum-p029-loin.nii.gz-0.500000', 'mean-p029-loin.nii.gz-0.500000', 'std-p029-loin.nii.gz-0.500000', 'skew-p029-loin.nii.gz-0.500000', 'kurt-p029-loin.nii.gz-0.500000', 'hist-0-p029-loin.nii.gz-0.500000', 'hist-1-p029-loin.nii.gz-0.500000', 'hist-2-p029-loin.nii.gz-0.500000', 'hist-3-p029-loin.nii.gz-0.500000', 'hist-4-p029-loin.nii.gz-0.500000', 'hist-5-p029-loin.nii.gz-0.500000', 'hist-6-p029-loin.nii.gz-0.500000', 'hist-7-p029-loin.nii.gz-0.500000', 'hist-8-p029-loin.nii.gz-0.500000', 'hist-9-p029-loin.nii.gz-0.500000', 'hist-10-p029-loin.nii.gz-0.500000', 'hist-11-p029-loin.nii.gz-0.500000', 'hist-12-p029-loin.nii.gz-0.500000', 'hist-13-p029-loin.nii.gz-0.500000', 'hist-14-p029-loin.nii.gz-0.500000', 'hist-15-p029-loin.nii.gz-0.500000', 'hist-16-p029-loin.nii.gz-0.500000', 'hist-17-p029-loin.nii.gz-0.500000', 'hist-18-p029-loin.nii.gz-0.500000', 'hist-19-p029-loin.nii.gz-0.500000', 'num-p032-loin.nii.gz-0.500000', 'sum-p032-loin.nii.gz-0.500000', 'mean-p032-loin.nii.gz-0.500000', 'std-p032-loin.nii.gz-0.500000', 'skew-p032-loin.nii.gz-0.500000', 'kurt-p032-loin.nii.gz-0.500000', 'hist-0-p032-loin.nii.gz-0.500000', 'hist-1-p032-loin.nii.gz-0.500000', 'hist-2-p032-loin.nii.gz-0.500000', 'hist-3-p032-loin.nii.gz-0.500000', 'hist-4-p032-loin.nii.gz-0.500000', 'hist-5-p032-loin.nii.gz-0.500000', 'hist-6-p032-loin.nii.gz-0.500000', 'hist-7-p032-loin.nii.gz-0.500000', 'hist-8-p032-loin.nii.gz-0.500000', 'hist-9-p032-loin.nii.gz-0.500000', 'hist-10-p032-loin.nii.gz-0.500000', 'hist-11-p032-loin.nii.gz-0.500000', 'hist-12-p032-loin.nii.gz-0.500000', 'hist-13-p032-loin.nii.gz-0.500000', 'hist-14-p032-loin.nii.gz-0.500000', 'hist-15-p032-loin.nii.gz-0.500000', 'hist-16-p032-loin.nii.gz-0.500000', 'hist-17-p032-loin.nii.gz-0.500000', 'hist-18-p032-loin.nii.gz-0.500000', 'hist-19-p032-loin.nii.gz-0.500000', 'num-p041-loin.nii.gz-0.500000', 'sum-p041-loin.nii.gz-0.500000', 'mean-p041-loin.nii.gz-0.500000', 'std-p041-loin.nii.gz-0.500000', 'skew-p041-loin.nii.gz-0.500000', 'kurt-p041-loin.nii.gz-0.500000', 'hist-0-p041-loin.nii.gz-0.500000', 'hist-1-p041-loin.nii.gz-0.500000', 'hist-2-p041-loin.nii.gz-0.500000', 'hist-3-p041-loin.nii.gz-0.500000', 'hist-4-p041-loin.nii.gz-0.500000', 'hist-5-p041-loin.nii.gz-0.500000', 'hist-6-p041-loin.nii.gz-0.500000', 'hist-7-p041-loin.nii.gz-0.500000', 'hist-8-p041-loin.nii.gz-0.500000', 'hist-9-p041-loin.nii.gz-0.500000', 'hist-10-p041-loin.nii.gz-0.500000', 'hist-11-p041-loin.nii.gz-0.500000', 'hist-12-p041-loin.nii.gz-0.500000', 'hist-13-p041-loin.nii.gz-0.500000', 'hist-14-p041-loin.nii.gz-0.500000', 'hist-15-p041-loin.nii.gz-0.500000', 'hist-16-p041-loin.nii.gz-0.500000', 'hist-17-p041-loin.nii.gz-0.500000', 'hist-18-p041-loin.nii.gz-0.500000', 'hist-19-p041-loin.nii.gz-0.500000', 'num-p048-loin.nii.gz-0.500000', 'sum-p048-loin.nii.gz-0.500000', 'mean-p048-loin.nii.gz-0.500000', 'std-p048-loin.nii.gz-0.500000', 'skew-p048-loin.nii.gz-0.500000', 'kurt-p048-loin.nii.gz-0.500000', 'hist-0-p048-loin.nii.gz-0.500000', 'hist-1-p048-loin.nii.gz-0.500000', 'hist-2-p048-loin.nii.gz-0.500000', 'hist-3-p048-loin.nii.gz-0.500000', 'hist-4-p048-loin.nii.gz-0.500000', 'hist-5-p048-loin.nii.gz-0.500000', 'hist-6-p048-loin.nii.gz-0.500000', 'hist-7-p048-loin.nii.gz-0.500000', 'hist-8-p048-loin.nii.gz-0.500000', 'hist-9-p048-loin.nii.gz-0.500000', 'hist-10-p048-loin.nii.gz-0.500000', 'hist-11-p048-loin.nii.gz-0.500000', 'hist-12-p048-loin.nii.gz-0.500000', 'hist-13-p048-loin.nii.gz-0.500000', 'hist-14-p048-loin.nii.gz-0.500000', 'hist-15-p048-loin.nii.gz-0.500000', 'hist-16-p048-loin.nii.gz-0.500000', 'hist-17-p048-loin.nii.gz-0.500000', 'hist-18-p048-loin.nii.gz-0.500000', 'hist-19-p048-loin.nii.gz-0.500000', 'num-0.500000-mean_mask', 'sum-0.500000-mean_mask', 'mean-0.500000-mean_mask', 'std-0.500000-mean_mask', 'skew-0.500000-mean_mask', 'kurt-0.500000-mean_mask', 'hist-0-0.500000-mean_mask', 'hist-1-0.500000-mean_mask', 'hist-2-0.500000-mean_mask', 'hist-3-0.500000-mean_mask', 'hist-4-0.500000-mean_mask', 'hist-5-0.500000-mean_mask', 'hist-6-0.500000-mean_mask', 'hist-7-0.500000-mean_mask', 'hist-8-0.500000-mean_mask', 'hist-9-0.500000-mean_mask', 'hist-10-0.500000-mean_mask', 'hist-11-0.500000-mean_mask', 'hist-12-0.500000-mean_mask', 'hist-13-0.500000-mean_mask', 'hist-14-0.500000-mean_mask', 'hist-15-0.500000-mean_mask', 'hist-16-0.500000-mean_mask', 'hist-17-0.500000-mean_mask', 'hist-18-0.500000-mean_mask', 'hist-19-0.500000-mean_mask'] \n",
      "Score: -0.6703429285922538\n"
     ]
    },
    {
     "name": "stderr",
     "output_type": "stream",
     "text": [
      "200it [00:00, 617.17it/s]\n"
     ]
    },
    {
     "name": "stdout",
     "output_type": "stream",
     "text": [
      "1\n",
      "1 0.5924815713986078\n",
      "Objective LassoRegression_Objective:\n"
     ]
    },
    {
     "name": "stderr",
     "output_type": "stream",
     "text": [
      "  6%|██▍                                     | 499/8000 [00:05<01:28, 85.04it/s]\n",
      "22it [00:00, 218.91it/s]"
     ]
    },
    {
     "name": "stdout",
     "output_type": "stream",
     "text": [
      "iterations: 499\n",
      "Number of used features: 157\n",
      "Used features: ['Unnamed: 0', 'num-p004-loin.nii.gz-0.500000', 'sum-p004-loin.nii.gz-0.500000', 'mean-p004-loin.nii.gz-0.500000', 'std-p004-loin.nii.gz-0.500000', 'skew-p004-loin.nii.gz-0.500000', 'kurt-p004-loin.nii.gz-0.500000', 'hist-0-p004-loin.nii.gz-0.500000', 'hist-1-p004-loin.nii.gz-0.500000', 'hist-2-p004-loin.nii.gz-0.500000', 'hist-3-p004-loin.nii.gz-0.500000', 'hist-4-p004-loin.nii.gz-0.500000', 'hist-5-p004-loin.nii.gz-0.500000', 'hist-6-p004-loin.nii.gz-0.500000', 'hist-7-p004-loin.nii.gz-0.500000', 'hist-8-p004-loin.nii.gz-0.500000', 'hist-9-p004-loin.nii.gz-0.500000', 'hist-10-p004-loin.nii.gz-0.500000', 'hist-11-p004-loin.nii.gz-0.500000', 'hist-12-p004-loin.nii.gz-0.500000', 'hist-13-p004-loin.nii.gz-0.500000', 'hist-14-p004-loin.nii.gz-0.500000', 'hist-15-p004-loin.nii.gz-0.500000', 'hist-16-p004-loin.nii.gz-0.500000', 'hist-17-p004-loin.nii.gz-0.500000', 'hist-18-p004-loin.nii.gz-0.500000', 'hist-19-p004-loin.nii.gz-0.500000', 'num-p029-loin.nii.gz-0.500000', 'sum-p029-loin.nii.gz-0.500000', 'mean-p029-loin.nii.gz-0.500000', 'std-p029-loin.nii.gz-0.500000', 'skew-p029-loin.nii.gz-0.500000', 'kurt-p029-loin.nii.gz-0.500000', 'hist-0-p029-loin.nii.gz-0.500000', 'hist-1-p029-loin.nii.gz-0.500000', 'hist-2-p029-loin.nii.gz-0.500000', 'hist-3-p029-loin.nii.gz-0.500000', 'hist-4-p029-loin.nii.gz-0.500000', 'hist-5-p029-loin.nii.gz-0.500000', 'hist-6-p029-loin.nii.gz-0.500000', 'hist-7-p029-loin.nii.gz-0.500000', 'hist-8-p029-loin.nii.gz-0.500000', 'hist-9-p029-loin.nii.gz-0.500000', 'hist-10-p029-loin.nii.gz-0.500000', 'hist-11-p029-loin.nii.gz-0.500000', 'hist-12-p029-loin.nii.gz-0.500000', 'hist-13-p029-loin.nii.gz-0.500000', 'hist-14-p029-loin.nii.gz-0.500000', 'hist-15-p029-loin.nii.gz-0.500000', 'hist-16-p029-loin.nii.gz-0.500000', 'hist-17-p029-loin.nii.gz-0.500000', 'hist-18-p029-loin.nii.gz-0.500000', 'hist-19-p029-loin.nii.gz-0.500000', 'num-p032-loin.nii.gz-0.500000', 'sum-p032-loin.nii.gz-0.500000', 'mean-p032-loin.nii.gz-0.500000', 'std-p032-loin.nii.gz-0.500000', 'skew-p032-loin.nii.gz-0.500000', 'kurt-p032-loin.nii.gz-0.500000', 'hist-0-p032-loin.nii.gz-0.500000', 'hist-1-p032-loin.nii.gz-0.500000', 'hist-2-p032-loin.nii.gz-0.500000', 'hist-3-p032-loin.nii.gz-0.500000', 'hist-4-p032-loin.nii.gz-0.500000', 'hist-5-p032-loin.nii.gz-0.500000', 'hist-6-p032-loin.nii.gz-0.500000', 'hist-7-p032-loin.nii.gz-0.500000', 'hist-8-p032-loin.nii.gz-0.500000', 'hist-9-p032-loin.nii.gz-0.500000', 'hist-10-p032-loin.nii.gz-0.500000', 'hist-11-p032-loin.nii.gz-0.500000', 'hist-12-p032-loin.nii.gz-0.500000', 'hist-13-p032-loin.nii.gz-0.500000', 'hist-14-p032-loin.nii.gz-0.500000', 'hist-15-p032-loin.nii.gz-0.500000', 'hist-16-p032-loin.nii.gz-0.500000', 'hist-17-p032-loin.nii.gz-0.500000', 'hist-18-p032-loin.nii.gz-0.500000', 'hist-19-p032-loin.nii.gz-0.500000', 'num-p041-loin.nii.gz-0.500000', 'sum-p041-loin.nii.gz-0.500000', 'mean-p041-loin.nii.gz-0.500000', 'std-p041-loin.nii.gz-0.500000', 'skew-p041-loin.nii.gz-0.500000', 'kurt-p041-loin.nii.gz-0.500000', 'hist-0-p041-loin.nii.gz-0.500000', 'hist-1-p041-loin.nii.gz-0.500000', 'hist-2-p041-loin.nii.gz-0.500000', 'hist-3-p041-loin.nii.gz-0.500000', 'hist-4-p041-loin.nii.gz-0.500000', 'hist-5-p041-loin.nii.gz-0.500000', 'hist-6-p041-loin.nii.gz-0.500000', 'hist-7-p041-loin.nii.gz-0.500000', 'hist-8-p041-loin.nii.gz-0.500000', 'hist-9-p041-loin.nii.gz-0.500000', 'hist-10-p041-loin.nii.gz-0.500000', 'hist-11-p041-loin.nii.gz-0.500000', 'hist-12-p041-loin.nii.gz-0.500000', 'hist-13-p041-loin.nii.gz-0.500000', 'hist-14-p041-loin.nii.gz-0.500000', 'hist-15-p041-loin.nii.gz-0.500000', 'hist-16-p041-loin.nii.gz-0.500000', 'hist-17-p041-loin.nii.gz-0.500000', 'hist-18-p041-loin.nii.gz-0.500000', 'hist-19-p041-loin.nii.gz-0.500000', 'num-p048-loin.nii.gz-0.500000', 'sum-p048-loin.nii.gz-0.500000', 'mean-p048-loin.nii.gz-0.500000', 'std-p048-loin.nii.gz-0.500000', 'skew-p048-loin.nii.gz-0.500000', 'kurt-p048-loin.nii.gz-0.500000', 'hist-0-p048-loin.nii.gz-0.500000', 'hist-1-p048-loin.nii.gz-0.500000', 'hist-2-p048-loin.nii.gz-0.500000', 'hist-3-p048-loin.nii.gz-0.500000', 'hist-4-p048-loin.nii.gz-0.500000', 'hist-5-p048-loin.nii.gz-0.500000', 'hist-6-p048-loin.nii.gz-0.500000', 'hist-7-p048-loin.nii.gz-0.500000', 'hist-8-p048-loin.nii.gz-0.500000', 'hist-9-p048-loin.nii.gz-0.500000', 'hist-10-p048-loin.nii.gz-0.500000', 'hist-11-p048-loin.nii.gz-0.500000', 'hist-12-p048-loin.nii.gz-0.500000', 'hist-13-p048-loin.nii.gz-0.500000', 'hist-14-p048-loin.nii.gz-0.500000', 'hist-15-p048-loin.nii.gz-0.500000', 'hist-16-p048-loin.nii.gz-0.500000', 'hist-17-p048-loin.nii.gz-0.500000', 'hist-18-p048-loin.nii.gz-0.500000', 'hist-19-p048-loin.nii.gz-0.500000', 'num-0.500000-mean_mask', 'sum-0.500000-mean_mask', 'mean-0.500000-mean_mask', 'std-0.500000-mean_mask', 'skew-0.500000-mean_mask', 'kurt-0.500000-mean_mask', 'hist-0-0.500000-mean_mask', 'hist-1-0.500000-mean_mask', 'hist-2-0.500000-mean_mask', 'hist-3-0.500000-mean_mask', 'hist-4-0.500000-mean_mask', 'hist-5-0.500000-mean_mask', 'hist-6-0.500000-mean_mask', 'hist-7-0.500000-mean_mask', 'hist-8-0.500000-mean_mask', 'hist-9-0.500000-mean_mask', 'hist-10-0.500000-mean_mask', 'hist-11-0.500000-mean_mask', 'hist-12-0.500000-mean_mask', 'hist-13-0.500000-mean_mask', 'hist-14-0.500000-mean_mask', 'hist-15-0.500000-mean_mask', 'hist-16-0.500000-mean_mask', 'hist-17-0.500000-mean_mask', 'hist-18-0.500000-mean_mask', 'hist-19-0.500000-mean_mask'] \n",
      "Score: -0.8545840605534599\n"
     ]
    },
    {
     "name": "stderr",
     "output_type": "stream",
     "text": [
      "200it [00:00, 215.81it/s]\n"
     ]
    },
    {
     "name": "stdout",
     "output_type": "stream",
     "text": [
      "1\n",
      "1 0.8685509202149762\n",
      "Objective RidgeRegression_Objective:\n"
     ]
    },
    {
     "name": "stderr",
     "output_type": "stream",
     "text": [
      "  6%|██▍                                    | 499/8000 [00:02<00:31, 235.55it/s]\n",
      "43it [00:00, 428.35it/s]"
     ]
    },
    {
     "name": "stdout",
     "output_type": "stream",
     "text": [
      "iterations: 499\n",
      "Number of used features: 157\n",
      "Used features: ['Unnamed: 0', 'num-p004-loin.nii.gz-0.500000', 'sum-p004-loin.nii.gz-0.500000', 'mean-p004-loin.nii.gz-0.500000', 'std-p004-loin.nii.gz-0.500000', 'skew-p004-loin.nii.gz-0.500000', 'kurt-p004-loin.nii.gz-0.500000', 'hist-0-p004-loin.nii.gz-0.500000', 'hist-1-p004-loin.nii.gz-0.500000', 'hist-2-p004-loin.nii.gz-0.500000', 'hist-3-p004-loin.nii.gz-0.500000', 'hist-4-p004-loin.nii.gz-0.500000', 'hist-5-p004-loin.nii.gz-0.500000', 'hist-6-p004-loin.nii.gz-0.500000', 'hist-7-p004-loin.nii.gz-0.500000', 'hist-8-p004-loin.nii.gz-0.500000', 'hist-9-p004-loin.nii.gz-0.500000', 'hist-10-p004-loin.nii.gz-0.500000', 'hist-11-p004-loin.nii.gz-0.500000', 'hist-12-p004-loin.nii.gz-0.500000', 'hist-13-p004-loin.nii.gz-0.500000', 'hist-14-p004-loin.nii.gz-0.500000', 'hist-15-p004-loin.nii.gz-0.500000', 'hist-16-p004-loin.nii.gz-0.500000', 'hist-17-p004-loin.nii.gz-0.500000', 'hist-18-p004-loin.nii.gz-0.500000', 'hist-19-p004-loin.nii.gz-0.500000', 'num-p029-loin.nii.gz-0.500000', 'sum-p029-loin.nii.gz-0.500000', 'mean-p029-loin.nii.gz-0.500000', 'std-p029-loin.nii.gz-0.500000', 'skew-p029-loin.nii.gz-0.500000', 'kurt-p029-loin.nii.gz-0.500000', 'hist-0-p029-loin.nii.gz-0.500000', 'hist-1-p029-loin.nii.gz-0.500000', 'hist-2-p029-loin.nii.gz-0.500000', 'hist-3-p029-loin.nii.gz-0.500000', 'hist-4-p029-loin.nii.gz-0.500000', 'hist-5-p029-loin.nii.gz-0.500000', 'hist-6-p029-loin.nii.gz-0.500000', 'hist-7-p029-loin.nii.gz-0.500000', 'hist-8-p029-loin.nii.gz-0.500000', 'hist-9-p029-loin.nii.gz-0.500000', 'hist-10-p029-loin.nii.gz-0.500000', 'hist-11-p029-loin.nii.gz-0.500000', 'hist-12-p029-loin.nii.gz-0.500000', 'hist-13-p029-loin.nii.gz-0.500000', 'hist-14-p029-loin.nii.gz-0.500000', 'hist-15-p029-loin.nii.gz-0.500000', 'hist-16-p029-loin.nii.gz-0.500000', 'hist-17-p029-loin.nii.gz-0.500000', 'hist-18-p029-loin.nii.gz-0.500000', 'hist-19-p029-loin.nii.gz-0.500000', 'num-p032-loin.nii.gz-0.500000', 'sum-p032-loin.nii.gz-0.500000', 'mean-p032-loin.nii.gz-0.500000', 'std-p032-loin.nii.gz-0.500000', 'skew-p032-loin.nii.gz-0.500000', 'kurt-p032-loin.nii.gz-0.500000', 'hist-0-p032-loin.nii.gz-0.500000', 'hist-1-p032-loin.nii.gz-0.500000', 'hist-2-p032-loin.nii.gz-0.500000', 'hist-3-p032-loin.nii.gz-0.500000', 'hist-4-p032-loin.nii.gz-0.500000', 'hist-5-p032-loin.nii.gz-0.500000', 'hist-6-p032-loin.nii.gz-0.500000', 'hist-7-p032-loin.nii.gz-0.500000', 'hist-8-p032-loin.nii.gz-0.500000', 'hist-9-p032-loin.nii.gz-0.500000', 'hist-10-p032-loin.nii.gz-0.500000', 'hist-11-p032-loin.nii.gz-0.500000', 'hist-12-p032-loin.nii.gz-0.500000', 'hist-13-p032-loin.nii.gz-0.500000', 'hist-14-p032-loin.nii.gz-0.500000', 'hist-15-p032-loin.nii.gz-0.500000', 'hist-16-p032-loin.nii.gz-0.500000', 'hist-17-p032-loin.nii.gz-0.500000', 'hist-18-p032-loin.nii.gz-0.500000', 'hist-19-p032-loin.nii.gz-0.500000', 'num-p041-loin.nii.gz-0.500000', 'sum-p041-loin.nii.gz-0.500000', 'mean-p041-loin.nii.gz-0.500000', 'std-p041-loin.nii.gz-0.500000', 'skew-p041-loin.nii.gz-0.500000', 'kurt-p041-loin.nii.gz-0.500000', 'hist-0-p041-loin.nii.gz-0.500000', 'hist-1-p041-loin.nii.gz-0.500000', 'hist-2-p041-loin.nii.gz-0.500000', 'hist-3-p041-loin.nii.gz-0.500000', 'hist-4-p041-loin.nii.gz-0.500000', 'hist-5-p041-loin.nii.gz-0.500000', 'hist-6-p041-loin.nii.gz-0.500000', 'hist-7-p041-loin.nii.gz-0.500000', 'hist-8-p041-loin.nii.gz-0.500000', 'hist-9-p041-loin.nii.gz-0.500000', 'hist-10-p041-loin.nii.gz-0.500000', 'hist-11-p041-loin.nii.gz-0.500000', 'hist-12-p041-loin.nii.gz-0.500000', 'hist-13-p041-loin.nii.gz-0.500000', 'hist-14-p041-loin.nii.gz-0.500000', 'hist-15-p041-loin.nii.gz-0.500000', 'hist-16-p041-loin.nii.gz-0.500000', 'hist-17-p041-loin.nii.gz-0.500000', 'hist-18-p041-loin.nii.gz-0.500000', 'hist-19-p041-loin.nii.gz-0.500000', 'num-p048-loin.nii.gz-0.500000', 'sum-p048-loin.nii.gz-0.500000', 'mean-p048-loin.nii.gz-0.500000', 'std-p048-loin.nii.gz-0.500000', 'skew-p048-loin.nii.gz-0.500000', 'kurt-p048-loin.nii.gz-0.500000', 'hist-0-p048-loin.nii.gz-0.500000', 'hist-1-p048-loin.nii.gz-0.500000', 'hist-2-p048-loin.nii.gz-0.500000', 'hist-3-p048-loin.nii.gz-0.500000', 'hist-4-p048-loin.nii.gz-0.500000', 'hist-5-p048-loin.nii.gz-0.500000', 'hist-6-p048-loin.nii.gz-0.500000', 'hist-7-p048-loin.nii.gz-0.500000', 'hist-8-p048-loin.nii.gz-0.500000', 'hist-9-p048-loin.nii.gz-0.500000', 'hist-10-p048-loin.nii.gz-0.500000', 'hist-11-p048-loin.nii.gz-0.500000', 'hist-12-p048-loin.nii.gz-0.500000', 'hist-13-p048-loin.nii.gz-0.500000', 'hist-14-p048-loin.nii.gz-0.500000', 'hist-15-p048-loin.nii.gz-0.500000', 'hist-16-p048-loin.nii.gz-0.500000', 'hist-17-p048-loin.nii.gz-0.500000', 'hist-18-p048-loin.nii.gz-0.500000', 'hist-19-p048-loin.nii.gz-0.500000', 'num-0.500000-mean_mask', 'sum-0.500000-mean_mask', 'mean-0.500000-mean_mask', 'std-0.500000-mean_mask', 'skew-0.500000-mean_mask', 'kurt-0.500000-mean_mask', 'hist-0-0.500000-mean_mask', 'hist-1-0.500000-mean_mask', 'hist-2-0.500000-mean_mask', 'hist-3-0.500000-mean_mask', 'hist-4-0.500000-mean_mask', 'hist-5-0.500000-mean_mask', 'hist-6-0.500000-mean_mask', 'hist-7-0.500000-mean_mask', 'hist-8-0.500000-mean_mask', 'hist-9-0.500000-mean_mask', 'hist-10-0.500000-mean_mask', 'hist-11-0.500000-mean_mask', 'hist-12-0.500000-mean_mask', 'hist-13-0.500000-mean_mask', 'hist-14-0.500000-mean_mask', 'hist-15-0.500000-mean_mask', 'hist-16-0.500000-mean_mask', 'hist-17-0.500000-mean_mask', 'hist-18-0.500000-mean_mask', 'hist-19-0.500000-mean_mask'] \n",
      "Score: -0.8659514815951875\n"
     ]
    },
    {
     "name": "stderr",
     "output_type": "stream",
     "text": [
      "200it [00:00, 418.28it/s]\n"
     ]
    },
    {
     "name": "stdout",
     "output_type": "stream",
     "text": [
      "1\n",
      "1 0.8760693949355225\n",
      "Objective PLSRegression_Objective:\n"
     ]
    },
    {
     "name": "stderr",
     "output_type": "stream",
     "text": [
      "  7%|██▌                                    | 528/8000 [00:02<00:29, 257.11it/s]\n",
      "56it [00:00, 551.91it/s]"
     ]
    },
    {
     "name": "stdout",
     "output_type": "stream",
     "text": [
      "iterations: 528\n",
      "Number of used features: 157\n",
      "Used features: ['Unnamed: 0', 'num-p004-loin.nii.gz-0.500000', 'sum-p004-loin.nii.gz-0.500000', 'mean-p004-loin.nii.gz-0.500000', 'std-p004-loin.nii.gz-0.500000', 'skew-p004-loin.nii.gz-0.500000', 'kurt-p004-loin.nii.gz-0.500000', 'hist-0-p004-loin.nii.gz-0.500000', 'hist-1-p004-loin.nii.gz-0.500000', 'hist-2-p004-loin.nii.gz-0.500000', 'hist-3-p004-loin.nii.gz-0.500000', 'hist-4-p004-loin.nii.gz-0.500000', 'hist-5-p004-loin.nii.gz-0.500000', 'hist-6-p004-loin.nii.gz-0.500000', 'hist-7-p004-loin.nii.gz-0.500000', 'hist-8-p004-loin.nii.gz-0.500000', 'hist-9-p004-loin.nii.gz-0.500000', 'hist-10-p004-loin.nii.gz-0.500000', 'hist-11-p004-loin.nii.gz-0.500000', 'hist-12-p004-loin.nii.gz-0.500000', 'hist-13-p004-loin.nii.gz-0.500000', 'hist-14-p004-loin.nii.gz-0.500000', 'hist-15-p004-loin.nii.gz-0.500000', 'hist-16-p004-loin.nii.gz-0.500000', 'hist-17-p004-loin.nii.gz-0.500000', 'hist-18-p004-loin.nii.gz-0.500000', 'hist-19-p004-loin.nii.gz-0.500000', 'num-p029-loin.nii.gz-0.500000', 'sum-p029-loin.nii.gz-0.500000', 'mean-p029-loin.nii.gz-0.500000', 'std-p029-loin.nii.gz-0.500000', 'skew-p029-loin.nii.gz-0.500000', 'kurt-p029-loin.nii.gz-0.500000', 'hist-0-p029-loin.nii.gz-0.500000', 'hist-1-p029-loin.nii.gz-0.500000', 'hist-2-p029-loin.nii.gz-0.500000', 'hist-3-p029-loin.nii.gz-0.500000', 'hist-4-p029-loin.nii.gz-0.500000', 'hist-5-p029-loin.nii.gz-0.500000', 'hist-6-p029-loin.nii.gz-0.500000', 'hist-7-p029-loin.nii.gz-0.500000', 'hist-8-p029-loin.nii.gz-0.500000', 'hist-9-p029-loin.nii.gz-0.500000', 'hist-10-p029-loin.nii.gz-0.500000', 'hist-11-p029-loin.nii.gz-0.500000', 'hist-12-p029-loin.nii.gz-0.500000', 'hist-13-p029-loin.nii.gz-0.500000', 'hist-14-p029-loin.nii.gz-0.500000', 'hist-15-p029-loin.nii.gz-0.500000', 'hist-16-p029-loin.nii.gz-0.500000', 'hist-17-p029-loin.nii.gz-0.500000', 'hist-18-p029-loin.nii.gz-0.500000', 'hist-19-p029-loin.nii.gz-0.500000', 'num-p032-loin.nii.gz-0.500000', 'sum-p032-loin.nii.gz-0.500000', 'mean-p032-loin.nii.gz-0.500000', 'std-p032-loin.nii.gz-0.500000', 'skew-p032-loin.nii.gz-0.500000', 'kurt-p032-loin.nii.gz-0.500000', 'hist-0-p032-loin.nii.gz-0.500000', 'hist-1-p032-loin.nii.gz-0.500000', 'hist-2-p032-loin.nii.gz-0.500000', 'hist-3-p032-loin.nii.gz-0.500000', 'hist-4-p032-loin.nii.gz-0.500000', 'hist-5-p032-loin.nii.gz-0.500000', 'hist-6-p032-loin.nii.gz-0.500000', 'hist-7-p032-loin.nii.gz-0.500000', 'hist-8-p032-loin.nii.gz-0.500000', 'hist-9-p032-loin.nii.gz-0.500000', 'hist-10-p032-loin.nii.gz-0.500000', 'hist-11-p032-loin.nii.gz-0.500000', 'hist-12-p032-loin.nii.gz-0.500000', 'hist-13-p032-loin.nii.gz-0.500000', 'hist-14-p032-loin.nii.gz-0.500000', 'hist-15-p032-loin.nii.gz-0.500000', 'hist-16-p032-loin.nii.gz-0.500000', 'hist-17-p032-loin.nii.gz-0.500000', 'hist-18-p032-loin.nii.gz-0.500000', 'hist-19-p032-loin.nii.gz-0.500000', 'num-p041-loin.nii.gz-0.500000', 'sum-p041-loin.nii.gz-0.500000', 'mean-p041-loin.nii.gz-0.500000', 'std-p041-loin.nii.gz-0.500000', 'skew-p041-loin.nii.gz-0.500000', 'kurt-p041-loin.nii.gz-0.500000', 'hist-0-p041-loin.nii.gz-0.500000', 'hist-1-p041-loin.nii.gz-0.500000', 'hist-2-p041-loin.nii.gz-0.500000', 'hist-3-p041-loin.nii.gz-0.500000', 'hist-4-p041-loin.nii.gz-0.500000', 'hist-5-p041-loin.nii.gz-0.500000', 'hist-6-p041-loin.nii.gz-0.500000', 'hist-7-p041-loin.nii.gz-0.500000', 'hist-8-p041-loin.nii.gz-0.500000', 'hist-9-p041-loin.nii.gz-0.500000', 'hist-10-p041-loin.nii.gz-0.500000', 'hist-11-p041-loin.nii.gz-0.500000', 'hist-12-p041-loin.nii.gz-0.500000', 'hist-13-p041-loin.nii.gz-0.500000', 'hist-14-p041-loin.nii.gz-0.500000', 'hist-15-p041-loin.nii.gz-0.500000', 'hist-16-p041-loin.nii.gz-0.500000', 'hist-17-p041-loin.nii.gz-0.500000', 'hist-18-p041-loin.nii.gz-0.500000', 'hist-19-p041-loin.nii.gz-0.500000', 'num-p048-loin.nii.gz-0.500000', 'sum-p048-loin.nii.gz-0.500000', 'mean-p048-loin.nii.gz-0.500000', 'std-p048-loin.nii.gz-0.500000', 'skew-p048-loin.nii.gz-0.500000', 'kurt-p048-loin.nii.gz-0.500000', 'hist-0-p048-loin.nii.gz-0.500000', 'hist-1-p048-loin.nii.gz-0.500000', 'hist-2-p048-loin.nii.gz-0.500000', 'hist-3-p048-loin.nii.gz-0.500000', 'hist-4-p048-loin.nii.gz-0.500000', 'hist-5-p048-loin.nii.gz-0.500000', 'hist-6-p048-loin.nii.gz-0.500000', 'hist-7-p048-loin.nii.gz-0.500000', 'hist-8-p048-loin.nii.gz-0.500000', 'hist-9-p048-loin.nii.gz-0.500000', 'hist-10-p048-loin.nii.gz-0.500000', 'hist-11-p048-loin.nii.gz-0.500000', 'hist-12-p048-loin.nii.gz-0.500000', 'hist-13-p048-loin.nii.gz-0.500000', 'hist-14-p048-loin.nii.gz-0.500000', 'hist-15-p048-loin.nii.gz-0.500000', 'hist-16-p048-loin.nii.gz-0.500000', 'hist-17-p048-loin.nii.gz-0.500000', 'hist-18-p048-loin.nii.gz-0.500000', 'hist-19-p048-loin.nii.gz-0.500000', 'num-0.500000-mean_mask', 'sum-0.500000-mean_mask', 'mean-0.500000-mean_mask', 'std-0.500000-mean_mask', 'skew-0.500000-mean_mask', 'kurt-0.500000-mean_mask', 'hist-0-0.500000-mean_mask', 'hist-1-0.500000-mean_mask', 'hist-2-0.500000-mean_mask', 'hist-3-0.500000-mean_mask', 'hist-4-0.500000-mean_mask', 'hist-5-0.500000-mean_mask', 'hist-6-0.500000-mean_mask', 'hist-7-0.500000-mean_mask', 'hist-8-0.500000-mean_mask', 'hist-9-0.500000-mean_mask', 'hist-10-0.500000-mean_mask', 'hist-11-0.500000-mean_mask', 'hist-12-0.500000-mean_mask', 'hist-13-0.500000-mean_mask', 'hist-14-0.500000-mean_mask', 'hist-15-0.500000-mean_mask', 'hist-16-0.500000-mean_mask', 'hist-17-0.500000-mean_mask', 'hist-18-0.500000-mean_mask', 'hist-19-0.500000-mean_mask'] \n",
      "Score: -0.8807974422546603\n"
     ]
    },
    {
     "name": "stderr",
     "output_type": "stream",
     "text": [
      "200it [00:00, 545.68it/s]"
     ]
    },
    {
     "name": "stdout",
     "output_type": "stream",
     "text": [
      "1\n",
      "1 0.8912495563266198\n"
     ]
    },
    {
     "name": "stderr",
     "output_type": "stream",
     "text": [
      "\n"
     ]
    }
   ],
   "source": [
    "results_no_fs.append(model_selection(loin_features, loin_target, dataset='loin', type='all', disable_feature_selection=True))"
   ]
  },
  {
   "cell_type": "markdown",
   "metadata": {},
   "source": [
    "### loin mean mask"
   ]
  },
  {
   "cell_type": "code",
   "execution_count": 32,
   "metadata": {},
   "outputs": [
    {
     "name": "stderr",
     "output_type": "stream",
     "text": [
      "\r",
      "  0%|                                                  | 0/8000 [00:00<?, ?it/s]"
     ]
    },
    {
     "name": "stdout",
     "output_type": "stream",
     "text": [
      "Objective KNNR_Objective:\n"
     ]
    },
    {
     "name": "stderr",
     "output_type": "stream",
     "text": [
      "  6%|██▌                                     | 511/8000 [00:13<03:22, 37.03it/s]\n",
      "79it [00:00, 781.36it/s]"
     ]
    },
    {
     "name": "stdout",
     "output_type": "stream",
     "text": [
      "iterations: 511\n",
      "Number of used features: 26\n",
      "Used features: ['num-0.500000-mean_mask', 'sum-0.500000-mean_mask', 'mean-0.500000-mean_mask', 'std-0.500000-mean_mask', 'skew-0.500000-mean_mask', 'kurt-0.500000-mean_mask', 'hist-0-0.500000-mean_mask', 'hist-1-0.500000-mean_mask', 'hist-2-0.500000-mean_mask', 'hist-3-0.500000-mean_mask', 'hist-4-0.500000-mean_mask', 'hist-5-0.500000-mean_mask', 'hist-6-0.500000-mean_mask', 'hist-7-0.500000-mean_mask', 'hist-8-0.500000-mean_mask', 'hist-9-0.500000-mean_mask', 'hist-10-0.500000-mean_mask', 'hist-11-0.500000-mean_mask', 'hist-12-0.500000-mean_mask', 'hist-13-0.500000-mean_mask', 'hist-14-0.500000-mean_mask', 'hist-15-0.500000-mean_mask', 'hist-16-0.500000-mean_mask', 'hist-17-0.500000-mean_mask', 'hist-18-0.500000-mean_mask', 'hist-19-0.500000-mean_mask'] \n",
      "Score: -0.7102160602999603\n"
     ]
    },
    {
     "name": "stderr",
     "output_type": "stream",
     "text": [
      "200it [00:00, 781.93it/s]\n",
      "  0%|                                                  | 0/8000 [00:00<?, ?it/s]"
     ]
    },
    {
     "name": "stdout",
     "output_type": "stream",
     "text": [
      "1\n",
      "1 0.7263019082362132\n",
      "Objective LinearRegression_Objective:\n"
     ]
    },
    {
     "name": "stderr",
     "output_type": "stream",
     "text": [
      "  6%|██▎                                   | 499/8000 [00:00<00:02, 3598.91it/s]\n",
      "87it [00:00, 866.56it/s]"
     ]
    },
    {
     "name": "stdout",
     "output_type": "stream",
     "text": [
      "iterations: 499\n",
      "Number of used features: 26\n",
      "Used features: ['num-0.500000-mean_mask', 'sum-0.500000-mean_mask', 'mean-0.500000-mean_mask', 'std-0.500000-mean_mask', 'skew-0.500000-mean_mask', 'kurt-0.500000-mean_mask', 'hist-0-0.500000-mean_mask', 'hist-1-0.500000-mean_mask', 'hist-2-0.500000-mean_mask', 'hist-3-0.500000-mean_mask', 'hist-4-0.500000-mean_mask', 'hist-5-0.500000-mean_mask', 'hist-6-0.500000-mean_mask', 'hist-7-0.500000-mean_mask', 'hist-8-0.500000-mean_mask', 'hist-9-0.500000-mean_mask', 'hist-10-0.500000-mean_mask', 'hist-11-0.500000-mean_mask', 'hist-12-0.500000-mean_mask', 'hist-13-0.500000-mean_mask', 'hist-14-0.500000-mean_mask', 'hist-15-0.500000-mean_mask', 'hist-16-0.500000-mean_mask', 'hist-17-0.500000-mean_mask', 'hist-18-0.500000-mean_mask', 'hist-19-0.500000-mean_mask'] \n",
      "Score: -0.4744645382021806\n"
     ]
    },
    {
     "name": "stderr",
     "output_type": "stream",
     "text": [
      "200it [00:00, 869.58it/s]\n",
      "  0%|                                                  | 0/8000 [00:00<?, ?it/s]"
     ]
    },
    {
     "name": "stdout",
     "output_type": "stream",
     "text": [
      "1\n",
      "1 0.693820857822689\n",
      "Objective LassoRegression_Objective:\n"
     ]
    },
    {
     "name": "stderr",
     "output_type": "stream",
     "text": [
      "  6%|██▍                                    | 499/8000 [00:02<00:33, 222.33it/s]\n",
      "60it [00:00, 590.97it/s]"
     ]
    },
    {
     "name": "stdout",
     "output_type": "stream",
     "text": [
      "iterations: 499\n",
      "Number of used features: 26\n",
      "Used features: ['num-0.500000-mean_mask', 'sum-0.500000-mean_mask', 'mean-0.500000-mean_mask', 'std-0.500000-mean_mask', 'skew-0.500000-mean_mask', 'kurt-0.500000-mean_mask', 'hist-0-0.500000-mean_mask', 'hist-1-0.500000-mean_mask', 'hist-2-0.500000-mean_mask', 'hist-3-0.500000-mean_mask', 'hist-4-0.500000-mean_mask', 'hist-5-0.500000-mean_mask', 'hist-6-0.500000-mean_mask', 'hist-7-0.500000-mean_mask', 'hist-8-0.500000-mean_mask', 'hist-9-0.500000-mean_mask', 'hist-10-0.500000-mean_mask', 'hist-11-0.500000-mean_mask', 'hist-12-0.500000-mean_mask', 'hist-13-0.500000-mean_mask', 'hist-14-0.500000-mean_mask', 'hist-15-0.500000-mean_mask', 'hist-16-0.500000-mean_mask', 'hist-17-0.500000-mean_mask', 'hist-18-0.500000-mean_mask', 'hist-19-0.500000-mean_mask'] \n",
      "Score: -0.8974877928307096\n"
     ]
    },
    {
     "name": "stderr",
     "output_type": "stream",
     "text": [
      "200it [00:00, 587.63it/s]\n",
      "  0%|                                                  | 0/8000 [00:00<?, ?it/s]"
     ]
    },
    {
     "name": "stdout",
     "output_type": "stream",
     "text": [
      "1\n",
      "1 0.9067250708364983\n",
      "Objective RidgeRegression_Objective:\n"
     ]
    },
    {
     "name": "stderr",
     "output_type": "stream",
     "text": [
      "  6%|██▍                                    | 500/8000 [00:01<00:27, 270.93it/s]\n",
      "51it [00:00, 503.57it/s]"
     ]
    },
    {
     "name": "stdout",
     "output_type": "stream",
     "text": [
      "iterations: 500\n",
      "Number of used features: 26\n",
      "Used features: ['num-0.500000-mean_mask', 'sum-0.500000-mean_mask', 'mean-0.500000-mean_mask', 'std-0.500000-mean_mask', 'skew-0.500000-mean_mask', 'kurt-0.500000-mean_mask', 'hist-0-0.500000-mean_mask', 'hist-1-0.500000-mean_mask', 'hist-2-0.500000-mean_mask', 'hist-3-0.500000-mean_mask', 'hist-4-0.500000-mean_mask', 'hist-5-0.500000-mean_mask', 'hist-6-0.500000-mean_mask', 'hist-7-0.500000-mean_mask', 'hist-8-0.500000-mean_mask', 'hist-9-0.500000-mean_mask', 'hist-10-0.500000-mean_mask', 'hist-11-0.500000-mean_mask', 'hist-12-0.500000-mean_mask', 'hist-13-0.500000-mean_mask', 'hist-14-0.500000-mean_mask', 'hist-15-0.500000-mean_mask', 'hist-16-0.500000-mean_mask', 'hist-17-0.500000-mean_mask', 'hist-18-0.500000-mean_mask', 'hist-19-0.500000-mean_mask'] \n",
      "Score: -0.8871061723156798\n"
     ]
    },
    {
     "name": "stderr",
     "output_type": "stream",
     "text": [
      "200it [00:00, 502.29it/s]\n",
      "  0%|                                                  | 0/8000 [00:00<?, ?it/s]"
     ]
    },
    {
     "name": "stdout",
     "output_type": "stream",
     "text": [
      "1\n",
      "1 0.8951313739666346\n",
      "Objective PLSRegression_Objective:\n"
     ]
    },
    {
     "name": "stderr",
     "output_type": "stream",
     "text": [
      "  6%|██▎                                   | 499/8000 [00:00<00:06, 1088.84it/s]\n",
      "63it [00:00, 624.51it/s]"
     ]
    },
    {
     "name": "stdout",
     "output_type": "stream",
     "text": [
      "iterations: 499\n",
      "Number of used features: 26\n",
      "Used features: ['num-0.500000-mean_mask', 'sum-0.500000-mean_mask', 'mean-0.500000-mean_mask', 'std-0.500000-mean_mask', 'skew-0.500000-mean_mask', 'kurt-0.500000-mean_mask', 'hist-0-0.500000-mean_mask', 'hist-1-0.500000-mean_mask', 'hist-2-0.500000-mean_mask', 'hist-3-0.500000-mean_mask', 'hist-4-0.500000-mean_mask', 'hist-5-0.500000-mean_mask', 'hist-6-0.500000-mean_mask', 'hist-7-0.500000-mean_mask', 'hist-8-0.500000-mean_mask', 'hist-9-0.500000-mean_mask', 'hist-10-0.500000-mean_mask', 'hist-11-0.500000-mean_mask', 'hist-12-0.500000-mean_mask', 'hist-13-0.500000-mean_mask', 'hist-14-0.500000-mean_mask', 'hist-15-0.500000-mean_mask', 'hist-16-0.500000-mean_mask', 'hist-17-0.500000-mean_mask', 'hist-18-0.500000-mean_mask', 'hist-19-0.500000-mean_mask'] \n",
      "Score: -0.8863994421217554\n"
     ]
    },
    {
     "name": "stderr",
     "output_type": "stream",
     "text": [
      "200it [00:00, 621.94it/s]"
     ]
    },
    {
     "name": "stdout",
     "output_type": "stream",
     "text": [
      "1\n",
      "1 0.8934025830429194\n"
     ]
    },
    {
     "name": "stderr",
     "output_type": "stream",
     "text": [
      "\n"
     ]
    }
   ],
   "source": [
    "results_no_fs.append(model_selection(loin_features[[c for c in loin_features.columns if 'mean_mask' in c or c == 'type']], loin_target, dataset='loin', type='mean_mask', disable_feature_selection=True))"
   ]
  },
  {
   "cell_type": "markdown",
   "metadata": {},
   "source": [
    "### loin individual masks"
   ]
  },
  {
   "cell_type": "code",
   "execution_count": 33,
   "metadata": {},
   "outputs": [
    {
     "name": "stderr",
     "output_type": "stream",
     "text": [
      "\r",
      "  0%|                                                  | 0/8000 [00:00<?, ?it/s]"
     ]
    },
    {
     "name": "stdout",
     "output_type": "stream",
     "text": [
      "Objective KNNR_Objective:\n"
     ]
    },
    {
     "name": "stderr",
     "output_type": "stream",
     "text": [
      "  7%|██▋                                     | 534/8000 [00:14<03:17, 37.77it/s]\n",
      "78it [00:00, 771.80it/s]"
     ]
    },
    {
     "name": "stdout",
     "output_type": "stream",
     "text": [
      "iterations: 534\n",
      "Number of used features: 26\n",
      "Used features: ['num-p004-loin.nii.gz-0.500000', 'sum-p004-loin.nii.gz-0.500000', 'mean-p004-loin.nii.gz-0.500000', 'std-p004-loin.nii.gz-0.500000', 'skew-p004-loin.nii.gz-0.500000', 'kurt-p004-loin.nii.gz-0.500000', 'hist-0-p004-loin.nii.gz-0.500000', 'hist-1-p004-loin.nii.gz-0.500000', 'hist-2-p004-loin.nii.gz-0.500000', 'hist-3-p004-loin.nii.gz-0.500000', 'hist-4-p004-loin.nii.gz-0.500000', 'hist-5-p004-loin.nii.gz-0.500000', 'hist-6-p004-loin.nii.gz-0.500000', 'hist-7-p004-loin.nii.gz-0.500000', 'hist-8-p004-loin.nii.gz-0.500000', 'hist-9-p004-loin.nii.gz-0.500000', 'hist-10-p004-loin.nii.gz-0.500000', 'hist-11-p004-loin.nii.gz-0.500000', 'hist-12-p004-loin.nii.gz-0.500000', 'hist-13-p004-loin.nii.gz-0.500000', 'hist-14-p004-loin.nii.gz-0.500000', 'hist-15-p004-loin.nii.gz-0.500000', 'hist-16-p004-loin.nii.gz-0.500000', 'hist-17-p004-loin.nii.gz-0.500000', 'hist-18-p004-loin.nii.gz-0.500000', 'hist-19-p004-loin.nii.gz-0.500000'] \n",
      "Score: -0.6857139752338024\n"
     ]
    },
    {
     "name": "stderr",
     "output_type": "stream",
     "text": [
      "200it [00:00, 771.46it/s]\n",
      "  0%|                                                  | 0/8000 [00:00<?, ?it/s]"
     ]
    },
    {
     "name": "stdout",
     "output_type": "stream",
     "text": [
      "1\n",
      "1 0.693982887972576\n",
      "Objective LinearRegression_Objective:\n"
     ]
    },
    {
     "name": "stderr",
     "output_type": "stream",
     "text": [
      "  6%|██▎                                   | 499/8000 [00:00<00:02, 3475.53it/s]\n",
      "87it [00:00, 862.42it/s]"
     ]
    },
    {
     "name": "stdout",
     "output_type": "stream",
     "text": [
      "iterations: 499\n",
      "Number of used features: 26\n",
      "Used features: ['num-p004-loin.nii.gz-0.500000', 'sum-p004-loin.nii.gz-0.500000', 'mean-p004-loin.nii.gz-0.500000', 'std-p004-loin.nii.gz-0.500000', 'skew-p004-loin.nii.gz-0.500000', 'kurt-p004-loin.nii.gz-0.500000', 'hist-0-p004-loin.nii.gz-0.500000', 'hist-1-p004-loin.nii.gz-0.500000', 'hist-2-p004-loin.nii.gz-0.500000', 'hist-3-p004-loin.nii.gz-0.500000', 'hist-4-p004-loin.nii.gz-0.500000', 'hist-5-p004-loin.nii.gz-0.500000', 'hist-6-p004-loin.nii.gz-0.500000', 'hist-7-p004-loin.nii.gz-0.500000', 'hist-8-p004-loin.nii.gz-0.500000', 'hist-9-p004-loin.nii.gz-0.500000', 'hist-10-p004-loin.nii.gz-0.500000', 'hist-11-p004-loin.nii.gz-0.500000', 'hist-12-p004-loin.nii.gz-0.500000', 'hist-13-p004-loin.nii.gz-0.500000', 'hist-14-p004-loin.nii.gz-0.500000', 'hist-15-p004-loin.nii.gz-0.500000', 'hist-16-p004-loin.nii.gz-0.500000', 'hist-17-p004-loin.nii.gz-0.500000', 'hist-18-p004-loin.nii.gz-0.500000', 'hist-19-p004-loin.nii.gz-0.500000'] \n",
      "Score: -0.5715637122436308\n"
     ]
    },
    {
     "name": "stderr",
     "output_type": "stream",
     "text": [
      "200it [00:00, 863.69it/s]\n",
      "  0%|                                                  | 0/8000 [00:00<?, ?it/s]"
     ]
    },
    {
     "name": "stdout",
     "output_type": "stream",
     "text": [
      "1\n",
      "1 0.6651445725364089\n",
      "Objective LassoRegression_Objective:\n"
     ]
    },
    {
     "name": "stderr",
     "output_type": "stream",
     "text": [
      "  6%|██▍                                    | 499/8000 [00:02<00:34, 220.36it/s]\n",
      "59it [00:00, 582.26it/s]"
     ]
    },
    {
     "name": "stdout",
     "output_type": "stream",
     "text": [
      "iterations: 499\n",
      "Number of used features: 26\n",
      "Used features: ['num-p004-loin.nii.gz-0.500000', 'sum-p004-loin.nii.gz-0.500000', 'mean-p004-loin.nii.gz-0.500000', 'std-p004-loin.nii.gz-0.500000', 'skew-p004-loin.nii.gz-0.500000', 'kurt-p004-loin.nii.gz-0.500000', 'hist-0-p004-loin.nii.gz-0.500000', 'hist-1-p004-loin.nii.gz-0.500000', 'hist-2-p004-loin.nii.gz-0.500000', 'hist-3-p004-loin.nii.gz-0.500000', 'hist-4-p004-loin.nii.gz-0.500000', 'hist-5-p004-loin.nii.gz-0.500000', 'hist-6-p004-loin.nii.gz-0.500000', 'hist-7-p004-loin.nii.gz-0.500000', 'hist-8-p004-loin.nii.gz-0.500000', 'hist-9-p004-loin.nii.gz-0.500000', 'hist-10-p004-loin.nii.gz-0.500000', 'hist-11-p004-loin.nii.gz-0.500000', 'hist-12-p004-loin.nii.gz-0.500000', 'hist-13-p004-loin.nii.gz-0.500000', 'hist-14-p004-loin.nii.gz-0.500000', 'hist-15-p004-loin.nii.gz-0.500000', 'hist-16-p004-loin.nii.gz-0.500000', 'hist-17-p004-loin.nii.gz-0.500000', 'hist-18-p004-loin.nii.gz-0.500000', 'hist-19-p004-loin.nii.gz-0.500000'] \n",
      "Score: -0.8806864163389663\n"
     ]
    },
    {
     "name": "stderr",
     "output_type": "stream",
     "text": [
      "200it [00:00, 578.06it/s]\n",
      "  0%|                                                  | 0/8000 [00:00<?, ?it/s]"
     ]
    },
    {
     "name": "stdout",
     "output_type": "stream",
     "text": [
      "1\n",
      "1 0.8991937118345096\n",
      "Objective RidgeRegression_Objective:\n"
     ]
    },
    {
     "name": "stderr",
     "output_type": "stream",
     "text": [
      "  6%|██▍                                    | 500/8000 [00:01<00:27, 269.57it/s]\n",
      "50it [00:00, 495.79it/s]"
     ]
    },
    {
     "name": "stdout",
     "output_type": "stream",
     "text": [
      "iterations: 500\n",
      "Number of used features: 26\n",
      "Used features: ['num-p004-loin.nii.gz-0.500000', 'sum-p004-loin.nii.gz-0.500000', 'mean-p004-loin.nii.gz-0.500000', 'std-p004-loin.nii.gz-0.500000', 'skew-p004-loin.nii.gz-0.500000', 'kurt-p004-loin.nii.gz-0.500000', 'hist-0-p004-loin.nii.gz-0.500000', 'hist-1-p004-loin.nii.gz-0.500000', 'hist-2-p004-loin.nii.gz-0.500000', 'hist-3-p004-loin.nii.gz-0.500000', 'hist-4-p004-loin.nii.gz-0.500000', 'hist-5-p004-loin.nii.gz-0.500000', 'hist-6-p004-loin.nii.gz-0.500000', 'hist-7-p004-loin.nii.gz-0.500000', 'hist-8-p004-loin.nii.gz-0.500000', 'hist-9-p004-loin.nii.gz-0.500000', 'hist-10-p004-loin.nii.gz-0.500000', 'hist-11-p004-loin.nii.gz-0.500000', 'hist-12-p004-loin.nii.gz-0.500000', 'hist-13-p004-loin.nii.gz-0.500000', 'hist-14-p004-loin.nii.gz-0.500000', 'hist-15-p004-loin.nii.gz-0.500000', 'hist-16-p004-loin.nii.gz-0.500000', 'hist-17-p004-loin.nii.gz-0.500000', 'hist-18-p004-loin.nii.gz-0.500000', 'hist-19-p004-loin.nii.gz-0.500000'] \n",
      "Score: -0.8794202568107359\n"
     ]
    },
    {
     "name": "stderr",
     "output_type": "stream",
     "text": [
      "200it [00:00, 494.54it/s]\n",
      "  0%|                                                  | 0/8000 [00:00<?, ?it/s]"
     ]
    },
    {
     "name": "stdout",
     "output_type": "stream",
     "text": [
      "1\n",
      "1 0.8931144456086081\n",
      "Objective PLSRegression_Objective:\n"
     ]
    },
    {
     "name": "stderr",
     "output_type": "stream",
     "text": [
      "  6%|██▎                                   | 499/8000 [00:00<00:06, 1078.37it/s]\n",
      "64it [00:00, 631.80it/s]"
     ]
    },
    {
     "name": "stdout",
     "output_type": "stream",
     "text": [
      "iterations: 499\n",
      "Number of used features: 26\n",
      "Used features: ['num-p004-loin.nii.gz-0.500000', 'sum-p004-loin.nii.gz-0.500000', 'mean-p004-loin.nii.gz-0.500000', 'std-p004-loin.nii.gz-0.500000', 'skew-p004-loin.nii.gz-0.500000', 'kurt-p004-loin.nii.gz-0.500000', 'hist-0-p004-loin.nii.gz-0.500000', 'hist-1-p004-loin.nii.gz-0.500000', 'hist-2-p004-loin.nii.gz-0.500000', 'hist-3-p004-loin.nii.gz-0.500000', 'hist-4-p004-loin.nii.gz-0.500000', 'hist-5-p004-loin.nii.gz-0.500000', 'hist-6-p004-loin.nii.gz-0.500000', 'hist-7-p004-loin.nii.gz-0.500000', 'hist-8-p004-loin.nii.gz-0.500000', 'hist-9-p004-loin.nii.gz-0.500000', 'hist-10-p004-loin.nii.gz-0.500000', 'hist-11-p004-loin.nii.gz-0.500000', 'hist-12-p004-loin.nii.gz-0.500000', 'hist-13-p004-loin.nii.gz-0.500000', 'hist-14-p004-loin.nii.gz-0.500000', 'hist-15-p004-loin.nii.gz-0.500000', 'hist-16-p004-loin.nii.gz-0.500000', 'hist-17-p004-loin.nii.gz-0.500000', 'hist-18-p004-loin.nii.gz-0.500000', 'hist-19-p004-loin.nii.gz-0.500000'] \n",
      "Score: -0.8764343732449974\n"
     ]
    },
    {
     "name": "stderr",
     "output_type": "stream",
     "text": [
      "200it [00:00, 628.77it/s]\n",
      "  0%|                                                  | 0/8000 [00:00<?, ?it/s]"
     ]
    },
    {
     "name": "stdout",
     "output_type": "stream",
     "text": [
      "1\n",
      "1 0.8895705454225303\n",
      "Objective KNNR_Objective:\n"
     ]
    },
    {
     "name": "stderr",
     "output_type": "stream",
     "text": [
      "  9%|███▌                                    | 720/8000 [00:16<02:45, 44.07it/s]\n",
      "78it [00:00, 772.45it/s]"
     ]
    },
    {
     "name": "stdout",
     "output_type": "stream",
     "text": [
      "iterations: 720\n",
      "Number of used features: 26\n",
      "Used features: ['num-p029-loin.nii.gz-0.500000', 'sum-p029-loin.nii.gz-0.500000', 'mean-p029-loin.nii.gz-0.500000', 'std-p029-loin.nii.gz-0.500000', 'skew-p029-loin.nii.gz-0.500000', 'kurt-p029-loin.nii.gz-0.500000', 'hist-0-p029-loin.nii.gz-0.500000', 'hist-1-p029-loin.nii.gz-0.500000', 'hist-2-p029-loin.nii.gz-0.500000', 'hist-3-p029-loin.nii.gz-0.500000', 'hist-4-p029-loin.nii.gz-0.500000', 'hist-5-p029-loin.nii.gz-0.500000', 'hist-6-p029-loin.nii.gz-0.500000', 'hist-7-p029-loin.nii.gz-0.500000', 'hist-8-p029-loin.nii.gz-0.500000', 'hist-9-p029-loin.nii.gz-0.500000', 'hist-10-p029-loin.nii.gz-0.500000', 'hist-11-p029-loin.nii.gz-0.500000', 'hist-12-p029-loin.nii.gz-0.500000', 'hist-13-p029-loin.nii.gz-0.500000', 'hist-14-p029-loin.nii.gz-0.500000', 'hist-15-p029-loin.nii.gz-0.500000', 'hist-16-p029-loin.nii.gz-0.500000', 'hist-17-p029-loin.nii.gz-0.500000', 'hist-18-p029-loin.nii.gz-0.500000', 'hist-19-p029-loin.nii.gz-0.500000'] \n",
      "Score: -0.6981969615212436\n"
     ]
    },
    {
     "name": "stderr",
     "output_type": "stream",
     "text": [
      "200it [00:00, 771.39it/s]\n",
      "  0%|                                                  | 0/8000 [00:00<?, ?it/s]"
     ]
    },
    {
     "name": "stdout",
     "output_type": "stream",
     "text": [
      "1\n",
      "1 0.7014911241026238\n",
      "Objective LinearRegression_Objective:\n"
     ]
    },
    {
     "name": "stderr",
     "output_type": "stream",
     "text": [
      "  6%|██▎                                   | 499/8000 [00:00<00:02, 3478.18it/s]\n",
      "88it [00:00, 879.94it/s]"
     ]
    },
    {
     "name": "stdout",
     "output_type": "stream",
     "text": [
      "iterations: 499\n",
      "Number of used features: 26\n",
      "Used features: ['num-p029-loin.nii.gz-0.500000', 'sum-p029-loin.nii.gz-0.500000', 'mean-p029-loin.nii.gz-0.500000', 'std-p029-loin.nii.gz-0.500000', 'skew-p029-loin.nii.gz-0.500000', 'kurt-p029-loin.nii.gz-0.500000', 'hist-0-p029-loin.nii.gz-0.500000', 'hist-1-p029-loin.nii.gz-0.500000', 'hist-2-p029-loin.nii.gz-0.500000', 'hist-3-p029-loin.nii.gz-0.500000', 'hist-4-p029-loin.nii.gz-0.500000', 'hist-5-p029-loin.nii.gz-0.500000', 'hist-6-p029-loin.nii.gz-0.500000', 'hist-7-p029-loin.nii.gz-0.500000', 'hist-8-p029-loin.nii.gz-0.500000', 'hist-9-p029-loin.nii.gz-0.500000', 'hist-10-p029-loin.nii.gz-0.500000', 'hist-11-p029-loin.nii.gz-0.500000', 'hist-12-p029-loin.nii.gz-0.500000', 'hist-13-p029-loin.nii.gz-0.500000', 'hist-14-p029-loin.nii.gz-0.500000', 'hist-15-p029-loin.nii.gz-0.500000', 'hist-16-p029-loin.nii.gz-0.500000', 'hist-17-p029-loin.nii.gz-0.500000', 'hist-18-p029-loin.nii.gz-0.500000', 'hist-19-p029-loin.nii.gz-0.500000'] \n",
      "Score: -0.5712939730430691\n"
     ]
    },
    {
     "name": "stderr",
     "output_type": "stream",
     "text": [
      "200it [00:00, 876.90it/s]\n",
      "  0%|                                                  | 0/8000 [00:00<?, ?it/s]"
     ]
    },
    {
     "name": "stdout",
     "output_type": "stream",
     "text": [
      "1\n",
      "1 0.7472232231274787\n",
      "Objective LassoRegression_Objective:\n"
     ]
    },
    {
     "name": "stderr",
     "output_type": "stream",
     "text": [
      "  6%|██▍                                    | 499/8000 [00:02<00:33, 222.47it/s]\n",
      "61it [00:00, 607.88it/s]"
     ]
    },
    {
     "name": "stdout",
     "output_type": "stream",
     "text": [
      "iterations: 499\n",
      "Number of used features: 26\n",
      "Used features: ['num-p029-loin.nii.gz-0.500000', 'sum-p029-loin.nii.gz-0.500000', 'mean-p029-loin.nii.gz-0.500000', 'std-p029-loin.nii.gz-0.500000', 'skew-p029-loin.nii.gz-0.500000', 'kurt-p029-loin.nii.gz-0.500000', 'hist-0-p029-loin.nii.gz-0.500000', 'hist-1-p029-loin.nii.gz-0.500000', 'hist-2-p029-loin.nii.gz-0.500000', 'hist-3-p029-loin.nii.gz-0.500000', 'hist-4-p029-loin.nii.gz-0.500000', 'hist-5-p029-loin.nii.gz-0.500000', 'hist-6-p029-loin.nii.gz-0.500000', 'hist-7-p029-loin.nii.gz-0.500000', 'hist-8-p029-loin.nii.gz-0.500000', 'hist-9-p029-loin.nii.gz-0.500000', 'hist-10-p029-loin.nii.gz-0.500000', 'hist-11-p029-loin.nii.gz-0.500000', 'hist-12-p029-loin.nii.gz-0.500000', 'hist-13-p029-loin.nii.gz-0.500000', 'hist-14-p029-loin.nii.gz-0.500000', 'hist-15-p029-loin.nii.gz-0.500000', 'hist-16-p029-loin.nii.gz-0.500000', 'hist-17-p029-loin.nii.gz-0.500000', 'hist-18-p029-loin.nii.gz-0.500000', 'hist-19-p029-loin.nii.gz-0.500000'] \n",
      "Score: -0.9118365395411928\n"
     ]
    },
    {
     "name": "stderr",
     "output_type": "stream",
     "text": [
      "200it [00:00, 603.48it/s]\n",
      "  0%|                                                  | 0/8000 [00:00<?, ?it/s]"
     ]
    },
    {
     "name": "stdout",
     "output_type": "stream",
     "text": [
      "1\n",
      "1 0.9186359070106129\n",
      "Objective RidgeRegression_Objective:\n"
     ]
    },
    {
     "name": "stderr",
     "output_type": "stream",
     "text": [
      "  6%|██▍                                    | 500/8000 [00:01<00:27, 272.51it/s]\n",
      "50it [00:00, 497.81it/s]"
     ]
    },
    {
     "name": "stdout",
     "output_type": "stream",
     "text": [
      "iterations: 500\n",
      "Number of used features: 26\n",
      "Used features: ['num-p029-loin.nii.gz-0.500000', 'sum-p029-loin.nii.gz-0.500000', 'mean-p029-loin.nii.gz-0.500000', 'std-p029-loin.nii.gz-0.500000', 'skew-p029-loin.nii.gz-0.500000', 'kurt-p029-loin.nii.gz-0.500000', 'hist-0-p029-loin.nii.gz-0.500000', 'hist-1-p029-loin.nii.gz-0.500000', 'hist-2-p029-loin.nii.gz-0.500000', 'hist-3-p029-loin.nii.gz-0.500000', 'hist-4-p029-loin.nii.gz-0.500000', 'hist-5-p029-loin.nii.gz-0.500000', 'hist-6-p029-loin.nii.gz-0.500000', 'hist-7-p029-loin.nii.gz-0.500000', 'hist-8-p029-loin.nii.gz-0.500000', 'hist-9-p029-loin.nii.gz-0.500000', 'hist-10-p029-loin.nii.gz-0.500000', 'hist-11-p029-loin.nii.gz-0.500000', 'hist-12-p029-loin.nii.gz-0.500000', 'hist-13-p029-loin.nii.gz-0.500000', 'hist-14-p029-loin.nii.gz-0.500000', 'hist-15-p029-loin.nii.gz-0.500000', 'hist-16-p029-loin.nii.gz-0.500000', 'hist-17-p029-loin.nii.gz-0.500000', 'hist-18-p029-loin.nii.gz-0.500000', 'hist-19-p029-loin.nii.gz-0.500000'] \n",
      "Score: -0.9026366399296023\n"
     ]
    },
    {
     "name": "stderr",
     "output_type": "stream",
     "text": [
      "200it [00:00, 495.88it/s]\n",
      "  0%|                                                  | 0/8000 [00:00<?, ?it/s]"
     ]
    },
    {
     "name": "stdout",
     "output_type": "stream",
     "text": [
      "1\n",
      "1 0.9081808326791437\n",
      "Objective PLSRegression_Objective:\n"
     ]
    },
    {
     "name": "stderr",
     "output_type": "stream",
     "text": [
      "  6%|██▎                                   | 499/8000 [00:00<00:07, 1070.70it/s]\n",
      "65it [00:00, 641.14it/s]"
     ]
    },
    {
     "name": "stdout",
     "output_type": "stream",
     "text": [
      "iterations: 499\n",
      "Number of used features: 26\n",
      "Used features: ['num-p029-loin.nii.gz-0.500000', 'sum-p029-loin.nii.gz-0.500000', 'mean-p029-loin.nii.gz-0.500000', 'std-p029-loin.nii.gz-0.500000', 'skew-p029-loin.nii.gz-0.500000', 'kurt-p029-loin.nii.gz-0.500000', 'hist-0-p029-loin.nii.gz-0.500000', 'hist-1-p029-loin.nii.gz-0.500000', 'hist-2-p029-loin.nii.gz-0.500000', 'hist-3-p029-loin.nii.gz-0.500000', 'hist-4-p029-loin.nii.gz-0.500000', 'hist-5-p029-loin.nii.gz-0.500000', 'hist-6-p029-loin.nii.gz-0.500000', 'hist-7-p029-loin.nii.gz-0.500000', 'hist-8-p029-loin.nii.gz-0.500000', 'hist-9-p029-loin.nii.gz-0.500000', 'hist-10-p029-loin.nii.gz-0.500000', 'hist-11-p029-loin.nii.gz-0.500000', 'hist-12-p029-loin.nii.gz-0.500000', 'hist-13-p029-loin.nii.gz-0.500000', 'hist-14-p029-loin.nii.gz-0.500000', 'hist-15-p029-loin.nii.gz-0.500000', 'hist-16-p029-loin.nii.gz-0.500000', 'hist-17-p029-loin.nii.gz-0.500000', 'hist-18-p029-loin.nii.gz-0.500000', 'hist-19-p029-loin.nii.gz-0.500000'] \n",
      "Score: -0.9059833972389418\n"
     ]
    },
    {
     "name": "stderr",
     "output_type": "stream",
     "text": [
      "200it [00:00, 634.20it/s]\n",
      "  0%|                                                  | 0/8000 [00:00<?, ?it/s]"
     ]
    },
    {
     "name": "stdout",
     "output_type": "stream",
     "text": [
      "1\n",
      "1 0.9123625605752392\n",
      "Objective KNNR_Objective:\n"
     ]
    },
    {
     "name": "stderr",
     "output_type": "stream",
     "text": [
      "  7%|██▋                                     | 527/8000 [00:14<03:30, 35.46it/s]\n",
      "75it [00:00, 742.54it/s]"
     ]
    },
    {
     "name": "stdout",
     "output_type": "stream",
     "text": [
      "iterations: 527\n",
      "Number of used features: 26\n",
      "Used features: ['num-p032-loin.nii.gz-0.500000', 'sum-p032-loin.nii.gz-0.500000', 'mean-p032-loin.nii.gz-0.500000', 'std-p032-loin.nii.gz-0.500000', 'skew-p032-loin.nii.gz-0.500000', 'kurt-p032-loin.nii.gz-0.500000', 'hist-0-p032-loin.nii.gz-0.500000', 'hist-1-p032-loin.nii.gz-0.500000', 'hist-2-p032-loin.nii.gz-0.500000', 'hist-3-p032-loin.nii.gz-0.500000', 'hist-4-p032-loin.nii.gz-0.500000', 'hist-5-p032-loin.nii.gz-0.500000', 'hist-6-p032-loin.nii.gz-0.500000', 'hist-7-p032-loin.nii.gz-0.500000', 'hist-8-p032-loin.nii.gz-0.500000', 'hist-9-p032-loin.nii.gz-0.500000', 'hist-10-p032-loin.nii.gz-0.500000', 'hist-11-p032-loin.nii.gz-0.500000', 'hist-12-p032-loin.nii.gz-0.500000', 'hist-13-p032-loin.nii.gz-0.500000', 'hist-14-p032-loin.nii.gz-0.500000', 'hist-15-p032-loin.nii.gz-0.500000', 'hist-16-p032-loin.nii.gz-0.500000', 'hist-17-p032-loin.nii.gz-0.500000', 'hist-18-p032-loin.nii.gz-0.500000', 'hist-19-p032-loin.nii.gz-0.500000'] \n",
      "Score: -0.6751842694472028\n"
     ]
    },
    {
     "name": "stderr",
     "output_type": "stream",
     "text": [
      "200it [00:00, 735.05it/s]\n",
      "  0%|                                                  | 0/8000 [00:00<?, ?it/s]"
     ]
    },
    {
     "name": "stdout",
     "output_type": "stream",
     "text": [
      "1\n",
      "1 0.6862113779305744\n",
      "Objective LinearRegression_Objective:\n"
     ]
    },
    {
     "name": "stderr",
     "output_type": "stream",
     "text": [
      "  6%|██▎                                   | 499/8000 [00:00<00:02, 3527.66it/s]\n",
      "89it [00:00, 884.91it/s]"
     ]
    },
    {
     "name": "stdout",
     "output_type": "stream",
     "text": [
      "iterations: 499\n",
      "Number of used features: 26\n",
      "Used features: ['num-p032-loin.nii.gz-0.500000', 'sum-p032-loin.nii.gz-0.500000', 'mean-p032-loin.nii.gz-0.500000', 'std-p032-loin.nii.gz-0.500000', 'skew-p032-loin.nii.gz-0.500000', 'kurt-p032-loin.nii.gz-0.500000', 'hist-0-p032-loin.nii.gz-0.500000', 'hist-1-p032-loin.nii.gz-0.500000', 'hist-2-p032-loin.nii.gz-0.500000', 'hist-3-p032-loin.nii.gz-0.500000', 'hist-4-p032-loin.nii.gz-0.500000', 'hist-5-p032-loin.nii.gz-0.500000', 'hist-6-p032-loin.nii.gz-0.500000', 'hist-7-p032-loin.nii.gz-0.500000', 'hist-8-p032-loin.nii.gz-0.500000', 'hist-9-p032-loin.nii.gz-0.500000', 'hist-10-p032-loin.nii.gz-0.500000', 'hist-11-p032-loin.nii.gz-0.500000', 'hist-12-p032-loin.nii.gz-0.500000', 'hist-13-p032-loin.nii.gz-0.500000', 'hist-14-p032-loin.nii.gz-0.500000', 'hist-15-p032-loin.nii.gz-0.500000', 'hist-16-p032-loin.nii.gz-0.500000', 'hist-17-p032-loin.nii.gz-0.500000', 'hist-18-p032-loin.nii.gz-0.500000', 'hist-19-p032-loin.nii.gz-0.500000'] \n",
      "Score: -0.726780156230416\n"
     ]
    },
    {
     "name": "stderr",
     "output_type": "stream",
     "text": [
      "200it [00:00, 884.32it/s]\n",
      "  0%|                                                  | 0/8000 [00:00<?, ?it/s]"
     ]
    },
    {
     "name": "stdout",
     "output_type": "stream",
     "text": [
      "1\n",
      "1 0.8313391973191396\n",
      "Objective LassoRegression_Objective:\n"
     ]
    },
    {
     "name": "stderr",
     "output_type": "stream",
     "text": [
      "  6%|██▍                                    | 499/8000 [00:02<00:34, 217.71it/s]\n",
      "59it [00:00, 589.30it/s]"
     ]
    },
    {
     "name": "stdout",
     "output_type": "stream",
     "text": [
      "iterations: 499\n",
      "Number of used features: 26\n",
      "Used features: ['num-p032-loin.nii.gz-0.500000', 'sum-p032-loin.nii.gz-0.500000', 'mean-p032-loin.nii.gz-0.500000', 'std-p032-loin.nii.gz-0.500000', 'skew-p032-loin.nii.gz-0.500000', 'kurt-p032-loin.nii.gz-0.500000', 'hist-0-p032-loin.nii.gz-0.500000', 'hist-1-p032-loin.nii.gz-0.500000', 'hist-2-p032-loin.nii.gz-0.500000', 'hist-3-p032-loin.nii.gz-0.500000', 'hist-4-p032-loin.nii.gz-0.500000', 'hist-5-p032-loin.nii.gz-0.500000', 'hist-6-p032-loin.nii.gz-0.500000', 'hist-7-p032-loin.nii.gz-0.500000', 'hist-8-p032-loin.nii.gz-0.500000', 'hist-9-p032-loin.nii.gz-0.500000', 'hist-10-p032-loin.nii.gz-0.500000', 'hist-11-p032-loin.nii.gz-0.500000', 'hist-12-p032-loin.nii.gz-0.500000', 'hist-13-p032-loin.nii.gz-0.500000', 'hist-14-p032-loin.nii.gz-0.500000', 'hist-15-p032-loin.nii.gz-0.500000', 'hist-16-p032-loin.nii.gz-0.500000', 'hist-17-p032-loin.nii.gz-0.500000', 'hist-18-p032-loin.nii.gz-0.500000', 'hist-19-p032-loin.nii.gz-0.500000'] \n",
      "Score: -0.8791877185773975\n"
     ]
    },
    {
     "name": "stderr",
     "output_type": "stream",
     "text": [
      "200it [00:00, 585.59it/s]\n",
      "  0%|                                                  | 0/8000 [00:00<?, ?it/s]"
     ]
    },
    {
     "name": "stdout",
     "output_type": "stream",
     "text": [
      "1\n",
      "1 0.89340315998424\n",
      "Objective RidgeRegression_Objective:\n"
     ]
    },
    {
     "name": "stderr",
     "output_type": "stream",
     "text": [
      "  6%|██▍                                    | 500/8000 [00:01<00:27, 270.01it/s]\n",
      "50it [00:00, 499.84it/s]"
     ]
    },
    {
     "name": "stdout",
     "output_type": "stream",
     "text": [
      "iterations: 500\n",
      "Number of used features: 26\n",
      "Used features: ['num-p032-loin.nii.gz-0.500000', 'sum-p032-loin.nii.gz-0.500000', 'mean-p032-loin.nii.gz-0.500000', 'std-p032-loin.nii.gz-0.500000', 'skew-p032-loin.nii.gz-0.500000', 'kurt-p032-loin.nii.gz-0.500000', 'hist-0-p032-loin.nii.gz-0.500000', 'hist-1-p032-loin.nii.gz-0.500000', 'hist-2-p032-loin.nii.gz-0.500000', 'hist-3-p032-loin.nii.gz-0.500000', 'hist-4-p032-loin.nii.gz-0.500000', 'hist-5-p032-loin.nii.gz-0.500000', 'hist-6-p032-loin.nii.gz-0.500000', 'hist-7-p032-loin.nii.gz-0.500000', 'hist-8-p032-loin.nii.gz-0.500000', 'hist-9-p032-loin.nii.gz-0.500000', 'hist-10-p032-loin.nii.gz-0.500000', 'hist-11-p032-loin.nii.gz-0.500000', 'hist-12-p032-loin.nii.gz-0.500000', 'hist-13-p032-loin.nii.gz-0.500000', 'hist-14-p032-loin.nii.gz-0.500000', 'hist-15-p032-loin.nii.gz-0.500000', 'hist-16-p032-loin.nii.gz-0.500000', 'hist-17-p032-loin.nii.gz-0.500000', 'hist-18-p032-loin.nii.gz-0.500000', 'hist-19-p032-loin.nii.gz-0.500000'] \n",
      "Score: -0.877163605118231\n"
     ]
    },
    {
     "name": "stderr",
     "output_type": "stream",
     "text": [
      "200it [00:00, 496.39it/s]\n",
      "  0%|                                                  | 0/8000 [00:00<?, ?it/s]"
     ]
    },
    {
     "name": "stdout",
     "output_type": "stream",
     "text": [
      "1\n",
      "1 0.8887951475116111\n",
      "Objective PLSRegression_Objective:\n"
     ]
    },
    {
     "name": "stderr",
     "output_type": "stream",
     "text": [
      "  6%|██▎                                   | 499/8000 [00:00<00:06, 1076.60it/s]\n",
      "64it [00:00, 632.83it/s]"
     ]
    },
    {
     "name": "stdout",
     "output_type": "stream",
     "text": [
      "iterations: 499\n",
      "Number of used features: 26\n",
      "Used features: ['num-p032-loin.nii.gz-0.500000', 'sum-p032-loin.nii.gz-0.500000', 'mean-p032-loin.nii.gz-0.500000', 'std-p032-loin.nii.gz-0.500000', 'skew-p032-loin.nii.gz-0.500000', 'kurt-p032-loin.nii.gz-0.500000', 'hist-0-p032-loin.nii.gz-0.500000', 'hist-1-p032-loin.nii.gz-0.500000', 'hist-2-p032-loin.nii.gz-0.500000', 'hist-3-p032-loin.nii.gz-0.500000', 'hist-4-p032-loin.nii.gz-0.500000', 'hist-5-p032-loin.nii.gz-0.500000', 'hist-6-p032-loin.nii.gz-0.500000', 'hist-7-p032-loin.nii.gz-0.500000', 'hist-8-p032-loin.nii.gz-0.500000', 'hist-9-p032-loin.nii.gz-0.500000', 'hist-10-p032-loin.nii.gz-0.500000', 'hist-11-p032-loin.nii.gz-0.500000', 'hist-12-p032-loin.nii.gz-0.500000', 'hist-13-p032-loin.nii.gz-0.500000', 'hist-14-p032-loin.nii.gz-0.500000', 'hist-15-p032-loin.nii.gz-0.500000', 'hist-16-p032-loin.nii.gz-0.500000', 'hist-17-p032-loin.nii.gz-0.500000', 'hist-18-p032-loin.nii.gz-0.500000', 'hist-19-p032-loin.nii.gz-0.500000'] \n",
      "Score: -0.8884465054290268\n"
     ]
    },
    {
     "name": "stderr",
     "output_type": "stream",
     "text": [
      "200it [00:00, 626.60it/s]\n",
      "  0%|                                                  | 0/8000 [00:00<?, ?it/s]"
     ]
    },
    {
     "name": "stdout",
     "output_type": "stream",
     "text": [
      "1\n",
      "1 0.8993133092640709\n",
      "Objective KNNR_Objective:\n"
     ]
    },
    {
     "name": "stderr",
     "output_type": "stream",
     "text": [
      " 10%|███▊                                    | 770/8000 [00:17<02:43, 44.13it/s]\n",
      "78it [00:00, 776.62it/s]"
     ]
    },
    {
     "name": "stdout",
     "output_type": "stream",
     "text": [
      "iterations: 770\n",
      "Number of used features: 26\n",
      "Used features: ['num-p041-loin.nii.gz-0.500000', 'sum-p041-loin.nii.gz-0.500000', 'mean-p041-loin.nii.gz-0.500000', 'std-p041-loin.nii.gz-0.500000', 'skew-p041-loin.nii.gz-0.500000', 'kurt-p041-loin.nii.gz-0.500000', 'hist-0-p041-loin.nii.gz-0.500000', 'hist-1-p041-loin.nii.gz-0.500000', 'hist-2-p041-loin.nii.gz-0.500000', 'hist-3-p041-loin.nii.gz-0.500000', 'hist-4-p041-loin.nii.gz-0.500000', 'hist-5-p041-loin.nii.gz-0.500000', 'hist-6-p041-loin.nii.gz-0.500000', 'hist-7-p041-loin.nii.gz-0.500000', 'hist-8-p041-loin.nii.gz-0.500000', 'hist-9-p041-loin.nii.gz-0.500000', 'hist-10-p041-loin.nii.gz-0.500000', 'hist-11-p041-loin.nii.gz-0.500000', 'hist-12-p041-loin.nii.gz-0.500000', 'hist-13-p041-loin.nii.gz-0.500000', 'hist-14-p041-loin.nii.gz-0.500000', 'hist-15-p041-loin.nii.gz-0.500000', 'hist-16-p041-loin.nii.gz-0.500000', 'hist-17-p041-loin.nii.gz-0.500000', 'hist-18-p041-loin.nii.gz-0.500000', 'hist-19-p041-loin.nii.gz-0.500000'] \n",
      "Score: -0.6361438897289479\n"
     ]
    },
    {
     "name": "stderr",
     "output_type": "stream",
     "text": [
      "200it [00:00, 776.96it/s]\n",
      "  0%|                                                  | 0/8000 [00:00<?, ?it/s]"
     ]
    },
    {
     "name": "stdout",
     "output_type": "stream",
     "text": [
      "1\n",
      "1 0.645351355227026\n",
      "Objective LinearRegression_Objective:\n"
     ]
    },
    {
     "name": "stderr",
     "output_type": "stream",
     "text": [
      "  6%|██▎                                   | 499/8000 [00:00<00:02, 3580.82it/s]\n",
      "88it [00:00, 877.88it/s]"
     ]
    },
    {
     "name": "stdout",
     "output_type": "stream",
     "text": [
      "iterations: 499\n",
      "Number of used features: 26\n",
      "Used features: ['num-p041-loin.nii.gz-0.500000', 'sum-p041-loin.nii.gz-0.500000', 'mean-p041-loin.nii.gz-0.500000', 'std-p041-loin.nii.gz-0.500000', 'skew-p041-loin.nii.gz-0.500000', 'kurt-p041-loin.nii.gz-0.500000', 'hist-0-p041-loin.nii.gz-0.500000', 'hist-1-p041-loin.nii.gz-0.500000', 'hist-2-p041-loin.nii.gz-0.500000', 'hist-3-p041-loin.nii.gz-0.500000', 'hist-4-p041-loin.nii.gz-0.500000', 'hist-5-p041-loin.nii.gz-0.500000', 'hist-6-p041-loin.nii.gz-0.500000', 'hist-7-p041-loin.nii.gz-0.500000', 'hist-8-p041-loin.nii.gz-0.500000', 'hist-9-p041-loin.nii.gz-0.500000', 'hist-10-p041-loin.nii.gz-0.500000', 'hist-11-p041-loin.nii.gz-0.500000', 'hist-12-p041-loin.nii.gz-0.500000', 'hist-13-p041-loin.nii.gz-0.500000', 'hist-14-p041-loin.nii.gz-0.500000', 'hist-15-p041-loin.nii.gz-0.500000', 'hist-16-p041-loin.nii.gz-0.500000', 'hist-17-p041-loin.nii.gz-0.500000', 'hist-18-p041-loin.nii.gz-0.500000', 'hist-19-p041-loin.nii.gz-0.500000'] \n",
      "Score: -0.41611286556864446\n"
     ]
    },
    {
     "name": "stderr",
     "output_type": "stream",
     "text": [
      "200it [00:00, 880.24it/s]\n",
      "  0%|                                                  | 0/8000 [00:00<?, ?it/s]"
     ]
    },
    {
     "name": "stdout",
     "output_type": "stream",
     "text": [
      "1\n",
      "1 0.7102315056623796\n",
      "Objective LassoRegression_Objective:\n"
     ]
    },
    {
     "name": "stderr",
     "output_type": "stream",
     "text": [
      "  6%|██▍                                    | 499/8000 [00:02<00:33, 223.53it/s]\n",
      "55it [00:00, 543.30it/s]"
     ]
    },
    {
     "name": "stdout",
     "output_type": "stream",
     "text": [
      "iterations: 499\n",
      "Number of used features: 26\n",
      "Used features: ['num-p041-loin.nii.gz-0.500000', 'sum-p041-loin.nii.gz-0.500000', 'mean-p041-loin.nii.gz-0.500000', 'std-p041-loin.nii.gz-0.500000', 'skew-p041-loin.nii.gz-0.500000', 'kurt-p041-loin.nii.gz-0.500000', 'hist-0-p041-loin.nii.gz-0.500000', 'hist-1-p041-loin.nii.gz-0.500000', 'hist-2-p041-loin.nii.gz-0.500000', 'hist-3-p041-loin.nii.gz-0.500000', 'hist-4-p041-loin.nii.gz-0.500000', 'hist-5-p041-loin.nii.gz-0.500000', 'hist-6-p041-loin.nii.gz-0.500000', 'hist-7-p041-loin.nii.gz-0.500000', 'hist-8-p041-loin.nii.gz-0.500000', 'hist-9-p041-loin.nii.gz-0.500000', 'hist-10-p041-loin.nii.gz-0.500000', 'hist-11-p041-loin.nii.gz-0.500000', 'hist-12-p041-loin.nii.gz-0.500000', 'hist-13-p041-loin.nii.gz-0.500000', 'hist-14-p041-loin.nii.gz-0.500000', 'hist-15-p041-loin.nii.gz-0.500000', 'hist-16-p041-loin.nii.gz-0.500000', 'hist-17-p041-loin.nii.gz-0.500000', 'hist-18-p041-loin.nii.gz-0.500000', 'hist-19-p041-loin.nii.gz-0.500000'] \n",
      "Score: -0.8881032119344872\n"
     ]
    },
    {
     "name": "stderr",
     "output_type": "stream",
     "text": [
      "200it [00:00, 572.61it/s]\n",
      "  0%|                                                  | 0/8000 [00:00<?, ?it/s]"
     ]
    },
    {
     "name": "stdout",
     "output_type": "stream",
     "text": [
      "1\n",
      "1 0.8961642154740784\n",
      "Objective RidgeRegression_Objective:\n"
     ]
    },
    {
     "name": "stderr",
     "output_type": "stream",
     "text": [
      "  6%|██▍                                    | 500/8000 [00:01<00:27, 271.48it/s]\n",
      "51it [00:00, 502.82it/s]"
     ]
    },
    {
     "name": "stdout",
     "output_type": "stream",
     "text": [
      "iterations: 500\n",
      "Number of used features: 26\n",
      "Used features: ['num-p041-loin.nii.gz-0.500000', 'sum-p041-loin.nii.gz-0.500000', 'mean-p041-loin.nii.gz-0.500000', 'std-p041-loin.nii.gz-0.500000', 'skew-p041-loin.nii.gz-0.500000', 'kurt-p041-loin.nii.gz-0.500000', 'hist-0-p041-loin.nii.gz-0.500000', 'hist-1-p041-loin.nii.gz-0.500000', 'hist-2-p041-loin.nii.gz-0.500000', 'hist-3-p041-loin.nii.gz-0.500000', 'hist-4-p041-loin.nii.gz-0.500000', 'hist-5-p041-loin.nii.gz-0.500000', 'hist-6-p041-loin.nii.gz-0.500000', 'hist-7-p041-loin.nii.gz-0.500000', 'hist-8-p041-loin.nii.gz-0.500000', 'hist-9-p041-loin.nii.gz-0.500000', 'hist-10-p041-loin.nii.gz-0.500000', 'hist-11-p041-loin.nii.gz-0.500000', 'hist-12-p041-loin.nii.gz-0.500000', 'hist-13-p041-loin.nii.gz-0.500000', 'hist-14-p041-loin.nii.gz-0.500000', 'hist-15-p041-loin.nii.gz-0.500000', 'hist-16-p041-loin.nii.gz-0.500000', 'hist-17-p041-loin.nii.gz-0.500000', 'hist-18-p041-loin.nii.gz-0.500000', 'hist-19-p041-loin.nii.gz-0.500000'] \n",
      "Score: -0.87438694901874\n"
     ]
    },
    {
     "name": "stderr",
     "output_type": "stream",
     "text": [
      "200it [00:00, 500.13it/s]\n",
      "  0%|                                                  | 0/8000 [00:00<?, ?it/s]"
     ]
    },
    {
     "name": "stdout",
     "output_type": "stream",
     "text": [
      "1\n",
      "1 0.8844902102288578\n",
      "Objective PLSRegression_Objective:\n"
     ]
    },
    {
     "name": "stderr",
     "output_type": "stream",
     "text": [
      "  6%|██▎                                   | 499/8000 [00:00<00:06, 1087.68it/s]\n",
      "64it [00:00, 630.85it/s]"
     ]
    },
    {
     "name": "stdout",
     "output_type": "stream",
     "text": [
      "iterations: 499\n",
      "Number of used features: 26\n",
      "Used features: ['num-p041-loin.nii.gz-0.500000', 'sum-p041-loin.nii.gz-0.500000', 'mean-p041-loin.nii.gz-0.500000', 'std-p041-loin.nii.gz-0.500000', 'skew-p041-loin.nii.gz-0.500000', 'kurt-p041-loin.nii.gz-0.500000', 'hist-0-p041-loin.nii.gz-0.500000', 'hist-1-p041-loin.nii.gz-0.500000', 'hist-2-p041-loin.nii.gz-0.500000', 'hist-3-p041-loin.nii.gz-0.500000', 'hist-4-p041-loin.nii.gz-0.500000', 'hist-5-p041-loin.nii.gz-0.500000', 'hist-6-p041-loin.nii.gz-0.500000', 'hist-7-p041-loin.nii.gz-0.500000', 'hist-8-p041-loin.nii.gz-0.500000', 'hist-9-p041-loin.nii.gz-0.500000', 'hist-10-p041-loin.nii.gz-0.500000', 'hist-11-p041-loin.nii.gz-0.500000', 'hist-12-p041-loin.nii.gz-0.500000', 'hist-13-p041-loin.nii.gz-0.500000', 'hist-14-p041-loin.nii.gz-0.500000', 'hist-15-p041-loin.nii.gz-0.500000', 'hist-16-p041-loin.nii.gz-0.500000', 'hist-17-p041-loin.nii.gz-0.500000', 'hist-18-p041-loin.nii.gz-0.500000', 'hist-19-p041-loin.nii.gz-0.500000'] \n",
      "Score: -0.8774623938872322\n"
     ]
    },
    {
     "name": "stderr",
     "output_type": "stream",
     "text": [
      "200it [00:00, 633.65it/s]\n",
      "  0%|                                                  | 0/8000 [00:00<?, ?it/s]"
     ]
    },
    {
     "name": "stdout",
     "output_type": "stream",
     "text": [
      "1\n",
      "1 0.8871699841494728\n",
      "Objective KNNR_Objective:\n"
     ]
    },
    {
     "name": "stderr",
     "output_type": "stream",
     "text": [
      "  7%|██▊                                     | 566/8000 [00:15<03:17, 37.63it/s]\n",
      "75it [00:00, 748.00it/s]"
     ]
    },
    {
     "name": "stdout",
     "output_type": "stream",
     "text": [
      "iterations: 566\n",
      "Number of used features: 26\n",
      "Used features: ['num-p048-loin.nii.gz-0.500000', 'sum-p048-loin.nii.gz-0.500000', 'mean-p048-loin.nii.gz-0.500000', 'std-p048-loin.nii.gz-0.500000', 'skew-p048-loin.nii.gz-0.500000', 'kurt-p048-loin.nii.gz-0.500000', 'hist-0-p048-loin.nii.gz-0.500000', 'hist-1-p048-loin.nii.gz-0.500000', 'hist-2-p048-loin.nii.gz-0.500000', 'hist-3-p048-loin.nii.gz-0.500000', 'hist-4-p048-loin.nii.gz-0.500000', 'hist-5-p048-loin.nii.gz-0.500000', 'hist-6-p048-loin.nii.gz-0.500000', 'hist-7-p048-loin.nii.gz-0.500000', 'hist-8-p048-loin.nii.gz-0.500000', 'hist-9-p048-loin.nii.gz-0.500000', 'hist-10-p048-loin.nii.gz-0.500000', 'hist-11-p048-loin.nii.gz-0.500000', 'hist-12-p048-loin.nii.gz-0.500000', 'hist-13-p048-loin.nii.gz-0.500000', 'hist-14-p048-loin.nii.gz-0.500000', 'hist-15-p048-loin.nii.gz-0.500000', 'hist-16-p048-loin.nii.gz-0.500000', 'hist-17-p048-loin.nii.gz-0.500000', 'hist-18-p048-loin.nii.gz-0.500000', 'hist-19-p048-loin.nii.gz-0.500000'] \n",
      "Score: -0.7256318738881151\n"
     ]
    },
    {
     "name": "stderr",
     "output_type": "stream",
     "text": [
      "200it [00:00, 743.14it/s]\n",
      "  0%|                                                  | 0/8000 [00:00<?, ?it/s]"
     ]
    },
    {
     "name": "stdout",
     "output_type": "stream",
     "text": [
      "1\n",
      "1 0.7500510473230348\n",
      "Objective LinearRegression_Objective:\n"
     ]
    },
    {
     "name": "stderr",
     "output_type": "stream",
     "text": [
      "  6%|██▎                                   | 499/8000 [00:00<00:02, 3568.97it/s]\n",
      "89it [00:00, 888.88it/s]"
     ]
    },
    {
     "name": "stdout",
     "output_type": "stream",
     "text": [
      "iterations: 499\n",
      "Number of used features: 26\n",
      "Used features: ['num-p048-loin.nii.gz-0.500000', 'sum-p048-loin.nii.gz-0.500000', 'mean-p048-loin.nii.gz-0.500000', 'std-p048-loin.nii.gz-0.500000', 'skew-p048-loin.nii.gz-0.500000', 'kurt-p048-loin.nii.gz-0.500000', 'hist-0-p048-loin.nii.gz-0.500000', 'hist-1-p048-loin.nii.gz-0.500000', 'hist-2-p048-loin.nii.gz-0.500000', 'hist-3-p048-loin.nii.gz-0.500000', 'hist-4-p048-loin.nii.gz-0.500000', 'hist-5-p048-loin.nii.gz-0.500000', 'hist-6-p048-loin.nii.gz-0.500000', 'hist-7-p048-loin.nii.gz-0.500000', 'hist-8-p048-loin.nii.gz-0.500000', 'hist-9-p048-loin.nii.gz-0.500000', 'hist-10-p048-loin.nii.gz-0.500000', 'hist-11-p048-loin.nii.gz-0.500000', 'hist-12-p048-loin.nii.gz-0.500000', 'hist-13-p048-loin.nii.gz-0.500000', 'hist-14-p048-loin.nii.gz-0.500000', 'hist-15-p048-loin.nii.gz-0.500000', 'hist-16-p048-loin.nii.gz-0.500000', 'hist-17-p048-loin.nii.gz-0.500000', 'hist-18-p048-loin.nii.gz-0.500000', 'hist-19-p048-loin.nii.gz-0.500000'] \n",
      "Score: -0.4462732918981387\n"
     ]
    },
    {
     "name": "stderr",
     "output_type": "stream",
     "text": [
      "200it [00:00, 886.02it/s]\n",
      "  0%|                                                  | 0/8000 [00:00<?, ?it/s]"
     ]
    },
    {
     "name": "stdout",
     "output_type": "stream",
     "text": [
      "1\n",
      "1 0.7138871114167197\n",
      "Objective LassoRegression_Objective:\n"
     ]
    },
    {
     "name": "stderr",
     "output_type": "stream",
     "text": [
      "  6%|██▍                                    | 499/8000 [00:02<00:33, 224.73it/s]\n",
      "61it [00:00, 606.21it/s]"
     ]
    },
    {
     "name": "stdout",
     "output_type": "stream",
     "text": [
      "iterations: 499\n",
      "Number of used features: 26\n",
      "Used features: ['num-p048-loin.nii.gz-0.500000', 'sum-p048-loin.nii.gz-0.500000', 'mean-p048-loin.nii.gz-0.500000', 'std-p048-loin.nii.gz-0.500000', 'skew-p048-loin.nii.gz-0.500000', 'kurt-p048-loin.nii.gz-0.500000', 'hist-0-p048-loin.nii.gz-0.500000', 'hist-1-p048-loin.nii.gz-0.500000', 'hist-2-p048-loin.nii.gz-0.500000', 'hist-3-p048-loin.nii.gz-0.500000', 'hist-4-p048-loin.nii.gz-0.500000', 'hist-5-p048-loin.nii.gz-0.500000', 'hist-6-p048-loin.nii.gz-0.500000', 'hist-7-p048-loin.nii.gz-0.500000', 'hist-8-p048-loin.nii.gz-0.500000', 'hist-9-p048-loin.nii.gz-0.500000', 'hist-10-p048-loin.nii.gz-0.500000', 'hist-11-p048-loin.nii.gz-0.500000', 'hist-12-p048-loin.nii.gz-0.500000', 'hist-13-p048-loin.nii.gz-0.500000', 'hist-14-p048-loin.nii.gz-0.500000', 'hist-15-p048-loin.nii.gz-0.500000', 'hist-16-p048-loin.nii.gz-0.500000', 'hist-17-p048-loin.nii.gz-0.500000', 'hist-18-p048-loin.nii.gz-0.500000', 'hist-19-p048-loin.nii.gz-0.500000'] \n",
      "Score: -0.9022986825842416\n"
     ]
    },
    {
     "name": "stderr",
     "output_type": "stream",
     "text": [
      "200it [00:00, 605.23it/s]\n",
      "  0%|                                                  | 0/8000 [00:00<?, ?it/s]"
     ]
    },
    {
     "name": "stdout",
     "output_type": "stream",
     "text": [
      "1\n",
      "1 0.9108303757902237\n",
      "Objective RidgeRegression_Objective:\n"
     ]
    },
    {
     "name": "stderr",
     "output_type": "stream",
     "text": [
      "  6%|██▍                                    | 500/8000 [00:01<00:21, 347.53it/s]\n",
      "51it [00:00, 502.61it/s]"
     ]
    },
    {
     "name": "stdout",
     "output_type": "stream",
     "text": [
      "iterations: 500\n",
      "Number of used features: 26\n",
      "Used features: ['num-p048-loin.nii.gz-0.500000', 'sum-p048-loin.nii.gz-0.500000', 'mean-p048-loin.nii.gz-0.500000', 'std-p048-loin.nii.gz-0.500000', 'skew-p048-loin.nii.gz-0.500000', 'kurt-p048-loin.nii.gz-0.500000', 'hist-0-p048-loin.nii.gz-0.500000', 'hist-1-p048-loin.nii.gz-0.500000', 'hist-2-p048-loin.nii.gz-0.500000', 'hist-3-p048-loin.nii.gz-0.500000', 'hist-4-p048-loin.nii.gz-0.500000', 'hist-5-p048-loin.nii.gz-0.500000', 'hist-6-p048-loin.nii.gz-0.500000', 'hist-7-p048-loin.nii.gz-0.500000', 'hist-8-p048-loin.nii.gz-0.500000', 'hist-9-p048-loin.nii.gz-0.500000', 'hist-10-p048-loin.nii.gz-0.500000', 'hist-11-p048-loin.nii.gz-0.500000', 'hist-12-p048-loin.nii.gz-0.500000', 'hist-13-p048-loin.nii.gz-0.500000', 'hist-14-p048-loin.nii.gz-0.500000', 'hist-15-p048-loin.nii.gz-0.500000', 'hist-16-p048-loin.nii.gz-0.500000', 'hist-17-p048-loin.nii.gz-0.500000', 'hist-18-p048-loin.nii.gz-0.500000', 'hist-19-p048-loin.nii.gz-0.500000'] \n",
      "Score: -0.8863169536869427\n"
     ]
    },
    {
     "name": "stderr",
     "output_type": "stream",
     "text": [
      "200it [00:00, 571.46it/s]\n",
      "  0%|                                                  | 0/8000 [00:00<?, ?it/s]"
     ]
    },
    {
     "name": "stdout",
     "output_type": "stream",
     "text": [
      "1\n",
      "1 0.8964188051686747\n",
      "Objective PLSRegression_Objective:\n"
     ]
    },
    {
     "name": "stderr",
     "output_type": "stream",
     "text": [
      "  6%|██▎                                   | 499/8000 [00:00<00:07, 1053.99it/s]\n",
      "63it [00:00, 622.55it/s]"
     ]
    },
    {
     "name": "stdout",
     "output_type": "stream",
     "text": [
      "iterations: 499\n",
      "Number of used features: 26\n",
      "Used features: ['num-p048-loin.nii.gz-0.500000', 'sum-p048-loin.nii.gz-0.500000', 'mean-p048-loin.nii.gz-0.500000', 'std-p048-loin.nii.gz-0.500000', 'skew-p048-loin.nii.gz-0.500000', 'kurt-p048-loin.nii.gz-0.500000', 'hist-0-p048-loin.nii.gz-0.500000', 'hist-1-p048-loin.nii.gz-0.500000', 'hist-2-p048-loin.nii.gz-0.500000', 'hist-3-p048-loin.nii.gz-0.500000', 'hist-4-p048-loin.nii.gz-0.500000', 'hist-5-p048-loin.nii.gz-0.500000', 'hist-6-p048-loin.nii.gz-0.500000', 'hist-7-p048-loin.nii.gz-0.500000', 'hist-8-p048-loin.nii.gz-0.500000', 'hist-9-p048-loin.nii.gz-0.500000', 'hist-10-p048-loin.nii.gz-0.500000', 'hist-11-p048-loin.nii.gz-0.500000', 'hist-12-p048-loin.nii.gz-0.500000', 'hist-13-p048-loin.nii.gz-0.500000', 'hist-14-p048-loin.nii.gz-0.500000', 'hist-15-p048-loin.nii.gz-0.500000', 'hist-16-p048-loin.nii.gz-0.500000', 'hist-17-p048-loin.nii.gz-0.500000', 'hist-18-p048-loin.nii.gz-0.500000', 'hist-19-p048-loin.nii.gz-0.500000'] \n",
      "Score: -0.895872929897254\n"
     ]
    },
    {
     "name": "stderr",
     "output_type": "stream",
     "text": [
      "200it [00:00, 619.47it/s]"
     ]
    },
    {
     "name": "stdout",
     "output_type": "stream",
     "text": [
      "1\n",
      "1 0.9046528509083862\n"
     ]
    },
    {
     "name": "stderr",
     "output_type": "stream",
     "text": [
      "\n"
     ]
    }
   ],
   "source": [
    "for m in masks:\n",
    "    results_no_fs.append(model_selection(loin_features[[c for c in loin_features.columns if m in c or c == 'type']], loin_target, dataset='loin', type=m, disable_feature_selection=True))"
   ]
  },
  {
   "cell_type": "markdown",
   "metadata": {},
   "source": [
    "### belly with all features"
   ]
  },
  {
   "cell_type": "code",
   "execution_count": 34,
   "metadata": {},
   "outputs": [
    {
     "name": "stderr",
     "output_type": "stream",
     "text": [
      "\r",
      "  0%|                                                  | 0/8000 [00:00<?, ?it/s]"
     ]
    },
    {
     "name": "stdout",
     "output_type": "stream",
     "text": [
      "Objective KNNR_Objective:\n"
     ]
    },
    {
     "name": "stderr",
     "output_type": "stream",
     "text": [
      "  7%|██▋                                     | 529/8000 [00:20<04:43, 26.32it/s]\n",
      "71it [00:00, 704.58it/s]"
     ]
    },
    {
     "name": "stdout",
     "output_type": "stream",
     "text": [
      "iterations: 529\n",
      "Number of used features: 157\n",
      "Used features: ['Unnamed: 0', 'num-p004-belly.nii.gz-0.500000', 'sum-p004-belly.nii.gz-0.500000', 'mean-p004-belly.nii.gz-0.500000', 'std-p004-belly.nii.gz-0.500000', 'skew-p004-belly.nii.gz-0.500000', 'kurt-p004-belly.nii.gz-0.500000', 'hist-0-p004-belly.nii.gz-0.500000', 'hist-1-p004-belly.nii.gz-0.500000', 'hist-2-p004-belly.nii.gz-0.500000', 'hist-3-p004-belly.nii.gz-0.500000', 'hist-4-p004-belly.nii.gz-0.500000', 'hist-5-p004-belly.nii.gz-0.500000', 'hist-6-p004-belly.nii.gz-0.500000', 'hist-7-p004-belly.nii.gz-0.500000', 'hist-8-p004-belly.nii.gz-0.500000', 'hist-9-p004-belly.nii.gz-0.500000', 'hist-10-p004-belly.nii.gz-0.500000', 'hist-11-p004-belly.nii.gz-0.500000', 'hist-12-p004-belly.nii.gz-0.500000', 'hist-13-p004-belly.nii.gz-0.500000', 'hist-14-p004-belly.nii.gz-0.500000', 'hist-15-p004-belly.nii.gz-0.500000', 'hist-16-p004-belly.nii.gz-0.500000', 'hist-17-p004-belly.nii.gz-0.500000', 'hist-18-p004-belly.nii.gz-0.500000', 'hist-19-p004-belly.nii.gz-0.500000', 'num-p029-belly.nii.gz-0.500000', 'sum-p029-belly.nii.gz-0.500000', 'mean-p029-belly.nii.gz-0.500000', 'std-p029-belly.nii.gz-0.500000', 'skew-p029-belly.nii.gz-0.500000', 'kurt-p029-belly.nii.gz-0.500000', 'hist-0-p029-belly.nii.gz-0.500000', 'hist-1-p029-belly.nii.gz-0.500000', 'hist-2-p029-belly.nii.gz-0.500000', 'hist-3-p029-belly.nii.gz-0.500000', 'hist-4-p029-belly.nii.gz-0.500000', 'hist-5-p029-belly.nii.gz-0.500000', 'hist-6-p029-belly.nii.gz-0.500000', 'hist-7-p029-belly.nii.gz-0.500000', 'hist-8-p029-belly.nii.gz-0.500000', 'hist-9-p029-belly.nii.gz-0.500000', 'hist-10-p029-belly.nii.gz-0.500000', 'hist-11-p029-belly.nii.gz-0.500000', 'hist-12-p029-belly.nii.gz-0.500000', 'hist-13-p029-belly.nii.gz-0.500000', 'hist-14-p029-belly.nii.gz-0.500000', 'hist-15-p029-belly.nii.gz-0.500000', 'hist-16-p029-belly.nii.gz-0.500000', 'hist-17-p029-belly.nii.gz-0.500000', 'hist-18-p029-belly.nii.gz-0.500000', 'hist-19-p029-belly.nii.gz-0.500000', 'num-p032-belly.nii.gz-0.500000', 'sum-p032-belly.nii.gz-0.500000', 'mean-p032-belly.nii.gz-0.500000', 'std-p032-belly.nii.gz-0.500000', 'skew-p032-belly.nii.gz-0.500000', 'kurt-p032-belly.nii.gz-0.500000', 'hist-0-p032-belly.nii.gz-0.500000', 'hist-1-p032-belly.nii.gz-0.500000', 'hist-2-p032-belly.nii.gz-0.500000', 'hist-3-p032-belly.nii.gz-0.500000', 'hist-4-p032-belly.nii.gz-0.500000', 'hist-5-p032-belly.nii.gz-0.500000', 'hist-6-p032-belly.nii.gz-0.500000', 'hist-7-p032-belly.nii.gz-0.500000', 'hist-8-p032-belly.nii.gz-0.500000', 'hist-9-p032-belly.nii.gz-0.500000', 'hist-10-p032-belly.nii.gz-0.500000', 'hist-11-p032-belly.nii.gz-0.500000', 'hist-12-p032-belly.nii.gz-0.500000', 'hist-13-p032-belly.nii.gz-0.500000', 'hist-14-p032-belly.nii.gz-0.500000', 'hist-15-p032-belly.nii.gz-0.500000', 'hist-16-p032-belly.nii.gz-0.500000', 'hist-17-p032-belly.nii.gz-0.500000', 'hist-18-p032-belly.nii.gz-0.500000', 'hist-19-p032-belly.nii.gz-0.500000', 'num-p041-belly.nii.gz-0.500000', 'sum-p041-belly.nii.gz-0.500000', 'mean-p041-belly.nii.gz-0.500000', 'std-p041-belly.nii.gz-0.500000', 'skew-p041-belly.nii.gz-0.500000', 'kurt-p041-belly.nii.gz-0.500000', 'hist-0-p041-belly.nii.gz-0.500000', 'hist-1-p041-belly.nii.gz-0.500000', 'hist-2-p041-belly.nii.gz-0.500000', 'hist-3-p041-belly.nii.gz-0.500000', 'hist-4-p041-belly.nii.gz-0.500000', 'hist-5-p041-belly.nii.gz-0.500000', 'hist-6-p041-belly.nii.gz-0.500000', 'hist-7-p041-belly.nii.gz-0.500000', 'hist-8-p041-belly.nii.gz-0.500000', 'hist-9-p041-belly.nii.gz-0.500000', 'hist-10-p041-belly.nii.gz-0.500000', 'hist-11-p041-belly.nii.gz-0.500000', 'hist-12-p041-belly.nii.gz-0.500000', 'hist-13-p041-belly.nii.gz-0.500000', 'hist-14-p041-belly.nii.gz-0.500000', 'hist-15-p041-belly.nii.gz-0.500000', 'hist-16-p041-belly.nii.gz-0.500000', 'hist-17-p041-belly.nii.gz-0.500000', 'hist-18-p041-belly.nii.gz-0.500000', 'hist-19-p041-belly.nii.gz-0.500000', 'num-p048-belly.nii.gz-0.500000', 'sum-p048-belly.nii.gz-0.500000', 'mean-p048-belly.nii.gz-0.500000', 'std-p048-belly.nii.gz-0.500000', 'skew-p048-belly.nii.gz-0.500000', 'kurt-p048-belly.nii.gz-0.500000', 'hist-0-p048-belly.nii.gz-0.500000', 'hist-1-p048-belly.nii.gz-0.500000', 'hist-2-p048-belly.nii.gz-0.500000', 'hist-3-p048-belly.nii.gz-0.500000', 'hist-4-p048-belly.nii.gz-0.500000', 'hist-5-p048-belly.nii.gz-0.500000', 'hist-6-p048-belly.nii.gz-0.500000', 'hist-7-p048-belly.nii.gz-0.500000', 'hist-8-p048-belly.nii.gz-0.500000', 'hist-9-p048-belly.nii.gz-0.500000', 'hist-10-p048-belly.nii.gz-0.500000', 'hist-11-p048-belly.nii.gz-0.500000', 'hist-12-p048-belly.nii.gz-0.500000', 'hist-13-p048-belly.nii.gz-0.500000', 'hist-14-p048-belly.nii.gz-0.500000', 'hist-15-p048-belly.nii.gz-0.500000', 'hist-16-p048-belly.nii.gz-0.500000', 'hist-17-p048-belly.nii.gz-0.500000', 'hist-18-p048-belly.nii.gz-0.500000', 'hist-19-p048-belly.nii.gz-0.500000', 'num-0.500000-mean_mask', 'sum-0.500000-mean_mask', 'mean-0.500000-mean_mask', 'std-0.500000-mean_mask', 'skew-0.500000-mean_mask', 'kurt-0.500000-mean_mask', 'hist-0-0.500000-mean_mask', 'hist-1-0.500000-mean_mask', 'hist-2-0.500000-mean_mask', 'hist-3-0.500000-mean_mask', 'hist-4-0.500000-mean_mask', 'hist-5-0.500000-mean_mask', 'hist-6-0.500000-mean_mask', 'hist-7-0.500000-mean_mask', 'hist-8-0.500000-mean_mask', 'hist-9-0.500000-mean_mask', 'hist-10-0.500000-mean_mask', 'hist-11-0.500000-mean_mask', 'hist-12-0.500000-mean_mask', 'hist-13-0.500000-mean_mask', 'hist-14-0.500000-mean_mask', 'hist-15-0.500000-mean_mask', 'hist-16-0.500000-mean_mask', 'hist-17-0.500000-mean_mask', 'hist-18-0.500000-mean_mask', 'hist-19-0.500000-mean_mask'] \n",
      "Score: -0.7444379823926042\n"
     ]
    },
    {
     "name": "stderr",
     "output_type": "stream",
     "text": [
      "200it [00:00, 703.00it/s]\n",
      "  0%|                                                  | 0/8000 [00:00<?, ?it/s]"
     ]
    },
    {
     "name": "stdout",
     "output_type": "stream",
     "text": [
      "1\n",
      "1 0.7679286171967826\n",
      "Objective LinearRegression_Objective:\n"
     ]
    },
    {
     "name": "stderr",
     "output_type": "stream",
     "text": [
      "  6%|██▎                                   | 499/8000 [00:00<00:03, 2307.15it/s]\n",
      "68it [00:00, 679.00it/s]"
     ]
    },
    {
     "name": "stdout",
     "output_type": "stream",
     "text": [
      "iterations: 499\n",
      "Number of used features: 157\n",
      "Used features: ['Unnamed: 0', 'num-p004-belly.nii.gz-0.500000', 'sum-p004-belly.nii.gz-0.500000', 'mean-p004-belly.nii.gz-0.500000', 'std-p004-belly.nii.gz-0.500000', 'skew-p004-belly.nii.gz-0.500000', 'kurt-p004-belly.nii.gz-0.500000', 'hist-0-p004-belly.nii.gz-0.500000', 'hist-1-p004-belly.nii.gz-0.500000', 'hist-2-p004-belly.nii.gz-0.500000', 'hist-3-p004-belly.nii.gz-0.500000', 'hist-4-p004-belly.nii.gz-0.500000', 'hist-5-p004-belly.nii.gz-0.500000', 'hist-6-p004-belly.nii.gz-0.500000', 'hist-7-p004-belly.nii.gz-0.500000', 'hist-8-p004-belly.nii.gz-0.500000', 'hist-9-p004-belly.nii.gz-0.500000', 'hist-10-p004-belly.nii.gz-0.500000', 'hist-11-p004-belly.nii.gz-0.500000', 'hist-12-p004-belly.nii.gz-0.500000', 'hist-13-p004-belly.nii.gz-0.500000', 'hist-14-p004-belly.nii.gz-0.500000', 'hist-15-p004-belly.nii.gz-0.500000', 'hist-16-p004-belly.nii.gz-0.500000', 'hist-17-p004-belly.nii.gz-0.500000', 'hist-18-p004-belly.nii.gz-0.500000', 'hist-19-p004-belly.nii.gz-0.500000', 'num-p029-belly.nii.gz-0.500000', 'sum-p029-belly.nii.gz-0.500000', 'mean-p029-belly.nii.gz-0.500000', 'std-p029-belly.nii.gz-0.500000', 'skew-p029-belly.nii.gz-0.500000', 'kurt-p029-belly.nii.gz-0.500000', 'hist-0-p029-belly.nii.gz-0.500000', 'hist-1-p029-belly.nii.gz-0.500000', 'hist-2-p029-belly.nii.gz-0.500000', 'hist-3-p029-belly.nii.gz-0.500000', 'hist-4-p029-belly.nii.gz-0.500000', 'hist-5-p029-belly.nii.gz-0.500000', 'hist-6-p029-belly.nii.gz-0.500000', 'hist-7-p029-belly.nii.gz-0.500000', 'hist-8-p029-belly.nii.gz-0.500000', 'hist-9-p029-belly.nii.gz-0.500000', 'hist-10-p029-belly.nii.gz-0.500000', 'hist-11-p029-belly.nii.gz-0.500000', 'hist-12-p029-belly.nii.gz-0.500000', 'hist-13-p029-belly.nii.gz-0.500000', 'hist-14-p029-belly.nii.gz-0.500000', 'hist-15-p029-belly.nii.gz-0.500000', 'hist-16-p029-belly.nii.gz-0.500000', 'hist-17-p029-belly.nii.gz-0.500000', 'hist-18-p029-belly.nii.gz-0.500000', 'hist-19-p029-belly.nii.gz-0.500000', 'num-p032-belly.nii.gz-0.500000', 'sum-p032-belly.nii.gz-0.500000', 'mean-p032-belly.nii.gz-0.500000', 'std-p032-belly.nii.gz-0.500000', 'skew-p032-belly.nii.gz-0.500000', 'kurt-p032-belly.nii.gz-0.500000', 'hist-0-p032-belly.nii.gz-0.500000', 'hist-1-p032-belly.nii.gz-0.500000', 'hist-2-p032-belly.nii.gz-0.500000', 'hist-3-p032-belly.nii.gz-0.500000', 'hist-4-p032-belly.nii.gz-0.500000', 'hist-5-p032-belly.nii.gz-0.500000', 'hist-6-p032-belly.nii.gz-0.500000', 'hist-7-p032-belly.nii.gz-0.500000', 'hist-8-p032-belly.nii.gz-0.500000', 'hist-9-p032-belly.nii.gz-0.500000', 'hist-10-p032-belly.nii.gz-0.500000', 'hist-11-p032-belly.nii.gz-0.500000', 'hist-12-p032-belly.nii.gz-0.500000', 'hist-13-p032-belly.nii.gz-0.500000', 'hist-14-p032-belly.nii.gz-0.500000', 'hist-15-p032-belly.nii.gz-0.500000', 'hist-16-p032-belly.nii.gz-0.500000', 'hist-17-p032-belly.nii.gz-0.500000', 'hist-18-p032-belly.nii.gz-0.500000', 'hist-19-p032-belly.nii.gz-0.500000', 'num-p041-belly.nii.gz-0.500000', 'sum-p041-belly.nii.gz-0.500000', 'mean-p041-belly.nii.gz-0.500000', 'std-p041-belly.nii.gz-0.500000', 'skew-p041-belly.nii.gz-0.500000', 'kurt-p041-belly.nii.gz-0.500000', 'hist-0-p041-belly.nii.gz-0.500000', 'hist-1-p041-belly.nii.gz-0.500000', 'hist-2-p041-belly.nii.gz-0.500000', 'hist-3-p041-belly.nii.gz-0.500000', 'hist-4-p041-belly.nii.gz-0.500000', 'hist-5-p041-belly.nii.gz-0.500000', 'hist-6-p041-belly.nii.gz-0.500000', 'hist-7-p041-belly.nii.gz-0.500000', 'hist-8-p041-belly.nii.gz-0.500000', 'hist-9-p041-belly.nii.gz-0.500000', 'hist-10-p041-belly.nii.gz-0.500000', 'hist-11-p041-belly.nii.gz-0.500000', 'hist-12-p041-belly.nii.gz-0.500000', 'hist-13-p041-belly.nii.gz-0.500000', 'hist-14-p041-belly.nii.gz-0.500000', 'hist-15-p041-belly.nii.gz-0.500000', 'hist-16-p041-belly.nii.gz-0.500000', 'hist-17-p041-belly.nii.gz-0.500000', 'hist-18-p041-belly.nii.gz-0.500000', 'hist-19-p041-belly.nii.gz-0.500000', 'num-p048-belly.nii.gz-0.500000', 'sum-p048-belly.nii.gz-0.500000', 'mean-p048-belly.nii.gz-0.500000', 'std-p048-belly.nii.gz-0.500000', 'skew-p048-belly.nii.gz-0.500000', 'kurt-p048-belly.nii.gz-0.500000', 'hist-0-p048-belly.nii.gz-0.500000', 'hist-1-p048-belly.nii.gz-0.500000', 'hist-2-p048-belly.nii.gz-0.500000', 'hist-3-p048-belly.nii.gz-0.500000', 'hist-4-p048-belly.nii.gz-0.500000', 'hist-5-p048-belly.nii.gz-0.500000', 'hist-6-p048-belly.nii.gz-0.500000', 'hist-7-p048-belly.nii.gz-0.500000', 'hist-8-p048-belly.nii.gz-0.500000', 'hist-9-p048-belly.nii.gz-0.500000', 'hist-10-p048-belly.nii.gz-0.500000', 'hist-11-p048-belly.nii.gz-0.500000', 'hist-12-p048-belly.nii.gz-0.500000', 'hist-13-p048-belly.nii.gz-0.500000', 'hist-14-p048-belly.nii.gz-0.500000', 'hist-15-p048-belly.nii.gz-0.500000', 'hist-16-p048-belly.nii.gz-0.500000', 'hist-17-p048-belly.nii.gz-0.500000', 'hist-18-p048-belly.nii.gz-0.500000', 'hist-19-p048-belly.nii.gz-0.500000', 'num-0.500000-mean_mask', 'sum-0.500000-mean_mask', 'mean-0.500000-mean_mask', 'std-0.500000-mean_mask', 'skew-0.500000-mean_mask', 'kurt-0.500000-mean_mask', 'hist-0-0.500000-mean_mask', 'hist-1-0.500000-mean_mask', 'hist-2-0.500000-mean_mask', 'hist-3-0.500000-mean_mask', 'hist-4-0.500000-mean_mask', 'hist-5-0.500000-mean_mask', 'hist-6-0.500000-mean_mask', 'hist-7-0.500000-mean_mask', 'hist-8-0.500000-mean_mask', 'hist-9-0.500000-mean_mask', 'hist-10-0.500000-mean_mask', 'hist-11-0.500000-mean_mask', 'hist-12-0.500000-mean_mask', 'hist-13-0.500000-mean_mask', 'hist-14-0.500000-mean_mask', 'hist-15-0.500000-mean_mask', 'hist-16-0.500000-mean_mask', 'hist-17-0.500000-mean_mask', 'hist-18-0.500000-mean_mask', 'hist-19-0.500000-mean_mask'] \n",
      "Score: -0.6748661736900545\n"
     ]
    },
    {
     "name": "stderr",
     "output_type": "stream",
     "text": [
      "200it [00:00, 676.64it/s]\n"
     ]
    },
    {
     "name": "stdout",
     "output_type": "stream",
     "text": [
      "1\n",
      "1 0.6652725385465019\n",
      "Objective LassoRegression_Objective:\n"
     ]
    },
    {
     "name": "stderr",
     "output_type": "stream",
     "text": [
      "  6%|██▍                                     | 499/8000 [00:05<01:27, 85.40it/s]\n",
      "35it [00:00, 344.29it/s]"
     ]
    },
    {
     "name": "stdout",
     "output_type": "stream",
     "text": [
      "iterations: 499\n",
      "Number of used features: 157\n",
      "Used features: ['Unnamed: 0', 'num-p004-belly.nii.gz-0.500000', 'sum-p004-belly.nii.gz-0.500000', 'mean-p004-belly.nii.gz-0.500000', 'std-p004-belly.nii.gz-0.500000', 'skew-p004-belly.nii.gz-0.500000', 'kurt-p004-belly.nii.gz-0.500000', 'hist-0-p004-belly.nii.gz-0.500000', 'hist-1-p004-belly.nii.gz-0.500000', 'hist-2-p004-belly.nii.gz-0.500000', 'hist-3-p004-belly.nii.gz-0.500000', 'hist-4-p004-belly.nii.gz-0.500000', 'hist-5-p004-belly.nii.gz-0.500000', 'hist-6-p004-belly.nii.gz-0.500000', 'hist-7-p004-belly.nii.gz-0.500000', 'hist-8-p004-belly.nii.gz-0.500000', 'hist-9-p004-belly.nii.gz-0.500000', 'hist-10-p004-belly.nii.gz-0.500000', 'hist-11-p004-belly.nii.gz-0.500000', 'hist-12-p004-belly.nii.gz-0.500000', 'hist-13-p004-belly.nii.gz-0.500000', 'hist-14-p004-belly.nii.gz-0.500000', 'hist-15-p004-belly.nii.gz-0.500000', 'hist-16-p004-belly.nii.gz-0.500000', 'hist-17-p004-belly.nii.gz-0.500000', 'hist-18-p004-belly.nii.gz-0.500000', 'hist-19-p004-belly.nii.gz-0.500000', 'num-p029-belly.nii.gz-0.500000', 'sum-p029-belly.nii.gz-0.500000', 'mean-p029-belly.nii.gz-0.500000', 'std-p029-belly.nii.gz-0.500000', 'skew-p029-belly.nii.gz-0.500000', 'kurt-p029-belly.nii.gz-0.500000', 'hist-0-p029-belly.nii.gz-0.500000', 'hist-1-p029-belly.nii.gz-0.500000', 'hist-2-p029-belly.nii.gz-0.500000', 'hist-3-p029-belly.nii.gz-0.500000', 'hist-4-p029-belly.nii.gz-0.500000', 'hist-5-p029-belly.nii.gz-0.500000', 'hist-6-p029-belly.nii.gz-0.500000', 'hist-7-p029-belly.nii.gz-0.500000', 'hist-8-p029-belly.nii.gz-0.500000', 'hist-9-p029-belly.nii.gz-0.500000', 'hist-10-p029-belly.nii.gz-0.500000', 'hist-11-p029-belly.nii.gz-0.500000', 'hist-12-p029-belly.nii.gz-0.500000', 'hist-13-p029-belly.nii.gz-0.500000', 'hist-14-p029-belly.nii.gz-0.500000', 'hist-15-p029-belly.nii.gz-0.500000', 'hist-16-p029-belly.nii.gz-0.500000', 'hist-17-p029-belly.nii.gz-0.500000', 'hist-18-p029-belly.nii.gz-0.500000', 'hist-19-p029-belly.nii.gz-0.500000', 'num-p032-belly.nii.gz-0.500000', 'sum-p032-belly.nii.gz-0.500000', 'mean-p032-belly.nii.gz-0.500000', 'std-p032-belly.nii.gz-0.500000', 'skew-p032-belly.nii.gz-0.500000', 'kurt-p032-belly.nii.gz-0.500000', 'hist-0-p032-belly.nii.gz-0.500000', 'hist-1-p032-belly.nii.gz-0.500000', 'hist-2-p032-belly.nii.gz-0.500000', 'hist-3-p032-belly.nii.gz-0.500000', 'hist-4-p032-belly.nii.gz-0.500000', 'hist-5-p032-belly.nii.gz-0.500000', 'hist-6-p032-belly.nii.gz-0.500000', 'hist-7-p032-belly.nii.gz-0.500000', 'hist-8-p032-belly.nii.gz-0.500000', 'hist-9-p032-belly.nii.gz-0.500000', 'hist-10-p032-belly.nii.gz-0.500000', 'hist-11-p032-belly.nii.gz-0.500000', 'hist-12-p032-belly.nii.gz-0.500000', 'hist-13-p032-belly.nii.gz-0.500000', 'hist-14-p032-belly.nii.gz-0.500000', 'hist-15-p032-belly.nii.gz-0.500000', 'hist-16-p032-belly.nii.gz-0.500000', 'hist-17-p032-belly.nii.gz-0.500000', 'hist-18-p032-belly.nii.gz-0.500000', 'hist-19-p032-belly.nii.gz-0.500000', 'num-p041-belly.nii.gz-0.500000', 'sum-p041-belly.nii.gz-0.500000', 'mean-p041-belly.nii.gz-0.500000', 'std-p041-belly.nii.gz-0.500000', 'skew-p041-belly.nii.gz-0.500000', 'kurt-p041-belly.nii.gz-0.500000', 'hist-0-p041-belly.nii.gz-0.500000', 'hist-1-p041-belly.nii.gz-0.500000', 'hist-2-p041-belly.nii.gz-0.500000', 'hist-3-p041-belly.nii.gz-0.500000', 'hist-4-p041-belly.nii.gz-0.500000', 'hist-5-p041-belly.nii.gz-0.500000', 'hist-6-p041-belly.nii.gz-0.500000', 'hist-7-p041-belly.nii.gz-0.500000', 'hist-8-p041-belly.nii.gz-0.500000', 'hist-9-p041-belly.nii.gz-0.500000', 'hist-10-p041-belly.nii.gz-0.500000', 'hist-11-p041-belly.nii.gz-0.500000', 'hist-12-p041-belly.nii.gz-0.500000', 'hist-13-p041-belly.nii.gz-0.500000', 'hist-14-p041-belly.nii.gz-0.500000', 'hist-15-p041-belly.nii.gz-0.500000', 'hist-16-p041-belly.nii.gz-0.500000', 'hist-17-p041-belly.nii.gz-0.500000', 'hist-18-p041-belly.nii.gz-0.500000', 'hist-19-p041-belly.nii.gz-0.500000', 'num-p048-belly.nii.gz-0.500000', 'sum-p048-belly.nii.gz-0.500000', 'mean-p048-belly.nii.gz-0.500000', 'std-p048-belly.nii.gz-0.500000', 'skew-p048-belly.nii.gz-0.500000', 'kurt-p048-belly.nii.gz-0.500000', 'hist-0-p048-belly.nii.gz-0.500000', 'hist-1-p048-belly.nii.gz-0.500000', 'hist-2-p048-belly.nii.gz-0.500000', 'hist-3-p048-belly.nii.gz-0.500000', 'hist-4-p048-belly.nii.gz-0.500000', 'hist-5-p048-belly.nii.gz-0.500000', 'hist-6-p048-belly.nii.gz-0.500000', 'hist-7-p048-belly.nii.gz-0.500000', 'hist-8-p048-belly.nii.gz-0.500000', 'hist-9-p048-belly.nii.gz-0.500000', 'hist-10-p048-belly.nii.gz-0.500000', 'hist-11-p048-belly.nii.gz-0.500000', 'hist-12-p048-belly.nii.gz-0.500000', 'hist-13-p048-belly.nii.gz-0.500000', 'hist-14-p048-belly.nii.gz-0.500000', 'hist-15-p048-belly.nii.gz-0.500000', 'hist-16-p048-belly.nii.gz-0.500000', 'hist-17-p048-belly.nii.gz-0.500000', 'hist-18-p048-belly.nii.gz-0.500000', 'hist-19-p048-belly.nii.gz-0.500000', 'num-0.500000-mean_mask', 'sum-0.500000-mean_mask', 'mean-0.500000-mean_mask', 'std-0.500000-mean_mask', 'skew-0.500000-mean_mask', 'kurt-0.500000-mean_mask', 'hist-0-0.500000-mean_mask', 'hist-1-0.500000-mean_mask', 'hist-2-0.500000-mean_mask', 'hist-3-0.500000-mean_mask', 'hist-4-0.500000-mean_mask', 'hist-5-0.500000-mean_mask', 'hist-6-0.500000-mean_mask', 'hist-7-0.500000-mean_mask', 'hist-8-0.500000-mean_mask', 'hist-9-0.500000-mean_mask', 'hist-10-0.500000-mean_mask', 'hist-11-0.500000-mean_mask', 'hist-12-0.500000-mean_mask', 'hist-13-0.500000-mean_mask', 'hist-14-0.500000-mean_mask', 'hist-15-0.500000-mean_mask', 'hist-16-0.500000-mean_mask', 'hist-17-0.500000-mean_mask', 'hist-18-0.500000-mean_mask', 'hist-19-0.500000-mean_mask'] \n",
      "Score: -0.8573539669059692\n"
     ]
    },
    {
     "name": "stderr",
     "output_type": "stream",
     "text": [
      "200it [00:00, 343.02it/s]\n",
      "  0%|                                                  | 0/8000 [00:00<?, ?it/s]"
     ]
    },
    {
     "name": "stdout",
     "output_type": "stream",
     "text": [
      "1\n",
      "1 0.8687377318910929\n",
      "Objective RidgeRegression_Objective:\n"
     ]
    },
    {
     "name": "stderr",
     "output_type": "stream",
     "text": [
      "  6%|██▍                                    | 499/8000 [00:01<00:23, 318.36it/s]\n",
      "43it [00:00, 424.67it/s]"
     ]
    },
    {
     "name": "stdout",
     "output_type": "stream",
     "text": [
      "iterations: 499\n",
      "Number of used features: 157\n",
      "Used features: ['Unnamed: 0', 'num-p004-belly.nii.gz-0.500000', 'sum-p004-belly.nii.gz-0.500000', 'mean-p004-belly.nii.gz-0.500000', 'std-p004-belly.nii.gz-0.500000', 'skew-p004-belly.nii.gz-0.500000', 'kurt-p004-belly.nii.gz-0.500000', 'hist-0-p004-belly.nii.gz-0.500000', 'hist-1-p004-belly.nii.gz-0.500000', 'hist-2-p004-belly.nii.gz-0.500000', 'hist-3-p004-belly.nii.gz-0.500000', 'hist-4-p004-belly.nii.gz-0.500000', 'hist-5-p004-belly.nii.gz-0.500000', 'hist-6-p004-belly.nii.gz-0.500000', 'hist-7-p004-belly.nii.gz-0.500000', 'hist-8-p004-belly.nii.gz-0.500000', 'hist-9-p004-belly.nii.gz-0.500000', 'hist-10-p004-belly.nii.gz-0.500000', 'hist-11-p004-belly.nii.gz-0.500000', 'hist-12-p004-belly.nii.gz-0.500000', 'hist-13-p004-belly.nii.gz-0.500000', 'hist-14-p004-belly.nii.gz-0.500000', 'hist-15-p004-belly.nii.gz-0.500000', 'hist-16-p004-belly.nii.gz-0.500000', 'hist-17-p004-belly.nii.gz-0.500000', 'hist-18-p004-belly.nii.gz-0.500000', 'hist-19-p004-belly.nii.gz-0.500000', 'num-p029-belly.nii.gz-0.500000', 'sum-p029-belly.nii.gz-0.500000', 'mean-p029-belly.nii.gz-0.500000', 'std-p029-belly.nii.gz-0.500000', 'skew-p029-belly.nii.gz-0.500000', 'kurt-p029-belly.nii.gz-0.500000', 'hist-0-p029-belly.nii.gz-0.500000', 'hist-1-p029-belly.nii.gz-0.500000', 'hist-2-p029-belly.nii.gz-0.500000', 'hist-3-p029-belly.nii.gz-0.500000', 'hist-4-p029-belly.nii.gz-0.500000', 'hist-5-p029-belly.nii.gz-0.500000', 'hist-6-p029-belly.nii.gz-0.500000', 'hist-7-p029-belly.nii.gz-0.500000', 'hist-8-p029-belly.nii.gz-0.500000', 'hist-9-p029-belly.nii.gz-0.500000', 'hist-10-p029-belly.nii.gz-0.500000', 'hist-11-p029-belly.nii.gz-0.500000', 'hist-12-p029-belly.nii.gz-0.500000', 'hist-13-p029-belly.nii.gz-0.500000', 'hist-14-p029-belly.nii.gz-0.500000', 'hist-15-p029-belly.nii.gz-0.500000', 'hist-16-p029-belly.nii.gz-0.500000', 'hist-17-p029-belly.nii.gz-0.500000', 'hist-18-p029-belly.nii.gz-0.500000', 'hist-19-p029-belly.nii.gz-0.500000', 'num-p032-belly.nii.gz-0.500000', 'sum-p032-belly.nii.gz-0.500000', 'mean-p032-belly.nii.gz-0.500000', 'std-p032-belly.nii.gz-0.500000', 'skew-p032-belly.nii.gz-0.500000', 'kurt-p032-belly.nii.gz-0.500000', 'hist-0-p032-belly.nii.gz-0.500000', 'hist-1-p032-belly.nii.gz-0.500000', 'hist-2-p032-belly.nii.gz-0.500000', 'hist-3-p032-belly.nii.gz-0.500000', 'hist-4-p032-belly.nii.gz-0.500000', 'hist-5-p032-belly.nii.gz-0.500000', 'hist-6-p032-belly.nii.gz-0.500000', 'hist-7-p032-belly.nii.gz-0.500000', 'hist-8-p032-belly.nii.gz-0.500000', 'hist-9-p032-belly.nii.gz-0.500000', 'hist-10-p032-belly.nii.gz-0.500000', 'hist-11-p032-belly.nii.gz-0.500000', 'hist-12-p032-belly.nii.gz-0.500000', 'hist-13-p032-belly.nii.gz-0.500000', 'hist-14-p032-belly.nii.gz-0.500000', 'hist-15-p032-belly.nii.gz-0.500000', 'hist-16-p032-belly.nii.gz-0.500000', 'hist-17-p032-belly.nii.gz-0.500000', 'hist-18-p032-belly.nii.gz-0.500000', 'hist-19-p032-belly.nii.gz-0.500000', 'num-p041-belly.nii.gz-0.500000', 'sum-p041-belly.nii.gz-0.500000', 'mean-p041-belly.nii.gz-0.500000', 'std-p041-belly.nii.gz-0.500000', 'skew-p041-belly.nii.gz-0.500000', 'kurt-p041-belly.nii.gz-0.500000', 'hist-0-p041-belly.nii.gz-0.500000', 'hist-1-p041-belly.nii.gz-0.500000', 'hist-2-p041-belly.nii.gz-0.500000', 'hist-3-p041-belly.nii.gz-0.500000', 'hist-4-p041-belly.nii.gz-0.500000', 'hist-5-p041-belly.nii.gz-0.500000', 'hist-6-p041-belly.nii.gz-0.500000', 'hist-7-p041-belly.nii.gz-0.500000', 'hist-8-p041-belly.nii.gz-0.500000', 'hist-9-p041-belly.nii.gz-0.500000', 'hist-10-p041-belly.nii.gz-0.500000', 'hist-11-p041-belly.nii.gz-0.500000', 'hist-12-p041-belly.nii.gz-0.500000', 'hist-13-p041-belly.nii.gz-0.500000', 'hist-14-p041-belly.nii.gz-0.500000', 'hist-15-p041-belly.nii.gz-0.500000', 'hist-16-p041-belly.nii.gz-0.500000', 'hist-17-p041-belly.nii.gz-0.500000', 'hist-18-p041-belly.nii.gz-0.500000', 'hist-19-p041-belly.nii.gz-0.500000', 'num-p048-belly.nii.gz-0.500000', 'sum-p048-belly.nii.gz-0.500000', 'mean-p048-belly.nii.gz-0.500000', 'std-p048-belly.nii.gz-0.500000', 'skew-p048-belly.nii.gz-0.500000', 'kurt-p048-belly.nii.gz-0.500000', 'hist-0-p048-belly.nii.gz-0.500000', 'hist-1-p048-belly.nii.gz-0.500000', 'hist-2-p048-belly.nii.gz-0.500000', 'hist-3-p048-belly.nii.gz-0.500000', 'hist-4-p048-belly.nii.gz-0.500000', 'hist-5-p048-belly.nii.gz-0.500000', 'hist-6-p048-belly.nii.gz-0.500000', 'hist-7-p048-belly.nii.gz-0.500000', 'hist-8-p048-belly.nii.gz-0.500000', 'hist-9-p048-belly.nii.gz-0.500000', 'hist-10-p048-belly.nii.gz-0.500000', 'hist-11-p048-belly.nii.gz-0.500000', 'hist-12-p048-belly.nii.gz-0.500000', 'hist-13-p048-belly.nii.gz-0.500000', 'hist-14-p048-belly.nii.gz-0.500000', 'hist-15-p048-belly.nii.gz-0.500000', 'hist-16-p048-belly.nii.gz-0.500000', 'hist-17-p048-belly.nii.gz-0.500000', 'hist-18-p048-belly.nii.gz-0.500000', 'hist-19-p048-belly.nii.gz-0.500000', 'num-0.500000-mean_mask', 'sum-0.500000-mean_mask', 'mean-0.500000-mean_mask', 'std-0.500000-mean_mask', 'skew-0.500000-mean_mask', 'kurt-0.500000-mean_mask', 'hist-0-0.500000-mean_mask', 'hist-1-0.500000-mean_mask', 'hist-2-0.500000-mean_mask', 'hist-3-0.500000-mean_mask', 'hist-4-0.500000-mean_mask', 'hist-5-0.500000-mean_mask', 'hist-6-0.500000-mean_mask', 'hist-7-0.500000-mean_mask', 'hist-8-0.500000-mean_mask', 'hist-9-0.500000-mean_mask', 'hist-10-0.500000-mean_mask', 'hist-11-0.500000-mean_mask', 'hist-12-0.500000-mean_mask', 'hist-13-0.500000-mean_mask', 'hist-14-0.500000-mean_mask', 'hist-15-0.500000-mean_mask', 'hist-16-0.500000-mean_mask', 'hist-17-0.500000-mean_mask', 'hist-18-0.500000-mean_mask', 'hist-19-0.500000-mean_mask'] \n",
      "Score: -0.8400104976535246\n"
     ]
    },
    {
     "name": "stderr",
     "output_type": "stream",
     "text": [
      "200it [00:00, 375.81it/s]\n"
     ]
    },
    {
     "name": "stdout",
     "output_type": "stream",
     "text": [
      "1\n",
      "1 0.8446210845520659\n",
      "Objective PLSRegression_Objective:\n"
     ]
    },
    {
     "name": "stderr",
     "output_type": "stream",
     "text": [
      "  6%|██▍                                    | 502/8000 [00:01<00:29, 251.45it/s]\n",
      "70it [00:00, 692.12it/s]"
     ]
    },
    {
     "name": "stdout",
     "output_type": "stream",
     "text": [
      "iterations: 502\n",
      "Number of used features: 157\n",
      "Used features: ['Unnamed: 0', 'num-p004-belly.nii.gz-0.500000', 'sum-p004-belly.nii.gz-0.500000', 'mean-p004-belly.nii.gz-0.500000', 'std-p004-belly.nii.gz-0.500000', 'skew-p004-belly.nii.gz-0.500000', 'kurt-p004-belly.nii.gz-0.500000', 'hist-0-p004-belly.nii.gz-0.500000', 'hist-1-p004-belly.nii.gz-0.500000', 'hist-2-p004-belly.nii.gz-0.500000', 'hist-3-p004-belly.nii.gz-0.500000', 'hist-4-p004-belly.nii.gz-0.500000', 'hist-5-p004-belly.nii.gz-0.500000', 'hist-6-p004-belly.nii.gz-0.500000', 'hist-7-p004-belly.nii.gz-0.500000', 'hist-8-p004-belly.nii.gz-0.500000', 'hist-9-p004-belly.nii.gz-0.500000', 'hist-10-p004-belly.nii.gz-0.500000', 'hist-11-p004-belly.nii.gz-0.500000', 'hist-12-p004-belly.nii.gz-0.500000', 'hist-13-p004-belly.nii.gz-0.500000', 'hist-14-p004-belly.nii.gz-0.500000', 'hist-15-p004-belly.nii.gz-0.500000', 'hist-16-p004-belly.nii.gz-0.500000', 'hist-17-p004-belly.nii.gz-0.500000', 'hist-18-p004-belly.nii.gz-0.500000', 'hist-19-p004-belly.nii.gz-0.500000', 'num-p029-belly.nii.gz-0.500000', 'sum-p029-belly.nii.gz-0.500000', 'mean-p029-belly.nii.gz-0.500000', 'std-p029-belly.nii.gz-0.500000', 'skew-p029-belly.nii.gz-0.500000', 'kurt-p029-belly.nii.gz-0.500000', 'hist-0-p029-belly.nii.gz-0.500000', 'hist-1-p029-belly.nii.gz-0.500000', 'hist-2-p029-belly.nii.gz-0.500000', 'hist-3-p029-belly.nii.gz-0.500000', 'hist-4-p029-belly.nii.gz-0.500000', 'hist-5-p029-belly.nii.gz-0.500000', 'hist-6-p029-belly.nii.gz-0.500000', 'hist-7-p029-belly.nii.gz-0.500000', 'hist-8-p029-belly.nii.gz-0.500000', 'hist-9-p029-belly.nii.gz-0.500000', 'hist-10-p029-belly.nii.gz-0.500000', 'hist-11-p029-belly.nii.gz-0.500000', 'hist-12-p029-belly.nii.gz-0.500000', 'hist-13-p029-belly.nii.gz-0.500000', 'hist-14-p029-belly.nii.gz-0.500000', 'hist-15-p029-belly.nii.gz-0.500000', 'hist-16-p029-belly.nii.gz-0.500000', 'hist-17-p029-belly.nii.gz-0.500000', 'hist-18-p029-belly.nii.gz-0.500000', 'hist-19-p029-belly.nii.gz-0.500000', 'num-p032-belly.nii.gz-0.500000', 'sum-p032-belly.nii.gz-0.500000', 'mean-p032-belly.nii.gz-0.500000', 'std-p032-belly.nii.gz-0.500000', 'skew-p032-belly.nii.gz-0.500000', 'kurt-p032-belly.nii.gz-0.500000', 'hist-0-p032-belly.nii.gz-0.500000', 'hist-1-p032-belly.nii.gz-0.500000', 'hist-2-p032-belly.nii.gz-0.500000', 'hist-3-p032-belly.nii.gz-0.500000', 'hist-4-p032-belly.nii.gz-0.500000', 'hist-5-p032-belly.nii.gz-0.500000', 'hist-6-p032-belly.nii.gz-0.500000', 'hist-7-p032-belly.nii.gz-0.500000', 'hist-8-p032-belly.nii.gz-0.500000', 'hist-9-p032-belly.nii.gz-0.500000', 'hist-10-p032-belly.nii.gz-0.500000', 'hist-11-p032-belly.nii.gz-0.500000', 'hist-12-p032-belly.nii.gz-0.500000', 'hist-13-p032-belly.nii.gz-0.500000', 'hist-14-p032-belly.nii.gz-0.500000', 'hist-15-p032-belly.nii.gz-0.500000', 'hist-16-p032-belly.nii.gz-0.500000', 'hist-17-p032-belly.nii.gz-0.500000', 'hist-18-p032-belly.nii.gz-0.500000', 'hist-19-p032-belly.nii.gz-0.500000', 'num-p041-belly.nii.gz-0.500000', 'sum-p041-belly.nii.gz-0.500000', 'mean-p041-belly.nii.gz-0.500000', 'std-p041-belly.nii.gz-0.500000', 'skew-p041-belly.nii.gz-0.500000', 'kurt-p041-belly.nii.gz-0.500000', 'hist-0-p041-belly.nii.gz-0.500000', 'hist-1-p041-belly.nii.gz-0.500000', 'hist-2-p041-belly.nii.gz-0.500000', 'hist-3-p041-belly.nii.gz-0.500000', 'hist-4-p041-belly.nii.gz-0.500000', 'hist-5-p041-belly.nii.gz-0.500000', 'hist-6-p041-belly.nii.gz-0.500000', 'hist-7-p041-belly.nii.gz-0.500000', 'hist-8-p041-belly.nii.gz-0.500000', 'hist-9-p041-belly.nii.gz-0.500000', 'hist-10-p041-belly.nii.gz-0.500000', 'hist-11-p041-belly.nii.gz-0.500000', 'hist-12-p041-belly.nii.gz-0.500000', 'hist-13-p041-belly.nii.gz-0.500000', 'hist-14-p041-belly.nii.gz-0.500000', 'hist-15-p041-belly.nii.gz-0.500000', 'hist-16-p041-belly.nii.gz-0.500000', 'hist-17-p041-belly.nii.gz-0.500000', 'hist-18-p041-belly.nii.gz-0.500000', 'hist-19-p041-belly.nii.gz-0.500000', 'num-p048-belly.nii.gz-0.500000', 'sum-p048-belly.nii.gz-0.500000', 'mean-p048-belly.nii.gz-0.500000', 'std-p048-belly.nii.gz-0.500000', 'skew-p048-belly.nii.gz-0.500000', 'kurt-p048-belly.nii.gz-0.500000', 'hist-0-p048-belly.nii.gz-0.500000', 'hist-1-p048-belly.nii.gz-0.500000', 'hist-2-p048-belly.nii.gz-0.500000', 'hist-3-p048-belly.nii.gz-0.500000', 'hist-4-p048-belly.nii.gz-0.500000', 'hist-5-p048-belly.nii.gz-0.500000', 'hist-6-p048-belly.nii.gz-0.500000', 'hist-7-p048-belly.nii.gz-0.500000', 'hist-8-p048-belly.nii.gz-0.500000', 'hist-9-p048-belly.nii.gz-0.500000', 'hist-10-p048-belly.nii.gz-0.500000', 'hist-11-p048-belly.nii.gz-0.500000', 'hist-12-p048-belly.nii.gz-0.500000', 'hist-13-p048-belly.nii.gz-0.500000', 'hist-14-p048-belly.nii.gz-0.500000', 'hist-15-p048-belly.nii.gz-0.500000', 'hist-16-p048-belly.nii.gz-0.500000', 'hist-17-p048-belly.nii.gz-0.500000', 'hist-18-p048-belly.nii.gz-0.500000', 'hist-19-p048-belly.nii.gz-0.500000', 'num-0.500000-mean_mask', 'sum-0.500000-mean_mask', 'mean-0.500000-mean_mask', 'std-0.500000-mean_mask', 'skew-0.500000-mean_mask', 'kurt-0.500000-mean_mask', 'hist-0-0.500000-mean_mask', 'hist-1-0.500000-mean_mask', 'hist-2-0.500000-mean_mask', 'hist-3-0.500000-mean_mask', 'hist-4-0.500000-mean_mask', 'hist-5-0.500000-mean_mask', 'hist-6-0.500000-mean_mask', 'hist-7-0.500000-mean_mask', 'hist-8-0.500000-mean_mask', 'hist-9-0.500000-mean_mask', 'hist-10-0.500000-mean_mask', 'hist-11-0.500000-mean_mask', 'hist-12-0.500000-mean_mask', 'hist-13-0.500000-mean_mask', 'hist-14-0.500000-mean_mask', 'hist-15-0.500000-mean_mask', 'hist-16-0.500000-mean_mask', 'hist-17-0.500000-mean_mask', 'hist-18-0.500000-mean_mask', 'hist-19-0.500000-mean_mask'] \n",
      "Score: -0.8642685988675581\n"
     ]
    },
    {
     "name": "stderr",
     "output_type": "stream",
     "text": [
      "200it [00:00, 694.04it/s]"
     ]
    },
    {
     "name": "stdout",
     "output_type": "stream",
     "text": [
      "1\n",
      "1 0.8713017012539173\n"
     ]
    },
    {
     "name": "stderr",
     "output_type": "stream",
     "text": [
      "\n"
     ]
    }
   ],
   "source": [
    "results_no_fs.append(model_selection(belly_features, belly_target, dataset='belly', type='all', disable_feature_selection=True))"
   ]
  },
  {
   "cell_type": "markdown",
   "metadata": {},
   "source": [
    "### belly mean mask"
   ]
  },
  {
   "cell_type": "code",
   "execution_count": 35,
   "metadata": {},
   "outputs": [
    {
     "name": "stderr",
     "output_type": "stream",
     "text": [
      "\r",
      "  0%|                                                  | 0/8000 [00:00<?, ?it/s]"
     ]
    },
    {
     "name": "stdout",
     "output_type": "stream",
     "text": [
      "Objective KNNR_Objective:\n"
     ]
    },
    {
     "name": "stderr",
     "output_type": "stream",
     "text": [
      "  7%|██▋                                     | 527/8000 [00:14<03:23, 36.79it/s]\n",
      "79it [00:00, 782.00it/s]"
     ]
    },
    {
     "name": "stdout",
     "output_type": "stream",
     "text": [
      "iterations: 527\n",
      "Number of used features: 26\n",
      "Used features: ['num-0.500000-mean_mask', 'sum-0.500000-mean_mask', 'mean-0.500000-mean_mask', 'std-0.500000-mean_mask', 'skew-0.500000-mean_mask', 'kurt-0.500000-mean_mask', 'hist-0-0.500000-mean_mask', 'hist-1-0.500000-mean_mask', 'hist-2-0.500000-mean_mask', 'hist-3-0.500000-mean_mask', 'hist-4-0.500000-mean_mask', 'hist-5-0.500000-mean_mask', 'hist-6-0.500000-mean_mask', 'hist-7-0.500000-mean_mask', 'hist-8-0.500000-mean_mask', 'hist-9-0.500000-mean_mask', 'hist-10-0.500000-mean_mask', 'hist-11-0.500000-mean_mask', 'hist-12-0.500000-mean_mask', 'hist-13-0.500000-mean_mask', 'hist-14-0.500000-mean_mask', 'hist-15-0.500000-mean_mask', 'hist-16-0.500000-mean_mask', 'hist-17-0.500000-mean_mask', 'hist-18-0.500000-mean_mask', 'hist-19-0.500000-mean_mask'] \n",
      "Score: -0.7226689224084646\n"
     ]
    },
    {
     "name": "stderr",
     "output_type": "stream",
     "text": [
      "200it [00:00, 786.72it/s]\n",
      "  0%|                                                  | 0/8000 [00:00<?, ?it/s]"
     ]
    },
    {
     "name": "stdout",
     "output_type": "stream",
     "text": [
      "1\n",
      "1 0.7263901050061443\n",
      "Objective LinearRegression_Objective:\n"
     ]
    },
    {
     "name": "stderr",
     "output_type": "stream",
     "text": [
      "  6%|██▎                                   | 499/8000 [00:00<00:02, 3566.84it/s]\n",
      "90it [00:00, 899.94it/s]"
     ]
    },
    {
     "name": "stdout",
     "output_type": "stream",
     "text": [
      "iterations: 499\n",
      "Number of used features: 26\n",
      "Used features: ['num-0.500000-mean_mask', 'sum-0.500000-mean_mask', 'mean-0.500000-mean_mask', 'std-0.500000-mean_mask', 'skew-0.500000-mean_mask', 'kurt-0.500000-mean_mask', 'hist-0-0.500000-mean_mask', 'hist-1-0.500000-mean_mask', 'hist-2-0.500000-mean_mask', 'hist-3-0.500000-mean_mask', 'hist-4-0.500000-mean_mask', 'hist-5-0.500000-mean_mask', 'hist-6-0.500000-mean_mask', 'hist-7-0.500000-mean_mask', 'hist-8-0.500000-mean_mask', 'hist-9-0.500000-mean_mask', 'hist-10-0.500000-mean_mask', 'hist-11-0.500000-mean_mask', 'hist-12-0.500000-mean_mask', 'hist-13-0.500000-mean_mask', 'hist-14-0.500000-mean_mask', 'hist-15-0.500000-mean_mask', 'hist-16-0.500000-mean_mask', 'hist-17-0.500000-mean_mask', 'hist-18-0.500000-mean_mask', 'hist-19-0.500000-mean_mask'] \n",
      "Score: -0.3956807125969518\n"
     ]
    },
    {
     "name": "stderr",
     "output_type": "stream",
     "text": [
      "200it [00:00, 896.24it/s]\n",
      "  0%|                                                  | 0/8000 [00:00<?, ?it/s]"
     ]
    },
    {
     "name": "stdout",
     "output_type": "stream",
     "text": [
      "1\n",
      "1 0.6368204333445396\n",
      "Objective LassoRegression_Objective:\n"
     ]
    },
    {
     "name": "stderr",
     "output_type": "stream",
     "text": [
      "  6%|██▍                                    | 499/8000 [00:02<00:32, 229.87it/s]\n",
      "62it [00:00, 614.99it/s]"
     ]
    },
    {
     "name": "stdout",
     "output_type": "stream",
     "text": [
      "iterations: 499\n",
      "Number of used features: 26\n",
      "Used features: ['num-0.500000-mean_mask', 'sum-0.500000-mean_mask', 'mean-0.500000-mean_mask', 'std-0.500000-mean_mask', 'skew-0.500000-mean_mask', 'kurt-0.500000-mean_mask', 'hist-0-0.500000-mean_mask', 'hist-1-0.500000-mean_mask', 'hist-2-0.500000-mean_mask', 'hist-3-0.500000-mean_mask', 'hist-4-0.500000-mean_mask', 'hist-5-0.500000-mean_mask', 'hist-6-0.500000-mean_mask', 'hist-7-0.500000-mean_mask', 'hist-8-0.500000-mean_mask', 'hist-9-0.500000-mean_mask', 'hist-10-0.500000-mean_mask', 'hist-11-0.500000-mean_mask', 'hist-12-0.500000-mean_mask', 'hist-13-0.500000-mean_mask', 'hist-14-0.500000-mean_mask', 'hist-15-0.500000-mean_mask', 'hist-16-0.500000-mean_mask', 'hist-17-0.500000-mean_mask', 'hist-18-0.500000-mean_mask', 'hist-19-0.500000-mean_mask'] \n",
      "Score: -0.8743387718900788\n"
     ]
    },
    {
     "name": "stderr",
     "output_type": "stream",
     "text": [
      "200it [00:00, 609.30it/s]\n",
      "  0%|                                                  | 0/8000 [00:00<?, ?it/s]"
     ]
    },
    {
     "name": "stdout",
     "output_type": "stream",
     "text": [
      "1\n",
      "1 0.8823820689961802\n",
      "Objective RidgeRegression_Objective:\n"
     ]
    },
    {
     "name": "stderr",
     "output_type": "stream",
     "text": [
      "  6%|██▍                                    | 499/8000 [00:01<00:20, 373.00it/s]\n",
      "69it [00:00, 683.59it/s]"
     ]
    },
    {
     "name": "stdout",
     "output_type": "stream",
     "text": [
      "iterations: 499\n",
      "Number of used features: 26\n",
      "Used features: ['num-0.500000-mean_mask', 'sum-0.500000-mean_mask', 'mean-0.500000-mean_mask', 'std-0.500000-mean_mask', 'skew-0.500000-mean_mask', 'kurt-0.500000-mean_mask', 'hist-0-0.500000-mean_mask', 'hist-1-0.500000-mean_mask', 'hist-2-0.500000-mean_mask', 'hist-3-0.500000-mean_mask', 'hist-4-0.500000-mean_mask', 'hist-5-0.500000-mean_mask', 'hist-6-0.500000-mean_mask', 'hist-7-0.500000-mean_mask', 'hist-8-0.500000-mean_mask', 'hist-9-0.500000-mean_mask', 'hist-10-0.500000-mean_mask', 'hist-11-0.500000-mean_mask', 'hist-12-0.500000-mean_mask', 'hist-13-0.500000-mean_mask', 'hist-14-0.500000-mean_mask', 'hist-15-0.500000-mean_mask', 'hist-16-0.500000-mean_mask', 'hist-17-0.500000-mean_mask', 'hist-18-0.500000-mean_mask', 'hist-19-0.500000-mean_mask'] \n",
      "Score: -0.8589211161728388\n"
     ]
    },
    {
     "name": "stderr",
     "output_type": "stream",
     "text": [
      "200it [00:00, 683.73it/s]\n",
      "  0%|                                                  | 0/8000 [00:00<?, ?it/s]"
     ]
    },
    {
     "name": "stdout",
     "output_type": "stream",
     "text": [
      "1\n",
      "1 0.8646155777499759\n",
      "Objective PLSRegression_Objective:\n"
     ]
    },
    {
     "name": "stderr",
     "output_type": "stream",
     "text": [
      "  6%|██▍                                   | 502/8000 [00:00<00:06, 1098.18it/s]\n",
      "79it [00:00, 785.97it/s]"
     ]
    },
    {
     "name": "stdout",
     "output_type": "stream",
     "text": [
      "iterations: 502\n",
      "Number of used features: 26\n",
      "Used features: ['num-0.500000-mean_mask', 'sum-0.500000-mean_mask', 'mean-0.500000-mean_mask', 'std-0.500000-mean_mask', 'skew-0.500000-mean_mask', 'kurt-0.500000-mean_mask', 'hist-0-0.500000-mean_mask', 'hist-1-0.500000-mean_mask', 'hist-2-0.500000-mean_mask', 'hist-3-0.500000-mean_mask', 'hist-4-0.500000-mean_mask', 'hist-5-0.500000-mean_mask', 'hist-6-0.500000-mean_mask', 'hist-7-0.500000-mean_mask', 'hist-8-0.500000-mean_mask', 'hist-9-0.500000-mean_mask', 'hist-10-0.500000-mean_mask', 'hist-11-0.500000-mean_mask', 'hist-12-0.500000-mean_mask', 'hist-13-0.500000-mean_mask', 'hist-14-0.500000-mean_mask', 'hist-15-0.500000-mean_mask', 'hist-16-0.500000-mean_mask', 'hist-17-0.500000-mean_mask', 'hist-18-0.500000-mean_mask', 'hist-19-0.500000-mean_mask'] \n",
      "Score: -0.850562098613609\n"
     ]
    },
    {
     "name": "stderr",
     "output_type": "stream",
     "text": [
      "200it [00:00, 784.83it/s]"
     ]
    },
    {
     "name": "stdout",
     "output_type": "stream",
     "text": [
      "1\n",
      "1 0.8544444583222339\n"
     ]
    },
    {
     "name": "stderr",
     "output_type": "stream",
     "text": [
      "\n"
     ]
    }
   ],
   "source": [
    "results_no_fs.append(model_selection(belly_features[[c for c in belly_features.columns if 'mean_mask' in c or c == 'type']], belly_target, dataset='belly', type='mean_mask', disable_feature_selection=True))"
   ]
  },
  {
   "cell_type": "markdown",
   "metadata": {},
   "source": [
    "### belly individual masks"
   ]
  },
  {
   "cell_type": "code",
   "execution_count": 36,
   "metadata": {},
   "outputs": [
    {
     "name": "stderr",
     "output_type": "stream",
     "text": [
      "\r",
      "  0%|                                                  | 0/8000 [00:00<?, ?it/s]"
     ]
    },
    {
     "name": "stdout",
     "output_type": "stream",
     "text": [
      "Objective KNNR_Objective:\n"
     ]
    },
    {
     "name": "stderr",
     "output_type": "stream",
     "text": [
      "  8%|███                                     | 603/8000 [00:14<03:02, 40.46it/s]\n",
      "80it [00:00, 789.70it/s]"
     ]
    },
    {
     "name": "stdout",
     "output_type": "stream",
     "text": [
      "iterations: 603\n",
      "Number of used features: 26\n",
      "Used features: ['num-p004-belly.nii.gz-0.500000', 'sum-p004-belly.nii.gz-0.500000', 'mean-p004-belly.nii.gz-0.500000', 'std-p004-belly.nii.gz-0.500000', 'skew-p004-belly.nii.gz-0.500000', 'kurt-p004-belly.nii.gz-0.500000', 'hist-0-p004-belly.nii.gz-0.500000', 'hist-1-p004-belly.nii.gz-0.500000', 'hist-2-p004-belly.nii.gz-0.500000', 'hist-3-p004-belly.nii.gz-0.500000', 'hist-4-p004-belly.nii.gz-0.500000', 'hist-5-p004-belly.nii.gz-0.500000', 'hist-6-p004-belly.nii.gz-0.500000', 'hist-7-p004-belly.nii.gz-0.500000', 'hist-8-p004-belly.nii.gz-0.500000', 'hist-9-p004-belly.nii.gz-0.500000', 'hist-10-p004-belly.nii.gz-0.500000', 'hist-11-p004-belly.nii.gz-0.500000', 'hist-12-p004-belly.nii.gz-0.500000', 'hist-13-p004-belly.nii.gz-0.500000', 'hist-14-p004-belly.nii.gz-0.500000', 'hist-15-p004-belly.nii.gz-0.500000', 'hist-16-p004-belly.nii.gz-0.500000', 'hist-17-p004-belly.nii.gz-0.500000', 'hist-18-p004-belly.nii.gz-0.500000', 'hist-19-p004-belly.nii.gz-0.500000'] \n",
      "Score: -0.6177028583657025\n"
     ]
    },
    {
     "name": "stderr",
     "output_type": "stream",
     "text": [
      "200it [00:00, 787.23it/s]\n",
      "  0%|                                                  | 0/8000 [00:00<?, ?it/s]"
     ]
    },
    {
     "name": "stdout",
     "output_type": "stream",
     "text": [
      "1\n",
      "1 0.6390394681090359\n",
      "Objective LinearRegression_Objective:\n"
     ]
    },
    {
     "name": "stderr",
     "output_type": "stream",
     "text": [
      "  6%|██▎                                   | 499/8000 [00:00<00:02, 3564.81it/s]\n",
      "88it [00:00, 875.06it/s]"
     ]
    },
    {
     "name": "stdout",
     "output_type": "stream",
     "text": [
      "iterations: 499\n",
      "Number of used features: 26\n",
      "Used features: ['num-p004-belly.nii.gz-0.500000', 'sum-p004-belly.nii.gz-0.500000', 'mean-p004-belly.nii.gz-0.500000', 'std-p004-belly.nii.gz-0.500000', 'skew-p004-belly.nii.gz-0.500000', 'kurt-p004-belly.nii.gz-0.500000', 'hist-0-p004-belly.nii.gz-0.500000', 'hist-1-p004-belly.nii.gz-0.500000', 'hist-2-p004-belly.nii.gz-0.500000', 'hist-3-p004-belly.nii.gz-0.500000', 'hist-4-p004-belly.nii.gz-0.500000', 'hist-5-p004-belly.nii.gz-0.500000', 'hist-6-p004-belly.nii.gz-0.500000', 'hist-7-p004-belly.nii.gz-0.500000', 'hist-8-p004-belly.nii.gz-0.500000', 'hist-9-p004-belly.nii.gz-0.500000', 'hist-10-p004-belly.nii.gz-0.500000', 'hist-11-p004-belly.nii.gz-0.500000', 'hist-12-p004-belly.nii.gz-0.500000', 'hist-13-p004-belly.nii.gz-0.500000', 'hist-14-p004-belly.nii.gz-0.500000', 'hist-15-p004-belly.nii.gz-0.500000', 'hist-16-p004-belly.nii.gz-0.500000', 'hist-17-p004-belly.nii.gz-0.500000', 'hist-18-p004-belly.nii.gz-0.500000', 'hist-19-p004-belly.nii.gz-0.500000'] \n",
      "Score: -0.30177925375920334\n"
     ]
    },
    {
     "name": "stderr",
     "output_type": "stream",
     "text": [
      "200it [00:00, 878.87it/s]\n",
      "  0%|                                                  | 0/8000 [00:00<?, ?it/s]"
     ]
    },
    {
     "name": "stdout",
     "output_type": "stream",
     "text": [
      "1\n",
      "1 0.6409033712523191\n",
      "Objective LassoRegression_Objective:\n"
     ]
    },
    {
     "name": "stderr",
     "output_type": "stream",
     "text": [
      "  6%|██▍                                    | 499/8000 [00:02<00:33, 222.26it/s]\n",
      "62it [00:00, 613.06it/s]"
     ]
    },
    {
     "name": "stdout",
     "output_type": "stream",
     "text": [
      "iterations: 499\n",
      "Number of used features: 26\n",
      "Used features: ['num-p004-belly.nii.gz-0.500000', 'sum-p004-belly.nii.gz-0.500000', 'mean-p004-belly.nii.gz-0.500000', 'std-p004-belly.nii.gz-0.500000', 'skew-p004-belly.nii.gz-0.500000', 'kurt-p004-belly.nii.gz-0.500000', 'hist-0-p004-belly.nii.gz-0.500000', 'hist-1-p004-belly.nii.gz-0.500000', 'hist-2-p004-belly.nii.gz-0.500000', 'hist-3-p004-belly.nii.gz-0.500000', 'hist-4-p004-belly.nii.gz-0.500000', 'hist-5-p004-belly.nii.gz-0.500000', 'hist-6-p004-belly.nii.gz-0.500000', 'hist-7-p004-belly.nii.gz-0.500000', 'hist-8-p004-belly.nii.gz-0.500000', 'hist-9-p004-belly.nii.gz-0.500000', 'hist-10-p004-belly.nii.gz-0.500000', 'hist-11-p004-belly.nii.gz-0.500000', 'hist-12-p004-belly.nii.gz-0.500000', 'hist-13-p004-belly.nii.gz-0.500000', 'hist-14-p004-belly.nii.gz-0.500000', 'hist-15-p004-belly.nii.gz-0.500000', 'hist-16-p004-belly.nii.gz-0.500000', 'hist-17-p004-belly.nii.gz-0.500000', 'hist-18-p004-belly.nii.gz-0.500000', 'hist-19-p004-belly.nii.gz-0.500000'] \n",
      "Score: -0.807286235932654\n"
     ]
    },
    {
     "name": "stderr",
     "output_type": "stream",
     "text": [
      "200it [00:00, 611.08it/s]\n",
      "  0%|                                                  | 0/8000 [00:00<?, ?it/s]"
     ]
    },
    {
     "name": "stdout",
     "output_type": "stream",
     "text": [
      "1\n",
      "1 0.829952700099034\n",
      "Objective RidgeRegression_Objective:\n"
     ]
    },
    {
     "name": "stderr",
     "output_type": "stream",
     "text": [
      "  6%|██▍                                    | 499/8000 [00:01<00:27, 270.89it/s]\n",
      "50it [00:00, 495.30it/s]"
     ]
    },
    {
     "name": "stdout",
     "output_type": "stream",
     "text": [
      "iterations: 499\n",
      "Number of used features: 26\n",
      "Used features: ['num-p004-belly.nii.gz-0.500000', 'sum-p004-belly.nii.gz-0.500000', 'mean-p004-belly.nii.gz-0.500000', 'std-p004-belly.nii.gz-0.500000', 'skew-p004-belly.nii.gz-0.500000', 'kurt-p004-belly.nii.gz-0.500000', 'hist-0-p004-belly.nii.gz-0.500000', 'hist-1-p004-belly.nii.gz-0.500000', 'hist-2-p004-belly.nii.gz-0.500000', 'hist-3-p004-belly.nii.gz-0.500000', 'hist-4-p004-belly.nii.gz-0.500000', 'hist-5-p004-belly.nii.gz-0.500000', 'hist-6-p004-belly.nii.gz-0.500000', 'hist-7-p004-belly.nii.gz-0.500000', 'hist-8-p004-belly.nii.gz-0.500000', 'hist-9-p004-belly.nii.gz-0.500000', 'hist-10-p004-belly.nii.gz-0.500000', 'hist-11-p004-belly.nii.gz-0.500000', 'hist-12-p004-belly.nii.gz-0.500000', 'hist-13-p004-belly.nii.gz-0.500000', 'hist-14-p004-belly.nii.gz-0.500000', 'hist-15-p004-belly.nii.gz-0.500000', 'hist-16-p004-belly.nii.gz-0.500000', 'hist-17-p004-belly.nii.gz-0.500000', 'hist-18-p004-belly.nii.gz-0.500000', 'hist-19-p004-belly.nii.gz-0.500000'] \n",
      "Score: -0.7972668371791091\n"
     ]
    },
    {
     "name": "stderr",
     "output_type": "stream",
     "text": [
      "200it [00:00, 493.57it/s]\n",
      "  0%|                                                  | 0/8000 [00:00<?, ?it/s]"
     ]
    },
    {
     "name": "stdout",
     "output_type": "stream",
     "text": [
      "1\n",
      "1 0.8095614998314565\n",
      "Objective PLSRegression_Objective:\n"
     ]
    },
    {
     "name": "stderr",
     "output_type": "stream",
     "text": [
      "  6%|██▍                                   | 507/8000 [00:00<00:06, 1086.61it/s]\n",
      "67it [00:00, 661.29it/s]"
     ]
    },
    {
     "name": "stdout",
     "output_type": "stream",
     "text": [
      "iterations: 507\n",
      "Number of used features: 26\n",
      "Used features: ['num-p004-belly.nii.gz-0.500000', 'sum-p004-belly.nii.gz-0.500000', 'mean-p004-belly.nii.gz-0.500000', 'std-p004-belly.nii.gz-0.500000', 'skew-p004-belly.nii.gz-0.500000', 'kurt-p004-belly.nii.gz-0.500000', 'hist-0-p004-belly.nii.gz-0.500000', 'hist-1-p004-belly.nii.gz-0.500000', 'hist-2-p004-belly.nii.gz-0.500000', 'hist-3-p004-belly.nii.gz-0.500000', 'hist-4-p004-belly.nii.gz-0.500000', 'hist-5-p004-belly.nii.gz-0.500000', 'hist-6-p004-belly.nii.gz-0.500000', 'hist-7-p004-belly.nii.gz-0.500000', 'hist-8-p004-belly.nii.gz-0.500000', 'hist-9-p004-belly.nii.gz-0.500000', 'hist-10-p004-belly.nii.gz-0.500000', 'hist-11-p004-belly.nii.gz-0.500000', 'hist-12-p004-belly.nii.gz-0.500000', 'hist-13-p004-belly.nii.gz-0.500000', 'hist-14-p004-belly.nii.gz-0.500000', 'hist-15-p004-belly.nii.gz-0.500000', 'hist-16-p004-belly.nii.gz-0.500000', 'hist-17-p004-belly.nii.gz-0.500000', 'hist-18-p004-belly.nii.gz-0.500000', 'hist-19-p004-belly.nii.gz-0.500000'] \n",
      "Score: -0.7926067619022105\n"
     ]
    },
    {
     "name": "stderr",
     "output_type": "stream",
     "text": [
      "200it [00:00, 668.50it/s]\n",
      "  0%|                                                  | 0/8000 [00:00<?, ?it/s]"
     ]
    },
    {
     "name": "stdout",
     "output_type": "stream",
     "text": [
      "1\n",
      "1 0.810346061989901\n",
      "Objective KNNR_Objective:\n"
     ]
    },
    {
     "name": "stderr",
     "output_type": "stream",
     "text": [
      "  7%|██▋                                     | 529/8000 [00:14<03:22, 36.88it/s]\n",
      "77it [00:00, 768.46it/s]"
     ]
    },
    {
     "name": "stdout",
     "output_type": "stream",
     "text": [
      "iterations: 529\n",
      "Number of used features: 26\n",
      "Used features: ['num-p029-belly.nii.gz-0.500000', 'sum-p029-belly.nii.gz-0.500000', 'mean-p029-belly.nii.gz-0.500000', 'std-p029-belly.nii.gz-0.500000', 'skew-p029-belly.nii.gz-0.500000', 'kurt-p029-belly.nii.gz-0.500000', 'hist-0-p029-belly.nii.gz-0.500000', 'hist-1-p029-belly.nii.gz-0.500000', 'hist-2-p029-belly.nii.gz-0.500000', 'hist-3-p029-belly.nii.gz-0.500000', 'hist-4-p029-belly.nii.gz-0.500000', 'hist-5-p029-belly.nii.gz-0.500000', 'hist-6-p029-belly.nii.gz-0.500000', 'hist-7-p029-belly.nii.gz-0.500000', 'hist-8-p029-belly.nii.gz-0.500000', 'hist-9-p029-belly.nii.gz-0.500000', 'hist-10-p029-belly.nii.gz-0.500000', 'hist-11-p029-belly.nii.gz-0.500000', 'hist-12-p029-belly.nii.gz-0.500000', 'hist-13-p029-belly.nii.gz-0.500000', 'hist-14-p029-belly.nii.gz-0.500000', 'hist-15-p029-belly.nii.gz-0.500000', 'hist-16-p029-belly.nii.gz-0.500000', 'hist-17-p029-belly.nii.gz-0.500000', 'hist-18-p029-belly.nii.gz-0.500000', 'hist-19-p029-belly.nii.gz-0.500000'] \n",
      "Score: -0.6574335896870891\n"
     ]
    },
    {
     "name": "stderr",
     "output_type": "stream",
     "text": [
      "200it [00:00, 765.34it/s]\n",
      "  0%|                                                  | 0/8000 [00:00<?, ?it/s]"
     ]
    },
    {
     "name": "stdout",
     "output_type": "stream",
     "text": [
      "1\n",
      "1 0.6773642745527186\n",
      "Objective LinearRegression_Objective:\n"
     ]
    },
    {
     "name": "stderr",
     "output_type": "stream",
     "text": [
      "  6%|██▎                                   | 499/8000 [00:00<00:02, 3194.00it/s]\n",
      "85it [00:00, 843.96it/s]"
     ]
    },
    {
     "name": "stdout",
     "output_type": "stream",
     "text": [
      "iterations: 499\n",
      "Number of used features: 26\n",
      "Used features: ['num-p029-belly.nii.gz-0.500000', 'sum-p029-belly.nii.gz-0.500000', 'mean-p029-belly.nii.gz-0.500000', 'std-p029-belly.nii.gz-0.500000', 'skew-p029-belly.nii.gz-0.500000', 'kurt-p029-belly.nii.gz-0.500000', 'hist-0-p029-belly.nii.gz-0.500000', 'hist-1-p029-belly.nii.gz-0.500000', 'hist-2-p029-belly.nii.gz-0.500000', 'hist-3-p029-belly.nii.gz-0.500000', 'hist-4-p029-belly.nii.gz-0.500000', 'hist-5-p029-belly.nii.gz-0.500000', 'hist-6-p029-belly.nii.gz-0.500000', 'hist-7-p029-belly.nii.gz-0.500000', 'hist-8-p029-belly.nii.gz-0.500000', 'hist-9-p029-belly.nii.gz-0.500000', 'hist-10-p029-belly.nii.gz-0.500000', 'hist-11-p029-belly.nii.gz-0.500000', 'hist-12-p029-belly.nii.gz-0.500000', 'hist-13-p029-belly.nii.gz-0.500000', 'hist-14-p029-belly.nii.gz-0.500000', 'hist-15-p029-belly.nii.gz-0.500000', 'hist-16-p029-belly.nii.gz-0.500000', 'hist-17-p029-belly.nii.gz-0.500000', 'hist-18-p029-belly.nii.gz-0.500000', 'hist-19-p029-belly.nii.gz-0.500000'] \n",
      "Score: -0.429506850253899\n"
     ]
    },
    {
     "name": "stderr",
     "output_type": "stream",
     "text": [
      "200it [00:00, 858.17it/s]\n",
      "  0%|                                                  | 0/8000 [00:00<?, ?it/s]"
     ]
    },
    {
     "name": "stdout",
     "output_type": "stream",
     "text": [
      "1\n",
      "1 0.6058752641206482\n",
      "Objective LassoRegression_Objective:\n"
     ]
    },
    {
     "name": "stderr",
     "output_type": "stream",
     "text": [
      "  6%|██▍                                    | 499/8000 [00:02<00:33, 225.10it/s]\n",
      "61it [00:00, 602.93it/s]"
     ]
    },
    {
     "name": "stdout",
     "output_type": "stream",
     "text": [
      "iterations: 499\n",
      "Number of used features: 26\n",
      "Used features: ['num-p029-belly.nii.gz-0.500000', 'sum-p029-belly.nii.gz-0.500000', 'mean-p029-belly.nii.gz-0.500000', 'std-p029-belly.nii.gz-0.500000', 'skew-p029-belly.nii.gz-0.500000', 'kurt-p029-belly.nii.gz-0.500000', 'hist-0-p029-belly.nii.gz-0.500000', 'hist-1-p029-belly.nii.gz-0.500000', 'hist-2-p029-belly.nii.gz-0.500000', 'hist-3-p029-belly.nii.gz-0.500000', 'hist-4-p029-belly.nii.gz-0.500000', 'hist-5-p029-belly.nii.gz-0.500000', 'hist-6-p029-belly.nii.gz-0.500000', 'hist-7-p029-belly.nii.gz-0.500000', 'hist-8-p029-belly.nii.gz-0.500000', 'hist-9-p029-belly.nii.gz-0.500000', 'hist-10-p029-belly.nii.gz-0.500000', 'hist-11-p029-belly.nii.gz-0.500000', 'hist-12-p029-belly.nii.gz-0.500000', 'hist-13-p029-belly.nii.gz-0.500000', 'hist-14-p029-belly.nii.gz-0.500000', 'hist-15-p029-belly.nii.gz-0.500000', 'hist-16-p029-belly.nii.gz-0.500000', 'hist-17-p029-belly.nii.gz-0.500000', 'hist-18-p029-belly.nii.gz-0.500000', 'hist-19-p029-belly.nii.gz-0.500000'] \n",
      "Score: -0.8735345053662908\n"
     ]
    },
    {
     "name": "stderr",
     "output_type": "stream",
     "text": [
      "200it [00:00, 588.90it/s]\n",
      "  0%|                                                  | 0/8000 [00:00<?, ?it/s]"
     ]
    },
    {
     "name": "stdout",
     "output_type": "stream",
     "text": [
      "1\n",
      "1 0.8846882123124169\n",
      "Objective RidgeRegression_Objective:\n"
     ]
    },
    {
     "name": "stderr",
     "output_type": "stream",
     "text": [
      "  6%|██▍                                    | 499/8000 [00:01<00:20, 363.80it/s]\n",
      "49it [00:00, 488.12it/s]"
     ]
    },
    {
     "name": "stdout",
     "output_type": "stream",
     "text": [
      "iterations: 499\n",
      "Number of used features: 26\n",
      "Used features: ['num-p029-belly.nii.gz-0.500000', 'sum-p029-belly.nii.gz-0.500000', 'mean-p029-belly.nii.gz-0.500000', 'std-p029-belly.nii.gz-0.500000', 'skew-p029-belly.nii.gz-0.500000', 'kurt-p029-belly.nii.gz-0.500000', 'hist-0-p029-belly.nii.gz-0.500000', 'hist-1-p029-belly.nii.gz-0.500000', 'hist-2-p029-belly.nii.gz-0.500000', 'hist-3-p029-belly.nii.gz-0.500000', 'hist-4-p029-belly.nii.gz-0.500000', 'hist-5-p029-belly.nii.gz-0.500000', 'hist-6-p029-belly.nii.gz-0.500000', 'hist-7-p029-belly.nii.gz-0.500000', 'hist-8-p029-belly.nii.gz-0.500000', 'hist-9-p029-belly.nii.gz-0.500000', 'hist-10-p029-belly.nii.gz-0.500000', 'hist-11-p029-belly.nii.gz-0.500000', 'hist-12-p029-belly.nii.gz-0.500000', 'hist-13-p029-belly.nii.gz-0.500000', 'hist-14-p029-belly.nii.gz-0.500000', 'hist-15-p029-belly.nii.gz-0.500000', 'hist-16-p029-belly.nii.gz-0.500000', 'hist-17-p029-belly.nii.gz-0.500000', 'hist-18-p029-belly.nii.gz-0.500000', 'hist-19-p029-belly.nii.gz-0.500000'] \n",
      "Score: -0.8647308476651931\n"
     ]
    },
    {
     "name": "stderr",
     "output_type": "stream",
     "text": [
      "200it [00:00, 470.75it/s]\n",
      "  0%|                                                  | 0/8000 [00:00<?, ?it/s]"
     ]
    },
    {
     "name": "stdout",
     "output_type": "stream",
     "text": [
      "1\n",
      "1 0.8774172956450209\n",
      "Objective PLSRegression_Objective:\n"
     ]
    },
    {
     "name": "stderr",
     "output_type": "stream",
     "text": [
      "  6%|██▍                                   | 507/8000 [00:00<00:07, 1052.56it/s]\n",
      "58it [00:00, 579.52it/s]"
     ]
    },
    {
     "name": "stdout",
     "output_type": "stream",
     "text": [
      "iterations: 507\n",
      "Number of used features: 26\n",
      "Used features: ['num-p029-belly.nii.gz-0.500000', 'sum-p029-belly.nii.gz-0.500000', 'mean-p029-belly.nii.gz-0.500000', 'std-p029-belly.nii.gz-0.500000', 'skew-p029-belly.nii.gz-0.500000', 'kurt-p029-belly.nii.gz-0.500000', 'hist-0-p029-belly.nii.gz-0.500000', 'hist-1-p029-belly.nii.gz-0.500000', 'hist-2-p029-belly.nii.gz-0.500000', 'hist-3-p029-belly.nii.gz-0.500000', 'hist-4-p029-belly.nii.gz-0.500000', 'hist-5-p029-belly.nii.gz-0.500000', 'hist-6-p029-belly.nii.gz-0.500000', 'hist-7-p029-belly.nii.gz-0.500000', 'hist-8-p029-belly.nii.gz-0.500000', 'hist-9-p029-belly.nii.gz-0.500000', 'hist-10-p029-belly.nii.gz-0.500000', 'hist-11-p029-belly.nii.gz-0.500000', 'hist-12-p029-belly.nii.gz-0.500000', 'hist-13-p029-belly.nii.gz-0.500000', 'hist-14-p029-belly.nii.gz-0.500000', 'hist-15-p029-belly.nii.gz-0.500000', 'hist-16-p029-belly.nii.gz-0.500000', 'hist-17-p029-belly.nii.gz-0.500000', 'hist-18-p029-belly.nii.gz-0.500000', 'hist-19-p029-belly.nii.gz-0.500000'] \n",
      "Score: -0.8716196773677707\n"
     ]
    },
    {
     "name": "stderr",
     "output_type": "stream",
     "text": [
      "200it [00:00, 635.79it/s]\n",
      "  0%|                                                  | 0/8000 [00:00<?, ?it/s]"
     ]
    },
    {
     "name": "stdout",
     "output_type": "stream",
     "text": [
      "1\n",
      "1 0.8845861073642616\n",
      "Objective KNNR_Objective:\n"
     ]
    },
    {
     "name": "stderr",
     "output_type": "stream",
     "text": [
      "  7%|██▋                                     | 527/8000 [00:14<03:30, 35.47it/s]\n",
      "74it [00:00, 739.66it/s]"
     ]
    },
    {
     "name": "stdout",
     "output_type": "stream",
     "text": [
      "iterations: 527\n",
      "Number of used features: 26\n",
      "Used features: ['num-p032-belly.nii.gz-0.500000', 'sum-p032-belly.nii.gz-0.500000', 'mean-p032-belly.nii.gz-0.500000', 'std-p032-belly.nii.gz-0.500000', 'skew-p032-belly.nii.gz-0.500000', 'kurt-p032-belly.nii.gz-0.500000', 'hist-0-p032-belly.nii.gz-0.500000', 'hist-1-p032-belly.nii.gz-0.500000', 'hist-2-p032-belly.nii.gz-0.500000', 'hist-3-p032-belly.nii.gz-0.500000', 'hist-4-p032-belly.nii.gz-0.500000', 'hist-5-p032-belly.nii.gz-0.500000', 'hist-6-p032-belly.nii.gz-0.500000', 'hist-7-p032-belly.nii.gz-0.500000', 'hist-8-p032-belly.nii.gz-0.500000', 'hist-9-p032-belly.nii.gz-0.500000', 'hist-10-p032-belly.nii.gz-0.500000', 'hist-11-p032-belly.nii.gz-0.500000', 'hist-12-p032-belly.nii.gz-0.500000', 'hist-13-p032-belly.nii.gz-0.500000', 'hist-14-p032-belly.nii.gz-0.500000', 'hist-15-p032-belly.nii.gz-0.500000', 'hist-16-p032-belly.nii.gz-0.500000', 'hist-17-p032-belly.nii.gz-0.500000', 'hist-18-p032-belly.nii.gz-0.500000', 'hist-19-p032-belly.nii.gz-0.500000'] \n",
      "Score: -0.6743251660295737\n"
     ]
    },
    {
     "name": "stderr",
     "output_type": "stream",
     "text": [
      "200it [00:00, 734.23it/s]\n",
      "  0%|                                                  | 0/8000 [00:00<?, ?it/s]"
     ]
    },
    {
     "name": "stdout",
     "output_type": "stream",
     "text": [
      "1\n",
      "1 0.7059384163052355\n",
      "Objective LinearRegression_Objective:\n"
     ]
    },
    {
     "name": "stderr",
     "output_type": "stream",
     "text": [
      "  6%|██▎                                   | 499/8000 [00:00<00:02, 3543.76it/s]\n",
      "88it [00:00, 879.78it/s]"
     ]
    },
    {
     "name": "stdout",
     "output_type": "stream",
     "text": [
      "iterations: 499\n",
      "Number of used features: 26\n",
      "Used features: ['num-p032-belly.nii.gz-0.500000', 'sum-p032-belly.nii.gz-0.500000', 'mean-p032-belly.nii.gz-0.500000', 'std-p032-belly.nii.gz-0.500000', 'skew-p032-belly.nii.gz-0.500000', 'kurt-p032-belly.nii.gz-0.500000', 'hist-0-p032-belly.nii.gz-0.500000', 'hist-1-p032-belly.nii.gz-0.500000', 'hist-2-p032-belly.nii.gz-0.500000', 'hist-3-p032-belly.nii.gz-0.500000', 'hist-4-p032-belly.nii.gz-0.500000', 'hist-5-p032-belly.nii.gz-0.500000', 'hist-6-p032-belly.nii.gz-0.500000', 'hist-7-p032-belly.nii.gz-0.500000', 'hist-8-p032-belly.nii.gz-0.500000', 'hist-9-p032-belly.nii.gz-0.500000', 'hist-10-p032-belly.nii.gz-0.500000', 'hist-11-p032-belly.nii.gz-0.500000', 'hist-12-p032-belly.nii.gz-0.500000', 'hist-13-p032-belly.nii.gz-0.500000', 'hist-14-p032-belly.nii.gz-0.500000', 'hist-15-p032-belly.nii.gz-0.500000', 'hist-16-p032-belly.nii.gz-0.500000', 'hist-17-p032-belly.nii.gz-0.500000', 'hist-18-p032-belly.nii.gz-0.500000', 'hist-19-p032-belly.nii.gz-0.500000'] \n",
      "Score: -0.7046965089901656\n"
     ]
    },
    {
     "name": "stderr",
     "output_type": "stream",
     "text": [
      "200it [00:00, 873.85it/s]\n",
      "  0%|                                                  | 0/8000 [00:00<?, ?it/s]"
     ]
    },
    {
     "name": "stdout",
     "output_type": "stream",
     "text": [
      "1\n",
      "1 0.8105166807651922\n",
      "Objective LassoRegression_Objective:\n"
     ]
    },
    {
     "name": "stderr",
     "output_type": "stream",
     "text": [
      "  6%|██▍                                    | 499/8000 [00:02<00:32, 230.38it/s]\n",
      "60it [00:00, 596.87it/s]"
     ]
    },
    {
     "name": "stdout",
     "output_type": "stream",
     "text": [
      "iterations: 499\n",
      "Number of used features: 26\n",
      "Used features: ['num-p032-belly.nii.gz-0.500000', 'sum-p032-belly.nii.gz-0.500000', 'mean-p032-belly.nii.gz-0.500000', 'std-p032-belly.nii.gz-0.500000', 'skew-p032-belly.nii.gz-0.500000', 'kurt-p032-belly.nii.gz-0.500000', 'hist-0-p032-belly.nii.gz-0.500000', 'hist-1-p032-belly.nii.gz-0.500000', 'hist-2-p032-belly.nii.gz-0.500000', 'hist-3-p032-belly.nii.gz-0.500000', 'hist-4-p032-belly.nii.gz-0.500000', 'hist-5-p032-belly.nii.gz-0.500000', 'hist-6-p032-belly.nii.gz-0.500000', 'hist-7-p032-belly.nii.gz-0.500000', 'hist-8-p032-belly.nii.gz-0.500000', 'hist-9-p032-belly.nii.gz-0.500000', 'hist-10-p032-belly.nii.gz-0.500000', 'hist-11-p032-belly.nii.gz-0.500000', 'hist-12-p032-belly.nii.gz-0.500000', 'hist-13-p032-belly.nii.gz-0.500000', 'hist-14-p032-belly.nii.gz-0.500000', 'hist-15-p032-belly.nii.gz-0.500000', 'hist-16-p032-belly.nii.gz-0.500000', 'hist-17-p032-belly.nii.gz-0.500000', 'hist-18-p032-belly.nii.gz-0.500000', 'hist-19-p032-belly.nii.gz-0.500000'] \n",
      "Score: -0.9009661597210742\n"
     ]
    },
    {
     "name": "stderr",
     "output_type": "stream",
     "text": [
      "200it [00:00, 595.37it/s]\n",
      "  0%|                                                  | 0/8000 [00:00<?, ?it/s]"
     ]
    },
    {
     "name": "stdout",
     "output_type": "stream",
     "text": [
      "1\n",
      "1 0.903077706905364\n",
      "Objective RidgeRegression_Objective:\n"
     ]
    },
    {
     "name": "stderr",
     "output_type": "stream",
     "text": [
      "  6%|██▍                                    | 500/8000 [00:01<00:27, 269.20it/s]\n",
      "50it [00:00, 497.19it/s]"
     ]
    },
    {
     "name": "stdout",
     "output_type": "stream",
     "text": [
      "iterations: 500\n",
      "Number of used features: 26\n",
      "Used features: ['num-p032-belly.nii.gz-0.500000', 'sum-p032-belly.nii.gz-0.500000', 'mean-p032-belly.nii.gz-0.500000', 'std-p032-belly.nii.gz-0.500000', 'skew-p032-belly.nii.gz-0.500000', 'kurt-p032-belly.nii.gz-0.500000', 'hist-0-p032-belly.nii.gz-0.500000', 'hist-1-p032-belly.nii.gz-0.500000', 'hist-2-p032-belly.nii.gz-0.500000', 'hist-3-p032-belly.nii.gz-0.500000', 'hist-4-p032-belly.nii.gz-0.500000', 'hist-5-p032-belly.nii.gz-0.500000', 'hist-6-p032-belly.nii.gz-0.500000', 'hist-7-p032-belly.nii.gz-0.500000', 'hist-8-p032-belly.nii.gz-0.500000', 'hist-9-p032-belly.nii.gz-0.500000', 'hist-10-p032-belly.nii.gz-0.500000', 'hist-11-p032-belly.nii.gz-0.500000', 'hist-12-p032-belly.nii.gz-0.500000', 'hist-13-p032-belly.nii.gz-0.500000', 'hist-14-p032-belly.nii.gz-0.500000', 'hist-15-p032-belly.nii.gz-0.500000', 'hist-16-p032-belly.nii.gz-0.500000', 'hist-17-p032-belly.nii.gz-0.500000', 'hist-18-p032-belly.nii.gz-0.500000', 'hist-19-p032-belly.nii.gz-0.500000'] \n",
      "Score: -0.8881848042786126\n"
     ]
    },
    {
     "name": "stderr",
     "output_type": "stream",
     "text": [
      "200it [00:00, 494.68it/s]\n",
      "  0%|                                                  | 0/8000 [00:00<?, ?it/s]"
     ]
    },
    {
     "name": "stdout",
     "output_type": "stream",
     "text": [
      "1\n",
      "1 0.8922028871591337\n",
      "Objective PLSRegression_Objective:\n"
     ]
    },
    {
     "name": "stderr",
     "output_type": "stream",
     "text": [
      "  6%|██▍                                   | 507/8000 [00:00<00:06, 1095.10it/s]\n",
      "68it [00:00, 672.56it/s]"
     ]
    },
    {
     "name": "stdout",
     "output_type": "stream",
     "text": [
      "iterations: 507\n",
      "Number of used features: 26\n",
      "Used features: ['num-p032-belly.nii.gz-0.500000', 'sum-p032-belly.nii.gz-0.500000', 'mean-p032-belly.nii.gz-0.500000', 'std-p032-belly.nii.gz-0.500000', 'skew-p032-belly.nii.gz-0.500000', 'kurt-p032-belly.nii.gz-0.500000', 'hist-0-p032-belly.nii.gz-0.500000', 'hist-1-p032-belly.nii.gz-0.500000', 'hist-2-p032-belly.nii.gz-0.500000', 'hist-3-p032-belly.nii.gz-0.500000', 'hist-4-p032-belly.nii.gz-0.500000', 'hist-5-p032-belly.nii.gz-0.500000', 'hist-6-p032-belly.nii.gz-0.500000', 'hist-7-p032-belly.nii.gz-0.500000', 'hist-8-p032-belly.nii.gz-0.500000', 'hist-9-p032-belly.nii.gz-0.500000', 'hist-10-p032-belly.nii.gz-0.500000', 'hist-11-p032-belly.nii.gz-0.500000', 'hist-12-p032-belly.nii.gz-0.500000', 'hist-13-p032-belly.nii.gz-0.500000', 'hist-14-p032-belly.nii.gz-0.500000', 'hist-15-p032-belly.nii.gz-0.500000', 'hist-16-p032-belly.nii.gz-0.500000', 'hist-17-p032-belly.nii.gz-0.500000', 'hist-18-p032-belly.nii.gz-0.500000', 'hist-19-p032-belly.nii.gz-0.500000'] \n",
      "Score: -0.8824813585248944\n"
     ]
    },
    {
     "name": "stderr",
     "output_type": "stream",
     "text": [
      "200it [00:00, 674.20it/s]\n",
      "  0%|                                                  | 0/8000 [00:00<?, ?it/s]"
     ]
    },
    {
     "name": "stdout",
     "output_type": "stream",
     "text": [
      "1\n",
      "1 0.8864870022192217\n",
      "Objective KNNR_Objective:\n"
     ]
    },
    {
     "name": "stderr",
     "output_type": "stream",
     "text": [
      "  7%|██▋                                     | 545/8000 [00:15<03:26, 36.03it/s]\n",
      "76it [00:00, 751.04it/s]"
     ]
    },
    {
     "name": "stdout",
     "output_type": "stream",
     "text": [
      "iterations: 545\n",
      "Number of used features: 26\n",
      "Used features: ['num-p041-belly.nii.gz-0.500000', 'sum-p041-belly.nii.gz-0.500000', 'mean-p041-belly.nii.gz-0.500000', 'std-p041-belly.nii.gz-0.500000', 'skew-p041-belly.nii.gz-0.500000', 'kurt-p041-belly.nii.gz-0.500000', 'hist-0-p041-belly.nii.gz-0.500000', 'hist-1-p041-belly.nii.gz-0.500000', 'hist-2-p041-belly.nii.gz-0.500000', 'hist-3-p041-belly.nii.gz-0.500000', 'hist-4-p041-belly.nii.gz-0.500000', 'hist-5-p041-belly.nii.gz-0.500000', 'hist-6-p041-belly.nii.gz-0.500000', 'hist-7-p041-belly.nii.gz-0.500000', 'hist-8-p041-belly.nii.gz-0.500000', 'hist-9-p041-belly.nii.gz-0.500000', 'hist-10-p041-belly.nii.gz-0.500000', 'hist-11-p041-belly.nii.gz-0.500000', 'hist-12-p041-belly.nii.gz-0.500000', 'hist-13-p041-belly.nii.gz-0.500000', 'hist-14-p041-belly.nii.gz-0.500000', 'hist-15-p041-belly.nii.gz-0.500000', 'hist-16-p041-belly.nii.gz-0.500000', 'hist-17-p041-belly.nii.gz-0.500000', 'hist-18-p041-belly.nii.gz-0.500000', 'hist-19-p041-belly.nii.gz-0.500000'] \n",
      "Score: -0.7218154515221167\n"
     ]
    },
    {
     "name": "stderr",
     "output_type": "stream",
     "text": [
      "200it [00:00, 749.19it/s]\n",
      "  0%|                                                  | 0/8000 [00:00<?, ?it/s]"
     ]
    },
    {
     "name": "stdout",
     "output_type": "stream",
     "text": [
      "1\n",
      "1 0.7392050396691724\n",
      "Objective LinearRegression_Objective:\n"
     ]
    },
    {
     "name": "stderr",
     "output_type": "stream",
     "text": [
      "  6%|██▎                                   | 499/8000 [00:00<00:02, 3481.44it/s]\n",
      "87it [00:00, 860.57it/s]"
     ]
    },
    {
     "name": "stdout",
     "output_type": "stream",
     "text": [
      "iterations: 499\n",
      "Number of used features: 26\n",
      "Used features: ['num-p041-belly.nii.gz-0.500000', 'sum-p041-belly.nii.gz-0.500000', 'mean-p041-belly.nii.gz-0.500000', 'std-p041-belly.nii.gz-0.500000', 'skew-p041-belly.nii.gz-0.500000', 'kurt-p041-belly.nii.gz-0.500000', 'hist-0-p041-belly.nii.gz-0.500000', 'hist-1-p041-belly.nii.gz-0.500000', 'hist-2-p041-belly.nii.gz-0.500000', 'hist-3-p041-belly.nii.gz-0.500000', 'hist-4-p041-belly.nii.gz-0.500000', 'hist-5-p041-belly.nii.gz-0.500000', 'hist-6-p041-belly.nii.gz-0.500000', 'hist-7-p041-belly.nii.gz-0.500000', 'hist-8-p041-belly.nii.gz-0.500000', 'hist-9-p041-belly.nii.gz-0.500000', 'hist-10-p041-belly.nii.gz-0.500000', 'hist-11-p041-belly.nii.gz-0.500000', 'hist-12-p041-belly.nii.gz-0.500000', 'hist-13-p041-belly.nii.gz-0.500000', 'hist-14-p041-belly.nii.gz-0.500000', 'hist-15-p041-belly.nii.gz-0.500000', 'hist-16-p041-belly.nii.gz-0.500000', 'hist-17-p041-belly.nii.gz-0.500000', 'hist-18-p041-belly.nii.gz-0.500000', 'hist-19-p041-belly.nii.gz-0.500000'] \n",
      "Score: -0.6548543289756892\n"
     ]
    },
    {
     "name": "stderr",
     "output_type": "stream",
     "text": [
      "200it [00:00, 853.27it/s]\n",
      "  0%|                                                  | 0/8000 [00:00<?, ?it/s]"
     ]
    },
    {
     "name": "stdout",
     "output_type": "stream",
     "text": [
      "1\n",
      "1 0.7606620505047212\n",
      "Objective LassoRegression_Objective:\n"
     ]
    },
    {
     "name": "stderr",
     "output_type": "stream",
     "text": [
      "  6%|██▍                                    | 499/8000 [00:02<00:34, 215.36it/s]\n",
      "59it [00:00, 584.89it/s]"
     ]
    },
    {
     "name": "stdout",
     "output_type": "stream",
     "text": [
      "iterations: 499\n",
      "Number of used features: 26\n",
      "Used features: ['num-p041-belly.nii.gz-0.500000', 'sum-p041-belly.nii.gz-0.500000', 'mean-p041-belly.nii.gz-0.500000', 'std-p041-belly.nii.gz-0.500000', 'skew-p041-belly.nii.gz-0.500000', 'kurt-p041-belly.nii.gz-0.500000', 'hist-0-p041-belly.nii.gz-0.500000', 'hist-1-p041-belly.nii.gz-0.500000', 'hist-2-p041-belly.nii.gz-0.500000', 'hist-3-p041-belly.nii.gz-0.500000', 'hist-4-p041-belly.nii.gz-0.500000', 'hist-5-p041-belly.nii.gz-0.500000', 'hist-6-p041-belly.nii.gz-0.500000', 'hist-7-p041-belly.nii.gz-0.500000', 'hist-8-p041-belly.nii.gz-0.500000', 'hist-9-p041-belly.nii.gz-0.500000', 'hist-10-p041-belly.nii.gz-0.500000', 'hist-11-p041-belly.nii.gz-0.500000', 'hist-12-p041-belly.nii.gz-0.500000', 'hist-13-p041-belly.nii.gz-0.500000', 'hist-14-p041-belly.nii.gz-0.500000', 'hist-15-p041-belly.nii.gz-0.500000', 'hist-16-p041-belly.nii.gz-0.500000', 'hist-17-p041-belly.nii.gz-0.500000', 'hist-18-p041-belly.nii.gz-0.500000', 'hist-19-p041-belly.nii.gz-0.500000'] \n",
      "Score: -0.8627103140246751\n"
     ]
    },
    {
     "name": "stderr",
     "output_type": "stream",
     "text": [
      "200it [00:00, 586.34it/s]\n"
     ]
    },
    {
     "name": "stdout",
     "output_type": "stream",
     "text": [
      "1\n",
      "1 0.8736961441641331\n",
      "Objective RidgeRegression_Objective:\n"
     ]
    },
    {
     "name": "stderr",
     "output_type": "stream",
     "text": [
      "  6%|██▍                                    | 499/8000 [00:01<00:28, 265.05it/s]\n",
      "49it [00:00, 487.82it/s]"
     ]
    },
    {
     "name": "stdout",
     "output_type": "stream",
     "text": [
      "iterations: 499\n",
      "Number of used features: 26\n",
      "Used features: ['num-p041-belly.nii.gz-0.500000', 'sum-p041-belly.nii.gz-0.500000', 'mean-p041-belly.nii.gz-0.500000', 'std-p041-belly.nii.gz-0.500000', 'skew-p041-belly.nii.gz-0.500000', 'kurt-p041-belly.nii.gz-0.500000', 'hist-0-p041-belly.nii.gz-0.500000', 'hist-1-p041-belly.nii.gz-0.500000', 'hist-2-p041-belly.nii.gz-0.500000', 'hist-3-p041-belly.nii.gz-0.500000', 'hist-4-p041-belly.nii.gz-0.500000', 'hist-5-p041-belly.nii.gz-0.500000', 'hist-6-p041-belly.nii.gz-0.500000', 'hist-7-p041-belly.nii.gz-0.500000', 'hist-8-p041-belly.nii.gz-0.500000', 'hist-9-p041-belly.nii.gz-0.500000', 'hist-10-p041-belly.nii.gz-0.500000', 'hist-11-p041-belly.nii.gz-0.500000', 'hist-12-p041-belly.nii.gz-0.500000', 'hist-13-p041-belly.nii.gz-0.500000', 'hist-14-p041-belly.nii.gz-0.500000', 'hist-15-p041-belly.nii.gz-0.500000', 'hist-16-p041-belly.nii.gz-0.500000', 'hist-17-p041-belly.nii.gz-0.500000', 'hist-18-p041-belly.nii.gz-0.500000', 'hist-19-p041-belly.nii.gz-0.500000'] \n",
      "Score: -0.8613952200486128\n"
     ]
    },
    {
     "name": "stderr",
     "output_type": "stream",
     "text": [
      "200it [00:00, 486.88it/s]\n",
      "  0%|                                                  | 0/8000 [00:00<?, ?it/s]"
     ]
    },
    {
     "name": "stdout",
     "output_type": "stream",
     "text": [
      "1\n",
      "1 0.8700873000960906\n",
      "Objective PLSRegression_Objective:\n"
     ]
    },
    {
     "name": "stderr",
     "output_type": "stream",
     "text": [
      "  6%|██▍                                   | 507/8000 [00:00<00:06, 1072.56it/s]\n",
      "66it [00:00, 658.75it/s]"
     ]
    },
    {
     "name": "stdout",
     "output_type": "stream",
     "text": [
      "iterations: 507\n",
      "Number of used features: 26\n",
      "Used features: ['num-p041-belly.nii.gz-0.500000', 'sum-p041-belly.nii.gz-0.500000', 'mean-p041-belly.nii.gz-0.500000', 'std-p041-belly.nii.gz-0.500000', 'skew-p041-belly.nii.gz-0.500000', 'kurt-p041-belly.nii.gz-0.500000', 'hist-0-p041-belly.nii.gz-0.500000', 'hist-1-p041-belly.nii.gz-0.500000', 'hist-2-p041-belly.nii.gz-0.500000', 'hist-3-p041-belly.nii.gz-0.500000', 'hist-4-p041-belly.nii.gz-0.500000', 'hist-5-p041-belly.nii.gz-0.500000', 'hist-6-p041-belly.nii.gz-0.500000', 'hist-7-p041-belly.nii.gz-0.500000', 'hist-8-p041-belly.nii.gz-0.500000', 'hist-9-p041-belly.nii.gz-0.500000', 'hist-10-p041-belly.nii.gz-0.500000', 'hist-11-p041-belly.nii.gz-0.500000', 'hist-12-p041-belly.nii.gz-0.500000', 'hist-13-p041-belly.nii.gz-0.500000', 'hist-14-p041-belly.nii.gz-0.500000', 'hist-15-p041-belly.nii.gz-0.500000', 'hist-16-p041-belly.nii.gz-0.500000', 'hist-17-p041-belly.nii.gz-0.500000', 'hist-18-p041-belly.nii.gz-0.500000', 'hist-19-p041-belly.nii.gz-0.500000'] \n",
      "Score: -0.8624187315116706\n"
     ]
    },
    {
     "name": "stderr",
     "output_type": "stream",
     "text": [
      "200it [00:00, 659.50it/s]\n",
      "  0%|                                                  | 0/8000 [00:00<?, ?it/s]"
     ]
    },
    {
     "name": "stdout",
     "output_type": "stream",
     "text": [
      "1\n",
      "1 0.8708887914104754\n",
      "Objective KNNR_Objective:\n"
     ]
    },
    {
     "name": "stderr",
     "output_type": "stream",
     "text": [
      "  7%|██▊                                     | 563/8000 [00:15<03:26, 36.07it/s]\n",
      "74it [00:00, 733.21it/s]"
     ]
    },
    {
     "name": "stdout",
     "output_type": "stream",
     "text": [
      "iterations: 563\n",
      "Number of used features: 26\n",
      "Used features: ['num-p048-belly.nii.gz-0.500000', 'sum-p048-belly.nii.gz-0.500000', 'mean-p048-belly.nii.gz-0.500000', 'std-p048-belly.nii.gz-0.500000', 'skew-p048-belly.nii.gz-0.500000', 'kurt-p048-belly.nii.gz-0.500000', 'hist-0-p048-belly.nii.gz-0.500000', 'hist-1-p048-belly.nii.gz-0.500000', 'hist-2-p048-belly.nii.gz-0.500000', 'hist-3-p048-belly.nii.gz-0.500000', 'hist-4-p048-belly.nii.gz-0.500000', 'hist-5-p048-belly.nii.gz-0.500000', 'hist-6-p048-belly.nii.gz-0.500000', 'hist-7-p048-belly.nii.gz-0.500000', 'hist-8-p048-belly.nii.gz-0.500000', 'hist-9-p048-belly.nii.gz-0.500000', 'hist-10-p048-belly.nii.gz-0.500000', 'hist-11-p048-belly.nii.gz-0.500000', 'hist-12-p048-belly.nii.gz-0.500000', 'hist-13-p048-belly.nii.gz-0.500000', 'hist-14-p048-belly.nii.gz-0.500000', 'hist-15-p048-belly.nii.gz-0.500000', 'hist-16-p048-belly.nii.gz-0.500000', 'hist-17-p048-belly.nii.gz-0.500000', 'hist-18-p048-belly.nii.gz-0.500000', 'hist-19-p048-belly.nii.gz-0.500000'] \n",
      "Score: -0.7741050648280762\n"
     ]
    },
    {
     "name": "stderr",
     "output_type": "stream",
     "text": [
      "200it [00:00, 736.48it/s]\n",
      "  0%|                                                  | 0/8000 [00:00<?, ?it/s]"
     ]
    },
    {
     "name": "stdout",
     "output_type": "stream",
     "text": [
      "1\n",
      "1 0.8012300497158581\n",
      "Objective LinearRegression_Objective:\n"
     ]
    },
    {
     "name": "stderr",
     "output_type": "stream",
     "text": [
      "  6%|██▎                                   | 499/8000 [00:00<00:02, 3424.52it/s]\n",
      "87it [00:00, 863.96it/s]"
     ]
    },
    {
     "name": "stdout",
     "output_type": "stream",
     "text": [
      "iterations: 499\n",
      "Number of used features: 26\n",
      "Used features: ['num-p048-belly.nii.gz-0.500000', 'sum-p048-belly.nii.gz-0.500000', 'mean-p048-belly.nii.gz-0.500000', 'std-p048-belly.nii.gz-0.500000', 'skew-p048-belly.nii.gz-0.500000', 'kurt-p048-belly.nii.gz-0.500000', 'hist-0-p048-belly.nii.gz-0.500000', 'hist-1-p048-belly.nii.gz-0.500000', 'hist-2-p048-belly.nii.gz-0.500000', 'hist-3-p048-belly.nii.gz-0.500000', 'hist-4-p048-belly.nii.gz-0.500000', 'hist-5-p048-belly.nii.gz-0.500000', 'hist-6-p048-belly.nii.gz-0.500000', 'hist-7-p048-belly.nii.gz-0.500000', 'hist-8-p048-belly.nii.gz-0.500000', 'hist-9-p048-belly.nii.gz-0.500000', 'hist-10-p048-belly.nii.gz-0.500000', 'hist-11-p048-belly.nii.gz-0.500000', 'hist-12-p048-belly.nii.gz-0.500000', 'hist-13-p048-belly.nii.gz-0.500000', 'hist-14-p048-belly.nii.gz-0.500000', 'hist-15-p048-belly.nii.gz-0.500000', 'hist-16-p048-belly.nii.gz-0.500000', 'hist-17-p048-belly.nii.gz-0.500000', 'hist-18-p048-belly.nii.gz-0.500000', 'hist-19-p048-belly.nii.gz-0.500000'] \n",
      "Score: -0.2206433409142966\n"
     ]
    },
    {
     "name": "stderr",
     "output_type": "stream",
     "text": [
      "200it [00:00, 857.30it/s]\n",
      "  0%|                                                  | 0/8000 [00:00<?, ?it/s]"
     ]
    },
    {
     "name": "stdout",
     "output_type": "stream",
     "text": [
      "1\n",
      "1 0.5006005328413228\n",
      "Objective LassoRegression_Objective:\n"
     ]
    },
    {
     "name": "stderr",
     "output_type": "stream",
     "text": [
      "  6%|██▍                                    | 499/8000 [00:02<00:34, 218.18it/s]\n",
      "58it [00:00, 579.37it/s]"
     ]
    },
    {
     "name": "stdout",
     "output_type": "stream",
     "text": [
      "iterations: 499\n",
      "Number of used features: 26\n",
      "Used features: ['num-p048-belly.nii.gz-0.500000', 'sum-p048-belly.nii.gz-0.500000', 'mean-p048-belly.nii.gz-0.500000', 'std-p048-belly.nii.gz-0.500000', 'skew-p048-belly.nii.gz-0.500000', 'kurt-p048-belly.nii.gz-0.500000', 'hist-0-p048-belly.nii.gz-0.500000', 'hist-1-p048-belly.nii.gz-0.500000', 'hist-2-p048-belly.nii.gz-0.500000', 'hist-3-p048-belly.nii.gz-0.500000', 'hist-4-p048-belly.nii.gz-0.500000', 'hist-5-p048-belly.nii.gz-0.500000', 'hist-6-p048-belly.nii.gz-0.500000', 'hist-7-p048-belly.nii.gz-0.500000', 'hist-8-p048-belly.nii.gz-0.500000', 'hist-9-p048-belly.nii.gz-0.500000', 'hist-10-p048-belly.nii.gz-0.500000', 'hist-11-p048-belly.nii.gz-0.500000', 'hist-12-p048-belly.nii.gz-0.500000', 'hist-13-p048-belly.nii.gz-0.500000', 'hist-14-p048-belly.nii.gz-0.500000', 'hist-15-p048-belly.nii.gz-0.500000', 'hist-16-p048-belly.nii.gz-0.500000', 'hist-17-p048-belly.nii.gz-0.500000', 'hist-18-p048-belly.nii.gz-0.500000', 'hist-19-p048-belly.nii.gz-0.500000'] \n",
      "Score: -0.8111439612083096\n"
     ]
    },
    {
     "name": "stderr",
     "output_type": "stream",
     "text": [
      "200it [00:00, 577.22it/s]\n"
     ]
    },
    {
     "name": "stdout",
     "output_type": "stream",
     "text": [
      "1\n",
      "1 0.8193287702133822\n",
      "Objective RidgeRegression_Objective:\n"
     ]
    },
    {
     "name": "stderr",
     "output_type": "stream",
     "text": [
      "  6%|██▍                                    | 499/8000 [00:01<00:28, 263.15it/s]\n",
      "49it [00:00, 484.93it/s]"
     ]
    },
    {
     "name": "stdout",
     "output_type": "stream",
     "text": [
      "iterations: 499\n",
      "Number of used features: 26\n",
      "Used features: ['num-p048-belly.nii.gz-0.500000', 'sum-p048-belly.nii.gz-0.500000', 'mean-p048-belly.nii.gz-0.500000', 'std-p048-belly.nii.gz-0.500000', 'skew-p048-belly.nii.gz-0.500000', 'kurt-p048-belly.nii.gz-0.500000', 'hist-0-p048-belly.nii.gz-0.500000', 'hist-1-p048-belly.nii.gz-0.500000', 'hist-2-p048-belly.nii.gz-0.500000', 'hist-3-p048-belly.nii.gz-0.500000', 'hist-4-p048-belly.nii.gz-0.500000', 'hist-5-p048-belly.nii.gz-0.500000', 'hist-6-p048-belly.nii.gz-0.500000', 'hist-7-p048-belly.nii.gz-0.500000', 'hist-8-p048-belly.nii.gz-0.500000', 'hist-9-p048-belly.nii.gz-0.500000', 'hist-10-p048-belly.nii.gz-0.500000', 'hist-11-p048-belly.nii.gz-0.500000', 'hist-12-p048-belly.nii.gz-0.500000', 'hist-13-p048-belly.nii.gz-0.500000', 'hist-14-p048-belly.nii.gz-0.500000', 'hist-15-p048-belly.nii.gz-0.500000', 'hist-16-p048-belly.nii.gz-0.500000', 'hist-17-p048-belly.nii.gz-0.500000', 'hist-18-p048-belly.nii.gz-0.500000', 'hist-19-p048-belly.nii.gz-0.500000'] \n",
      "Score: -0.810975448518553\n"
     ]
    },
    {
     "name": "stderr",
     "output_type": "stream",
     "text": [
      "200it [00:00, 482.96it/s]\n",
      "  0%|                                                  | 0/8000 [00:00<?, ?it/s]"
     ]
    },
    {
     "name": "stdout",
     "output_type": "stream",
     "text": [
      "1\n",
      "1 0.8167401071024495\n",
      "Objective PLSRegression_Objective:\n"
     ]
    },
    {
     "name": "stderr",
     "output_type": "stream",
     "text": [
      "  6%|██▍                                   | 507/8000 [00:00<00:07, 1054.24it/s]\n",
      "67it [00:00, 661.28it/s]"
     ]
    },
    {
     "name": "stdout",
     "output_type": "stream",
     "text": [
      "iterations: 507\n",
      "Number of used features: 26\n",
      "Used features: ['num-p048-belly.nii.gz-0.500000', 'sum-p048-belly.nii.gz-0.500000', 'mean-p048-belly.nii.gz-0.500000', 'std-p048-belly.nii.gz-0.500000', 'skew-p048-belly.nii.gz-0.500000', 'kurt-p048-belly.nii.gz-0.500000', 'hist-0-p048-belly.nii.gz-0.500000', 'hist-1-p048-belly.nii.gz-0.500000', 'hist-2-p048-belly.nii.gz-0.500000', 'hist-3-p048-belly.nii.gz-0.500000', 'hist-4-p048-belly.nii.gz-0.500000', 'hist-5-p048-belly.nii.gz-0.500000', 'hist-6-p048-belly.nii.gz-0.500000', 'hist-7-p048-belly.nii.gz-0.500000', 'hist-8-p048-belly.nii.gz-0.500000', 'hist-9-p048-belly.nii.gz-0.500000', 'hist-10-p048-belly.nii.gz-0.500000', 'hist-11-p048-belly.nii.gz-0.500000', 'hist-12-p048-belly.nii.gz-0.500000', 'hist-13-p048-belly.nii.gz-0.500000', 'hist-14-p048-belly.nii.gz-0.500000', 'hist-15-p048-belly.nii.gz-0.500000', 'hist-16-p048-belly.nii.gz-0.500000', 'hist-17-p048-belly.nii.gz-0.500000', 'hist-18-p048-belly.nii.gz-0.500000', 'hist-19-p048-belly.nii.gz-0.500000'] \n",
      "Score: -0.8109330829270712\n"
     ]
    },
    {
     "name": "stderr",
     "output_type": "stream",
     "text": [
      "200it [00:00, 659.04it/s]"
     ]
    },
    {
     "name": "stdout",
     "output_type": "stream",
     "text": [
      "1\n",
      "1 0.825976053803267\n"
     ]
    },
    {
     "name": "stderr",
     "output_type": "stream",
     "text": [
      "\n"
     ]
    }
   ],
   "source": [
    "for m in masks:\n",
    "    results_no_fs.append(model_selection(belly_features[[c for c in belly_features.columns if m in c or c == 'type']], belly_target, dataset='belly', type=m, disable_feature_selection=True))"
   ]
  },
  {
   "cell_type": "markdown",
   "metadata": {},
   "source": [
    "### groin all features"
   ]
  },
  {
   "cell_type": "code",
   "execution_count": 37,
   "metadata": {},
   "outputs": [
    {
     "name": "stderr",
     "output_type": "stream",
     "text": [
      "\r",
      "  0%|                                                  | 0/8000 [00:00<?, ?it/s]"
     ]
    },
    {
     "name": "stdout",
     "output_type": "stream",
     "text": [
      "Objective KNNR_Objective:\n"
     ]
    },
    {
     "name": "stderr",
     "output_type": "stream",
     "text": [
      " 12%|████▉                                   | 998/8000 [00:27<03:14, 36.02it/s]\n",
      "55it [00:00, 540.89it/s]"
     ]
    },
    {
     "name": "stdout",
     "output_type": "stream",
     "text": [
      "iterations: 998\n",
      "Number of used features: 157\n",
      "Used features: ['Unnamed: 0', 'num-p004-groin.nii.gz-0.500000', 'sum-p004-groin.nii.gz-0.500000', 'mean-p004-groin.nii.gz-0.500000', 'std-p004-groin.nii.gz-0.500000', 'skew-p004-groin.nii.gz-0.500000', 'kurt-p004-groin.nii.gz-0.500000', 'hist-0-p004-groin.nii.gz-0.500000', 'hist-1-p004-groin.nii.gz-0.500000', 'hist-2-p004-groin.nii.gz-0.500000', 'hist-3-p004-groin.nii.gz-0.500000', 'hist-4-p004-groin.nii.gz-0.500000', 'hist-5-p004-groin.nii.gz-0.500000', 'hist-6-p004-groin.nii.gz-0.500000', 'hist-7-p004-groin.nii.gz-0.500000', 'hist-8-p004-groin.nii.gz-0.500000', 'hist-9-p004-groin.nii.gz-0.500000', 'hist-10-p004-groin.nii.gz-0.500000', 'hist-11-p004-groin.nii.gz-0.500000', 'hist-12-p004-groin.nii.gz-0.500000', 'hist-13-p004-groin.nii.gz-0.500000', 'hist-14-p004-groin.nii.gz-0.500000', 'hist-15-p004-groin.nii.gz-0.500000', 'hist-16-p004-groin.nii.gz-0.500000', 'hist-17-p004-groin.nii.gz-0.500000', 'hist-18-p004-groin.nii.gz-0.500000', 'hist-19-p004-groin.nii.gz-0.500000', 'num-p029-groin.nii.gz-0.500000', 'sum-p029-groin.nii.gz-0.500000', 'mean-p029-groin.nii.gz-0.500000', 'std-p029-groin.nii.gz-0.500000', 'skew-p029-groin.nii.gz-0.500000', 'kurt-p029-groin.nii.gz-0.500000', 'hist-0-p029-groin.nii.gz-0.500000', 'hist-1-p029-groin.nii.gz-0.500000', 'hist-2-p029-groin.nii.gz-0.500000', 'hist-3-p029-groin.nii.gz-0.500000', 'hist-4-p029-groin.nii.gz-0.500000', 'hist-5-p029-groin.nii.gz-0.500000', 'hist-6-p029-groin.nii.gz-0.500000', 'hist-7-p029-groin.nii.gz-0.500000', 'hist-8-p029-groin.nii.gz-0.500000', 'hist-9-p029-groin.nii.gz-0.500000', 'hist-10-p029-groin.nii.gz-0.500000', 'hist-11-p029-groin.nii.gz-0.500000', 'hist-12-p029-groin.nii.gz-0.500000', 'hist-13-p029-groin.nii.gz-0.500000', 'hist-14-p029-groin.nii.gz-0.500000', 'hist-15-p029-groin.nii.gz-0.500000', 'hist-16-p029-groin.nii.gz-0.500000', 'hist-17-p029-groin.nii.gz-0.500000', 'hist-18-p029-groin.nii.gz-0.500000', 'hist-19-p029-groin.nii.gz-0.500000', 'num-p032-groin.nii.gz-0.500000', 'sum-p032-groin.nii.gz-0.500000', 'mean-p032-groin.nii.gz-0.500000', 'std-p032-groin.nii.gz-0.500000', 'skew-p032-groin.nii.gz-0.500000', 'kurt-p032-groin.nii.gz-0.500000', 'hist-0-p032-groin.nii.gz-0.500000', 'hist-1-p032-groin.nii.gz-0.500000', 'hist-2-p032-groin.nii.gz-0.500000', 'hist-3-p032-groin.nii.gz-0.500000', 'hist-4-p032-groin.nii.gz-0.500000', 'hist-5-p032-groin.nii.gz-0.500000', 'hist-6-p032-groin.nii.gz-0.500000', 'hist-7-p032-groin.nii.gz-0.500000', 'hist-8-p032-groin.nii.gz-0.500000', 'hist-9-p032-groin.nii.gz-0.500000', 'hist-10-p032-groin.nii.gz-0.500000', 'hist-11-p032-groin.nii.gz-0.500000', 'hist-12-p032-groin.nii.gz-0.500000', 'hist-13-p032-groin.nii.gz-0.500000', 'hist-14-p032-groin.nii.gz-0.500000', 'hist-15-p032-groin.nii.gz-0.500000', 'hist-16-p032-groin.nii.gz-0.500000', 'hist-17-p032-groin.nii.gz-0.500000', 'hist-18-p032-groin.nii.gz-0.500000', 'hist-19-p032-groin.nii.gz-0.500000', 'num-p041-groin.nii.gz-0.500000', 'sum-p041-groin.nii.gz-0.500000', 'mean-p041-groin.nii.gz-0.500000', 'std-p041-groin.nii.gz-0.500000', 'skew-p041-groin.nii.gz-0.500000', 'kurt-p041-groin.nii.gz-0.500000', 'hist-0-p041-groin.nii.gz-0.500000', 'hist-1-p041-groin.nii.gz-0.500000', 'hist-2-p041-groin.nii.gz-0.500000', 'hist-3-p041-groin.nii.gz-0.500000', 'hist-4-p041-groin.nii.gz-0.500000', 'hist-5-p041-groin.nii.gz-0.500000', 'hist-6-p041-groin.nii.gz-0.500000', 'hist-7-p041-groin.nii.gz-0.500000', 'hist-8-p041-groin.nii.gz-0.500000', 'hist-9-p041-groin.nii.gz-0.500000', 'hist-10-p041-groin.nii.gz-0.500000', 'hist-11-p041-groin.nii.gz-0.500000', 'hist-12-p041-groin.nii.gz-0.500000', 'hist-13-p041-groin.nii.gz-0.500000', 'hist-14-p041-groin.nii.gz-0.500000', 'hist-15-p041-groin.nii.gz-0.500000', 'hist-16-p041-groin.nii.gz-0.500000', 'hist-17-p041-groin.nii.gz-0.500000', 'hist-18-p041-groin.nii.gz-0.500000', 'hist-19-p041-groin.nii.gz-0.500000', 'num-p048-groin.nii.gz-0.500000', 'sum-p048-groin.nii.gz-0.500000', 'mean-p048-groin.nii.gz-0.500000', 'std-p048-groin.nii.gz-0.500000', 'skew-p048-groin.nii.gz-0.500000', 'kurt-p048-groin.nii.gz-0.500000', 'hist-0-p048-groin.nii.gz-0.500000', 'hist-1-p048-groin.nii.gz-0.500000', 'hist-2-p048-groin.nii.gz-0.500000', 'hist-3-p048-groin.nii.gz-0.500000', 'hist-4-p048-groin.nii.gz-0.500000', 'hist-5-p048-groin.nii.gz-0.500000', 'hist-6-p048-groin.nii.gz-0.500000', 'hist-7-p048-groin.nii.gz-0.500000', 'hist-8-p048-groin.nii.gz-0.500000', 'hist-9-p048-groin.nii.gz-0.500000', 'hist-10-p048-groin.nii.gz-0.500000', 'hist-11-p048-groin.nii.gz-0.500000', 'hist-12-p048-groin.nii.gz-0.500000', 'hist-13-p048-groin.nii.gz-0.500000', 'hist-14-p048-groin.nii.gz-0.500000', 'hist-15-p048-groin.nii.gz-0.500000', 'hist-16-p048-groin.nii.gz-0.500000', 'hist-17-p048-groin.nii.gz-0.500000', 'hist-18-p048-groin.nii.gz-0.500000', 'hist-19-p048-groin.nii.gz-0.500000', 'num-0.500000-mean_mask', 'sum-0.500000-mean_mask', 'mean-0.500000-mean_mask', 'std-0.500000-mean_mask', 'skew-0.500000-mean_mask', 'kurt-0.500000-mean_mask', 'hist-0-0.500000-mean_mask', 'hist-1-0.500000-mean_mask', 'hist-2-0.500000-mean_mask', 'hist-3-0.500000-mean_mask', 'hist-4-0.500000-mean_mask', 'hist-5-0.500000-mean_mask', 'hist-6-0.500000-mean_mask', 'hist-7-0.500000-mean_mask', 'hist-8-0.500000-mean_mask', 'hist-9-0.500000-mean_mask', 'hist-10-0.500000-mean_mask', 'hist-11-0.500000-mean_mask', 'hist-12-0.500000-mean_mask', 'hist-13-0.500000-mean_mask', 'hist-14-0.500000-mean_mask', 'hist-15-0.500000-mean_mask', 'hist-16-0.500000-mean_mask', 'hist-17-0.500000-mean_mask', 'hist-18-0.500000-mean_mask', 'hist-19-0.500000-mean_mask'] \n",
      "Score: -0.4721678746333089\n"
     ]
    },
    {
     "name": "stderr",
     "output_type": "stream",
     "text": [
      "200it [00:00, 545.55it/s]\n",
      "  0%|                                                  | 0/8000 [00:00<?, ?it/s]"
     ]
    },
    {
     "name": "stdout",
     "output_type": "stream",
     "text": [
      "1\n",
      "1 0.4990599600247969\n",
      "Objective LinearRegression_Objective:\n"
     ]
    },
    {
     "name": "stderr",
     "output_type": "stream",
     "text": [
      "  6%|██▎                                   | 499/8000 [00:00<00:03, 2253.54it/s]\n",
      "67it [00:00, 660.86it/s]"
     ]
    },
    {
     "name": "stdout",
     "output_type": "stream",
     "text": [
      "iterations: 499\n",
      "Number of used features: 157\n",
      "Used features: ['Unnamed: 0', 'num-p004-groin.nii.gz-0.500000', 'sum-p004-groin.nii.gz-0.500000', 'mean-p004-groin.nii.gz-0.500000', 'std-p004-groin.nii.gz-0.500000', 'skew-p004-groin.nii.gz-0.500000', 'kurt-p004-groin.nii.gz-0.500000', 'hist-0-p004-groin.nii.gz-0.500000', 'hist-1-p004-groin.nii.gz-0.500000', 'hist-2-p004-groin.nii.gz-0.500000', 'hist-3-p004-groin.nii.gz-0.500000', 'hist-4-p004-groin.nii.gz-0.500000', 'hist-5-p004-groin.nii.gz-0.500000', 'hist-6-p004-groin.nii.gz-0.500000', 'hist-7-p004-groin.nii.gz-0.500000', 'hist-8-p004-groin.nii.gz-0.500000', 'hist-9-p004-groin.nii.gz-0.500000', 'hist-10-p004-groin.nii.gz-0.500000', 'hist-11-p004-groin.nii.gz-0.500000', 'hist-12-p004-groin.nii.gz-0.500000', 'hist-13-p004-groin.nii.gz-0.500000', 'hist-14-p004-groin.nii.gz-0.500000', 'hist-15-p004-groin.nii.gz-0.500000', 'hist-16-p004-groin.nii.gz-0.500000', 'hist-17-p004-groin.nii.gz-0.500000', 'hist-18-p004-groin.nii.gz-0.500000', 'hist-19-p004-groin.nii.gz-0.500000', 'num-p029-groin.nii.gz-0.500000', 'sum-p029-groin.nii.gz-0.500000', 'mean-p029-groin.nii.gz-0.500000', 'std-p029-groin.nii.gz-0.500000', 'skew-p029-groin.nii.gz-0.500000', 'kurt-p029-groin.nii.gz-0.500000', 'hist-0-p029-groin.nii.gz-0.500000', 'hist-1-p029-groin.nii.gz-0.500000', 'hist-2-p029-groin.nii.gz-0.500000', 'hist-3-p029-groin.nii.gz-0.500000', 'hist-4-p029-groin.nii.gz-0.500000', 'hist-5-p029-groin.nii.gz-0.500000', 'hist-6-p029-groin.nii.gz-0.500000', 'hist-7-p029-groin.nii.gz-0.500000', 'hist-8-p029-groin.nii.gz-0.500000', 'hist-9-p029-groin.nii.gz-0.500000', 'hist-10-p029-groin.nii.gz-0.500000', 'hist-11-p029-groin.nii.gz-0.500000', 'hist-12-p029-groin.nii.gz-0.500000', 'hist-13-p029-groin.nii.gz-0.500000', 'hist-14-p029-groin.nii.gz-0.500000', 'hist-15-p029-groin.nii.gz-0.500000', 'hist-16-p029-groin.nii.gz-0.500000', 'hist-17-p029-groin.nii.gz-0.500000', 'hist-18-p029-groin.nii.gz-0.500000', 'hist-19-p029-groin.nii.gz-0.500000', 'num-p032-groin.nii.gz-0.500000', 'sum-p032-groin.nii.gz-0.500000', 'mean-p032-groin.nii.gz-0.500000', 'std-p032-groin.nii.gz-0.500000', 'skew-p032-groin.nii.gz-0.500000', 'kurt-p032-groin.nii.gz-0.500000', 'hist-0-p032-groin.nii.gz-0.500000', 'hist-1-p032-groin.nii.gz-0.500000', 'hist-2-p032-groin.nii.gz-0.500000', 'hist-3-p032-groin.nii.gz-0.500000', 'hist-4-p032-groin.nii.gz-0.500000', 'hist-5-p032-groin.nii.gz-0.500000', 'hist-6-p032-groin.nii.gz-0.500000', 'hist-7-p032-groin.nii.gz-0.500000', 'hist-8-p032-groin.nii.gz-0.500000', 'hist-9-p032-groin.nii.gz-0.500000', 'hist-10-p032-groin.nii.gz-0.500000', 'hist-11-p032-groin.nii.gz-0.500000', 'hist-12-p032-groin.nii.gz-0.500000', 'hist-13-p032-groin.nii.gz-0.500000', 'hist-14-p032-groin.nii.gz-0.500000', 'hist-15-p032-groin.nii.gz-0.500000', 'hist-16-p032-groin.nii.gz-0.500000', 'hist-17-p032-groin.nii.gz-0.500000', 'hist-18-p032-groin.nii.gz-0.500000', 'hist-19-p032-groin.nii.gz-0.500000', 'num-p041-groin.nii.gz-0.500000', 'sum-p041-groin.nii.gz-0.500000', 'mean-p041-groin.nii.gz-0.500000', 'std-p041-groin.nii.gz-0.500000', 'skew-p041-groin.nii.gz-0.500000', 'kurt-p041-groin.nii.gz-0.500000', 'hist-0-p041-groin.nii.gz-0.500000', 'hist-1-p041-groin.nii.gz-0.500000', 'hist-2-p041-groin.nii.gz-0.500000', 'hist-3-p041-groin.nii.gz-0.500000', 'hist-4-p041-groin.nii.gz-0.500000', 'hist-5-p041-groin.nii.gz-0.500000', 'hist-6-p041-groin.nii.gz-0.500000', 'hist-7-p041-groin.nii.gz-0.500000', 'hist-8-p041-groin.nii.gz-0.500000', 'hist-9-p041-groin.nii.gz-0.500000', 'hist-10-p041-groin.nii.gz-0.500000', 'hist-11-p041-groin.nii.gz-0.500000', 'hist-12-p041-groin.nii.gz-0.500000', 'hist-13-p041-groin.nii.gz-0.500000', 'hist-14-p041-groin.nii.gz-0.500000', 'hist-15-p041-groin.nii.gz-0.500000', 'hist-16-p041-groin.nii.gz-0.500000', 'hist-17-p041-groin.nii.gz-0.500000', 'hist-18-p041-groin.nii.gz-0.500000', 'hist-19-p041-groin.nii.gz-0.500000', 'num-p048-groin.nii.gz-0.500000', 'sum-p048-groin.nii.gz-0.500000', 'mean-p048-groin.nii.gz-0.500000', 'std-p048-groin.nii.gz-0.500000', 'skew-p048-groin.nii.gz-0.500000', 'kurt-p048-groin.nii.gz-0.500000', 'hist-0-p048-groin.nii.gz-0.500000', 'hist-1-p048-groin.nii.gz-0.500000', 'hist-2-p048-groin.nii.gz-0.500000', 'hist-3-p048-groin.nii.gz-0.500000', 'hist-4-p048-groin.nii.gz-0.500000', 'hist-5-p048-groin.nii.gz-0.500000', 'hist-6-p048-groin.nii.gz-0.500000', 'hist-7-p048-groin.nii.gz-0.500000', 'hist-8-p048-groin.nii.gz-0.500000', 'hist-9-p048-groin.nii.gz-0.500000', 'hist-10-p048-groin.nii.gz-0.500000', 'hist-11-p048-groin.nii.gz-0.500000', 'hist-12-p048-groin.nii.gz-0.500000', 'hist-13-p048-groin.nii.gz-0.500000', 'hist-14-p048-groin.nii.gz-0.500000', 'hist-15-p048-groin.nii.gz-0.500000', 'hist-16-p048-groin.nii.gz-0.500000', 'hist-17-p048-groin.nii.gz-0.500000', 'hist-18-p048-groin.nii.gz-0.500000', 'hist-19-p048-groin.nii.gz-0.500000', 'num-0.500000-mean_mask', 'sum-0.500000-mean_mask', 'mean-0.500000-mean_mask', 'std-0.500000-mean_mask', 'skew-0.500000-mean_mask', 'kurt-0.500000-mean_mask', 'hist-0-0.500000-mean_mask', 'hist-1-0.500000-mean_mask', 'hist-2-0.500000-mean_mask', 'hist-3-0.500000-mean_mask', 'hist-4-0.500000-mean_mask', 'hist-5-0.500000-mean_mask', 'hist-6-0.500000-mean_mask', 'hist-7-0.500000-mean_mask', 'hist-8-0.500000-mean_mask', 'hist-9-0.500000-mean_mask', 'hist-10-0.500000-mean_mask', 'hist-11-0.500000-mean_mask', 'hist-12-0.500000-mean_mask', 'hist-13-0.500000-mean_mask', 'hist-14-0.500000-mean_mask', 'hist-15-0.500000-mean_mask', 'hist-16-0.500000-mean_mask', 'hist-17-0.500000-mean_mask', 'hist-18-0.500000-mean_mask', 'hist-19-0.500000-mean_mask'] \n",
      "Score: -0.19227482403252594\n"
     ]
    },
    {
     "name": "stderr",
     "output_type": "stream",
     "text": [
      "200it [00:00, 657.08it/s]\n"
     ]
    },
    {
     "name": "stdout",
     "output_type": "stream",
     "text": [
      "1\n",
      "1 0.3274945215302977\n",
      "Objective LassoRegression_Objective:\n"
     ]
    },
    {
     "name": "stderr",
     "output_type": "stream",
     "text": [
      "  6%|██▍                                     | 499/8000 [00:05<01:20, 92.78it/s]\n",
      "44it [00:00, 438.62it/s]"
     ]
    },
    {
     "name": "stdout",
     "output_type": "stream",
     "text": [
      "iterations: 499\n",
      "Number of used features: 157\n",
      "Used features: ['Unnamed: 0', 'num-p004-groin.nii.gz-0.500000', 'sum-p004-groin.nii.gz-0.500000', 'mean-p004-groin.nii.gz-0.500000', 'std-p004-groin.nii.gz-0.500000', 'skew-p004-groin.nii.gz-0.500000', 'kurt-p004-groin.nii.gz-0.500000', 'hist-0-p004-groin.nii.gz-0.500000', 'hist-1-p004-groin.nii.gz-0.500000', 'hist-2-p004-groin.nii.gz-0.500000', 'hist-3-p004-groin.nii.gz-0.500000', 'hist-4-p004-groin.nii.gz-0.500000', 'hist-5-p004-groin.nii.gz-0.500000', 'hist-6-p004-groin.nii.gz-0.500000', 'hist-7-p004-groin.nii.gz-0.500000', 'hist-8-p004-groin.nii.gz-0.500000', 'hist-9-p004-groin.nii.gz-0.500000', 'hist-10-p004-groin.nii.gz-0.500000', 'hist-11-p004-groin.nii.gz-0.500000', 'hist-12-p004-groin.nii.gz-0.500000', 'hist-13-p004-groin.nii.gz-0.500000', 'hist-14-p004-groin.nii.gz-0.500000', 'hist-15-p004-groin.nii.gz-0.500000', 'hist-16-p004-groin.nii.gz-0.500000', 'hist-17-p004-groin.nii.gz-0.500000', 'hist-18-p004-groin.nii.gz-0.500000', 'hist-19-p004-groin.nii.gz-0.500000', 'num-p029-groin.nii.gz-0.500000', 'sum-p029-groin.nii.gz-0.500000', 'mean-p029-groin.nii.gz-0.500000', 'std-p029-groin.nii.gz-0.500000', 'skew-p029-groin.nii.gz-0.500000', 'kurt-p029-groin.nii.gz-0.500000', 'hist-0-p029-groin.nii.gz-0.500000', 'hist-1-p029-groin.nii.gz-0.500000', 'hist-2-p029-groin.nii.gz-0.500000', 'hist-3-p029-groin.nii.gz-0.500000', 'hist-4-p029-groin.nii.gz-0.500000', 'hist-5-p029-groin.nii.gz-0.500000', 'hist-6-p029-groin.nii.gz-0.500000', 'hist-7-p029-groin.nii.gz-0.500000', 'hist-8-p029-groin.nii.gz-0.500000', 'hist-9-p029-groin.nii.gz-0.500000', 'hist-10-p029-groin.nii.gz-0.500000', 'hist-11-p029-groin.nii.gz-0.500000', 'hist-12-p029-groin.nii.gz-0.500000', 'hist-13-p029-groin.nii.gz-0.500000', 'hist-14-p029-groin.nii.gz-0.500000', 'hist-15-p029-groin.nii.gz-0.500000', 'hist-16-p029-groin.nii.gz-0.500000', 'hist-17-p029-groin.nii.gz-0.500000', 'hist-18-p029-groin.nii.gz-0.500000', 'hist-19-p029-groin.nii.gz-0.500000', 'num-p032-groin.nii.gz-0.500000', 'sum-p032-groin.nii.gz-0.500000', 'mean-p032-groin.nii.gz-0.500000', 'std-p032-groin.nii.gz-0.500000', 'skew-p032-groin.nii.gz-0.500000', 'kurt-p032-groin.nii.gz-0.500000', 'hist-0-p032-groin.nii.gz-0.500000', 'hist-1-p032-groin.nii.gz-0.500000', 'hist-2-p032-groin.nii.gz-0.500000', 'hist-3-p032-groin.nii.gz-0.500000', 'hist-4-p032-groin.nii.gz-0.500000', 'hist-5-p032-groin.nii.gz-0.500000', 'hist-6-p032-groin.nii.gz-0.500000', 'hist-7-p032-groin.nii.gz-0.500000', 'hist-8-p032-groin.nii.gz-0.500000', 'hist-9-p032-groin.nii.gz-0.500000', 'hist-10-p032-groin.nii.gz-0.500000', 'hist-11-p032-groin.nii.gz-0.500000', 'hist-12-p032-groin.nii.gz-0.500000', 'hist-13-p032-groin.nii.gz-0.500000', 'hist-14-p032-groin.nii.gz-0.500000', 'hist-15-p032-groin.nii.gz-0.500000', 'hist-16-p032-groin.nii.gz-0.500000', 'hist-17-p032-groin.nii.gz-0.500000', 'hist-18-p032-groin.nii.gz-0.500000', 'hist-19-p032-groin.nii.gz-0.500000', 'num-p041-groin.nii.gz-0.500000', 'sum-p041-groin.nii.gz-0.500000', 'mean-p041-groin.nii.gz-0.500000', 'std-p041-groin.nii.gz-0.500000', 'skew-p041-groin.nii.gz-0.500000', 'kurt-p041-groin.nii.gz-0.500000', 'hist-0-p041-groin.nii.gz-0.500000', 'hist-1-p041-groin.nii.gz-0.500000', 'hist-2-p041-groin.nii.gz-0.500000', 'hist-3-p041-groin.nii.gz-0.500000', 'hist-4-p041-groin.nii.gz-0.500000', 'hist-5-p041-groin.nii.gz-0.500000', 'hist-6-p041-groin.nii.gz-0.500000', 'hist-7-p041-groin.nii.gz-0.500000', 'hist-8-p041-groin.nii.gz-0.500000', 'hist-9-p041-groin.nii.gz-0.500000', 'hist-10-p041-groin.nii.gz-0.500000', 'hist-11-p041-groin.nii.gz-0.500000', 'hist-12-p041-groin.nii.gz-0.500000', 'hist-13-p041-groin.nii.gz-0.500000', 'hist-14-p041-groin.nii.gz-0.500000', 'hist-15-p041-groin.nii.gz-0.500000', 'hist-16-p041-groin.nii.gz-0.500000', 'hist-17-p041-groin.nii.gz-0.500000', 'hist-18-p041-groin.nii.gz-0.500000', 'hist-19-p041-groin.nii.gz-0.500000', 'num-p048-groin.nii.gz-0.500000', 'sum-p048-groin.nii.gz-0.500000', 'mean-p048-groin.nii.gz-0.500000', 'std-p048-groin.nii.gz-0.500000', 'skew-p048-groin.nii.gz-0.500000', 'kurt-p048-groin.nii.gz-0.500000', 'hist-0-p048-groin.nii.gz-0.500000', 'hist-1-p048-groin.nii.gz-0.500000', 'hist-2-p048-groin.nii.gz-0.500000', 'hist-3-p048-groin.nii.gz-0.500000', 'hist-4-p048-groin.nii.gz-0.500000', 'hist-5-p048-groin.nii.gz-0.500000', 'hist-6-p048-groin.nii.gz-0.500000', 'hist-7-p048-groin.nii.gz-0.500000', 'hist-8-p048-groin.nii.gz-0.500000', 'hist-9-p048-groin.nii.gz-0.500000', 'hist-10-p048-groin.nii.gz-0.500000', 'hist-11-p048-groin.nii.gz-0.500000', 'hist-12-p048-groin.nii.gz-0.500000', 'hist-13-p048-groin.nii.gz-0.500000', 'hist-14-p048-groin.nii.gz-0.500000', 'hist-15-p048-groin.nii.gz-0.500000', 'hist-16-p048-groin.nii.gz-0.500000', 'hist-17-p048-groin.nii.gz-0.500000', 'hist-18-p048-groin.nii.gz-0.500000', 'hist-19-p048-groin.nii.gz-0.500000', 'num-0.500000-mean_mask', 'sum-0.500000-mean_mask', 'mean-0.500000-mean_mask', 'std-0.500000-mean_mask', 'skew-0.500000-mean_mask', 'kurt-0.500000-mean_mask', 'hist-0-0.500000-mean_mask', 'hist-1-0.500000-mean_mask', 'hist-2-0.500000-mean_mask', 'hist-3-0.500000-mean_mask', 'hist-4-0.500000-mean_mask', 'hist-5-0.500000-mean_mask', 'hist-6-0.500000-mean_mask', 'hist-7-0.500000-mean_mask', 'hist-8-0.500000-mean_mask', 'hist-9-0.500000-mean_mask', 'hist-10-0.500000-mean_mask', 'hist-11-0.500000-mean_mask', 'hist-12-0.500000-mean_mask', 'hist-13-0.500000-mean_mask', 'hist-14-0.500000-mean_mask', 'hist-15-0.500000-mean_mask', 'hist-16-0.500000-mean_mask', 'hist-17-0.500000-mean_mask', 'hist-18-0.500000-mean_mask', 'hist-19-0.500000-mean_mask'] \n",
      "Score: -0.5057497051266013\n"
     ]
    },
    {
     "name": "stderr",
     "output_type": "stream",
     "text": [
      "200it [00:00, 429.15it/s]\n"
     ]
    },
    {
     "name": "stdout",
     "output_type": "stream",
     "text": [
      "1\n",
      "1 0.5239529737294595\n",
      "Objective RidgeRegression_Objective:\n"
     ]
    },
    {
     "name": "stderr",
     "output_type": "stream",
     "text": [
      "  6%|██▍                                    | 499/8000 [00:01<00:26, 281.47it/s]\n",
      "41it [00:00, 406.81it/s]"
     ]
    },
    {
     "name": "stdout",
     "output_type": "stream",
     "text": [
      "iterations: 499\n",
      "Number of used features: 157\n",
      "Used features: ['Unnamed: 0', 'num-p004-groin.nii.gz-0.500000', 'sum-p004-groin.nii.gz-0.500000', 'mean-p004-groin.nii.gz-0.500000', 'std-p004-groin.nii.gz-0.500000', 'skew-p004-groin.nii.gz-0.500000', 'kurt-p004-groin.nii.gz-0.500000', 'hist-0-p004-groin.nii.gz-0.500000', 'hist-1-p004-groin.nii.gz-0.500000', 'hist-2-p004-groin.nii.gz-0.500000', 'hist-3-p004-groin.nii.gz-0.500000', 'hist-4-p004-groin.nii.gz-0.500000', 'hist-5-p004-groin.nii.gz-0.500000', 'hist-6-p004-groin.nii.gz-0.500000', 'hist-7-p004-groin.nii.gz-0.500000', 'hist-8-p004-groin.nii.gz-0.500000', 'hist-9-p004-groin.nii.gz-0.500000', 'hist-10-p004-groin.nii.gz-0.500000', 'hist-11-p004-groin.nii.gz-0.500000', 'hist-12-p004-groin.nii.gz-0.500000', 'hist-13-p004-groin.nii.gz-0.500000', 'hist-14-p004-groin.nii.gz-0.500000', 'hist-15-p004-groin.nii.gz-0.500000', 'hist-16-p004-groin.nii.gz-0.500000', 'hist-17-p004-groin.nii.gz-0.500000', 'hist-18-p004-groin.nii.gz-0.500000', 'hist-19-p004-groin.nii.gz-0.500000', 'num-p029-groin.nii.gz-0.500000', 'sum-p029-groin.nii.gz-0.500000', 'mean-p029-groin.nii.gz-0.500000', 'std-p029-groin.nii.gz-0.500000', 'skew-p029-groin.nii.gz-0.500000', 'kurt-p029-groin.nii.gz-0.500000', 'hist-0-p029-groin.nii.gz-0.500000', 'hist-1-p029-groin.nii.gz-0.500000', 'hist-2-p029-groin.nii.gz-0.500000', 'hist-3-p029-groin.nii.gz-0.500000', 'hist-4-p029-groin.nii.gz-0.500000', 'hist-5-p029-groin.nii.gz-0.500000', 'hist-6-p029-groin.nii.gz-0.500000', 'hist-7-p029-groin.nii.gz-0.500000', 'hist-8-p029-groin.nii.gz-0.500000', 'hist-9-p029-groin.nii.gz-0.500000', 'hist-10-p029-groin.nii.gz-0.500000', 'hist-11-p029-groin.nii.gz-0.500000', 'hist-12-p029-groin.nii.gz-0.500000', 'hist-13-p029-groin.nii.gz-0.500000', 'hist-14-p029-groin.nii.gz-0.500000', 'hist-15-p029-groin.nii.gz-0.500000', 'hist-16-p029-groin.nii.gz-0.500000', 'hist-17-p029-groin.nii.gz-0.500000', 'hist-18-p029-groin.nii.gz-0.500000', 'hist-19-p029-groin.nii.gz-0.500000', 'num-p032-groin.nii.gz-0.500000', 'sum-p032-groin.nii.gz-0.500000', 'mean-p032-groin.nii.gz-0.500000', 'std-p032-groin.nii.gz-0.500000', 'skew-p032-groin.nii.gz-0.500000', 'kurt-p032-groin.nii.gz-0.500000', 'hist-0-p032-groin.nii.gz-0.500000', 'hist-1-p032-groin.nii.gz-0.500000', 'hist-2-p032-groin.nii.gz-0.500000', 'hist-3-p032-groin.nii.gz-0.500000', 'hist-4-p032-groin.nii.gz-0.500000', 'hist-5-p032-groin.nii.gz-0.500000', 'hist-6-p032-groin.nii.gz-0.500000', 'hist-7-p032-groin.nii.gz-0.500000', 'hist-8-p032-groin.nii.gz-0.500000', 'hist-9-p032-groin.nii.gz-0.500000', 'hist-10-p032-groin.nii.gz-0.500000', 'hist-11-p032-groin.nii.gz-0.500000', 'hist-12-p032-groin.nii.gz-0.500000', 'hist-13-p032-groin.nii.gz-0.500000', 'hist-14-p032-groin.nii.gz-0.500000', 'hist-15-p032-groin.nii.gz-0.500000', 'hist-16-p032-groin.nii.gz-0.500000', 'hist-17-p032-groin.nii.gz-0.500000', 'hist-18-p032-groin.nii.gz-0.500000', 'hist-19-p032-groin.nii.gz-0.500000', 'num-p041-groin.nii.gz-0.500000', 'sum-p041-groin.nii.gz-0.500000', 'mean-p041-groin.nii.gz-0.500000', 'std-p041-groin.nii.gz-0.500000', 'skew-p041-groin.nii.gz-0.500000', 'kurt-p041-groin.nii.gz-0.500000', 'hist-0-p041-groin.nii.gz-0.500000', 'hist-1-p041-groin.nii.gz-0.500000', 'hist-2-p041-groin.nii.gz-0.500000', 'hist-3-p041-groin.nii.gz-0.500000', 'hist-4-p041-groin.nii.gz-0.500000', 'hist-5-p041-groin.nii.gz-0.500000', 'hist-6-p041-groin.nii.gz-0.500000', 'hist-7-p041-groin.nii.gz-0.500000', 'hist-8-p041-groin.nii.gz-0.500000', 'hist-9-p041-groin.nii.gz-0.500000', 'hist-10-p041-groin.nii.gz-0.500000', 'hist-11-p041-groin.nii.gz-0.500000', 'hist-12-p041-groin.nii.gz-0.500000', 'hist-13-p041-groin.nii.gz-0.500000', 'hist-14-p041-groin.nii.gz-0.500000', 'hist-15-p041-groin.nii.gz-0.500000', 'hist-16-p041-groin.nii.gz-0.500000', 'hist-17-p041-groin.nii.gz-0.500000', 'hist-18-p041-groin.nii.gz-0.500000', 'hist-19-p041-groin.nii.gz-0.500000', 'num-p048-groin.nii.gz-0.500000', 'sum-p048-groin.nii.gz-0.500000', 'mean-p048-groin.nii.gz-0.500000', 'std-p048-groin.nii.gz-0.500000', 'skew-p048-groin.nii.gz-0.500000', 'kurt-p048-groin.nii.gz-0.500000', 'hist-0-p048-groin.nii.gz-0.500000', 'hist-1-p048-groin.nii.gz-0.500000', 'hist-2-p048-groin.nii.gz-0.500000', 'hist-3-p048-groin.nii.gz-0.500000', 'hist-4-p048-groin.nii.gz-0.500000', 'hist-5-p048-groin.nii.gz-0.500000', 'hist-6-p048-groin.nii.gz-0.500000', 'hist-7-p048-groin.nii.gz-0.500000', 'hist-8-p048-groin.nii.gz-0.500000', 'hist-9-p048-groin.nii.gz-0.500000', 'hist-10-p048-groin.nii.gz-0.500000', 'hist-11-p048-groin.nii.gz-0.500000', 'hist-12-p048-groin.nii.gz-0.500000', 'hist-13-p048-groin.nii.gz-0.500000', 'hist-14-p048-groin.nii.gz-0.500000', 'hist-15-p048-groin.nii.gz-0.500000', 'hist-16-p048-groin.nii.gz-0.500000', 'hist-17-p048-groin.nii.gz-0.500000', 'hist-18-p048-groin.nii.gz-0.500000', 'hist-19-p048-groin.nii.gz-0.500000', 'num-0.500000-mean_mask', 'sum-0.500000-mean_mask', 'mean-0.500000-mean_mask', 'std-0.500000-mean_mask', 'skew-0.500000-mean_mask', 'kurt-0.500000-mean_mask', 'hist-0-0.500000-mean_mask', 'hist-1-0.500000-mean_mask', 'hist-2-0.500000-mean_mask', 'hist-3-0.500000-mean_mask', 'hist-4-0.500000-mean_mask', 'hist-5-0.500000-mean_mask', 'hist-6-0.500000-mean_mask', 'hist-7-0.500000-mean_mask', 'hist-8-0.500000-mean_mask', 'hist-9-0.500000-mean_mask', 'hist-10-0.500000-mean_mask', 'hist-11-0.500000-mean_mask', 'hist-12-0.500000-mean_mask', 'hist-13-0.500000-mean_mask', 'hist-14-0.500000-mean_mask', 'hist-15-0.500000-mean_mask', 'hist-16-0.500000-mean_mask', 'hist-17-0.500000-mean_mask', 'hist-18-0.500000-mean_mask', 'hist-19-0.500000-mean_mask'] \n",
      "Score: -0.41241522174966017\n"
     ]
    },
    {
     "name": "stderr",
     "output_type": "stream",
     "text": [
      "200it [00:00, 408.41it/s]\n"
     ]
    },
    {
     "name": "stdout",
     "output_type": "stream",
     "text": [
      "1\n",
      "1 0.4554177452803624\n",
      "Objective PLSRegression_Objective:\n"
     ]
    },
    {
     "name": "stderr",
     "output_type": "stream",
     "text": [
      "  6%|██▍                                    | 502/8000 [00:02<00:30, 243.95it/s]\n",
      "68it [00:00, 678.45it/s]"
     ]
    },
    {
     "name": "stdout",
     "output_type": "stream",
     "text": [
      "iterations: 502\n",
      "Number of used features: 157\n",
      "Used features: ['Unnamed: 0', 'num-p004-groin.nii.gz-0.500000', 'sum-p004-groin.nii.gz-0.500000', 'mean-p004-groin.nii.gz-0.500000', 'std-p004-groin.nii.gz-0.500000', 'skew-p004-groin.nii.gz-0.500000', 'kurt-p004-groin.nii.gz-0.500000', 'hist-0-p004-groin.nii.gz-0.500000', 'hist-1-p004-groin.nii.gz-0.500000', 'hist-2-p004-groin.nii.gz-0.500000', 'hist-3-p004-groin.nii.gz-0.500000', 'hist-4-p004-groin.nii.gz-0.500000', 'hist-5-p004-groin.nii.gz-0.500000', 'hist-6-p004-groin.nii.gz-0.500000', 'hist-7-p004-groin.nii.gz-0.500000', 'hist-8-p004-groin.nii.gz-0.500000', 'hist-9-p004-groin.nii.gz-0.500000', 'hist-10-p004-groin.nii.gz-0.500000', 'hist-11-p004-groin.nii.gz-0.500000', 'hist-12-p004-groin.nii.gz-0.500000', 'hist-13-p004-groin.nii.gz-0.500000', 'hist-14-p004-groin.nii.gz-0.500000', 'hist-15-p004-groin.nii.gz-0.500000', 'hist-16-p004-groin.nii.gz-0.500000', 'hist-17-p004-groin.nii.gz-0.500000', 'hist-18-p004-groin.nii.gz-0.500000', 'hist-19-p004-groin.nii.gz-0.500000', 'num-p029-groin.nii.gz-0.500000', 'sum-p029-groin.nii.gz-0.500000', 'mean-p029-groin.nii.gz-0.500000', 'std-p029-groin.nii.gz-0.500000', 'skew-p029-groin.nii.gz-0.500000', 'kurt-p029-groin.nii.gz-0.500000', 'hist-0-p029-groin.nii.gz-0.500000', 'hist-1-p029-groin.nii.gz-0.500000', 'hist-2-p029-groin.nii.gz-0.500000', 'hist-3-p029-groin.nii.gz-0.500000', 'hist-4-p029-groin.nii.gz-0.500000', 'hist-5-p029-groin.nii.gz-0.500000', 'hist-6-p029-groin.nii.gz-0.500000', 'hist-7-p029-groin.nii.gz-0.500000', 'hist-8-p029-groin.nii.gz-0.500000', 'hist-9-p029-groin.nii.gz-0.500000', 'hist-10-p029-groin.nii.gz-0.500000', 'hist-11-p029-groin.nii.gz-0.500000', 'hist-12-p029-groin.nii.gz-0.500000', 'hist-13-p029-groin.nii.gz-0.500000', 'hist-14-p029-groin.nii.gz-0.500000', 'hist-15-p029-groin.nii.gz-0.500000', 'hist-16-p029-groin.nii.gz-0.500000', 'hist-17-p029-groin.nii.gz-0.500000', 'hist-18-p029-groin.nii.gz-0.500000', 'hist-19-p029-groin.nii.gz-0.500000', 'num-p032-groin.nii.gz-0.500000', 'sum-p032-groin.nii.gz-0.500000', 'mean-p032-groin.nii.gz-0.500000', 'std-p032-groin.nii.gz-0.500000', 'skew-p032-groin.nii.gz-0.500000', 'kurt-p032-groin.nii.gz-0.500000', 'hist-0-p032-groin.nii.gz-0.500000', 'hist-1-p032-groin.nii.gz-0.500000', 'hist-2-p032-groin.nii.gz-0.500000', 'hist-3-p032-groin.nii.gz-0.500000', 'hist-4-p032-groin.nii.gz-0.500000', 'hist-5-p032-groin.nii.gz-0.500000', 'hist-6-p032-groin.nii.gz-0.500000', 'hist-7-p032-groin.nii.gz-0.500000', 'hist-8-p032-groin.nii.gz-0.500000', 'hist-9-p032-groin.nii.gz-0.500000', 'hist-10-p032-groin.nii.gz-0.500000', 'hist-11-p032-groin.nii.gz-0.500000', 'hist-12-p032-groin.nii.gz-0.500000', 'hist-13-p032-groin.nii.gz-0.500000', 'hist-14-p032-groin.nii.gz-0.500000', 'hist-15-p032-groin.nii.gz-0.500000', 'hist-16-p032-groin.nii.gz-0.500000', 'hist-17-p032-groin.nii.gz-0.500000', 'hist-18-p032-groin.nii.gz-0.500000', 'hist-19-p032-groin.nii.gz-0.500000', 'num-p041-groin.nii.gz-0.500000', 'sum-p041-groin.nii.gz-0.500000', 'mean-p041-groin.nii.gz-0.500000', 'std-p041-groin.nii.gz-0.500000', 'skew-p041-groin.nii.gz-0.500000', 'kurt-p041-groin.nii.gz-0.500000', 'hist-0-p041-groin.nii.gz-0.500000', 'hist-1-p041-groin.nii.gz-0.500000', 'hist-2-p041-groin.nii.gz-0.500000', 'hist-3-p041-groin.nii.gz-0.500000', 'hist-4-p041-groin.nii.gz-0.500000', 'hist-5-p041-groin.nii.gz-0.500000', 'hist-6-p041-groin.nii.gz-0.500000', 'hist-7-p041-groin.nii.gz-0.500000', 'hist-8-p041-groin.nii.gz-0.500000', 'hist-9-p041-groin.nii.gz-0.500000', 'hist-10-p041-groin.nii.gz-0.500000', 'hist-11-p041-groin.nii.gz-0.500000', 'hist-12-p041-groin.nii.gz-0.500000', 'hist-13-p041-groin.nii.gz-0.500000', 'hist-14-p041-groin.nii.gz-0.500000', 'hist-15-p041-groin.nii.gz-0.500000', 'hist-16-p041-groin.nii.gz-0.500000', 'hist-17-p041-groin.nii.gz-0.500000', 'hist-18-p041-groin.nii.gz-0.500000', 'hist-19-p041-groin.nii.gz-0.500000', 'num-p048-groin.nii.gz-0.500000', 'sum-p048-groin.nii.gz-0.500000', 'mean-p048-groin.nii.gz-0.500000', 'std-p048-groin.nii.gz-0.500000', 'skew-p048-groin.nii.gz-0.500000', 'kurt-p048-groin.nii.gz-0.500000', 'hist-0-p048-groin.nii.gz-0.500000', 'hist-1-p048-groin.nii.gz-0.500000', 'hist-2-p048-groin.nii.gz-0.500000', 'hist-3-p048-groin.nii.gz-0.500000', 'hist-4-p048-groin.nii.gz-0.500000', 'hist-5-p048-groin.nii.gz-0.500000', 'hist-6-p048-groin.nii.gz-0.500000', 'hist-7-p048-groin.nii.gz-0.500000', 'hist-8-p048-groin.nii.gz-0.500000', 'hist-9-p048-groin.nii.gz-0.500000', 'hist-10-p048-groin.nii.gz-0.500000', 'hist-11-p048-groin.nii.gz-0.500000', 'hist-12-p048-groin.nii.gz-0.500000', 'hist-13-p048-groin.nii.gz-0.500000', 'hist-14-p048-groin.nii.gz-0.500000', 'hist-15-p048-groin.nii.gz-0.500000', 'hist-16-p048-groin.nii.gz-0.500000', 'hist-17-p048-groin.nii.gz-0.500000', 'hist-18-p048-groin.nii.gz-0.500000', 'hist-19-p048-groin.nii.gz-0.500000', 'num-0.500000-mean_mask', 'sum-0.500000-mean_mask', 'mean-0.500000-mean_mask', 'std-0.500000-mean_mask', 'skew-0.500000-mean_mask', 'kurt-0.500000-mean_mask', 'hist-0-0.500000-mean_mask', 'hist-1-0.500000-mean_mask', 'hist-2-0.500000-mean_mask', 'hist-3-0.500000-mean_mask', 'hist-4-0.500000-mean_mask', 'hist-5-0.500000-mean_mask', 'hist-6-0.500000-mean_mask', 'hist-7-0.500000-mean_mask', 'hist-8-0.500000-mean_mask', 'hist-9-0.500000-mean_mask', 'hist-10-0.500000-mean_mask', 'hist-11-0.500000-mean_mask', 'hist-12-0.500000-mean_mask', 'hist-13-0.500000-mean_mask', 'hist-14-0.500000-mean_mask', 'hist-15-0.500000-mean_mask', 'hist-16-0.500000-mean_mask', 'hist-17-0.500000-mean_mask', 'hist-18-0.500000-mean_mask', 'hist-19-0.500000-mean_mask'] \n",
      "Score: -0.4863797518836921\n"
     ]
    },
    {
     "name": "stderr",
     "output_type": "stream",
     "text": [
      "200it [00:00, 676.59it/s]"
     ]
    },
    {
     "name": "stdout",
     "output_type": "stream",
     "text": [
      "1\n",
      "1 0.4846585913188459\n"
     ]
    },
    {
     "name": "stderr",
     "output_type": "stream",
     "text": [
      "\n"
     ]
    }
   ],
   "source": [
    "results_no_fs.append(model_selection(groin_features, groin_target, dataset='groin', type='all', disable_feature_selection=True))"
   ]
  },
  {
   "cell_type": "markdown",
   "metadata": {},
   "source": [
    "### groin mean mask"
   ]
  },
  {
   "cell_type": "code",
   "execution_count": 38,
   "metadata": {},
   "outputs": [
    {
     "name": "stderr",
     "output_type": "stream",
     "text": [
      "\r",
      "  0%|                                                  | 0/8000 [00:00<?, ?it/s]"
     ]
    },
    {
     "name": "stdout",
     "output_type": "stream",
     "text": [
      "Objective KNNR_Objective:\n"
     ]
    },
    {
     "name": "stderr",
     "output_type": "stream",
     "text": [
      "  9%|███▍                                    | 686/8000 [00:17<03:05, 39.47it/s]\n",
      "73it [00:00, 727.93it/s]"
     ]
    },
    {
     "name": "stdout",
     "output_type": "stream",
     "text": [
      "iterations: 686\n",
      "Number of used features: 26\n",
      "Used features: ['num-0.500000-mean_mask', 'sum-0.500000-mean_mask', 'mean-0.500000-mean_mask', 'std-0.500000-mean_mask', 'skew-0.500000-mean_mask', 'kurt-0.500000-mean_mask', 'hist-0-0.500000-mean_mask', 'hist-1-0.500000-mean_mask', 'hist-2-0.500000-mean_mask', 'hist-3-0.500000-mean_mask', 'hist-4-0.500000-mean_mask', 'hist-5-0.500000-mean_mask', 'hist-6-0.500000-mean_mask', 'hist-7-0.500000-mean_mask', 'hist-8-0.500000-mean_mask', 'hist-9-0.500000-mean_mask', 'hist-10-0.500000-mean_mask', 'hist-11-0.500000-mean_mask', 'hist-12-0.500000-mean_mask', 'hist-13-0.500000-mean_mask', 'hist-14-0.500000-mean_mask', 'hist-15-0.500000-mean_mask', 'hist-16-0.500000-mean_mask', 'hist-17-0.500000-mean_mask', 'hist-18-0.500000-mean_mask', 'hist-19-0.500000-mean_mask'] \n",
      "Score: -0.36844274889205253\n"
     ]
    },
    {
     "name": "stderr",
     "output_type": "stream",
     "text": [
      "200it [00:00, 728.26it/s]\n",
      "  0%|                                                  | 0/8000 [00:00<?, ?it/s]"
     ]
    },
    {
     "name": "stdout",
     "output_type": "stream",
     "text": [
      "1\n",
      "1 0.37858827262593686\n",
      "Objective LinearRegression_Objective:\n"
     ]
    },
    {
     "name": "stderr",
     "output_type": "stream",
     "text": [
      "  6%|██▎                                   | 499/8000 [00:00<00:02, 3521.00it/s]\n",
      "88it [00:00, 872.69it/s]"
     ]
    },
    {
     "name": "stdout",
     "output_type": "stream",
     "text": [
      "iterations: 499\n",
      "Number of used features: 26\n",
      "Used features: ['num-0.500000-mean_mask', 'sum-0.500000-mean_mask', 'mean-0.500000-mean_mask', 'std-0.500000-mean_mask', 'skew-0.500000-mean_mask', 'kurt-0.500000-mean_mask', 'hist-0-0.500000-mean_mask', 'hist-1-0.500000-mean_mask', 'hist-2-0.500000-mean_mask', 'hist-3-0.500000-mean_mask', 'hist-4-0.500000-mean_mask', 'hist-5-0.500000-mean_mask', 'hist-6-0.500000-mean_mask', 'hist-7-0.500000-mean_mask', 'hist-8-0.500000-mean_mask', 'hist-9-0.500000-mean_mask', 'hist-10-0.500000-mean_mask', 'hist-11-0.500000-mean_mask', 'hist-12-0.500000-mean_mask', 'hist-13-0.500000-mean_mask', 'hist-14-0.500000-mean_mask', 'hist-15-0.500000-mean_mask', 'hist-16-0.500000-mean_mask', 'hist-17-0.500000-mean_mask', 'hist-18-0.500000-mean_mask', 'hist-19-0.500000-mean_mask'] \n",
      "Score: 1.497240156299942\n"
     ]
    },
    {
     "name": "stderr",
     "output_type": "stream",
     "text": [
      "200it [00:00, 871.01it/s]\n",
      "  0%|                                                  | 0/8000 [00:00<?, ?it/s]"
     ]
    },
    {
     "name": "stdout",
     "output_type": "stream",
     "text": [
      "1\n",
      "1 -0.19173237548144662\n",
      "Objective LassoRegression_Objective:\n"
     ]
    },
    {
     "name": "stderr",
     "output_type": "stream",
     "text": [
      "  6%|██▍                                    | 499/8000 [00:02<00:31, 237.18it/s]\n",
      "62it [00:00, 618.25it/s]"
     ]
    },
    {
     "name": "stdout",
     "output_type": "stream",
     "text": [
      "iterations: 499\n",
      "Number of used features: 26\n",
      "Used features: ['num-0.500000-mean_mask', 'sum-0.500000-mean_mask', 'mean-0.500000-mean_mask', 'std-0.500000-mean_mask', 'skew-0.500000-mean_mask', 'kurt-0.500000-mean_mask', 'hist-0-0.500000-mean_mask', 'hist-1-0.500000-mean_mask', 'hist-2-0.500000-mean_mask', 'hist-3-0.500000-mean_mask', 'hist-4-0.500000-mean_mask', 'hist-5-0.500000-mean_mask', 'hist-6-0.500000-mean_mask', 'hist-7-0.500000-mean_mask', 'hist-8-0.500000-mean_mask', 'hist-9-0.500000-mean_mask', 'hist-10-0.500000-mean_mask', 'hist-11-0.500000-mean_mask', 'hist-12-0.500000-mean_mask', 'hist-13-0.500000-mean_mask', 'hist-14-0.500000-mean_mask', 'hist-15-0.500000-mean_mask', 'hist-16-0.500000-mean_mask', 'hist-17-0.500000-mean_mask', 'hist-18-0.500000-mean_mask', 'hist-19-0.500000-mean_mask'] \n",
      "Score: -0.5350931576494546\n"
     ]
    },
    {
     "name": "stderr",
     "output_type": "stream",
     "text": [
      "200it [00:00, 610.98it/s]\n",
      "  0%|                                                  | 0/8000 [00:00<?, ?it/s]"
     ]
    },
    {
     "name": "stdout",
     "output_type": "stream",
     "text": [
      "1\n",
      "1 0.5575523787511796\n",
      "Objective RidgeRegression_Objective:\n"
     ]
    },
    {
     "name": "stderr",
     "output_type": "stream",
     "text": [
      "  6%|██▍                                    | 499/8000 [00:01<00:20, 360.63it/s]\n",
      "68it [00:00, 674.59it/s]"
     ]
    },
    {
     "name": "stdout",
     "output_type": "stream",
     "text": [
      "iterations: 499\n",
      "Number of used features: 26\n",
      "Used features: ['num-0.500000-mean_mask', 'sum-0.500000-mean_mask', 'mean-0.500000-mean_mask', 'std-0.500000-mean_mask', 'skew-0.500000-mean_mask', 'kurt-0.500000-mean_mask', 'hist-0-0.500000-mean_mask', 'hist-1-0.500000-mean_mask', 'hist-2-0.500000-mean_mask', 'hist-3-0.500000-mean_mask', 'hist-4-0.500000-mean_mask', 'hist-5-0.500000-mean_mask', 'hist-6-0.500000-mean_mask', 'hist-7-0.500000-mean_mask', 'hist-8-0.500000-mean_mask', 'hist-9-0.500000-mean_mask', 'hist-10-0.500000-mean_mask', 'hist-11-0.500000-mean_mask', 'hist-12-0.500000-mean_mask', 'hist-13-0.500000-mean_mask', 'hist-14-0.500000-mean_mask', 'hist-15-0.500000-mean_mask', 'hist-16-0.500000-mean_mask', 'hist-17-0.500000-mean_mask', 'hist-18-0.500000-mean_mask', 'hist-19-0.500000-mean_mask'] \n",
      "Score: -0.5163701968771848\n"
     ]
    },
    {
     "name": "stderr",
     "output_type": "stream",
     "text": [
      "200it [00:00, 671.34it/s]\n",
      "  0%|                                                  | 0/8000 [00:00<?, ?it/s]"
     ]
    },
    {
     "name": "stdout",
     "output_type": "stream",
     "text": [
      "1\n",
      "1 0.5401529105798007\n",
      "Objective PLSRegression_Objective:\n"
     ]
    },
    {
     "name": "stderr",
     "output_type": "stream",
     "text": [
      "  6%|██▍                                   | 502/8000 [00:00<00:07, 1055.99it/s]\n",
      "78it [00:00, 773.01it/s]"
     ]
    },
    {
     "name": "stdout",
     "output_type": "stream",
     "text": [
      "iterations: 502\n",
      "Number of used features: 26\n",
      "Used features: ['num-0.500000-mean_mask', 'sum-0.500000-mean_mask', 'mean-0.500000-mean_mask', 'std-0.500000-mean_mask', 'skew-0.500000-mean_mask', 'kurt-0.500000-mean_mask', 'hist-0-0.500000-mean_mask', 'hist-1-0.500000-mean_mask', 'hist-2-0.500000-mean_mask', 'hist-3-0.500000-mean_mask', 'hist-4-0.500000-mean_mask', 'hist-5-0.500000-mean_mask', 'hist-6-0.500000-mean_mask', 'hist-7-0.500000-mean_mask', 'hist-8-0.500000-mean_mask', 'hist-9-0.500000-mean_mask', 'hist-10-0.500000-mean_mask', 'hist-11-0.500000-mean_mask', 'hist-12-0.500000-mean_mask', 'hist-13-0.500000-mean_mask', 'hist-14-0.500000-mean_mask', 'hist-15-0.500000-mean_mask', 'hist-16-0.500000-mean_mask', 'hist-17-0.500000-mean_mask', 'hist-18-0.500000-mean_mask', 'hist-19-0.500000-mean_mask'] \n",
      "Score: -0.4988376726883045\n"
     ]
    },
    {
     "name": "stderr",
     "output_type": "stream",
     "text": [
      "200it [00:00, 774.44it/s]"
     ]
    },
    {
     "name": "stdout",
     "output_type": "stream",
     "text": [
      "1\n",
      "1 0.5096841171880576\n"
     ]
    },
    {
     "name": "stderr",
     "output_type": "stream",
     "text": [
      "\n"
     ]
    }
   ],
   "source": [
    "results_no_fs.append(model_selection(groin_features[[c for c in groin_features.columns if 'mean_mask' in c or c == 'type']], groin_target, dataset='groin', type='mean_mask', disable_feature_selection=True))"
   ]
  },
  {
   "cell_type": "markdown",
   "metadata": {},
   "source": [
    "### groin individual masks"
   ]
  },
  {
   "cell_type": "code",
   "execution_count": 39,
   "metadata": {},
   "outputs": [
    {
     "name": "stderr",
     "output_type": "stream",
     "text": [
      "\r",
      "  0%|                                                  | 0/8000 [00:00<?, ?it/s]"
     ]
    },
    {
     "name": "stdout",
     "output_type": "stream",
     "text": [
      "Objective KNNR_Objective:\n"
     ]
    },
    {
     "name": "stderr",
     "output_type": "stream",
     "text": [
      "  9%|███▌                                    | 720/8000 [00:17<02:56, 41.32it/s]\n",
      "73it [00:00, 720.45it/s]"
     ]
    },
    {
     "name": "stdout",
     "output_type": "stream",
     "text": [
      "iterations: 720\n",
      "Number of used features: 26\n",
      "Used features: ['num-p004-groin.nii.gz-0.500000', 'sum-p004-groin.nii.gz-0.500000', 'mean-p004-groin.nii.gz-0.500000', 'std-p004-groin.nii.gz-0.500000', 'skew-p004-groin.nii.gz-0.500000', 'kurt-p004-groin.nii.gz-0.500000', 'hist-0-p004-groin.nii.gz-0.500000', 'hist-1-p004-groin.nii.gz-0.500000', 'hist-2-p004-groin.nii.gz-0.500000', 'hist-3-p004-groin.nii.gz-0.500000', 'hist-4-p004-groin.nii.gz-0.500000', 'hist-5-p004-groin.nii.gz-0.500000', 'hist-6-p004-groin.nii.gz-0.500000', 'hist-7-p004-groin.nii.gz-0.500000', 'hist-8-p004-groin.nii.gz-0.500000', 'hist-9-p004-groin.nii.gz-0.500000', 'hist-10-p004-groin.nii.gz-0.500000', 'hist-11-p004-groin.nii.gz-0.500000', 'hist-12-p004-groin.nii.gz-0.500000', 'hist-13-p004-groin.nii.gz-0.500000', 'hist-14-p004-groin.nii.gz-0.500000', 'hist-15-p004-groin.nii.gz-0.500000', 'hist-16-p004-groin.nii.gz-0.500000', 'hist-17-p004-groin.nii.gz-0.500000', 'hist-18-p004-groin.nii.gz-0.500000', 'hist-19-p004-groin.nii.gz-0.500000'] \n",
      "Score: -0.3953963961380942\n"
     ]
    },
    {
     "name": "stderr",
     "output_type": "stream",
     "text": [
      "200it [00:00, 729.88it/s]\n",
      "  0%|                                                  | 0/8000 [00:00<?, ?it/s]"
     ]
    },
    {
     "name": "stdout",
     "output_type": "stream",
     "text": [
      "1\n",
      "1 0.38815566514255895\n",
      "Objective LinearRegression_Objective:\n"
     ]
    },
    {
     "name": "stderr",
     "output_type": "stream",
     "text": [
      "  6%|██▎                                   | 499/8000 [00:00<00:02, 3523.85it/s]\n",
      "88it [00:00, 876.89it/s]"
     ]
    },
    {
     "name": "stdout",
     "output_type": "stream",
     "text": [
      "iterations: 499\n",
      "Number of used features: 26\n",
      "Used features: ['num-p004-groin.nii.gz-0.500000', 'sum-p004-groin.nii.gz-0.500000', 'mean-p004-groin.nii.gz-0.500000', 'std-p004-groin.nii.gz-0.500000', 'skew-p004-groin.nii.gz-0.500000', 'kurt-p004-groin.nii.gz-0.500000', 'hist-0-p004-groin.nii.gz-0.500000', 'hist-1-p004-groin.nii.gz-0.500000', 'hist-2-p004-groin.nii.gz-0.500000', 'hist-3-p004-groin.nii.gz-0.500000', 'hist-4-p004-groin.nii.gz-0.500000', 'hist-5-p004-groin.nii.gz-0.500000', 'hist-6-p004-groin.nii.gz-0.500000', 'hist-7-p004-groin.nii.gz-0.500000', 'hist-8-p004-groin.nii.gz-0.500000', 'hist-9-p004-groin.nii.gz-0.500000', 'hist-10-p004-groin.nii.gz-0.500000', 'hist-11-p004-groin.nii.gz-0.500000', 'hist-12-p004-groin.nii.gz-0.500000', 'hist-13-p004-groin.nii.gz-0.500000', 'hist-14-p004-groin.nii.gz-0.500000', 'hist-15-p004-groin.nii.gz-0.500000', 'hist-16-p004-groin.nii.gz-0.500000', 'hist-17-p004-groin.nii.gz-0.500000', 'hist-18-p004-groin.nii.gz-0.500000', 'hist-19-p004-groin.nii.gz-0.500000'] \n",
      "Score: 1.0950217781251599\n"
     ]
    },
    {
     "name": "stderr",
     "output_type": "stream",
     "text": [
      "200it [00:00, 874.46it/s]\n",
      "  0%|                                                  | 0/8000 [00:00<?, ?it/s]"
     ]
    },
    {
     "name": "stdout",
     "output_type": "stream",
     "text": [
      "1\n",
      "1 -0.2564853150396842\n",
      "Objective LassoRegression_Objective:\n"
     ]
    },
    {
     "name": "stderr",
     "output_type": "stream",
     "text": [
      "  6%|██▍                                    | 499/8000 [00:02<00:31, 239.00it/s]\n",
      "61it [00:00, 609.22it/s]"
     ]
    },
    {
     "name": "stdout",
     "output_type": "stream",
     "text": [
      "iterations: 499\n",
      "Number of used features: 26\n",
      "Used features: ['num-p004-groin.nii.gz-0.500000', 'sum-p004-groin.nii.gz-0.500000', 'mean-p004-groin.nii.gz-0.500000', 'std-p004-groin.nii.gz-0.500000', 'skew-p004-groin.nii.gz-0.500000', 'kurt-p004-groin.nii.gz-0.500000', 'hist-0-p004-groin.nii.gz-0.500000', 'hist-1-p004-groin.nii.gz-0.500000', 'hist-2-p004-groin.nii.gz-0.500000', 'hist-3-p004-groin.nii.gz-0.500000', 'hist-4-p004-groin.nii.gz-0.500000', 'hist-5-p004-groin.nii.gz-0.500000', 'hist-6-p004-groin.nii.gz-0.500000', 'hist-7-p004-groin.nii.gz-0.500000', 'hist-8-p004-groin.nii.gz-0.500000', 'hist-9-p004-groin.nii.gz-0.500000', 'hist-10-p004-groin.nii.gz-0.500000', 'hist-11-p004-groin.nii.gz-0.500000', 'hist-12-p004-groin.nii.gz-0.500000', 'hist-13-p004-groin.nii.gz-0.500000', 'hist-14-p004-groin.nii.gz-0.500000', 'hist-15-p004-groin.nii.gz-0.500000', 'hist-16-p004-groin.nii.gz-0.500000', 'hist-17-p004-groin.nii.gz-0.500000', 'hist-18-p004-groin.nii.gz-0.500000', 'hist-19-p004-groin.nii.gz-0.500000'] \n",
      "Score: -0.4476735217185558\n"
     ]
    },
    {
     "name": "stderr",
     "output_type": "stream",
     "text": [
      "200it [00:00, 608.84it/s]\n",
      "  0%|                                                  | 0/8000 [00:00<?, ?it/s]"
     ]
    },
    {
     "name": "stdout",
     "output_type": "stream",
     "text": [
      "1\n",
      "1 0.4704446284843825\n",
      "Objective RidgeRegression_Objective:\n"
     ]
    },
    {
     "name": "stderr",
     "output_type": "stream",
     "text": [
      "  6%|██▍                                    | 508/8000 [00:01<00:21, 344.05it/s]\n",
      "51it [00:00, 503.35it/s]"
     ]
    },
    {
     "name": "stdout",
     "output_type": "stream",
     "text": [
      "iterations: 508\n",
      "Number of used features: 26\n",
      "Used features: ['num-p004-groin.nii.gz-0.500000', 'sum-p004-groin.nii.gz-0.500000', 'mean-p004-groin.nii.gz-0.500000', 'std-p004-groin.nii.gz-0.500000', 'skew-p004-groin.nii.gz-0.500000', 'kurt-p004-groin.nii.gz-0.500000', 'hist-0-p004-groin.nii.gz-0.500000', 'hist-1-p004-groin.nii.gz-0.500000', 'hist-2-p004-groin.nii.gz-0.500000', 'hist-3-p004-groin.nii.gz-0.500000', 'hist-4-p004-groin.nii.gz-0.500000', 'hist-5-p004-groin.nii.gz-0.500000', 'hist-6-p004-groin.nii.gz-0.500000', 'hist-7-p004-groin.nii.gz-0.500000', 'hist-8-p004-groin.nii.gz-0.500000', 'hist-9-p004-groin.nii.gz-0.500000', 'hist-10-p004-groin.nii.gz-0.500000', 'hist-11-p004-groin.nii.gz-0.500000', 'hist-12-p004-groin.nii.gz-0.500000', 'hist-13-p004-groin.nii.gz-0.500000', 'hist-14-p004-groin.nii.gz-0.500000', 'hist-15-p004-groin.nii.gz-0.500000', 'hist-16-p004-groin.nii.gz-0.500000', 'hist-17-p004-groin.nii.gz-0.500000', 'hist-18-p004-groin.nii.gz-0.500000', 'hist-19-p004-groin.nii.gz-0.500000'] \n",
      "Score: -0.4550807524206304\n"
     ]
    },
    {
     "name": "stderr",
     "output_type": "stream",
     "text": [
      "200it [00:00, 502.63it/s]\n",
      "  0%|                                                  | 0/8000 [00:00<?, ?it/s]"
     ]
    },
    {
     "name": "stdout",
     "output_type": "stream",
     "text": [
      "1\n",
      "1 0.5019652252745097\n",
      "Objective PLSRegression_Objective:\n"
     ]
    },
    {
     "name": "stderr",
     "output_type": "stream",
     "text": [
      "  6%|██▍                                   | 502/8000 [00:00<00:06, 1096.01it/s]\n",
      "79it [00:00, 785.91it/s]"
     ]
    },
    {
     "name": "stdout",
     "output_type": "stream",
     "text": [
      "iterations: 502\n",
      "Number of used features: 26\n",
      "Used features: ['num-p004-groin.nii.gz-0.500000', 'sum-p004-groin.nii.gz-0.500000', 'mean-p004-groin.nii.gz-0.500000', 'std-p004-groin.nii.gz-0.500000', 'skew-p004-groin.nii.gz-0.500000', 'kurt-p004-groin.nii.gz-0.500000', 'hist-0-p004-groin.nii.gz-0.500000', 'hist-1-p004-groin.nii.gz-0.500000', 'hist-2-p004-groin.nii.gz-0.500000', 'hist-3-p004-groin.nii.gz-0.500000', 'hist-4-p004-groin.nii.gz-0.500000', 'hist-5-p004-groin.nii.gz-0.500000', 'hist-6-p004-groin.nii.gz-0.500000', 'hist-7-p004-groin.nii.gz-0.500000', 'hist-8-p004-groin.nii.gz-0.500000', 'hist-9-p004-groin.nii.gz-0.500000', 'hist-10-p004-groin.nii.gz-0.500000', 'hist-11-p004-groin.nii.gz-0.500000', 'hist-12-p004-groin.nii.gz-0.500000', 'hist-13-p004-groin.nii.gz-0.500000', 'hist-14-p004-groin.nii.gz-0.500000', 'hist-15-p004-groin.nii.gz-0.500000', 'hist-16-p004-groin.nii.gz-0.500000', 'hist-17-p004-groin.nii.gz-0.500000', 'hist-18-p004-groin.nii.gz-0.500000', 'hist-19-p004-groin.nii.gz-0.500000'] \n",
      "Score: -0.4313395372327208\n"
     ]
    },
    {
     "name": "stderr",
     "output_type": "stream",
     "text": [
      "200it [00:00, 783.60it/s]\n",
      "  0%|                                                  | 0/8000 [00:00<?, ?it/s]"
     ]
    },
    {
     "name": "stdout",
     "output_type": "stream",
     "text": [
      "1\n",
      "1 0.4389807113115459\n",
      "Objective KNNR_Objective:\n"
     ]
    },
    {
     "name": "stderr",
     "output_type": "stream",
     "text": [
      "  7%|██▊                                     | 566/8000 [00:15<03:25, 36.13it/s]\n",
      "75it [00:00, 744.88it/s]"
     ]
    },
    {
     "name": "stdout",
     "output_type": "stream",
     "text": [
      "iterations: 566\n",
      "Number of used features: 26\n",
      "Used features: ['num-p029-groin.nii.gz-0.500000', 'sum-p029-groin.nii.gz-0.500000', 'mean-p029-groin.nii.gz-0.500000', 'std-p029-groin.nii.gz-0.500000', 'skew-p029-groin.nii.gz-0.500000', 'kurt-p029-groin.nii.gz-0.500000', 'hist-0-p029-groin.nii.gz-0.500000', 'hist-1-p029-groin.nii.gz-0.500000', 'hist-2-p029-groin.nii.gz-0.500000', 'hist-3-p029-groin.nii.gz-0.500000', 'hist-4-p029-groin.nii.gz-0.500000', 'hist-5-p029-groin.nii.gz-0.500000', 'hist-6-p029-groin.nii.gz-0.500000', 'hist-7-p029-groin.nii.gz-0.500000', 'hist-8-p029-groin.nii.gz-0.500000', 'hist-9-p029-groin.nii.gz-0.500000', 'hist-10-p029-groin.nii.gz-0.500000', 'hist-11-p029-groin.nii.gz-0.500000', 'hist-12-p029-groin.nii.gz-0.500000', 'hist-13-p029-groin.nii.gz-0.500000', 'hist-14-p029-groin.nii.gz-0.500000', 'hist-15-p029-groin.nii.gz-0.500000', 'hist-16-p029-groin.nii.gz-0.500000', 'hist-17-p029-groin.nii.gz-0.500000', 'hist-18-p029-groin.nii.gz-0.500000', 'hist-19-p029-groin.nii.gz-0.500000'] \n",
      "Score: -0.4286394891112828\n"
     ]
    },
    {
     "name": "stderr",
     "output_type": "stream",
     "text": [
      "200it [00:00, 742.55it/s]\n",
      "  0%|                                                  | 0/8000 [00:00<?, ?it/s]"
     ]
    },
    {
     "name": "stdout",
     "output_type": "stream",
     "text": [
      "1\n",
      "1 0.49338922242268457\n",
      "Objective LinearRegression_Objective:\n"
     ]
    },
    {
     "name": "stderr",
     "output_type": "stream",
     "text": [
      "  6%|██▎                                   | 499/8000 [00:00<00:02, 3567.28it/s]\n",
      "89it [00:00, 888.33it/s]"
     ]
    },
    {
     "name": "stdout",
     "output_type": "stream",
     "text": [
      "iterations: 499\n",
      "Number of used features: 26\n",
      "Used features: ['num-p029-groin.nii.gz-0.500000', 'sum-p029-groin.nii.gz-0.500000', 'mean-p029-groin.nii.gz-0.500000', 'std-p029-groin.nii.gz-0.500000', 'skew-p029-groin.nii.gz-0.500000', 'kurt-p029-groin.nii.gz-0.500000', 'hist-0-p029-groin.nii.gz-0.500000', 'hist-1-p029-groin.nii.gz-0.500000', 'hist-2-p029-groin.nii.gz-0.500000', 'hist-3-p029-groin.nii.gz-0.500000', 'hist-4-p029-groin.nii.gz-0.500000', 'hist-5-p029-groin.nii.gz-0.500000', 'hist-6-p029-groin.nii.gz-0.500000', 'hist-7-p029-groin.nii.gz-0.500000', 'hist-8-p029-groin.nii.gz-0.500000', 'hist-9-p029-groin.nii.gz-0.500000', 'hist-10-p029-groin.nii.gz-0.500000', 'hist-11-p029-groin.nii.gz-0.500000', 'hist-12-p029-groin.nii.gz-0.500000', 'hist-13-p029-groin.nii.gz-0.500000', 'hist-14-p029-groin.nii.gz-0.500000', 'hist-15-p029-groin.nii.gz-0.500000', 'hist-16-p029-groin.nii.gz-0.500000', 'hist-17-p029-groin.nii.gz-0.500000', 'hist-18-p029-groin.nii.gz-0.500000', 'hist-19-p029-groin.nii.gz-0.500000'] \n",
      "Score: 0.2698526546581401\n"
     ]
    },
    {
     "name": "stderr",
     "output_type": "stream",
     "text": [
      "200it [00:00, 880.36it/s]\n",
      "  0%|                                                  | 0/8000 [00:00<?, ?it/s]"
     ]
    },
    {
     "name": "stdout",
     "output_type": "stream",
     "text": [
      "1\n",
      "1 0.049801227581596996\n",
      "Objective LassoRegression_Objective:\n"
     ]
    },
    {
     "name": "stderr",
     "output_type": "stream",
     "text": [
      "  6%|██▍                                    | 500/8000 [00:02<00:30, 244.82it/s]\n",
      "60it [00:00, 599.78it/s]"
     ]
    },
    {
     "name": "stdout",
     "output_type": "stream",
     "text": [
      "iterations: 500\n",
      "Number of used features: 26\n",
      "Used features: ['num-p029-groin.nii.gz-0.500000', 'sum-p029-groin.nii.gz-0.500000', 'mean-p029-groin.nii.gz-0.500000', 'std-p029-groin.nii.gz-0.500000', 'skew-p029-groin.nii.gz-0.500000', 'kurt-p029-groin.nii.gz-0.500000', 'hist-0-p029-groin.nii.gz-0.500000', 'hist-1-p029-groin.nii.gz-0.500000', 'hist-2-p029-groin.nii.gz-0.500000', 'hist-3-p029-groin.nii.gz-0.500000', 'hist-4-p029-groin.nii.gz-0.500000', 'hist-5-p029-groin.nii.gz-0.500000', 'hist-6-p029-groin.nii.gz-0.500000', 'hist-7-p029-groin.nii.gz-0.500000', 'hist-8-p029-groin.nii.gz-0.500000', 'hist-9-p029-groin.nii.gz-0.500000', 'hist-10-p029-groin.nii.gz-0.500000', 'hist-11-p029-groin.nii.gz-0.500000', 'hist-12-p029-groin.nii.gz-0.500000', 'hist-13-p029-groin.nii.gz-0.500000', 'hist-14-p029-groin.nii.gz-0.500000', 'hist-15-p029-groin.nii.gz-0.500000', 'hist-16-p029-groin.nii.gz-0.500000', 'hist-17-p029-groin.nii.gz-0.500000', 'hist-18-p029-groin.nii.gz-0.500000', 'hist-19-p029-groin.nii.gz-0.500000'] \n",
      "Score: -0.625627586112953\n"
     ]
    },
    {
     "name": "stderr",
     "output_type": "stream",
     "text": [
      "200it [00:00, 604.04it/s]\n",
      "  0%|                                                  | 0/8000 [00:00<?, ?it/s]"
     ]
    },
    {
     "name": "stdout",
     "output_type": "stream",
     "text": [
      "1\n",
      "1 0.6699358227806358\n",
      "Objective RidgeRegression_Objective:\n"
     ]
    },
    {
     "name": "stderr",
     "output_type": "stream",
     "text": [
      "  6%|██▍                                    | 499/8000 [00:01<00:27, 269.10it/s]\n",
      "51it [00:00, 500.23it/s]"
     ]
    },
    {
     "name": "stdout",
     "output_type": "stream",
     "text": [
      "iterations: 499\n",
      "Number of used features: 26\n",
      "Used features: ['num-p029-groin.nii.gz-0.500000', 'sum-p029-groin.nii.gz-0.500000', 'mean-p029-groin.nii.gz-0.500000', 'std-p029-groin.nii.gz-0.500000', 'skew-p029-groin.nii.gz-0.500000', 'kurt-p029-groin.nii.gz-0.500000', 'hist-0-p029-groin.nii.gz-0.500000', 'hist-1-p029-groin.nii.gz-0.500000', 'hist-2-p029-groin.nii.gz-0.500000', 'hist-3-p029-groin.nii.gz-0.500000', 'hist-4-p029-groin.nii.gz-0.500000', 'hist-5-p029-groin.nii.gz-0.500000', 'hist-6-p029-groin.nii.gz-0.500000', 'hist-7-p029-groin.nii.gz-0.500000', 'hist-8-p029-groin.nii.gz-0.500000', 'hist-9-p029-groin.nii.gz-0.500000', 'hist-10-p029-groin.nii.gz-0.500000', 'hist-11-p029-groin.nii.gz-0.500000', 'hist-12-p029-groin.nii.gz-0.500000', 'hist-13-p029-groin.nii.gz-0.500000', 'hist-14-p029-groin.nii.gz-0.500000', 'hist-15-p029-groin.nii.gz-0.500000', 'hist-16-p029-groin.nii.gz-0.500000', 'hist-17-p029-groin.nii.gz-0.500000', 'hist-18-p029-groin.nii.gz-0.500000', 'hist-19-p029-groin.nii.gz-0.500000'] \n",
      "Score: -0.5496887108758841\n"
     ]
    },
    {
     "name": "stderr",
     "output_type": "stream",
     "text": [
      "200it [00:00, 501.05it/s]\n",
      "  0%|                                                  | 0/8000 [00:00<?, ?it/s]"
     ]
    },
    {
     "name": "stdout",
     "output_type": "stream",
     "text": [
      "1\n",
      "1 0.5971667713242306\n",
      "Objective PLSRegression_Objective:\n"
     ]
    },
    {
     "name": "stderr",
     "output_type": "stream",
     "text": [
      "  6%|██▍                                   | 502/8000 [00:00<00:06, 1102.05it/s]\n",
      "79it [00:00, 787.80it/s]"
     ]
    },
    {
     "name": "stdout",
     "output_type": "stream",
     "text": [
      "iterations: 502\n",
      "Number of used features: 26\n",
      "Used features: ['num-p029-groin.nii.gz-0.500000', 'sum-p029-groin.nii.gz-0.500000', 'mean-p029-groin.nii.gz-0.500000', 'std-p029-groin.nii.gz-0.500000', 'skew-p029-groin.nii.gz-0.500000', 'kurt-p029-groin.nii.gz-0.500000', 'hist-0-p029-groin.nii.gz-0.500000', 'hist-1-p029-groin.nii.gz-0.500000', 'hist-2-p029-groin.nii.gz-0.500000', 'hist-3-p029-groin.nii.gz-0.500000', 'hist-4-p029-groin.nii.gz-0.500000', 'hist-5-p029-groin.nii.gz-0.500000', 'hist-6-p029-groin.nii.gz-0.500000', 'hist-7-p029-groin.nii.gz-0.500000', 'hist-8-p029-groin.nii.gz-0.500000', 'hist-9-p029-groin.nii.gz-0.500000', 'hist-10-p029-groin.nii.gz-0.500000', 'hist-11-p029-groin.nii.gz-0.500000', 'hist-12-p029-groin.nii.gz-0.500000', 'hist-13-p029-groin.nii.gz-0.500000', 'hist-14-p029-groin.nii.gz-0.500000', 'hist-15-p029-groin.nii.gz-0.500000', 'hist-16-p029-groin.nii.gz-0.500000', 'hist-17-p029-groin.nii.gz-0.500000', 'hist-18-p029-groin.nii.gz-0.500000', 'hist-19-p029-groin.nii.gz-0.500000'] \n",
      "Score: -0.5465720171007317\n"
     ]
    },
    {
     "name": "stderr",
     "output_type": "stream",
     "text": [
      "200it [00:00, 785.60it/s]\n",
      "  0%|                                                  | 0/8000 [00:00<?, ?it/s]"
     ]
    },
    {
     "name": "stdout",
     "output_type": "stream",
     "text": [
      "1\n",
      "1 0.559207118652405\n",
      "Objective KNNR_Objective:\n"
     ]
    },
    {
     "name": "stderr",
     "output_type": "stream",
     "text": [
      "  7%|██▋                                     | 538/8000 [00:15<03:37, 34.24it/s]\n",
      "76it [00:00, 758.28it/s]"
     ]
    },
    {
     "name": "stdout",
     "output_type": "stream",
     "text": [
      "iterations: 538\n",
      "Number of used features: 26\n",
      "Used features: ['num-p032-groin.nii.gz-0.500000', 'sum-p032-groin.nii.gz-0.500000', 'mean-p032-groin.nii.gz-0.500000', 'std-p032-groin.nii.gz-0.500000', 'skew-p032-groin.nii.gz-0.500000', 'kurt-p032-groin.nii.gz-0.500000', 'hist-0-p032-groin.nii.gz-0.500000', 'hist-1-p032-groin.nii.gz-0.500000', 'hist-2-p032-groin.nii.gz-0.500000', 'hist-3-p032-groin.nii.gz-0.500000', 'hist-4-p032-groin.nii.gz-0.500000', 'hist-5-p032-groin.nii.gz-0.500000', 'hist-6-p032-groin.nii.gz-0.500000', 'hist-7-p032-groin.nii.gz-0.500000', 'hist-8-p032-groin.nii.gz-0.500000', 'hist-9-p032-groin.nii.gz-0.500000', 'hist-10-p032-groin.nii.gz-0.500000', 'hist-11-p032-groin.nii.gz-0.500000', 'hist-12-p032-groin.nii.gz-0.500000', 'hist-13-p032-groin.nii.gz-0.500000', 'hist-14-p032-groin.nii.gz-0.500000', 'hist-15-p032-groin.nii.gz-0.500000', 'hist-16-p032-groin.nii.gz-0.500000', 'hist-17-p032-groin.nii.gz-0.500000', 'hist-18-p032-groin.nii.gz-0.500000', 'hist-19-p032-groin.nii.gz-0.500000'] \n",
      "Score: -0.3635421591841915\n"
     ]
    },
    {
     "name": "stderr",
     "output_type": "stream",
     "text": [
      "200it [00:00, 762.37it/s]\n",
      "  0%|                                                  | 0/8000 [00:00<?, ?it/s]"
     ]
    },
    {
     "name": "stdout",
     "output_type": "stream",
     "text": [
      "1\n",
      "1 0.36001267497338896\n",
      "Objective LinearRegression_Objective:\n"
     ]
    },
    {
     "name": "stderr",
     "output_type": "stream",
     "text": [
      "  6%|██▎                                   | 499/8000 [00:00<00:02, 3532.04it/s]\n",
      "89it [00:00, 880.72it/s]"
     ]
    },
    {
     "name": "stdout",
     "output_type": "stream",
     "text": [
      "iterations: 499\n",
      "Number of used features: 26\n",
      "Used features: ['num-p032-groin.nii.gz-0.500000', 'sum-p032-groin.nii.gz-0.500000', 'mean-p032-groin.nii.gz-0.500000', 'std-p032-groin.nii.gz-0.500000', 'skew-p032-groin.nii.gz-0.500000', 'kurt-p032-groin.nii.gz-0.500000', 'hist-0-p032-groin.nii.gz-0.500000', 'hist-1-p032-groin.nii.gz-0.500000', 'hist-2-p032-groin.nii.gz-0.500000', 'hist-3-p032-groin.nii.gz-0.500000', 'hist-4-p032-groin.nii.gz-0.500000', 'hist-5-p032-groin.nii.gz-0.500000', 'hist-6-p032-groin.nii.gz-0.500000', 'hist-7-p032-groin.nii.gz-0.500000', 'hist-8-p032-groin.nii.gz-0.500000', 'hist-9-p032-groin.nii.gz-0.500000', 'hist-10-p032-groin.nii.gz-0.500000', 'hist-11-p032-groin.nii.gz-0.500000', 'hist-12-p032-groin.nii.gz-0.500000', 'hist-13-p032-groin.nii.gz-0.500000', 'hist-14-p032-groin.nii.gz-0.500000', 'hist-15-p032-groin.nii.gz-0.500000', 'hist-16-p032-groin.nii.gz-0.500000', 'hist-17-p032-groin.nii.gz-0.500000', 'hist-18-p032-groin.nii.gz-0.500000', 'hist-19-p032-groin.nii.gz-0.500000'] \n",
      "Score: 0.8626630140605105\n"
     ]
    },
    {
     "name": "stderr",
     "output_type": "stream",
     "text": [
      "200it [00:00, 876.52it/s]\n",
      "  0%|                                                  | 0/8000 [00:00<?, ?it/s]"
     ]
    },
    {
     "name": "stdout",
     "output_type": "stream",
     "text": [
      "1\n",
      "1 -0.16653683817168385\n",
      "Objective LassoRegression_Objective:\n"
     ]
    },
    {
     "name": "stderr",
     "output_type": "stream",
     "text": [
      "  6%|██▍                                    | 499/8000 [00:02<00:30, 242.29it/s]\n",
      "61it [00:00, 608.07it/s]"
     ]
    },
    {
     "name": "stdout",
     "output_type": "stream",
     "text": [
      "iterations: 499\n",
      "Number of used features: 26\n",
      "Used features: ['num-p032-groin.nii.gz-0.500000', 'sum-p032-groin.nii.gz-0.500000', 'mean-p032-groin.nii.gz-0.500000', 'std-p032-groin.nii.gz-0.500000', 'skew-p032-groin.nii.gz-0.500000', 'kurt-p032-groin.nii.gz-0.500000', 'hist-0-p032-groin.nii.gz-0.500000', 'hist-1-p032-groin.nii.gz-0.500000', 'hist-2-p032-groin.nii.gz-0.500000', 'hist-3-p032-groin.nii.gz-0.500000', 'hist-4-p032-groin.nii.gz-0.500000', 'hist-5-p032-groin.nii.gz-0.500000', 'hist-6-p032-groin.nii.gz-0.500000', 'hist-7-p032-groin.nii.gz-0.500000', 'hist-8-p032-groin.nii.gz-0.500000', 'hist-9-p032-groin.nii.gz-0.500000', 'hist-10-p032-groin.nii.gz-0.500000', 'hist-11-p032-groin.nii.gz-0.500000', 'hist-12-p032-groin.nii.gz-0.500000', 'hist-13-p032-groin.nii.gz-0.500000', 'hist-14-p032-groin.nii.gz-0.500000', 'hist-15-p032-groin.nii.gz-0.500000', 'hist-16-p032-groin.nii.gz-0.500000', 'hist-17-p032-groin.nii.gz-0.500000', 'hist-18-p032-groin.nii.gz-0.500000', 'hist-19-p032-groin.nii.gz-0.500000'] \n",
      "Score: -0.47006154424523117\n"
     ]
    },
    {
     "name": "stderr",
     "output_type": "stream",
     "text": [
      "200it [00:00, 608.98it/s]\n",
      "  0%|                                                  | 0/8000 [00:00<?, ?it/s]"
     ]
    },
    {
     "name": "stdout",
     "output_type": "stream",
     "text": [
      "1\n",
      "1 0.4999706866939816\n",
      "Objective RidgeRegression_Objective:\n"
     ]
    },
    {
     "name": "stderr",
     "output_type": "stream",
     "text": [
      "  6%|██▍                                    | 499/8000 [00:01<00:29, 257.91it/s]\n",
      "47it [00:00, 468.58it/s]"
     ]
    },
    {
     "name": "stdout",
     "output_type": "stream",
     "text": [
      "iterations: 499\n",
      "Number of used features: 26\n",
      "Used features: ['num-p032-groin.nii.gz-0.500000', 'sum-p032-groin.nii.gz-0.500000', 'mean-p032-groin.nii.gz-0.500000', 'std-p032-groin.nii.gz-0.500000', 'skew-p032-groin.nii.gz-0.500000', 'kurt-p032-groin.nii.gz-0.500000', 'hist-0-p032-groin.nii.gz-0.500000', 'hist-1-p032-groin.nii.gz-0.500000', 'hist-2-p032-groin.nii.gz-0.500000', 'hist-3-p032-groin.nii.gz-0.500000', 'hist-4-p032-groin.nii.gz-0.500000', 'hist-5-p032-groin.nii.gz-0.500000', 'hist-6-p032-groin.nii.gz-0.500000', 'hist-7-p032-groin.nii.gz-0.500000', 'hist-8-p032-groin.nii.gz-0.500000', 'hist-9-p032-groin.nii.gz-0.500000', 'hist-10-p032-groin.nii.gz-0.500000', 'hist-11-p032-groin.nii.gz-0.500000', 'hist-12-p032-groin.nii.gz-0.500000', 'hist-13-p032-groin.nii.gz-0.500000', 'hist-14-p032-groin.nii.gz-0.500000', 'hist-15-p032-groin.nii.gz-0.500000', 'hist-16-p032-groin.nii.gz-0.500000', 'hist-17-p032-groin.nii.gz-0.500000', 'hist-18-p032-groin.nii.gz-0.500000', 'hist-19-p032-groin.nii.gz-0.500000'] \n",
      "Score: -0.44995608921117547\n"
     ]
    },
    {
     "name": "stderr",
     "output_type": "stream",
     "text": [
      "200it [00:00, 467.57it/s]\n",
      "  0%|                                                  | 0/8000 [00:00<?, ?it/s]"
     ]
    },
    {
     "name": "stdout",
     "output_type": "stream",
     "text": [
      "1\n",
      "1 0.4587571729412687\n",
      "Objective PLSRegression_Objective:\n"
     ]
    },
    {
     "name": "stderr",
     "output_type": "stream",
     "text": [
      "  6%|██▎                                   | 499/8000 [00:00<00:06, 1075.81it/s]\n",
      "73it [00:00, 725.58it/s]"
     ]
    },
    {
     "name": "stdout",
     "output_type": "stream",
     "text": [
      "iterations: 499\n",
      "Number of used features: 26\n",
      "Used features: ['num-p032-groin.nii.gz-0.500000', 'sum-p032-groin.nii.gz-0.500000', 'mean-p032-groin.nii.gz-0.500000', 'std-p032-groin.nii.gz-0.500000', 'skew-p032-groin.nii.gz-0.500000', 'kurt-p032-groin.nii.gz-0.500000', 'hist-0-p032-groin.nii.gz-0.500000', 'hist-1-p032-groin.nii.gz-0.500000', 'hist-2-p032-groin.nii.gz-0.500000', 'hist-3-p032-groin.nii.gz-0.500000', 'hist-4-p032-groin.nii.gz-0.500000', 'hist-5-p032-groin.nii.gz-0.500000', 'hist-6-p032-groin.nii.gz-0.500000', 'hist-7-p032-groin.nii.gz-0.500000', 'hist-8-p032-groin.nii.gz-0.500000', 'hist-9-p032-groin.nii.gz-0.500000', 'hist-10-p032-groin.nii.gz-0.500000', 'hist-11-p032-groin.nii.gz-0.500000', 'hist-12-p032-groin.nii.gz-0.500000', 'hist-13-p032-groin.nii.gz-0.500000', 'hist-14-p032-groin.nii.gz-0.500000', 'hist-15-p032-groin.nii.gz-0.500000', 'hist-16-p032-groin.nii.gz-0.500000', 'hist-17-p032-groin.nii.gz-0.500000', 'hist-18-p032-groin.nii.gz-0.500000', 'hist-19-p032-groin.nii.gz-0.500000'] \n",
      "Score: -0.3678020263408104\n"
     ]
    },
    {
     "name": "stderr",
     "output_type": "stream",
     "text": [
      "200it [00:00, 724.09it/s]\n",
      "  0%|                                                  | 0/8000 [00:00<?, ?it/s]"
     ]
    },
    {
     "name": "stdout",
     "output_type": "stream",
     "text": [
      "1\n",
      "1 0.3711994044012299\n",
      "Objective KNNR_Objective:\n"
     ]
    },
    {
     "name": "stderr",
     "output_type": "stream",
     "text": [
      "  6%|██▌                                     | 509/8000 [00:13<03:16, 38.07it/s]\n",
      "81it [00:00, 803.48it/s]"
     ]
    },
    {
     "name": "stdout",
     "output_type": "stream",
     "text": [
      "iterations: 509\n",
      "Number of used features: 26\n",
      "Used features: ['num-p041-groin.nii.gz-0.500000', 'sum-p041-groin.nii.gz-0.500000', 'mean-p041-groin.nii.gz-0.500000', 'std-p041-groin.nii.gz-0.500000', 'skew-p041-groin.nii.gz-0.500000', 'kurt-p041-groin.nii.gz-0.500000', 'hist-0-p041-groin.nii.gz-0.500000', 'hist-1-p041-groin.nii.gz-0.500000', 'hist-2-p041-groin.nii.gz-0.500000', 'hist-3-p041-groin.nii.gz-0.500000', 'hist-4-p041-groin.nii.gz-0.500000', 'hist-5-p041-groin.nii.gz-0.500000', 'hist-6-p041-groin.nii.gz-0.500000', 'hist-7-p041-groin.nii.gz-0.500000', 'hist-8-p041-groin.nii.gz-0.500000', 'hist-9-p041-groin.nii.gz-0.500000', 'hist-10-p041-groin.nii.gz-0.500000', 'hist-11-p041-groin.nii.gz-0.500000', 'hist-12-p041-groin.nii.gz-0.500000', 'hist-13-p041-groin.nii.gz-0.500000', 'hist-14-p041-groin.nii.gz-0.500000', 'hist-15-p041-groin.nii.gz-0.500000', 'hist-16-p041-groin.nii.gz-0.500000', 'hist-17-p041-groin.nii.gz-0.500000', 'hist-18-p041-groin.nii.gz-0.500000', 'hist-19-p041-groin.nii.gz-0.500000'] \n",
      "Score: -0.33734479307549947\n"
     ]
    },
    {
     "name": "stderr",
     "output_type": "stream",
     "text": [
      "200it [00:00, 797.68it/s]\n",
      "  0%|                                                  | 0/8000 [00:00<?, ?it/s]"
     ]
    },
    {
     "name": "stdout",
     "output_type": "stream",
     "text": [
      "1\n",
      "1 0.3572299289991969\n",
      "Objective LinearRegression_Objective:\n"
     ]
    },
    {
     "name": "stderr",
     "output_type": "stream",
     "text": [
      "  6%|██▎                                   | 499/8000 [00:00<00:02, 3617.55it/s]\n",
      "90it [00:00, 897.93it/s]"
     ]
    },
    {
     "name": "stdout",
     "output_type": "stream",
     "text": [
      "iterations: 499\n",
      "Number of used features: 26\n",
      "Used features: ['num-p041-groin.nii.gz-0.500000', 'sum-p041-groin.nii.gz-0.500000', 'mean-p041-groin.nii.gz-0.500000', 'std-p041-groin.nii.gz-0.500000', 'skew-p041-groin.nii.gz-0.500000', 'kurt-p041-groin.nii.gz-0.500000', 'hist-0-p041-groin.nii.gz-0.500000', 'hist-1-p041-groin.nii.gz-0.500000', 'hist-2-p041-groin.nii.gz-0.500000', 'hist-3-p041-groin.nii.gz-0.500000', 'hist-4-p041-groin.nii.gz-0.500000', 'hist-5-p041-groin.nii.gz-0.500000', 'hist-6-p041-groin.nii.gz-0.500000', 'hist-7-p041-groin.nii.gz-0.500000', 'hist-8-p041-groin.nii.gz-0.500000', 'hist-9-p041-groin.nii.gz-0.500000', 'hist-10-p041-groin.nii.gz-0.500000', 'hist-11-p041-groin.nii.gz-0.500000', 'hist-12-p041-groin.nii.gz-0.500000', 'hist-13-p041-groin.nii.gz-0.500000', 'hist-14-p041-groin.nii.gz-0.500000', 'hist-15-p041-groin.nii.gz-0.500000', 'hist-16-p041-groin.nii.gz-0.500000', 'hist-17-p041-groin.nii.gz-0.500000', 'hist-18-p041-groin.nii.gz-0.500000', 'hist-19-p041-groin.nii.gz-0.500000'] \n",
      "Score: 0.28015159163138503\n"
     ]
    },
    {
     "name": "stderr",
     "output_type": "stream",
     "text": [
      "200it [00:00, 891.50it/s]\n",
      "  0%|                                                  | 0/8000 [00:00<?, ?it/s]"
     ]
    },
    {
     "name": "stdout",
     "output_type": "stream",
     "text": [
      "1\n",
      "1 0.23084717629483686\n",
      "Objective LassoRegression_Objective:\n"
     ]
    },
    {
     "name": "stderr",
     "output_type": "stream",
     "text": [
      "  6%|██▍                                    | 505/8000 [00:02<00:29, 250.52it/s]\n",
      "55it [00:00, 546.28it/s]"
     ]
    },
    {
     "name": "stdout",
     "output_type": "stream",
     "text": [
      "iterations: 505\n",
      "Number of used features: 26\n",
      "Used features: ['num-p041-groin.nii.gz-0.500000', 'sum-p041-groin.nii.gz-0.500000', 'mean-p041-groin.nii.gz-0.500000', 'std-p041-groin.nii.gz-0.500000', 'skew-p041-groin.nii.gz-0.500000', 'kurt-p041-groin.nii.gz-0.500000', 'hist-0-p041-groin.nii.gz-0.500000', 'hist-1-p041-groin.nii.gz-0.500000', 'hist-2-p041-groin.nii.gz-0.500000', 'hist-3-p041-groin.nii.gz-0.500000', 'hist-4-p041-groin.nii.gz-0.500000', 'hist-5-p041-groin.nii.gz-0.500000', 'hist-6-p041-groin.nii.gz-0.500000', 'hist-7-p041-groin.nii.gz-0.500000', 'hist-8-p041-groin.nii.gz-0.500000', 'hist-9-p041-groin.nii.gz-0.500000', 'hist-10-p041-groin.nii.gz-0.500000', 'hist-11-p041-groin.nii.gz-0.500000', 'hist-12-p041-groin.nii.gz-0.500000', 'hist-13-p041-groin.nii.gz-0.500000', 'hist-14-p041-groin.nii.gz-0.500000', 'hist-15-p041-groin.nii.gz-0.500000', 'hist-16-p041-groin.nii.gz-0.500000', 'hist-17-p041-groin.nii.gz-0.500000', 'hist-18-p041-groin.nii.gz-0.500000', 'hist-19-p041-groin.nii.gz-0.500000'] \n",
      "Score: -0.5277863620143408\n"
     ]
    },
    {
     "name": "stderr",
     "output_type": "stream",
     "text": [
      "200it [00:00, 538.97it/s]\n",
      "  0%|                                                  | 0/8000 [00:00<?, ?it/s]"
     ]
    },
    {
     "name": "stdout",
     "output_type": "stream",
     "text": [
      "1\n",
      "1 0.6031277583736699\n",
      "Objective RidgeRegression_Objective:\n"
     ]
    },
    {
     "name": "stderr",
     "output_type": "stream",
     "text": [
      "  6%|██▍                                    | 502/8000 [00:01<00:28, 264.19it/s]\n",
      "51it [00:00, 502.64it/s]"
     ]
    },
    {
     "name": "stdout",
     "output_type": "stream",
     "text": [
      "iterations: 502\n",
      "Number of used features: 26\n",
      "Used features: ['num-p041-groin.nii.gz-0.500000', 'sum-p041-groin.nii.gz-0.500000', 'mean-p041-groin.nii.gz-0.500000', 'std-p041-groin.nii.gz-0.500000', 'skew-p041-groin.nii.gz-0.500000', 'kurt-p041-groin.nii.gz-0.500000', 'hist-0-p041-groin.nii.gz-0.500000', 'hist-1-p041-groin.nii.gz-0.500000', 'hist-2-p041-groin.nii.gz-0.500000', 'hist-3-p041-groin.nii.gz-0.500000', 'hist-4-p041-groin.nii.gz-0.500000', 'hist-5-p041-groin.nii.gz-0.500000', 'hist-6-p041-groin.nii.gz-0.500000', 'hist-7-p041-groin.nii.gz-0.500000', 'hist-8-p041-groin.nii.gz-0.500000', 'hist-9-p041-groin.nii.gz-0.500000', 'hist-10-p041-groin.nii.gz-0.500000', 'hist-11-p041-groin.nii.gz-0.500000', 'hist-12-p041-groin.nii.gz-0.500000', 'hist-13-p041-groin.nii.gz-0.500000', 'hist-14-p041-groin.nii.gz-0.500000', 'hist-15-p041-groin.nii.gz-0.500000', 'hist-16-p041-groin.nii.gz-0.500000', 'hist-17-p041-groin.nii.gz-0.500000', 'hist-18-p041-groin.nii.gz-0.500000', 'hist-19-p041-groin.nii.gz-0.500000'] \n",
      "Score: -0.5256597042230937\n"
     ]
    },
    {
     "name": "stderr",
     "output_type": "stream",
     "text": [
      "200it [00:00, 500.91it/s]\n",
      "  0%|                                                  | 0/8000 [00:00<?, ?it/s]"
     ]
    },
    {
     "name": "stdout",
     "output_type": "stream",
     "text": [
      "1\n",
      "1 0.58848153737569\n",
      "Objective PLSRegression_Objective:\n"
     ]
    },
    {
     "name": "stderr",
     "output_type": "stream",
     "text": [
      "  6%|██▍                                   | 502/8000 [00:00<00:06, 1107.15it/s]\n",
      "80it [00:00, 794.32it/s]"
     ]
    },
    {
     "name": "stdout",
     "output_type": "stream",
     "text": [
      "iterations: 502\n",
      "Number of used features: 26\n",
      "Used features: ['num-p041-groin.nii.gz-0.500000', 'sum-p041-groin.nii.gz-0.500000', 'mean-p041-groin.nii.gz-0.500000', 'std-p041-groin.nii.gz-0.500000', 'skew-p041-groin.nii.gz-0.500000', 'kurt-p041-groin.nii.gz-0.500000', 'hist-0-p041-groin.nii.gz-0.500000', 'hist-1-p041-groin.nii.gz-0.500000', 'hist-2-p041-groin.nii.gz-0.500000', 'hist-3-p041-groin.nii.gz-0.500000', 'hist-4-p041-groin.nii.gz-0.500000', 'hist-5-p041-groin.nii.gz-0.500000', 'hist-6-p041-groin.nii.gz-0.500000', 'hist-7-p041-groin.nii.gz-0.500000', 'hist-8-p041-groin.nii.gz-0.500000', 'hist-9-p041-groin.nii.gz-0.500000', 'hist-10-p041-groin.nii.gz-0.500000', 'hist-11-p041-groin.nii.gz-0.500000', 'hist-12-p041-groin.nii.gz-0.500000', 'hist-13-p041-groin.nii.gz-0.500000', 'hist-14-p041-groin.nii.gz-0.500000', 'hist-15-p041-groin.nii.gz-0.500000', 'hist-16-p041-groin.nii.gz-0.500000', 'hist-17-p041-groin.nii.gz-0.500000', 'hist-18-p041-groin.nii.gz-0.500000', 'hist-19-p041-groin.nii.gz-0.500000'] \n",
      "Score: -0.42732005401467377\n"
     ]
    },
    {
     "name": "stderr",
     "output_type": "stream",
     "text": [
      "200it [00:00, 780.60it/s]\n",
      "  0%|                                                  | 0/8000 [00:00<?, ?it/s]"
     ]
    },
    {
     "name": "stdout",
     "output_type": "stream",
     "text": [
      "1\n",
      "1 0.43456467535293575\n",
      "Objective KNNR_Objective:\n"
     ]
    },
    {
     "name": "stderr",
     "output_type": "stream",
     "text": [
      "  7%|██▊                                     | 566/8000 [00:15<03:26, 36.04it/s]\n",
      "74it [00:00, 734.58it/s]"
     ]
    },
    {
     "name": "stdout",
     "output_type": "stream",
     "text": [
      "iterations: 566\n",
      "Number of used features: 26\n",
      "Used features: ['num-p048-groin.nii.gz-0.500000', 'sum-p048-groin.nii.gz-0.500000', 'mean-p048-groin.nii.gz-0.500000', 'std-p048-groin.nii.gz-0.500000', 'skew-p048-groin.nii.gz-0.500000', 'kurt-p048-groin.nii.gz-0.500000', 'hist-0-p048-groin.nii.gz-0.500000', 'hist-1-p048-groin.nii.gz-0.500000', 'hist-2-p048-groin.nii.gz-0.500000', 'hist-3-p048-groin.nii.gz-0.500000', 'hist-4-p048-groin.nii.gz-0.500000', 'hist-5-p048-groin.nii.gz-0.500000', 'hist-6-p048-groin.nii.gz-0.500000', 'hist-7-p048-groin.nii.gz-0.500000', 'hist-8-p048-groin.nii.gz-0.500000', 'hist-9-p048-groin.nii.gz-0.500000', 'hist-10-p048-groin.nii.gz-0.500000', 'hist-11-p048-groin.nii.gz-0.500000', 'hist-12-p048-groin.nii.gz-0.500000', 'hist-13-p048-groin.nii.gz-0.500000', 'hist-14-p048-groin.nii.gz-0.500000', 'hist-15-p048-groin.nii.gz-0.500000', 'hist-16-p048-groin.nii.gz-0.500000', 'hist-17-p048-groin.nii.gz-0.500000', 'hist-18-p048-groin.nii.gz-0.500000', 'hist-19-p048-groin.nii.gz-0.500000'] \n",
      "Score: -0.43269746553947075\n"
     ]
    },
    {
     "name": "stderr",
     "output_type": "stream",
     "text": [
      "200it [00:00, 734.66it/s]\n",
      "  0%|                                                  | 0/8000 [00:00<?, ?it/s]"
     ]
    },
    {
     "name": "stdout",
     "output_type": "stream",
     "text": [
      "1\n",
      "1 0.4559099502402577\n",
      "Objective LinearRegression_Objective:\n"
     ]
    },
    {
     "name": "stderr",
     "output_type": "stream",
     "text": [
      "  6%|██▎                                   | 499/8000 [00:00<00:02, 3581.37it/s]\n",
      "89it [00:00, 882.10it/s]"
     ]
    },
    {
     "name": "stdout",
     "output_type": "stream",
     "text": [
      "iterations: 499\n",
      "Number of used features: 26\n",
      "Used features: ['num-p048-groin.nii.gz-0.500000', 'sum-p048-groin.nii.gz-0.500000', 'mean-p048-groin.nii.gz-0.500000', 'std-p048-groin.nii.gz-0.500000', 'skew-p048-groin.nii.gz-0.500000', 'kurt-p048-groin.nii.gz-0.500000', 'hist-0-p048-groin.nii.gz-0.500000', 'hist-1-p048-groin.nii.gz-0.500000', 'hist-2-p048-groin.nii.gz-0.500000', 'hist-3-p048-groin.nii.gz-0.500000', 'hist-4-p048-groin.nii.gz-0.500000', 'hist-5-p048-groin.nii.gz-0.500000', 'hist-6-p048-groin.nii.gz-0.500000', 'hist-7-p048-groin.nii.gz-0.500000', 'hist-8-p048-groin.nii.gz-0.500000', 'hist-9-p048-groin.nii.gz-0.500000', 'hist-10-p048-groin.nii.gz-0.500000', 'hist-11-p048-groin.nii.gz-0.500000', 'hist-12-p048-groin.nii.gz-0.500000', 'hist-13-p048-groin.nii.gz-0.500000', 'hist-14-p048-groin.nii.gz-0.500000', 'hist-15-p048-groin.nii.gz-0.500000', 'hist-16-p048-groin.nii.gz-0.500000', 'hist-17-p048-groin.nii.gz-0.500000', 'hist-18-p048-groin.nii.gz-0.500000', 'hist-19-p048-groin.nii.gz-0.500000'] \n",
      "Score: 0.8927628905005431\n"
     ]
    },
    {
     "name": "stderr",
     "output_type": "stream",
     "text": [
      "200it [00:00, 883.07it/s]\n",
      "  0%|                                                  | 0/8000 [00:00<?, ?it/s]"
     ]
    },
    {
     "name": "stdout",
     "output_type": "stream",
     "text": [
      "1\n",
      "1 -0.4469569331099905\n",
      "Objective LassoRegression_Objective:\n"
     ]
    },
    {
     "name": "stderr",
     "output_type": "stream",
     "text": [
      "  6%|██▍                                    | 500/8000 [00:02<00:30, 243.39it/s]\n",
      "61it [00:00, 609.65it/s]"
     ]
    },
    {
     "name": "stdout",
     "output_type": "stream",
     "text": [
      "iterations: 500\n",
      "Number of used features: 26\n",
      "Used features: ['num-p048-groin.nii.gz-0.500000', 'sum-p048-groin.nii.gz-0.500000', 'mean-p048-groin.nii.gz-0.500000', 'std-p048-groin.nii.gz-0.500000', 'skew-p048-groin.nii.gz-0.500000', 'kurt-p048-groin.nii.gz-0.500000', 'hist-0-p048-groin.nii.gz-0.500000', 'hist-1-p048-groin.nii.gz-0.500000', 'hist-2-p048-groin.nii.gz-0.500000', 'hist-3-p048-groin.nii.gz-0.500000', 'hist-4-p048-groin.nii.gz-0.500000', 'hist-5-p048-groin.nii.gz-0.500000', 'hist-6-p048-groin.nii.gz-0.500000', 'hist-7-p048-groin.nii.gz-0.500000', 'hist-8-p048-groin.nii.gz-0.500000', 'hist-9-p048-groin.nii.gz-0.500000', 'hist-10-p048-groin.nii.gz-0.500000', 'hist-11-p048-groin.nii.gz-0.500000', 'hist-12-p048-groin.nii.gz-0.500000', 'hist-13-p048-groin.nii.gz-0.500000', 'hist-14-p048-groin.nii.gz-0.500000', 'hist-15-p048-groin.nii.gz-0.500000', 'hist-16-p048-groin.nii.gz-0.500000', 'hist-17-p048-groin.nii.gz-0.500000', 'hist-18-p048-groin.nii.gz-0.500000', 'hist-19-p048-groin.nii.gz-0.500000'] \n",
      "Score: -0.5614181504925353\n"
     ]
    },
    {
     "name": "stderr",
     "output_type": "stream",
     "text": [
      "200it [00:00, 608.50it/s]\n",
      "  0%|                                                  | 0/8000 [00:00<?, ?it/s]"
     ]
    },
    {
     "name": "stdout",
     "output_type": "stream",
     "text": [
      "1\n",
      "1 0.5882025838543321\n",
      "Objective RidgeRegression_Objective:\n"
     ]
    },
    {
     "name": "stderr",
     "output_type": "stream",
     "text": [
      "  6%|██▍                                    | 499/8000 [00:01<00:28, 267.38it/s]\n",
      "50it [00:00, 494.60it/s]"
     ]
    },
    {
     "name": "stdout",
     "output_type": "stream",
     "text": [
      "iterations: 499\n",
      "Number of used features: 26\n",
      "Used features: ['num-p048-groin.nii.gz-0.500000', 'sum-p048-groin.nii.gz-0.500000', 'mean-p048-groin.nii.gz-0.500000', 'std-p048-groin.nii.gz-0.500000', 'skew-p048-groin.nii.gz-0.500000', 'kurt-p048-groin.nii.gz-0.500000', 'hist-0-p048-groin.nii.gz-0.500000', 'hist-1-p048-groin.nii.gz-0.500000', 'hist-2-p048-groin.nii.gz-0.500000', 'hist-3-p048-groin.nii.gz-0.500000', 'hist-4-p048-groin.nii.gz-0.500000', 'hist-5-p048-groin.nii.gz-0.500000', 'hist-6-p048-groin.nii.gz-0.500000', 'hist-7-p048-groin.nii.gz-0.500000', 'hist-8-p048-groin.nii.gz-0.500000', 'hist-9-p048-groin.nii.gz-0.500000', 'hist-10-p048-groin.nii.gz-0.500000', 'hist-11-p048-groin.nii.gz-0.500000', 'hist-12-p048-groin.nii.gz-0.500000', 'hist-13-p048-groin.nii.gz-0.500000', 'hist-14-p048-groin.nii.gz-0.500000', 'hist-15-p048-groin.nii.gz-0.500000', 'hist-16-p048-groin.nii.gz-0.500000', 'hist-17-p048-groin.nii.gz-0.500000', 'hist-18-p048-groin.nii.gz-0.500000', 'hist-19-p048-groin.nii.gz-0.500000'] \n",
      "Score: -0.517950134549656\n"
     ]
    },
    {
     "name": "stderr",
     "output_type": "stream",
     "text": [
      "200it [00:00, 550.37it/s]\n",
      "  0%|                                                  | 0/8000 [00:00<?, ?it/s]"
     ]
    },
    {
     "name": "stdout",
     "output_type": "stream",
     "text": [
      "1\n",
      "1 0.5362764559945106\n",
      "Objective PLSRegression_Objective:\n"
     ]
    },
    {
     "name": "stderr",
     "output_type": "stream",
     "text": [
      "  6%|██▍                                   | 502/8000 [00:00<00:07, 1036.59it/s]\n",
      "80it [00:00, 796.05it/s]"
     ]
    },
    {
     "name": "stdout",
     "output_type": "stream",
     "text": [
      "iterations: 502\n",
      "Number of used features: 26\n",
      "Used features: ['num-p048-groin.nii.gz-0.500000', 'sum-p048-groin.nii.gz-0.500000', 'mean-p048-groin.nii.gz-0.500000', 'std-p048-groin.nii.gz-0.500000', 'skew-p048-groin.nii.gz-0.500000', 'kurt-p048-groin.nii.gz-0.500000', 'hist-0-p048-groin.nii.gz-0.500000', 'hist-1-p048-groin.nii.gz-0.500000', 'hist-2-p048-groin.nii.gz-0.500000', 'hist-3-p048-groin.nii.gz-0.500000', 'hist-4-p048-groin.nii.gz-0.500000', 'hist-5-p048-groin.nii.gz-0.500000', 'hist-6-p048-groin.nii.gz-0.500000', 'hist-7-p048-groin.nii.gz-0.500000', 'hist-8-p048-groin.nii.gz-0.500000', 'hist-9-p048-groin.nii.gz-0.500000', 'hist-10-p048-groin.nii.gz-0.500000', 'hist-11-p048-groin.nii.gz-0.500000', 'hist-12-p048-groin.nii.gz-0.500000', 'hist-13-p048-groin.nii.gz-0.500000', 'hist-14-p048-groin.nii.gz-0.500000', 'hist-15-p048-groin.nii.gz-0.500000', 'hist-16-p048-groin.nii.gz-0.500000', 'hist-17-p048-groin.nii.gz-0.500000', 'hist-18-p048-groin.nii.gz-0.500000', 'hist-19-p048-groin.nii.gz-0.500000'] \n",
      "Score: -0.5186994811080583\n"
     ]
    },
    {
     "name": "stderr",
     "output_type": "stream",
     "text": [
      "200it [00:00, 792.39it/s]"
     ]
    },
    {
     "name": "stdout",
     "output_type": "stream",
     "text": [
      "1\n",
      "1 0.529547030021888\n"
     ]
    },
    {
     "name": "stderr",
     "output_type": "stream",
     "text": [
      "\n"
     ]
    }
   ],
   "source": [
    "for m in masks:\n",
    "    results_no_fs.append(model_selection(groin_features[[c for c in groin_features.columns if m in c or c == 'type']], groin_target, dataset='groin', type=m, disable_feature_selection=True))"
   ]
  },
  {
   "cell_type": "markdown",
   "metadata": {},
   "source": [
    "### shoulder with all features"
   ]
  },
  {
   "cell_type": "code",
   "execution_count": 40,
   "metadata": {},
   "outputs": [
    {
     "name": "stderr",
     "output_type": "stream",
     "text": [
      "\r",
      "  0%|                                                  | 0/8000 [00:00<?, ?it/s]"
     ]
    },
    {
     "name": "stdout",
     "output_type": "stream",
     "text": [
      "Objective KNNR_Objective:\n"
     ]
    },
    {
     "name": "stderr",
     "output_type": "stream",
     "text": [
      "  9%|███▌                                    | 720/8000 [00:22<03:50, 31.56it/s]\n",
      "66it [00:00, 657.39it/s]"
     ]
    },
    {
     "name": "stdout",
     "output_type": "stream",
     "text": [
      "iterations: 720\n",
      "Number of used features: 157\n",
      "Used features: ['Unnamed: 0', 'num-p004-shoulder.nii.gz-0.500000', 'sum-p004-shoulder.nii.gz-0.500000', 'mean-p004-shoulder.nii.gz-0.500000', 'std-p004-shoulder.nii.gz-0.500000', 'skew-p004-shoulder.nii.gz-0.500000', 'kurt-p004-shoulder.nii.gz-0.500000', 'hist-0-p004-shoulder.nii.gz-0.500000', 'hist-1-p004-shoulder.nii.gz-0.500000', 'hist-2-p004-shoulder.nii.gz-0.500000', 'hist-3-p004-shoulder.nii.gz-0.500000', 'hist-4-p004-shoulder.nii.gz-0.500000', 'hist-5-p004-shoulder.nii.gz-0.500000', 'hist-6-p004-shoulder.nii.gz-0.500000', 'hist-7-p004-shoulder.nii.gz-0.500000', 'hist-8-p004-shoulder.nii.gz-0.500000', 'hist-9-p004-shoulder.nii.gz-0.500000', 'hist-10-p004-shoulder.nii.gz-0.500000', 'hist-11-p004-shoulder.nii.gz-0.500000', 'hist-12-p004-shoulder.nii.gz-0.500000', 'hist-13-p004-shoulder.nii.gz-0.500000', 'hist-14-p004-shoulder.nii.gz-0.500000', 'hist-15-p004-shoulder.nii.gz-0.500000', 'hist-16-p004-shoulder.nii.gz-0.500000', 'hist-17-p004-shoulder.nii.gz-0.500000', 'hist-18-p004-shoulder.nii.gz-0.500000', 'hist-19-p004-shoulder.nii.gz-0.500000', 'num-p029-shoulder.nii.gz-0.500000', 'sum-p029-shoulder.nii.gz-0.500000', 'mean-p029-shoulder.nii.gz-0.500000', 'std-p029-shoulder.nii.gz-0.500000', 'skew-p029-shoulder.nii.gz-0.500000', 'kurt-p029-shoulder.nii.gz-0.500000', 'hist-0-p029-shoulder.nii.gz-0.500000', 'hist-1-p029-shoulder.nii.gz-0.500000', 'hist-2-p029-shoulder.nii.gz-0.500000', 'hist-3-p029-shoulder.nii.gz-0.500000', 'hist-4-p029-shoulder.nii.gz-0.500000', 'hist-5-p029-shoulder.nii.gz-0.500000', 'hist-6-p029-shoulder.nii.gz-0.500000', 'hist-7-p029-shoulder.nii.gz-0.500000', 'hist-8-p029-shoulder.nii.gz-0.500000', 'hist-9-p029-shoulder.nii.gz-0.500000', 'hist-10-p029-shoulder.nii.gz-0.500000', 'hist-11-p029-shoulder.nii.gz-0.500000', 'hist-12-p029-shoulder.nii.gz-0.500000', 'hist-13-p029-shoulder.nii.gz-0.500000', 'hist-14-p029-shoulder.nii.gz-0.500000', 'hist-15-p029-shoulder.nii.gz-0.500000', 'hist-16-p029-shoulder.nii.gz-0.500000', 'hist-17-p029-shoulder.nii.gz-0.500000', 'hist-18-p029-shoulder.nii.gz-0.500000', 'hist-19-p029-shoulder.nii.gz-0.500000', 'num-p032-shoulder.nii.gz-0.500000', 'sum-p032-shoulder.nii.gz-0.500000', 'mean-p032-shoulder.nii.gz-0.500000', 'std-p032-shoulder.nii.gz-0.500000', 'skew-p032-shoulder.nii.gz-0.500000', 'kurt-p032-shoulder.nii.gz-0.500000', 'hist-0-p032-shoulder.nii.gz-0.500000', 'hist-1-p032-shoulder.nii.gz-0.500000', 'hist-2-p032-shoulder.nii.gz-0.500000', 'hist-3-p032-shoulder.nii.gz-0.500000', 'hist-4-p032-shoulder.nii.gz-0.500000', 'hist-5-p032-shoulder.nii.gz-0.500000', 'hist-6-p032-shoulder.nii.gz-0.500000', 'hist-7-p032-shoulder.nii.gz-0.500000', 'hist-8-p032-shoulder.nii.gz-0.500000', 'hist-9-p032-shoulder.nii.gz-0.500000', 'hist-10-p032-shoulder.nii.gz-0.500000', 'hist-11-p032-shoulder.nii.gz-0.500000', 'hist-12-p032-shoulder.nii.gz-0.500000', 'hist-13-p032-shoulder.nii.gz-0.500000', 'hist-14-p032-shoulder.nii.gz-0.500000', 'hist-15-p032-shoulder.nii.gz-0.500000', 'hist-16-p032-shoulder.nii.gz-0.500000', 'hist-17-p032-shoulder.nii.gz-0.500000', 'hist-18-p032-shoulder.nii.gz-0.500000', 'hist-19-p032-shoulder.nii.gz-0.500000', 'num-p041-shoulder.nii.gz-0.500000', 'sum-p041-shoulder.nii.gz-0.500000', 'mean-p041-shoulder.nii.gz-0.500000', 'std-p041-shoulder.nii.gz-0.500000', 'skew-p041-shoulder.nii.gz-0.500000', 'kurt-p041-shoulder.nii.gz-0.500000', 'hist-0-p041-shoulder.nii.gz-0.500000', 'hist-1-p041-shoulder.nii.gz-0.500000', 'hist-2-p041-shoulder.nii.gz-0.500000', 'hist-3-p041-shoulder.nii.gz-0.500000', 'hist-4-p041-shoulder.nii.gz-0.500000', 'hist-5-p041-shoulder.nii.gz-0.500000', 'hist-6-p041-shoulder.nii.gz-0.500000', 'hist-7-p041-shoulder.nii.gz-0.500000', 'hist-8-p041-shoulder.nii.gz-0.500000', 'hist-9-p041-shoulder.nii.gz-0.500000', 'hist-10-p041-shoulder.nii.gz-0.500000', 'hist-11-p041-shoulder.nii.gz-0.500000', 'hist-12-p041-shoulder.nii.gz-0.500000', 'hist-13-p041-shoulder.nii.gz-0.500000', 'hist-14-p041-shoulder.nii.gz-0.500000', 'hist-15-p041-shoulder.nii.gz-0.500000', 'hist-16-p041-shoulder.nii.gz-0.500000', 'hist-17-p041-shoulder.nii.gz-0.500000', 'hist-18-p041-shoulder.nii.gz-0.500000', 'hist-19-p041-shoulder.nii.gz-0.500000', 'num-p048-shoulder.nii.gz-0.500000', 'sum-p048-shoulder.nii.gz-0.500000', 'mean-p048-shoulder.nii.gz-0.500000', 'std-p048-shoulder.nii.gz-0.500000', 'skew-p048-shoulder.nii.gz-0.500000', 'kurt-p048-shoulder.nii.gz-0.500000', 'hist-0-p048-shoulder.nii.gz-0.500000', 'hist-1-p048-shoulder.nii.gz-0.500000', 'hist-2-p048-shoulder.nii.gz-0.500000', 'hist-3-p048-shoulder.nii.gz-0.500000', 'hist-4-p048-shoulder.nii.gz-0.500000', 'hist-5-p048-shoulder.nii.gz-0.500000', 'hist-6-p048-shoulder.nii.gz-0.500000', 'hist-7-p048-shoulder.nii.gz-0.500000', 'hist-8-p048-shoulder.nii.gz-0.500000', 'hist-9-p048-shoulder.nii.gz-0.500000', 'hist-10-p048-shoulder.nii.gz-0.500000', 'hist-11-p048-shoulder.nii.gz-0.500000', 'hist-12-p048-shoulder.nii.gz-0.500000', 'hist-13-p048-shoulder.nii.gz-0.500000', 'hist-14-p048-shoulder.nii.gz-0.500000', 'hist-15-p048-shoulder.nii.gz-0.500000', 'hist-16-p048-shoulder.nii.gz-0.500000', 'hist-17-p048-shoulder.nii.gz-0.500000', 'hist-18-p048-shoulder.nii.gz-0.500000', 'hist-19-p048-shoulder.nii.gz-0.500000', 'num-0.500000-mean_mask', 'sum-0.500000-mean_mask', 'mean-0.500000-mean_mask', 'std-0.500000-mean_mask', 'skew-0.500000-mean_mask', 'kurt-0.500000-mean_mask', 'hist-0-0.500000-mean_mask', 'hist-1-0.500000-mean_mask', 'hist-2-0.500000-mean_mask', 'hist-3-0.500000-mean_mask', 'hist-4-0.500000-mean_mask', 'hist-5-0.500000-mean_mask', 'hist-6-0.500000-mean_mask', 'hist-7-0.500000-mean_mask', 'hist-8-0.500000-mean_mask', 'hist-9-0.500000-mean_mask', 'hist-10-0.500000-mean_mask', 'hist-11-0.500000-mean_mask', 'hist-12-0.500000-mean_mask', 'hist-13-0.500000-mean_mask', 'hist-14-0.500000-mean_mask', 'hist-15-0.500000-mean_mask', 'hist-16-0.500000-mean_mask', 'hist-17-0.500000-mean_mask', 'hist-18-0.500000-mean_mask', 'hist-19-0.500000-mean_mask'] \n",
      "Score: -0.6513566195334607\n"
     ]
    },
    {
     "name": "stderr",
     "output_type": "stream",
     "text": [
      "200it [00:00, 655.30it/s]\n",
      "  0%|                                                  | 0/8000 [00:00<?, ?it/s]"
     ]
    },
    {
     "name": "stdout",
     "output_type": "stream",
     "text": [
      "1\n",
      "1 0.6688234395482177\n",
      "Objective LinearRegression_Objective:\n"
     ]
    },
    {
     "name": "stderr",
     "output_type": "stream",
     "text": [
      "  6%|██▎                                   | 499/8000 [00:00<00:03, 2219.60it/s]\n",
      "66it [00:00, 651.86it/s]"
     ]
    },
    {
     "name": "stdout",
     "output_type": "stream",
     "text": [
      "iterations: 499\n",
      "Number of used features: 157\n",
      "Used features: ['Unnamed: 0', 'num-p004-shoulder.nii.gz-0.500000', 'sum-p004-shoulder.nii.gz-0.500000', 'mean-p004-shoulder.nii.gz-0.500000', 'std-p004-shoulder.nii.gz-0.500000', 'skew-p004-shoulder.nii.gz-0.500000', 'kurt-p004-shoulder.nii.gz-0.500000', 'hist-0-p004-shoulder.nii.gz-0.500000', 'hist-1-p004-shoulder.nii.gz-0.500000', 'hist-2-p004-shoulder.nii.gz-0.500000', 'hist-3-p004-shoulder.nii.gz-0.500000', 'hist-4-p004-shoulder.nii.gz-0.500000', 'hist-5-p004-shoulder.nii.gz-0.500000', 'hist-6-p004-shoulder.nii.gz-0.500000', 'hist-7-p004-shoulder.nii.gz-0.500000', 'hist-8-p004-shoulder.nii.gz-0.500000', 'hist-9-p004-shoulder.nii.gz-0.500000', 'hist-10-p004-shoulder.nii.gz-0.500000', 'hist-11-p004-shoulder.nii.gz-0.500000', 'hist-12-p004-shoulder.nii.gz-0.500000', 'hist-13-p004-shoulder.nii.gz-0.500000', 'hist-14-p004-shoulder.nii.gz-0.500000', 'hist-15-p004-shoulder.nii.gz-0.500000', 'hist-16-p004-shoulder.nii.gz-0.500000', 'hist-17-p004-shoulder.nii.gz-0.500000', 'hist-18-p004-shoulder.nii.gz-0.500000', 'hist-19-p004-shoulder.nii.gz-0.500000', 'num-p029-shoulder.nii.gz-0.500000', 'sum-p029-shoulder.nii.gz-0.500000', 'mean-p029-shoulder.nii.gz-0.500000', 'std-p029-shoulder.nii.gz-0.500000', 'skew-p029-shoulder.nii.gz-0.500000', 'kurt-p029-shoulder.nii.gz-0.500000', 'hist-0-p029-shoulder.nii.gz-0.500000', 'hist-1-p029-shoulder.nii.gz-0.500000', 'hist-2-p029-shoulder.nii.gz-0.500000', 'hist-3-p029-shoulder.nii.gz-0.500000', 'hist-4-p029-shoulder.nii.gz-0.500000', 'hist-5-p029-shoulder.nii.gz-0.500000', 'hist-6-p029-shoulder.nii.gz-0.500000', 'hist-7-p029-shoulder.nii.gz-0.500000', 'hist-8-p029-shoulder.nii.gz-0.500000', 'hist-9-p029-shoulder.nii.gz-0.500000', 'hist-10-p029-shoulder.nii.gz-0.500000', 'hist-11-p029-shoulder.nii.gz-0.500000', 'hist-12-p029-shoulder.nii.gz-0.500000', 'hist-13-p029-shoulder.nii.gz-0.500000', 'hist-14-p029-shoulder.nii.gz-0.500000', 'hist-15-p029-shoulder.nii.gz-0.500000', 'hist-16-p029-shoulder.nii.gz-0.500000', 'hist-17-p029-shoulder.nii.gz-0.500000', 'hist-18-p029-shoulder.nii.gz-0.500000', 'hist-19-p029-shoulder.nii.gz-0.500000', 'num-p032-shoulder.nii.gz-0.500000', 'sum-p032-shoulder.nii.gz-0.500000', 'mean-p032-shoulder.nii.gz-0.500000', 'std-p032-shoulder.nii.gz-0.500000', 'skew-p032-shoulder.nii.gz-0.500000', 'kurt-p032-shoulder.nii.gz-0.500000', 'hist-0-p032-shoulder.nii.gz-0.500000', 'hist-1-p032-shoulder.nii.gz-0.500000', 'hist-2-p032-shoulder.nii.gz-0.500000', 'hist-3-p032-shoulder.nii.gz-0.500000', 'hist-4-p032-shoulder.nii.gz-0.500000', 'hist-5-p032-shoulder.nii.gz-0.500000', 'hist-6-p032-shoulder.nii.gz-0.500000', 'hist-7-p032-shoulder.nii.gz-0.500000', 'hist-8-p032-shoulder.nii.gz-0.500000', 'hist-9-p032-shoulder.nii.gz-0.500000', 'hist-10-p032-shoulder.nii.gz-0.500000', 'hist-11-p032-shoulder.nii.gz-0.500000', 'hist-12-p032-shoulder.nii.gz-0.500000', 'hist-13-p032-shoulder.nii.gz-0.500000', 'hist-14-p032-shoulder.nii.gz-0.500000', 'hist-15-p032-shoulder.nii.gz-0.500000', 'hist-16-p032-shoulder.nii.gz-0.500000', 'hist-17-p032-shoulder.nii.gz-0.500000', 'hist-18-p032-shoulder.nii.gz-0.500000', 'hist-19-p032-shoulder.nii.gz-0.500000', 'num-p041-shoulder.nii.gz-0.500000', 'sum-p041-shoulder.nii.gz-0.500000', 'mean-p041-shoulder.nii.gz-0.500000', 'std-p041-shoulder.nii.gz-0.500000', 'skew-p041-shoulder.nii.gz-0.500000', 'kurt-p041-shoulder.nii.gz-0.500000', 'hist-0-p041-shoulder.nii.gz-0.500000', 'hist-1-p041-shoulder.nii.gz-0.500000', 'hist-2-p041-shoulder.nii.gz-0.500000', 'hist-3-p041-shoulder.nii.gz-0.500000', 'hist-4-p041-shoulder.nii.gz-0.500000', 'hist-5-p041-shoulder.nii.gz-0.500000', 'hist-6-p041-shoulder.nii.gz-0.500000', 'hist-7-p041-shoulder.nii.gz-0.500000', 'hist-8-p041-shoulder.nii.gz-0.500000', 'hist-9-p041-shoulder.nii.gz-0.500000', 'hist-10-p041-shoulder.nii.gz-0.500000', 'hist-11-p041-shoulder.nii.gz-0.500000', 'hist-12-p041-shoulder.nii.gz-0.500000', 'hist-13-p041-shoulder.nii.gz-0.500000', 'hist-14-p041-shoulder.nii.gz-0.500000', 'hist-15-p041-shoulder.nii.gz-0.500000', 'hist-16-p041-shoulder.nii.gz-0.500000', 'hist-17-p041-shoulder.nii.gz-0.500000', 'hist-18-p041-shoulder.nii.gz-0.500000', 'hist-19-p041-shoulder.nii.gz-0.500000', 'num-p048-shoulder.nii.gz-0.500000', 'sum-p048-shoulder.nii.gz-0.500000', 'mean-p048-shoulder.nii.gz-0.500000', 'std-p048-shoulder.nii.gz-0.500000', 'skew-p048-shoulder.nii.gz-0.500000', 'kurt-p048-shoulder.nii.gz-0.500000', 'hist-0-p048-shoulder.nii.gz-0.500000', 'hist-1-p048-shoulder.nii.gz-0.500000', 'hist-2-p048-shoulder.nii.gz-0.500000', 'hist-3-p048-shoulder.nii.gz-0.500000', 'hist-4-p048-shoulder.nii.gz-0.500000', 'hist-5-p048-shoulder.nii.gz-0.500000', 'hist-6-p048-shoulder.nii.gz-0.500000', 'hist-7-p048-shoulder.nii.gz-0.500000', 'hist-8-p048-shoulder.nii.gz-0.500000', 'hist-9-p048-shoulder.nii.gz-0.500000', 'hist-10-p048-shoulder.nii.gz-0.500000', 'hist-11-p048-shoulder.nii.gz-0.500000', 'hist-12-p048-shoulder.nii.gz-0.500000', 'hist-13-p048-shoulder.nii.gz-0.500000', 'hist-14-p048-shoulder.nii.gz-0.500000', 'hist-15-p048-shoulder.nii.gz-0.500000', 'hist-16-p048-shoulder.nii.gz-0.500000', 'hist-17-p048-shoulder.nii.gz-0.500000', 'hist-18-p048-shoulder.nii.gz-0.500000', 'hist-19-p048-shoulder.nii.gz-0.500000', 'num-0.500000-mean_mask', 'sum-0.500000-mean_mask', 'mean-0.500000-mean_mask', 'std-0.500000-mean_mask', 'skew-0.500000-mean_mask', 'kurt-0.500000-mean_mask', 'hist-0-0.500000-mean_mask', 'hist-1-0.500000-mean_mask', 'hist-2-0.500000-mean_mask', 'hist-3-0.500000-mean_mask', 'hist-4-0.500000-mean_mask', 'hist-5-0.500000-mean_mask', 'hist-6-0.500000-mean_mask', 'hist-7-0.500000-mean_mask', 'hist-8-0.500000-mean_mask', 'hist-9-0.500000-mean_mask', 'hist-10-0.500000-mean_mask', 'hist-11-0.500000-mean_mask', 'hist-12-0.500000-mean_mask', 'hist-13-0.500000-mean_mask', 'hist-14-0.500000-mean_mask', 'hist-15-0.500000-mean_mask', 'hist-16-0.500000-mean_mask', 'hist-17-0.500000-mean_mask', 'hist-18-0.500000-mean_mask', 'hist-19-0.500000-mean_mask'] \n",
      "Score: -0.7737453718233037\n"
     ]
    },
    {
     "name": "stderr",
     "output_type": "stream",
     "text": [
      "200it [00:00, 650.33it/s]\n"
     ]
    },
    {
     "name": "stdout",
     "output_type": "stream",
     "text": [
      "1\n",
      "1 0.7753442632219532\n",
      "Objective LassoRegression_Objective:\n"
     ]
    },
    {
     "name": "stderr",
     "output_type": "stream",
     "text": [
      "  6%|██▍                                     | 499/8000 [00:06<01:31, 82.10it/s]\n",
      "24it [00:00, 234.95it/s]"
     ]
    },
    {
     "name": "stdout",
     "output_type": "stream",
     "text": [
      "iterations: 499\n",
      "Number of used features: 157\n",
      "Used features: ['Unnamed: 0', 'num-p004-shoulder.nii.gz-0.500000', 'sum-p004-shoulder.nii.gz-0.500000', 'mean-p004-shoulder.nii.gz-0.500000', 'std-p004-shoulder.nii.gz-0.500000', 'skew-p004-shoulder.nii.gz-0.500000', 'kurt-p004-shoulder.nii.gz-0.500000', 'hist-0-p004-shoulder.nii.gz-0.500000', 'hist-1-p004-shoulder.nii.gz-0.500000', 'hist-2-p004-shoulder.nii.gz-0.500000', 'hist-3-p004-shoulder.nii.gz-0.500000', 'hist-4-p004-shoulder.nii.gz-0.500000', 'hist-5-p004-shoulder.nii.gz-0.500000', 'hist-6-p004-shoulder.nii.gz-0.500000', 'hist-7-p004-shoulder.nii.gz-0.500000', 'hist-8-p004-shoulder.nii.gz-0.500000', 'hist-9-p004-shoulder.nii.gz-0.500000', 'hist-10-p004-shoulder.nii.gz-0.500000', 'hist-11-p004-shoulder.nii.gz-0.500000', 'hist-12-p004-shoulder.nii.gz-0.500000', 'hist-13-p004-shoulder.nii.gz-0.500000', 'hist-14-p004-shoulder.nii.gz-0.500000', 'hist-15-p004-shoulder.nii.gz-0.500000', 'hist-16-p004-shoulder.nii.gz-0.500000', 'hist-17-p004-shoulder.nii.gz-0.500000', 'hist-18-p004-shoulder.nii.gz-0.500000', 'hist-19-p004-shoulder.nii.gz-0.500000', 'num-p029-shoulder.nii.gz-0.500000', 'sum-p029-shoulder.nii.gz-0.500000', 'mean-p029-shoulder.nii.gz-0.500000', 'std-p029-shoulder.nii.gz-0.500000', 'skew-p029-shoulder.nii.gz-0.500000', 'kurt-p029-shoulder.nii.gz-0.500000', 'hist-0-p029-shoulder.nii.gz-0.500000', 'hist-1-p029-shoulder.nii.gz-0.500000', 'hist-2-p029-shoulder.nii.gz-0.500000', 'hist-3-p029-shoulder.nii.gz-0.500000', 'hist-4-p029-shoulder.nii.gz-0.500000', 'hist-5-p029-shoulder.nii.gz-0.500000', 'hist-6-p029-shoulder.nii.gz-0.500000', 'hist-7-p029-shoulder.nii.gz-0.500000', 'hist-8-p029-shoulder.nii.gz-0.500000', 'hist-9-p029-shoulder.nii.gz-0.500000', 'hist-10-p029-shoulder.nii.gz-0.500000', 'hist-11-p029-shoulder.nii.gz-0.500000', 'hist-12-p029-shoulder.nii.gz-0.500000', 'hist-13-p029-shoulder.nii.gz-0.500000', 'hist-14-p029-shoulder.nii.gz-0.500000', 'hist-15-p029-shoulder.nii.gz-0.500000', 'hist-16-p029-shoulder.nii.gz-0.500000', 'hist-17-p029-shoulder.nii.gz-0.500000', 'hist-18-p029-shoulder.nii.gz-0.500000', 'hist-19-p029-shoulder.nii.gz-0.500000', 'num-p032-shoulder.nii.gz-0.500000', 'sum-p032-shoulder.nii.gz-0.500000', 'mean-p032-shoulder.nii.gz-0.500000', 'std-p032-shoulder.nii.gz-0.500000', 'skew-p032-shoulder.nii.gz-0.500000', 'kurt-p032-shoulder.nii.gz-0.500000', 'hist-0-p032-shoulder.nii.gz-0.500000', 'hist-1-p032-shoulder.nii.gz-0.500000', 'hist-2-p032-shoulder.nii.gz-0.500000', 'hist-3-p032-shoulder.nii.gz-0.500000', 'hist-4-p032-shoulder.nii.gz-0.500000', 'hist-5-p032-shoulder.nii.gz-0.500000', 'hist-6-p032-shoulder.nii.gz-0.500000', 'hist-7-p032-shoulder.nii.gz-0.500000', 'hist-8-p032-shoulder.nii.gz-0.500000', 'hist-9-p032-shoulder.nii.gz-0.500000', 'hist-10-p032-shoulder.nii.gz-0.500000', 'hist-11-p032-shoulder.nii.gz-0.500000', 'hist-12-p032-shoulder.nii.gz-0.500000', 'hist-13-p032-shoulder.nii.gz-0.500000', 'hist-14-p032-shoulder.nii.gz-0.500000', 'hist-15-p032-shoulder.nii.gz-0.500000', 'hist-16-p032-shoulder.nii.gz-0.500000', 'hist-17-p032-shoulder.nii.gz-0.500000', 'hist-18-p032-shoulder.nii.gz-0.500000', 'hist-19-p032-shoulder.nii.gz-0.500000', 'num-p041-shoulder.nii.gz-0.500000', 'sum-p041-shoulder.nii.gz-0.500000', 'mean-p041-shoulder.nii.gz-0.500000', 'std-p041-shoulder.nii.gz-0.500000', 'skew-p041-shoulder.nii.gz-0.500000', 'kurt-p041-shoulder.nii.gz-0.500000', 'hist-0-p041-shoulder.nii.gz-0.500000', 'hist-1-p041-shoulder.nii.gz-0.500000', 'hist-2-p041-shoulder.nii.gz-0.500000', 'hist-3-p041-shoulder.nii.gz-0.500000', 'hist-4-p041-shoulder.nii.gz-0.500000', 'hist-5-p041-shoulder.nii.gz-0.500000', 'hist-6-p041-shoulder.nii.gz-0.500000', 'hist-7-p041-shoulder.nii.gz-0.500000', 'hist-8-p041-shoulder.nii.gz-0.500000', 'hist-9-p041-shoulder.nii.gz-0.500000', 'hist-10-p041-shoulder.nii.gz-0.500000', 'hist-11-p041-shoulder.nii.gz-0.500000', 'hist-12-p041-shoulder.nii.gz-0.500000', 'hist-13-p041-shoulder.nii.gz-0.500000', 'hist-14-p041-shoulder.nii.gz-0.500000', 'hist-15-p041-shoulder.nii.gz-0.500000', 'hist-16-p041-shoulder.nii.gz-0.500000', 'hist-17-p041-shoulder.nii.gz-0.500000', 'hist-18-p041-shoulder.nii.gz-0.500000', 'hist-19-p041-shoulder.nii.gz-0.500000', 'num-p048-shoulder.nii.gz-0.500000', 'sum-p048-shoulder.nii.gz-0.500000', 'mean-p048-shoulder.nii.gz-0.500000', 'std-p048-shoulder.nii.gz-0.500000', 'skew-p048-shoulder.nii.gz-0.500000', 'kurt-p048-shoulder.nii.gz-0.500000', 'hist-0-p048-shoulder.nii.gz-0.500000', 'hist-1-p048-shoulder.nii.gz-0.500000', 'hist-2-p048-shoulder.nii.gz-0.500000', 'hist-3-p048-shoulder.nii.gz-0.500000', 'hist-4-p048-shoulder.nii.gz-0.500000', 'hist-5-p048-shoulder.nii.gz-0.500000', 'hist-6-p048-shoulder.nii.gz-0.500000', 'hist-7-p048-shoulder.nii.gz-0.500000', 'hist-8-p048-shoulder.nii.gz-0.500000', 'hist-9-p048-shoulder.nii.gz-0.500000', 'hist-10-p048-shoulder.nii.gz-0.500000', 'hist-11-p048-shoulder.nii.gz-0.500000', 'hist-12-p048-shoulder.nii.gz-0.500000', 'hist-13-p048-shoulder.nii.gz-0.500000', 'hist-14-p048-shoulder.nii.gz-0.500000', 'hist-15-p048-shoulder.nii.gz-0.500000', 'hist-16-p048-shoulder.nii.gz-0.500000', 'hist-17-p048-shoulder.nii.gz-0.500000', 'hist-18-p048-shoulder.nii.gz-0.500000', 'hist-19-p048-shoulder.nii.gz-0.500000', 'num-0.500000-mean_mask', 'sum-0.500000-mean_mask', 'mean-0.500000-mean_mask', 'std-0.500000-mean_mask', 'skew-0.500000-mean_mask', 'kurt-0.500000-mean_mask', 'hist-0-0.500000-mean_mask', 'hist-1-0.500000-mean_mask', 'hist-2-0.500000-mean_mask', 'hist-3-0.500000-mean_mask', 'hist-4-0.500000-mean_mask', 'hist-5-0.500000-mean_mask', 'hist-6-0.500000-mean_mask', 'hist-7-0.500000-mean_mask', 'hist-8-0.500000-mean_mask', 'hist-9-0.500000-mean_mask', 'hist-10-0.500000-mean_mask', 'hist-11-0.500000-mean_mask', 'hist-12-0.500000-mean_mask', 'hist-13-0.500000-mean_mask', 'hist-14-0.500000-mean_mask', 'hist-15-0.500000-mean_mask', 'hist-16-0.500000-mean_mask', 'hist-17-0.500000-mean_mask', 'hist-18-0.500000-mean_mask', 'hist-19-0.500000-mean_mask'] \n",
      "Score: -0.8830151142835219\n"
     ]
    },
    {
     "name": "stderr",
     "output_type": "stream",
     "text": [
      "200it [00:00, 247.35it/s]\n"
     ]
    },
    {
     "name": "stdout",
     "output_type": "stream",
     "text": [
      "1\n",
      "1 0.8961711183885119\n",
      "Objective RidgeRegression_Objective:\n"
     ]
    },
    {
     "name": "stderr",
     "output_type": "stream",
     "text": [
      "  6%|██▍                                    | 499/8000 [00:02<00:33, 221.69it/s]\n",
      "22it [00:00, 216.28it/s]"
     ]
    },
    {
     "name": "stdout",
     "output_type": "stream",
     "text": [
      "iterations: 499\n",
      "Number of used features: 157\n",
      "Used features: ['Unnamed: 0', 'num-p004-shoulder.nii.gz-0.500000', 'sum-p004-shoulder.nii.gz-0.500000', 'mean-p004-shoulder.nii.gz-0.500000', 'std-p004-shoulder.nii.gz-0.500000', 'skew-p004-shoulder.nii.gz-0.500000', 'kurt-p004-shoulder.nii.gz-0.500000', 'hist-0-p004-shoulder.nii.gz-0.500000', 'hist-1-p004-shoulder.nii.gz-0.500000', 'hist-2-p004-shoulder.nii.gz-0.500000', 'hist-3-p004-shoulder.nii.gz-0.500000', 'hist-4-p004-shoulder.nii.gz-0.500000', 'hist-5-p004-shoulder.nii.gz-0.500000', 'hist-6-p004-shoulder.nii.gz-0.500000', 'hist-7-p004-shoulder.nii.gz-0.500000', 'hist-8-p004-shoulder.nii.gz-0.500000', 'hist-9-p004-shoulder.nii.gz-0.500000', 'hist-10-p004-shoulder.nii.gz-0.500000', 'hist-11-p004-shoulder.nii.gz-0.500000', 'hist-12-p004-shoulder.nii.gz-0.500000', 'hist-13-p004-shoulder.nii.gz-0.500000', 'hist-14-p004-shoulder.nii.gz-0.500000', 'hist-15-p004-shoulder.nii.gz-0.500000', 'hist-16-p004-shoulder.nii.gz-0.500000', 'hist-17-p004-shoulder.nii.gz-0.500000', 'hist-18-p004-shoulder.nii.gz-0.500000', 'hist-19-p004-shoulder.nii.gz-0.500000', 'num-p029-shoulder.nii.gz-0.500000', 'sum-p029-shoulder.nii.gz-0.500000', 'mean-p029-shoulder.nii.gz-0.500000', 'std-p029-shoulder.nii.gz-0.500000', 'skew-p029-shoulder.nii.gz-0.500000', 'kurt-p029-shoulder.nii.gz-0.500000', 'hist-0-p029-shoulder.nii.gz-0.500000', 'hist-1-p029-shoulder.nii.gz-0.500000', 'hist-2-p029-shoulder.nii.gz-0.500000', 'hist-3-p029-shoulder.nii.gz-0.500000', 'hist-4-p029-shoulder.nii.gz-0.500000', 'hist-5-p029-shoulder.nii.gz-0.500000', 'hist-6-p029-shoulder.nii.gz-0.500000', 'hist-7-p029-shoulder.nii.gz-0.500000', 'hist-8-p029-shoulder.nii.gz-0.500000', 'hist-9-p029-shoulder.nii.gz-0.500000', 'hist-10-p029-shoulder.nii.gz-0.500000', 'hist-11-p029-shoulder.nii.gz-0.500000', 'hist-12-p029-shoulder.nii.gz-0.500000', 'hist-13-p029-shoulder.nii.gz-0.500000', 'hist-14-p029-shoulder.nii.gz-0.500000', 'hist-15-p029-shoulder.nii.gz-0.500000', 'hist-16-p029-shoulder.nii.gz-0.500000', 'hist-17-p029-shoulder.nii.gz-0.500000', 'hist-18-p029-shoulder.nii.gz-0.500000', 'hist-19-p029-shoulder.nii.gz-0.500000', 'num-p032-shoulder.nii.gz-0.500000', 'sum-p032-shoulder.nii.gz-0.500000', 'mean-p032-shoulder.nii.gz-0.500000', 'std-p032-shoulder.nii.gz-0.500000', 'skew-p032-shoulder.nii.gz-0.500000', 'kurt-p032-shoulder.nii.gz-0.500000', 'hist-0-p032-shoulder.nii.gz-0.500000', 'hist-1-p032-shoulder.nii.gz-0.500000', 'hist-2-p032-shoulder.nii.gz-0.500000', 'hist-3-p032-shoulder.nii.gz-0.500000', 'hist-4-p032-shoulder.nii.gz-0.500000', 'hist-5-p032-shoulder.nii.gz-0.500000', 'hist-6-p032-shoulder.nii.gz-0.500000', 'hist-7-p032-shoulder.nii.gz-0.500000', 'hist-8-p032-shoulder.nii.gz-0.500000', 'hist-9-p032-shoulder.nii.gz-0.500000', 'hist-10-p032-shoulder.nii.gz-0.500000', 'hist-11-p032-shoulder.nii.gz-0.500000', 'hist-12-p032-shoulder.nii.gz-0.500000', 'hist-13-p032-shoulder.nii.gz-0.500000', 'hist-14-p032-shoulder.nii.gz-0.500000', 'hist-15-p032-shoulder.nii.gz-0.500000', 'hist-16-p032-shoulder.nii.gz-0.500000', 'hist-17-p032-shoulder.nii.gz-0.500000', 'hist-18-p032-shoulder.nii.gz-0.500000', 'hist-19-p032-shoulder.nii.gz-0.500000', 'num-p041-shoulder.nii.gz-0.500000', 'sum-p041-shoulder.nii.gz-0.500000', 'mean-p041-shoulder.nii.gz-0.500000', 'std-p041-shoulder.nii.gz-0.500000', 'skew-p041-shoulder.nii.gz-0.500000', 'kurt-p041-shoulder.nii.gz-0.500000', 'hist-0-p041-shoulder.nii.gz-0.500000', 'hist-1-p041-shoulder.nii.gz-0.500000', 'hist-2-p041-shoulder.nii.gz-0.500000', 'hist-3-p041-shoulder.nii.gz-0.500000', 'hist-4-p041-shoulder.nii.gz-0.500000', 'hist-5-p041-shoulder.nii.gz-0.500000', 'hist-6-p041-shoulder.nii.gz-0.500000', 'hist-7-p041-shoulder.nii.gz-0.500000', 'hist-8-p041-shoulder.nii.gz-0.500000', 'hist-9-p041-shoulder.nii.gz-0.500000', 'hist-10-p041-shoulder.nii.gz-0.500000', 'hist-11-p041-shoulder.nii.gz-0.500000', 'hist-12-p041-shoulder.nii.gz-0.500000', 'hist-13-p041-shoulder.nii.gz-0.500000', 'hist-14-p041-shoulder.nii.gz-0.500000', 'hist-15-p041-shoulder.nii.gz-0.500000', 'hist-16-p041-shoulder.nii.gz-0.500000', 'hist-17-p041-shoulder.nii.gz-0.500000', 'hist-18-p041-shoulder.nii.gz-0.500000', 'hist-19-p041-shoulder.nii.gz-0.500000', 'num-p048-shoulder.nii.gz-0.500000', 'sum-p048-shoulder.nii.gz-0.500000', 'mean-p048-shoulder.nii.gz-0.500000', 'std-p048-shoulder.nii.gz-0.500000', 'skew-p048-shoulder.nii.gz-0.500000', 'kurt-p048-shoulder.nii.gz-0.500000', 'hist-0-p048-shoulder.nii.gz-0.500000', 'hist-1-p048-shoulder.nii.gz-0.500000', 'hist-2-p048-shoulder.nii.gz-0.500000', 'hist-3-p048-shoulder.nii.gz-0.500000', 'hist-4-p048-shoulder.nii.gz-0.500000', 'hist-5-p048-shoulder.nii.gz-0.500000', 'hist-6-p048-shoulder.nii.gz-0.500000', 'hist-7-p048-shoulder.nii.gz-0.500000', 'hist-8-p048-shoulder.nii.gz-0.500000', 'hist-9-p048-shoulder.nii.gz-0.500000', 'hist-10-p048-shoulder.nii.gz-0.500000', 'hist-11-p048-shoulder.nii.gz-0.500000', 'hist-12-p048-shoulder.nii.gz-0.500000', 'hist-13-p048-shoulder.nii.gz-0.500000', 'hist-14-p048-shoulder.nii.gz-0.500000', 'hist-15-p048-shoulder.nii.gz-0.500000', 'hist-16-p048-shoulder.nii.gz-0.500000', 'hist-17-p048-shoulder.nii.gz-0.500000', 'hist-18-p048-shoulder.nii.gz-0.500000', 'hist-19-p048-shoulder.nii.gz-0.500000', 'num-0.500000-mean_mask', 'sum-0.500000-mean_mask', 'mean-0.500000-mean_mask', 'std-0.500000-mean_mask', 'skew-0.500000-mean_mask', 'kurt-0.500000-mean_mask', 'hist-0-0.500000-mean_mask', 'hist-1-0.500000-mean_mask', 'hist-2-0.500000-mean_mask', 'hist-3-0.500000-mean_mask', 'hist-4-0.500000-mean_mask', 'hist-5-0.500000-mean_mask', 'hist-6-0.500000-mean_mask', 'hist-7-0.500000-mean_mask', 'hist-8-0.500000-mean_mask', 'hist-9-0.500000-mean_mask', 'hist-10-0.500000-mean_mask', 'hist-11-0.500000-mean_mask', 'hist-12-0.500000-mean_mask', 'hist-13-0.500000-mean_mask', 'hist-14-0.500000-mean_mask', 'hist-15-0.500000-mean_mask', 'hist-16-0.500000-mean_mask', 'hist-17-0.500000-mean_mask', 'hist-18-0.500000-mean_mask', 'hist-19-0.500000-mean_mask'] \n",
      "Score: -0.8733037251676008\n"
     ]
    },
    {
     "name": "stderr",
     "output_type": "stream",
     "text": [
      "200it [00:00, 300.33it/s]\n"
     ]
    },
    {
     "name": "stdout",
     "output_type": "stream",
     "text": [
      "1\n",
      "1 0.8896239735493976\n",
      "Objective PLSRegression_Objective:\n"
     ]
    },
    {
     "name": "stderr",
     "output_type": "stream",
     "text": [
      "  6%|██▍                                    | 502/8000 [00:02<00:31, 239.28it/s]\n",
      "67it [00:00, 661.18it/s]"
     ]
    },
    {
     "name": "stdout",
     "output_type": "stream",
     "text": [
      "iterations: 502\n",
      "Number of used features: 157\n",
      "Used features: ['Unnamed: 0', 'num-p004-shoulder.nii.gz-0.500000', 'sum-p004-shoulder.nii.gz-0.500000', 'mean-p004-shoulder.nii.gz-0.500000', 'std-p004-shoulder.nii.gz-0.500000', 'skew-p004-shoulder.nii.gz-0.500000', 'kurt-p004-shoulder.nii.gz-0.500000', 'hist-0-p004-shoulder.nii.gz-0.500000', 'hist-1-p004-shoulder.nii.gz-0.500000', 'hist-2-p004-shoulder.nii.gz-0.500000', 'hist-3-p004-shoulder.nii.gz-0.500000', 'hist-4-p004-shoulder.nii.gz-0.500000', 'hist-5-p004-shoulder.nii.gz-0.500000', 'hist-6-p004-shoulder.nii.gz-0.500000', 'hist-7-p004-shoulder.nii.gz-0.500000', 'hist-8-p004-shoulder.nii.gz-0.500000', 'hist-9-p004-shoulder.nii.gz-0.500000', 'hist-10-p004-shoulder.nii.gz-0.500000', 'hist-11-p004-shoulder.nii.gz-0.500000', 'hist-12-p004-shoulder.nii.gz-0.500000', 'hist-13-p004-shoulder.nii.gz-0.500000', 'hist-14-p004-shoulder.nii.gz-0.500000', 'hist-15-p004-shoulder.nii.gz-0.500000', 'hist-16-p004-shoulder.nii.gz-0.500000', 'hist-17-p004-shoulder.nii.gz-0.500000', 'hist-18-p004-shoulder.nii.gz-0.500000', 'hist-19-p004-shoulder.nii.gz-0.500000', 'num-p029-shoulder.nii.gz-0.500000', 'sum-p029-shoulder.nii.gz-0.500000', 'mean-p029-shoulder.nii.gz-0.500000', 'std-p029-shoulder.nii.gz-0.500000', 'skew-p029-shoulder.nii.gz-0.500000', 'kurt-p029-shoulder.nii.gz-0.500000', 'hist-0-p029-shoulder.nii.gz-0.500000', 'hist-1-p029-shoulder.nii.gz-0.500000', 'hist-2-p029-shoulder.nii.gz-0.500000', 'hist-3-p029-shoulder.nii.gz-0.500000', 'hist-4-p029-shoulder.nii.gz-0.500000', 'hist-5-p029-shoulder.nii.gz-0.500000', 'hist-6-p029-shoulder.nii.gz-0.500000', 'hist-7-p029-shoulder.nii.gz-0.500000', 'hist-8-p029-shoulder.nii.gz-0.500000', 'hist-9-p029-shoulder.nii.gz-0.500000', 'hist-10-p029-shoulder.nii.gz-0.500000', 'hist-11-p029-shoulder.nii.gz-0.500000', 'hist-12-p029-shoulder.nii.gz-0.500000', 'hist-13-p029-shoulder.nii.gz-0.500000', 'hist-14-p029-shoulder.nii.gz-0.500000', 'hist-15-p029-shoulder.nii.gz-0.500000', 'hist-16-p029-shoulder.nii.gz-0.500000', 'hist-17-p029-shoulder.nii.gz-0.500000', 'hist-18-p029-shoulder.nii.gz-0.500000', 'hist-19-p029-shoulder.nii.gz-0.500000', 'num-p032-shoulder.nii.gz-0.500000', 'sum-p032-shoulder.nii.gz-0.500000', 'mean-p032-shoulder.nii.gz-0.500000', 'std-p032-shoulder.nii.gz-0.500000', 'skew-p032-shoulder.nii.gz-0.500000', 'kurt-p032-shoulder.nii.gz-0.500000', 'hist-0-p032-shoulder.nii.gz-0.500000', 'hist-1-p032-shoulder.nii.gz-0.500000', 'hist-2-p032-shoulder.nii.gz-0.500000', 'hist-3-p032-shoulder.nii.gz-0.500000', 'hist-4-p032-shoulder.nii.gz-0.500000', 'hist-5-p032-shoulder.nii.gz-0.500000', 'hist-6-p032-shoulder.nii.gz-0.500000', 'hist-7-p032-shoulder.nii.gz-0.500000', 'hist-8-p032-shoulder.nii.gz-0.500000', 'hist-9-p032-shoulder.nii.gz-0.500000', 'hist-10-p032-shoulder.nii.gz-0.500000', 'hist-11-p032-shoulder.nii.gz-0.500000', 'hist-12-p032-shoulder.nii.gz-0.500000', 'hist-13-p032-shoulder.nii.gz-0.500000', 'hist-14-p032-shoulder.nii.gz-0.500000', 'hist-15-p032-shoulder.nii.gz-0.500000', 'hist-16-p032-shoulder.nii.gz-0.500000', 'hist-17-p032-shoulder.nii.gz-0.500000', 'hist-18-p032-shoulder.nii.gz-0.500000', 'hist-19-p032-shoulder.nii.gz-0.500000', 'num-p041-shoulder.nii.gz-0.500000', 'sum-p041-shoulder.nii.gz-0.500000', 'mean-p041-shoulder.nii.gz-0.500000', 'std-p041-shoulder.nii.gz-0.500000', 'skew-p041-shoulder.nii.gz-0.500000', 'kurt-p041-shoulder.nii.gz-0.500000', 'hist-0-p041-shoulder.nii.gz-0.500000', 'hist-1-p041-shoulder.nii.gz-0.500000', 'hist-2-p041-shoulder.nii.gz-0.500000', 'hist-3-p041-shoulder.nii.gz-0.500000', 'hist-4-p041-shoulder.nii.gz-0.500000', 'hist-5-p041-shoulder.nii.gz-0.500000', 'hist-6-p041-shoulder.nii.gz-0.500000', 'hist-7-p041-shoulder.nii.gz-0.500000', 'hist-8-p041-shoulder.nii.gz-0.500000', 'hist-9-p041-shoulder.nii.gz-0.500000', 'hist-10-p041-shoulder.nii.gz-0.500000', 'hist-11-p041-shoulder.nii.gz-0.500000', 'hist-12-p041-shoulder.nii.gz-0.500000', 'hist-13-p041-shoulder.nii.gz-0.500000', 'hist-14-p041-shoulder.nii.gz-0.500000', 'hist-15-p041-shoulder.nii.gz-0.500000', 'hist-16-p041-shoulder.nii.gz-0.500000', 'hist-17-p041-shoulder.nii.gz-0.500000', 'hist-18-p041-shoulder.nii.gz-0.500000', 'hist-19-p041-shoulder.nii.gz-0.500000', 'num-p048-shoulder.nii.gz-0.500000', 'sum-p048-shoulder.nii.gz-0.500000', 'mean-p048-shoulder.nii.gz-0.500000', 'std-p048-shoulder.nii.gz-0.500000', 'skew-p048-shoulder.nii.gz-0.500000', 'kurt-p048-shoulder.nii.gz-0.500000', 'hist-0-p048-shoulder.nii.gz-0.500000', 'hist-1-p048-shoulder.nii.gz-0.500000', 'hist-2-p048-shoulder.nii.gz-0.500000', 'hist-3-p048-shoulder.nii.gz-0.500000', 'hist-4-p048-shoulder.nii.gz-0.500000', 'hist-5-p048-shoulder.nii.gz-0.500000', 'hist-6-p048-shoulder.nii.gz-0.500000', 'hist-7-p048-shoulder.nii.gz-0.500000', 'hist-8-p048-shoulder.nii.gz-0.500000', 'hist-9-p048-shoulder.nii.gz-0.500000', 'hist-10-p048-shoulder.nii.gz-0.500000', 'hist-11-p048-shoulder.nii.gz-0.500000', 'hist-12-p048-shoulder.nii.gz-0.500000', 'hist-13-p048-shoulder.nii.gz-0.500000', 'hist-14-p048-shoulder.nii.gz-0.500000', 'hist-15-p048-shoulder.nii.gz-0.500000', 'hist-16-p048-shoulder.nii.gz-0.500000', 'hist-17-p048-shoulder.nii.gz-0.500000', 'hist-18-p048-shoulder.nii.gz-0.500000', 'hist-19-p048-shoulder.nii.gz-0.500000', 'num-0.500000-mean_mask', 'sum-0.500000-mean_mask', 'mean-0.500000-mean_mask', 'std-0.500000-mean_mask', 'skew-0.500000-mean_mask', 'kurt-0.500000-mean_mask', 'hist-0-0.500000-mean_mask', 'hist-1-0.500000-mean_mask', 'hist-2-0.500000-mean_mask', 'hist-3-0.500000-mean_mask', 'hist-4-0.500000-mean_mask', 'hist-5-0.500000-mean_mask', 'hist-6-0.500000-mean_mask', 'hist-7-0.500000-mean_mask', 'hist-8-0.500000-mean_mask', 'hist-9-0.500000-mean_mask', 'hist-10-0.500000-mean_mask', 'hist-11-0.500000-mean_mask', 'hist-12-0.500000-mean_mask', 'hist-13-0.500000-mean_mask', 'hist-14-0.500000-mean_mask', 'hist-15-0.500000-mean_mask', 'hist-16-0.500000-mean_mask', 'hist-17-0.500000-mean_mask', 'hist-18-0.500000-mean_mask', 'hist-19-0.500000-mean_mask'] \n",
      "Score: -0.881626925574278\n"
     ]
    },
    {
     "name": "stderr",
     "output_type": "stream",
     "text": [
      "200it [00:00, 658.01it/s]"
     ]
    },
    {
     "name": "stdout",
     "output_type": "stream",
     "text": [
      "1\n",
      "1 0.889558249075754\n"
     ]
    },
    {
     "name": "stderr",
     "output_type": "stream",
     "text": [
      "\n"
     ]
    }
   ],
   "source": [
    "results_no_fs.append(model_selection(shoulder_features, shoulder_target, dataset='shoulder', type='all', disable_feature_selection=True))"
   ]
  },
  {
   "cell_type": "markdown",
   "metadata": {},
   "source": [
    "### shoulder mean mask"
   ]
  },
  {
   "cell_type": "code",
   "execution_count": 41,
   "metadata": {},
   "outputs": [
    {
     "name": "stderr",
     "output_type": "stream",
     "text": [
      "\r",
      "  0%|                                                  | 0/8000 [00:00<?, ?it/s]"
     ]
    },
    {
     "name": "stdout",
     "output_type": "stream",
     "text": [
      "Objective KNNR_Objective:\n"
     ]
    },
    {
     "name": "stderr",
     "output_type": "stream",
     "text": [
      "  7%|██▋                                     | 533/8000 [00:15<03:37, 34.29it/s]\n",
      "75it [00:00, 741.67it/s]"
     ]
    },
    {
     "name": "stdout",
     "output_type": "stream",
     "text": [
      "iterations: 533\n",
      "Number of used features: 26\n",
      "Used features: ['num-0.500000-mean_mask', 'sum-0.500000-mean_mask', 'mean-0.500000-mean_mask', 'std-0.500000-mean_mask', 'skew-0.500000-mean_mask', 'kurt-0.500000-mean_mask', 'hist-0-0.500000-mean_mask', 'hist-1-0.500000-mean_mask', 'hist-2-0.500000-mean_mask', 'hist-3-0.500000-mean_mask', 'hist-4-0.500000-mean_mask', 'hist-5-0.500000-mean_mask', 'hist-6-0.500000-mean_mask', 'hist-7-0.500000-mean_mask', 'hist-8-0.500000-mean_mask', 'hist-9-0.500000-mean_mask', 'hist-10-0.500000-mean_mask', 'hist-11-0.500000-mean_mask', 'hist-12-0.500000-mean_mask', 'hist-13-0.500000-mean_mask', 'hist-14-0.500000-mean_mask', 'hist-15-0.500000-mean_mask', 'hist-16-0.500000-mean_mask', 'hist-17-0.500000-mean_mask', 'hist-18-0.500000-mean_mask', 'hist-19-0.500000-mean_mask'] \n",
      "Score: -0.6418814060785882\n"
     ]
    },
    {
     "name": "stderr",
     "output_type": "stream",
     "text": [
      "200it [00:00, 741.54it/s]\n",
      "  0%|                                                  | 0/8000 [00:00<?, ?it/s]"
     ]
    },
    {
     "name": "stdout",
     "output_type": "stream",
     "text": [
      "1\n",
      "1 0.6893672726166966\n",
      "Objective LinearRegression_Objective:\n"
     ]
    },
    {
     "name": "stderr",
     "output_type": "stream",
     "text": [
      "  6%|██▎                                   | 499/8000 [00:00<00:02, 3435.09it/s]\n",
      "86it [00:00, 858.92it/s]"
     ]
    },
    {
     "name": "stdout",
     "output_type": "stream",
     "text": [
      "iterations: 499\n",
      "Number of used features: 26\n",
      "Used features: ['num-0.500000-mean_mask', 'sum-0.500000-mean_mask', 'mean-0.500000-mean_mask', 'std-0.500000-mean_mask', 'skew-0.500000-mean_mask', 'kurt-0.500000-mean_mask', 'hist-0-0.500000-mean_mask', 'hist-1-0.500000-mean_mask', 'hist-2-0.500000-mean_mask', 'hist-3-0.500000-mean_mask', 'hist-4-0.500000-mean_mask', 'hist-5-0.500000-mean_mask', 'hist-6-0.500000-mean_mask', 'hist-7-0.500000-mean_mask', 'hist-8-0.500000-mean_mask', 'hist-9-0.500000-mean_mask', 'hist-10-0.500000-mean_mask', 'hist-11-0.500000-mean_mask', 'hist-12-0.500000-mean_mask', 'hist-13-0.500000-mean_mask', 'hist-14-0.500000-mean_mask', 'hist-15-0.500000-mean_mask', 'hist-16-0.500000-mean_mask', 'hist-17-0.500000-mean_mask', 'hist-18-0.500000-mean_mask', 'hist-19-0.500000-mean_mask'] \n",
      "Score: -0.4726683364440909\n"
     ]
    },
    {
     "name": "stderr",
     "output_type": "stream",
     "text": [
      "200it [00:00, 849.43it/s]\n",
      "  0%|                                                  | 0/8000 [00:00<?, ?it/s]"
     ]
    },
    {
     "name": "stdout",
     "output_type": "stream",
     "text": [
      "1\n",
      "1 0.6895255247947671\n",
      "Objective LassoRegression_Objective:\n"
     ]
    },
    {
     "name": "stderr",
     "output_type": "stream",
     "text": [
      "  6%|██▍                                    | 499/8000 [00:02<00:33, 220.70it/s]\n",
      "58it [00:00, 574.12it/s]"
     ]
    },
    {
     "name": "stdout",
     "output_type": "stream",
     "text": [
      "iterations: 499\n",
      "Number of used features: 26\n",
      "Used features: ['num-0.500000-mean_mask', 'sum-0.500000-mean_mask', 'mean-0.500000-mean_mask', 'std-0.500000-mean_mask', 'skew-0.500000-mean_mask', 'kurt-0.500000-mean_mask', 'hist-0-0.500000-mean_mask', 'hist-1-0.500000-mean_mask', 'hist-2-0.500000-mean_mask', 'hist-3-0.500000-mean_mask', 'hist-4-0.500000-mean_mask', 'hist-5-0.500000-mean_mask', 'hist-6-0.500000-mean_mask', 'hist-7-0.500000-mean_mask', 'hist-8-0.500000-mean_mask', 'hist-9-0.500000-mean_mask', 'hist-10-0.500000-mean_mask', 'hist-11-0.500000-mean_mask', 'hist-12-0.500000-mean_mask', 'hist-13-0.500000-mean_mask', 'hist-14-0.500000-mean_mask', 'hist-15-0.500000-mean_mask', 'hist-16-0.500000-mean_mask', 'hist-17-0.500000-mean_mask', 'hist-18-0.500000-mean_mask', 'hist-19-0.500000-mean_mask'] \n",
      "Score: -0.871283568974577\n"
     ]
    },
    {
     "name": "stderr",
     "output_type": "stream",
     "text": [
      "200it [00:00, 568.42it/s]\n",
      "  0%|                                                  | 0/8000 [00:00<?, ?it/s]"
     ]
    },
    {
     "name": "stdout",
     "output_type": "stream",
     "text": [
      "1\n",
      "1 0.8825206894975911\n",
      "Objective RidgeRegression_Objective:\n"
     ]
    },
    {
     "name": "stderr",
     "output_type": "stream",
     "text": [
      "  6%|██▍                                    | 508/8000 [00:01<00:26, 278.51it/s]\n",
      "65it [00:00, 643.43it/s]"
     ]
    },
    {
     "name": "stdout",
     "output_type": "stream",
     "text": [
      "iterations: 508\n",
      "Number of used features: 26\n",
      "Used features: ['num-0.500000-mean_mask', 'sum-0.500000-mean_mask', 'mean-0.500000-mean_mask', 'std-0.500000-mean_mask', 'skew-0.500000-mean_mask', 'kurt-0.500000-mean_mask', 'hist-0-0.500000-mean_mask', 'hist-1-0.500000-mean_mask', 'hist-2-0.500000-mean_mask', 'hist-3-0.500000-mean_mask', 'hist-4-0.500000-mean_mask', 'hist-5-0.500000-mean_mask', 'hist-6-0.500000-mean_mask', 'hist-7-0.500000-mean_mask', 'hist-8-0.500000-mean_mask', 'hist-9-0.500000-mean_mask', 'hist-10-0.500000-mean_mask', 'hist-11-0.500000-mean_mask', 'hist-12-0.500000-mean_mask', 'hist-13-0.500000-mean_mask', 'hist-14-0.500000-mean_mask', 'hist-15-0.500000-mean_mask', 'hist-16-0.500000-mean_mask', 'hist-17-0.500000-mean_mask', 'hist-18-0.500000-mean_mask', 'hist-19-0.500000-mean_mask'] \n",
      "Score: -0.8728237274875921\n"
     ]
    },
    {
     "name": "stderr",
     "output_type": "stream",
     "text": [
      "200it [00:00, 578.50it/s]\n",
      "  0%|                                                  | 0/8000 [00:00<?, ?it/s]"
     ]
    },
    {
     "name": "stdout",
     "output_type": "stream",
     "text": [
      "1\n",
      "1 0.8842884917865877\n",
      "Objective PLSRegression_Objective:\n"
     ]
    },
    {
     "name": "stderr",
     "output_type": "stream",
     "text": [
      "  6%|██▍                                   | 502/8000 [00:00<00:07, 1041.99it/s]\n",
      "77it [00:00, 766.27it/s]"
     ]
    },
    {
     "name": "stdout",
     "output_type": "stream",
     "text": [
      "iterations: 502\n",
      "Number of used features: 26\n",
      "Used features: ['num-0.500000-mean_mask', 'sum-0.500000-mean_mask', 'mean-0.500000-mean_mask', 'std-0.500000-mean_mask', 'skew-0.500000-mean_mask', 'kurt-0.500000-mean_mask', 'hist-0-0.500000-mean_mask', 'hist-1-0.500000-mean_mask', 'hist-2-0.500000-mean_mask', 'hist-3-0.500000-mean_mask', 'hist-4-0.500000-mean_mask', 'hist-5-0.500000-mean_mask', 'hist-6-0.500000-mean_mask', 'hist-7-0.500000-mean_mask', 'hist-8-0.500000-mean_mask', 'hist-9-0.500000-mean_mask', 'hist-10-0.500000-mean_mask', 'hist-11-0.500000-mean_mask', 'hist-12-0.500000-mean_mask', 'hist-13-0.500000-mean_mask', 'hist-14-0.500000-mean_mask', 'hist-15-0.500000-mean_mask', 'hist-16-0.500000-mean_mask', 'hist-17-0.500000-mean_mask', 'hist-18-0.500000-mean_mask', 'hist-19-0.500000-mean_mask'] \n",
      "Score: -0.8735523265189857\n"
     ]
    },
    {
     "name": "stderr",
     "output_type": "stream",
     "text": [
      "200it [00:00, 762.96it/s]"
     ]
    },
    {
     "name": "stdout",
     "output_type": "stream",
     "text": [
      "1\n",
      "1 0.8794783593980505\n"
     ]
    },
    {
     "name": "stderr",
     "output_type": "stream",
     "text": [
      "\n"
     ]
    }
   ],
   "source": [
    "results_no_fs.append(model_selection(shoulder_features[[c for c in shoulder_features.columns if 'mean_mask' in c or c == 'type']], shoulder_target, dataset='shoulder', type='mean_mask', disable_feature_selection=True))"
   ]
  },
  {
   "cell_type": "markdown",
   "metadata": {},
   "source": [
    "### shoulder individual masks"
   ]
  },
  {
   "cell_type": "code",
   "execution_count": 42,
   "metadata": {},
   "outputs": [
    {
     "name": "stderr",
     "output_type": "stream",
     "text": [
      "\r",
      "  0%|                                                  | 0/8000 [00:00<?, ?it/s]"
     ]
    },
    {
     "name": "stdout",
     "output_type": "stream",
     "text": [
      "Objective KNNR_Objective:\n"
     ]
    },
    {
     "name": "stderr",
     "output_type": "stream",
     "text": [
      "  7%|██▋                                     | 545/8000 [00:14<03:25, 36.36it/s]\n",
      "75it [00:00, 748.82it/s]"
     ]
    },
    {
     "name": "stdout",
     "output_type": "stream",
     "text": [
      "iterations: 545\n",
      "Number of used features: 26\n",
      "Used features: ['num-p004-shoulder.nii.gz-0.500000', 'sum-p004-shoulder.nii.gz-0.500000', 'mean-p004-shoulder.nii.gz-0.500000', 'std-p004-shoulder.nii.gz-0.500000', 'skew-p004-shoulder.nii.gz-0.500000', 'kurt-p004-shoulder.nii.gz-0.500000', 'hist-0-p004-shoulder.nii.gz-0.500000', 'hist-1-p004-shoulder.nii.gz-0.500000', 'hist-2-p004-shoulder.nii.gz-0.500000', 'hist-3-p004-shoulder.nii.gz-0.500000', 'hist-4-p004-shoulder.nii.gz-0.500000', 'hist-5-p004-shoulder.nii.gz-0.500000', 'hist-6-p004-shoulder.nii.gz-0.500000', 'hist-7-p004-shoulder.nii.gz-0.500000', 'hist-8-p004-shoulder.nii.gz-0.500000', 'hist-9-p004-shoulder.nii.gz-0.500000', 'hist-10-p004-shoulder.nii.gz-0.500000', 'hist-11-p004-shoulder.nii.gz-0.500000', 'hist-12-p004-shoulder.nii.gz-0.500000', 'hist-13-p004-shoulder.nii.gz-0.500000', 'hist-14-p004-shoulder.nii.gz-0.500000', 'hist-15-p004-shoulder.nii.gz-0.500000', 'hist-16-p004-shoulder.nii.gz-0.500000', 'hist-17-p004-shoulder.nii.gz-0.500000', 'hist-18-p004-shoulder.nii.gz-0.500000', 'hist-19-p004-shoulder.nii.gz-0.500000'] \n",
      "Score: -0.665446422986369\n"
     ]
    },
    {
     "name": "stderr",
     "output_type": "stream",
     "text": [
      "200it [00:00, 757.22it/s]\n",
      "  0%|                                                  | 0/8000 [00:00<?, ?it/s]"
     ]
    },
    {
     "name": "stdout",
     "output_type": "stream",
     "text": [
      "1\n",
      "1 0.6984860239248241\n",
      "Objective LinearRegression_Objective:\n"
     ]
    },
    {
     "name": "stderr",
     "output_type": "stream",
     "text": [
      "  6%|██▎                                   | 499/8000 [00:00<00:02, 3491.19it/s]\n",
      "87it [00:00, 863.86it/s]"
     ]
    },
    {
     "name": "stdout",
     "output_type": "stream",
     "text": [
      "iterations: 499\n",
      "Number of used features: 26\n",
      "Used features: ['num-p004-shoulder.nii.gz-0.500000', 'sum-p004-shoulder.nii.gz-0.500000', 'mean-p004-shoulder.nii.gz-0.500000', 'std-p004-shoulder.nii.gz-0.500000', 'skew-p004-shoulder.nii.gz-0.500000', 'kurt-p004-shoulder.nii.gz-0.500000', 'hist-0-p004-shoulder.nii.gz-0.500000', 'hist-1-p004-shoulder.nii.gz-0.500000', 'hist-2-p004-shoulder.nii.gz-0.500000', 'hist-3-p004-shoulder.nii.gz-0.500000', 'hist-4-p004-shoulder.nii.gz-0.500000', 'hist-5-p004-shoulder.nii.gz-0.500000', 'hist-6-p004-shoulder.nii.gz-0.500000', 'hist-7-p004-shoulder.nii.gz-0.500000', 'hist-8-p004-shoulder.nii.gz-0.500000', 'hist-9-p004-shoulder.nii.gz-0.500000', 'hist-10-p004-shoulder.nii.gz-0.500000', 'hist-11-p004-shoulder.nii.gz-0.500000', 'hist-12-p004-shoulder.nii.gz-0.500000', 'hist-13-p004-shoulder.nii.gz-0.500000', 'hist-14-p004-shoulder.nii.gz-0.500000', 'hist-15-p004-shoulder.nii.gz-0.500000', 'hist-16-p004-shoulder.nii.gz-0.500000', 'hist-17-p004-shoulder.nii.gz-0.500000', 'hist-18-p004-shoulder.nii.gz-0.500000', 'hist-19-p004-shoulder.nii.gz-0.500000'] \n",
      "Score: -0.6483643921601641\n"
     ]
    },
    {
     "name": "stderr",
     "output_type": "stream",
     "text": [
      "200it [00:00, 862.16it/s]\n",
      "  0%|                                                  | 0/8000 [00:00<?, ?it/s]"
     ]
    },
    {
     "name": "stdout",
     "output_type": "stream",
     "text": [
      "1\n",
      "1 0.7890463137897079\n",
      "Objective LassoRegression_Objective:\n"
     ]
    },
    {
     "name": "stderr",
     "output_type": "stream",
     "text": [
      "  6%|██▍                                    | 499/8000 [00:02<00:34, 219.35it/s]\n",
      "59it [00:00, 589.19it/s]"
     ]
    },
    {
     "name": "stdout",
     "output_type": "stream",
     "text": [
      "iterations: 499\n",
      "Number of used features: 26\n",
      "Used features: ['num-p004-shoulder.nii.gz-0.500000', 'sum-p004-shoulder.nii.gz-0.500000', 'mean-p004-shoulder.nii.gz-0.500000', 'std-p004-shoulder.nii.gz-0.500000', 'skew-p004-shoulder.nii.gz-0.500000', 'kurt-p004-shoulder.nii.gz-0.500000', 'hist-0-p004-shoulder.nii.gz-0.500000', 'hist-1-p004-shoulder.nii.gz-0.500000', 'hist-2-p004-shoulder.nii.gz-0.500000', 'hist-3-p004-shoulder.nii.gz-0.500000', 'hist-4-p004-shoulder.nii.gz-0.500000', 'hist-5-p004-shoulder.nii.gz-0.500000', 'hist-6-p004-shoulder.nii.gz-0.500000', 'hist-7-p004-shoulder.nii.gz-0.500000', 'hist-8-p004-shoulder.nii.gz-0.500000', 'hist-9-p004-shoulder.nii.gz-0.500000', 'hist-10-p004-shoulder.nii.gz-0.500000', 'hist-11-p004-shoulder.nii.gz-0.500000', 'hist-12-p004-shoulder.nii.gz-0.500000', 'hist-13-p004-shoulder.nii.gz-0.500000', 'hist-14-p004-shoulder.nii.gz-0.500000', 'hist-15-p004-shoulder.nii.gz-0.500000', 'hist-16-p004-shoulder.nii.gz-0.500000', 'hist-17-p004-shoulder.nii.gz-0.500000', 'hist-18-p004-shoulder.nii.gz-0.500000', 'hist-19-p004-shoulder.nii.gz-0.500000'] \n",
      "Score: -0.8935166478384623\n"
     ]
    },
    {
     "name": "stderr",
     "output_type": "stream",
     "text": [
      "200it [00:00, 583.86it/s]\n",
      "  0%|                                                  | 0/8000 [00:00<?, ?it/s]"
     ]
    },
    {
     "name": "stdout",
     "output_type": "stream",
     "text": [
      "1\n",
      "1 0.8996702394094209\n",
      "Objective RidgeRegression_Objective:\n"
     ]
    },
    {
     "name": "stderr",
     "output_type": "stream",
     "text": [
      "  6%|██▍                                    | 500/8000 [00:01<00:20, 362.20it/s]\n",
      "67it [00:00, 663.04it/s]"
     ]
    },
    {
     "name": "stdout",
     "output_type": "stream",
     "text": [
      "iterations: 500\n",
      "Number of used features: 26\n",
      "Used features: ['num-p004-shoulder.nii.gz-0.500000', 'sum-p004-shoulder.nii.gz-0.500000', 'mean-p004-shoulder.nii.gz-0.500000', 'std-p004-shoulder.nii.gz-0.500000', 'skew-p004-shoulder.nii.gz-0.500000', 'kurt-p004-shoulder.nii.gz-0.500000', 'hist-0-p004-shoulder.nii.gz-0.500000', 'hist-1-p004-shoulder.nii.gz-0.500000', 'hist-2-p004-shoulder.nii.gz-0.500000', 'hist-3-p004-shoulder.nii.gz-0.500000', 'hist-4-p004-shoulder.nii.gz-0.500000', 'hist-5-p004-shoulder.nii.gz-0.500000', 'hist-6-p004-shoulder.nii.gz-0.500000', 'hist-7-p004-shoulder.nii.gz-0.500000', 'hist-8-p004-shoulder.nii.gz-0.500000', 'hist-9-p004-shoulder.nii.gz-0.500000', 'hist-10-p004-shoulder.nii.gz-0.500000', 'hist-11-p004-shoulder.nii.gz-0.500000', 'hist-12-p004-shoulder.nii.gz-0.500000', 'hist-13-p004-shoulder.nii.gz-0.500000', 'hist-14-p004-shoulder.nii.gz-0.500000', 'hist-15-p004-shoulder.nii.gz-0.500000', 'hist-16-p004-shoulder.nii.gz-0.500000', 'hist-17-p004-shoulder.nii.gz-0.500000', 'hist-18-p004-shoulder.nii.gz-0.500000', 'hist-19-p004-shoulder.nii.gz-0.500000'] \n",
      "Score: -0.8911491106332557\n"
     ]
    },
    {
     "name": "stderr",
     "output_type": "stream",
     "text": [
      "200it [00:00, 663.50it/s]\n",
      "  0%|                                                  | 0/8000 [00:00<?, ?it/s]"
     ]
    },
    {
     "name": "stdout",
     "output_type": "stream",
     "text": [
      "1\n",
      "1 0.8948446550012945\n",
      "Objective PLSRegression_Objective:\n"
     ]
    },
    {
     "name": "stderr",
     "output_type": "stream",
     "text": [
      "  6%|██▎                                   | 499/8000 [00:00<00:07, 1056.20it/s]\n",
      "62it [00:00, 619.40it/s]"
     ]
    },
    {
     "name": "stdout",
     "output_type": "stream",
     "text": [
      "iterations: 499\n",
      "Number of used features: 26\n",
      "Used features: ['num-p004-shoulder.nii.gz-0.500000', 'sum-p004-shoulder.nii.gz-0.500000', 'mean-p004-shoulder.nii.gz-0.500000', 'std-p004-shoulder.nii.gz-0.500000', 'skew-p004-shoulder.nii.gz-0.500000', 'kurt-p004-shoulder.nii.gz-0.500000', 'hist-0-p004-shoulder.nii.gz-0.500000', 'hist-1-p004-shoulder.nii.gz-0.500000', 'hist-2-p004-shoulder.nii.gz-0.500000', 'hist-3-p004-shoulder.nii.gz-0.500000', 'hist-4-p004-shoulder.nii.gz-0.500000', 'hist-5-p004-shoulder.nii.gz-0.500000', 'hist-6-p004-shoulder.nii.gz-0.500000', 'hist-7-p004-shoulder.nii.gz-0.500000', 'hist-8-p004-shoulder.nii.gz-0.500000', 'hist-9-p004-shoulder.nii.gz-0.500000', 'hist-10-p004-shoulder.nii.gz-0.500000', 'hist-11-p004-shoulder.nii.gz-0.500000', 'hist-12-p004-shoulder.nii.gz-0.500000', 'hist-13-p004-shoulder.nii.gz-0.500000', 'hist-14-p004-shoulder.nii.gz-0.500000', 'hist-15-p004-shoulder.nii.gz-0.500000', 'hist-16-p004-shoulder.nii.gz-0.500000', 'hist-17-p004-shoulder.nii.gz-0.500000', 'hist-18-p004-shoulder.nii.gz-0.500000', 'hist-19-p004-shoulder.nii.gz-0.500000'] \n",
      "Score: -0.8826131943367763\n"
     ]
    },
    {
     "name": "stderr",
     "output_type": "stream",
     "text": [
      "200it [00:00, 622.75it/s]\n",
      "  0%|                                                  | 0/8000 [00:00<?, ?it/s]"
     ]
    },
    {
     "name": "stdout",
     "output_type": "stream",
     "text": [
      "1\n",
      "1 0.8857241133040821\n",
      "Objective KNNR_Objective:\n"
     ]
    },
    {
     "name": "stderr",
     "output_type": "stream",
     "text": [
      "  7%|██▉                                     | 588/8000 [00:15<03:19, 37.23it/s]\n",
      "79it [00:00, 785.83it/s]"
     ]
    },
    {
     "name": "stdout",
     "output_type": "stream",
     "text": [
      "iterations: 588\n",
      "Number of used features: 26\n",
      "Used features: ['num-p029-shoulder.nii.gz-0.500000', 'sum-p029-shoulder.nii.gz-0.500000', 'mean-p029-shoulder.nii.gz-0.500000', 'std-p029-shoulder.nii.gz-0.500000', 'skew-p029-shoulder.nii.gz-0.500000', 'kurt-p029-shoulder.nii.gz-0.500000', 'hist-0-p029-shoulder.nii.gz-0.500000', 'hist-1-p029-shoulder.nii.gz-0.500000', 'hist-2-p029-shoulder.nii.gz-0.500000', 'hist-3-p029-shoulder.nii.gz-0.500000', 'hist-4-p029-shoulder.nii.gz-0.500000', 'hist-5-p029-shoulder.nii.gz-0.500000', 'hist-6-p029-shoulder.nii.gz-0.500000', 'hist-7-p029-shoulder.nii.gz-0.500000', 'hist-8-p029-shoulder.nii.gz-0.500000', 'hist-9-p029-shoulder.nii.gz-0.500000', 'hist-10-p029-shoulder.nii.gz-0.500000', 'hist-11-p029-shoulder.nii.gz-0.500000', 'hist-12-p029-shoulder.nii.gz-0.500000', 'hist-13-p029-shoulder.nii.gz-0.500000', 'hist-14-p029-shoulder.nii.gz-0.500000', 'hist-15-p029-shoulder.nii.gz-0.500000', 'hist-16-p029-shoulder.nii.gz-0.500000', 'hist-17-p029-shoulder.nii.gz-0.500000', 'hist-18-p029-shoulder.nii.gz-0.500000', 'hist-19-p029-shoulder.nii.gz-0.500000'] \n",
      "Score: -0.5857332481962487\n"
     ]
    },
    {
     "name": "stderr",
     "output_type": "stream",
     "text": [
      "200it [00:00, 784.10it/s]\n",
      "  0%|                                                  | 0/8000 [00:00<?, ?it/s]"
     ]
    },
    {
     "name": "stdout",
     "output_type": "stream",
     "text": [
      "1\n",
      "1 0.6245670800452754\n",
      "Objective LinearRegression_Objective:\n"
     ]
    },
    {
     "name": "stderr",
     "output_type": "stream",
     "text": [
      "  6%|██▎                                   | 499/8000 [00:00<00:02, 3577.85it/s]\n",
      "91it [00:00, 899.58it/s]"
     ]
    },
    {
     "name": "stdout",
     "output_type": "stream",
     "text": [
      "iterations: 499\n",
      "Number of used features: 26\n",
      "Used features: ['num-p029-shoulder.nii.gz-0.500000', 'sum-p029-shoulder.nii.gz-0.500000', 'mean-p029-shoulder.nii.gz-0.500000', 'std-p029-shoulder.nii.gz-0.500000', 'skew-p029-shoulder.nii.gz-0.500000', 'kurt-p029-shoulder.nii.gz-0.500000', 'hist-0-p029-shoulder.nii.gz-0.500000', 'hist-1-p029-shoulder.nii.gz-0.500000', 'hist-2-p029-shoulder.nii.gz-0.500000', 'hist-3-p029-shoulder.nii.gz-0.500000', 'hist-4-p029-shoulder.nii.gz-0.500000', 'hist-5-p029-shoulder.nii.gz-0.500000', 'hist-6-p029-shoulder.nii.gz-0.500000', 'hist-7-p029-shoulder.nii.gz-0.500000', 'hist-8-p029-shoulder.nii.gz-0.500000', 'hist-9-p029-shoulder.nii.gz-0.500000', 'hist-10-p029-shoulder.nii.gz-0.500000', 'hist-11-p029-shoulder.nii.gz-0.500000', 'hist-12-p029-shoulder.nii.gz-0.500000', 'hist-13-p029-shoulder.nii.gz-0.500000', 'hist-14-p029-shoulder.nii.gz-0.500000', 'hist-15-p029-shoulder.nii.gz-0.500000', 'hist-16-p029-shoulder.nii.gz-0.500000', 'hist-17-p029-shoulder.nii.gz-0.500000', 'hist-18-p029-shoulder.nii.gz-0.500000', 'hist-19-p029-shoulder.nii.gz-0.500000'] \n",
      "Score: -0.6055450936804514\n"
     ]
    },
    {
     "name": "stderr",
     "output_type": "stream",
     "text": [
      "200it [00:00, 887.73it/s]\n",
      "  0%|                                                  | 0/8000 [00:00<?, ?it/s]"
     ]
    },
    {
     "name": "stdout",
     "output_type": "stream",
     "text": [
      "1\n",
      "1 0.7351047781479405\n",
      "Objective LassoRegression_Objective:\n"
     ]
    },
    {
     "name": "stderr",
     "output_type": "stream",
     "text": [
      "  6%|██▍                                    | 499/8000 [00:02<00:33, 224.36it/s]\n",
      "62it [00:00, 611.84it/s]"
     ]
    },
    {
     "name": "stdout",
     "output_type": "stream",
     "text": [
      "iterations: 499\n",
      "Number of used features: 26\n",
      "Used features: ['num-p029-shoulder.nii.gz-0.500000', 'sum-p029-shoulder.nii.gz-0.500000', 'mean-p029-shoulder.nii.gz-0.500000', 'std-p029-shoulder.nii.gz-0.500000', 'skew-p029-shoulder.nii.gz-0.500000', 'kurt-p029-shoulder.nii.gz-0.500000', 'hist-0-p029-shoulder.nii.gz-0.500000', 'hist-1-p029-shoulder.nii.gz-0.500000', 'hist-2-p029-shoulder.nii.gz-0.500000', 'hist-3-p029-shoulder.nii.gz-0.500000', 'hist-4-p029-shoulder.nii.gz-0.500000', 'hist-5-p029-shoulder.nii.gz-0.500000', 'hist-6-p029-shoulder.nii.gz-0.500000', 'hist-7-p029-shoulder.nii.gz-0.500000', 'hist-8-p029-shoulder.nii.gz-0.500000', 'hist-9-p029-shoulder.nii.gz-0.500000', 'hist-10-p029-shoulder.nii.gz-0.500000', 'hist-11-p029-shoulder.nii.gz-0.500000', 'hist-12-p029-shoulder.nii.gz-0.500000', 'hist-13-p029-shoulder.nii.gz-0.500000', 'hist-14-p029-shoulder.nii.gz-0.500000', 'hist-15-p029-shoulder.nii.gz-0.500000', 'hist-16-p029-shoulder.nii.gz-0.500000', 'hist-17-p029-shoulder.nii.gz-0.500000', 'hist-18-p029-shoulder.nii.gz-0.500000', 'hist-19-p029-shoulder.nii.gz-0.500000'] \n",
      "Score: -0.8745804400353027\n"
     ]
    },
    {
     "name": "stderr",
     "output_type": "stream",
     "text": [
      "200it [00:00, 615.32it/s]\n",
      "  0%|                                                  | 0/8000 [00:00<?, ?it/s]"
     ]
    },
    {
     "name": "stdout",
     "output_type": "stream",
     "text": [
      "1\n",
      "1 0.8820380121399908\n",
      "Objective RidgeRegression_Objective:\n"
     ]
    },
    {
     "name": "stderr",
     "output_type": "stream",
     "text": [
      "  6%|██▍                                    | 508/8000 [00:01<00:20, 359.37it/s]\n",
      "67it [00:00, 664.36it/s]"
     ]
    },
    {
     "name": "stdout",
     "output_type": "stream",
     "text": [
      "iterations: 508\n",
      "Number of used features: 26\n",
      "Used features: ['num-p029-shoulder.nii.gz-0.500000', 'sum-p029-shoulder.nii.gz-0.500000', 'mean-p029-shoulder.nii.gz-0.500000', 'std-p029-shoulder.nii.gz-0.500000', 'skew-p029-shoulder.nii.gz-0.500000', 'kurt-p029-shoulder.nii.gz-0.500000', 'hist-0-p029-shoulder.nii.gz-0.500000', 'hist-1-p029-shoulder.nii.gz-0.500000', 'hist-2-p029-shoulder.nii.gz-0.500000', 'hist-3-p029-shoulder.nii.gz-0.500000', 'hist-4-p029-shoulder.nii.gz-0.500000', 'hist-5-p029-shoulder.nii.gz-0.500000', 'hist-6-p029-shoulder.nii.gz-0.500000', 'hist-7-p029-shoulder.nii.gz-0.500000', 'hist-8-p029-shoulder.nii.gz-0.500000', 'hist-9-p029-shoulder.nii.gz-0.500000', 'hist-10-p029-shoulder.nii.gz-0.500000', 'hist-11-p029-shoulder.nii.gz-0.500000', 'hist-12-p029-shoulder.nii.gz-0.500000', 'hist-13-p029-shoulder.nii.gz-0.500000', 'hist-14-p029-shoulder.nii.gz-0.500000', 'hist-15-p029-shoulder.nii.gz-0.500000', 'hist-16-p029-shoulder.nii.gz-0.500000', 'hist-17-p029-shoulder.nii.gz-0.500000', 'hist-18-p029-shoulder.nii.gz-0.500000', 'hist-19-p029-shoulder.nii.gz-0.500000'] \n",
      "Score: -0.8853354449082118\n"
     ]
    },
    {
     "name": "stderr",
     "output_type": "stream",
     "text": [
      "200it [00:00, 646.96it/s]\n",
      "  0%|                                                  | 0/8000 [00:00<?, ?it/s]"
     ]
    },
    {
     "name": "stdout",
     "output_type": "stream",
     "text": [
      "1\n",
      "1 0.895521070723523\n",
      "Objective PLSRegression_Objective:\n"
     ]
    },
    {
     "name": "stderr",
     "output_type": "stream",
     "text": [
      "  6%|██▎                                   | 499/8000 [00:00<00:07, 1041.29it/s]\n",
      "59it [00:00, 588.61it/s]"
     ]
    },
    {
     "name": "stdout",
     "output_type": "stream",
     "text": [
      "iterations: 499\n",
      "Number of used features: 26\n",
      "Used features: ['num-p029-shoulder.nii.gz-0.500000', 'sum-p029-shoulder.nii.gz-0.500000', 'mean-p029-shoulder.nii.gz-0.500000', 'std-p029-shoulder.nii.gz-0.500000', 'skew-p029-shoulder.nii.gz-0.500000', 'kurt-p029-shoulder.nii.gz-0.500000', 'hist-0-p029-shoulder.nii.gz-0.500000', 'hist-1-p029-shoulder.nii.gz-0.500000', 'hist-2-p029-shoulder.nii.gz-0.500000', 'hist-3-p029-shoulder.nii.gz-0.500000', 'hist-4-p029-shoulder.nii.gz-0.500000', 'hist-5-p029-shoulder.nii.gz-0.500000', 'hist-6-p029-shoulder.nii.gz-0.500000', 'hist-7-p029-shoulder.nii.gz-0.500000', 'hist-8-p029-shoulder.nii.gz-0.500000', 'hist-9-p029-shoulder.nii.gz-0.500000', 'hist-10-p029-shoulder.nii.gz-0.500000', 'hist-11-p029-shoulder.nii.gz-0.500000', 'hist-12-p029-shoulder.nii.gz-0.500000', 'hist-13-p029-shoulder.nii.gz-0.500000', 'hist-14-p029-shoulder.nii.gz-0.500000', 'hist-15-p029-shoulder.nii.gz-0.500000', 'hist-16-p029-shoulder.nii.gz-0.500000', 'hist-17-p029-shoulder.nii.gz-0.500000', 'hist-18-p029-shoulder.nii.gz-0.500000', 'hist-19-p029-shoulder.nii.gz-0.500000'] \n",
      "Score: -0.8726276183018565\n"
     ]
    },
    {
     "name": "stderr",
     "output_type": "stream",
     "text": [
      "200it [00:00, 609.39it/s]\n",
      "  0%|                                                  | 0/8000 [00:00<?, ?it/s]"
     ]
    },
    {
     "name": "stdout",
     "output_type": "stream",
     "text": [
      "1\n",
      "1 0.8813320166801071\n",
      "Objective KNNR_Objective:\n"
     ]
    },
    {
     "name": "stderr",
     "output_type": "stream",
     "text": [
      " 10%|███▉                                    | 782/8000 [00:18<02:52, 41.85it/s]\n",
      "72it [00:00, 711.70it/s]"
     ]
    },
    {
     "name": "stdout",
     "output_type": "stream",
     "text": [
      "iterations: 782\n",
      "Number of used features: 26\n",
      "Used features: ['num-p032-shoulder.nii.gz-0.500000', 'sum-p032-shoulder.nii.gz-0.500000', 'mean-p032-shoulder.nii.gz-0.500000', 'std-p032-shoulder.nii.gz-0.500000', 'skew-p032-shoulder.nii.gz-0.500000', 'kurt-p032-shoulder.nii.gz-0.500000', 'hist-0-p032-shoulder.nii.gz-0.500000', 'hist-1-p032-shoulder.nii.gz-0.500000', 'hist-2-p032-shoulder.nii.gz-0.500000', 'hist-3-p032-shoulder.nii.gz-0.500000', 'hist-4-p032-shoulder.nii.gz-0.500000', 'hist-5-p032-shoulder.nii.gz-0.500000', 'hist-6-p032-shoulder.nii.gz-0.500000', 'hist-7-p032-shoulder.nii.gz-0.500000', 'hist-8-p032-shoulder.nii.gz-0.500000', 'hist-9-p032-shoulder.nii.gz-0.500000', 'hist-10-p032-shoulder.nii.gz-0.500000', 'hist-11-p032-shoulder.nii.gz-0.500000', 'hist-12-p032-shoulder.nii.gz-0.500000', 'hist-13-p032-shoulder.nii.gz-0.500000', 'hist-14-p032-shoulder.nii.gz-0.500000', 'hist-15-p032-shoulder.nii.gz-0.500000', 'hist-16-p032-shoulder.nii.gz-0.500000', 'hist-17-p032-shoulder.nii.gz-0.500000', 'hist-18-p032-shoulder.nii.gz-0.500000', 'hist-19-p032-shoulder.nii.gz-0.500000'] \n",
      "Score: -0.5020702972491495\n"
     ]
    },
    {
     "name": "stderr",
     "output_type": "stream",
     "text": [
      "200it [00:00, 707.42it/s]\n",
      "  0%|                                                  | 0/8000 [00:00<?, ?it/s]"
     ]
    },
    {
     "name": "stdout",
     "output_type": "stream",
     "text": [
      "1\n",
      "1 0.5287718029132354\n",
      "Objective LinearRegression_Objective:\n"
     ]
    },
    {
     "name": "stderr",
     "output_type": "stream",
     "text": [
      "  6%|██▎                                   | 499/8000 [00:00<00:02, 3425.04it/s]\n",
      "85it [00:00, 846.98it/s]"
     ]
    },
    {
     "name": "stdout",
     "output_type": "stream",
     "text": [
      "iterations: 499\n",
      "Number of used features: 26\n",
      "Used features: ['num-p032-shoulder.nii.gz-0.500000', 'sum-p032-shoulder.nii.gz-0.500000', 'mean-p032-shoulder.nii.gz-0.500000', 'std-p032-shoulder.nii.gz-0.500000', 'skew-p032-shoulder.nii.gz-0.500000', 'kurt-p032-shoulder.nii.gz-0.500000', 'hist-0-p032-shoulder.nii.gz-0.500000', 'hist-1-p032-shoulder.nii.gz-0.500000', 'hist-2-p032-shoulder.nii.gz-0.500000', 'hist-3-p032-shoulder.nii.gz-0.500000', 'hist-4-p032-shoulder.nii.gz-0.500000', 'hist-5-p032-shoulder.nii.gz-0.500000', 'hist-6-p032-shoulder.nii.gz-0.500000', 'hist-7-p032-shoulder.nii.gz-0.500000', 'hist-8-p032-shoulder.nii.gz-0.500000', 'hist-9-p032-shoulder.nii.gz-0.500000', 'hist-10-p032-shoulder.nii.gz-0.500000', 'hist-11-p032-shoulder.nii.gz-0.500000', 'hist-12-p032-shoulder.nii.gz-0.500000', 'hist-13-p032-shoulder.nii.gz-0.500000', 'hist-14-p032-shoulder.nii.gz-0.500000', 'hist-15-p032-shoulder.nii.gz-0.500000', 'hist-16-p032-shoulder.nii.gz-0.500000', 'hist-17-p032-shoulder.nii.gz-0.500000', 'hist-18-p032-shoulder.nii.gz-0.500000', 'hist-19-p032-shoulder.nii.gz-0.500000'] \n",
      "Score: -0.6210850197870431\n"
     ]
    },
    {
     "name": "stderr",
     "output_type": "stream",
     "text": [
      "200it [00:00, 843.70it/s]\n",
      "  0%|                                                  | 0/8000 [00:00<?, ?it/s]"
     ]
    },
    {
     "name": "stdout",
     "output_type": "stream",
     "text": [
      "1\n",
      "1 0.7419260084187147\n",
      "Objective LassoRegression_Objective:\n"
     ]
    },
    {
     "name": "stderr",
     "output_type": "stream",
     "text": [
      "  6%|██▍                                    | 499/8000 [00:02<00:33, 221.33it/s]\n",
      "60it [00:00, 598.82it/s]"
     ]
    },
    {
     "name": "stdout",
     "output_type": "stream",
     "text": [
      "iterations: 499\n",
      "Number of used features: 26\n",
      "Used features: ['num-p032-shoulder.nii.gz-0.500000', 'sum-p032-shoulder.nii.gz-0.500000', 'mean-p032-shoulder.nii.gz-0.500000', 'std-p032-shoulder.nii.gz-0.500000', 'skew-p032-shoulder.nii.gz-0.500000', 'kurt-p032-shoulder.nii.gz-0.500000', 'hist-0-p032-shoulder.nii.gz-0.500000', 'hist-1-p032-shoulder.nii.gz-0.500000', 'hist-2-p032-shoulder.nii.gz-0.500000', 'hist-3-p032-shoulder.nii.gz-0.500000', 'hist-4-p032-shoulder.nii.gz-0.500000', 'hist-5-p032-shoulder.nii.gz-0.500000', 'hist-6-p032-shoulder.nii.gz-0.500000', 'hist-7-p032-shoulder.nii.gz-0.500000', 'hist-8-p032-shoulder.nii.gz-0.500000', 'hist-9-p032-shoulder.nii.gz-0.500000', 'hist-10-p032-shoulder.nii.gz-0.500000', 'hist-11-p032-shoulder.nii.gz-0.500000', 'hist-12-p032-shoulder.nii.gz-0.500000', 'hist-13-p032-shoulder.nii.gz-0.500000', 'hist-14-p032-shoulder.nii.gz-0.500000', 'hist-15-p032-shoulder.nii.gz-0.500000', 'hist-16-p032-shoulder.nii.gz-0.500000', 'hist-17-p032-shoulder.nii.gz-0.500000', 'hist-18-p032-shoulder.nii.gz-0.500000', 'hist-19-p032-shoulder.nii.gz-0.500000'] \n",
      "Score: -0.8721283812162933\n"
     ]
    },
    {
     "name": "stderr",
     "output_type": "stream",
     "text": [
      "200it [00:00, 597.36it/s]\n",
      "  0%|                                                  | 0/8000 [00:00<?, ?it/s]"
     ]
    },
    {
     "name": "stdout",
     "output_type": "stream",
     "text": [
      "1\n",
      "1 0.8879389792431744\n",
      "Objective RidgeRegression_Objective:\n"
     ]
    },
    {
     "name": "stderr",
     "output_type": "stream",
     "text": [
      "  6%|██▍                                    | 508/8000 [00:01<00:20, 363.17it/s]\n",
      "66it [00:00, 655.94it/s]"
     ]
    },
    {
     "name": "stdout",
     "output_type": "stream",
     "text": [
      "iterations: 508\n",
      "Number of used features: 26\n",
      "Used features: ['num-p032-shoulder.nii.gz-0.500000', 'sum-p032-shoulder.nii.gz-0.500000', 'mean-p032-shoulder.nii.gz-0.500000', 'std-p032-shoulder.nii.gz-0.500000', 'skew-p032-shoulder.nii.gz-0.500000', 'kurt-p032-shoulder.nii.gz-0.500000', 'hist-0-p032-shoulder.nii.gz-0.500000', 'hist-1-p032-shoulder.nii.gz-0.500000', 'hist-2-p032-shoulder.nii.gz-0.500000', 'hist-3-p032-shoulder.nii.gz-0.500000', 'hist-4-p032-shoulder.nii.gz-0.500000', 'hist-5-p032-shoulder.nii.gz-0.500000', 'hist-6-p032-shoulder.nii.gz-0.500000', 'hist-7-p032-shoulder.nii.gz-0.500000', 'hist-8-p032-shoulder.nii.gz-0.500000', 'hist-9-p032-shoulder.nii.gz-0.500000', 'hist-10-p032-shoulder.nii.gz-0.500000', 'hist-11-p032-shoulder.nii.gz-0.500000', 'hist-12-p032-shoulder.nii.gz-0.500000', 'hist-13-p032-shoulder.nii.gz-0.500000', 'hist-14-p032-shoulder.nii.gz-0.500000', 'hist-15-p032-shoulder.nii.gz-0.500000', 'hist-16-p032-shoulder.nii.gz-0.500000', 'hist-17-p032-shoulder.nii.gz-0.500000', 'hist-18-p032-shoulder.nii.gz-0.500000', 'hist-19-p032-shoulder.nii.gz-0.500000'] \n",
      "Score: -0.8316334011707487\n"
     ]
    },
    {
     "name": "stderr",
     "output_type": "stream",
     "text": [
      "200it [00:00, 653.98it/s]\n",
      "  0%|                                                  | 0/8000 [00:00<?, ?it/s]"
     ]
    },
    {
     "name": "stdout",
     "output_type": "stream",
     "text": [
      "1\n",
      "1 0.8489544323700646\n",
      "Objective PLSRegression_Objective:\n"
     ]
    },
    {
     "name": "stderr",
     "output_type": "stream",
     "text": [
      "  6%|██▍                                   | 507/8000 [00:00<00:07, 1050.95it/s]\n",
      "66it [00:00, 654.85it/s]"
     ]
    },
    {
     "name": "stdout",
     "output_type": "stream",
     "text": [
      "iterations: 507\n",
      "Number of used features: 26\n",
      "Used features: ['num-p032-shoulder.nii.gz-0.500000', 'sum-p032-shoulder.nii.gz-0.500000', 'mean-p032-shoulder.nii.gz-0.500000', 'std-p032-shoulder.nii.gz-0.500000', 'skew-p032-shoulder.nii.gz-0.500000', 'kurt-p032-shoulder.nii.gz-0.500000', 'hist-0-p032-shoulder.nii.gz-0.500000', 'hist-1-p032-shoulder.nii.gz-0.500000', 'hist-2-p032-shoulder.nii.gz-0.500000', 'hist-3-p032-shoulder.nii.gz-0.500000', 'hist-4-p032-shoulder.nii.gz-0.500000', 'hist-5-p032-shoulder.nii.gz-0.500000', 'hist-6-p032-shoulder.nii.gz-0.500000', 'hist-7-p032-shoulder.nii.gz-0.500000', 'hist-8-p032-shoulder.nii.gz-0.500000', 'hist-9-p032-shoulder.nii.gz-0.500000', 'hist-10-p032-shoulder.nii.gz-0.500000', 'hist-11-p032-shoulder.nii.gz-0.500000', 'hist-12-p032-shoulder.nii.gz-0.500000', 'hist-13-p032-shoulder.nii.gz-0.500000', 'hist-14-p032-shoulder.nii.gz-0.500000', 'hist-15-p032-shoulder.nii.gz-0.500000', 'hist-16-p032-shoulder.nii.gz-0.500000', 'hist-17-p032-shoulder.nii.gz-0.500000', 'hist-18-p032-shoulder.nii.gz-0.500000', 'hist-19-p032-shoulder.nii.gz-0.500000'] \n",
      "Score: -0.8027882766558612\n"
     ]
    },
    {
     "name": "stderr",
     "output_type": "stream",
     "text": [
      "200it [00:00, 650.83it/s]\n",
      "  0%|                                                  | 0/8000 [00:00<?, ?it/s]"
     ]
    },
    {
     "name": "stdout",
     "output_type": "stream",
     "text": [
      "1\n",
      "1 0.8239066524845321\n",
      "Objective KNNR_Objective:\n"
     ]
    },
    {
     "name": "stderr",
     "output_type": "stream",
     "text": [
      "  7%|██▋                                     | 545/8000 [00:15<03:36, 34.43it/s]\n",
      "71it [00:00, 706.79it/s]"
     ]
    },
    {
     "name": "stdout",
     "output_type": "stream",
     "text": [
      "iterations: 545\n",
      "Number of used features: 26\n",
      "Used features: ['num-p041-shoulder.nii.gz-0.500000', 'sum-p041-shoulder.nii.gz-0.500000', 'mean-p041-shoulder.nii.gz-0.500000', 'std-p041-shoulder.nii.gz-0.500000', 'skew-p041-shoulder.nii.gz-0.500000', 'kurt-p041-shoulder.nii.gz-0.500000', 'hist-0-p041-shoulder.nii.gz-0.500000', 'hist-1-p041-shoulder.nii.gz-0.500000', 'hist-2-p041-shoulder.nii.gz-0.500000', 'hist-3-p041-shoulder.nii.gz-0.500000', 'hist-4-p041-shoulder.nii.gz-0.500000', 'hist-5-p041-shoulder.nii.gz-0.500000', 'hist-6-p041-shoulder.nii.gz-0.500000', 'hist-7-p041-shoulder.nii.gz-0.500000', 'hist-8-p041-shoulder.nii.gz-0.500000', 'hist-9-p041-shoulder.nii.gz-0.500000', 'hist-10-p041-shoulder.nii.gz-0.500000', 'hist-11-p041-shoulder.nii.gz-0.500000', 'hist-12-p041-shoulder.nii.gz-0.500000', 'hist-13-p041-shoulder.nii.gz-0.500000', 'hist-14-p041-shoulder.nii.gz-0.500000', 'hist-15-p041-shoulder.nii.gz-0.500000', 'hist-16-p041-shoulder.nii.gz-0.500000', 'hist-17-p041-shoulder.nii.gz-0.500000', 'hist-18-p041-shoulder.nii.gz-0.500000', 'hist-19-p041-shoulder.nii.gz-0.500000'] \n",
      "Score: -0.5870189436763902\n"
     ]
    },
    {
     "name": "stderr",
     "output_type": "stream",
     "text": [
      "200it [00:00, 713.08it/s]\n",
      "  0%|                                                  | 0/8000 [00:00<?, ?it/s]"
     ]
    },
    {
     "name": "stdout",
     "output_type": "stream",
     "text": [
      "1\n",
      "1 0.6209839287923321\n",
      "Objective LinearRegression_Objective:\n"
     ]
    },
    {
     "name": "stderr",
     "output_type": "stream",
     "text": [
      "  6%|██▎                                   | 499/8000 [00:00<00:02, 3460.57it/s]\n",
      "86it [00:00, 854.78it/s]"
     ]
    },
    {
     "name": "stdout",
     "output_type": "stream",
     "text": [
      "iterations: 499\n",
      "Number of used features: 26\n",
      "Used features: ['num-p041-shoulder.nii.gz-0.500000', 'sum-p041-shoulder.nii.gz-0.500000', 'mean-p041-shoulder.nii.gz-0.500000', 'std-p041-shoulder.nii.gz-0.500000', 'skew-p041-shoulder.nii.gz-0.500000', 'kurt-p041-shoulder.nii.gz-0.500000', 'hist-0-p041-shoulder.nii.gz-0.500000', 'hist-1-p041-shoulder.nii.gz-0.500000', 'hist-2-p041-shoulder.nii.gz-0.500000', 'hist-3-p041-shoulder.nii.gz-0.500000', 'hist-4-p041-shoulder.nii.gz-0.500000', 'hist-5-p041-shoulder.nii.gz-0.500000', 'hist-6-p041-shoulder.nii.gz-0.500000', 'hist-7-p041-shoulder.nii.gz-0.500000', 'hist-8-p041-shoulder.nii.gz-0.500000', 'hist-9-p041-shoulder.nii.gz-0.500000', 'hist-10-p041-shoulder.nii.gz-0.500000', 'hist-11-p041-shoulder.nii.gz-0.500000', 'hist-12-p041-shoulder.nii.gz-0.500000', 'hist-13-p041-shoulder.nii.gz-0.500000', 'hist-14-p041-shoulder.nii.gz-0.500000', 'hist-15-p041-shoulder.nii.gz-0.500000', 'hist-16-p041-shoulder.nii.gz-0.500000', 'hist-17-p041-shoulder.nii.gz-0.500000', 'hist-18-p041-shoulder.nii.gz-0.500000', 'hist-19-p041-shoulder.nii.gz-0.500000'] \n",
      "Score: -0.463797515675447\n"
     ]
    },
    {
     "name": "stderr",
     "output_type": "stream",
     "text": [
      "200it [00:00, 849.03it/s]\n",
      "  0%|                                                  | 0/8000 [00:00<?, ?it/s]"
     ]
    },
    {
     "name": "stdout",
     "output_type": "stream",
     "text": [
      "1\n",
      "1 0.7000314511890796\n",
      "Objective LassoRegression_Objective:\n"
     ]
    },
    {
     "name": "stderr",
     "output_type": "stream",
     "text": [
      "  6%|██▍                                    | 500/8000 [00:02<00:34, 218.16it/s]\n",
      "56it [00:00, 555.10it/s]"
     ]
    },
    {
     "name": "stdout",
     "output_type": "stream",
     "text": [
      "iterations: 500\n",
      "Number of used features: 26\n",
      "Used features: ['num-p041-shoulder.nii.gz-0.500000', 'sum-p041-shoulder.nii.gz-0.500000', 'mean-p041-shoulder.nii.gz-0.500000', 'std-p041-shoulder.nii.gz-0.500000', 'skew-p041-shoulder.nii.gz-0.500000', 'kurt-p041-shoulder.nii.gz-0.500000', 'hist-0-p041-shoulder.nii.gz-0.500000', 'hist-1-p041-shoulder.nii.gz-0.500000', 'hist-2-p041-shoulder.nii.gz-0.500000', 'hist-3-p041-shoulder.nii.gz-0.500000', 'hist-4-p041-shoulder.nii.gz-0.500000', 'hist-5-p041-shoulder.nii.gz-0.500000', 'hist-6-p041-shoulder.nii.gz-0.500000', 'hist-7-p041-shoulder.nii.gz-0.500000', 'hist-8-p041-shoulder.nii.gz-0.500000', 'hist-9-p041-shoulder.nii.gz-0.500000', 'hist-10-p041-shoulder.nii.gz-0.500000', 'hist-11-p041-shoulder.nii.gz-0.500000', 'hist-12-p041-shoulder.nii.gz-0.500000', 'hist-13-p041-shoulder.nii.gz-0.500000', 'hist-14-p041-shoulder.nii.gz-0.500000', 'hist-15-p041-shoulder.nii.gz-0.500000', 'hist-16-p041-shoulder.nii.gz-0.500000', 'hist-17-p041-shoulder.nii.gz-0.500000', 'hist-18-p041-shoulder.nii.gz-0.500000', 'hist-19-p041-shoulder.nii.gz-0.500000'] \n",
      "Score: -0.8964333758654818\n"
     ]
    },
    {
     "name": "stderr",
     "output_type": "stream",
     "text": [
      "200it [00:00, 537.62it/s]\n",
      "  0%|                                                  | 0/8000 [00:00<?, ?it/s]"
     ]
    },
    {
     "name": "stdout",
     "output_type": "stream",
     "text": [
      "1\n",
      "1 0.9088077199680606\n",
      "Objective RidgeRegression_Objective:\n"
     ]
    },
    {
     "name": "stderr",
     "output_type": "stream",
     "text": [
      "  6%|██▍                                    | 505/8000 [00:01<00:21, 352.00it/s]\n",
      "67it [00:00, 660.14it/s]"
     ]
    },
    {
     "name": "stdout",
     "output_type": "stream",
     "text": [
      "iterations: 505\n",
      "Number of used features: 26\n",
      "Used features: ['num-p041-shoulder.nii.gz-0.500000', 'sum-p041-shoulder.nii.gz-0.500000', 'mean-p041-shoulder.nii.gz-0.500000', 'std-p041-shoulder.nii.gz-0.500000', 'skew-p041-shoulder.nii.gz-0.500000', 'kurt-p041-shoulder.nii.gz-0.500000', 'hist-0-p041-shoulder.nii.gz-0.500000', 'hist-1-p041-shoulder.nii.gz-0.500000', 'hist-2-p041-shoulder.nii.gz-0.500000', 'hist-3-p041-shoulder.nii.gz-0.500000', 'hist-4-p041-shoulder.nii.gz-0.500000', 'hist-5-p041-shoulder.nii.gz-0.500000', 'hist-6-p041-shoulder.nii.gz-0.500000', 'hist-7-p041-shoulder.nii.gz-0.500000', 'hist-8-p041-shoulder.nii.gz-0.500000', 'hist-9-p041-shoulder.nii.gz-0.500000', 'hist-10-p041-shoulder.nii.gz-0.500000', 'hist-11-p041-shoulder.nii.gz-0.500000', 'hist-12-p041-shoulder.nii.gz-0.500000', 'hist-13-p041-shoulder.nii.gz-0.500000', 'hist-14-p041-shoulder.nii.gz-0.500000', 'hist-15-p041-shoulder.nii.gz-0.500000', 'hist-16-p041-shoulder.nii.gz-0.500000', 'hist-17-p041-shoulder.nii.gz-0.500000', 'hist-18-p041-shoulder.nii.gz-0.500000', 'hist-19-p041-shoulder.nii.gz-0.500000'] \n",
      "Score: -0.90328587234834\n"
     ]
    },
    {
     "name": "stderr",
     "output_type": "stream",
     "text": [
      "200it [00:00, 654.52it/s]\n",
      "  0%|                                                  | 0/8000 [00:00<?, ?it/s]"
     ]
    },
    {
     "name": "stdout",
     "output_type": "stream",
     "text": [
      "1\n",
      "1 0.915206788613777\n",
      "Objective PLSRegression_Objective:\n"
     ]
    },
    {
     "name": "stderr",
     "output_type": "stream",
     "text": [
      "  6%|██▎                                   | 499/8000 [00:00<00:07, 1038.16it/s]\n",
      "64it [00:00, 634.72it/s]"
     ]
    },
    {
     "name": "stdout",
     "output_type": "stream",
     "text": [
      "iterations: 499\n",
      "Number of used features: 26\n",
      "Used features: ['num-p041-shoulder.nii.gz-0.500000', 'sum-p041-shoulder.nii.gz-0.500000', 'mean-p041-shoulder.nii.gz-0.500000', 'std-p041-shoulder.nii.gz-0.500000', 'skew-p041-shoulder.nii.gz-0.500000', 'kurt-p041-shoulder.nii.gz-0.500000', 'hist-0-p041-shoulder.nii.gz-0.500000', 'hist-1-p041-shoulder.nii.gz-0.500000', 'hist-2-p041-shoulder.nii.gz-0.500000', 'hist-3-p041-shoulder.nii.gz-0.500000', 'hist-4-p041-shoulder.nii.gz-0.500000', 'hist-5-p041-shoulder.nii.gz-0.500000', 'hist-6-p041-shoulder.nii.gz-0.500000', 'hist-7-p041-shoulder.nii.gz-0.500000', 'hist-8-p041-shoulder.nii.gz-0.500000', 'hist-9-p041-shoulder.nii.gz-0.500000', 'hist-10-p041-shoulder.nii.gz-0.500000', 'hist-11-p041-shoulder.nii.gz-0.500000', 'hist-12-p041-shoulder.nii.gz-0.500000', 'hist-13-p041-shoulder.nii.gz-0.500000', 'hist-14-p041-shoulder.nii.gz-0.500000', 'hist-15-p041-shoulder.nii.gz-0.500000', 'hist-16-p041-shoulder.nii.gz-0.500000', 'hist-17-p041-shoulder.nii.gz-0.500000', 'hist-18-p041-shoulder.nii.gz-0.500000', 'hist-19-p041-shoulder.nii.gz-0.500000'] \n",
      "Score: -0.8787142254551839\n"
     ]
    },
    {
     "name": "stderr",
     "output_type": "stream",
     "text": [
      "200it [00:00, 630.72it/s]\n",
      "  0%|                                                  | 0/8000 [00:00<?, ?it/s]"
     ]
    },
    {
     "name": "stdout",
     "output_type": "stream",
     "text": [
      "1\n",
      "1 0.8894308532115052\n",
      "Objective KNNR_Objective:\n"
     ]
    },
    {
     "name": "stderr",
     "output_type": "stream",
     "text": [
      "  8%|███                                     | 603/8000 [00:15<03:06, 39.77it/s]\n",
      "79it [00:00, 787.98it/s]"
     ]
    },
    {
     "name": "stdout",
     "output_type": "stream",
     "text": [
      "iterations: 603\n",
      "Number of used features: 26\n",
      "Used features: ['num-p048-shoulder.nii.gz-0.500000', 'sum-p048-shoulder.nii.gz-0.500000', 'mean-p048-shoulder.nii.gz-0.500000', 'std-p048-shoulder.nii.gz-0.500000', 'skew-p048-shoulder.nii.gz-0.500000', 'kurt-p048-shoulder.nii.gz-0.500000', 'hist-0-p048-shoulder.nii.gz-0.500000', 'hist-1-p048-shoulder.nii.gz-0.500000', 'hist-2-p048-shoulder.nii.gz-0.500000', 'hist-3-p048-shoulder.nii.gz-0.500000', 'hist-4-p048-shoulder.nii.gz-0.500000', 'hist-5-p048-shoulder.nii.gz-0.500000', 'hist-6-p048-shoulder.nii.gz-0.500000', 'hist-7-p048-shoulder.nii.gz-0.500000', 'hist-8-p048-shoulder.nii.gz-0.500000', 'hist-9-p048-shoulder.nii.gz-0.500000', 'hist-10-p048-shoulder.nii.gz-0.500000', 'hist-11-p048-shoulder.nii.gz-0.500000', 'hist-12-p048-shoulder.nii.gz-0.500000', 'hist-13-p048-shoulder.nii.gz-0.500000', 'hist-14-p048-shoulder.nii.gz-0.500000', 'hist-15-p048-shoulder.nii.gz-0.500000', 'hist-16-p048-shoulder.nii.gz-0.500000', 'hist-17-p048-shoulder.nii.gz-0.500000', 'hist-18-p048-shoulder.nii.gz-0.500000', 'hist-19-p048-shoulder.nii.gz-0.500000'] \n",
      "Score: -0.5329400896740712\n"
     ]
    },
    {
     "name": "stderr",
     "output_type": "stream",
     "text": [
      "200it [00:00, 781.86it/s]\n",
      "  0%|                                                  | 0/8000 [00:00<?, ?it/s]"
     ]
    },
    {
     "name": "stdout",
     "output_type": "stream",
     "text": [
      "1\n",
      "1 0.561416352144297\n",
      "Objective LinearRegression_Objective:\n"
     ]
    },
    {
     "name": "stderr",
     "output_type": "stream",
     "text": [
      "  6%|██▎                                   | 499/8000 [00:00<00:02, 3577.22it/s]\n",
      "88it [00:00, 877.38it/s]"
     ]
    },
    {
     "name": "stdout",
     "output_type": "stream",
     "text": [
      "iterations: 499\n",
      "Number of used features: 26\n",
      "Used features: ['num-p048-shoulder.nii.gz-0.500000', 'sum-p048-shoulder.nii.gz-0.500000', 'mean-p048-shoulder.nii.gz-0.500000', 'std-p048-shoulder.nii.gz-0.500000', 'skew-p048-shoulder.nii.gz-0.500000', 'kurt-p048-shoulder.nii.gz-0.500000', 'hist-0-p048-shoulder.nii.gz-0.500000', 'hist-1-p048-shoulder.nii.gz-0.500000', 'hist-2-p048-shoulder.nii.gz-0.500000', 'hist-3-p048-shoulder.nii.gz-0.500000', 'hist-4-p048-shoulder.nii.gz-0.500000', 'hist-5-p048-shoulder.nii.gz-0.500000', 'hist-6-p048-shoulder.nii.gz-0.500000', 'hist-7-p048-shoulder.nii.gz-0.500000', 'hist-8-p048-shoulder.nii.gz-0.500000', 'hist-9-p048-shoulder.nii.gz-0.500000', 'hist-10-p048-shoulder.nii.gz-0.500000', 'hist-11-p048-shoulder.nii.gz-0.500000', 'hist-12-p048-shoulder.nii.gz-0.500000', 'hist-13-p048-shoulder.nii.gz-0.500000', 'hist-14-p048-shoulder.nii.gz-0.500000', 'hist-15-p048-shoulder.nii.gz-0.500000', 'hist-16-p048-shoulder.nii.gz-0.500000', 'hist-17-p048-shoulder.nii.gz-0.500000', 'hist-18-p048-shoulder.nii.gz-0.500000', 'hist-19-p048-shoulder.nii.gz-0.500000'] \n",
      "Score: -0.5725096061840953\n"
     ]
    },
    {
     "name": "stderr",
     "output_type": "stream",
     "text": [
      "200it [00:00, 878.49it/s]\n",
      "  0%|                                                  | 0/8000 [00:00<?, ?it/s]"
     ]
    },
    {
     "name": "stdout",
     "output_type": "stream",
     "text": [
      "1\n",
      "1 0.7464682651001253\n",
      "Objective LassoRegression_Objective:\n"
     ]
    },
    {
     "name": "stderr",
     "output_type": "stream",
     "text": [
      "  6%|██▍                                    | 499/8000 [00:02<00:33, 226.04it/s]\n",
      "62it [00:00, 615.69it/s]"
     ]
    },
    {
     "name": "stdout",
     "output_type": "stream",
     "text": [
      "iterations: 499\n",
      "Number of used features: 26\n",
      "Used features: ['num-p048-shoulder.nii.gz-0.500000', 'sum-p048-shoulder.nii.gz-0.500000', 'mean-p048-shoulder.nii.gz-0.500000', 'std-p048-shoulder.nii.gz-0.500000', 'skew-p048-shoulder.nii.gz-0.500000', 'kurt-p048-shoulder.nii.gz-0.500000', 'hist-0-p048-shoulder.nii.gz-0.500000', 'hist-1-p048-shoulder.nii.gz-0.500000', 'hist-2-p048-shoulder.nii.gz-0.500000', 'hist-3-p048-shoulder.nii.gz-0.500000', 'hist-4-p048-shoulder.nii.gz-0.500000', 'hist-5-p048-shoulder.nii.gz-0.500000', 'hist-6-p048-shoulder.nii.gz-0.500000', 'hist-7-p048-shoulder.nii.gz-0.500000', 'hist-8-p048-shoulder.nii.gz-0.500000', 'hist-9-p048-shoulder.nii.gz-0.500000', 'hist-10-p048-shoulder.nii.gz-0.500000', 'hist-11-p048-shoulder.nii.gz-0.500000', 'hist-12-p048-shoulder.nii.gz-0.500000', 'hist-13-p048-shoulder.nii.gz-0.500000', 'hist-14-p048-shoulder.nii.gz-0.500000', 'hist-15-p048-shoulder.nii.gz-0.500000', 'hist-16-p048-shoulder.nii.gz-0.500000', 'hist-17-p048-shoulder.nii.gz-0.500000', 'hist-18-p048-shoulder.nii.gz-0.500000', 'hist-19-p048-shoulder.nii.gz-0.500000'] \n",
      "Score: -0.856709051038025\n"
     ]
    },
    {
     "name": "stderr",
     "output_type": "stream",
     "text": [
      "200it [00:00, 609.46it/s]\n",
      "  0%|                                                  | 0/8000 [00:00<?, ?it/s]"
     ]
    },
    {
     "name": "stdout",
     "output_type": "stream",
     "text": [
      "1\n",
      "1 0.872950442527547\n",
      "Objective RidgeRegression_Objective:\n"
     ]
    },
    {
     "name": "stderr",
     "output_type": "stream",
     "text": [
      "  6%|██▍                                    | 508/8000 [00:01<00:20, 362.61it/s]\n",
      "69it [00:00, 682.09it/s]"
     ]
    },
    {
     "name": "stdout",
     "output_type": "stream",
     "text": [
      "iterations: 508\n",
      "Number of used features: 26\n",
      "Used features: ['num-p048-shoulder.nii.gz-0.500000', 'sum-p048-shoulder.nii.gz-0.500000', 'mean-p048-shoulder.nii.gz-0.500000', 'std-p048-shoulder.nii.gz-0.500000', 'skew-p048-shoulder.nii.gz-0.500000', 'kurt-p048-shoulder.nii.gz-0.500000', 'hist-0-p048-shoulder.nii.gz-0.500000', 'hist-1-p048-shoulder.nii.gz-0.500000', 'hist-2-p048-shoulder.nii.gz-0.500000', 'hist-3-p048-shoulder.nii.gz-0.500000', 'hist-4-p048-shoulder.nii.gz-0.500000', 'hist-5-p048-shoulder.nii.gz-0.500000', 'hist-6-p048-shoulder.nii.gz-0.500000', 'hist-7-p048-shoulder.nii.gz-0.500000', 'hist-8-p048-shoulder.nii.gz-0.500000', 'hist-9-p048-shoulder.nii.gz-0.500000', 'hist-10-p048-shoulder.nii.gz-0.500000', 'hist-11-p048-shoulder.nii.gz-0.500000', 'hist-12-p048-shoulder.nii.gz-0.500000', 'hist-13-p048-shoulder.nii.gz-0.500000', 'hist-14-p048-shoulder.nii.gz-0.500000', 'hist-15-p048-shoulder.nii.gz-0.500000', 'hist-16-p048-shoulder.nii.gz-0.500000', 'hist-17-p048-shoulder.nii.gz-0.500000', 'hist-18-p048-shoulder.nii.gz-0.500000', 'hist-19-p048-shoulder.nii.gz-0.500000'] \n",
      "Score: -0.843030022596311\n"
     ]
    },
    {
     "name": "stderr",
     "output_type": "stream",
     "text": [
      "200it [00:00, 679.90it/s]\n",
      "  0%|                                                  | 0/8000 [00:00<?, ?it/s]"
     ]
    },
    {
     "name": "stdout",
     "output_type": "stream",
     "text": [
      "1\n",
      "1 0.8661734689419394\n",
      "Objective PLSRegression_Objective:\n"
     ]
    },
    {
     "name": "stderr",
     "output_type": "stream",
     "text": [
      "  6%|██▎                                   | 499/8000 [00:00<00:06, 1088.32it/s]\n",
      "64it [00:00, 632.04it/s]"
     ]
    },
    {
     "name": "stdout",
     "output_type": "stream",
     "text": [
      "iterations: 499\n",
      "Number of used features: 26\n",
      "Used features: ['num-p048-shoulder.nii.gz-0.500000', 'sum-p048-shoulder.nii.gz-0.500000', 'mean-p048-shoulder.nii.gz-0.500000', 'std-p048-shoulder.nii.gz-0.500000', 'skew-p048-shoulder.nii.gz-0.500000', 'kurt-p048-shoulder.nii.gz-0.500000', 'hist-0-p048-shoulder.nii.gz-0.500000', 'hist-1-p048-shoulder.nii.gz-0.500000', 'hist-2-p048-shoulder.nii.gz-0.500000', 'hist-3-p048-shoulder.nii.gz-0.500000', 'hist-4-p048-shoulder.nii.gz-0.500000', 'hist-5-p048-shoulder.nii.gz-0.500000', 'hist-6-p048-shoulder.nii.gz-0.500000', 'hist-7-p048-shoulder.nii.gz-0.500000', 'hist-8-p048-shoulder.nii.gz-0.500000', 'hist-9-p048-shoulder.nii.gz-0.500000', 'hist-10-p048-shoulder.nii.gz-0.500000', 'hist-11-p048-shoulder.nii.gz-0.500000', 'hist-12-p048-shoulder.nii.gz-0.500000', 'hist-13-p048-shoulder.nii.gz-0.500000', 'hist-14-p048-shoulder.nii.gz-0.500000', 'hist-15-p048-shoulder.nii.gz-0.500000', 'hist-16-p048-shoulder.nii.gz-0.500000', 'hist-17-p048-shoulder.nii.gz-0.500000', 'hist-18-p048-shoulder.nii.gz-0.500000', 'hist-19-p048-shoulder.nii.gz-0.500000'] \n",
      "Score: -0.8122785474274604\n"
     ]
    },
    {
     "name": "stderr",
     "output_type": "stream",
     "text": [
      "200it [00:00, 634.37it/s]"
     ]
    },
    {
     "name": "stdout",
     "output_type": "stream",
     "text": [
      "1\n",
      "1 0.8402397523785139\n"
     ]
    },
    {
     "name": "stderr",
     "output_type": "stream",
     "text": [
      "\n"
     ]
    }
   ],
   "source": [
    "for m in masks:\n",
    "    results_no_fs.append(model_selection(shoulder_features[[c for c in shoulder_features.columns if m in c or c == 'type']], shoulder_target, dataset='shoulder', type=m, disable_feature_selection=True))"
   ]
  },
  {
   "cell_type": "markdown",
   "metadata": {},
   "source": [
    "### body all features"
   ]
  },
  {
   "cell_type": "code",
   "execution_count": 43,
   "metadata": {},
   "outputs": [
    {
     "name": "stderr",
     "output_type": "stream",
     "text": [
      "\r",
      "  0%|                                                  | 0/8000 [00:00<?, ?it/s]"
     ]
    },
    {
     "name": "stdout",
     "output_type": "stream",
     "text": [
      "Objective KNNR_Objective:\n"
     ]
    },
    {
     "name": "stderr",
     "output_type": "stream",
     "text": [
      "  8%|███                                     | 617/8000 [00:31<06:13, 19.76it/s]\n",
      "62it [00:00, 612.76it/s]"
     ]
    },
    {
     "name": "stdout",
     "output_type": "stream",
     "text": [
      "iterations: 617\n",
      "Number of used features: 300\n",
      "Used features: ['num-p004-body.nii.gz-0.500000', 'sum-p004-body.nii.gz-0.500000', 'mean-p004-body.nii.gz-0.500000', 'std-p004-body.nii.gz-0.500000', 'skew-p004-body.nii.gz-0.500000', 'kurt-p004-body.nii.gz-0.500000', 'hist-0-p004-body.nii.gz-0.500000', 'hist-1-p004-body.nii.gz-0.500000', 'hist-2-p004-body.nii.gz-0.500000', 'hist-3-p004-body.nii.gz-0.500000', 'hist-4-p004-body.nii.gz-0.500000', 'hist-5-p004-body.nii.gz-0.500000', 'hist-6-p004-body.nii.gz-0.500000', 'hist-7-p004-body.nii.gz-0.500000', 'hist-8-p004-body.nii.gz-0.500000', 'hist-9-p004-body.nii.gz-0.500000', 'hist-10-p004-body.nii.gz-0.500000', 'hist-11-p004-body.nii.gz-0.500000', 'hist-12-p004-body.nii.gz-0.500000', 'hist-13-p004-body.nii.gz-0.500000', 'hist-14-p004-body.nii.gz-0.500000', 'hist-15-p004-body.nii.gz-0.500000', 'hist-16-p004-body.nii.gz-0.500000', 'hist-17-p004-body.nii.gz-0.500000', 'hist-18-p004-body.nii.gz-0.500000', 'hist-19-p004-body.nii.gz-0.500000', 'hist-20-p004-body.nii.gz-0.500000', 'hist-21-p004-body.nii.gz-0.500000', 'hist-22-p004-body.nii.gz-0.500000', 'hist-23-p004-body.nii.gz-0.500000', 'hist-24-p004-body.nii.gz-0.500000', 'hist-25-p004-body.nii.gz-0.500000', 'hist-26-p004-body.nii.gz-0.500000', 'hist-27-p004-body.nii.gz-0.500000', 'hist-28-p004-body.nii.gz-0.500000', 'hist-29-p004-body.nii.gz-0.500000', 'hist-30-p004-body.nii.gz-0.500000', 'hist-31-p004-body.nii.gz-0.500000', 'hist-32-p004-body.nii.gz-0.500000', 'hist-33-p004-body.nii.gz-0.500000', 'hist-34-p004-body.nii.gz-0.500000', 'hist-35-p004-body.nii.gz-0.500000', 'hist-36-p004-body.nii.gz-0.500000', 'hist-37-p004-body.nii.gz-0.500000', 'hist-38-p004-body.nii.gz-0.500000', 'hist-39-p004-body.nii.gz-0.500000', 'hist-40-p004-body.nii.gz-0.500000', 'hist-41-p004-body.nii.gz-0.500000', 'hist-42-p004-body.nii.gz-0.500000', 'hist-43-p004-body.nii.gz-0.500000', 'num-p029-body.nii.gz-0.500000', 'sum-p029-body.nii.gz-0.500000', 'mean-p029-body.nii.gz-0.500000', 'std-p029-body.nii.gz-0.500000', 'skew-p029-body.nii.gz-0.500000', 'kurt-p029-body.nii.gz-0.500000', 'hist-0-p029-body.nii.gz-0.500000', 'hist-1-p029-body.nii.gz-0.500000', 'hist-2-p029-body.nii.gz-0.500000', 'hist-3-p029-body.nii.gz-0.500000', 'hist-4-p029-body.nii.gz-0.500000', 'hist-5-p029-body.nii.gz-0.500000', 'hist-6-p029-body.nii.gz-0.500000', 'hist-7-p029-body.nii.gz-0.500000', 'hist-8-p029-body.nii.gz-0.500000', 'hist-9-p029-body.nii.gz-0.500000', 'hist-10-p029-body.nii.gz-0.500000', 'hist-11-p029-body.nii.gz-0.500000', 'hist-12-p029-body.nii.gz-0.500000', 'hist-13-p029-body.nii.gz-0.500000', 'hist-14-p029-body.nii.gz-0.500000', 'hist-15-p029-body.nii.gz-0.500000', 'hist-16-p029-body.nii.gz-0.500000', 'hist-17-p029-body.nii.gz-0.500000', 'hist-18-p029-body.nii.gz-0.500000', 'hist-19-p029-body.nii.gz-0.500000', 'hist-20-p029-body.nii.gz-0.500000', 'hist-21-p029-body.nii.gz-0.500000', 'hist-22-p029-body.nii.gz-0.500000', 'hist-23-p029-body.nii.gz-0.500000', 'hist-24-p029-body.nii.gz-0.500000', 'hist-25-p029-body.nii.gz-0.500000', 'hist-26-p029-body.nii.gz-0.500000', 'hist-27-p029-body.nii.gz-0.500000', 'hist-28-p029-body.nii.gz-0.500000', 'hist-29-p029-body.nii.gz-0.500000', 'hist-30-p029-body.nii.gz-0.500000', 'hist-31-p029-body.nii.gz-0.500000', 'hist-32-p029-body.nii.gz-0.500000', 'hist-33-p029-body.nii.gz-0.500000', 'hist-34-p029-body.nii.gz-0.500000', 'hist-35-p029-body.nii.gz-0.500000', 'hist-36-p029-body.nii.gz-0.500000', 'hist-37-p029-body.nii.gz-0.500000', 'hist-38-p029-body.nii.gz-0.500000', 'hist-39-p029-body.nii.gz-0.500000', 'hist-40-p029-body.nii.gz-0.500000', 'hist-41-p029-body.nii.gz-0.500000', 'hist-42-p029-body.nii.gz-0.500000', 'hist-43-p029-body.nii.gz-0.500000', 'num-p032-body.nii.gz-0.500000', 'sum-p032-body.nii.gz-0.500000', 'mean-p032-body.nii.gz-0.500000', 'std-p032-body.nii.gz-0.500000', 'skew-p032-body.nii.gz-0.500000', 'kurt-p032-body.nii.gz-0.500000', 'hist-0-p032-body.nii.gz-0.500000', 'hist-1-p032-body.nii.gz-0.500000', 'hist-2-p032-body.nii.gz-0.500000', 'hist-3-p032-body.nii.gz-0.500000', 'hist-4-p032-body.nii.gz-0.500000', 'hist-5-p032-body.nii.gz-0.500000', 'hist-6-p032-body.nii.gz-0.500000', 'hist-7-p032-body.nii.gz-0.500000', 'hist-8-p032-body.nii.gz-0.500000', 'hist-9-p032-body.nii.gz-0.500000', 'hist-10-p032-body.nii.gz-0.500000', 'hist-11-p032-body.nii.gz-0.500000', 'hist-12-p032-body.nii.gz-0.500000', 'hist-13-p032-body.nii.gz-0.500000', 'hist-14-p032-body.nii.gz-0.500000', 'hist-15-p032-body.nii.gz-0.500000', 'hist-16-p032-body.nii.gz-0.500000', 'hist-17-p032-body.nii.gz-0.500000', 'hist-18-p032-body.nii.gz-0.500000', 'hist-19-p032-body.nii.gz-0.500000', 'hist-20-p032-body.nii.gz-0.500000', 'hist-21-p032-body.nii.gz-0.500000', 'hist-22-p032-body.nii.gz-0.500000', 'hist-23-p032-body.nii.gz-0.500000', 'hist-24-p032-body.nii.gz-0.500000', 'hist-25-p032-body.nii.gz-0.500000', 'hist-26-p032-body.nii.gz-0.500000', 'hist-27-p032-body.nii.gz-0.500000', 'hist-28-p032-body.nii.gz-0.500000', 'hist-29-p032-body.nii.gz-0.500000', 'hist-30-p032-body.nii.gz-0.500000', 'hist-31-p032-body.nii.gz-0.500000', 'hist-32-p032-body.nii.gz-0.500000', 'hist-33-p032-body.nii.gz-0.500000', 'hist-34-p032-body.nii.gz-0.500000', 'hist-35-p032-body.nii.gz-0.500000', 'hist-36-p032-body.nii.gz-0.500000', 'hist-37-p032-body.nii.gz-0.500000', 'hist-38-p032-body.nii.gz-0.500000', 'hist-39-p032-body.nii.gz-0.500000', 'hist-40-p032-body.nii.gz-0.500000', 'hist-41-p032-body.nii.gz-0.500000', 'hist-42-p032-body.nii.gz-0.500000', 'hist-43-p032-body.nii.gz-0.500000', 'num-p041-body.nii.gz-0.500000', 'sum-p041-body.nii.gz-0.500000', 'mean-p041-body.nii.gz-0.500000', 'std-p041-body.nii.gz-0.500000', 'skew-p041-body.nii.gz-0.500000', 'kurt-p041-body.nii.gz-0.500000', 'hist-0-p041-body.nii.gz-0.500000', 'hist-1-p041-body.nii.gz-0.500000', 'hist-2-p041-body.nii.gz-0.500000', 'hist-3-p041-body.nii.gz-0.500000', 'hist-4-p041-body.nii.gz-0.500000', 'hist-5-p041-body.nii.gz-0.500000', 'hist-6-p041-body.nii.gz-0.500000', 'hist-7-p041-body.nii.gz-0.500000', 'hist-8-p041-body.nii.gz-0.500000', 'hist-9-p041-body.nii.gz-0.500000', 'hist-10-p041-body.nii.gz-0.500000', 'hist-11-p041-body.nii.gz-0.500000', 'hist-12-p041-body.nii.gz-0.500000', 'hist-13-p041-body.nii.gz-0.500000', 'hist-14-p041-body.nii.gz-0.500000', 'hist-15-p041-body.nii.gz-0.500000', 'hist-16-p041-body.nii.gz-0.500000', 'hist-17-p041-body.nii.gz-0.500000', 'hist-18-p041-body.nii.gz-0.500000', 'hist-19-p041-body.nii.gz-0.500000', 'hist-20-p041-body.nii.gz-0.500000', 'hist-21-p041-body.nii.gz-0.500000', 'hist-22-p041-body.nii.gz-0.500000', 'hist-23-p041-body.nii.gz-0.500000', 'hist-24-p041-body.nii.gz-0.500000', 'hist-25-p041-body.nii.gz-0.500000', 'hist-26-p041-body.nii.gz-0.500000', 'hist-27-p041-body.nii.gz-0.500000', 'hist-28-p041-body.nii.gz-0.500000', 'hist-29-p041-body.nii.gz-0.500000', 'hist-30-p041-body.nii.gz-0.500000', 'hist-31-p041-body.nii.gz-0.500000', 'hist-32-p041-body.nii.gz-0.500000', 'hist-33-p041-body.nii.gz-0.500000', 'hist-34-p041-body.nii.gz-0.500000', 'hist-35-p041-body.nii.gz-0.500000', 'hist-36-p041-body.nii.gz-0.500000', 'hist-37-p041-body.nii.gz-0.500000', 'hist-38-p041-body.nii.gz-0.500000', 'hist-39-p041-body.nii.gz-0.500000', 'hist-40-p041-body.nii.gz-0.500000', 'hist-41-p041-body.nii.gz-0.500000', 'hist-42-p041-body.nii.gz-0.500000', 'hist-43-p041-body.nii.gz-0.500000', 'num-p048-body.nii.gz-0.500000', 'sum-p048-body.nii.gz-0.500000', 'mean-p048-body.nii.gz-0.500000', 'std-p048-body.nii.gz-0.500000', 'skew-p048-body.nii.gz-0.500000', 'kurt-p048-body.nii.gz-0.500000', 'hist-0-p048-body.nii.gz-0.500000', 'hist-1-p048-body.nii.gz-0.500000', 'hist-2-p048-body.nii.gz-0.500000', 'hist-3-p048-body.nii.gz-0.500000', 'hist-4-p048-body.nii.gz-0.500000', 'hist-5-p048-body.nii.gz-0.500000', 'hist-6-p048-body.nii.gz-0.500000', 'hist-7-p048-body.nii.gz-0.500000', 'hist-8-p048-body.nii.gz-0.500000', 'hist-9-p048-body.nii.gz-0.500000', 'hist-10-p048-body.nii.gz-0.500000', 'hist-11-p048-body.nii.gz-0.500000', 'hist-12-p048-body.nii.gz-0.500000', 'hist-13-p048-body.nii.gz-0.500000', 'hist-14-p048-body.nii.gz-0.500000', 'hist-15-p048-body.nii.gz-0.500000', 'hist-16-p048-body.nii.gz-0.500000', 'hist-17-p048-body.nii.gz-0.500000', 'hist-18-p048-body.nii.gz-0.500000', 'hist-19-p048-body.nii.gz-0.500000', 'hist-20-p048-body.nii.gz-0.500000', 'hist-21-p048-body.nii.gz-0.500000', 'hist-22-p048-body.nii.gz-0.500000', 'hist-23-p048-body.nii.gz-0.500000', 'hist-24-p048-body.nii.gz-0.500000', 'hist-25-p048-body.nii.gz-0.500000', 'hist-26-p048-body.nii.gz-0.500000', 'hist-27-p048-body.nii.gz-0.500000', 'hist-28-p048-body.nii.gz-0.500000', 'hist-29-p048-body.nii.gz-0.500000', 'hist-30-p048-body.nii.gz-0.500000', 'hist-31-p048-body.nii.gz-0.500000', 'hist-32-p048-body.nii.gz-0.500000', 'hist-33-p048-body.nii.gz-0.500000', 'hist-34-p048-body.nii.gz-0.500000', 'hist-35-p048-body.nii.gz-0.500000', 'hist-36-p048-body.nii.gz-0.500000', 'hist-37-p048-body.nii.gz-0.500000', 'hist-38-p048-body.nii.gz-0.500000', 'hist-39-p048-body.nii.gz-0.500000', 'hist-40-p048-body.nii.gz-0.500000', 'hist-41-p048-body.nii.gz-0.500000', 'hist-42-p048-body.nii.gz-0.500000', 'hist-43-p048-body.nii.gz-0.500000', 'num-0.500000-mean_mask', 'sum-0.500000-mean_mask', 'mean-0.500000-mean_mask', 'std-0.500000-mean_mask', 'skew-0.500000-mean_mask', 'kurt-0.500000-mean_mask', 'hist-0-0.500000-mean_mask', 'hist-1-0.500000-mean_mask', 'hist-2-0.500000-mean_mask', 'hist-3-0.500000-mean_mask', 'hist-4-0.500000-mean_mask', 'hist-5-0.500000-mean_mask', 'hist-6-0.500000-mean_mask', 'hist-7-0.500000-mean_mask', 'hist-8-0.500000-mean_mask', 'hist-9-0.500000-mean_mask', 'hist-10-0.500000-mean_mask', 'hist-11-0.500000-mean_mask', 'hist-12-0.500000-mean_mask', 'hist-13-0.500000-mean_mask', 'hist-14-0.500000-mean_mask', 'hist-15-0.500000-mean_mask', 'hist-16-0.500000-mean_mask', 'hist-17-0.500000-mean_mask', 'hist-18-0.500000-mean_mask', 'hist-19-0.500000-mean_mask', 'hist-20-0.500000-mean_mask', 'hist-21-0.500000-mean_mask', 'hist-22-0.500000-mean_mask', 'hist-23-0.500000-mean_mask', 'hist-24-0.500000-mean_mask', 'hist-25-0.500000-mean_mask', 'hist-26-0.500000-mean_mask', 'hist-27-0.500000-mean_mask', 'hist-28-0.500000-mean_mask', 'hist-29-0.500000-mean_mask', 'hist-30-0.500000-mean_mask', 'hist-31-0.500000-mean_mask', 'hist-32-0.500000-mean_mask', 'hist-33-0.500000-mean_mask', 'hist-34-0.500000-mean_mask', 'hist-35-0.500000-mean_mask', 'hist-36-0.500000-mean_mask', 'hist-37-0.500000-mean_mask', 'hist-38-0.500000-mean_mask', 'hist-39-0.500000-mean_mask', 'hist-40-0.500000-mean_mask', 'hist-41-0.500000-mean_mask', 'hist-42-0.500000-mean_mask', 'hist-43-0.500000-mean_mask'] \n",
      "Score: -0.5608452582048278\n"
     ]
    },
    {
     "name": "stderr",
     "output_type": "stream",
     "text": [
      "200it [00:00, 610.64it/s]\n"
     ]
    },
    {
     "name": "stdout",
     "output_type": "stream",
     "text": [
      "1\n",
      "1 0.5714529461171647\n",
      "Objective LinearRegression_Objective:\n"
     ]
    },
    {
     "name": "stderr",
     "output_type": "stream",
     "text": [
      "  6%|██▎                                   | 499/8000 [00:00<00:06, 1204.75it/s]\n",
      "34it [00:00, 335.64it/s]"
     ]
    },
    {
     "name": "stdout",
     "output_type": "stream",
     "text": [
      "iterations: 499\n",
      "Number of used features: 300\n",
      "Used features: ['num-p004-body.nii.gz-0.500000', 'sum-p004-body.nii.gz-0.500000', 'mean-p004-body.nii.gz-0.500000', 'std-p004-body.nii.gz-0.500000', 'skew-p004-body.nii.gz-0.500000', 'kurt-p004-body.nii.gz-0.500000', 'hist-0-p004-body.nii.gz-0.500000', 'hist-1-p004-body.nii.gz-0.500000', 'hist-2-p004-body.nii.gz-0.500000', 'hist-3-p004-body.nii.gz-0.500000', 'hist-4-p004-body.nii.gz-0.500000', 'hist-5-p004-body.nii.gz-0.500000', 'hist-6-p004-body.nii.gz-0.500000', 'hist-7-p004-body.nii.gz-0.500000', 'hist-8-p004-body.nii.gz-0.500000', 'hist-9-p004-body.nii.gz-0.500000', 'hist-10-p004-body.nii.gz-0.500000', 'hist-11-p004-body.nii.gz-0.500000', 'hist-12-p004-body.nii.gz-0.500000', 'hist-13-p004-body.nii.gz-0.500000', 'hist-14-p004-body.nii.gz-0.500000', 'hist-15-p004-body.nii.gz-0.500000', 'hist-16-p004-body.nii.gz-0.500000', 'hist-17-p004-body.nii.gz-0.500000', 'hist-18-p004-body.nii.gz-0.500000', 'hist-19-p004-body.nii.gz-0.500000', 'hist-20-p004-body.nii.gz-0.500000', 'hist-21-p004-body.nii.gz-0.500000', 'hist-22-p004-body.nii.gz-0.500000', 'hist-23-p004-body.nii.gz-0.500000', 'hist-24-p004-body.nii.gz-0.500000', 'hist-25-p004-body.nii.gz-0.500000', 'hist-26-p004-body.nii.gz-0.500000', 'hist-27-p004-body.nii.gz-0.500000', 'hist-28-p004-body.nii.gz-0.500000', 'hist-29-p004-body.nii.gz-0.500000', 'hist-30-p004-body.nii.gz-0.500000', 'hist-31-p004-body.nii.gz-0.500000', 'hist-32-p004-body.nii.gz-0.500000', 'hist-33-p004-body.nii.gz-0.500000', 'hist-34-p004-body.nii.gz-0.500000', 'hist-35-p004-body.nii.gz-0.500000', 'hist-36-p004-body.nii.gz-0.500000', 'hist-37-p004-body.nii.gz-0.500000', 'hist-38-p004-body.nii.gz-0.500000', 'hist-39-p004-body.nii.gz-0.500000', 'hist-40-p004-body.nii.gz-0.500000', 'hist-41-p004-body.nii.gz-0.500000', 'hist-42-p004-body.nii.gz-0.500000', 'hist-43-p004-body.nii.gz-0.500000', 'num-p029-body.nii.gz-0.500000', 'sum-p029-body.nii.gz-0.500000', 'mean-p029-body.nii.gz-0.500000', 'std-p029-body.nii.gz-0.500000', 'skew-p029-body.nii.gz-0.500000', 'kurt-p029-body.nii.gz-0.500000', 'hist-0-p029-body.nii.gz-0.500000', 'hist-1-p029-body.nii.gz-0.500000', 'hist-2-p029-body.nii.gz-0.500000', 'hist-3-p029-body.nii.gz-0.500000', 'hist-4-p029-body.nii.gz-0.500000', 'hist-5-p029-body.nii.gz-0.500000', 'hist-6-p029-body.nii.gz-0.500000', 'hist-7-p029-body.nii.gz-0.500000', 'hist-8-p029-body.nii.gz-0.500000', 'hist-9-p029-body.nii.gz-0.500000', 'hist-10-p029-body.nii.gz-0.500000', 'hist-11-p029-body.nii.gz-0.500000', 'hist-12-p029-body.nii.gz-0.500000', 'hist-13-p029-body.nii.gz-0.500000', 'hist-14-p029-body.nii.gz-0.500000', 'hist-15-p029-body.nii.gz-0.500000', 'hist-16-p029-body.nii.gz-0.500000', 'hist-17-p029-body.nii.gz-0.500000', 'hist-18-p029-body.nii.gz-0.500000', 'hist-19-p029-body.nii.gz-0.500000', 'hist-20-p029-body.nii.gz-0.500000', 'hist-21-p029-body.nii.gz-0.500000', 'hist-22-p029-body.nii.gz-0.500000', 'hist-23-p029-body.nii.gz-0.500000', 'hist-24-p029-body.nii.gz-0.500000', 'hist-25-p029-body.nii.gz-0.500000', 'hist-26-p029-body.nii.gz-0.500000', 'hist-27-p029-body.nii.gz-0.500000', 'hist-28-p029-body.nii.gz-0.500000', 'hist-29-p029-body.nii.gz-0.500000', 'hist-30-p029-body.nii.gz-0.500000', 'hist-31-p029-body.nii.gz-0.500000', 'hist-32-p029-body.nii.gz-0.500000', 'hist-33-p029-body.nii.gz-0.500000', 'hist-34-p029-body.nii.gz-0.500000', 'hist-35-p029-body.nii.gz-0.500000', 'hist-36-p029-body.nii.gz-0.500000', 'hist-37-p029-body.nii.gz-0.500000', 'hist-38-p029-body.nii.gz-0.500000', 'hist-39-p029-body.nii.gz-0.500000', 'hist-40-p029-body.nii.gz-0.500000', 'hist-41-p029-body.nii.gz-0.500000', 'hist-42-p029-body.nii.gz-0.500000', 'hist-43-p029-body.nii.gz-0.500000', 'num-p032-body.nii.gz-0.500000', 'sum-p032-body.nii.gz-0.500000', 'mean-p032-body.nii.gz-0.500000', 'std-p032-body.nii.gz-0.500000', 'skew-p032-body.nii.gz-0.500000', 'kurt-p032-body.nii.gz-0.500000', 'hist-0-p032-body.nii.gz-0.500000', 'hist-1-p032-body.nii.gz-0.500000', 'hist-2-p032-body.nii.gz-0.500000', 'hist-3-p032-body.nii.gz-0.500000', 'hist-4-p032-body.nii.gz-0.500000', 'hist-5-p032-body.nii.gz-0.500000', 'hist-6-p032-body.nii.gz-0.500000', 'hist-7-p032-body.nii.gz-0.500000', 'hist-8-p032-body.nii.gz-0.500000', 'hist-9-p032-body.nii.gz-0.500000', 'hist-10-p032-body.nii.gz-0.500000', 'hist-11-p032-body.nii.gz-0.500000', 'hist-12-p032-body.nii.gz-0.500000', 'hist-13-p032-body.nii.gz-0.500000', 'hist-14-p032-body.nii.gz-0.500000', 'hist-15-p032-body.nii.gz-0.500000', 'hist-16-p032-body.nii.gz-0.500000', 'hist-17-p032-body.nii.gz-0.500000', 'hist-18-p032-body.nii.gz-0.500000', 'hist-19-p032-body.nii.gz-0.500000', 'hist-20-p032-body.nii.gz-0.500000', 'hist-21-p032-body.nii.gz-0.500000', 'hist-22-p032-body.nii.gz-0.500000', 'hist-23-p032-body.nii.gz-0.500000', 'hist-24-p032-body.nii.gz-0.500000', 'hist-25-p032-body.nii.gz-0.500000', 'hist-26-p032-body.nii.gz-0.500000', 'hist-27-p032-body.nii.gz-0.500000', 'hist-28-p032-body.nii.gz-0.500000', 'hist-29-p032-body.nii.gz-0.500000', 'hist-30-p032-body.nii.gz-0.500000', 'hist-31-p032-body.nii.gz-0.500000', 'hist-32-p032-body.nii.gz-0.500000', 'hist-33-p032-body.nii.gz-0.500000', 'hist-34-p032-body.nii.gz-0.500000', 'hist-35-p032-body.nii.gz-0.500000', 'hist-36-p032-body.nii.gz-0.500000', 'hist-37-p032-body.nii.gz-0.500000', 'hist-38-p032-body.nii.gz-0.500000', 'hist-39-p032-body.nii.gz-0.500000', 'hist-40-p032-body.nii.gz-0.500000', 'hist-41-p032-body.nii.gz-0.500000', 'hist-42-p032-body.nii.gz-0.500000', 'hist-43-p032-body.nii.gz-0.500000', 'num-p041-body.nii.gz-0.500000', 'sum-p041-body.nii.gz-0.500000', 'mean-p041-body.nii.gz-0.500000', 'std-p041-body.nii.gz-0.500000', 'skew-p041-body.nii.gz-0.500000', 'kurt-p041-body.nii.gz-0.500000', 'hist-0-p041-body.nii.gz-0.500000', 'hist-1-p041-body.nii.gz-0.500000', 'hist-2-p041-body.nii.gz-0.500000', 'hist-3-p041-body.nii.gz-0.500000', 'hist-4-p041-body.nii.gz-0.500000', 'hist-5-p041-body.nii.gz-0.500000', 'hist-6-p041-body.nii.gz-0.500000', 'hist-7-p041-body.nii.gz-0.500000', 'hist-8-p041-body.nii.gz-0.500000', 'hist-9-p041-body.nii.gz-0.500000', 'hist-10-p041-body.nii.gz-0.500000', 'hist-11-p041-body.nii.gz-0.500000', 'hist-12-p041-body.nii.gz-0.500000', 'hist-13-p041-body.nii.gz-0.500000', 'hist-14-p041-body.nii.gz-0.500000', 'hist-15-p041-body.nii.gz-0.500000', 'hist-16-p041-body.nii.gz-0.500000', 'hist-17-p041-body.nii.gz-0.500000', 'hist-18-p041-body.nii.gz-0.500000', 'hist-19-p041-body.nii.gz-0.500000', 'hist-20-p041-body.nii.gz-0.500000', 'hist-21-p041-body.nii.gz-0.500000', 'hist-22-p041-body.nii.gz-0.500000', 'hist-23-p041-body.nii.gz-0.500000', 'hist-24-p041-body.nii.gz-0.500000', 'hist-25-p041-body.nii.gz-0.500000', 'hist-26-p041-body.nii.gz-0.500000', 'hist-27-p041-body.nii.gz-0.500000', 'hist-28-p041-body.nii.gz-0.500000', 'hist-29-p041-body.nii.gz-0.500000', 'hist-30-p041-body.nii.gz-0.500000', 'hist-31-p041-body.nii.gz-0.500000', 'hist-32-p041-body.nii.gz-0.500000', 'hist-33-p041-body.nii.gz-0.500000', 'hist-34-p041-body.nii.gz-0.500000', 'hist-35-p041-body.nii.gz-0.500000', 'hist-36-p041-body.nii.gz-0.500000', 'hist-37-p041-body.nii.gz-0.500000', 'hist-38-p041-body.nii.gz-0.500000', 'hist-39-p041-body.nii.gz-0.500000', 'hist-40-p041-body.nii.gz-0.500000', 'hist-41-p041-body.nii.gz-0.500000', 'hist-42-p041-body.nii.gz-0.500000', 'hist-43-p041-body.nii.gz-0.500000', 'num-p048-body.nii.gz-0.500000', 'sum-p048-body.nii.gz-0.500000', 'mean-p048-body.nii.gz-0.500000', 'std-p048-body.nii.gz-0.500000', 'skew-p048-body.nii.gz-0.500000', 'kurt-p048-body.nii.gz-0.500000', 'hist-0-p048-body.nii.gz-0.500000', 'hist-1-p048-body.nii.gz-0.500000', 'hist-2-p048-body.nii.gz-0.500000', 'hist-3-p048-body.nii.gz-0.500000', 'hist-4-p048-body.nii.gz-0.500000', 'hist-5-p048-body.nii.gz-0.500000', 'hist-6-p048-body.nii.gz-0.500000', 'hist-7-p048-body.nii.gz-0.500000', 'hist-8-p048-body.nii.gz-0.500000', 'hist-9-p048-body.nii.gz-0.500000', 'hist-10-p048-body.nii.gz-0.500000', 'hist-11-p048-body.nii.gz-0.500000', 'hist-12-p048-body.nii.gz-0.500000', 'hist-13-p048-body.nii.gz-0.500000', 'hist-14-p048-body.nii.gz-0.500000', 'hist-15-p048-body.nii.gz-0.500000', 'hist-16-p048-body.nii.gz-0.500000', 'hist-17-p048-body.nii.gz-0.500000', 'hist-18-p048-body.nii.gz-0.500000', 'hist-19-p048-body.nii.gz-0.500000', 'hist-20-p048-body.nii.gz-0.500000', 'hist-21-p048-body.nii.gz-0.500000', 'hist-22-p048-body.nii.gz-0.500000', 'hist-23-p048-body.nii.gz-0.500000', 'hist-24-p048-body.nii.gz-0.500000', 'hist-25-p048-body.nii.gz-0.500000', 'hist-26-p048-body.nii.gz-0.500000', 'hist-27-p048-body.nii.gz-0.500000', 'hist-28-p048-body.nii.gz-0.500000', 'hist-29-p048-body.nii.gz-0.500000', 'hist-30-p048-body.nii.gz-0.500000', 'hist-31-p048-body.nii.gz-0.500000', 'hist-32-p048-body.nii.gz-0.500000', 'hist-33-p048-body.nii.gz-0.500000', 'hist-34-p048-body.nii.gz-0.500000', 'hist-35-p048-body.nii.gz-0.500000', 'hist-36-p048-body.nii.gz-0.500000', 'hist-37-p048-body.nii.gz-0.500000', 'hist-38-p048-body.nii.gz-0.500000', 'hist-39-p048-body.nii.gz-0.500000', 'hist-40-p048-body.nii.gz-0.500000', 'hist-41-p048-body.nii.gz-0.500000', 'hist-42-p048-body.nii.gz-0.500000', 'hist-43-p048-body.nii.gz-0.500000', 'num-0.500000-mean_mask', 'sum-0.500000-mean_mask', 'mean-0.500000-mean_mask', 'std-0.500000-mean_mask', 'skew-0.500000-mean_mask', 'kurt-0.500000-mean_mask', 'hist-0-0.500000-mean_mask', 'hist-1-0.500000-mean_mask', 'hist-2-0.500000-mean_mask', 'hist-3-0.500000-mean_mask', 'hist-4-0.500000-mean_mask', 'hist-5-0.500000-mean_mask', 'hist-6-0.500000-mean_mask', 'hist-7-0.500000-mean_mask', 'hist-8-0.500000-mean_mask', 'hist-9-0.500000-mean_mask', 'hist-10-0.500000-mean_mask', 'hist-11-0.500000-mean_mask', 'hist-12-0.500000-mean_mask', 'hist-13-0.500000-mean_mask', 'hist-14-0.500000-mean_mask', 'hist-15-0.500000-mean_mask', 'hist-16-0.500000-mean_mask', 'hist-17-0.500000-mean_mask', 'hist-18-0.500000-mean_mask', 'hist-19-0.500000-mean_mask', 'hist-20-0.500000-mean_mask', 'hist-21-0.500000-mean_mask', 'hist-22-0.500000-mean_mask', 'hist-23-0.500000-mean_mask', 'hist-24-0.500000-mean_mask', 'hist-25-0.500000-mean_mask', 'hist-26-0.500000-mean_mask', 'hist-27-0.500000-mean_mask', 'hist-28-0.500000-mean_mask', 'hist-29-0.500000-mean_mask', 'hist-30-0.500000-mean_mask', 'hist-31-0.500000-mean_mask', 'hist-32-0.500000-mean_mask', 'hist-33-0.500000-mean_mask', 'hist-34-0.500000-mean_mask', 'hist-35-0.500000-mean_mask', 'hist-36-0.500000-mean_mask', 'hist-37-0.500000-mean_mask', 'hist-38-0.500000-mean_mask', 'hist-39-0.500000-mean_mask', 'hist-40-0.500000-mean_mask', 'hist-41-0.500000-mean_mask', 'hist-42-0.500000-mean_mask', 'hist-43-0.500000-mean_mask'] \n",
      "Score: -0.9047372058369835\n"
     ]
    },
    {
     "name": "stderr",
     "output_type": "stream",
     "text": [
      "200it [00:00, 354.92it/s]\n"
     ]
    },
    {
     "name": "stdout",
     "output_type": "stream",
     "text": [
      "1\n",
      "1 0.8898175674305706\n",
      "Objective LassoRegression_Objective:\n"
     ]
    },
    {
     "name": "stderr",
     "output_type": "stream",
     "text": [
      "  6%|██▍                                     | 499/8000 [00:16<04:09, 30.01it/s]\n",
      "7it [00:00, 67.41it/s]"
     ]
    },
    {
     "name": "stdout",
     "output_type": "stream",
     "text": [
      "iterations: 499\n",
      "Number of used features: 300\n",
      "Used features: ['num-p004-body.nii.gz-0.500000', 'sum-p004-body.nii.gz-0.500000', 'mean-p004-body.nii.gz-0.500000', 'std-p004-body.nii.gz-0.500000', 'skew-p004-body.nii.gz-0.500000', 'kurt-p004-body.nii.gz-0.500000', 'hist-0-p004-body.nii.gz-0.500000', 'hist-1-p004-body.nii.gz-0.500000', 'hist-2-p004-body.nii.gz-0.500000', 'hist-3-p004-body.nii.gz-0.500000', 'hist-4-p004-body.nii.gz-0.500000', 'hist-5-p004-body.nii.gz-0.500000', 'hist-6-p004-body.nii.gz-0.500000', 'hist-7-p004-body.nii.gz-0.500000', 'hist-8-p004-body.nii.gz-0.500000', 'hist-9-p004-body.nii.gz-0.500000', 'hist-10-p004-body.nii.gz-0.500000', 'hist-11-p004-body.nii.gz-0.500000', 'hist-12-p004-body.nii.gz-0.500000', 'hist-13-p004-body.nii.gz-0.500000', 'hist-14-p004-body.nii.gz-0.500000', 'hist-15-p004-body.nii.gz-0.500000', 'hist-16-p004-body.nii.gz-0.500000', 'hist-17-p004-body.nii.gz-0.500000', 'hist-18-p004-body.nii.gz-0.500000', 'hist-19-p004-body.nii.gz-0.500000', 'hist-20-p004-body.nii.gz-0.500000', 'hist-21-p004-body.nii.gz-0.500000', 'hist-22-p004-body.nii.gz-0.500000', 'hist-23-p004-body.nii.gz-0.500000', 'hist-24-p004-body.nii.gz-0.500000', 'hist-25-p004-body.nii.gz-0.500000', 'hist-26-p004-body.nii.gz-0.500000', 'hist-27-p004-body.nii.gz-0.500000', 'hist-28-p004-body.nii.gz-0.500000', 'hist-29-p004-body.nii.gz-0.500000', 'hist-30-p004-body.nii.gz-0.500000', 'hist-31-p004-body.nii.gz-0.500000', 'hist-32-p004-body.nii.gz-0.500000', 'hist-33-p004-body.nii.gz-0.500000', 'hist-34-p004-body.nii.gz-0.500000', 'hist-35-p004-body.nii.gz-0.500000', 'hist-36-p004-body.nii.gz-0.500000', 'hist-37-p004-body.nii.gz-0.500000', 'hist-38-p004-body.nii.gz-0.500000', 'hist-39-p004-body.nii.gz-0.500000', 'hist-40-p004-body.nii.gz-0.500000', 'hist-41-p004-body.nii.gz-0.500000', 'hist-42-p004-body.nii.gz-0.500000', 'hist-43-p004-body.nii.gz-0.500000', 'num-p029-body.nii.gz-0.500000', 'sum-p029-body.nii.gz-0.500000', 'mean-p029-body.nii.gz-0.500000', 'std-p029-body.nii.gz-0.500000', 'skew-p029-body.nii.gz-0.500000', 'kurt-p029-body.nii.gz-0.500000', 'hist-0-p029-body.nii.gz-0.500000', 'hist-1-p029-body.nii.gz-0.500000', 'hist-2-p029-body.nii.gz-0.500000', 'hist-3-p029-body.nii.gz-0.500000', 'hist-4-p029-body.nii.gz-0.500000', 'hist-5-p029-body.nii.gz-0.500000', 'hist-6-p029-body.nii.gz-0.500000', 'hist-7-p029-body.nii.gz-0.500000', 'hist-8-p029-body.nii.gz-0.500000', 'hist-9-p029-body.nii.gz-0.500000', 'hist-10-p029-body.nii.gz-0.500000', 'hist-11-p029-body.nii.gz-0.500000', 'hist-12-p029-body.nii.gz-0.500000', 'hist-13-p029-body.nii.gz-0.500000', 'hist-14-p029-body.nii.gz-0.500000', 'hist-15-p029-body.nii.gz-0.500000', 'hist-16-p029-body.nii.gz-0.500000', 'hist-17-p029-body.nii.gz-0.500000', 'hist-18-p029-body.nii.gz-0.500000', 'hist-19-p029-body.nii.gz-0.500000', 'hist-20-p029-body.nii.gz-0.500000', 'hist-21-p029-body.nii.gz-0.500000', 'hist-22-p029-body.nii.gz-0.500000', 'hist-23-p029-body.nii.gz-0.500000', 'hist-24-p029-body.nii.gz-0.500000', 'hist-25-p029-body.nii.gz-0.500000', 'hist-26-p029-body.nii.gz-0.500000', 'hist-27-p029-body.nii.gz-0.500000', 'hist-28-p029-body.nii.gz-0.500000', 'hist-29-p029-body.nii.gz-0.500000', 'hist-30-p029-body.nii.gz-0.500000', 'hist-31-p029-body.nii.gz-0.500000', 'hist-32-p029-body.nii.gz-0.500000', 'hist-33-p029-body.nii.gz-0.500000', 'hist-34-p029-body.nii.gz-0.500000', 'hist-35-p029-body.nii.gz-0.500000', 'hist-36-p029-body.nii.gz-0.500000', 'hist-37-p029-body.nii.gz-0.500000', 'hist-38-p029-body.nii.gz-0.500000', 'hist-39-p029-body.nii.gz-0.500000', 'hist-40-p029-body.nii.gz-0.500000', 'hist-41-p029-body.nii.gz-0.500000', 'hist-42-p029-body.nii.gz-0.500000', 'hist-43-p029-body.nii.gz-0.500000', 'num-p032-body.nii.gz-0.500000', 'sum-p032-body.nii.gz-0.500000', 'mean-p032-body.nii.gz-0.500000', 'std-p032-body.nii.gz-0.500000', 'skew-p032-body.nii.gz-0.500000', 'kurt-p032-body.nii.gz-0.500000', 'hist-0-p032-body.nii.gz-0.500000', 'hist-1-p032-body.nii.gz-0.500000', 'hist-2-p032-body.nii.gz-0.500000', 'hist-3-p032-body.nii.gz-0.500000', 'hist-4-p032-body.nii.gz-0.500000', 'hist-5-p032-body.nii.gz-0.500000', 'hist-6-p032-body.nii.gz-0.500000', 'hist-7-p032-body.nii.gz-0.500000', 'hist-8-p032-body.nii.gz-0.500000', 'hist-9-p032-body.nii.gz-0.500000', 'hist-10-p032-body.nii.gz-0.500000', 'hist-11-p032-body.nii.gz-0.500000', 'hist-12-p032-body.nii.gz-0.500000', 'hist-13-p032-body.nii.gz-0.500000', 'hist-14-p032-body.nii.gz-0.500000', 'hist-15-p032-body.nii.gz-0.500000', 'hist-16-p032-body.nii.gz-0.500000', 'hist-17-p032-body.nii.gz-0.500000', 'hist-18-p032-body.nii.gz-0.500000', 'hist-19-p032-body.nii.gz-0.500000', 'hist-20-p032-body.nii.gz-0.500000', 'hist-21-p032-body.nii.gz-0.500000', 'hist-22-p032-body.nii.gz-0.500000', 'hist-23-p032-body.nii.gz-0.500000', 'hist-24-p032-body.nii.gz-0.500000', 'hist-25-p032-body.nii.gz-0.500000', 'hist-26-p032-body.nii.gz-0.500000', 'hist-27-p032-body.nii.gz-0.500000', 'hist-28-p032-body.nii.gz-0.500000', 'hist-29-p032-body.nii.gz-0.500000', 'hist-30-p032-body.nii.gz-0.500000', 'hist-31-p032-body.nii.gz-0.500000', 'hist-32-p032-body.nii.gz-0.500000', 'hist-33-p032-body.nii.gz-0.500000', 'hist-34-p032-body.nii.gz-0.500000', 'hist-35-p032-body.nii.gz-0.500000', 'hist-36-p032-body.nii.gz-0.500000', 'hist-37-p032-body.nii.gz-0.500000', 'hist-38-p032-body.nii.gz-0.500000', 'hist-39-p032-body.nii.gz-0.500000', 'hist-40-p032-body.nii.gz-0.500000', 'hist-41-p032-body.nii.gz-0.500000', 'hist-42-p032-body.nii.gz-0.500000', 'hist-43-p032-body.nii.gz-0.500000', 'num-p041-body.nii.gz-0.500000', 'sum-p041-body.nii.gz-0.500000', 'mean-p041-body.nii.gz-0.500000', 'std-p041-body.nii.gz-0.500000', 'skew-p041-body.nii.gz-0.500000', 'kurt-p041-body.nii.gz-0.500000', 'hist-0-p041-body.nii.gz-0.500000', 'hist-1-p041-body.nii.gz-0.500000', 'hist-2-p041-body.nii.gz-0.500000', 'hist-3-p041-body.nii.gz-0.500000', 'hist-4-p041-body.nii.gz-0.500000', 'hist-5-p041-body.nii.gz-0.500000', 'hist-6-p041-body.nii.gz-0.500000', 'hist-7-p041-body.nii.gz-0.500000', 'hist-8-p041-body.nii.gz-0.500000', 'hist-9-p041-body.nii.gz-0.500000', 'hist-10-p041-body.nii.gz-0.500000', 'hist-11-p041-body.nii.gz-0.500000', 'hist-12-p041-body.nii.gz-0.500000', 'hist-13-p041-body.nii.gz-0.500000', 'hist-14-p041-body.nii.gz-0.500000', 'hist-15-p041-body.nii.gz-0.500000', 'hist-16-p041-body.nii.gz-0.500000', 'hist-17-p041-body.nii.gz-0.500000', 'hist-18-p041-body.nii.gz-0.500000', 'hist-19-p041-body.nii.gz-0.500000', 'hist-20-p041-body.nii.gz-0.500000', 'hist-21-p041-body.nii.gz-0.500000', 'hist-22-p041-body.nii.gz-0.500000', 'hist-23-p041-body.nii.gz-0.500000', 'hist-24-p041-body.nii.gz-0.500000', 'hist-25-p041-body.nii.gz-0.500000', 'hist-26-p041-body.nii.gz-0.500000', 'hist-27-p041-body.nii.gz-0.500000', 'hist-28-p041-body.nii.gz-0.500000', 'hist-29-p041-body.nii.gz-0.500000', 'hist-30-p041-body.nii.gz-0.500000', 'hist-31-p041-body.nii.gz-0.500000', 'hist-32-p041-body.nii.gz-0.500000', 'hist-33-p041-body.nii.gz-0.500000', 'hist-34-p041-body.nii.gz-0.500000', 'hist-35-p041-body.nii.gz-0.500000', 'hist-36-p041-body.nii.gz-0.500000', 'hist-37-p041-body.nii.gz-0.500000', 'hist-38-p041-body.nii.gz-0.500000', 'hist-39-p041-body.nii.gz-0.500000', 'hist-40-p041-body.nii.gz-0.500000', 'hist-41-p041-body.nii.gz-0.500000', 'hist-42-p041-body.nii.gz-0.500000', 'hist-43-p041-body.nii.gz-0.500000', 'num-p048-body.nii.gz-0.500000', 'sum-p048-body.nii.gz-0.500000', 'mean-p048-body.nii.gz-0.500000', 'std-p048-body.nii.gz-0.500000', 'skew-p048-body.nii.gz-0.500000', 'kurt-p048-body.nii.gz-0.500000', 'hist-0-p048-body.nii.gz-0.500000', 'hist-1-p048-body.nii.gz-0.500000', 'hist-2-p048-body.nii.gz-0.500000', 'hist-3-p048-body.nii.gz-0.500000', 'hist-4-p048-body.nii.gz-0.500000', 'hist-5-p048-body.nii.gz-0.500000', 'hist-6-p048-body.nii.gz-0.500000', 'hist-7-p048-body.nii.gz-0.500000', 'hist-8-p048-body.nii.gz-0.500000', 'hist-9-p048-body.nii.gz-0.500000', 'hist-10-p048-body.nii.gz-0.500000', 'hist-11-p048-body.nii.gz-0.500000', 'hist-12-p048-body.nii.gz-0.500000', 'hist-13-p048-body.nii.gz-0.500000', 'hist-14-p048-body.nii.gz-0.500000', 'hist-15-p048-body.nii.gz-0.500000', 'hist-16-p048-body.nii.gz-0.500000', 'hist-17-p048-body.nii.gz-0.500000', 'hist-18-p048-body.nii.gz-0.500000', 'hist-19-p048-body.nii.gz-0.500000', 'hist-20-p048-body.nii.gz-0.500000', 'hist-21-p048-body.nii.gz-0.500000', 'hist-22-p048-body.nii.gz-0.500000', 'hist-23-p048-body.nii.gz-0.500000', 'hist-24-p048-body.nii.gz-0.500000', 'hist-25-p048-body.nii.gz-0.500000', 'hist-26-p048-body.nii.gz-0.500000', 'hist-27-p048-body.nii.gz-0.500000', 'hist-28-p048-body.nii.gz-0.500000', 'hist-29-p048-body.nii.gz-0.500000', 'hist-30-p048-body.nii.gz-0.500000', 'hist-31-p048-body.nii.gz-0.500000', 'hist-32-p048-body.nii.gz-0.500000', 'hist-33-p048-body.nii.gz-0.500000', 'hist-34-p048-body.nii.gz-0.500000', 'hist-35-p048-body.nii.gz-0.500000', 'hist-36-p048-body.nii.gz-0.500000', 'hist-37-p048-body.nii.gz-0.500000', 'hist-38-p048-body.nii.gz-0.500000', 'hist-39-p048-body.nii.gz-0.500000', 'hist-40-p048-body.nii.gz-0.500000', 'hist-41-p048-body.nii.gz-0.500000', 'hist-42-p048-body.nii.gz-0.500000', 'hist-43-p048-body.nii.gz-0.500000', 'num-0.500000-mean_mask', 'sum-0.500000-mean_mask', 'mean-0.500000-mean_mask', 'std-0.500000-mean_mask', 'skew-0.500000-mean_mask', 'kurt-0.500000-mean_mask', 'hist-0-0.500000-mean_mask', 'hist-1-0.500000-mean_mask', 'hist-2-0.500000-mean_mask', 'hist-3-0.500000-mean_mask', 'hist-4-0.500000-mean_mask', 'hist-5-0.500000-mean_mask', 'hist-6-0.500000-mean_mask', 'hist-7-0.500000-mean_mask', 'hist-8-0.500000-mean_mask', 'hist-9-0.500000-mean_mask', 'hist-10-0.500000-mean_mask', 'hist-11-0.500000-mean_mask', 'hist-12-0.500000-mean_mask', 'hist-13-0.500000-mean_mask', 'hist-14-0.500000-mean_mask', 'hist-15-0.500000-mean_mask', 'hist-16-0.500000-mean_mask', 'hist-17-0.500000-mean_mask', 'hist-18-0.500000-mean_mask', 'hist-19-0.500000-mean_mask', 'hist-20-0.500000-mean_mask', 'hist-21-0.500000-mean_mask', 'hist-22-0.500000-mean_mask', 'hist-23-0.500000-mean_mask', 'hist-24-0.500000-mean_mask', 'hist-25-0.500000-mean_mask', 'hist-26-0.500000-mean_mask', 'hist-27-0.500000-mean_mask', 'hist-28-0.500000-mean_mask', 'hist-29-0.500000-mean_mask', 'hist-30-0.500000-mean_mask', 'hist-31-0.500000-mean_mask', 'hist-32-0.500000-mean_mask', 'hist-33-0.500000-mean_mask', 'hist-34-0.500000-mean_mask', 'hist-35-0.500000-mean_mask', 'hist-36-0.500000-mean_mask', 'hist-37-0.500000-mean_mask', 'hist-38-0.500000-mean_mask', 'hist-39-0.500000-mean_mask', 'hist-40-0.500000-mean_mask', 'hist-41-0.500000-mean_mask', 'hist-42-0.500000-mean_mask', 'hist-43-0.500000-mean_mask'] \n",
      "Score: -0.9686088964454908\n"
     ]
    },
    {
     "name": "stderr",
     "output_type": "stream",
     "text": [
      "200it [00:02, 70.53it/s]\n"
     ]
    },
    {
     "name": "stdout",
     "output_type": "stream",
     "text": [
      "1\n",
      "1 0.9703557423447295\n",
      "Objective RidgeRegression_Objective:\n"
     ]
    },
    {
     "name": "stderr",
     "output_type": "stream",
     "text": [
      "  6%|██▍                                     | 499/8000 [00:04<01:15, 99.96it/s]\n",
      "16it [00:00, 153.61it/s]"
     ]
    },
    {
     "name": "stdout",
     "output_type": "stream",
     "text": [
      "iterations: 499\n",
      "Number of used features: 300\n",
      "Used features: ['num-p004-body.nii.gz-0.500000', 'sum-p004-body.nii.gz-0.500000', 'mean-p004-body.nii.gz-0.500000', 'std-p004-body.nii.gz-0.500000', 'skew-p004-body.nii.gz-0.500000', 'kurt-p004-body.nii.gz-0.500000', 'hist-0-p004-body.nii.gz-0.500000', 'hist-1-p004-body.nii.gz-0.500000', 'hist-2-p004-body.nii.gz-0.500000', 'hist-3-p004-body.nii.gz-0.500000', 'hist-4-p004-body.nii.gz-0.500000', 'hist-5-p004-body.nii.gz-0.500000', 'hist-6-p004-body.nii.gz-0.500000', 'hist-7-p004-body.nii.gz-0.500000', 'hist-8-p004-body.nii.gz-0.500000', 'hist-9-p004-body.nii.gz-0.500000', 'hist-10-p004-body.nii.gz-0.500000', 'hist-11-p004-body.nii.gz-0.500000', 'hist-12-p004-body.nii.gz-0.500000', 'hist-13-p004-body.nii.gz-0.500000', 'hist-14-p004-body.nii.gz-0.500000', 'hist-15-p004-body.nii.gz-0.500000', 'hist-16-p004-body.nii.gz-0.500000', 'hist-17-p004-body.nii.gz-0.500000', 'hist-18-p004-body.nii.gz-0.500000', 'hist-19-p004-body.nii.gz-0.500000', 'hist-20-p004-body.nii.gz-0.500000', 'hist-21-p004-body.nii.gz-0.500000', 'hist-22-p004-body.nii.gz-0.500000', 'hist-23-p004-body.nii.gz-0.500000', 'hist-24-p004-body.nii.gz-0.500000', 'hist-25-p004-body.nii.gz-0.500000', 'hist-26-p004-body.nii.gz-0.500000', 'hist-27-p004-body.nii.gz-0.500000', 'hist-28-p004-body.nii.gz-0.500000', 'hist-29-p004-body.nii.gz-0.500000', 'hist-30-p004-body.nii.gz-0.500000', 'hist-31-p004-body.nii.gz-0.500000', 'hist-32-p004-body.nii.gz-0.500000', 'hist-33-p004-body.nii.gz-0.500000', 'hist-34-p004-body.nii.gz-0.500000', 'hist-35-p004-body.nii.gz-0.500000', 'hist-36-p004-body.nii.gz-0.500000', 'hist-37-p004-body.nii.gz-0.500000', 'hist-38-p004-body.nii.gz-0.500000', 'hist-39-p004-body.nii.gz-0.500000', 'hist-40-p004-body.nii.gz-0.500000', 'hist-41-p004-body.nii.gz-0.500000', 'hist-42-p004-body.nii.gz-0.500000', 'hist-43-p004-body.nii.gz-0.500000', 'num-p029-body.nii.gz-0.500000', 'sum-p029-body.nii.gz-0.500000', 'mean-p029-body.nii.gz-0.500000', 'std-p029-body.nii.gz-0.500000', 'skew-p029-body.nii.gz-0.500000', 'kurt-p029-body.nii.gz-0.500000', 'hist-0-p029-body.nii.gz-0.500000', 'hist-1-p029-body.nii.gz-0.500000', 'hist-2-p029-body.nii.gz-0.500000', 'hist-3-p029-body.nii.gz-0.500000', 'hist-4-p029-body.nii.gz-0.500000', 'hist-5-p029-body.nii.gz-0.500000', 'hist-6-p029-body.nii.gz-0.500000', 'hist-7-p029-body.nii.gz-0.500000', 'hist-8-p029-body.nii.gz-0.500000', 'hist-9-p029-body.nii.gz-0.500000', 'hist-10-p029-body.nii.gz-0.500000', 'hist-11-p029-body.nii.gz-0.500000', 'hist-12-p029-body.nii.gz-0.500000', 'hist-13-p029-body.nii.gz-0.500000', 'hist-14-p029-body.nii.gz-0.500000', 'hist-15-p029-body.nii.gz-0.500000', 'hist-16-p029-body.nii.gz-0.500000', 'hist-17-p029-body.nii.gz-0.500000', 'hist-18-p029-body.nii.gz-0.500000', 'hist-19-p029-body.nii.gz-0.500000', 'hist-20-p029-body.nii.gz-0.500000', 'hist-21-p029-body.nii.gz-0.500000', 'hist-22-p029-body.nii.gz-0.500000', 'hist-23-p029-body.nii.gz-0.500000', 'hist-24-p029-body.nii.gz-0.500000', 'hist-25-p029-body.nii.gz-0.500000', 'hist-26-p029-body.nii.gz-0.500000', 'hist-27-p029-body.nii.gz-0.500000', 'hist-28-p029-body.nii.gz-0.500000', 'hist-29-p029-body.nii.gz-0.500000', 'hist-30-p029-body.nii.gz-0.500000', 'hist-31-p029-body.nii.gz-0.500000', 'hist-32-p029-body.nii.gz-0.500000', 'hist-33-p029-body.nii.gz-0.500000', 'hist-34-p029-body.nii.gz-0.500000', 'hist-35-p029-body.nii.gz-0.500000', 'hist-36-p029-body.nii.gz-0.500000', 'hist-37-p029-body.nii.gz-0.500000', 'hist-38-p029-body.nii.gz-0.500000', 'hist-39-p029-body.nii.gz-0.500000', 'hist-40-p029-body.nii.gz-0.500000', 'hist-41-p029-body.nii.gz-0.500000', 'hist-42-p029-body.nii.gz-0.500000', 'hist-43-p029-body.nii.gz-0.500000', 'num-p032-body.nii.gz-0.500000', 'sum-p032-body.nii.gz-0.500000', 'mean-p032-body.nii.gz-0.500000', 'std-p032-body.nii.gz-0.500000', 'skew-p032-body.nii.gz-0.500000', 'kurt-p032-body.nii.gz-0.500000', 'hist-0-p032-body.nii.gz-0.500000', 'hist-1-p032-body.nii.gz-0.500000', 'hist-2-p032-body.nii.gz-0.500000', 'hist-3-p032-body.nii.gz-0.500000', 'hist-4-p032-body.nii.gz-0.500000', 'hist-5-p032-body.nii.gz-0.500000', 'hist-6-p032-body.nii.gz-0.500000', 'hist-7-p032-body.nii.gz-0.500000', 'hist-8-p032-body.nii.gz-0.500000', 'hist-9-p032-body.nii.gz-0.500000', 'hist-10-p032-body.nii.gz-0.500000', 'hist-11-p032-body.nii.gz-0.500000', 'hist-12-p032-body.nii.gz-0.500000', 'hist-13-p032-body.nii.gz-0.500000', 'hist-14-p032-body.nii.gz-0.500000', 'hist-15-p032-body.nii.gz-0.500000', 'hist-16-p032-body.nii.gz-0.500000', 'hist-17-p032-body.nii.gz-0.500000', 'hist-18-p032-body.nii.gz-0.500000', 'hist-19-p032-body.nii.gz-0.500000', 'hist-20-p032-body.nii.gz-0.500000', 'hist-21-p032-body.nii.gz-0.500000', 'hist-22-p032-body.nii.gz-0.500000', 'hist-23-p032-body.nii.gz-0.500000', 'hist-24-p032-body.nii.gz-0.500000', 'hist-25-p032-body.nii.gz-0.500000', 'hist-26-p032-body.nii.gz-0.500000', 'hist-27-p032-body.nii.gz-0.500000', 'hist-28-p032-body.nii.gz-0.500000', 'hist-29-p032-body.nii.gz-0.500000', 'hist-30-p032-body.nii.gz-0.500000', 'hist-31-p032-body.nii.gz-0.500000', 'hist-32-p032-body.nii.gz-0.500000', 'hist-33-p032-body.nii.gz-0.500000', 'hist-34-p032-body.nii.gz-0.500000', 'hist-35-p032-body.nii.gz-0.500000', 'hist-36-p032-body.nii.gz-0.500000', 'hist-37-p032-body.nii.gz-0.500000', 'hist-38-p032-body.nii.gz-0.500000', 'hist-39-p032-body.nii.gz-0.500000', 'hist-40-p032-body.nii.gz-0.500000', 'hist-41-p032-body.nii.gz-0.500000', 'hist-42-p032-body.nii.gz-0.500000', 'hist-43-p032-body.nii.gz-0.500000', 'num-p041-body.nii.gz-0.500000', 'sum-p041-body.nii.gz-0.500000', 'mean-p041-body.nii.gz-0.500000', 'std-p041-body.nii.gz-0.500000', 'skew-p041-body.nii.gz-0.500000', 'kurt-p041-body.nii.gz-0.500000', 'hist-0-p041-body.nii.gz-0.500000', 'hist-1-p041-body.nii.gz-0.500000', 'hist-2-p041-body.nii.gz-0.500000', 'hist-3-p041-body.nii.gz-0.500000', 'hist-4-p041-body.nii.gz-0.500000', 'hist-5-p041-body.nii.gz-0.500000', 'hist-6-p041-body.nii.gz-0.500000', 'hist-7-p041-body.nii.gz-0.500000', 'hist-8-p041-body.nii.gz-0.500000', 'hist-9-p041-body.nii.gz-0.500000', 'hist-10-p041-body.nii.gz-0.500000', 'hist-11-p041-body.nii.gz-0.500000', 'hist-12-p041-body.nii.gz-0.500000', 'hist-13-p041-body.nii.gz-0.500000', 'hist-14-p041-body.nii.gz-0.500000', 'hist-15-p041-body.nii.gz-0.500000', 'hist-16-p041-body.nii.gz-0.500000', 'hist-17-p041-body.nii.gz-0.500000', 'hist-18-p041-body.nii.gz-0.500000', 'hist-19-p041-body.nii.gz-0.500000', 'hist-20-p041-body.nii.gz-0.500000', 'hist-21-p041-body.nii.gz-0.500000', 'hist-22-p041-body.nii.gz-0.500000', 'hist-23-p041-body.nii.gz-0.500000', 'hist-24-p041-body.nii.gz-0.500000', 'hist-25-p041-body.nii.gz-0.500000', 'hist-26-p041-body.nii.gz-0.500000', 'hist-27-p041-body.nii.gz-0.500000', 'hist-28-p041-body.nii.gz-0.500000', 'hist-29-p041-body.nii.gz-0.500000', 'hist-30-p041-body.nii.gz-0.500000', 'hist-31-p041-body.nii.gz-0.500000', 'hist-32-p041-body.nii.gz-0.500000', 'hist-33-p041-body.nii.gz-0.500000', 'hist-34-p041-body.nii.gz-0.500000', 'hist-35-p041-body.nii.gz-0.500000', 'hist-36-p041-body.nii.gz-0.500000', 'hist-37-p041-body.nii.gz-0.500000', 'hist-38-p041-body.nii.gz-0.500000', 'hist-39-p041-body.nii.gz-0.500000', 'hist-40-p041-body.nii.gz-0.500000', 'hist-41-p041-body.nii.gz-0.500000', 'hist-42-p041-body.nii.gz-0.500000', 'hist-43-p041-body.nii.gz-0.500000', 'num-p048-body.nii.gz-0.500000', 'sum-p048-body.nii.gz-0.500000', 'mean-p048-body.nii.gz-0.500000', 'std-p048-body.nii.gz-0.500000', 'skew-p048-body.nii.gz-0.500000', 'kurt-p048-body.nii.gz-0.500000', 'hist-0-p048-body.nii.gz-0.500000', 'hist-1-p048-body.nii.gz-0.500000', 'hist-2-p048-body.nii.gz-0.500000', 'hist-3-p048-body.nii.gz-0.500000', 'hist-4-p048-body.nii.gz-0.500000', 'hist-5-p048-body.nii.gz-0.500000', 'hist-6-p048-body.nii.gz-0.500000', 'hist-7-p048-body.nii.gz-0.500000', 'hist-8-p048-body.nii.gz-0.500000', 'hist-9-p048-body.nii.gz-0.500000', 'hist-10-p048-body.nii.gz-0.500000', 'hist-11-p048-body.nii.gz-0.500000', 'hist-12-p048-body.nii.gz-0.500000', 'hist-13-p048-body.nii.gz-0.500000', 'hist-14-p048-body.nii.gz-0.500000', 'hist-15-p048-body.nii.gz-0.500000', 'hist-16-p048-body.nii.gz-0.500000', 'hist-17-p048-body.nii.gz-0.500000', 'hist-18-p048-body.nii.gz-0.500000', 'hist-19-p048-body.nii.gz-0.500000', 'hist-20-p048-body.nii.gz-0.500000', 'hist-21-p048-body.nii.gz-0.500000', 'hist-22-p048-body.nii.gz-0.500000', 'hist-23-p048-body.nii.gz-0.500000', 'hist-24-p048-body.nii.gz-0.500000', 'hist-25-p048-body.nii.gz-0.500000', 'hist-26-p048-body.nii.gz-0.500000', 'hist-27-p048-body.nii.gz-0.500000', 'hist-28-p048-body.nii.gz-0.500000', 'hist-29-p048-body.nii.gz-0.500000', 'hist-30-p048-body.nii.gz-0.500000', 'hist-31-p048-body.nii.gz-0.500000', 'hist-32-p048-body.nii.gz-0.500000', 'hist-33-p048-body.nii.gz-0.500000', 'hist-34-p048-body.nii.gz-0.500000', 'hist-35-p048-body.nii.gz-0.500000', 'hist-36-p048-body.nii.gz-0.500000', 'hist-37-p048-body.nii.gz-0.500000', 'hist-38-p048-body.nii.gz-0.500000', 'hist-39-p048-body.nii.gz-0.500000', 'hist-40-p048-body.nii.gz-0.500000', 'hist-41-p048-body.nii.gz-0.500000', 'hist-42-p048-body.nii.gz-0.500000', 'hist-43-p048-body.nii.gz-0.500000', 'num-0.500000-mean_mask', 'sum-0.500000-mean_mask', 'mean-0.500000-mean_mask', 'std-0.500000-mean_mask', 'skew-0.500000-mean_mask', 'kurt-0.500000-mean_mask', 'hist-0-0.500000-mean_mask', 'hist-1-0.500000-mean_mask', 'hist-2-0.500000-mean_mask', 'hist-3-0.500000-mean_mask', 'hist-4-0.500000-mean_mask', 'hist-5-0.500000-mean_mask', 'hist-6-0.500000-mean_mask', 'hist-7-0.500000-mean_mask', 'hist-8-0.500000-mean_mask', 'hist-9-0.500000-mean_mask', 'hist-10-0.500000-mean_mask', 'hist-11-0.500000-mean_mask', 'hist-12-0.500000-mean_mask', 'hist-13-0.500000-mean_mask', 'hist-14-0.500000-mean_mask', 'hist-15-0.500000-mean_mask', 'hist-16-0.500000-mean_mask', 'hist-17-0.500000-mean_mask', 'hist-18-0.500000-mean_mask', 'hist-19-0.500000-mean_mask', 'hist-20-0.500000-mean_mask', 'hist-21-0.500000-mean_mask', 'hist-22-0.500000-mean_mask', 'hist-23-0.500000-mean_mask', 'hist-24-0.500000-mean_mask', 'hist-25-0.500000-mean_mask', 'hist-26-0.500000-mean_mask', 'hist-27-0.500000-mean_mask', 'hist-28-0.500000-mean_mask', 'hist-29-0.500000-mean_mask', 'hist-30-0.500000-mean_mask', 'hist-31-0.500000-mean_mask', 'hist-32-0.500000-mean_mask', 'hist-33-0.500000-mean_mask', 'hist-34-0.500000-mean_mask', 'hist-35-0.500000-mean_mask', 'hist-36-0.500000-mean_mask', 'hist-37-0.500000-mean_mask', 'hist-38-0.500000-mean_mask', 'hist-39-0.500000-mean_mask', 'hist-40-0.500000-mean_mask', 'hist-41-0.500000-mean_mask', 'hist-42-0.500000-mean_mask', 'hist-43-0.500000-mean_mask'] \n",
      "Score: -0.9716007822805834\n"
     ]
    },
    {
     "name": "stderr",
     "output_type": "stream",
     "text": [
      "200it [00:00, 201.99it/s]\n"
     ]
    },
    {
     "name": "stdout",
     "output_type": "stream",
     "text": [
      "1\n",
      "1 0.9724400469953977\n",
      "Objective PLSRegression_Objective:\n"
     ]
    },
    {
     "name": "stderr",
     "output_type": "stream",
     "text": [
      "  7%|██▋                                     | 544/8000 [00:07<01:43, 72.07it/s]\n",
      "24it [00:00, 235.06it/s]"
     ]
    },
    {
     "name": "stdout",
     "output_type": "stream",
     "text": [
      "iterations: 544\n",
      "Number of used features: 300\n",
      "Used features: ['num-p004-body.nii.gz-0.500000', 'sum-p004-body.nii.gz-0.500000', 'mean-p004-body.nii.gz-0.500000', 'std-p004-body.nii.gz-0.500000', 'skew-p004-body.nii.gz-0.500000', 'kurt-p004-body.nii.gz-0.500000', 'hist-0-p004-body.nii.gz-0.500000', 'hist-1-p004-body.nii.gz-0.500000', 'hist-2-p004-body.nii.gz-0.500000', 'hist-3-p004-body.nii.gz-0.500000', 'hist-4-p004-body.nii.gz-0.500000', 'hist-5-p004-body.nii.gz-0.500000', 'hist-6-p004-body.nii.gz-0.500000', 'hist-7-p004-body.nii.gz-0.500000', 'hist-8-p004-body.nii.gz-0.500000', 'hist-9-p004-body.nii.gz-0.500000', 'hist-10-p004-body.nii.gz-0.500000', 'hist-11-p004-body.nii.gz-0.500000', 'hist-12-p004-body.nii.gz-0.500000', 'hist-13-p004-body.nii.gz-0.500000', 'hist-14-p004-body.nii.gz-0.500000', 'hist-15-p004-body.nii.gz-0.500000', 'hist-16-p004-body.nii.gz-0.500000', 'hist-17-p004-body.nii.gz-0.500000', 'hist-18-p004-body.nii.gz-0.500000', 'hist-19-p004-body.nii.gz-0.500000', 'hist-20-p004-body.nii.gz-0.500000', 'hist-21-p004-body.nii.gz-0.500000', 'hist-22-p004-body.nii.gz-0.500000', 'hist-23-p004-body.nii.gz-0.500000', 'hist-24-p004-body.nii.gz-0.500000', 'hist-25-p004-body.nii.gz-0.500000', 'hist-26-p004-body.nii.gz-0.500000', 'hist-27-p004-body.nii.gz-0.500000', 'hist-28-p004-body.nii.gz-0.500000', 'hist-29-p004-body.nii.gz-0.500000', 'hist-30-p004-body.nii.gz-0.500000', 'hist-31-p004-body.nii.gz-0.500000', 'hist-32-p004-body.nii.gz-0.500000', 'hist-33-p004-body.nii.gz-0.500000', 'hist-34-p004-body.nii.gz-0.500000', 'hist-35-p004-body.nii.gz-0.500000', 'hist-36-p004-body.nii.gz-0.500000', 'hist-37-p004-body.nii.gz-0.500000', 'hist-38-p004-body.nii.gz-0.500000', 'hist-39-p004-body.nii.gz-0.500000', 'hist-40-p004-body.nii.gz-0.500000', 'hist-41-p004-body.nii.gz-0.500000', 'hist-42-p004-body.nii.gz-0.500000', 'hist-43-p004-body.nii.gz-0.500000', 'num-p029-body.nii.gz-0.500000', 'sum-p029-body.nii.gz-0.500000', 'mean-p029-body.nii.gz-0.500000', 'std-p029-body.nii.gz-0.500000', 'skew-p029-body.nii.gz-0.500000', 'kurt-p029-body.nii.gz-0.500000', 'hist-0-p029-body.nii.gz-0.500000', 'hist-1-p029-body.nii.gz-0.500000', 'hist-2-p029-body.nii.gz-0.500000', 'hist-3-p029-body.nii.gz-0.500000', 'hist-4-p029-body.nii.gz-0.500000', 'hist-5-p029-body.nii.gz-0.500000', 'hist-6-p029-body.nii.gz-0.500000', 'hist-7-p029-body.nii.gz-0.500000', 'hist-8-p029-body.nii.gz-0.500000', 'hist-9-p029-body.nii.gz-0.500000', 'hist-10-p029-body.nii.gz-0.500000', 'hist-11-p029-body.nii.gz-0.500000', 'hist-12-p029-body.nii.gz-0.500000', 'hist-13-p029-body.nii.gz-0.500000', 'hist-14-p029-body.nii.gz-0.500000', 'hist-15-p029-body.nii.gz-0.500000', 'hist-16-p029-body.nii.gz-0.500000', 'hist-17-p029-body.nii.gz-0.500000', 'hist-18-p029-body.nii.gz-0.500000', 'hist-19-p029-body.nii.gz-0.500000', 'hist-20-p029-body.nii.gz-0.500000', 'hist-21-p029-body.nii.gz-0.500000', 'hist-22-p029-body.nii.gz-0.500000', 'hist-23-p029-body.nii.gz-0.500000', 'hist-24-p029-body.nii.gz-0.500000', 'hist-25-p029-body.nii.gz-0.500000', 'hist-26-p029-body.nii.gz-0.500000', 'hist-27-p029-body.nii.gz-0.500000', 'hist-28-p029-body.nii.gz-0.500000', 'hist-29-p029-body.nii.gz-0.500000', 'hist-30-p029-body.nii.gz-0.500000', 'hist-31-p029-body.nii.gz-0.500000', 'hist-32-p029-body.nii.gz-0.500000', 'hist-33-p029-body.nii.gz-0.500000', 'hist-34-p029-body.nii.gz-0.500000', 'hist-35-p029-body.nii.gz-0.500000', 'hist-36-p029-body.nii.gz-0.500000', 'hist-37-p029-body.nii.gz-0.500000', 'hist-38-p029-body.nii.gz-0.500000', 'hist-39-p029-body.nii.gz-0.500000', 'hist-40-p029-body.nii.gz-0.500000', 'hist-41-p029-body.nii.gz-0.500000', 'hist-42-p029-body.nii.gz-0.500000', 'hist-43-p029-body.nii.gz-0.500000', 'num-p032-body.nii.gz-0.500000', 'sum-p032-body.nii.gz-0.500000', 'mean-p032-body.nii.gz-0.500000', 'std-p032-body.nii.gz-0.500000', 'skew-p032-body.nii.gz-0.500000', 'kurt-p032-body.nii.gz-0.500000', 'hist-0-p032-body.nii.gz-0.500000', 'hist-1-p032-body.nii.gz-0.500000', 'hist-2-p032-body.nii.gz-0.500000', 'hist-3-p032-body.nii.gz-0.500000', 'hist-4-p032-body.nii.gz-0.500000', 'hist-5-p032-body.nii.gz-0.500000', 'hist-6-p032-body.nii.gz-0.500000', 'hist-7-p032-body.nii.gz-0.500000', 'hist-8-p032-body.nii.gz-0.500000', 'hist-9-p032-body.nii.gz-0.500000', 'hist-10-p032-body.nii.gz-0.500000', 'hist-11-p032-body.nii.gz-0.500000', 'hist-12-p032-body.nii.gz-0.500000', 'hist-13-p032-body.nii.gz-0.500000', 'hist-14-p032-body.nii.gz-0.500000', 'hist-15-p032-body.nii.gz-0.500000', 'hist-16-p032-body.nii.gz-0.500000', 'hist-17-p032-body.nii.gz-0.500000', 'hist-18-p032-body.nii.gz-0.500000', 'hist-19-p032-body.nii.gz-0.500000', 'hist-20-p032-body.nii.gz-0.500000', 'hist-21-p032-body.nii.gz-0.500000', 'hist-22-p032-body.nii.gz-0.500000', 'hist-23-p032-body.nii.gz-0.500000', 'hist-24-p032-body.nii.gz-0.500000', 'hist-25-p032-body.nii.gz-0.500000', 'hist-26-p032-body.nii.gz-0.500000', 'hist-27-p032-body.nii.gz-0.500000', 'hist-28-p032-body.nii.gz-0.500000', 'hist-29-p032-body.nii.gz-0.500000', 'hist-30-p032-body.nii.gz-0.500000', 'hist-31-p032-body.nii.gz-0.500000', 'hist-32-p032-body.nii.gz-0.500000', 'hist-33-p032-body.nii.gz-0.500000', 'hist-34-p032-body.nii.gz-0.500000', 'hist-35-p032-body.nii.gz-0.500000', 'hist-36-p032-body.nii.gz-0.500000', 'hist-37-p032-body.nii.gz-0.500000', 'hist-38-p032-body.nii.gz-0.500000', 'hist-39-p032-body.nii.gz-0.500000', 'hist-40-p032-body.nii.gz-0.500000', 'hist-41-p032-body.nii.gz-0.500000', 'hist-42-p032-body.nii.gz-0.500000', 'hist-43-p032-body.nii.gz-0.500000', 'num-p041-body.nii.gz-0.500000', 'sum-p041-body.nii.gz-0.500000', 'mean-p041-body.nii.gz-0.500000', 'std-p041-body.nii.gz-0.500000', 'skew-p041-body.nii.gz-0.500000', 'kurt-p041-body.nii.gz-0.500000', 'hist-0-p041-body.nii.gz-0.500000', 'hist-1-p041-body.nii.gz-0.500000', 'hist-2-p041-body.nii.gz-0.500000', 'hist-3-p041-body.nii.gz-0.500000', 'hist-4-p041-body.nii.gz-0.500000', 'hist-5-p041-body.nii.gz-0.500000', 'hist-6-p041-body.nii.gz-0.500000', 'hist-7-p041-body.nii.gz-0.500000', 'hist-8-p041-body.nii.gz-0.500000', 'hist-9-p041-body.nii.gz-0.500000', 'hist-10-p041-body.nii.gz-0.500000', 'hist-11-p041-body.nii.gz-0.500000', 'hist-12-p041-body.nii.gz-0.500000', 'hist-13-p041-body.nii.gz-0.500000', 'hist-14-p041-body.nii.gz-0.500000', 'hist-15-p041-body.nii.gz-0.500000', 'hist-16-p041-body.nii.gz-0.500000', 'hist-17-p041-body.nii.gz-0.500000', 'hist-18-p041-body.nii.gz-0.500000', 'hist-19-p041-body.nii.gz-0.500000', 'hist-20-p041-body.nii.gz-0.500000', 'hist-21-p041-body.nii.gz-0.500000', 'hist-22-p041-body.nii.gz-0.500000', 'hist-23-p041-body.nii.gz-0.500000', 'hist-24-p041-body.nii.gz-0.500000', 'hist-25-p041-body.nii.gz-0.500000', 'hist-26-p041-body.nii.gz-0.500000', 'hist-27-p041-body.nii.gz-0.500000', 'hist-28-p041-body.nii.gz-0.500000', 'hist-29-p041-body.nii.gz-0.500000', 'hist-30-p041-body.nii.gz-0.500000', 'hist-31-p041-body.nii.gz-0.500000', 'hist-32-p041-body.nii.gz-0.500000', 'hist-33-p041-body.nii.gz-0.500000', 'hist-34-p041-body.nii.gz-0.500000', 'hist-35-p041-body.nii.gz-0.500000', 'hist-36-p041-body.nii.gz-0.500000', 'hist-37-p041-body.nii.gz-0.500000', 'hist-38-p041-body.nii.gz-0.500000', 'hist-39-p041-body.nii.gz-0.500000', 'hist-40-p041-body.nii.gz-0.500000', 'hist-41-p041-body.nii.gz-0.500000', 'hist-42-p041-body.nii.gz-0.500000', 'hist-43-p041-body.nii.gz-0.500000', 'num-p048-body.nii.gz-0.500000', 'sum-p048-body.nii.gz-0.500000', 'mean-p048-body.nii.gz-0.500000', 'std-p048-body.nii.gz-0.500000', 'skew-p048-body.nii.gz-0.500000', 'kurt-p048-body.nii.gz-0.500000', 'hist-0-p048-body.nii.gz-0.500000', 'hist-1-p048-body.nii.gz-0.500000', 'hist-2-p048-body.nii.gz-0.500000', 'hist-3-p048-body.nii.gz-0.500000', 'hist-4-p048-body.nii.gz-0.500000', 'hist-5-p048-body.nii.gz-0.500000', 'hist-6-p048-body.nii.gz-0.500000', 'hist-7-p048-body.nii.gz-0.500000', 'hist-8-p048-body.nii.gz-0.500000', 'hist-9-p048-body.nii.gz-0.500000', 'hist-10-p048-body.nii.gz-0.500000', 'hist-11-p048-body.nii.gz-0.500000', 'hist-12-p048-body.nii.gz-0.500000', 'hist-13-p048-body.nii.gz-0.500000', 'hist-14-p048-body.nii.gz-0.500000', 'hist-15-p048-body.nii.gz-0.500000', 'hist-16-p048-body.nii.gz-0.500000', 'hist-17-p048-body.nii.gz-0.500000', 'hist-18-p048-body.nii.gz-0.500000', 'hist-19-p048-body.nii.gz-0.500000', 'hist-20-p048-body.nii.gz-0.500000', 'hist-21-p048-body.nii.gz-0.500000', 'hist-22-p048-body.nii.gz-0.500000', 'hist-23-p048-body.nii.gz-0.500000', 'hist-24-p048-body.nii.gz-0.500000', 'hist-25-p048-body.nii.gz-0.500000', 'hist-26-p048-body.nii.gz-0.500000', 'hist-27-p048-body.nii.gz-0.500000', 'hist-28-p048-body.nii.gz-0.500000', 'hist-29-p048-body.nii.gz-0.500000', 'hist-30-p048-body.nii.gz-0.500000', 'hist-31-p048-body.nii.gz-0.500000', 'hist-32-p048-body.nii.gz-0.500000', 'hist-33-p048-body.nii.gz-0.500000', 'hist-34-p048-body.nii.gz-0.500000', 'hist-35-p048-body.nii.gz-0.500000', 'hist-36-p048-body.nii.gz-0.500000', 'hist-37-p048-body.nii.gz-0.500000', 'hist-38-p048-body.nii.gz-0.500000', 'hist-39-p048-body.nii.gz-0.500000', 'hist-40-p048-body.nii.gz-0.500000', 'hist-41-p048-body.nii.gz-0.500000', 'hist-42-p048-body.nii.gz-0.500000', 'hist-43-p048-body.nii.gz-0.500000', 'num-0.500000-mean_mask', 'sum-0.500000-mean_mask', 'mean-0.500000-mean_mask', 'std-0.500000-mean_mask', 'skew-0.500000-mean_mask', 'kurt-0.500000-mean_mask', 'hist-0-0.500000-mean_mask', 'hist-1-0.500000-mean_mask', 'hist-2-0.500000-mean_mask', 'hist-3-0.500000-mean_mask', 'hist-4-0.500000-mean_mask', 'hist-5-0.500000-mean_mask', 'hist-6-0.500000-mean_mask', 'hist-7-0.500000-mean_mask', 'hist-8-0.500000-mean_mask', 'hist-9-0.500000-mean_mask', 'hist-10-0.500000-mean_mask', 'hist-11-0.500000-mean_mask', 'hist-12-0.500000-mean_mask', 'hist-13-0.500000-mean_mask', 'hist-14-0.500000-mean_mask', 'hist-15-0.500000-mean_mask', 'hist-16-0.500000-mean_mask', 'hist-17-0.500000-mean_mask', 'hist-18-0.500000-mean_mask', 'hist-19-0.500000-mean_mask', 'hist-20-0.500000-mean_mask', 'hist-21-0.500000-mean_mask', 'hist-22-0.500000-mean_mask', 'hist-23-0.500000-mean_mask', 'hist-24-0.500000-mean_mask', 'hist-25-0.500000-mean_mask', 'hist-26-0.500000-mean_mask', 'hist-27-0.500000-mean_mask', 'hist-28-0.500000-mean_mask', 'hist-29-0.500000-mean_mask', 'hist-30-0.500000-mean_mask', 'hist-31-0.500000-mean_mask', 'hist-32-0.500000-mean_mask', 'hist-33-0.500000-mean_mask', 'hist-34-0.500000-mean_mask', 'hist-35-0.500000-mean_mask', 'hist-36-0.500000-mean_mask', 'hist-37-0.500000-mean_mask', 'hist-38-0.500000-mean_mask', 'hist-39-0.500000-mean_mask', 'hist-40-0.500000-mean_mask', 'hist-41-0.500000-mean_mask', 'hist-42-0.500000-mean_mask', 'hist-43-0.500000-mean_mask'] \n",
      "Score: -0.973074419815041\n"
     ]
    },
    {
     "name": "stderr",
     "output_type": "stream",
     "text": [
      "200it [00:00, 252.50it/s]"
     ]
    },
    {
     "name": "stdout",
     "output_type": "stream",
     "text": [
      "1\n",
      "1 0.9739205137340873\n"
     ]
    },
    {
     "name": "stderr",
     "output_type": "stream",
     "text": [
      "\n"
     ]
    }
   ],
   "source": [
    "results_no_fs.append(model_selection(body_features, body_target, dataset='body', type='all', disable_feature_selection=True))"
   ]
  },
  {
   "cell_type": "markdown",
   "metadata": {},
   "source": [
    "### body mean mask"
   ]
  },
  {
   "cell_type": "code",
   "execution_count": 44,
   "metadata": {},
   "outputs": [
    {
     "name": "stderr",
     "output_type": "stream",
     "text": [
      "\r",
      "  0%|                                                  | 0/8000 [00:00<?, ?it/s]"
     ]
    },
    {
     "name": "stdout",
     "output_type": "stream",
     "text": [
      "Objective KNNR_Objective:\n"
     ]
    },
    {
     "name": "stderr",
     "output_type": "stream",
     "text": [
      "  7%|██▋                                     | 530/8000 [00:17<04:01, 30.99it/s]\n",
      "69it [00:00, 683.62it/s]"
     ]
    },
    {
     "name": "stdout",
     "output_type": "stream",
     "text": [
      "iterations: 530\n",
      "Number of used features: 50\n",
      "Used features: ['num-0.500000-mean_mask', 'sum-0.500000-mean_mask', 'mean-0.500000-mean_mask', 'std-0.500000-mean_mask', 'skew-0.500000-mean_mask', 'kurt-0.500000-mean_mask', 'hist-0-0.500000-mean_mask', 'hist-1-0.500000-mean_mask', 'hist-2-0.500000-mean_mask', 'hist-3-0.500000-mean_mask', 'hist-4-0.500000-mean_mask', 'hist-5-0.500000-mean_mask', 'hist-6-0.500000-mean_mask', 'hist-7-0.500000-mean_mask', 'hist-8-0.500000-mean_mask', 'hist-9-0.500000-mean_mask', 'hist-10-0.500000-mean_mask', 'hist-11-0.500000-mean_mask', 'hist-12-0.500000-mean_mask', 'hist-13-0.500000-mean_mask', 'hist-14-0.500000-mean_mask', 'hist-15-0.500000-mean_mask', 'hist-16-0.500000-mean_mask', 'hist-17-0.500000-mean_mask', 'hist-18-0.500000-mean_mask', 'hist-19-0.500000-mean_mask', 'hist-20-0.500000-mean_mask', 'hist-21-0.500000-mean_mask', 'hist-22-0.500000-mean_mask', 'hist-23-0.500000-mean_mask', 'hist-24-0.500000-mean_mask', 'hist-25-0.500000-mean_mask', 'hist-26-0.500000-mean_mask', 'hist-27-0.500000-mean_mask', 'hist-28-0.500000-mean_mask', 'hist-29-0.500000-mean_mask', 'hist-30-0.500000-mean_mask', 'hist-31-0.500000-mean_mask', 'hist-32-0.500000-mean_mask', 'hist-33-0.500000-mean_mask', 'hist-34-0.500000-mean_mask', 'hist-35-0.500000-mean_mask', 'hist-36-0.500000-mean_mask', 'hist-37-0.500000-mean_mask', 'hist-38-0.500000-mean_mask', 'hist-39-0.500000-mean_mask', 'hist-40-0.500000-mean_mask', 'hist-41-0.500000-mean_mask', 'hist-42-0.500000-mean_mask', 'hist-43-0.500000-mean_mask'] \n",
      "Score: -0.5873135295949421\n"
     ]
    },
    {
     "name": "stderr",
     "output_type": "stream",
     "text": [
      "200it [00:00, 676.03it/s]\n",
      "  0%|                                                  | 0/8000 [00:00<?, ?it/s]"
     ]
    },
    {
     "name": "stdout",
     "output_type": "stream",
     "text": [
      "1\n",
      "1 0.6263384276437508\n",
      "Objective LinearRegression_Objective:\n"
     ]
    },
    {
     "name": "stderr",
     "output_type": "stream",
     "text": [
      "  6%|██▎                                   | 499/8000 [00:00<00:02, 3020.01it/s]\n",
      "76it [00:00, 751.41it/s]"
     ]
    },
    {
     "name": "stdout",
     "output_type": "stream",
     "text": [
      "iterations: 499\n",
      "Number of used features: 50\n",
      "Used features: ['num-0.500000-mean_mask', 'sum-0.500000-mean_mask', 'mean-0.500000-mean_mask', 'std-0.500000-mean_mask', 'skew-0.500000-mean_mask', 'kurt-0.500000-mean_mask', 'hist-0-0.500000-mean_mask', 'hist-1-0.500000-mean_mask', 'hist-2-0.500000-mean_mask', 'hist-3-0.500000-mean_mask', 'hist-4-0.500000-mean_mask', 'hist-5-0.500000-mean_mask', 'hist-6-0.500000-mean_mask', 'hist-7-0.500000-mean_mask', 'hist-8-0.500000-mean_mask', 'hist-9-0.500000-mean_mask', 'hist-10-0.500000-mean_mask', 'hist-11-0.500000-mean_mask', 'hist-12-0.500000-mean_mask', 'hist-13-0.500000-mean_mask', 'hist-14-0.500000-mean_mask', 'hist-15-0.500000-mean_mask', 'hist-16-0.500000-mean_mask', 'hist-17-0.500000-mean_mask', 'hist-18-0.500000-mean_mask', 'hist-19-0.500000-mean_mask', 'hist-20-0.500000-mean_mask', 'hist-21-0.500000-mean_mask', 'hist-22-0.500000-mean_mask', 'hist-23-0.500000-mean_mask', 'hist-24-0.500000-mean_mask', 'hist-25-0.500000-mean_mask', 'hist-26-0.500000-mean_mask', 'hist-27-0.500000-mean_mask', 'hist-28-0.500000-mean_mask', 'hist-29-0.500000-mean_mask', 'hist-30-0.500000-mean_mask', 'hist-31-0.500000-mean_mask', 'hist-32-0.500000-mean_mask', 'hist-33-0.500000-mean_mask', 'hist-34-0.500000-mean_mask', 'hist-35-0.500000-mean_mask', 'hist-36-0.500000-mean_mask', 'hist-37-0.500000-mean_mask', 'hist-38-0.500000-mean_mask', 'hist-39-0.500000-mean_mask', 'hist-40-0.500000-mean_mask', 'hist-41-0.500000-mean_mask', 'hist-42-0.500000-mean_mask', 'hist-43-0.500000-mean_mask'] \n",
      "Score: -0.7060214704164862\n"
     ]
    },
    {
     "name": "stderr",
     "output_type": "stream",
     "text": [
      "200it [00:00, 750.13it/s]\n"
     ]
    },
    {
     "name": "stdout",
     "output_type": "stream",
     "text": [
      "1\n",
      "1 0.4056459228601468\n",
      "Objective LassoRegression_Objective:\n"
     ]
    },
    {
     "name": "stderr",
     "output_type": "stream",
     "text": [
      "  6%|██▍                                    | 499/8000 [00:03<00:46, 159.62it/s]\n",
      "47it [00:00, 465.39it/s]"
     ]
    },
    {
     "name": "stdout",
     "output_type": "stream",
     "text": [
      "iterations: 499\n",
      "Number of used features: 50\n",
      "Used features: ['num-0.500000-mean_mask', 'sum-0.500000-mean_mask', 'mean-0.500000-mean_mask', 'std-0.500000-mean_mask', 'skew-0.500000-mean_mask', 'kurt-0.500000-mean_mask', 'hist-0-0.500000-mean_mask', 'hist-1-0.500000-mean_mask', 'hist-2-0.500000-mean_mask', 'hist-3-0.500000-mean_mask', 'hist-4-0.500000-mean_mask', 'hist-5-0.500000-mean_mask', 'hist-6-0.500000-mean_mask', 'hist-7-0.500000-mean_mask', 'hist-8-0.500000-mean_mask', 'hist-9-0.500000-mean_mask', 'hist-10-0.500000-mean_mask', 'hist-11-0.500000-mean_mask', 'hist-12-0.500000-mean_mask', 'hist-13-0.500000-mean_mask', 'hist-14-0.500000-mean_mask', 'hist-15-0.500000-mean_mask', 'hist-16-0.500000-mean_mask', 'hist-17-0.500000-mean_mask', 'hist-18-0.500000-mean_mask', 'hist-19-0.500000-mean_mask', 'hist-20-0.500000-mean_mask', 'hist-21-0.500000-mean_mask', 'hist-22-0.500000-mean_mask', 'hist-23-0.500000-mean_mask', 'hist-24-0.500000-mean_mask', 'hist-25-0.500000-mean_mask', 'hist-26-0.500000-mean_mask', 'hist-27-0.500000-mean_mask', 'hist-28-0.500000-mean_mask', 'hist-29-0.500000-mean_mask', 'hist-30-0.500000-mean_mask', 'hist-31-0.500000-mean_mask', 'hist-32-0.500000-mean_mask', 'hist-33-0.500000-mean_mask', 'hist-34-0.500000-mean_mask', 'hist-35-0.500000-mean_mask', 'hist-36-0.500000-mean_mask', 'hist-37-0.500000-mean_mask', 'hist-38-0.500000-mean_mask', 'hist-39-0.500000-mean_mask', 'hist-40-0.500000-mean_mask', 'hist-41-0.500000-mean_mask', 'hist-42-0.500000-mean_mask', 'hist-43-0.500000-mean_mask'] \n",
      "Score: -0.9744533323701031\n"
     ]
    },
    {
     "name": "stderr",
     "output_type": "stream",
     "text": [
      "200it [00:00, 458.60it/s]\n"
     ]
    },
    {
     "name": "stdout",
     "output_type": "stream",
     "text": [
      "1\n",
      "1 0.9753441035892457\n",
      "Objective RidgeRegression_Objective:\n"
     ]
    },
    {
     "name": "stderr",
     "output_type": "stream",
     "text": [
      "  6%|██▍                                    | 508/8000 [00:02<00:32, 230.94it/s]\n",
      "37it [00:00, 369.47it/s]"
     ]
    },
    {
     "name": "stdout",
     "output_type": "stream",
     "text": [
      "iterations: 508\n",
      "Number of used features: 50\n",
      "Used features: ['num-0.500000-mean_mask', 'sum-0.500000-mean_mask', 'mean-0.500000-mean_mask', 'std-0.500000-mean_mask', 'skew-0.500000-mean_mask', 'kurt-0.500000-mean_mask', 'hist-0-0.500000-mean_mask', 'hist-1-0.500000-mean_mask', 'hist-2-0.500000-mean_mask', 'hist-3-0.500000-mean_mask', 'hist-4-0.500000-mean_mask', 'hist-5-0.500000-mean_mask', 'hist-6-0.500000-mean_mask', 'hist-7-0.500000-mean_mask', 'hist-8-0.500000-mean_mask', 'hist-9-0.500000-mean_mask', 'hist-10-0.500000-mean_mask', 'hist-11-0.500000-mean_mask', 'hist-12-0.500000-mean_mask', 'hist-13-0.500000-mean_mask', 'hist-14-0.500000-mean_mask', 'hist-15-0.500000-mean_mask', 'hist-16-0.500000-mean_mask', 'hist-17-0.500000-mean_mask', 'hist-18-0.500000-mean_mask', 'hist-19-0.500000-mean_mask', 'hist-20-0.500000-mean_mask', 'hist-21-0.500000-mean_mask', 'hist-22-0.500000-mean_mask', 'hist-23-0.500000-mean_mask', 'hist-24-0.500000-mean_mask', 'hist-25-0.500000-mean_mask', 'hist-26-0.500000-mean_mask', 'hist-27-0.500000-mean_mask', 'hist-28-0.500000-mean_mask', 'hist-29-0.500000-mean_mask', 'hist-30-0.500000-mean_mask', 'hist-31-0.500000-mean_mask', 'hist-32-0.500000-mean_mask', 'hist-33-0.500000-mean_mask', 'hist-34-0.500000-mean_mask', 'hist-35-0.500000-mean_mask', 'hist-36-0.500000-mean_mask', 'hist-37-0.500000-mean_mask', 'hist-38-0.500000-mean_mask', 'hist-39-0.500000-mean_mask', 'hist-40-0.500000-mean_mask', 'hist-41-0.500000-mean_mask', 'hist-42-0.500000-mean_mask', 'hist-43-0.500000-mean_mask'] \n",
      "Score: -0.9729090121217245\n"
     ]
    },
    {
     "name": "stderr",
     "output_type": "stream",
     "text": [
      "200it [00:00, 398.78it/s]\n",
      "  0%|                                                  | 0/8000 [00:00<?, ?it/s]"
     ]
    },
    {
     "name": "stdout",
     "output_type": "stream",
     "text": [
      "1\n",
      "1 0.973377551161969\n",
      "Objective PLSRegression_Objective:\n"
     ]
    },
    {
     "name": "stderr",
     "output_type": "stream",
     "text": [
      "  6%|██▍                                    | 500/8000 [00:00<00:13, 571.89it/s]\n",
      "54it [00:00, 536.08it/s]"
     ]
    },
    {
     "name": "stdout",
     "output_type": "stream",
     "text": [
      "iterations: 500\n",
      "Number of used features: 50\n",
      "Used features: ['num-0.500000-mean_mask', 'sum-0.500000-mean_mask', 'mean-0.500000-mean_mask', 'std-0.500000-mean_mask', 'skew-0.500000-mean_mask', 'kurt-0.500000-mean_mask', 'hist-0-0.500000-mean_mask', 'hist-1-0.500000-mean_mask', 'hist-2-0.500000-mean_mask', 'hist-3-0.500000-mean_mask', 'hist-4-0.500000-mean_mask', 'hist-5-0.500000-mean_mask', 'hist-6-0.500000-mean_mask', 'hist-7-0.500000-mean_mask', 'hist-8-0.500000-mean_mask', 'hist-9-0.500000-mean_mask', 'hist-10-0.500000-mean_mask', 'hist-11-0.500000-mean_mask', 'hist-12-0.500000-mean_mask', 'hist-13-0.500000-mean_mask', 'hist-14-0.500000-mean_mask', 'hist-15-0.500000-mean_mask', 'hist-16-0.500000-mean_mask', 'hist-17-0.500000-mean_mask', 'hist-18-0.500000-mean_mask', 'hist-19-0.500000-mean_mask', 'hist-20-0.500000-mean_mask', 'hist-21-0.500000-mean_mask', 'hist-22-0.500000-mean_mask', 'hist-23-0.500000-mean_mask', 'hist-24-0.500000-mean_mask', 'hist-25-0.500000-mean_mask', 'hist-26-0.500000-mean_mask', 'hist-27-0.500000-mean_mask', 'hist-28-0.500000-mean_mask', 'hist-29-0.500000-mean_mask', 'hist-30-0.500000-mean_mask', 'hist-31-0.500000-mean_mask', 'hist-32-0.500000-mean_mask', 'hist-33-0.500000-mean_mask', 'hist-34-0.500000-mean_mask', 'hist-35-0.500000-mean_mask', 'hist-36-0.500000-mean_mask', 'hist-37-0.500000-mean_mask', 'hist-38-0.500000-mean_mask', 'hist-39-0.500000-mean_mask', 'hist-40-0.500000-mean_mask', 'hist-41-0.500000-mean_mask', 'hist-42-0.500000-mean_mask', 'hist-43-0.500000-mean_mask'] \n",
      "Score: -0.9709824150793342\n"
     ]
    },
    {
     "name": "stderr",
     "output_type": "stream",
     "text": [
      "200it [00:00, 530.03it/s]"
     ]
    },
    {
     "name": "stdout",
     "output_type": "stream",
     "text": [
      "1\n",
      "1 0.9727186295251121\n"
     ]
    },
    {
     "name": "stderr",
     "output_type": "stream",
     "text": [
      "\n"
     ]
    }
   ],
   "source": [
    "results_no_fs.append(model_selection(body_features[[c for c in body_features.columns if 'mean_mask' in c or c == 'type']], body_target, dataset='body', type='mean_mask', disable_feature_selection=True))"
   ]
  },
  {
   "cell_type": "markdown",
   "metadata": {},
   "source": [
    "### body individual masks"
   ]
  },
  {
   "cell_type": "code",
   "execution_count": 45,
   "metadata": {},
   "outputs": [
    {
     "name": "stderr",
     "output_type": "stream",
     "text": [
      "\r",
      "  0%|                                                  | 0/8000 [00:00<?, ?it/s]"
     ]
    },
    {
     "name": "stdout",
     "output_type": "stream",
     "text": [
      "Objective KNNR_Objective:\n"
     ]
    },
    {
     "name": "stderr",
     "output_type": "stream",
     "text": [
      "  6%|██▌                                     | 514/8000 [00:15<03:50, 32.46it/s]\n",
      "65it [00:00, 649.13it/s]"
     ]
    },
    {
     "name": "stdout",
     "output_type": "stream",
     "text": [
      "iterations: 514\n",
      "Number of used features: 50\n",
      "Used features: ['num-p004-body.nii.gz-0.500000', 'sum-p004-body.nii.gz-0.500000', 'mean-p004-body.nii.gz-0.500000', 'std-p004-body.nii.gz-0.500000', 'skew-p004-body.nii.gz-0.500000', 'kurt-p004-body.nii.gz-0.500000', 'hist-0-p004-body.nii.gz-0.500000', 'hist-1-p004-body.nii.gz-0.500000', 'hist-2-p004-body.nii.gz-0.500000', 'hist-3-p004-body.nii.gz-0.500000', 'hist-4-p004-body.nii.gz-0.500000', 'hist-5-p004-body.nii.gz-0.500000', 'hist-6-p004-body.nii.gz-0.500000', 'hist-7-p004-body.nii.gz-0.500000', 'hist-8-p004-body.nii.gz-0.500000', 'hist-9-p004-body.nii.gz-0.500000', 'hist-10-p004-body.nii.gz-0.500000', 'hist-11-p004-body.nii.gz-0.500000', 'hist-12-p004-body.nii.gz-0.500000', 'hist-13-p004-body.nii.gz-0.500000', 'hist-14-p004-body.nii.gz-0.500000', 'hist-15-p004-body.nii.gz-0.500000', 'hist-16-p004-body.nii.gz-0.500000', 'hist-17-p004-body.nii.gz-0.500000', 'hist-18-p004-body.nii.gz-0.500000', 'hist-19-p004-body.nii.gz-0.500000', 'hist-20-p004-body.nii.gz-0.500000', 'hist-21-p004-body.nii.gz-0.500000', 'hist-22-p004-body.nii.gz-0.500000', 'hist-23-p004-body.nii.gz-0.500000', 'hist-24-p004-body.nii.gz-0.500000', 'hist-25-p004-body.nii.gz-0.500000', 'hist-26-p004-body.nii.gz-0.500000', 'hist-27-p004-body.nii.gz-0.500000', 'hist-28-p004-body.nii.gz-0.500000', 'hist-29-p004-body.nii.gz-0.500000', 'hist-30-p004-body.nii.gz-0.500000', 'hist-31-p004-body.nii.gz-0.500000', 'hist-32-p004-body.nii.gz-0.500000', 'hist-33-p004-body.nii.gz-0.500000', 'hist-34-p004-body.nii.gz-0.500000', 'hist-35-p004-body.nii.gz-0.500000', 'hist-36-p004-body.nii.gz-0.500000', 'hist-37-p004-body.nii.gz-0.500000', 'hist-38-p004-body.nii.gz-0.500000', 'hist-39-p004-body.nii.gz-0.500000', 'hist-40-p004-body.nii.gz-0.500000', 'hist-41-p004-body.nii.gz-0.500000', 'hist-42-p004-body.nii.gz-0.500000', 'hist-43-p004-body.nii.gz-0.500000'] \n",
      "Score: -0.5788234893293005\n"
     ]
    },
    {
     "name": "stderr",
     "output_type": "stream",
     "text": [
      "200it [00:00, 663.53it/s]\n",
      "  0%|                                                  | 0/8000 [00:00<?, ?it/s]"
     ]
    },
    {
     "name": "stdout",
     "output_type": "stream",
     "text": [
      "1\n",
      "1 0.6347895220515201\n",
      "Objective LinearRegression_Objective:\n"
     ]
    },
    {
     "name": "stderr",
     "output_type": "stream",
     "text": [
      "  6%|██▎                                   | 499/8000 [00:00<00:02, 3084.07it/s]\n",
      "76it [00:00, 755.93it/s]"
     ]
    },
    {
     "name": "stdout",
     "output_type": "stream",
     "text": [
      "iterations: 499\n",
      "Number of used features: 50\n",
      "Used features: ['num-p004-body.nii.gz-0.500000', 'sum-p004-body.nii.gz-0.500000', 'mean-p004-body.nii.gz-0.500000', 'std-p004-body.nii.gz-0.500000', 'skew-p004-body.nii.gz-0.500000', 'kurt-p004-body.nii.gz-0.500000', 'hist-0-p004-body.nii.gz-0.500000', 'hist-1-p004-body.nii.gz-0.500000', 'hist-2-p004-body.nii.gz-0.500000', 'hist-3-p004-body.nii.gz-0.500000', 'hist-4-p004-body.nii.gz-0.500000', 'hist-5-p004-body.nii.gz-0.500000', 'hist-6-p004-body.nii.gz-0.500000', 'hist-7-p004-body.nii.gz-0.500000', 'hist-8-p004-body.nii.gz-0.500000', 'hist-9-p004-body.nii.gz-0.500000', 'hist-10-p004-body.nii.gz-0.500000', 'hist-11-p004-body.nii.gz-0.500000', 'hist-12-p004-body.nii.gz-0.500000', 'hist-13-p004-body.nii.gz-0.500000', 'hist-14-p004-body.nii.gz-0.500000', 'hist-15-p004-body.nii.gz-0.500000', 'hist-16-p004-body.nii.gz-0.500000', 'hist-17-p004-body.nii.gz-0.500000', 'hist-18-p004-body.nii.gz-0.500000', 'hist-19-p004-body.nii.gz-0.500000', 'hist-20-p004-body.nii.gz-0.500000', 'hist-21-p004-body.nii.gz-0.500000', 'hist-22-p004-body.nii.gz-0.500000', 'hist-23-p004-body.nii.gz-0.500000', 'hist-24-p004-body.nii.gz-0.500000', 'hist-25-p004-body.nii.gz-0.500000', 'hist-26-p004-body.nii.gz-0.500000', 'hist-27-p004-body.nii.gz-0.500000', 'hist-28-p004-body.nii.gz-0.500000', 'hist-29-p004-body.nii.gz-0.500000', 'hist-30-p004-body.nii.gz-0.500000', 'hist-31-p004-body.nii.gz-0.500000', 'hist-32-p004-body.nii.gz-0.500000', 'hist-33-p004-body.nii.gz-0.500000', 'hist-34-p004-body.nii.gz-0.500000', 'hist-35-p004-body.nii.gz-0.500000', 'hist-36-p004-body.nii.gz-0.500000', 'hist-37-p004-body.nii.gz-0.500000', 'hist-38-p004-body.nii.gz-0.500000', 'hist-39-p004-body.nii.gz-0.500000', 'hist-40-p004-body.nii.gz-0.500000', 'hist-41-p004-body.nii.gz-0.500000', 'hist-42-p004-body.nii.gz-0.500000', 'hist-43-p004-body.nii.gz-0.500000'] \n",
      "Score: -0.6033864974077607\n"
     ]
    },
    {
     "name": "stderr",
     "output_type": "stream",
     "text": [
      "200it [00:00, 759.88it/s]\n"
     ]
    },
    {
     "name": "stdout",
     "output_type": "stream",
     "text": [
      "1\n",
      "1 -0.43331280929884697\n",
      "Objective LassoRegression_Objective:\n"
     ]
    },
    {
     "name": "stderr",
     "output_type": "stream",
     "text": [
      "  6%|██▍                                    | 499/8000 [00:03<00:46, 160.67it/s]\n",
      "50it [00:00, 496.61it/s]"
     ]
    },
    {
     "name": "stdout",
     "output_type": "stream",
     "text": [
      "iterations: 499\n",
      "Number of used features: 50\n",
      "Used features: ['num-p004-body.nii.gz-0.500000', 'sum-p004-body.nii.gz-0.500000', 'mean-p004-body.nii.gz-0.500000', 'std-p004-body.nii.gz-0.500000', 'skew-p004-body.nii.gz-0.500000', 'kurt-p004-body.nii.gz-0.500000', 'hist-0-p004-body.nii.gz-0.500000', 'hist-1-p004-body.nii.gz-0.500000', 'hist-2-p004-body.nii.gz-0.500000', 'hist-3-p004-body.nii.gz-0.500000', 'hist-4-p004-body.nii.gz-0.500000', 'hist-5-p004-body.nii.gz-0.500000', 'hist-6-p004-body.nii.gz-0.500000', 'hist-7-p004-body.nii.gz-0.500000', 'hist-8-p004-body.nii.gz-0.500000', 'hist-9-p004-body.nii.gz-0.500000', 'hist-10-p004-body.nii.gz-0.500000', 'hist-11-p004-body.nii.gz-0.500000', 'hist-12-p004-body.nii.gz-0.500000', 'hist-13-p004-body.nii.gz-0.500000', 'hist-14-p004-body.nii.gz-0.500000', 'hist-15-p004-body.nii.gz-0.500000', 'hist-16-p004-body.nii.gz-0.500000', 'hist-17-p004-body.nii.gz-0.500000', 'hist-18-p004-body.nii.gz-0.500000', 'hist-19-p004-body.nii.gz-0.500000', 'hist-20-p004-body.nii.gz-0.500000', 'hist-21-p004-body.nii.gz-0.500000', 'hist-22-p004-body.nii.gz-0.500000', 'hist-23-p004-body.nii.gz-0.500000', 'hist-24-p004-body.nii.gz-0.500000', 'hist-25-p004-body.nii.gz-0.500000', 'hist-26-p004-body.nii.gz-0.500000', 'hist-27-p004-body.nii.gz-0.500000', 'hist-28-p004-body.nii.gz-0.500000', 'hist-29-p004-body.nii.gz-0.500000', 'hist-30-p004-body.nii.gz-0.500000', 'hist-31-p004-body.nii.gz-0.500000', 'hist-32-p004-body.nii.gz-0.500000', 'hist-33-p004-body.nii.gz-0.500000', 'hist-34-p004-body.nii.gz-0.500000', 'hist-35-p004-body.nii.gz-0.500000', 'hist-36-p004-body.nii.gz-0.500000', 'hist-37-p004-body.nii.gz-0.500000', 'hist-38-p004-body.nii.gz-0.500000', 'hist-39-p004-body.nii.gz-0.500000', 'hist-40-p004-body.nii.gz-0.500000', 'hist-41-p004-body.nii.gz-0.500000', 'hist-42-p004-body.nii.gz-0.500000', 'hist-43-p004-body.nii.gz-0.500000'] \n",
      "Score: -0.964828285054323\n"
     ]
    },
    {
     "name": "stderr",
     "output_type": "stream",
     "text": [
      "200it [00:00, 489.81it/s]\n"
     ]
    },
    {
     "name": "stdout",
     "output_type": "stream",
     "text": [
      "1\n",
      "1 0.9663590958743845\n",
      "Objective RidgeRegression_Objective:\n"
     ]
    },
    {
     "name": "stderr",
     "output_type": "stream",
     "text": [
      "  6%|██▍                                    | 508/8000 [00:02<00:31, 236.22it/s]\n",
      "39it [00:00, 386.61it/s]"
     ]
    },
    {
     "name": "stdout",
     "output_type": "stream",
     "text": [
      "iterations: 508\n",
      "Number of used features: 50\n",
      "Used features: ['num-p004-body.nii.gz-0.500000', 'sum-p004-body.nii.gz-0.500000', 'mean-p004-body.nii.gz-0.500000', 'std-p004-body.nii.gz-0.500000', 'skew-p004-body.nii.gz-0.500000', 'kurt-p004-body.nii.gz-0.500000', 'hist-0-p004-body.nii.gz-0.500000', 'hist-1-p004-body.nii.gz-0.500000', 'hist-2-p004-body.nii.gz-0.500000', 'hist-3-p004-body.nii.gz-0.500000', 'hist-4-p004-body.nii.gz-0.500000', 'hist-5-p004-body.nii.gz-0.500000', 'hist-6-p004-body.nii.gz-0.500000', 'hist-7-p004-body.nii.gz-0.500000', 'hist-8-p004-body.nii.gz-0.500000', 'hist-9-p004-body.nii.gz-0.500000', 'hist-10-p004-body.nii.gz-0.500000', 'hist-11-p004-body.nii.gz-0.500000', 'hist-12-p004-body.nii.gz-0.500000', 'hist-13-p004-body.nii.gz-0.500000', 'hist-14-p004-body.nii.gz-0.500000', 'hist-15-p004-body.nii.gz-0.500000', 'hist-16-p004-body.nii.gz-0.500000', 'hist-17-p004-body.nii.gz-0.500000', 'hist-18-p004-body.nii.gz-0.500000', 'hist-19-p004-body.nii.gz-0.500000', 'hist-20-p004-body.nii.gz-0.500000', 'hist-21-p004-body.nii.gz-0.500000', 'hist-22-p004-body.nii.gz-0.500000', 'hist-23-p004-body.nii.gz-0.500000', 'hist-24-p004-body.nii.gz-0.500000', 'hist-25-p004-body.nii.gz-0.500000', 'hist-26-p004-body.nii.gz-0.500000', 'hist-27-p004-body.nii.gz-0.500000', 'hist-28-p004-body.nii.gz-0.500000', 'hist-29-p004-body.nii.gz-0.500000', 'hist-30-p004-body.nii.gz-0.500000', 'hist-31-p004-body.nii.gz-0.500000', 'hist-32-p004-body.nii.gz-0.500000', 'hist-33-p004-body.nii.gz-0.500000', 'hist-34-p004-body.nii.gz-0.500000', 'hist-35-p004-body.nii.gz-0.500000', 'hist-36-p004-body.nii.gz-0.500000', 'hist-37-p004-body.nii.gz-0.500000', 'hist-38-p004-body.nii.gz-0.500000', 'hist-39-p004-body.nii.gz-0.500000', 'hist-40-p004-body.nii.gz-0.500000', 'hist-41-p004-body.nii.gz-0.500000', 'hist-42-p004-body.nii.gz-0.500000', 'hist-43-p004-body.nii.gz-0.500000'] \n",
      "Score: -0.9627185738821732\n"
     ]
    },
    {
     "name": "stderr",
     "output_type": "stream",
     "text": [
      "200it [00:00, 376.80it/s]\n",
      "  0%|                                                  | 0/8000 [00:00<?, ?it/s]"
     ]
    },
    {
     "name": "stdout",
     "output_type": "stream",
     "text": [
      "1\n",
      "1 0.9646547167865925\n",
      "Objective PLSRegression_Objective:\n"
     ]
    },
    {
     "name": "stderr",
     "output_type": "stream",
     "text": [
      "  6%|██▍                                    | 500/8000 [00:00<00:12, 596.03it/s]\n",
      "53it [00:00, 528.26it/s]"
     ]
    },
    {
     "name": "stdout",
     "output_type": "stream",
     "text": [
      "iterations: 500\n",
      "Number of used features: 50\n",
      "Used features: ['num-p004-body.nii.gz-0.500000', 'sum-p004-body.nii.gz-0.500000', 'mean-p004-body.nii.gz-0.500000', 'std-p004-body.nii.gz-0.500000', 'skew-p004-body.nii.gz-0.500000', 'kurt-p004-body.nii.gz-0.500000', 'hist-0-p004-body.nii.gz-0.500000', 'hist-1-p004-body.nii.gz-0.500000', 'hist-2-p004-body.nii.gz-0.500000', 'hist-3-p004-body.nii.gz-0.500000', 'hist-4-p004-body.nii.gz-0.500000', 'hist-5-p004-body.nii.gz-0.500000', 'hist-6-p004-body.nii.gz-0.500000', 'hist-7-p004-body.nii.gz-0.500000', 'hist-8-p004-body.nii.gz-0.500000', 'hist-9-p004-body.nii.gz-0.500000', 'hist-10-p004-body.nii.gz-0.500000', 'hist-11-p004-body.nii.gz-0.500000', 'hist-12-p004-body.nii.gz-0.500000', 'hist-13-p004-body.nii.gz-0.500000', 'hist-14-p004-body.nii.gz-0.500000', 'hist-15-p004-body.nii.gz-0.500000', 'hist-16-p004-body.nii.gz-0.500000', 'hist-17-p004-body.nii.gz-0.500000', 'hist-18-p004-body.nii.gz-0.500000', 'hist-19-p004-body.nii.gz-0.500000', 'hist-20-p004-body.nii.gz-0.500000', 'hist-21-p004-body.nii.gz-0.500000', 'hist-22-p004-body.nii.gz-0.500000', 'hist-23-p004-body.nii.gz-0.500000', 'hist-24-p004-body.nii.gz-0.500000', 'hist-25-p004-body.nii.gz-0.500000', 'hist-26-p004-body.nii.gz-0.500000', 'hist-27-p004-body.nii.gz-0.500000', 'hist-28-p004-body.nii.gz-0.500000', 'hist-29-p004-body.nii.gz-0.500000', 'hist-30-p004-body.nii.gz-0.500000', 'hist-31-p004-body.nii.gz-0.500000', 'hist-32-p004-body.nii.gz-0.500000', 'hist-33-p004-body.nii.gz-0.500000', 'hist-34-p004-body.nii.gz-0.500000', 'hist-35-p004-body.nii.gz-0.500000', 'hist-36-p004-body.nii.gz-0.500000', 'hist-37-p004-body.nii.gz-0.500000', 'hist-38-p004-body.nii.gz-0.500000', 'hist-39-p004-body.nii.gz-0.500000', 'hist-40-p004-body.nii.gz-0.500000', 'hist-41-p004-body.nii.gz-0.500000', 'hist-42-p004-body.nii.gz-0.500000', 'hist-43-p004-body.nii.gz-0.500000'] \n",
      "Score: -0.96593516980732\n"
     ]
    },
    {
     "name": "stderr",
     "output_type": "stream",
     "text": [
      "200it [00:00, 540.94it/s]\n",
      "  0%|                                                  | 0/8000 [00:00<?, ?it/s]"
     ]
    },
    {
     "name": "stdout",
     "output_type": "stream",
     "text": [
      "1\n",
      "1 0.9674085340398703\n",
      "Objective KNNR_Objective:\n"
     ]
    },
    {
     "name": "stderr",
     "output_type": "stream",
     "text": [
      "  7%|██▋                                     | 528/8000 [00:15<03:44, 33.21it/s]\n",
      "74it [00:00, 730.98it/s]"
     ]
    },
    {
     "name": "stdout",
     "output_type": "stream",
     "text": [
      "iterations: 528\n",
      "Number of used features: 50\n",
      "Used features: ['num-p029-body.nii.gz-0.500000', 'sum-p029-body.nii.gz-0.500000', 'mean-p029-body.nii.gz-0.500000', 'std-p029-body.nii.gz-0.500000', 'skew-p029-body.nii.gz-0.500000', 'kurt-p029-body.nii.gz-0.500000', 'hist-0-p029-body.nii.gz-0.500000', 'hist-1-p029-body.nii.gz-0.500000', 'hist-2-p029-body.nii.gz-0.500000', 'hist-3-p029-body.nii.gz-0.500000', 'hist-4-p029-body.nii.gz-0.500000', 'hist-5-p029-body.nii.gz-0.500000', 'hist-6-p029-body.nii.gz-0.500000', 'hist-7-p029-body.nii.gz-0.500000', 'hist-8-p029-body.nii.gz-0.500000', 'hist-9-p029-body.nii.gz-0.500000', 'hist-10-p029-body.nii.gz-0.500000', 'hist-11-p029-body.nii.gz-0.500000', 'hist-12-p029-body.nii.gz-0.500000', 'hist-13-p029-body.nii.gz-0.500000', 'hist-14-p029-body.nii.gz-0.500000', 'hist-15-p029-body.nii.gz-0.500000', 'hist-16-p029-body.nii.gz-0.500000', 'hist-17-p029-body.nii.gz-0.500000', 'hist-18-p029-body.nii.gz-0.500000', 'hist-19-p029-body.nii.gz-0.500000', 'hist-20-p029-body.nii.gz-0.500000', 'hist-21-p029-body.nii.gz-0.500000', 'hist-22-p029-body.nii.gz-0.500000', 'hist-23-p029-body.nii.gz-0.500000', 'hist-24-p029-body.nii.gz-0.500000', 'hist-25-p029-body.nii.gz-0.500000', 'hist-26-p029-body.nii.gz-0.500000', 'hist-27-p029-body.nii.gz-0.500000', 'hist-28-p029-body.nii.gz-0.500000', 'hist-29-p029-body.nii.gz-0.500000', 'hist-30-p029-body.nii.gz-0.500000', 'hist-31-p029-body.nii.gz-0.500000', 'hist-32-p029-body.nii.gz-0.500000', 'hist-33-p029-body.nii.gz-0.500000', 'hist-34-p029-body.nii.gz-0.500000', 'hist-35-p029-body.nii.gz-0.500000', 'hist-36-p029-body.nii.gz-0.500000', 'hist-37-p029-body.nii.gz-0.500000', 'hist-38-p029-body.nii.gz-0.500000', 'hist-39-p029-body.nii.gz-0.500000', 'hist-40-p029-body.nii.gz-0.500000', 'hist-41-p029-body.nii.gz-0.500000', 'hist-42-p029-body.nii.gz-0.500000', 'hist-43-p029-body.nii.gz-0.500000'] \n",
      "Score: -0.5309746478472325\n"
     ]
    },
    {
     "name": "stderr",
     "output_type": "stream",
     "text": [
      "200it [00:00, 728.54it/s]\n",
      "  0%|                                                  | 0/8000 [00:00<?, ?it/s]"
     ]
    },
    {
     "name": "stdout",
     "output_type": "stream",
     "text": [
      "1\n",
      "1 0.559996377640599\n",
      "Objective LinearRegression_Objective:\n"
     ]
    },
    {
     "name": "stderr",
     "output_type": "stream",
     "text": [
      "  6%|██▎                                   | 499/8000 [00:00<00:02, 2986.40it/s]\n",
      "76it [00:00, 754.77it/s]"
     ]
    },
    {
     "name": "stdout",
     "output_type": "stream",
     "text": [
      "iterations: 499\n",
      "Number of used features: 50\n",
      "Used features: ['num-p029-body.nii.gz-0.500000', 'sum-p029-body.nii.gz-0.500000', 'mean-p029-body.nii.gz-0.500000', 'std-p029-body.nii.gz-0.500000', 'skew-p029-body.nii.gz-0.500000', 'kurt-p029-body.nii.gz-0.500000', 'hist-0-p029-body.nii.gz-0.500000', 'hist-1-p029-body.nii.gz-0.500000', 'hist-2-p029-body.nii.gz-0.500000', 'hist-3-p029-body.nii.gz-0.500000', 'hist-4-p029-body.nii.gz-0.500000', 'hist-5-p029-body.nii.gz-0.500000', 'hist-6-p029-body.nii.gz-0.500000', 'hist-7-p029-body.nii.gz-0.500000', 'hist-8-p029-body.nii.gz-0.500000', 'hist-9-p029-body.nii.gz-0.500000', 'hist-10-p029-body.nii.gz-0.500000', 'hist-11-p029-body.nii.gz-0.500000', 'hist-12-p029-body.nii.gz-0.500000', 'hist-13-p029-body.nii.gz-0.500000', 'hist-14-p029-body.nii.gz-0.500000', 'hist-15-p029-body.nii.gz-0.500000', 'hist-16-p029-body.nii.gz-0.500000', 'hist-17-p029-body.nii.gz-0.500000', 'hist-18-p029-body.nii.gz-0.500000', 'hist-19-p029-body.nii.gz-0.500000', 'hist-20-p029-body.nii.gz-0.500000', 'hist-21-p029-body.nii.gz-0.500000', 'hist-22-p029-body.nii.gz-0.500000', 'hist-23-p029-body.nii.gz-0.500000', 'hist-24-p029-body.nii.gz-0.500000', 'hist-25-p029-body.nii.gz-0.500000', 'hist-26-p029-body.nii.gz-0.500000', 'hist-27-p029-body.nii.gz-0.500000', 'hist-28-p029-body.nii.gz-0.500000', 'hist-29-p029-body.nii.gz-0.500000', 'hist-30-p029-body.nii.gz-0.500000', 'hist-31-p029-body.nii.gz-0.500000', 'hist-32-p029-body.nii.gz-0.500000', 'hist-33-p029-body.nii.gz-0.500000', 'hist-34-p029-body.nii.gz-0.500000', 'hist-35-p029-body.nii.gz-0.500000', 'hist-36-p029-body.nii.gz-0.500000', 'hist-37-p029-body.nii.gz-0.500000', 'hist-38-p029-body.nii.gz-0.500000', 'hist-39-p029-body.nii.gz-0.500000', 'hist-40-p029-body.nii.gz-0.500000', 'hist-41-p029-body.nii.gz-0.500000', 'hist-42-p029-body.nii.gz-0.500000', 'hist-43-p029-body.nii.gz-0.500000'] \n",
      "Score: -0.31959916367395225\n"
     ]
    },
    {
     "name": "stderr",
     "output_type": "stream",
     "text": [
      "200it [00:00, 752.86it/s]\n"
     ]
    },
    {
     "name": "stdout",
     "output_type": "stream",
     "text": [
      "1\n",
      "1 -2.591903091017871\n",
      "Objective LassoRegression_Objective:\n"
     ]
    },
    {
     "name": "stderr",
     "output_type": "stream",
     "text": [
      "  6%|██▍                                    | 499/8000 [00:03<00:46, 160.72it/s]\n",
      "51it [00:00, 502.94it/s]"
     ]
    },
    {
     "name": "stdout",
     "output_type": "stream",
     "text": [
      "iterations: 499\n",
      "Number of used features: 50\n",
      "Used features: ['num-p029-body.nii.gz-0.500000', 'sum-p029-body.nii.gz-0.500000', 'mean-p029-body.nii.gz-0.500000', 'std-p029-body.nii.gz-0.500000', 'skew-p029-body.nii.gz-0.500000', 'kurt-p029-body.nii.gz-0.500000', 'hist-0-p029-body.nii.gz-0.500000', 'hist-1-p029-body.nii.gz-0.500000', 'hist-2-p029-body.nii.gz-0.500000', 'hist-3-p029-body.nii.gz-0.500000', 'hist-4-p029-body.nii.gz-0.500000', 'hist-5-p029-body.nii.gz-0.500000', 'hist-6-p029-body.nii.gz-0.500000', 'hist-7-p029-body.nii.gz-0.500000', 'hist-8-p029-body.nii.gz-0.500000', 'hist-9-p029-body.nii.gz-0.500000', 'hist-10-p029-body.nii.gz-0.500000', 'hist-11-p029-body.nii.gz-0.500000', 'hist-12-p029-body.nii.gz-0.500000', 'hist-13-p029-body.nii.gz-0.500000', 'hist-14-p029-body.nii.gz-0.500000', 'hist-15-p029-body.nii.gz-0.500000', 'hist-16-p029-body.nii.gz-0.500000', 'hist-17-p029-body.nii.gz-0.500000', 'hist-18-p029-body.nii.gz-0.500000', 'hist-19-p029-body.nii.gz-0.500000', 'hist-20-p029-body.nii.gz-0.500000', 'hist-21-p029-body.nii.gz-0.500000', 'hist-22-p029-body.nii.gz-0.500000', 'hist-23-p029-body.nii.gz-0.500000', 'hist-24-p029-body.nii.gz-0.500000', 'hist-25-p029-body.nii.gz-0.500000', 'hist-26-p029-body.nii.gz-0.500000', 'hist-27-p029-body.nii.gz-0.500000', 'hist-28-p029-body.nii.gz-0.500000', 'hist-29-p029-body.nii.gz-0.500000', 'hist-30-p029-body.nii.gz-0.500000', 'hist-31-p029-body.nii.gz-0.500000', 'hist-32-p029-body.nii.gz-0.500000', 'hist-33-p029-body.nii.gz-0.500000', 'hist-34-p029-body.nii.gz-0.500000', 'hist-35-p029-body.nii.gz-0.500000', 'hist-36-p029-body.nii.gz-0.500000', 'hist-37-p029-body.nii.gz-0.500000', 'hist-38-p029-body.nii.gz-0.500000', 'hist-39-p029-body.nii.gz-0.500000', 'hist-40-p029-body.nii.gz-0.500000', 'hist-41-p029-body.nii.gz-0.500000', 'hist-42-p029-body.nii.gz-0.500000', 'hist-43-p029-body.nii.gz-0.500000'] \n",
      "Score: -0.9671615025875725\n"
     ]
    },
    {
     "name": "stderr",
     "output_type": "stream",
     "text": [
      "200it [00:00, 508.01it/s]\n"
     ]
    },
    {
     "name": "stdout",
     "output_type": "stream",
     "text": [
      "1\n",
      "1 0.9690777224760748\n",
      "Objective RidgeRegression_Objective:\n"
     ]
    },
    {
     "name": "stderr",
     "output_type": "stream",
     "text": [
      "  6%|██▍                                    | 508/8000 [00:02<00:32, 231.74it/s]\n",
      "15it [00:00, 148.90it/s]"
     ]
    },
    {
     "name": "stdout",
     "output_type": "stream",
     "text": [
      "iterations: 508\n",
      "Number of used features: 50\n",
      "Used features: ['num-p029-body.nii.gz-0.500000', 'sum-p029-body.nii.gz-0.500000', 'mean-p029-body.nii.gz-0.500000', 'std-p029-body.nii.gz-0.500000', 'skew-p029-body.nii.gz-0.500000', 'kurt-p029-body.nii.gz-0.500000', 'hist-0-p029-body.nii.gz-0.500000', 'hist-1-p029-body.nii.gz-0.500000', 'hist-2-p029-body.nii.gz-0.500000', 'hist-3-p029-body.nii.gz-0.500000', 'hist-4-p029-body.nii.gz-0.500000', 'hist-5-p029-body.nii.gz-0.500000', 'hist-6-p029-body.nii.gz-0.500000', 'hist-7-p029-body.nii.gz-0.500000', 'hist-8-p029-body.nii.gz-0.500000', 'hist-9-p029-body.nii.gz-0.500000', 'hist-10-p029-body.nii.gz-0.500000', 'hist-11-p029-body.nii.gz-0.500000', 'hist-12-p029-body.nii.gz-0.500000', 'hist-13-p029-body.nii.gz-0.500000', 'hist-14-p029-body.nii.gz-0.500000', 'hist-15-p029-body.nii.gz-0.500000', 'hist-16-p029-body.nii.gz-0.500000', 'hist-17-p029-body.nii.gz-0.500000', 'hist-18-p029-body.nii.gz-0.500000', 'hist-19-p029-body.nii.gz-0.500000', 'hist-20-p029-body.nii.gz-0.500000', 'hist-21-p029-body.nii.gz-0.500000', 'hist-22-p029-body.nii.gz-0.500000', 'hist-23-p029-body.nii.gz-0.500000', 'hist-24-p029-body.nii.gz-0.500000', 'hist-25-p029-body.nii.gz-0.500000', 'hist-26-p029-body.nii.gz-0.500000', 'hist-27-p029-body.nii.gz-0.500000', 'hist-28-p029-body.nii.gz-0.500000', 'hist-29-p029-body.nii.gz-0.500000', 'hist-30-p029-body.nii.gz-0.500000', 'hist-31-p029-body.nii.gz-0.500000', 'hist-32-p029-body.nii.gz-0.500000', 'hist-33-p029-body.nii.gz-0.500000', 'hist-34-p029-body.nii.gz-0.500000', 'hist-35-p029-body.nii.gz-0.500000', 'hist-36-p029-body.nii.gz-0.500000', 'hist-37-p029-body.nii.gz-0.500000', 'hist-38-p029-body.nii.gz-0.500000', 'hist-39-p029-body.nii.gz-0.500000', 'hist-40-p029-body.nii.gz-0.500000', 'hist-41-p029-body.nii.gz-0.500000', 'hist-42-p029-body.nii.gz-0.500000', 'hist-43-p029-body.nii.gz-0.500000'] \n",
      "Score: -0.9635142149909259\n"
     ]
    },
    {
     "name": "stderr",
     "output_type": "stream",
     "text": [
      "200it [00:00, 204.06it/s]\n",
      "  0%|                                                  | 0/8000 [00:00<?, ?it/s]"
     ]
    },
    {
     "name": "stdout",
     "output_type": "stream",
     "text": [
      "1\n",
      "1 0.9656292073396501\n",
      "Objective PLSRegression_Objective:\n"
     ]
    },
    {
     "name": "stderr",
     "output_type": "stream",
     "text": [
      "  6%|██▍                                    | 500/8000 [00:00<00:12, 587.44it/s]\n",
      "55it [00:00, 546.44it/s]"
     ]
    },
    {
     "name": "stdout",
     "output_type": "stream",
     "text": [
      "iterations: 500\n",
      "Number of used features: 50\n",
      "Used features: ['num-p029-body.nii.gz-0.500000', 'sum-p029-body.nii.gz-0.500000', 'mean-p029-body.nii.gz-0.500000', 'std-p029-body.nii.gz-0.500000', 'skew-p029-body.nii.gz-0.500000', 'kurt-p029-body.nii.gz-0.500000', 'hist-0-p029-body.nii.gz-0.500000', 'hist-1-p029-body.nii.gz-0.500000', 'hist-2-p029-body.nii.gz-0.500000', 'hist-3-p029-body.nii.gz-0.500000', 'hist-4-p029-body.nii.gz-0.500000', 'hist-5-p029-body.nii.gz-0.500000', 'hist-6-p029-body.nii.gz-0.500000', 'hist-7-p029-body.nii.gz-0.500000', 'hist-8-p029-body.nii.gz-0.500000', 'hist-9-p029-body.nii.gz-0.500000', 'hist-10-p029-body.nii.gz-0.500000', 'hist-11-p029-body.nii.gz-0.500000', 'hist-12-p029-body.nii.gz-0.500000', 'hist-13-p029-body.nii.gz-0.500000', 'hist-14-p029-body.nii.gz-0.500000', 'hist-15-p029-body.nii.gz-0.500000', 'hist-16-p029-body.nii.gz-0.500000', 'hist-17-p029-body.nii.gz-0.500000', 'hist-18-p029-body.nii.gz-0.500000', 'hist-19-p029-body.nii.gz-0.500000', 'hist-20-p029-body.nii.gz-0.500000', 'hist-21-p029-body.nii.gz-0.500000', 'hist-22-p029-body.nii.gz-0.500000', 'hist-23-p029-body.nii.gz-0.500000', 'hist-24-p029-body.nii.gz-0.500000', 'hist-25-p029-body.nii.gz-0.500000', 'hist-26-p029-body.nii.gz-0.500000', 'hist-27-p029-body.nii.gz-0.500000', 'hist-28-p029-body.nii.gz-0.500000', 'hist-29-p029-body.nii.gz-0.500000', 'hist-30-p029-body.nii.gz-0.500000', 'hist-31-p029-body.nii.gz-0.500000', 'hist-32-p029-body.nii.gz-0.500000', 'hist-33-p029-body.nii.gz-0.500000', 'hist-34-p029-body.nii.gz-0.500000', 'hist-35-p029-body.nii.gz-0.500000', 'hist-36-p029-body.nii.gz-0.500000', 'hist-37-p029-body.nii.gz-0.500000', 'hist-38-p029-body.nii.gz-0.500000', 'hist-39-p029-body.nii.gz-0.500000', 'hist-40-p029-body.nii.gz-0.500000', 'hist-41-p029-body.nii.gz-0.500000', 'hist-42-p029-body.nii.gz-0.500000', 'hist-43-p029-body.nii.gz-0.500000'] \n",
      "Score: -0.9668784335075475\n"
     ]
    },
    {
     "name": "stderr",
     "output_type": "stream",
     "text": [
      "200it [00:00, 544.50it/s]\n",
      "  0%|                                                  | 0/8000 [00:00<?, ?it/s]"
     ]
    },
    {
     "name": "stdout",
     "output_type": "stream",
     "text": [
      "1\n",
      "1 0.9702186585156922\n",
      "Objective KNNR_Objective:\n"
     ]
    },
    {
     "name": "stderr",
     "output_type": "stream",
     "text": [
      "  7%|██▋                                     | 533/8000 [00:16<03:46, 32.97it/s]\n",
      "76it [00:00, 756.26it/s]"
     ]
    },
    {
     "name": "stdout",
     "output_type": "stream",
     "text": [
      "iterations: 533\n",
      "Number of used features: 50\n",
      "Used features: ['num-p032-body.nii.gz-0.500000', 'sum-p032-body.nii.gz-0.500000', 'mean-p032-body.nii.gz-0.500000', 'std-p032-body.nii.gz-0.500000', 'skew-p032-body.nii.gz-0.500000', 'kurt-p032-body.nii.gz-0.500000', 'hist-0-p032-body.nii.gz-0.500000', 'hist-1-p032-body.nii.gz-0.500000', 'hist-2-p032-body.nii.gz-0.500000', 'hist-3-p032-body.nii.gz-0.500000', 'hist-4-p032-body.nii.gz-0.500000', 'hist-5-p032-body.nii.gz-0.500000', 'hist-6-p032-body.nii.gz-0.500000', 'hist-7-p032-body.nii.gz-0.500000', 'hist-8-p032-body.nii.gz-0.500000', 'hist-9-p032-body.nii.gz-0.500000', 'hist-10-p032-body.nii.gz-0.500000', 'hist-11-p032-body.nii.gz-0.500000', 'hist-12-p032-body.nii.gz-0.500000', 'hist-13-p032-body.nii.gz-0.500000', 'hist-14-p032-body.nii.gz-0.500000', 'hist-15-p032-body.nii.gz-0.500000', 'hist-16-p032-body.nii.gz-0.500000', 'hist-17-p032-body.nii.gz-0.500000', 'hist-18-p032-body.nii.gz-0.500000', 'hist-19-p032-body.nii.gz-0.500000', 'hist-20-p032-body.nii.gz-0.500000', 'hist-21-p032-body.nii.gz-0.500000', 'hist-22-p032-body.nii.gz-0.500000', 'hist-23-p032-body.nii.gz-0.500000', 'hist-24-p032-body.nii.gz-0.500000', 'hist-25-p032-body.nii.gz-0.500000', 'hist-26-p032-body.nii.gz-0.500000', 'hist-27-p032-body.nii.gz-0.500000', 'hist-28-p032-body.nii.gz-0.500000', 'hist-29-p032-body.nii.gz-0.500000', 'hist-30-p032-body.nii.gz-0.500000', 'hist-31-p032-body.nii.gz-0.500000', 'hist-32-p032-body.nii.gz-0.500000', 'hist-33-p032-body.nii.gz-0.500000', 'hist-34-p032-body.nii.gz-0.500000', 'hist-35-p032-body.nii.gz-0.500000', 'hist-36-p032-body.nii.gz-0.500000', 'hist-37-p032-body.nii.gz-0.500000', 'hist-38-p032-body.nii.gz-0.500000', 'hist-39-p032-body.nii.gz-0.500000', 'hist-40-p032-body.nii.gz-0.500000', 'hist-41-p032-body.nii.gz-0.500000', 'hist-42-p032-body.nii.gz-0.500000', 'hist-43-p032-body.nii.gz-0.500000'] \n",
      "Score: -0.4603330430503718\n"
     ]
    },
    {
     "name": "stderr",
     "output_type": "stream",
     "text": [
      "200it [00:00, 756.25it/s]\n",
      "  0%|                                                  | 0/8000 [00:00<?, ?it/s]"
     ]
    },
    {
     "name": "stdout",
     "output_type": "stream",
     "text": [
      "1\n",
      "1 0.4887527682352787\n",
      "Objective LinearRegression_Objective:\n"
     ]
    },
    {
     "name": "stderr",
     "output_type": "stream",
     "text": [
      "  6%|██▎                                   | 499/8000 [00:00<00:02, 3088.16it/s]\n",
      "78it [00:00, 774.67it/s]"
     ]
    },
    {
     "name": "stdout",
     "output_type": "stream",
     "text": [
      "iterations: 499\n",
      "Number of used features: 50\n",
      "Used features: ['num-p032-body.nii.gz-0.500000', 'sum-p032-body.nii.gz-0.500000', 'mean-p032-body.nii.gz-0.500000', 'std-p032-body.nii.gz-0.500000', 'skew-p032-body.nii.gz-0.500000', 'kurt-p032-body.nii.gz-0.500000', 'hist-0-p032-body.nii.gz-0.500000', 'hist-1-p032-body.nii.gz-0.500000', 'hist-2-p032-body.nii.gz-0.500000', 'hist-3-p032-body.nii.gz-0.500000', 'hist-4-p032-body.nii.gz-0.500000', 'hist-5-p032-body.nii.gz-0.500000', 'hist-6-p032-body.nii.gz-0.500000', 'hist-7-p032-body.nii.gz-0.500000', 'hist-8-p032-body.nii.gz-0.500000', 'hist-9-p032-body.nii.gz-0.500000', 'hist-10-p032-body.nii.gz-0.500000', 'hist-11-p032-body.nii.gz-0.500000', 'hist-12-p032-body.nii.gz-0.500000', 'hist-13-p032-body.nii.gz-0.500000', 'hist-14-p032-body.nii.gz-0.500000', 'hist-15-p032-body.nii.gz-0.500000', 'hist-16-p032-body.nii.gz-0.500000', 'hist-17-p032-body.nii.gz-0.500000', 'hist-18-p032-body.nii.gz-0.500000', 'hist-19-p032-body.nii.gz-0.500000', 'hist-20-p032-body.nii.gz-0.500000', 'hist-21-p032-body.nii.gz-0.500000', 'hist-22-p032-body.nii.gz-0.500000', 'hist-23-p032-body.nii.gz-0.500000', 'hist-24-p032-body.nii.gz-0.500000', 'hist-25-p032-body.nii.gz-0.500000', 'hist-26-p032-body.nii.gz-0.500000', 'hist-27-p032-body.nii.gz-0.500000', 'hist-28-p032-body.nii.gz-0.500000', 'hist-29-p032-body.nii.gz-0.500000', 'hist-30-p032-body.nii.gz-0.500000', 'hist-31-p032-body.nii.gz-0.500000', 'hist-32-p032-body.nii.gz-0.500000', 'hist-33-p032-body.nii.gz-0.500000', 'hist-34-p032-body.nii.gz-0.500000', 'hist-35-p032-body.nii.gz-0.500000', 'hist-36-p032-body.nii.gz-0.500000', 'hist-37-p032-body.nii.gz-0.500000', 'hist-38-p032-body.nii.gz-0.500000', 'hist-39-p032-body.nii.gz-0.500000', 'hist-40-p032-body.nii.gz-0.500000', 'hist-41-p032-body.nii.gz-0.500000', 'hist-42-p032-body.nii.gz-0.500000', 'hist-43-p032-body.nii.gz-0.500000'] \n",
      "Score: -0.6590214519257238\n"
     ]
    },
    {
     "name": "stderr",
     "output_type": "stream",
     "text": [
      "200it [00:00, 773.88it/s]\n",
      "  0%|                                                  | 0/8000 [00:00<?, ?it/s]"
     ]
    },
    {
     "name": "stdout",
     "output_type": "stream",
     "text": [
      "1\n",
      "1 -0.051259747163438174\n",
      "Objective LassoRegression_Objective:\n"
     ]
    },
    {
     "name": "stderr",
     "output_type": "stream",
     "text": [
      "  6%|██▍                                    | 499/8000 [00:03<00:45, 164.78it/s]\n",
      "54it [00:00, 535.35it/s]"
     ]
    },
    {
     "name": "stdout",
     "output_type": "stream",
     "text": [
      "iterations: 499\n",
      "Number of used features: 50\n",
      "Used features: ['num-p032-body.nii.gz-0.500000', 'sum-p032-body.nii.gz-0.500000', 'mean-p032-body.nii.gz-0.500000', 'std-p032-body.nii.gz-0.500000', 'skew-p032-body.nii.gz-0.500000', 'kurt-p032-body.nii.gz-0.500000', 'hist-0-p032-body.nii.gz-0.500000', 'hist-1-p032-body.nii.gz-0.500000', 'hist-2-p032-body.nii.gz-0.500000', 'hist-3-p032-body.nii.gz-0.500000', 'hist-4-p032-body.nii.gz-0.500000', 'hist-5-p032-body.nii.gz-0.500000', 'hist-6-p032-body.nii.gz-0.500000', 'hist-7-p032-body.nii.gz-0.500000', 'hist-8-p032-body.nii.gz-0.500000', 'hist-9-p032-body.nii.gz-0.500000', 'hist-10-p032-body.nii.gz-0.500000', 'hist-11-p032-body.nii.gz-0.500000', 'hist-12-p032-body.nii.gz-0.500000', 'hist-13-p032-body.nii.gz-0.500000', 'hist-14-p032-body.nii.gz-0.500000', 'hist-15-p032-body.nii.gz-0.500000', 'hist-16-p032-body.nii.gz-0.500000', 'hist-17-p032-body.nii.gz-0.500000', 'hist-18-p032-body.nii.gz-0.500000', 'hist-19-p032-body.nii.gz-0.500000', 'hist-20-p032-body.nii.gz-0.500000', 'hist-21-p032-body.nii.gz-0.500000', 'hist-22-p032-body.nii.gz-0.500000', 'hist-23-p032-body.nii.gz-0.500000', 'hist-24-p032-body.nii.gz-0.500000', 'hist-25-p032-body.nii.gz-0.500000', 'hist-26-p032-body.nii.gz-0.500000', 'hist-27-p032-body.nii.gz-0.500000', 'hist-28-p032-body.nii.gz-0.500000', 'hist-29-p032-body.nii.gz-0.500000', 'hist-30-p032-body.nii.gz-0.500000', 'hist-31-p032-body.nii.gz-0.500000', 'hist-32-p032-body.nii.gz-0.500000', 'hist-33-p032-body.nii.gz-0.500000', 'hist-34-p032-body.nii.gz-0.500000', 'hist-35-p032-body.nii.gz-0.500000', 'hist-36-p032-body.nii.gz-0.500000', 'hist-37-p032-body.nii.gz-0.500000', 'hist-38-p032-body.nii.gz-0.500000', 'hist-39-p032-body.nii.gz-0.500000', 'hist-40-p032-body.nii.gz-0.500000', 'hist-41-p032-body.nii.gz-0.500000', 'hist-42-p032-body.nii.gz-0.500000', 'hist-43-p032-body.nii.gz-0.500000'] \n",
      "Score: -0.9714456023691276\n"
     ]
    },
    {
     "name": "stderr",
     "output_type": "stream",
     "text": [
      "200it [00:00, 533.39it/s]\n"
     ]
    },
    {
     "name": "stdout",
     "output_type": "stream",
     "text": [
      "1\n",
      "1 0.9729260346754424\n",
      "Objective RidgeRegression_Objective:\n"
     ]
    },
    {
     "name": "stderr",
     "output_type": "stream",
     "text": [
      "  6%|██▍                                    | 508/8000 [00:02<00:30, 242.45it/s]\n",
      "42it [00:00, 414.76it/s]"
     ]
    },
    {
     "name": "stdout",
     "output_type": "stream",
     "text": [
      "iterations: 508\n",
      "Number of used features: 50\n",
      "Used features: ['num-p032-body.nii.gz-0.500000', 'sum-p032-body.nii.gz-0.500000', 'mean-p032-body.nii.gz-0.500000', 'std-p032-body.nii.gz-0.500000', 'skew-p032-body.nii.gz-0.500000', 'kurt-p032-body.nii.gz-0.500000', 'hist-0-p032-body.nii.gz-0.500000', 'hist-1-p032-body.nii.gz-0.500000', 'hist-2-p032-body.nii.gz-0.500000', 'hist-3-p032-body.nii.gz-0.500000', 'hist-4-p032-body.nii.gz-0.500000', 'hist-5-p032-body.nii.gz-0.500000', 'hist-6-p032-body.nii.gz-0.500000', 'hist-7-p032-body.nii.gz-0.500000', 'hist-8-p032-body.nii.gz-0.500000', 'hist-9-p032-body.nii.gz-0.500000', 'hist-10-p032-body.nii.gz-0.500000', 'hist-11-p032-body.nii.gz-0.500000', 'hist-12-p032-body.nii.gz-0.500000', 'hist-13-p032-body.nii.gz-0.500000', 'hist-14-p032-body.nii.gz-0.500000', 'hist-15-p032-body.nii.gz-0.500000', 'hist-16-p032-body.nii.gz-0.500000', 'hist-17-p032-body.nii.gz-0.500000', 'hist-18-p032-body.nii.gz-0.500000', 'hist-19-p032-body.nii.gz-0.500000', 'hist-20-p032-body.nii.gz-0.500000', 'hist-21-p032-body.nii.gz-0.500000', 'hist-22-p032-body.nii.gz-0.500000', 'hist-23-p032-body.nii.gz-0.500000', 'hist-24-p032-body.nii.gz-0.500000', 'hist-25-p032-body.nii.gz-0.500000', 'hist-26-p032-body.nii.gz-0.500000', 'hist-27-p032-body.nii.gz-0.500000', 'hist-28-p032-body.nii.gz-0.500000', 'hist-29-p032-body.nii.gz-0.500000', 'hist-30-p032-body.nii.gz-0.500000', 'hist-31-p032-body.nii.gz-0.500000', 'hist-32-p032-body.nii.gz-0.500000', 'hist-33-p032-body.nii.gz-0.500000', 'hist-34-p032-body.nii.gz-0.500000', 'hist-35-p032-body.nii.gz-0.500000', 'hist-36-p032-body.nii.gz-0.500000', 'hist-37-p032-body.nii.gz-0.500000', 'hist-38-p032-body.nii.gz-0.500000', 'hist-39-p032-body.nii.gz-0.500000', 'hist-40-p032-body.nii.gz-0.500000', 'hist-41-p032-body.nii.gz-0.500000', 'hist-42-p032-body.nii.gz-0.500000', 'hist-43-p032-body.nii.gz-0.500000'] \n",
      "Score: -0.9688239845259068\n"
     ]
    },
    {
     "name": "stderr",
     "output_type": "stream",
     "text": [
      "200it [00:00, 360.42it/s]\n",
      "  0%|                                                  | 0/8000 [00:00<?, ?it/s]"
     ]
    },
    {
     "name": "stdout",
     "output_type": "stream",
     "text": [
      "1\n",
      "1 0.9691219905814543\n",
      "Objective PLSRegression_Objective:\n"
     ]
    },
    {
     "name": "stderr",
     "output_type": "stream",
     "text": [
      "  7%|██▋                                    | 545/8000 [00:00<00:11, 654.52it/s]\n",
      "60it [00:00, 591.20it/s]"
     ]
    },
    {
     "name": "stdout",
     "output_type": "stream",
     "text": [
      "iterations: 545\n",
      "Number of used features: 50\n",
      "Used features: ['num-p032-body.nii.gz-0.500000', 'sum-p032-body.nii.gz-0.500000', 'mean-p032-body.nii.gz-0.500000', 'std-p032-body.nii.gz-0.500000', 'skew-p032-body.nii.gz-0.500000', 'kurt-p032-body.nii.gz-0.500000', 'hist-0-p032-body.nii.gz-0.500000', 'hist-1-p032-body.nii.gz-0.500000', 'hist-2-p032-body.nii.gz-0.500000', 'hist-3-p032-body.nii.gz-0.500000', 'hist-4-p032-body.nii.gz-0.500000', 'hist-5-p032-body.nii.gz-0.500000', 'hist-6-p032-body.nii.gz-0.500000', 'hist-7-p032-body.nii.gz-0.500000', 'hist-8-p032-body.nii.gz-0.500000', 'hist-9-p032-body.nii.gz-0.500000', 'hist-10-p032-body.nii.gz-0.500000', 'hist-11-p032-body.nii.gz-0.500000', 'hist-12-p032-body.nii.gz-0.500000', 'hist-13-p032-body.nii.gz-0.500000', 'hist-14-p032-body.nii.gz-0.500000', 'hist-15-p032-body.nii.gz-0.500000', 'hist-16-p032-body.nii.gz-0.500000', 'hist-17-p032-body.nii.gz-0.500000', 'hist-18-p032-body.nii.gz-0.500000', 'hist-19-p032-body.nii.gz-0.500000', 'hist-20-p032-body.nii.gz-0.500000', 'hist-21-p032-body.nii.gz-0.500000', 'hist-22-p032-body.nii.gz-0.500000', 'hist-23-p032-body.nii.gz-0.500000', 'hist-24-p032-body.nii.gz-0.500000', 'hist-25-p032-body.nii.gz-0.500000', 'hist-26-p032-body.nii.gz-0.500000', 'hist-27-p032-body.nii.gz-0.500000', 'hist-28-p032-body.nii.gz-0.500000', 'hist-29-p032-body.nii.gz-0.500000', 'hist-30-p032-body.nii.gz-0.500000', 'hist-31-p032-body.nii.gz-0.500000', 'hist-32-p032-body.nii.gz-0.500000', 'hist-33-p032-body.nii.gz-0.500000', 'hist-34-p032-body.nii.gz-0.500000', 'hist-35-p032-body.nii.gz-0.500000', 'hist-36-p032-body.nii.gz-0.500000', 'hist-37-p032-body.nii.gz-0.500000', 'hist-38-p032-body.nii.gz-0.500000', 'hist-39-p032-body.nii.gz-0.500000', 'hist-40-p032-body.nii.gz-0.500000', 'hist-41-p032-body.nii.gz-0.500000', 'hist-42-p032-body.nii.gz-0.500000', 'hist-43-p032-body.nii.gz-0.500000'] \n",
      "Score: -0.9730434078239955\n"
     ]
    },
    {
     "name": "stderr",
     "output_type": "stream",
     "text": [
      "200it [00:00, 586.00it/s]\n",
      "  0%|                                                  | 0/8000 [00:00<?, ?it/s]"
     ]
    },
    {
     "name": "stdout",
     "output_type": "stream",
     "text": [
      "1\n",
      "1 0.9737522843914078\n",
      "Objective KNNR_Objective:\n"
     ]
    },
    {
     "name": "stderr",
     "output_type": "stream",
     "text": [
      "  7%|██▋                                     | 529/8000 [00:15<03:45, 33.17it/s]\n",
      "77it [00:00, 762.54it/s]"
     ]
    },
    {
     "name": "stdout",
     "output_type": "stream",
     "text": [
      "iterations: 529\n",
      "Number of used features: 50\n",
      "Used features: ['num-p041-body.nii.gz-0.500000', 'sum-p041-body.nii.gz-0.500000', 'mean-p041-body.nii.gz-0.500000', 'std-p041-body.nii.gz-0.500000', 'skew-p041-body.nii.gz-0.500000', 'kurt-p041-body.nii.gz-0.500000', 'hist-0-p041-body.nii.gz-0.500000', 'hist-1-p041-body.nii.gz-0.500000', 'hist-2-p041-body.nii.gz-0.500000', 'hist-3-p041-body.nii.gz-0.500000', 'hist-4-p041-body.nii.gz-0.500000', 'hist-5-p041-body.nii.gz-0.500000', 'hist-6-p041-body.nii.gz-0.500000', 'hist-7-p041-body.nii.gz-0.500000', 'hist-8-p041-body.nii.gz-0.500000', 'hist-9-p041-body.nii.gz-0.500000', 'hist-10-p041-body.nii.gz-0.500000', 'hist-11-p041-body.nii.gz-0.500000', 'hist-12-p041-body.nii.gz-0.500000', 'hist-13-p041-body.nii.gz-0.500000', 'hist-14-p041-body.nii.gz-0.500000', 'hist-15-p041-body.nii.gz-0.500000', 'hist-16-p041-body.nii.gz-0.500000', 'hist-17-p041-body.nii.gz-0.500000', 'hist-18-p041-body.nii.gz-0.500000', 'hist-19-p041-body.nii.gz-0.500000', 'hist-20-p041-body.nii.gz-0.500000', 'hist-21-p041-body.nii.gz-0.500000', 'hist-22-p041-body.nii.gz-0.500000', 'hist-23-p041-body.nii.gz-0.500000', 'hist-24-p041-body.nii.gz-0.500000', 'hist-25-p041-body.nii.gz-0.500000', 'hist-26-p041-body.nii.gz-0.500000', 'hist-27-p041-body.nii.gz-0.500000', 'hist-28-p041-body.nii.gz-0.500000', 'hist-29-p041-body.nii.gz-0.500000', 'hist-30-p041-body.nii.gz-0.500000', 'hist-31-p041-body.nii.gz-0.500000', 'hist-32-p041-body.nii.gz-0.500000', 'hist-33-p041-body.nii.gz-0.500000', 'hist-34-p041-body.nii.gz-0.500000', 'hist-35-p041-body.nii.gz-0.500000', 'hist-36-p041-body.nii.gz-0.500000', 'hist-37-p041-body.nii.gz-0.500000', 'hist-38-p041-body.nii.gz-0.500000', 'hist-39-p041-body.nii.gz-0.500000', 'hist-40-p041-body.nii.gz-0.500000', 'hist-41-p041-body.nii.gz-0.500000', 'hist-42-p041-body.nii.gz-0.500000', 'hist-43-p041-body.nii.gz-0.500000'] \n",
      "Score: -0.5642428885529103\n"
     ]
    },
    {
     "name": "stderr",
     "output_type": "stream",
     "text": [
      "200it [00:00, 760.34it/s]\n",
      "  0%|                                                  | 0/8000 [00:00<?, ?it/s]"
     ]
    },
    {
     "name": "stdout",
     "output_type": "stream",
     "text": [
      "1\n",
      "1 0.5759950328996727\n",
      "Objective LinearRegression_Objective:\n"
     ]
    },
    {
     "name": "stderr",
     "output_type": "stream",
     "text": [
      "  6%|██▎                                   | 499/8000 [00:00<00:02, 3139.29it/s]\n",
      "78it [00:00, 779.81it/s]"
     ]
    },
    {
     "name": "stdout",
     "output_type": "stream",
     "text": [
      "iterations: 499\n",
      "Number of used features: 50\n",
      "Used features: ['num-p041-body.nii.gz-0.500000', 'sum-p041-body.nii.gz-0.500000', 'mean-p041-body.nii.gz-0.500000', 'std-p041-body.nii.gz-0.500000', 'skew-p041-body.nii.gz-0.500000', 'kurt-p041-body.nii.gz-0.500000', 'hist-0-p041-body.nii.gz-0.500000', 'hist-1-p041-body.nii.gz-0.500000', 'hist-2-p041-body.nii.gz-0.500000', 'hist-3-p041-body.nii.gz-0.500000', 'hist-4-p041-body.nii.gz-0.500000', 'hist-5-p041-body.nii.gz-0.500000', 'hist-6-p041-body.nii.gz-0.500000', 'hist-7-p041-body.nii.gz-0.500000', 'hist-8-p041-body.nii.gz-0.500000', 'hist-9-p041-body.nii.gz-0.500000', 'hist-10-p041-body.nii.gz-0.500000', 'hist-11-p041-body.nii.gz-0.500000', 'hist-12-p041-body.nii.gz-0.500000', 'hist-13-p041-body.nii.gz-0.500000', 'hist-14-p041-body.nii.gz-0.500000', 'hist-15-p041-body.nii.gz-0.500000', 'hist-16-p041-body.nii.gz-0.500000', 'hist-17-p041-body.nii.gz-0.500000', 'hist-18-p041-body.nii.gz-0.500000', 'hist-19-p041-body.nii.gz-0.500000', 'hist-20-p041-body.nii.gz-0.500000', 'hist-21-p041-body.nii.gz-0.500000', 'hist-22-p041-body.nii.gz-0.500000', 'hist-23-p041-body.nii.gz-0.500000', 'hist-24-p041-body.nii.gz-0.500000', 'hist-25-p041-body.nii.gz-0.500000', 'hist-26-p041-body.nii.gz-0.500000', 'hist-27-p041-body.nii.gz-0.500000', 'hist-28-p041-body.nii.gz-0.500000', 'hist-29-p041-body.nii.gz-0.500000', 'hist-30-p041-body.nii.gz-0.500000', 'hist-31-p041-body.nii.gz-0.500000', 'hist-32-p041-body.nii.gz-0.500000', 'hist-33-p041-body.nii.gz-0.500000', 'hist-34-p041-body.nii.gz-0.500000', 'hist-35-p041-body.nii.gz-0.500000', 'hist-36-p041-body.nii.gz-0.500000', 'hist-37-p041-body.nii.gz-0.500000', 'hist-38-p041-body.nii.gz-0.500000', 'hist-39-p041-body.nii.gz-0.500000', 'hist-40-p041-body.nii.gz-0.500000', 'hist-41-p041-body.nii.gz-0.500000', 'hist-42-p041-body.nii.gz-0.500000', 'hist-43-p041-body.nii.gz-0.500000'] \n",
      "Score: -0.5562206689976172\n"
     ]
    },
    {
     "name": "stderr",
     "output_type": "stream",
     "text": [
      "200it [00:00, 783.43it/s]\n"
     ]
    },
    {
     "name": "stdout",
     "output_type": "stream",
     "text": [
      "1\n",
      "1 -1.3281804082626523\n",
      "Objective LassoRegression_Objective:\n"
     ]
    },
    {
     "name": "stderr",
     "output_type": "stream",
     "text": [
      "  6%|██▍                                    | 499/8000 [00:03<00:45, 163.08it/s]\n",
      "45it [00:00, 446.16it/s]"
     ]
    },
    {
     "name": "stdout",
     "output_type": "stream",
     "text": [
      "iterations: 499\n",
      "Number of used features: 50\n",
      "Used features: ['num-p041-body.nii.gz-0.500000', 'sum-p041-body.nii.gz-0.500000', 'mean-p041-body.nii.gz-0.500000', 'std-p041-body.nii.gz-0.500000', 'skew-p041-body.nii.gz-0.500000', 'kurt-p041-body.nii.gz-0.500000', 'hist-0-p041-body.nii.gz-0.500000', 'hist-1-p041-body.nii.gz-0.500000', 'hist-2-p041-body.nii.gz-0.500000', 'hist-3-p041-body.nii.gz-0.500000', 'hist-4-p041-body.nii.gz-0.500000', 'hist-5-p041-body.nii.gz-0.500000', 'hist-6-p041-body.nii.gz-0.500000', 'hist-7-p041-body.nii.gz-0.500000', 'hist-8-p041-body.nii.gz-0.500000', 'hist-9-p041-body.nii.gz-0.500000', 'hist-10-p041-body.nii.gz-0.500000', 'hist-11-p041-body.nii.gz-0.500000', 'hist-12-p041-body.nii.gz-0.500000', 'hist-13-p041-body.nii.gz-0.500000', 'hist-14-p041-body.nii.gz-0.500000', 'hist-15-p041-body.nii.gz-0.500000', 'hist-16-p041-body.nii.gz-0.500000', 'hist-17-p041-body.nii.gz-0.500000', 'hist-18-p041-body.nii.gz-0.500000', 'hist-19-p041-body.nii.gz-0.500000', 'hist-20-p041-body.nii.gz-0.500000', 'hist-21-p041-body.nii.gz-0.500000', 'hist-22-p041-body.nii.gz-0.500000', 'hist-23-p041-body.nii.gz-0.500000', 'hist-24-p041-body.nii.gz-0.500000', 'hist-25-p041-body.nii.gz-0.500000', 'hist-26-p041-body.nii.gz-0.500000', 'hist-27-p041-body.nii.gz-0.500000', 'hist-28-p041-body.nii.gz-0.500000', 'hist-29-p041-body.nii.gz-0.500000', 'hist-30-p041-body.nii.gz-0.500000', 'hist-31-p041-body.nii.gz-0.500000', 'hist-32-p041-body.nii.gz-0.500000', 'hist-33-p041-body.nii.gz-0.500000', 'hist-34-p041-body.nii.gz-0.500000', 'hist-35-p041-body.nii.gz-0.500000', 'hist-36-p041-body.nii.gz-0.500000', 'hist-37-p041-body.nii.gz-0.500000', 'hist-38-p041-body.nii.gz-0.500000', 'hist-39-p041-body.nii.gz-0.500000', 'hist-40-p041-body.nii.gz-0.500000', 'hist-41-p041-body.nii.gz-0.500000', 'hist-42-p041-body.nii.gz-0.500000', 'hist-43-p041-body.nii.gz-0.500000'] \n",
      "Score: -0.9751546587017819\n"
     ]
    },
    {
     "name": "stderr",
     "output_type": "stream",
     "text": [
      "200it [00:00, 447.73it/s]\n"
     ]
    },
    {
     "name": "stdout",
     "output_type": "stream",
     "text": [
      "1\n",
      "1 0.9758515257001327\n",
      "Objective RidgeRegression_Objective:\n"
     ]
    },
    {
     "name": "stderr",
     "output_type": "stream",
     "text": [
      "  6%|██▍                                    | 508/8000 [00:02<00:31, 238.35it/s]\n",
      "41it [00:00, 405.03it/s]"
     ]
    },
    {
     "name": "stdout",
     "output_type": "stream",
     "text": [
      "iterations: 508\n",
      "Number of used features: 50\n",
      "Used features: ['num-p041-body.nii.gz-0.500000', 'sum-p041-body.nii.gz-0.500000', 'mean-p041-body.nii.gz-0.500000', 'std-p041-body.nii.gz-0.500000', 'skew-p041-body.nii.gz-0.500000', 'kurt-p041-body.nii.gz-0.500000', 'hist-0-p041-body.nii.gz-0.500000', 'hist-1-p041-body.nii.gz-0.500000', 'hist-2-p041-body.nii.gz-0.500000', 'hist-3-p041-body.nii.gz-0.500000', 'hist-4-p041-body.nii.gz-0.500000', 'hist-5-p041-body.nii.gz-0.500000', 'hist-6-p041-body.nii.gz-0.500000', 'hist-7-p041-body.nii.gz-0.500000', 'hist-8-p041-body.nii.gz-0.500000', 'hist-9-p041-body.nii.gz-0.500000', 'hist-10-p041-body.nii.gz-0.500000', 'hist-11-p041-body.nii.gz-0.500000', 'hist-12-p041-body.nii.gz-0.500000', 'hist-13-p041-body.nii.gz-0.500000', 'hist-14-p041-body.nii.gz-0.500000', 'hist-15-p041-body.nii.gz-0.500000', 'hist-16-p041-body.nii.gz-0.500000', 'hist-17-p041-body.nii.gz-0.500000', 'hist-18-p041-body.nii.gz-0.500000', 'hist-19-p041-body.nii.gz-0.500000', 'hist-20-p041-body.nii.gz-0.500000', 'hist-21-p041-body.nii.gz-0.500000', 'hist-22-p041-body.nii.gz-0.500000', 'hist-23-p041-body.nii.gz-0.500000', 'hist-24-p041-body.nii.gz-0.500000', 'hist-25-p041-body.nii.gz-0.500000', 'hist-26-p041-body.nii.gz-0.500000', 'hist-27-p041-body.nii.gz-0.500000', 'hist-28-p041-body.nii.gz-0.500000', 'hist-29-p041-body.nii.gz-0.500000', 'hist-30-p041-body.nii.gz-0.500000', 'hist-31-p041-body.nii.gz-0.500000', 'hist-32-p041-body.nii.gz-0.500000', 'hist-33-p041-body.nii.gz-0.500000', 'hist-34-p041-body.nii.gz-0.500000', 'hist-35-p041-body.nii.gz-0.500000', 'hist-36-p041-body.nii.gz-0.500000', 'hist-37-p041-body.nii.gz-0.500000', 'hist-38-p041-body.nii.gz-0.500000', 'hist-39-p041-body.nii.gz-0.500000', 'hist-40-p041-body.nii.gz-0.500000', 'hist-41-p041-body.nii.gz-0.500000', 'hist-42-p041-body.nii.gz-0.500000', 'hist-43-p041-body.nii.gz-0.500000'] \n",
      "Score: -0.9752185400531799\n"
     ]
    },
    {
     "name": "stderr",
     "output_type": "stream",
     "text": [
      "200it [00:00, 439.71it/s]\n",
      "  0%|                                                  | 0/8000 [00:00<?, ?it/s]"
     ]
    },
    {
     "name": "stdout",
     "output_type": "stream",
     "text": [
      "1\n",
      "1 0.9767020996776228\n",
      "Objective PLSRegression_Objective:\n"
     ]
    },
    {
     "name": "stderr",
     "output_type": "stream",
     "text": [
      "  6%|██▍                                    | 500/8000 [00:00<00:12, 589.05it/s]\n",
      "55it [00:00, 540.95it/s]"
     ]
    },
    {
     "name": "stdout",
     "output_type": "stream",
     "text": [
      "iterations: 500\n",
      "Number of used features: 50\n",
      "Used features: ['num-p041-body.nii.gz-0.500000', 'sum-p041-body.nii.gz-0.500000', 'mean-p041-body.nii.gz-0.500000', 'std-p041-body.nii.gz-0.500000', 'skew-p041-body.nii.gz-0.500000', 'kurt-p041-body.nii.gz-0.500000', 'hist-0-p041-body.nii.gz-0.500000', 'hist-1-p041-body.nii.gz-0.500000', 'hist-2-p041-body.nii.gz-0.500000', 'hist-3-p041-body.nii.gz-0.500000', 'hist-4-p041-body.nii.gz-0.500000', 'hist-5-p041-body.nii.gz-0.500000', 'hist-6-p041-body.nii.gz-0.500000', 'hist-7-p041-body.nii.gz-0.500000', 'hist-8-p041-body.nii.gz-0.500000', 'hist-9-p041-body.nii.gz-0.500000', 'hist-10-p041-body.nii.gz-0.500000', 'hist-11-p041-body.nii.gz-0.500000', 'hist-12-p041-body.nii.gz-0.500000', 'hist-13-p041-body.nii.gz-0.500000', 'hist-14-p041-body.nii.gz-0.500000', 'hist-15-p041-body.nii.gz-0.500000', 'hist-16-p041-body.nii.gz-0.500000', 'hist-17-p041-body.nii.gz-0.500000', 'hist-18-p041-body.nii.gz-0.500000', 'hist-19-p041-body.nii.gz-0.500000', 'hist-20-p041-body.nii.gz-0.500000', 'hist-21-p041-body.nii.gz-0.500000', 'hist-22-p041-body.nii.gz-0.500000', 'hist-23-p041-body.nii.gz-0.500000', 'hist-24-p041-body.nii.gz-0.500000', 'hist-25-p041-body.nii.gz-0.500000', 'hist-26-p041-body.nii.gz-0.500000', 'hist-27-p041-body.nii.gz-0.500000', 'hist-28-p041-body.nii.gz-0.500000', 'hist-29-p041-body.nii.gz-0.500000', 'hist-30-p041-body.nii.gz-0.500000', 'hist-31-p041-body.nii.gz-0.500000', 'hist-32-p041-body.nii.gz-0.500000', 'hist-33-p041-body.nii.gz-0.500000', 'hist-34-p041-body.nii.gz-0.500000', 'hist-35-p041-body.nii.gz-0.500000', 'hist-36-p041-body.nii.gz-0.500000', 'hist-37-p041-body.nii.gz-0.500000', 'hist-38-p041-body.nii.gz-0.500000', 'hist-39-p041-body.nii.gz-0.500000', 'hist-40-p041-body.nii.gz-0.500000', 'hist-41-p041-body.nii.gz-0.500000', 'hist-42-p041-body.nii.gz-0.500000', 'hist-43-p041-body.nii.gz-0.500000'] \n",
      "Score: -0.9791516171980204\n"
     ]
    },
    {
     "name": "stderr",
     "output_type": "stream",
     "text": [
      "200it [00:00, 535.52it/s]\n",
      "  0%|                                                  | 0/8000 [00:00<?, ?it/s]"
     ]
    },
    {
     "name": "stdout",
     "output_type": "stream",
     "text": [
      "1\n",
      "1 0.9805198621446446\n",
      "Objective KNNR_Objective:\n"
     ]
    },
    {
     "name": "stderr",
     "output_type": "stream",
     "text": [
      "  7%|██▋                                     | 530/8000 [00:16<03:58, 31.36it/s]\n",
      "69it [00:00, 685.43it/s]"
     ]
    },
    {
     "name": "stdout",
     "output_type": "stream",
     "text": [
      "iterations: 530\n",
      "Number of used features: 50\n",
      "Used features: ['num-p048-body.nii.gz-0.500000', 'sum-p048-body.nii.gz-0.500000', 'mean-p048-body.nii.gz-0.500000', 'std-p048-body.nii.gz-0.500000', 'skew-p048-body.nii.gz-0.500000', 'kurt-p048-body.nii.gz-0.500000', 'hist-0-p048-body.nii.gz-0.500000', 'hist-1-p048-body.nii.gz-0.500000', 'hist-2-p048-body.nii.gz-0.500000', 'hist-3-p048-body.nii.gz-0.500000', 'hist-4-p048-body.nii.gz-0.500000', 'hist-5-p048-body.nii.gz-0.500000', 'hist-6-p048-body.nii.gz-0.500000', 'hist-7-p048-body.nii.gz-0.500000', 'hist-8-p048-body.nii.gz-0.500000', 'hist-9-p048-body.nii.gz-0.500000', 'hist-10-p048-body.nii.gz-0.500000', 'hist-11-p048-body.nii.gz-0.500000', 'hist-12-p048-body.nii.gz-0.500000', 'hist-13-p048-body.nii.gz-0.500000', 'hist-14-p048-body.nii.gz-0.500000', 'hist-15-p048-body.nii.gz-0.500000', 'hist-16-p048-body.nii.gz-0.500000', 'hist-17-p048-body.nii.gz-0.500000', 'hist-18-p048-body.nii.gz-0.500000', 'hist-19-p048-body.nii.gz-0.500000', 'hist-20-p048-body.nii.gz-0.500000', 'hist-21-p048-body.nii.gz-0.500000', 'hist-22-p048-body.nii.gz-0.500000', 'hist-23-p048-body.nii.gz-0.500000', 'hist-24-p048-body.nii.gz-0.500000', 'hist-25-p048-body.nii.gz-0.500000', 'hist-26-p048-body.nii.gz-0.500000', 'hist-27-p048-body.nii.gz-0.500000', 'hist-28-p048-body.nii.gz-0.500000', 'hist-29-p048-body.nii.gz-0.500000', 'hist-30-p048-body.nii.gz-0.500000', 'hist-31-p048-body.nii.gz-0.500000', 'hist-32-p048-body.nii.gz-0.500000', 'hist-33-p048-body.nii.gz-0.500000', 'hist-34-p048-body.nii.gz-0.500000', 'hist-35-p048-body.nii.gz-0.500000', 'hist-36-p048-body.nii.gz-0.500000', 'hist-37-p048-body.nii.gz-0.500000', 'hist-38-p048-body.nii.gz-0.500000', 'hist-39-p048-body.nii.gz-0.500000', 'hist-40-p048-body.nii.gz-0.500000', 'hist-41-p048-body.nii.gz-0.500000', 'hist-42-p048-body.nii.gz-0.500000', 'hist-43-p048-body.nii.gz-0.500000'] \n",
      "Score: -0.5189921745922934\n"
     ]
    },
    {
     "name": "stderr",
     "output_type": "stream",
     "text": [
      "200it [00:00, 683.26it/s]\n",
      "  0%|                                                  | 0/8000 [00:00<?, ?it/s]"
     ]
    },
    {
     "name": "stdout",
     "output_type": "stream",
     "text": [
      "1\n",
      "1 0.5511916865964064\n",
      "Objective LinearRegression_Objective:\n"
     ]
    },
    {
     "name": "stderr",
     "output_type": "stream",
     "text": [
      "  6%|██▎                                   | 499/8000 [00:00<00:02, 3083.72it/s]\n",
      "77it [00:00, 768.76it/s]"
     ]
    },
    {
     "name": "stdout",
     "output_type": "stream",
     "text": [
      "iterations: 499\n",
      "Number of used features: 50\n",
      "Used features: ['num-p048-body.nii.gz-0.500000', 'sum-p048-body.nii.gz-0.500000', 'mean-p048-body.nii.gz-0.500000', 'std-p048-body.nii.gz-0.500000', 'skew-p048-body.nii.gz-0.500000', 'kurt-p048-body.nii.gz-0.500000', 'hist-0-p048-body.nii.gz-0.500000', 'hist-1-p048-body.nii.gz-0.500000', 'hist-2-p048-body.nii.gz-0.500000', 'hist-3-p048-body.nii.gz-0.500000', 'hist-4-p048-body.nii.gz-0.500000', 'hist-5-p048-body.nii.gz-0.500000', 'hist-6-p048-body.nii.gz-0.500000', 'hist-7-p048-body.nii.gz-0.500000', 'hist-8-p048-body.nii.gz-0.500000', 'hist-9-p048-body.nii.gz-0.500000', 'hist-10-p048-body.nii.gz-0.500000', 'hist-11-p048-body.nii.gz-0.500000', 'hist-12-p048-body.nii.gz-0.500000', 'hist-13-p048-body.nii.gz-0.500000', 'hist-14-p048-body.nii.gz-0.500000', 'hist-15-p048-body.nii.gz-0.500000', 'hist-16-p048-body.nii.gz-0.500000', 'hist-17-p048-body.nii.gz-0.500000', 'hist-18-p048-body.nii.gz-0.500000', 'hist-19-p048-body.nii.gz-0.500000', 'hist-20-p048-body.nii.gz-0.500000', 'hist-21-p048-body.nii.gz-0.500000', 'hist-22-p048-body.nii.gz-0.500000', 'hist-23-p048-body.nii.gz-0.500000', 'hist-24-p048-body.nii.gz-0.500000', 'hist-25-p048-body.nii.gz-0.500000', 'hist-26-p048-body.nii.gz-0.500000', 'hist-27-p048-body.nii.gz-0.500000', 'hist-28-p048-body.nii.gz-0.500000', 'hist-29-p048-body.nii.gz-0.500000', 'hist-30-p048-body.nii.gz-0.500000', 'hist-31-p048-body.nii.gz-0.500000', 'hist-32-p048-body.nii.gz-0.500000', 'hist-33-p048-body.nii.gz-0.500000', 'hist-34-p048-body.nii.gz-0.500000', 'hist-35-p048-body.nii.gz-0.500000', 'hist-36-p048-body.nii.gz-0.500000', 'hist-37-p048-body.nii.gz-0.500000', 'hist-38-p048-body.nii.gz-0.500000', 'hist-39-p048-body.nii.gz-0.500000', 'hist-40-p048-body.nii.gz-0.500000', 'hist-41-p048-body.nii.gz-0.500000', 'hist-42-p048-body.nii.gz-0.500000', 'hist-43-p048-body.nii.gz-0.500000'] \n",
      "Score: -0.6926068616502694\n"
     ]
    },
    {
     "name": "stderr",
     "output_type": "stream",
     "text": [
      "200it [00:00, 768.29it/s]\n"
     ]
    },
    {
     "name": "stdout",
     "output_type": "stream",
     "text": [
      "1\n",
      "1 -0.08545507938019914\n",
      "Objective LassoRegression_Objective:\n"
     ]
    },
    {
     "name": "stderr",
     "output_type": "stream",
     "text": [
      "  6%|██▍                                    | 499/8000 [00:03<00:46, 160.76it/s]\n",
      "47it [00:00, 468.30it/s]"
     ]
    },
    {
     "name": "stdout",
     "output_type": "stream",
     "text": [
      "iterations: 499\n",
      "Number of used features: 50\n",
      "Used features: ['num-p048-body.nii.gz-0.500000', 'sum-p048-body.nii.gz-0.500000', 'mean-p048-body.nii.gz-0.500000', 'std-p048-body.nii.gz-0.500000', 'skew-p048-body.nii.gz-0.500000', 'kurt-p048-body.nii.gz-0.500000', 'hist-0-p048-body.nii.gz-0.500000', 'hist-1-p048-body.nii.gz-0.500000', 'hist-2-p048-body.nii.gz-0.500000', 'hist-3-p048-body.nii.gz-0.500000', 'hist-4-p048-body.nii.gz-0.500000', 'hist-5-p048-body.nii.gz-0.500000', 'hist-6-p048-body.nii.gz-0.500000', 'hist-7-p048-body.nii.gz-0.500000', 'hist-8-p048-body.nii.gz-0.500000', 'hist-9-p048-body.nii.gz-0.500000', 'hist-10-p048-body.nii.gz-0.500000', 'hist-11-p048-body.nii.gz-0.500000', 'hist-12-p048-body.nii.gz-0.500000', 'hist-13-p048-body.nii.gz-0.500000', 'hist-14-p048-body.nii.gz-0.500000', 'hist-15-p048-body.nii.gz-0.500000', 'hist-16-p048-body.nii.gz-0.500000', 'hist-17-p048-body.nii.gz-0.500000', 'hist-18-p048-body.nii.gz-0.500000', 'hist-19-p048-body.nii.gz-0.500000', 'hist-20-p048-body.nii.gz-0.500000', 'hist-21-p048-body.nii.gz-0.500000', 'hist-22-p048-body.nii.gz-0.500000', 'hist-23-p048-body.nii.gz-0.500000', 'hist-24-p048-body.nii.gz-0.500000', 'hist-25-p048-body.nii.gz-0.500000', 'hist-26-p048-body.nii.gz-0.500000', 'hist-27-p048-body.nii.gz-0.500000', 'hist-28-p048-body.nii.gz-0.500000', 'hist-29-p048-body.nii.gz-0.500000', 'hist-30-p048-body.nii.gz-0.500000', 'hist-31-p048-body.nii.gz-0.500000', 'hist-32-p048-body.nii.gz-0.500000', 'hist-33-p048-body.nii.gz-0.500000', 'hist-34-p048-body.nii.gz-0.500000', 'hist-35-p048-body.nii.gz-0.500000', 'hist-36-p048-body.nii.gz-0.500000', 'hist-37-p048-body.nii.gz-0.500000', 'hist-38-p048-body.nii.gz-0.500000', 'hist-39-p048-body.nii.gz-0.500000', 'hist-40-p048-body.nii.gz-0.500000', 'hist-41-p048-body.nii.gz-0.500000', 'hist-42-p048-body.nii.gz-0.500000', 'hist-43-p048-body.nii.gz-0.500000'] \n",
      "Score: -0.9580802049992985\n"
     ]
    },
    {
     "name": "stderr",
     "output_type": "stream",
     "text": [
      "200it [00:00, 477.89it/s]\n"
     ]
    },
    {
     "name": "stdout",
     "output_type": "stream",
     "text": [
      "1\n",
      "1 0.9611344867952877\n",
      "Objective RidgeRegression_Objective:\n"
     ]
    },
    {
     "name": "stderr",
     "output_type": "stream",
     "text": [
      "  6%|██▍                                    | 508/8000 [00:02<00:31, 238.83it/s]\n",
      "39it [00:00, 385.87it/s]"
     ]
    },
    {
     "name": "stdout",
     "output_type": "stream",
     "text": [
      "iterations: 508\n",
      "Number of used features: 50\n",
      "Used features: ['num-p048-body.nii.gz-0.500000', 'sum-p048-body.nii.gz-0.500000', 'mean-p048-body.nii.gz-0.500000', 'std-p048-body.nii.gz-0.500000', 'skew-p048-body.nii.gz-0.500000', 'kurt-p048-body.nii.gz-0.500000', 'hist-0-p048-body.nii.gz-0.500000', 'hist-1-p048-body.nii.gz-0.500000', 'hist-2-p048-body.nii.gz-0.500000', 'hist-3-p048-body.nii.gz-0.500000', 'hist-4-p048-body.nii.gz-0.500000', 'hist-5-p048-body.nii.gz-0.500000', 'hist-6-p048-body.nii.gz-0.500000', 'hist-7-p048-body.nii.gz-0.500000', 'hist-8-p048-body.nii.gz-0.500000', 'hist-9-p048-body.nii.gz-0.500000', 'hist-10-p048-body.nii.gz-0.500000', 'hist-11-p048-body.nii.gz-0.500000', 'hist-12-p048-body.nii.gz-0.500000', 'hist-13-p048-body.nii.gz-0.500000', 'hist-14-p048-body.nii.gz-0.500000', 'hist-15-p048-body.nii.gz-0.500000', 'hist-16-p048-body.nii.gz-0.500000', 'hist-17-p048-body.nii.gz-0.500000', 'hist-18-p048-body.nii.gz-0.500000', 'hist-19-p048-body.nii.gz-0.500000', 'hist-20-p048-body.nii.gz-0.500000', 'hist-21-p048-body.nii.gz-0.500000', 'hist-22-p048-body.nii.gz-0.500000', 'hist-23-p048-body.nii.gz-0.500000', 'hist-24-p048-body.nii.gz-0.500000', 'hist-25-p048-body.nii.gz-0.500000', 'hist-26-p048-body.nii.gz-0.500000', 'hist-27-p048-body.nii.gz-0.500000', 'hist-28-p048-body.nii.gz-0.500000', 'hist-29-p048-body.nii.gz-0.500000', 'hist-30-p048-body.nii.gz-0.500000', 'hist-31-p048-body.nii.gz-0.500000', 'hist-32-p048-body.nii.gz-0.500000', 'hist-33-p048-body.nii.gz-0.500000', 'hist-34-p048-body.nii.gz-0.500000', 'hist-35-p048-body.nii.gz-0.500000', 'hist-36-p048-body.nii.gz-0.500000', 'hist-37-p048-body.nii.gz-0.500000', 'hist-38-p048-body.nii.gz-0.500000', 'hist-39-p048-body.nii.gz-0.500000', 'hist-40-p048-body.nii.gz-0.500000', 'hist-41-p048-body.nii.gz-0.500000', 'hist-42-p048-body.nii.gz-0.500000', 'hist-43-p048-body.nii.gz-0.500000'] \n",
      "Score: -0.9609157100294955\n"
     ]
    },
    {
     "name": "stderr",
     "output_type": "stream",
     "text": [
      "200it [00:00, 417.95it/s]\n",
      "  0%|                                                  | 0/8000 [00:00<?, ?it/s]"
     ]
    },
    {
     "name": "stdout",
     "output_type": "stream",
     "text": [
      "1\n",
      "1 0.9635214026804734\n",
      "Objective PLSRegression_Objective:\n"
     ]
    },
    {
     "name": "stderr",
     "output_type": "stream",
     "text": [
      "  6%|██▍                                    | 500/8000 [00:00<00:12, 587.03it/s]\n",
      "55it [00:00, 546.55it/s]"
     ]
    },
    {
     "name": "stdout",
     "output_type": "stream",
     "text": [
      "iterations: 500\n",
      "Number of used features: 50\n",
      "Used features: ['num-p048-body.nii.gz-0.500000', 'sum-p048-body.nii.gz-0.500000', 'mean-p048-body.nii.gz-0.500000', 'std-p048-body.nii.gz-0.500000', 'skew-p048-body.nii.gz-0.500000', 'kurt-p048-body.nii.gz-0.500000', 'hist-0-p048-body.nii.gz-0.500000', 'hist-1-p048-body.nii.gz-0.500000', 'hist-2-p048-body.nii.gz-0.500000', 'hist-3-p048-body.nii.gz-0.500000', 'hist-4-p048-body.nii.gz-0.500000', 'hist-5-p048-body.nii.gz-0.500000', 'hist-6-p048-body.nii.gz-0.500000', 'hist-7-p048-body.nii.gz-0.500000', 'hist-8-p048-body.nii.gz-0.500000', 'hist-9-p048-body.nii.gz-0.500000', 'hist-10-p048-body.nii.gz-0.500000', 'hist-11-p048-body.nii.gz-0.500000', 'hist-12-p048-body.nii.gz-0.500000', 'hist-13-p048-body.nii.gz-0.500000', 'hist-14-p048-body.nii.gz-0.500000', 'hist-15-p048-body.nii.gz-0.500000', 'hist-16-p048-body.nii.gz-0.500000', 'hist-17-p048-body.nii.gz-0.500000', 'hist-18-p048-body.nii.gz-0.500000', 'hist-19-p048-body.nii.gz-0.500000', 'hist-20-p048-body.nii.gz-0.500000', 'hist-21-p048-body.nii.gz-0.500000', 'hist-22-p048-body.nii.gz-0.500000', 'hist-23-p048-body.nii.gz-0.500000', 'hist-24-p048-body.nii.gz-0.500000', 'hist-25-p048-body.nii.gz-0.500000', 'hist-26-p048-body.nii.gz-0.500000', 'hist-27-p048-body.nii.gz-0.500000', 'hist-28-p048-body.nii.gz-0.500000', 'hist-29-p048-body.nii.gz-0.500000', 'hist-30-p048-body.nii.gz-0.500000', 'hist-31-p048-body.nii.gz-0.500000', 'hist-32-p048-body.nii.gz-0.500000', 'hist-33-p048-body.nii.gz-0.500000', 'hist-34-p048-body.nii.gz-0.500000', 'hist-35-p048-body.nii.gz-0.500000', 'hist-36-p048-body.nii.gz-0.500000', 'hist-37-p048-body.nii.gz-0.500000', 'hist-38-p048-body.nii.gz-0.500000', 'hist-39-p048-body.nii.gz-0.500000', 'hist-40-p048-body.nii.gz-0.500000', 'hist-41-p048-body.nii.gz-0.500000', 'hist-42-p048-body.nii.gz-0.500000', 'hist-43-p048-body.nii.gz-0.500000'] \n",
      "Score: -0.9645711482316396\n"
     ]
    },
    {
     "name": "stderr",
     "output_type": "stream",
     "text": [
      "200it [00:00, 543.55it/s]"
     ]
    },
    {
     "name": "stdout",
     "output_type": "stream",
     "text": [
      "1\n",
      "1 0.9660433684008112\n"
     ]
    },
    {
     "name": "stderr",
     "output_type": "stream",
     "text": [
      "\n"
     ]
    }
   ],
   "source": [
    "for m in masks:\n",
    "    results_no_fs.append(model_selection(body_features[[c for c in body_features.columns if m in c or c == 'type']], body_target, dataset='body', type=m, disable_feature_selection=True))"
   ]
  },
  {
   "cell_type": "markdown",
   "metadata": {},
   "source": [
    "### Saving the resulst"
   ]
  },
  {
   "cell_type": "code",
   "execution_count": 46,
   "metadata": {},
   "outputs": [],
   "source": [
    "results_no_fs= pd.concat(results_no_fs)\n",
    "results_no_fs.to_csv(os.path.join(path_prefix_results,'results_no_fs.csv'), index=False)\n",
    "pickle.dump(results_no_fs, open(os.path.join(path_prefix_results,'results_no_fs.pickle'), 'wb'))"
   ]
  },
  {
   "cell_type": "code",
   "execution_count": null,
   "metadata": {},
   "outputs": [],
   "source": []
  },
  {
   "cell_type": "code",
   "execution_count": null,
   "metadata": {},
   "outputs": [],
   "source": []
  },
  {
   "cell_type": "code",
   "execution_count": null,
   "metadata": {},
   "outputs": [],
   "source": []
  },
  {
   "cell_type": "code",
   "execution_count": null,
   "metadata": {},
   "outputs": [],
   "source": []
  }
 ],
 "metadata": {
  "kernelspec": {
   "display_name": "Python 3 (ipykernel)",
   "language": "python",
   "name": "python3"
  },
  "language_info": {
   "codemirror_mode": {
    "name": "ipython",
    "version": 3
   },
   "file_extension": ".py",
   "mimetype": "text/x-python",
   "name": "python",
   "nbconvert_exporter": "python",
   "pygments_lexer": "ipython3",
   "version": "3.7.16"
  }
 },
 "nbformat": 4,
 "nbformat_minor": 4
}
